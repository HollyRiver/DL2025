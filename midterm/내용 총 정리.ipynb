{
 "cells": [
  {
   "cell_type": "markdown",
   "metadata": {},
   "source": [
    "# **중간고사 이전 내용 총 정리**"
   ]
  },
  {
   "cell_type": "code",
   "execution_count": 1,
   "metadata": {},
   "outputs": [],
   "source": [
    "import torch\n",
    "import torchvision\n",
    "\n",
    "import pandas as pd\n",
    "import numpy as np\n",
    "\n",
    "import matplotlib.pyplot as plt\n",
    "import PIL\n",
    "\n",
    "import requests\n",
    "import io"
   ]
  },
  {
   "cell_type": "markdown",
   "metadata": {},
   "source": [
    "## **1. 기본 문법**\n",
    "\n",
    "---"
   ]
  },
  {
   "cell_type": "markdown",
   "metadata": {},
   "source": [
    "### **A. 벡터와 행렬**"
   ]
  },
  {
   "cell_type": "markdown",
   "metadata": {},
   "source": [
    "`-` 선언"
   ]
  },
  {
   "cell_type": "code",
   "execution_count": null,
   "metadata": {},
   "outputs": [],
   "source": [
    "torch.tensor([1, 2, 3]) ## 벡터\n",
    "torch.tensor([[1, 2],\n",
    "              [3, 4]]) ## 행렬. 근데 사실상 둘다 차원만 다른 텐서..."
   ]
  },
  {
   "cell_type": "markdown",
   "metadata": {},
   "source": [
    "`-` 연산"
   ]
  },
  {
   "cell_type": "code",
   "execution_count": null,
   "metadata": {},
   "outputs": [],
   "source": [
    "## 덧셈\n",
    "torch.tensor([1, 2, 3]) + torch.tensor([2]*3)\n",
    "torch.tensor([1, 2, 3]) + 2 ## 브로드캐스팅 - 벡터\n",
    "torch.tensor([[1, 2],\n",
    "              [3, 4],\n",
    "              [5, 6]]) - 1 ## 브로드캐스팅 - 행렬\n",
    "\n",
    "## 열별 브로드 캐스팅\n",
    "torch.tensor([[1, 2], [3, 4], [5, 6]]) + torch.tensor([[-1],\n",
    "                                                       [-3],\n",
    "                                                       [-5]])\n",
    "\n",
    "## 벡터와의 연산 : 열벡터로 취급\n",
    "torch.tensor([[1, 2], [3, 4], [5, 6]]) + torch.tensor([1, 2])\n",
    "torch.tensor([[1, 2], [3, 4], [5, 6]]) + torch.tensor([1, 2, 3]) ## 안됨\n",
    "\n",
    "## 행별 브로드캐스팅\n",
    "torch.tensor([[1, 2], [3, 4], [5, 6]]) + torch.tensor([[-1, -2]])\n",
    "\n",
    "\n",
    "## 개별 원소 곱\n",
    "torch.tensor([[1, 2], [3, 4], [5, 6]])*0"
   ]
  },
  {
   "cell_type": "markdown",
   "metadata": {},
   "source": [
    "`-` 행렬곱"
   ]
  },
  {
   "cell_type": "code",
   "execution_count": null,
   "metadata": {},
   "outputs": [],
   "source": [
    "## 정상적인 행렬곱\n",
    "torch.tensor([[1, 2], [3, 4], [5, 6]]) @ torch.tensor([[1],\n",
    "                                                       [2]])\n",
    "torch.tensor([[1, 2], [3, 4], [5, 6]]) @ torch.tensor([1, 2]) ## 열벡터\n",
    "torch.tensor([[1, 2, 3]]) @ torch.tensor([[1, 2], [3, 4], [5, 6]])\n",
    "\n",
    "## 벡터와의 행렬곱 - 행벡터 취급\n",
    "torch.tensor([1, 2, 3]) @ torch.tensor([[1, 2], [3, 4], [5, 6]])"
   ]
  },
  {
   "cell_type": "markdown",
   "metadata": {},
   "source": [
    "`-` 전치, 차원 변경"
   ]
  },
  {
   "cell_type": "code",
   "execution_count": 16,
   "metadata": {},
   "outputs": [
    {
     "data": {
      "text/plain": [
       "tensor([[1, 3],\n",
       "        [2, 4]])"
      ]
     },
     "execution_count": 16,
     "metadata": {},
     "output_type": "execute_result"
    }
   ],
   "source": [
    "## 행렬 전치\n",
    "torch.tensor([[1, 2], [3, 4]]).T\n",
    "\n",
    "## reshape\n",
    "torch.tensor([[1,2],[3,4],[5,6]]).reshape(2,-1) ## [[1, 2, 3], [4, 5, 6]]\n",
    "torch.tensor([[1,2],[3,4],[5,6]]).reshape(-1,6)\n",
    "torch.tensor([[1,2],[3,4],[5,6]]).reshape(-1) ## 1차원 벡터"
   ]
  },
  {
   "cell_type": "markdown",
   "metadata": {},
   "source": [
    "### **B. `concat`, `stack`**"
   ]
  },
  {
   "cell_type": "markdown",
   "metadata": {},
   "source": [
    "`-` concat(차원 유지)"
   ]
  },
  {
   "cell_type": "code",
   "execution_count": 18,
   "metadata": {},
   "outputs": [
    {
     "data": {
      "text/plain": [
       "tensor([[1, 2],\n",
       "        [3, 4],\n",
       "        [5, 5]])"
      ]
     },
     "execution_count": 18,
     "metadata": {},
     "output_type": "execute_result"
    }
   ],
   "source": [
    "a = torch.tensor([[1], [3], [5]])\n",
    "b = torch.tensor([[2], [4], [5]])\n",
    "torch.concat([a, b], axis = 1)"
   ]
  },
  {
   "cell_type": "markdown",
   "metadata": {},
   "source": [
    "`-` stack(차원 늘림)"
   ]
  },
  {
   "cell_type": "code",
   "execution_count": 19,
   "metadata": {},
   "outputs": [
    {
     "data": {
      "text/plain": [
       "tensor([[1, 2],\n",
       "        [3, 4],\n",
       "        [5, 6]])"
      ]
     },
     "execution_count": 19,
     "metadata": {},
     "output_type": "execute_result"
    }
   ],
   "source": [
    "a = torch.tensor([1, 3, 5])\n",
    "b = torch.tensor([2, 4, 6])\n",
    "torch.stack([a, b], axis = 1)"
   ]
  },
  {
   "cell_type": "code",
   "execution_count": 21,
   "metadata": {},
   "outputs": [
    {
     "data": {
      "text/plain": [
       "tensor([[1, 2],\n",
       "        [3, 4],\n",
       "        [5, 6]])"
      ]
     },
     "execution_count": 21,
     "metadata": {},
     "output_type": "execute_result"
    }
   ],
   "source": [
    "torch.concat([a.reshape(-1, 1), b.reshape(-1, 1)], axis = 1)"
   ]
  },
  {
   "cell_type": "markdown",
   "metadata": {},
   "source": [
    "### **C. `torch.einsum()`**"
   ]
  },
  {
   "cell_type": "markdown",
   "metadata": {},
   "source": [
    "`-` 전치 : transpose"
   ]
  },
  {
   "cell_type": "code",
   "execution_count": null,
   "metadata": {},
   "outputs": [],
   "source": [
    "X = torch.randn(5, 2) ## X.t() ## X.T\n",
    "\n",
    "## 전치\n",
    "torch.einsum(\"ij -> ji\", X)\n",
    "X.permute(1, 0)"
   ]
  },
  {
   "cell_type": "markdown",
   "metadata": {},
   "source": [
    "`-` 행렬곱"
   ]
  },
  {
   "cell_type": "code",
   "execution_count": null,
   "metadata": {},
   "outputs": [],
   "source": [
    "X = torch.randn(5,2)\n",
    "b = torch.randn(2,1) ## X@b\n",
    "\n",
    "## 행렬곱\n",
    "torch.einsum(\"ij, jk -> ik\", X, b)"
   ]
  },
  {
   "cell_type": "markdown",
   "metadata": {},
   "source": [
    "`-` `linr`와 텐서 행렬곱"
   ]
  },
  {
   "cell_type": "code",
   "execution_count": null,
   "metadata": {},
   "outputs": [],
   "source": [
    "X =  torch.randn(5,2)\n",
    "linr = torch.nn.Linear(2,1,bias=True) ## linr(X)\n",
    "\n",
    "## linr.weight는 행벡터이므로, 전치하여 곱함 : jk -> kj\n",
    "torch.einsum(\"ij, kj -> ik\", X, linr.weight) + linr.bias ## 일반 텐서"
   ]
  },
  {
   "cell_type": "markdown",
   "metadata": {},
   "source": [
    "`-` CAM을 위한 이미지 변환"
   ]
  },
  {
   "cell_type": "code",
   "execution_count": null,
   "metadata": {},
   "outputs": [],
   "source": [
    "torch.einsum(\"ochw, kc -> khw\", torch_img, linr.weight.data) + linr.bias.data"
   ]
  },
  {
   "cell_type": "markdown",
   "metadata": {},
   "source": [
    "### **D. 부가 사항**"
   ]
  },
  {
   "cell_type": "markdown",
   "metadata": {},
   "source": [
    "`-` 사용자 정의 네트워크"
   ]
  },
  {
   "cell_type": "code",
   "execution_count": 216,
   "metadata": {},
   "outputs": [],
   "source": [
    "class H(torch.nn.Module) :\n",
    "    def __init__(self) :\n",
    "        super().__init__() ## 슈퍼 클래스의 __init__을 그대로 상속\n",
    "\n",
    "    def forward(self, u) :\n",
    "        ## 메소드 오버라이딩\n",
    "        h = lambda x : torch.sigmoid(200*(x+0.5)) + torch.sigmoid(-200*(x-0.5)) - 1.0\n",
    "        v = h(u)\n",
    "        return v"
   ]
  },
  {
   "cell_type": "markdown",
   "metadata": {},
   "source": [
    "`-` 확률적 경사하강법 장점\n",
    "\n",
    "* GPU 메모리를 덜 사용함\n",
    "* 에폭 별 학습에 데이터 전체를 사용하지 않아 오버피팅을 방지(배깅 느낌)\n",
    "* 최적화 도중 로컬 미니멈에 빠져도 잘 빠져나옴"
   ]
  },
  {
   "cell_type": "markdown",
   "metadata": {},
   "source": [
    "`-` 배치 및 GPU 학습"
   ]
  },
  {
   "cell_type": "code",
   "execution_count": null,
   "metadata": {},
   "outputs": [],
   "source": [
    "## 배치 생성\n",
    "ds_train = torch.utils.data.TensorDataset(X, y)\n",
    "dl_train = torch.utils.data.DataLoader(ds_train, batch_size = 1024, shuffle = True)\n",
    "\n",
    "ds_test = torch.utils.data.TensorDataset(XX, yy)\n",
    "dl_test = torch.utils.data.DataLoarder(dl_test, batch_size = 1024) ## 테스트라 셔플 X"
   ]
  },
  {
   "cell_type": "code",
   "execution_count": null,
   "metadata": {},
   "outputs": [],
   "source": [
    "## GPU 할당 및 학습\n",
    "net.to(\"cuda:0\")\n",
    "\n",
    "##---## 에폭 수는 기존 에폭 / (len(X)/batch_size)\n",
    "for epoc in range(100) :\n",
    "    ## training\n",
    "    net.train()\n",
    "    \n",
    "    for Xm, ym in dl_train :\n",
    "        Xm = Xm.to(\"cuda:0\")\n",
    "        ym = ym.to(\"cuda:0\")\n",
    "        netout = net(Xm)\n",
    "\n",
    "        loss = loss_fn(netout, ym)\n",
    "        loss.backward()\n",
    "    \n",
    "        optimizr.step()\n",
    "        optimizr.zero_grad()\n",
    "\n",
    "    ## evaluation\n",
    "    if epoc % 50 == 0 :\n",
    "        net.eval()\n",
    "    \n",
    "        s = 0\n",
    "        \n",
    "        for Xm, ym in dl_train :\n",
    "            Xm = Xm.to(\"cuda:0\")\n",
    "            ym = ym.to(\"cuda:0\")\n",
    "    \n",
    "            s += ((net(Xm) > 0.0) == ym).sum() ## BCEWithLogitsLoss일때\n",
    "    \n",
    "        train_acc = s/len(X)\n",
    "        print(f\"epoch : {epoc},\\ttrain_acc = {train_acc:.4f}\")"
   ]
  },
  {
   "cell_type": "code",
   "execution_count": null,
   "metadata": {},
   "outputs": [],
   "source": [
    "## GPU 메모리 초기화\n",
    "torch.cuda.empty_cache()"
   ]
  },
  {
   "cell_type": "markdown",
   "metadata": {},
   "source": [
    "`-` 평가\n",
    "\n",
    "* **MSE**"
   ]
  },
  {
   "cell_type": "code",
   "execution_count": null,
   "metadata": {},
   "outputs": [],
   "source": [
    "net.eval()\n",
    "\n",
    "train_mse = torch.mean((y - net(X).data)**2) ## loss_fn(net(X), y)\n",
    "test_mse = torch.mean((yy - net(XX).data)**2) ## loss_fn(net(XX), yy)"
   ]
  },
  {
   "cell_type": "markdown",
   "metadata": {},
   "source": [
    "* **이진 분류 : Accuracy**"
   ]
  },
  {
   "cell_type": "code",
   "execution_count": null,
   "metadata": {},
   "outputs": [],
   "source": [
    "net.eval()\n",
    "\n",
    "## 확률을 비교하는 경우\n",
    "train_acc = ((net(X) > 0.5) == y).float().mean() ## loss_fn(net(X), y)\n",
    "test_acc = ((net(XX) > 0.5) == yy).float().mean() ## loss_fn(net(XX), yy)"
   ]
  },
  {
   "cell_type": "code",
   "execution_count": null,
   "metadata": {},
   "outputs": [],
   "source": [
    "net.eval()\n",
    "\n",
    "## 로짓을 비교하는 경우\n",
    "train_acc = ((net(X) > 0.0) == y).float().mean() ## loss_fn(net(X), y)\n",
    "test_acc = ((net(XX) > 0.0) == yy).float().mean() ## loss_fn(net(XX), yy)"
   ]
  },
  {
   "cell_type": "markdown",
   "metadata": {},
   "source": [
    "* **다항분류 : Accuracy**"
   ]
  },
  {
   "cell_type": "code",
   "execution_count": null,
   "metadata": {},
   "outputs": [],
   "source": [
    "net.eval()\n",
    "\n",
    "## 다항분류의 경우\n",
    "train_acc = (net(X).argmax(axis = 1) == y.argmax(axis = 1)).float().mean()\n",
    "test_acc = (net(XX).argmax(axis = 1) == yy.argmax(axis = 1)).float().mean()"
   ]
  },
  {
   "cell_type": "markdown",
   "metadata": {},
   "source": [
    "* 배치 사용 시"
   ]
  },
  {
   "cell_type": "code",
   "execution_count": null,
   "metadata": {},
   "outputs": [],
   "source": [
    "s = 0\n",
    "\n",
    "for Xm, ym in dl_train :\n",
    "    Xm = Xm.to(\"cuda:0\")\n",
    "    ym = ym.to(\"cuda:0\")\n",
    "\n",
    "    s += torch.sum((ym - net(Xm).data)**2)\n",
    "    # s += ((net(Xm) > 0.0) == ym).sum()\n",
    "    # s += ((net(Xm) > 0.5) == ym).sum()\n",
    "    # s += (net(Xm).argmax(axis = 1) == ym.argmax(axis = 1)).sum()\n",
    "\n",
    "train_mse = s/len(X)"
   ]
  },
  {
   "cell_type": "markdown",
   "metadata": {},
   "source": [
    "## **2. 파라메터 count**\n",
    "\n",
    "---"
   ]
  },
  {
   "cell_type": "markdown",
   "metadata": {},
   "source": [
    "> 이거 쓰면 한번에 검산 가능"
   ]
  },
  {
   "cell_type": "code",
   "execution_count": null,
   "metadata": {},
   "outputs": [],
   "source": [
    "sum([torch.prod(torch.tensor(l.shape)) for l in net.parameters()]).item()"
   ]
  },
  {
   "cell_type": "markdown",
   "metadata": {},
   "source": [
    "`-` 1차원 선형 네트워크의 경우\n",
    "\n",
    "```Python\n",
    "net = torch.nn.Sequential(\n",
    "    torch.nn.Linear(64, 1024, bias = False),\n",
    "    torch.nn.Sigmoid(),\n",
    "    torch.nn.Linear(1024, 1, bias = True)\n",
    ")\n",
    "```"
   ]
  },
  {
   "cell_type": "markdown",
   "metadata": {},
   "source": [
    "> `in_features` $\\times$ `out_features` + `output_channels`(`bias`)"
   ]
  },
  {
   "cell_type": "code",
   "execution_count": 8,
   "metadata": {},
   "outputs": [
    {
     "data": {
      "text/plain": [
       "66561"
      ]
     },
     "execution_count": 8,
     "metadata": {},
     "output_type": "execute_result"
    }
   ],
   "source": [
    "(64*1024) + (1024*1 + 1)"
   ]
  },
  {
   "cell_type": "markdown",
   "metadata": {},
   "source": [
    "`-` 컨볼루션 커널을 포함하는 경우\n",
    "\n",
    "```Python\n",
    "net = torch.nn.Sequential(\n",
    "    torch.nn.Conv2d(3, 64, kernel_size = 3, bias = True),\n",
    "    torch.nn.ReLU(),\n",
    "    torch.nn.MaxPool2d(kernel_size = 3),\n",
    "    torch.nn.Flatten(),\n",
    "    torch.nn.Linear(6400, 1)\n",
    ")\n",
    "```"
   ]
  },
  {
   "cell_type": "markdown",
   "metadata": {},
   "source": [
    "> `input_channels` $\\times$ `output_channels` $\\times$ `kernel_size`$^2$ + `output_channels`(`bias`)"
   ]
  },
  {
   "cell_type": "code",
   "execution_count": 39,
   "metadata": {},
   "outputs": [
    {
     "data": {
      "text/plain": [
       "8193"
      ]
     },
     "execution_count": 39,
     "metadata": {},
     "output_type": "execute_result"
    }
   ],
   "source": [
    "(3*64*3**2 + 64) + (6400*1 + 1)"
   ]
  },
  {
   "cell_type": "markdown",
   "metadata": {},
   "source": [
    "## **3. 최적화**\n",
    "\n",
    "---"
   ]
  },
  {
   "cell_type": "markdown",
   "metadata": {},
   "source": [
    "**항상 문제가 생겼을 땐 학습률이나 에폭을 먼저 조정해볼 것**"
   ]
  },
  {
   "cell_type": "markdown",
   "metadata": {},
   "source": [
    "### **A. 이차함수**"
   ]
  },
  {
   "cell_type": "markdown",
   "metadata": {},
   "source": [
    "`-` convex의 경우"
   ]
  },
  {
   "cell_type": "code",
   "execution_count": 39,
   "metadata": {},
   "outputs": [],
   "source": [
    "## convex function 자리\n",
    "def f(x) :\n",
    "    return (x-1)**2\n",
    "\n",
    "What = torch.tensor([3.0], requires_grad = True)\n",
    "\n",
    "for epoc in range(300) :\n",
    "    l = f(What)\n",
    "    l.backward()\n",
    "    What.data -= 0.1*What.grad\n",
    "    What.grad = None"
   ]
  },
  {
   "cell_type": "code",
   "execution_count": 46,
   "metadata": {},
   "outputs": [
    {
     "name": "stdout",
     "output_type": "stream",
     "text": [
      "함수를 최소화하는 x값 = 1.0000\n"
     ]
    }
   ],
   "source": [
    "print(f\"함수를 최소화하는 x값 = {What.data.item():.4f}\")"
   ]
  },
  {
   "cell_type": "markdown",
   "metadata": {},
   "source": [
    "`-` concave의 경우"
   ]
  },
  {
   "cell_type": "code",
   "execution_count": 93,
   "metadata": {},
   "outputs": [
    {
     "name": "stdout",
     "output_type": "stream",
     "text": [
      "함수를 최소화하는 x값 = 3.0000\n"
     ]
    }
   ],
   "source": [
    "## concave function 자리\n",
    "def f(x) :\n",
    "    return (-x**2 + 6*x - 9)\n",
    "\n",
    "What = torch.tensor([0.0], requires_grad = True)\n",
    "\n",
    "for epoc in range(300) :\n",
    "    l = -f(What) ## 함수를 뒤집으면 최소화 문제가 됨\n",
    "    l.backward()\n",
    "    What.data -= 0.1*What.grad\n",
    "    What.grad = None\n",
    "\n",
    "print(f\"함수를 최소화하는 x값 = {What.data.item():.4f}\")"
   ]
  },
  {
   "cell_type": "markdown",
   "metadata": {},
   "source": [
    "### **B. 정규분포 MLE**"
   ]
  },
  {
   "cell_type": "markdown",
   "metadata": {},
   "source": [
    "`-` 함수 $l(\\mu, \\sigma)$를 최대화하는 $(\\mu, \\sigma)$ 추정\n",
    "\n",
    "$$l(\\mu, \\sigma) = \\sum_{i=1}^{n} \\log f(x_i), ~ f(x_i) = \\frac{1}{\\sqrt{2\\pi}\\sigma} \\exp \\bigg(- \\frac{(x_i - \\mu)^2}{2\\sigma^2} \\bigg)$$"
   ]
  },
  {
   "cell_type": "code",
   "execution_count": 124,
   "metadata": {},
   "outputs": [],
   "source": [
    "## given x format : matrix\n",
    "x = torch.randn((10000, 1))*2 + 3"
   ]
  },
  {
   "cell_type": "code",
   "execution_count": 129,
   "metadata": {},
   "outputs": [
    {
     "name": "stdout",
     "output_type": "stream",
     "text": [
      "추정된 mu값 = 2.9871\n",
      "추정된 sigma값 = 1.9993\n"
     ]
    }
   ],
   "source": [
    "## 정규분포 -log likelihood function\n",
    "def neg_l(mu, sigma) :\n",
    "    \"\"\"\n",
    "    가능도는 최대화해야 하므로, 최적화를 위해서 음수로 바꿔줌\n",
    "    평균을 최대화하는 것과 동일하므로 torch.mean을 사용\n",
    "    \"\"\"\n",
    "    fx = 1/((2*torch.pi)**0.5 * sigma) * torch.exp(-(x - mu)**2 / (2*sigma**2))\n",
    "    return -torch.mean(torch.log(fx))\n",
    "\n",
    "theta = torch.tensor([0.0, 1.0], requires_grad = True)\n",
    "\n",
    "for epoc in range(300) :\n",
    "    l = neg_l(theta[0], theta[1])\n",
    "    l.backward()\n",
    "    theta.data -= 0.1*theta.grad\n",
    "    theta.grad = None\n",
    "\n",
    "print(f\"추정된 mu값 = {theta.data[0]:.4f}\\n추정된 sigma값 = {theta.data[1]:.4f}\")"
   ]
  },
  {
   "cell_type": "markdown",
   "metadata": {},
   "source": [
    "### **C. 베르누이 MLE**"
   ]
  },
  {
   "cell_type": "markdown",
   "metadata": {},
   "source": [
    "`-` 함수 `l(p)`를 최대화하는 $p$ 추정\n",
    "\n",
    "$$l(p) = \\sum_{i=1}^{n} \\log f(x_i), ~ f(x_i) = p^{x_i} (1-p)^{1-x_i}$$"
   ]
  },
  {
   "cell_type": "code",
   "execution_count": 130,
   "metadata": {},
   "outputs": [],
   "source": [
    "## given x format : matrix\n",
    "x = torch.bernoulli(torch.tensor([0.8]*10000)).reshape(-1,1)"
   ]
  },
  {
   "cell_type": "code",
   "execution_count": 131,
   "metadata": {},
   "outputs": [],
   "source": [
    "## 베르누이 -log likelihood function\n",
    "def neg_l(p) :\n",
    "    \"\"\"\n",
    "    가능도는 최대화해야 하므로, 최적화를 위해서 음수로 바꿔줌\n",
    "    평균을 최대화하는 것과 동일하므로 torch.mean을 사용\n",
    "    \"\"\"\n",
    "    fx = p**x * (1-p)**(1-x)\n",
    "    return -torch.mean(torch.log(fx))\n",
    "\n",
    "phat = torch.tensor([0.5], requires_grad = True) ## 반반에서 시작\n",
    "\n",
    "for epoc in range(300) :\n",
    "    l = neg_l(phat)\n",
    "    l.backward()\n",
    "    phat.data -= 0.1*phat.grad\n",
    "    phat.grad = None\n",
    "\n",
    "print(f\"추정된 p값 = {phat.data[0]:.4f}\")"
   ]
  },
  {
   "cell_type": "markdown",
   "metadata": {},
   "source": [
    "### **D. 회귀모형의 MLE**"
   ]
  },
  {
   "cell_type": "markdown",
   "metadata": {},
   "source": [
    "`-` 함수 $l(\\beta_0, \\beta_1)$을 최대화하는 $(\\beta_0, \\beta_1)$을 추정\n",
    "\n",
    "$$l(\\beta_0, \\beta_1) = \\sum_{i=1}^{n} \\log f(y_i), ~ f(y_i) = \\frac{1}{\\sqrt{2 \\pi}} e^{-\\frac12 (y_i - \\mu_i)^2}, ~ \\mu_i = \\beta_0 + \\beta_1 x_i$$"
   ]
  },
  {
   "cell_type": "code",
   "execution_count": 136,
   "metadata": {},
   "outputs": [],
   "source": [
    "## given x, y : matrix\n",
    "x = torch.linspace(0,1,10000).reshape(10000,1)\n",
    "y = 0.5+2*x + torch.randn(10000,1)"
   ]
  },
  {
   "cell_type": "code",
   "execution_count": 161,
   "metadata": {},
   "outputs": [],
   "source": [
    "def neg_l(Bhat) :\n",
    "    \"\"\"\n",
    "    가능도는 최대화해야 하므로, 최적화를 위해서 음수로 바꿔줌\n",
    "    평균을 최대화하는 것과 동일하므로 torch.mean을 사용\n",
    "    \"\"\"\n",
    "    mu = Bhat[0] + Bhat[1]*x\n",
    "    fy = 1/((2*torch.pi)**0.5) * torch.exp(-0.5 * (y - mu)**2)\n",
    "    return -torch.mean(torch.log(fy))\n",
    "\n",
    "Bhat = torch.tensor([1.0, 1.0], requires_grad = True)\n",
    "\n",
    "for epoc in range(1000) :\n",
    "    l = neg_l(Bhat)\n",
    "    l.backward()\n",
    "    Bhat.data -= 0.1*Bhat.grad\n",
    "    Bhat.grad = None\n",
    "\n",
    "print(f\"추정된 beta0 = {Bhat[0]:.4f}\\n추정된 beta1 = {Bhat[1]:.4f}\")"
   ]
  },
  {
   "cell_type": "markdown",
   "metadata": {},
   "source": [
    "### **E. 로지스틱모형의 MLE**"
   ]
  },
  {
   "cell_type": "markdown",
   "metadata": {},
   "source": [
    "`-` 함수 $l(w_0, w_1)$을 최대화하는 파라미터 $(w_0, w_1)$을 추정\n",
    "\n",
    "$$l(w_0, w_1) = \\sum_{i=1}^n \\log f(y_i), ~ f(x_i) = \\pi_i^{y_i} (1-\\pi_i)^{1-y_i}, ~ \\pi_i = \\frac{\\exp(w_0 + w_1 x_i)}{1 + \\exp(w_0 + w_1 x_i)}$$"
   ]
  },
  {
   "cell_type": "code",
   "execution_count": 173,
   "metadata": {},
   "outputs": [],
   "source": [
    "## given x, y, p : matrix\n",
    "x = torch.linspace(-1,1,10000).reshape(10000,1)\n",
    "pi = torch.exp(-1 + 0.5* x) / (1 + torch.exp(-1 + 0.5 * x))\n",
    "y = torch.bernoulli(pi)"
   ]
  },
  {
   "cell_type": "code",
   "execution_count": 176,
   "metadata": {},
   "outputs": [],
   "source": [
    "def neg_l(What) :\n",
    "    \"\"\"\n",
    "    가능도는 최대화해야 하므로, 최적화를 위해서 음수로 바꿔줌\n",
    "    평균을 최대화하는 것과 동일하므로 torch.mean을 사용\n",
    "    \"\"\"\n",
    "    pi = 1 / (1 + torch.exp(-(What[0] + What[1] * x)))\n",
    "    fx = pi**y * (1-pi)**(1-y)\n",
    "    return -torch.mean(torch.log(fx))\n",
    "\n",
    "What = torch.tensor([1.0, 1.0], requires_grad = True)\n",
    "\n",
    "for epoc in range(500) :\n",
    "    l = neg_l(What)\n",
    "    l.backward()\n",
    "    What.data -= 0.1*What.grad\n",
    "    What.grad = None\n",
    "\n",
    "print(f\"추정된 w0 = {What[0]:.4f}\\n추정된 w1 = {What[1]:.4f}\")"
   ]
  },
  {
   "cell_type": "markdown",
   "metadata": {},
   "source": [
    "`-` $-l(w_0, w_1)$이 BCE loss의 계산식과 동일한 형태임을 이용한 풀이"
   ]
  },
  {
   "cell_type": "code",
   "execution_count": 188,
   "metadata": {},
   "outputs": [],
   "source": [
    "net = torch.nn.Sequential(\n",
    "    torch.nn.Linear(1, 1),\n",
    "    torch.nn.Sigmoid()\n",
    ")\n",
    "\n",
    "loss_fn = torch.nn.BCELoss()\n",
    "optimizr = torch.optim.SGD(net.parameters(), lr = 0.1)\n",
    "\n",
    "for epoc in range(1000) :\n",
    "    yhat = net(x)\n",
    "    loss = loss_fn(yhat, y)\n",
    "    loss.backward()\n",
    "    optimizr.step()\n",
    "    optimizr.zero_grad()\n",
    "\n",
    "print(f\"추정된 w0 = {net[0].bias.data.item():.4f}\\n추정된 w1 = {net[0].weight.data.item():.4f}\")"
   ]
  },
  {
   "cell_type": "markdown",
   "metadata": {},
   "source": [
    "## **4. 회귀**\n",
    "\n",
    "---"
   ]
  },
  {
   "cell_type": "markdown",
   "metadata": {},
   "source": [
    "### **A. 단순선형회귀**"
   ]
  },
  {
   "cell_type": "markdown",
   "metadata": {},
   "source": [
    "* 단순선형회귀에서 최적화하고자 하는 파라미터"
   ]
  },
  {
   "cell_type": "markdown",
   "metadata": {},
   "source": [
    "$$ loss(\\hat{w}_0,\\hat{w}_1) := loss(\\hat{\\bf W})=\\sum_{i=1}^{n}(y_i-(\\hat{w}_0+\\hat{w}_1x_i))^2=({\\bf y}-{\\bf X}{\\bf \\hat{W}})^\\top({\\bf y}-{\\bf X}{\\bf \\hat{W}})$$\n",
    "\n",
    "$$\\hat{\\bf W}^{LSE} = \\underset{\\bf \\hat{W}}{\\operatorname{argmin}} ~ loss(\\hat{\\bf W})$$\n",
    "\n",
    "> 위의 식은\n",
    "> $\\hat{\\bf W} = \\underset{\\bf W}{\\operatorname{argmin}} ~ loss({\\bf W})$\n",
    "> 로 생각해도 무방"
   ]
  },
  {
   "cell_type": "markdown",
   "metadata": {},
   "source": [
    "* LSE\n",
    "\n",
    "$$\\hat \\beta ^{LSE} = (\\bf X^{\\top}X) ^{-1} X^{\\top} y$$\n",
    "\n",
    "> 주어진 데이터 하에서 loss를 최소로 만드는 모수의 추정값은 최소제곱추정량과 일치한다. 따라서 epoch을 증가시켜도 경사하강법으로 추정된 값은 LSE에 수렴할 뿐, 참 값으로 수렴할 순 없다."
   ]
  },
  {
   "cell_type": "markdown",
   "metadata": {},
   "source": [
    "`-` 쌩으로 구현(미분만 사용)"
   ]
  },
  {
   "cell_type": "code",
   "execution_count": 85,
   "metadata": {
    "vscode": {
     "languageId": "plaintext"
    }
   },
   "outputs": [],
   "source": [
    "## data\n",
    "What = torch.tensor([[1.0],\n",
    "                     [2.0]], requires_grad = True) ## 매개변수 넣어야 미분 가능\n",
    "X = torch.concat([torch.ones(len(x), 1), x], axis = 1)\n",
    "\n",
    "##---##\n",
    "for epoc in range(1000) :\n",
    "    yhat = X@What\n",
    "    \n",
    "    loss = torch.mean((yhat-y)**2)\n",
    "    loss.backward()\n",
    "\n",
    "    What.data -= 0.01*What.grad ## learning rate == 0.01 -> nan 나오면 이걸 조정\n",
    "    What.grad = None\n",
    "\n",
    "print(f\"추정된 w0 = {What.data[0][0]:.4f}\\n추정된 w1 = {What.data[0][1]:.4f}\")"
   ]
  },
  {
   "cell_type": "markdown",
   "metadata": {},
   "source": [
    "`-` 네트워크, 손실함수, 옵티마이저 사용"
   ]
  },
  {
   "cell_type": "code",
   "execution_count": 92,
   "metadata": {},
   "outputs": [],
   "source": [
    "## 네트워크 초기 설정\n",
    "net = torch.nn.Linear(in_features = 1, out_features = 1, bias = True)\n",
    "net.weight.data = torch.tensor([[1.0]]) ## 행벡터로 삽입\n",
    "net.bias.data = torch.tensor([1.0])\n",
    "\n",
    "loss_fn = torch.nn.MSELoss()\n",
    "optimizr = torch.optim.SGD(net.parameters(), lr = 0.01)\n",
    "\n",
    "##---##\n",
    "for epoc in range(1000) :\n",
    "    yhat = net(X)\n",
    "    \n",
    "    loss = loss_fn(yhat, y) ## torch.mean((y - yhat)**2)\n",
    "    loss.backward()\n",
    "\n",
    "    optimizr.step() ## What.data -= 0.01*What.grad\n",
    "    optimizr.zero_grad() ## What.grad = None\n",
    "\n",
    "print(f\"추정된 w0 = {net.bias.data[0]:.4f}\\n추정된 w1 = {net.weight.data.item():.4f}\")"
   ]
  },
  {
   "cell_type": "markdown",
   "metadata": {},
   "source": [
    "## **5. 분류**\n",
    "\n",
    "---"
   ]
  },
  {
   "cell_type": "markdown",
   "metadata": {},
   "source": [
    "### **A. 로지스틱**"
   ]
  },
  {
   "cell_type": "markdown",
   "metadata": {},
   "source": [
    "`-` 로지스틱\n",
    "\n",
    "> 이진 분류 문제를 해결하기 위한 가장 기초적인 모형\n",
    ">\n",
    "> 꺾이지 않은 선형 구조만 제대로 설명할 수 있다는 점에서 모형의 표현력이 다소 낮음"
   ]
  },
  {
   "cell_type": "markdown",
   "metadata": {},
   "source": [
    "-   회귀모형: $y_i \\sim {\\cal N}(w_0+w_1x_i, \\sigma^2)$ -> 정규분포의 평균 예측\n",
    "\n",
    "-   로지스틱: $y_i \\sim {\\cal B}(\\pi_i),\\quad$ where $\\pi_i = \\frac{\\exp(w_0+w_1x_i)}{1+\\exp(w_0+w_1x_i)} = \\frac{1}{1+\\exp(-w_0-w_1x_i)}$\n",
    "> 베르누이의 평균(확률값)을 예측"
   ]
  },
  {
   "cell_type": "markdown",
   "metadata": {},
   "source": [
    "`-` 쌩으로 구현(미분만 이용)"
   ]
  },
  {
   "cell_type": "code",
   "execution_count": 154,
   "metadata": {},
   "outputs": [],
   "source": [
    "X = torch.randn((100, 1))\n",
    "prob = 1 / (1 + torch.exp(- X @ torch.tensor([[2.0]]) - 0.5))\n",
    "y = torch.bernoulli(prob)"
   ]
  },
  {
   "cell_type": "code",
   "execution_count": 155,
   "metadata": {},
   "outputs": [],
   "source": [
    "What = torch.tensor([[1.0],\n",
    "                     [1.0]], requires_grad = True) ## 절편 추가\n",
    "\n",
    "def sigmoid(x) :\n",
    "    return 1/(1+torch.exp(-(What[0] + What[1]*x)))\n",
    "\n",
    "for epoc in range(1000) :\n",
    "    yhat = sigmoid(X)\n",
    "\n",
    "    ## MLE니까 가능도가 가장 높은 -> -l이 가장 작은 것을 찾는 최적화 문제로 바꿈\n",
    "    loss = -torch.sum(y*torch.log(yhat) + (1-y)*torch.log(1-yhat)) ## 강의 노트엔 그냥 MSELoss 쓰긴 함...\n",
    "    loss.backward()\n",
    "    \n",
    "    What.data -= 0.1*What.grad\n",
    "    What.grad = None"
   ]
  },
  {
   "cell_type": "markdown",
   "metadata": {},
   "source": [
    "`-` 네트워크, BCELoss, Adam 사용"
   ]
  },
  {
   "cell_type": "code",
   "execution_count": 195,
   "metadata": {},
   "outputs": [],
   "source": [
    "net = torch.nn.Sequential(\n",
    "    torch.nn.Linear(1, 1), ## 이진 분류문제이므로 y의 차원은 1\n",
    "    torch.nn.Sigmoid()\n",
    ")\n",
    "net[0].weight.data = torch.tensor([[1.0]])\n",
    "net[0].bias.data = torch.tensor([1.0])\n",
    "\n",
    "loss_fn = torch.nn.BCELoss()\n",
    "\n",
    "## 지역 최소값에 잘 빠지지 않고, 최적화 속도가 빠름\n",
    "optimizr = torch.optim.Adam(net.parameters(), lr = 0.1)\n",
    "\n",
    "##---##\n",
    "for epoc in range(300) :\n",
    "    yhat = net(X)\n",
    "    \n",
    "    loss = loss_fn(yhat, y)\n",
    "    loss.backward()\n",
    "    \n",
    "    optimizr.step()\n",
    "    optimizr.zero_grad()"
   ]
  },
  {
   "cell_type": "markdown",
   "metadata": {},
   "source": [
    "### **B. 다항분류**"
   ]
  },
  {
   "cell_type": "markdown",
   "metadata": {},
   "source": [
    "`-` 분류별 이론\n",
    "\n",
    "|**분류**|**오차항의 가정**|**마지막 활성화함수**|**손실함수**|\n",
    "|:-:|:-:|:-:|:-:|\n",
    "|이항분류|이항분포|sigmoid|Binary Cross Entropy|\n",
    "|다항분류|다항분포|softmax|Cross Entropy|\n",
    "\n",
    "\n",
    "> 소프트 맥스 == 일반화 로짓 -> 나온 로짓 값에 지수함수 먹이고 상대비율로 추정"
   ]
  },
  {
   "cell_type": "markdown",
   "metadata": {},
   "source": [
    "`-` 코딩용\n",
    "\n",
    "|**분류**|**netout의 의미**|**손실함수**|\n",
    "|:-:|:-:|:-:|\n",
    "|이항분류|prob|`BCELoss`|\n",
    "|이항분류|logit|`BCEWithLogitsLoss`|\n",
    "|다항분류|prob|그런거 없음|\n",
    "|다항분류|logits|`CrossEntropyLoss`|"
   ]
  },
  {
   "cell_type": "markdown",
   "metadata": {},
   "source": [
    "`-` 원-핫 인코딩\n",
    "\n",
    "> `y`가 정수형(`long()`)일 경우 파이토치가 알아서 범주형으로 인식"
   ]
  },
  {
   "cell_type": "code",
   "execution_count": null,
   "metadata": {},
   "outputs": [],
   "source": [
    "y = torch.nn.functional.one_hot(y.reshape(-1).long()) ## 1차원 정수형이여야 함"
   ]
  },
  {
   "cell_type": "markdown",
   "metadata": {},
   "source": [
    "### **C. 신경망, 시벤코 정리, `ReLU`**"
   ]
  },
  {
   "cell_type": "markdown",
   "metadata": {},
   "source": [
    "`-` 시벤코 정리\n",
    "\n",
    "> 하나의 은닉층을 가지는 네트워크는 모든 보렐 가측함수 $f: {\\bf X}_{n \\times p} \\to {\\bf y}_{n\\times q}$를 원하는 정확도로 근사시킬 수 있음\n",
    ">\n",
    "> 이 때, 은닉층의 활성화함수는 어떤 것이여도 상관없음 (`ReLU`, `Sidmoid`, `H`, ...)\n",
    ">\n",
    "> 즉, 하나의 은닉층을 가진 신경망의 표현력은 거의 무한대라 볼 수 있음\n",
    ">\n",
    "> 무한한 표현력 때문에 모형이 맞추지 말아야 할 오차항까지 맞출 수 있음.\n",
    ">\n",
    "> 네트워크가 학습하지 못한 자료에서도 신경망이 올바르게 작동한다는 보장은 없음."
   ]
  },
  {
   "cell_type": "markdown",
   "metadata": {},
   "source": [
    "`-` 특징\n",
    "\n",
    "```Python\n",
    "## 레이어가 2개인 신경망\n",
    "torch.nn.Sequential(\n",
    "    torch.nn.Linear(),\n",
    "    torch.nn.ReLU(),\n",
    "    torch.nn.Linear()\n",
    ")\n",
    "```\n",
    "\n",
    "* 꺾인 그래프를 만들어 선형 모형의 표현력을 확보\n",
    "* 언더라잉이 로지스틱이라면 신경망의 성능이 더 안좋을 수 있음(Test dataset에서)\n",
    "* 신경망의 경우 회귀분석과 달리 여러 개의 최적값이 존재할 수 있음 -> 한 개의 global minimum만 가지지 않을 수 있음"
   ]
  },
  {
   "cell_type": "markdown",
   "metadata": {},
   "source": [
    "`-` 신경망의 표현"
   ]
  },
  {
   "cell_type": "markdown",
   "metadata": {},
   "source": [
    "$$\\underset{(n,784)}{\\bf X} \\overset{l_1}{\\to} \\underset{(n,32)}{\\boldsymbol u^{(1)}} \\overset{relu}{\\to} \\underset{(n,32)}{\\boldsymbol v^{(1)}} \\overset{l_2}{\\to} \\underset{(n,1)}{\\boldsymbol u^{(2)}} \\overset{sig}{\\to} \\underset{(n,1)}{\\boldsymbol v^{(2)}} =\\underset{(n,1)}{\\hat{\\boldsymbol y}}$$"
   ]
  },
  {
   "cell_type": "markdown",
   "metadata": {},
   "source": [
    "* $l_k$ : 선형 변환 -> 아래의 괄호로 변환된 차원 확인\n",
    "\n",
    "> 보통 $u$라고 표기하기도 함\n",
    "\n",
    "* $relu, ~ sig$ : 비선형 변환, 파라미터 없음"
   ]
  },
  {
   "cell_type": "markdown",
   "metadata": {},
   "source": [
    "`-` `ReLU`"
   ]
  },
  {
   "cell_type": "code",
   "execution_count": null,
   "metadata": {},
   "outputs": [],
   "source": [
    "x = torch.arange(-10, 10).float()\n",
    "relu = torch.nn.ReLU()\n",
    "\n",
    "## v자 그래프\n",
    "relu(x) + relu(-x)\n",
    "\n",
    "## A자 그래프\n",
    "- relu(x) - relu(-x)"
   ]
  },
  {
   "cell_type": "code",
   "execution_count": null,
   "metadata": {},
   "outputs": [],
   "source": [
    "## 브로드캐스팅\n",
    "u = torch.stack([x, -x], axis = 1)\n",
    "v = relu(u)\n",
    "\n",
    "-4.5*v[:, [0]] - 9.0*v[:, [1]] + 4.5 ## 이 경우 [0]번 열이 뒤쪽, [1]번 열이 앞쪽 모양을 담당\n",
    "\n",
    "## 선형 결합\n",
    "l2 = torch.nn.Linear(2, 1, bias = True)\n",
    "l2.weight.data = torch.tensor([[-4.5, -9.0]])\n",
    "l2.bias.data = torch.tensor([4.5])\n",
    "\n",
    "l2(v)\n",
    "\n",
    "## 두 번의 선형 결합\n",
    "l1 = torch.nn.Linear(1, 2)\n",
    "l1.weight.data = torch.tensor([[1.0], [-1.0]]) ## 실제로 행벡터를 넣어야 하니 반대로...\n",
    "l1.bias.data = l1.bias.data*0\n",
    "\n",
    "l2(relu(l1(x.reshape(-1, 1))))"
   ]
  },
  {
   "cell_type": "markdown",
   "metadata": {},
   "source": [
    "## **6. CNN**\n",
    "\n",
    "---"
   ]
  },
  {
   "cell_type": "markdown",
   "metadata": {},
   "source": [
    "### **A. 사용법**"
   ]
  },
  {
   "cell_type": "markdown",
   "metadata": {},
   "source": [
    "* 다항 분류 및 이미지 처리가 뛰어남\n",
    "* 복잡한 구조의 DNN보다 더 빠르고, 성능이 좋고, 파라미터의 수가 적음 -> `input_channels * output_channels * kernel_size**2`"
   ]
  },
  {
   "cell_type": "markdown",
   "metadata": {},
   "source": [
    "`-` 학습 과정"
   ]
  },
  {
   "cell_type": "code",
   "execution_count": null,
   "metadata": {},
   "outputs": [],
   "source": [
    "net = torch.nn.Sequential(\n",
    "    ##-----layer 1 : 2d part-----##\n",
    "    ## 해당 파트에서 일반적으로 레이어 많이 씀\n",
    "    torch.nn.Conv2d(1, 64, kernel_size = 5),\n",
    "    torch.nn.ReLU(),\n",
    "    torch.nn.MaxPool2d(kernel_size = 5),\n",
    "\n",
    "    torch.nn.Flatten(),\n",
    "\n",
    "    ##-----layer 2 : 1d part-----##\n",
    "    ## 해당 파트의 네트워크는 약하게 구성하는 경우가 많음\n",
    "    torch.nn.Linear(???, p) ## 아무 숫자나 넣어보고 오류가 생기면 해당 숫자만 수정\n",
    ")\n",
    "\n",
    "loss_fn = torch.nn.CrossEntropyLoss()\n",
    "optimizr = torch.optim.Adam(net.parameters())\n",
    "\n",
    "##---##\n",
    "for epoc in range(300) :\n",
    "    netout = net(X)\n",
    "\n",
    "    loss = loss_fn(netout, y)\n",
    "    loss.backward()\n",
    "\n",
    "    optimizr.step()\n",
    "    optimizr.zero_grad()"
   ]
  },
  {
   "cell_type": "markdown",
   "metadata": {},
   "source": [
    "### **B. CNN 핵심 레이어**"
   ]
  },
  {
   "cell_type": "markdown",
   "metadata": {},
   "source": [
    "**특징을 추출하고 -> 다변화하고 -> 요약**"
   ]
  },
  {
   "cell_type": "markdown",
   "metadata": {},
   "source": [
    "`-` `torch.nn.Conv2d(in_channels, out_channels, kernel_size, stride, padding = 0, bias = True)`"
   ]
  },
  {
   "cell_type": "markdown",
   "metadata": {},
   "source": [
    "* 컨볼루션 커널\n",
    "* 텐서에 커널 사이즈만한 윈도우를 통과시키고, 각 원소에 `weight`의 값을 가중평균 해줌. 최종적으로 `bias`를 더함. `stride`만큼 이동하여 반복.\n",
    "* 각 원소에 행렬 원소를 곱하여 더한다는 측면에서 선형 변환\n",
    "* 패딩을 해주지 않으면 거의 필연적으로 텐서 사이즈가 줄어듦"
   ]
  },
  {
   "cell_type": "code",
   "execution_count": null,
   "metadata": {},
   "outputs": [],
   "source": [
    "conv = torch.nn.Conv2d(1, 1, 3, bias = False)\n",
    "## 가중치 텐서가 4차원으로 들어감 -> 채널이나 obs별로도 가중치를 먹일 수 있는건가?\n",
    "conv.weight.data = torch.tensor([[0.0, 1.0, 2.0],\n",
    "                                 [2.0, 2.0, 0.0],\n",
    "                                 [0.0, 1.0, 2.0]]).reshape(1, 1, 3, 3)"
   ]
  },
  {
   "cell_type": "markdown",
   "metadata": {},
   "source": [
    "`-` `torch.nn.ReLU()`\n",
    "\n",
    "* 특징을 더욱 다변화하기 위한 비선형 변환"
   ]
  },
  {
   "cell_type": "markdown",
   "metadata": {},
   "source": [
    "`-` `torch.nn.MaxPool2d(kernel_size, stride)`\n",
    "\n",
    "* 이미지에서 디테일은 버리고, 중요한 특징만 뽑아서 과장되게 요약\n",
    "* 컨볼루션은 그림을 뭉개는 경향이 있으나, MaxPooling은 중요한 정보를 손실시키지 않으려고 함"
   ]
  },
  {
   "cell_type": "markdown",
   "metadata": {},
   "source": [
    "### **C. 사전 구성 CNN**"
   ]
  },
  {
   "cell_type": "markdown",
   "metadata": {},
   "source": [
    "* `torchvision.models`에 들어가있는 모델"
   ]
  },
  {
   "cell_type": "markdown",
   "metadata": {},
   "source": [
    "`-` **AlexNet**"
   ]
  },
  {
   "cell_type": "code",
   "execution_count": 8,
   "metadata": {},
   "outputs": [],
   "source": [
    "torchvision.models.AlexNet()"
   ]
  },
  {
   "cell_type": "markdown",
   "metadata": {},
   "source": [
    "`-` 알렉스넷 아키텍쳐\n",
    "\n",
    "* Conv : kernel_size = 11, stride = 4\n",
    "> 먼저 러프하게 보고 싶음 : 처음엔 큰 이미지를 대충대충 보고 싶음\n",
    "\n",
    "* Pool : kernel_size = 3, stride = 2\n",
    "> 처음엔 요약하고, 나중엔 요약하지 않고 싶음\n",
    "\n",
    "* Conv : kernel_size = 3\n",
    "> 조금 세밀하게 보고 싶음\n",
    "\n",
    "* 마지막 Pool\n",
    "> Flatten하기 직전이고, 데이터가 좀 많은 것 같아서 줄여줌\n",
    "\n",
    "* 신경망 설계 부분\n",
    "> ReLU : 1d part에서 표현력을 좀 더 얻어내고 싶다.\n",
    ">\n",
    "> 요약하고 싶었으면 Linear 한층만 받아도 충분했겠죠"
   ]
  },
  {
   "cell_type": "markdown",
   "metadata": {},
   "source": [
    "`-` **resnet18**"
   ]
  },
  {
   "cell_type": "code",
   "execution_count": null,
   "metadata": {},
   "outputs": [],
   "source": [
    "net = torch.nn.Sequential(\n",
    "    ## layer 0\n",
    "    torch.nn.Sequential(\n",
    "        resnet18.conv1,\n",
    "        resnet18.bn1, ## Batch Normalization : 컨볼루션 커널 결과를 정규화 / 비선형 성질 유지\n",
    "        resnet18.relu,\n",
    "        resnet18.maxpool\n",
    "    ),\n",
    "\n",
    "    resnet18.layer1,\n",
    "    resnet18.layer2,\n",
    "    resnet18.layer3,\n",
    "    resnet18.layer4,\n",
    "\n",
    "    ## head\n",
    "    resnet18.avgpool,\n",
    "    torch.nn.Flatten(), ## 원본 클래스의 forward에는 모듈이 아닌 torch.flatten()으로 들어감\n",
    "    resnet18.fc\n",
    ")"
   ]
  },
  {
   "cell_type": "code",
   "execution_count": null,
   "metadata": {},
   "outputs": [],
   "source": [
    "resnet18 = torchvision.models.resnet18(pretrained = True) ## 가중치 가져오기\n",
    "resnet18.fc = torch.nn.Linear(512, p) ## 몇개 범주로 구분할 것인지 사후 설정"
   ]
  },
  {
   "cell_type": "markdown",
   "metadata": {},
   "source": [
    "* 총 18개의 레이어\n",
    "\n",
    "> 17개의 CNN 레이어 + 1개의 네트워크\n",
    ">\n",
    "> `downsample`은 네트워크가 아님(말그대로 다운 샘플링)\n",
    ">\n",
    "> 신경망이 깊기 때문에 레이어마다 배치 정규화를 해줌 -> 미분값이 0에 가까워지는 문제 해소\n",
    ">\n",
    "> `resnet18` 객체 자체는 subscriptable이 아님. 리스트로 호출할 수 없음"
   ]
  },
  {
   "cell_type": "markdown",
   "metadata": {},
   "source": [
    "## **7. CAM - Class Activation Map**\n",
    "\n",
    "---"
   ]
  },
  {
   "cell_type": "markdown",
   "metadata": {},
   "source": [
    "`-` **기존 `resnet18`의 마지막 레이어 네트워크**\n",
    "$$\\underset{(1,3,512,512)}{\\boldsymbol x} \\overset{stem}{\\to} \\left( \\underset{(1,512,16,16)}{\\tilde{\\boldsymbol x}} \\overset{ap}{\\to} \\underset{(1,512,1,1)}{{\\boldsymbol \\sharp}}\\overset{flattn}{\\to} \\underset{(1,512)}{{\\boldsymbol \\sharp}}\\overset{linr}{\\to} \\underset{(1,1)}{\\text{logit}}\\right) = [[-5.5613]]$$\n",
    "\n",
    "`-` **바꾸고 싶은 네트워크**\n",
    "$$\\underset{(1,3,224,224)}{\\boldsymbol x} \\overset{stem}{\\to} \\left( \\underset{(1,512,16,16)}{\\tilde{\\boldsymbol x}} \\overset{\\_linr}{\\to} \\underset{(1,1,16,16)}{{\\boldsymbol \\sharp}}\\overset{ap}{\\to} \\underset{(1,1,1,1)}{{\\boldsymbol \\sharp}}\\overset{flattn}{\\to} \\underset{(1,1)}{\\text{logit}}\\right) = [[-5.5613]]$$\n",
    "\n",
    "* `linr(flattn(ap(X)))` $\\to$ `flattn(ap(_linr(X)))`\n",
    "\n",
    "> `(1, c, h, w)` $\\to$ `(1, c, 1, 1)` : `ap` 먼저\n",
    ">\n",
    "> `(1, c, h, w)` $\\to$ `(1, 1, h, w)` : 선형결합으로 채널 통합 먼저 -> 러프 이미지 산출\n",
    "\n",
    "\n",
    "* CAM의 한계\n",
    "\n",
    "> head-part가 `ap`와 `linr`로만 구성되어 있어야 함. `AlexNet`과 같은 신경망은 헤드 파트를 임의로 바꿔줘야 함"
   ]
  },
  {
   "cell_type": "markdown",
   "metadata": {},
   "source": [
    "### **Z. 데이터 준비**"
   ]
  },
  {
   "cell_type": "markdown",
   "metadata": {},
   "source": [
    "* 이미지와 라벨로 구성된 `train_dataset`, `test_dataset`이 필요함"
   ]
  },
  {
   "cell_type": "code",
   "execution_count": 7,
   "metadata": {},
   "outputs": [],
   "source": [
    "compose = torchvision.transforms.Compose([\n",
    "    torchvision.transforms.Resize((512, 512)), ## 이미지 사이즈 통일\n",
    "    torchvision.transforms.ToTensor() ## 이미지를 텐서로 변환\n",
    "])\n",
    "\n",
    "X = torch.stack([compose(train_dataset[i][0]) for i in range(len(train_dataset))], axis = 0)\n",
    "XX = torch.stack([compose(test_dataset[i][0]) for i in range(len(test_dataset))], axis = 0)\n",
    "\n",
    "y = torch.tensor([train_dataset[i][1] for i in range(len(train_dataset))]).reshape(-1, 1).float()\n",
    "yy = torch.tensor([test_dataset[i][1] for i in range(len(test_dataset))]).reshape(-1, 1).float()\n",
    "\n",
    "## 이진분류가 아닐 때 - 정수형\n",
    "# y = torch.tensor([train_dataset[i][1] for i in range(len(train_dataset))]).reshape(-1, 1)\n",
    "# yy = torch.tensor([test_dataset[i][1] for i in range(len(test_dataset))]).reshape(-1, 1)"
   ]
  },
  {
   "cell_type": "markdown",
   "metadata": {},
   "source": [
    "### **A. 이미지 분류 잘하는 네트워크 선택 후 학습**"
   ]
  },
  {
   "cell_type": "code",
   "execution_count": null,
   "metadata": {},
   "outputs": [],
   "source": [
    "## step 1 : 데이터 로드\n",
    "ds_train = torch.utils.data.TensorDataset(X, y)\n",
    "dl_train = torch.utils.data.DataLoader(ds_train, batch_size = 32, shuffle = True)\n",
    "\n",
    "ds_test = torch.utils.data.TensorDataset(XX, yy)\n",
    "dl_test = torch.utils.data.DataLoader(ds_test, batch_size = 32)\n",
    "\n",
    "\n",
    "## step 2 : 모델 및 가중치 불러오기\n",
    "resnet18 = torchvision.models.resnet18(pretrained = True)\n",
    "resnet18.fc = torch.nn.Linear(512, 1)\n",
    "\n",
    "loss_fn = torch.nn.BCEWithLogitsLoss() ## 최종 모델에 시그모이드 안들어가있음(못들어감)\n",
    "optimizr = torch.optim.Adam(resnet18.parameters(), lr = 1e-5) ## 세부조정만\n",
    "\n",
    "\n",
    "## step 3 : 사후 트레이닝\n",
    "resnet18.to(\"cuda:0\")\n",
    "\n",
    "for epoc in range(3) :\n",
    "    resnet18.train() ## dropout 있음\n",
    "\n",
    "    for Xm, ym in dl_train :\n",
    "        Xm = Xm.to(\"cuda:0\")\n",
    "        ym = ym.to(\"cuda:0\")\n",
    "\n",
    "        netout = resnet18(Xm)\n",
    "        \n",
    "        loss = loss_fn(netout, ym)\n",
    "        loss.backward()\n",
    "\n",
    "        optimizr.step()\n",
    "        optimizr.zero_grad()\n",
    "\n",
    "    ## eval in epochs\n",
    "    resnet18.eval()\n",
    "    s = 0\n",
    "    \n",
    "    for Xm, ym in dl_train :\n",
    "        Xm = Xm.to(\"cuda:0\")\n",
    "        ym = ym.to(\"cuda:0\")\n",
    "\n",
    "        s += ((resnet18(Xm) > 0.0) == ym).sum().item()\n",
    "\n",
    "    train_acc = s/len(X)\n",
    "\n",
    "    print(f\"epoch : {epoc},\\ttrain_acc = {train_acc:.4f}\")\n",
    "\n",
    "\n",
    "## step 4 : 평가\n",
    "# resnet18.eval() ## 이미 평가모드임\n",
    "s = 0\n",
    "\n",
    "for XXm, yym in dl_test :\n",
    "    XXm = XXm.to(\"cuda:0\")\n",
    "    yym = yym.to(\"cuda:0\")\n",
    "\n",
    "    s += ((resnet18(XXm) > 0.0) == yym).sum().item()\n",
    "\n",
    "test_acc = s/len(XX)\n",
    "\n",
    "print(f\"test_acc = {test_acc:.4f}\")"
   ]
  },
  {
   "cell_type": "markdown",
   "metadata": {},
   "source": [
    "### **B. 마지막 1d 레이어 파트를 `_linr -> ap -> flatten` 형태로 바꿈**"
   ]
  },
  {
   "cell_type": "code",
   "execution_count": 32,
   "metadata": {},
   "outputs": [],
   "source": [
    "stem = torch.nn.Sequential(\n",
    "    ## layer 0\n",
    "    torch.nn.Sequential(\n",
    "        resnet18.conv1,\n",
    "        resnet18.bn1,\n",
    "        resnet18.relu,\n",
    "        resnet18.maxpool\n",
    "    ),\n",
    "\n",
    "    resnet18.layer1,\n",
    "    resnet18.layer2,\n",
    "    resnet18.layer3,\n",
    "    resnet18.layer4\n",
    ")\n",
    "\n",
    "head = torch.nn.Sequential(\n",
    "    resnet18.avgpool,\n",
    "    torch.nn.Flatten(),\n",
    "    resnet18.fc\n",
    ")\n",
    "\n",
    "net = torch.nn.Sequential(\n",
    "    stem,\n",
    "    head\n",
    ")\n",
    "\n",
    "ap = head[0]\n",
    "flattn = head[1]\n",
    "linr = head[2]\n",
    "\n",
    "def _linr(X) :\n",
    "    return torch.einsum(\"ochw, kc -> okhw\", X, linr.weight.data) + linr.bias.data"
   ]
  },
  {
   "cell_type": "markdown",
   "metadata": {},
   "source": [
    "### **C. 보간법을 활용하여 시각화**"
   ]
  },
  {
   "cell_type": "code",
   "execution_count": null,
   "metadata": {},
   "outputs": [],
   "source": [
    "fig, ax = plt.subplots(5, 5)\n",
    "\n",
    "#---#\n",
    "k = 0\n",
    "\n",
    "for i in range(5) :\n",
    "    for j in range(5) :\n",
    "        ##--------핵심 코드--------##\n",
    "        \n",
    "        x = XX[[k]].to(\"cuda:0\")\n",
    "        \n",
    "        if net(x) > 0 :\n",
    "            pred = \"dog\"\n",
    "            why = _linr(stem(x))\n",
    "        \n",
    "        else :\n",
    "            pred = \"cat\"\n",
    "            why = - _linr(stem(x))\n",
    "\n",
    "        ## 보간법으로 이미지 크기 조정\n",
    "        why_resized = torch.nn.functional.interpolate(\n",
    "            why, size = (512, 512), mode = \"bilinear\"\n",
    "        ) ## (1, 1, 512, 512)로 나옴\n",
    "\n",
    "        ax[i][j].imshow(x.squeeze().cpu().data.permute(1, 2, 0))\n",
    "        ax[i][j].imshow(why_resized.squeeze().cpu().data, cmap = \"magma\", alpha = 0.5)\n",
    "        \n",
    "        ##--------핵심 코드--------##\n",
    "\n",
    "        \n",
    "        ax[i][j].set_title(f\"prediction = {pred}\")\n",
    "        ax[i][j].set_xticks([])\n",
    "        ax[i][j].set_yticks([])\n",
    "\n",
    "        k += 50\n",
    "\n",
    "fig.set_figheight(16)\n",
    "fig.set_figwidth(16)\n",
    "fig.tight_layout()"
   ]
  },
  {
   "cell_type": "markdown",
   "metadata": {},
   "source": [
    "## **8. 생성모형 GAN**\n",
    "\n",
    "---"
   ]
  },
  {
   "cell_type": "markdown",
   "metadata": {},
   "source": [
    "> 서로 적대적인(Adversarial) 네트워크(Netword)를 동시에 학습시켜 가짜 이미지를 만든다(Generate)"
   ]
  },
  {
   "cell_type": "markdown",
   "metadata": {},
   "source": [
    "### **A. 내용**"
   ]
  },
  {
   "cell_type": "markdown",
   "metadata": {},
   "source": [
    "`-` 데이터의 생성확률 $P({\\bf X}, y)$를 알면 클래스의 사후확률 $P(y|{\\bf X})$를 알 수 있음. 하지만 역은 불가능\n",
    "\n",
    "$$P(y|\\bf X) = \\frac{P({\\bf X}, y)}{P({\\bf X})} = \\frac{P({\\bf X}, y)}{\\sum _y P({\\bf X}, y)}$$\n",
    "\n",
    "> 즉, 이미지를 생성하는 것은 분류문제보다 더 어려운 일이라고 해석할 수 있음"
   ]
  },
  {
   "cell_type": "markdown",
   "metadata": {},
   "source": [
    "`-` 초기 GAN의 한계점\n",
    "\n",
    "* 두 네트워크의 균형이 매우 중요함 - 균형이 깨지는 순간 학습은 실패함. 너무 성능이 좋은 식별자를 가져오면 학습이 불가능함\n",
    "> `net_faker`가 뭔짓을 해도 `loss`를 줄일 수 없어서 학습을 못함\n",
    "\n",
    "* 생성되는 이미지의 다양성이 부족할 수 있음\n",
    "> 하나의 이미지가 `loss`를 매우 많이 줄여줬음 -> 얘량 비슷한 모양을 계속해서 찍어냄\n",
    ">\n",
    "> 생성모형에서의 고질적인 문제인 줄 알았지만, 해결할 수 있는 방법이 나옴 ㅇㅇ"
   ]
  },
  {
   "cell_type": "markdown",
   "metadata": {},
   "source": [
    "### **B. 구현**"
   ]
  },
  {
   "cell_type": "code",
   "execution_count": 2,
   "metadata": {},
   "outputs": [],
   "source": [
    "train_dataset = torchvision.datasets.MNIST(root = \"./data\", train = True, download = True)\n",
    "to_tensor = torchvision.transforms.ToTensor() ## 이미지 shape는 똑같으니까 텐서로만...\n",
    "X_real = torch.stack([to_tensor(Xi) for Xi, yi in train_dataset if yi == 3]) ## 숫자 3인 것만...\n",
    "\n",
    "y_real = torch.tensor([0.0]*len(X_real)).reshape(-1, 1)\n",
    "y_fake = torch.tensor([1.0]*len(X_real)).reshape(-1, 1)"
   ]
  },
  {
   "cell_type": "code",
   "execution_count": 3,
   "metadata": {},
   "outputs": [],
   "source": [
    "class FlattenToImage(torch.nn.Module) :\n",
    "    '''\n",
    "    생성자에서 마지막에 들어가 펴진 매트릭스를 이미지 포맷의 텐서로 변환하는 함수\n",
    "    (n, 784) -> (n, 1, 28, 28)\n",
    "    '''\n",
    "    def __init__(self) :\n",
    "        super().__init__()\n",
    "\n",
    "    def forward(self, x) :\n",
    "        return x.reshape(-1, 1, 28, 28)\n",
    "\n",
    "## police network\n",
    "net_police = torch.nn.Sequential(\n",
    "    torch.nn.Flatten(),\n",
    "    torch.nn.Linear(784, 32),\n",
    "    torch.nn.ReLU(),\n",
    "    torch.nn.Linear(32, 1),\n",
    "    torch.nn.Sigmoid()\n",
    ")\n",
    "\n",
    "## faker network\n",
    "net_faker = torch.nn.Sequential(\n",
    "    torch.nn.Linear(4, 64), ## 한 번에 변환하면 너무 변하니까 여러 레이어로\n",
    "    torch.nn.ReLU(), ## 렐루를 넣어서 변환을 더 복잡하게\n",
    "    torch.nn.Linear(64, 64),\n",
    "    torch.nn.ReLU(),\n",
    "    torch.nn.Linear(64, 784),\n",
    "    torch.nn.Sigmoid(), ## 출력을 0~1로 눌러줌\n",
    "    FlattenToImage()\n",
    ")\n",
    "\n",
    "bce = torch.nn.BCELoss()\n",
    "optimizr_police = torch.optim.Adam(net_police.parameters(), lr = 0.001, betas = (0.5, 0.999))\n",
    "optimizr_faker = torch.optim.Adam(net_faker.parameters(), lr = 0.0002, betas = (0.5, 0.999))\n",
    "\n",
    "##---##\n",
    "for epoc in range(1000) :\n",
    "    ##--------police training 1 epoch--------##\n",
    "    X_fake = net_faker(torch.randn(len(X_real), 4)).data ## 훈련 데이터\n",
    "\n",
    "    yhat_real = net_police(X_real)\n",
    "    yhat_fake = net_police(X_fake)\n",
    "    \n",
    "    loss = bce(yhat_real, y_real) + bce(yhat_fake, y_fake) ## 경찰은 둘다 잘해야 함\n",
    "    loss.backward()\n",
    "\n",
    "    optimizr_police.step()\n",
    "    optimizr_police.zero_grad()\n",
    "\n",
    "    ##----------faker training 1 epoch--------##\n",
    "    X_fake = net_faker(torch.randn(len(X_real), 4)) ## 네트워크의 output -> 미분필요\n",
    "\n",
    "    yhat_fake = net_police(X_fake)\n",
    "\n",
    "    loss = bce(yhat_fake, y_real) ## 식별자가 자신의 output을 반대로 식별해야 함\n",
    "    loss.backward()\n",
    "\n",
    "    optimizr_faker.step()\n",
    "    optimizr_faker.zero_grad()"
   ]
  },
  {
   "cell_type": "code",
   "execution_count": 4,
   "metadata": {},
   "outputs": [
    {
     "data": {
      "image/png": "[encoded data removed]",
      "text/plain": [
       "<Figure size 1000x400 with 10 Axes>"
      ]
     },
     "metadata": {},
     "output_type": "display_data"
    }
   ],
   "source": [
    "X_fake = net_faker(torch.randn(10, 4))\n",
    "\n",
    "fig, ax = plt.subplots(2, 5, figsize = (10, 4))\n",
    "\n",
    "k = 0\n",
    "\n",
    "for i in range(2) :\n",
    "    for j in range(5) :\n",
    "        ax[i][j].imshow(X_fake[[k]].data.squeeze(), cmap = \"grey\")\n",
    "        ax[i][j].set_title(f\"police out = {net_police(X_fake[[k]]).item():.4f}\")\n",
    "        k += 1\n",
    "\n",
    "fig.tight_layout()"
   ]
  },
  {
   "cell_type": "markdown",
   "metadata": {},
   "source": [
    "### **C. GAN with GPU & Batch**"
   ]
  },
  {
   "cell_type": "code",
   "execution_count": null,
   "metadata": {},
   "outputs": [],
   "source": [
    "train_dataset = torchvision.datasets.MNIST(root = \"./data\", train = True, download = True)\n",
    "to_tensor = torchvision.transforms.ToTensor() ## 이미지 shape는 똑같으니까 텐서로만...\n",
    "X_real = torch.stack([to_tensor(Xi) for Xi, yi in train_dataset if yi == 3]) ## 숫자 3인 것만...\n",
    "\n",
    "ds = torch.utils.data.TensorDataset(X_real)\n",
    "dl = torch.utils.data.DataLoader(ds, batch_size = 128, shuffle = True)"
   ]
  },
  {
   "cell_type": "code",
   "execution_count": null,
   "metadata": {},
   "outputs": [],
   "source": [
    "class FlattenToImage(torch.nn.Module) :\n",
    "    '''\n",
    "    생성자에서 마지막에 들어가 펴진 매트릭스를 이미지 포맷의 텐서로 변환하는 함수\n",
    "    (n, 784) -> (n, 1, 28, 28)\n",
    "    '''\n",
    "    def __init__(self) :\n",
    "        super().__init__()\n",
    "\n",
    "    def forward(self, x) :\n",
    "        return x.reshape(-1, 1, 28, 28)\n",
    "\n",
    "## police network\n",
    "net_police = torch.nn.Sequential(\n",
    "    torch.nn.Flatten(),\n",
    "    torch.nn.Linear(784, 32),\n",
    "    torch.nn.ReLU(),\n",
    "    torch.nn.Linear(32, 1),\n",
    "    torch.nn.Sigmoid()\n",
    ").to(\"cuda:0\")\n",
    "\n",
    "## faker network\n",
    "net_faker = torch.nn.Sequential(\n",
    "    torch.nn.Linear(4, 64), ## 한 번에 변환하면 너무 변하니까 여러 레이어로\n",
    "    torch.nn.ReLU(), ## 렐루를 넣어서 변환을 더 복잡하게\n",
    "    torch.nn.Linear(64, 64),\n",
    "    torch.nn.ReLU(),\n",
    "    torch.nn.Linear(64, 784),\n",
    "    torch.nn.Sigmoid(), ## 출력을 0~1로 눌러줌\n",
    "    FlattenToImage()\n",
    ").to(\"cuda:0\")\n",
    "\n",
    "bce = torch.nn.BCELoss()\n",
    "optimizr_police = torch.optim.Adam(net_police.parameters(), lr = 0.001, betas = (0.5, 0.999))\n",
    "optimizr_faker = torch.optim.Adam(net_faker.parameters(), lr = 0.0002, betas = (0.5, 0.999))\n",
    "\n",
    "##---##\n",
    "for epoc in range(10) :\n",
    "    for Xm in dl :\n",
    "        ##--------police training 1 epoch--------##\n",
    "        Xm_real = Xm.to(\"cuda:0\")\n",
    "        Xm_fake = net_faker(torch.randn(len(Xm_real), 4).to(\"cuda:0\")).data\n",
    "        \n",
    "        ym_real = torch.tensor([0.0]*len(Xm_real)).reshape(-1, 1).to(\"cuda:0\")\n",
    "        ym_fake = torch.tensor([1.0]*len(Xm_real)).reshape(-1, 1).to(\"cuda:0\")\n",
    "\n",
    "        yhat_real = net_police(Xm_real)\n",
    "        yhat_fake = net_police(Xm_fake)\n",
    "        \n",
    "        loss = bce(yhat_real, ym_real) + bce(yhat_fake, ym_fake) ## 경찰은 둘다 잘해야 함\n",
    "        loss.backward()\n",
    "    \n",
    "        optimizr_police.step()\n",
    "        optimizr_police.zero_grad()\n",
    "    \n",
    "        ##----------faker training 1 epoch--------##\n",
    "        Xm_fake = net_faker(torch.randn(len(Xm_real), 4).to(\"cuda:0\")) ## 네트워크의 output -> 미분필요\n",
    "        ym_real = torch.tensor([0.0]*len(Xm_fake)).reshape(-1, 1).to(\"cuda:0\")\n",
    "        \n",
    "        yhat_fake = net_police(Xm_fake)\n",
    "\n",
    "        loss = bce(yhat_fake, ym_real) ## 식별자가 자신의 output을 반대로 식별해야 함\n",
    "        loss.backward()\n",
    "    \n",
    "        optimizr_faker.step()\n",
    "        optimizr_faker.zero_grad()"
   ]
  },
  {
   "cell_type": "code",
   "execution_count": null,
   "metadata": {},
   "outputs": [],
   "source": [
    "X_fake = net_faker(torch.randn(10, 4).to(\"cuda:0\"))\n",
    "\n",
    "fig, ax = plt.subplots(2, 5, figsize = (10, 4))\n",
    "\n",
    "k = 0\n",
    "\n",
    "for i in range(2) :\n",
    "    for j in range(5) :\n",
    "        ax[i][j].imshow(X_fake[[k]].to(\"cpu\").data.squeeze(), cmap = \"grey\")\n",
    "        ax[i][j].set_title(f\"police out = {net_police(X_fake[[k]]).item():.4f}\")\n",
    "        k += 1\n",
    "\n",
    "fig.tight_layout()"
   ]
  }
 ],
 "metadata": {
  "kernelspec": {
   "display_name": "Python 3 (ipykernel)",
   "language": "python",
   "name": "python3"
  },
  "language_info": {
   "codemirror_mode": {
    "name": "ipython",
    "version": 3
   },
   "file_extension": ".py",
   "mimetype": "text/x-python",
   "name": "python",
   "nbconvert_exporter": "python",
   "pygments_lexer": "ipython3",
   "version": "3.9.18"
  }
 },
 "nbformat": 4,
 "nbformat_minor": 4
}
