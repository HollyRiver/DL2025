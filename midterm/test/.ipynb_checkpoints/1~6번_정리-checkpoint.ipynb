{
 "cells": [
  {
   "cell_type": "markdown",
   "id": "bdfec3f0-694b-4111-b232-108a37e550a4",
   "metadata": {
    "tags": [],
    "vscode": {
     "languageId": "raw"
    }
   },
   "source": [
    "# **딥러닝 중간고사 - 1~6번**\n",
    "\n",
    "#### **2025-05-07**\n",
    "\n",
    "#### **202014107 통계학과 강신성**\n",
    "\n",
    "---"
   ]
  },
  {
   "cell_type": "markdown",
   "id": "55ffb5c8-015f-4c7c-a2de-97361a85884a",
   "metadata": {
    "id": "e67ab8e0"
   },
   "source": [
    "<a href=\"https://colab.research.google.com/github/guebin/DL2025/blob/main/posts/mid.ipynb\"><img src=\"https://colab.research.google.com/assets/colab-badge.svg\" style=\"text-align: left\"></a>"
   ]
  },
  {
   "cell_type": "code",
   "execution_count": 4,
   "id": "18cb746b-b647-43e5-8e10-2e51555f78b0",
   "metadata": {
    "vscode": {
     "languageId": "python"
    }
   },
   "outputs": [],
   "source": [
    "import torch\n",
    "import torchvision\n",
    "\n",
    "import pandas as pd\n",
    "import numpy as np\n",
    "\n",
    "import matplotlib.pyplot as plt\n",
    "import PIL\n",
    "\n",
    "import requests\n",
    "import io"
   ]
  },
  {
   "cell_type": "markdown",
   "id": "82546619-c7b2-4f25-b3a0-e5c74c8966c6",
   "metadata": {},
   "source": [
    "# `1`. 기본문법  -- 10점"
   ]
  },
  {
   "cell_type": "markdown",
   "id": "b82aa12f-0101-4b1c-9677-5a66f3bddd1a",
   "metadata": {},
   "source": [
    "`(1)`  아래는 각각 horizontal edge, vertical edge를 의미하는 2개의 컨볼루션 필터를 설계한 것이다. "
   ]
  },
  {
   "cell_type": "code",
   "execution_count": 5,
   "id": "dd09dc05-152f-465c-8879-9038af293cad",
   "metadata": {
    "vscode": {
     "languageId": "python"
    }
   },
   "outputs": [],
   "source": [
    "h_conv = torch.nn.Conv2d(\n",
    "    in_channels=1,\n",
    "    out_channels=1,\n",
    "    kernel_size=4,\n",
    "    bias=False\n",
    ")\n",
    "h_conv.weight.data = torch.tensor([[[\n",
    "    [ 0, 0, 0, 0],\n",
    "    [ 0, -1.0, -1.0, 0],\n",
    "    [0, 1.0, 1.0, 0],\n",
    "    [ 0, 0, 0, 0]\n",
    "]]])\n",
    "v_conv = torch.nn.Conv2d(\n",
    "    in_channels=1,\n",
    "    out_channels=1,\n",
    "    kernel_size=4,\n",
    "    bias=False\n",
    ")\n",
    "v_conv.weight.data = torch.tensor([[[\n",
    "    [ 0, 0, 0, 0],\n",
    "    [ 0, 1.0, -1.0, 0],\n",
    "    [0, 1.0, -1.0, 0],\n",
    "    [ 0, 0, 0, 0]\n",
    "]]])"
   ]
  },
  {
   "cell_type": "markdown",
   "id": "25de359c-8965-4ec2-b87c-c623c171e457",
   "metadata": {},
   "source": [
    "위의 계수값을 활용하여 `in_channels=1`, `out_channels=2`, `kernel_size=4` 인 새로은 convolution filter를 설계하고 첫번째 아웃풋채널은 horizontal edge 을 두번째 아웃풋 채널은 vertical edge을 의미하도록 하라. "
   ]
  },
  {
   "cell_type": "markdown",
   "id": "ed85ed08-8f72-4332-a732-c95b322c6e13",
   "metadata": {},
   "source": [
    "**hint:**"
   ]
  },
  {
   "cell_type": "markdown",
   "id": "b07dbe61-b838-4886-8570-a20087cd2feb",
   "metadata": {},
   "source": [
    "- `torch.concat`을 활용해야합니다. \n",
    "- 07wk-2강의노트를 참고하세요 "
   ]
  },
  {
   "cell_type": "code",
   "execution_count": 6,
   "id": "86b92f78-5e3a-44d9-ac91-e693c72aa8d9",
   "metadata": {},
   "outputs": [],
   "source": [
    "net = torch.nn.Conv2d(1, 2, kernel_size = 4, bias = False)\n",
    "\n",
    "net.weight.data = torch.concat([h_conv.weight.data, v_conv.weight.data], axis = 0)"
   ]
  },
  {
   "cell_type": "markdown",
   "id": "ec91d354-70b8-48bb-bfe3-0ce5d9595ce4",
   "metadata": {},
   "source": [
    "`(2)` 아래는 10장의 (28,28) 칼라이미지를 나타내는 자료이다. "
   ]
  },
  {
   "cell_type": "code",
   "execution_count": 10,
   "id": "412a0530-dce3-4e16-a924-85a28174cfe4",
   "metadata": {
    "vscode": {
     "languageId": "python"
    }
   },
   "outputs": [],
   "source": [
    "X = torch.rand(10,3,28,28)"
   ]
  },
  {
   "cell_type": "markdown",
   "id": "186a3163-2679-482a-82f7-a26421c78e1c",
   "metadata": {},
   "source": [
    "따라서 이미지의 각 pixel에는 3개의 숫자가 존재한다. 아래의 선형변한을 수행하여 이미지의 각 pixel에 적용하여 3개의 숫자를 하나로 줄이는 코드를 작성하라. "
   ]
  },
  {
   "cell_type": "code",
   "execution_count": 11,
   "id": "b2ecbd42-16b5-49b9-8080-2217b9ff7c2d",
   "metadata": {
    "vscode": {
     "languageId": "python"
    }
   },
   "outputs": [],
   "source": [
    "linr = torch.nn.Linear(3,1,bias=False)"
   ]
  },
  {
   "cell_type": "markdown",
   "id": "6f2dd691-32a2-40a9-bf45-57d4d46b7993",
   "metadata": {},
   "source": [
    "**hint**: "
   ]
  },
  {
   "cell_type": "markdown",
   "id": "1f937e48-e72f-4d57-99a0-5c6e62a92ef8",
   "metadata": {},
   "source": [
    "- 변환후의 차원은 (10,1,28,28) 이어야 합니다. \n",
    "- `torch.einsum`을 활용해야합니다.\n",
    "- 08wk-2강의노트를 참고하세요 "
   ]
  },
  {
   "cell_type": "code",
   "execution_count": 13,
   "id": "65b8d181-e23d-40d4-a450-4c8c73e7ef0a",
   "metadata": {},
   "outputs": [
    {
     "data": {
      "text/plain": [
       "tensor([[[[ 0.0031,  0.0544,  0.2055,  ...,  0.4220,  0.2388,  0.2850],\n",
       "          [ 0.0019,  0.0559,  0.1627,  ...,  0.0846,  0.0260,  0.1426],\n",
       "          [ 0.0772,  0.1751,  0.2858,  ...,  0.0121,  0.2670,  0.2883],\n",
       "          ...,\n",
       "          [ 0.1878,  0.4116,  0.1877,  ...,  0.1606,  0.3126,  0.0378],\n",
       "          [ 0.0746,  0.1543,  0.0759,  ...,  0.1870,  0.4829,  0.1303],\n",
       "          [-0.0156,  0.0103,  0.3517,  ...,  0.2981,  0.0447,  0.1825]]],\n",
       "\n",
       "\n",
       "        [[[ 0.0613,  0.1396,  0.2377,  ..., -0.0041,  0.4221,  0.0777],\n",
       "          [ 0.1279,  0.2887,  0.0999,  ...,  0.1475,  0.0742,  0.1077],\n",
       "          [ 0.2178,  0.1614,  0.2706,  ...,  0.0306,  0.0465,  0.3410],\n",
       "          ...,\n",
       "          [ 0.2142,  0.0985,  0.2318,  ...,  0.4392,  0.4004,  0.1828],\n",
       "          [ 0.0941,  0.1279,  0.2208,  ...,  0.3960,  0.2535,  0.3094],\n",
       "          [ 0.1126,  0.1838, -0.0984,  ...,  0.3901,  0.4201,  0.3123]]],\n",
       "\n",
       "\n",
       "        [[[ 0.2540,  0.4262,  0.1737,  ...,  0.0983,  0.2170,  0.0558],\n",
       "          [ 0.1544,  0.0999,  0.3634,  ...,  0.2215,  0.2171,  0.2208],\n",
       "          [ 0.0306,  0.1254,  0.1498,  ...,  0.0751,  0.3159,  0.3990],\n",
       "          ...,\n",
       "          [ 0.0282,  0.2096, -0.0516,  ...,  0.4491,  0.2328,  0.4321],\n",
       "          [ 0.1427,  0.2489,  0.1485,  ...,  0.3066,  0.1184,  0.1198],\n",
       "          [ 0.1898,  0.1357, -0.0232,  ...,  0.2760,  0.0301,  0.2442]]],\n",
       "\n",
       "\n",
       "        ...,\n",
       "\n",
       "\n",
       "        [[[ 0.0574,  0.0417,  0.1706,  ...,  0.2960,  0.1655,  0.0574],\n",
       "          [ 0.2044,  0.3517,  0.2286,  ...,  0.1161,  0.2735,  0.0179],\n",
       "          [ 0.1488,  0.1092,  0.2924,  ...,  0.1853,  0.1500,  0.0703],\n",
       "          ...,\n",
       "          [ 0.1037,  0.3682,  0.2824,  ...,  0.2371,  0.0787,  0.2224],\n",
       "          [ 0.2311,  0.2331,  0.3000,  ...,  0.0466,  0.2537,  0.2678],\n",
       "          [ 0.4135,  0.3505, -0.0164,  ...,  0.0537,  0.1673,  0.3853]]],\n",
       "\n",
       "\n",
       "        [[[ 0.3910,  0.2416,  0.1331,  ...,  0.2688,  0.2833,  0.1353],\n",
       "          [ 0.0302,  0.0530,  0.3363,  ...,  0.3735,  0.2184,  0.2632],\n",
       "          [ 0.2902,  0.1459,  0.0298,  ...,  0.0760,  0.1709,  0.1733],\n",
       "          ...,\n",
       "          [ 0.0308,  0.0542,  0.0712,  ..., -0.0130,  0.1522,  0.3001],\n",
       "          [ 0.2880,  0.3536,  0.0617,  ...,  0.0194,  0.0400,  0.2368],\n",
       "          [ 0.1790,  0.2563,  0.4378,  ...,  0.1158,  0.0775,  0.2507]]],\n",
       "\n",
       "\n",
       "        [[[ 0.3326,  0.3459,  0.1297,  ...,  0.0883,  0.3245,  0.2873],\n",
       "          [ 0.3346,  0.0934,  0.1854,  ...,  0.3021,  0.1980,  0.3440],\n",
       "          [ 0.3837,  0.4426,  0.3429,  ...,  0.1806,  0.1469,  0.3237],\n",
       "          ...,\n",
       "          [ 0.3841,  0.0029,  0.2523,  ...,  0.1905,  0.0484,  0.0350],\n",
       "          [ 0.2565, -0.0837,  0.4042,  ...,  0.2810,  0.1339,  0.4113],\n",
       "          [ 0.3810,  0.1016,  0.3400,  ...,  0.3105,  0.1077,  0.1064]]]],\n",
       "       grad_fn=<ViewBackward0>)"
      ]
     },
     "execution_count": 13,
     "metadata": {},
     "output_type": "execute_result"
    }
   ],
   "source": [
    "torch.einsum(\"ochw, kc -> okhw\", X, linr.weight)"
   ]
  },
  {
   "cell_type": "markdown",
   "id": "3128fcd4-7cdd-4a9e-8f24-2bee6198a447",
   "metadata": {},
   "source": [
    "# `2`. 파라메터 count -- 10점"
   ]
  },
  {
   "cell_type": "markdown",
   "id": "1f22adb5-6942-4e5c-ab4e-a84ce7c9fe7e",
   "metadata": {},
   "source": [
    "**note:** \n",
    "\n",
    "1. 학습가능한 파라메터가 동일할 경우 동일하다고 답할것. \n",
    "2. 해설쓸 필요 없이 답만 쓸 것 "
   ]
  },
  {
   "cell_type": "markdown",
   "id": "0eb4ce3b-8953-472a-8cde-566d5c89e0d9",
   "metadata": {},
   "source": [
    "`(1)` net1과 net2중 학습가능한 파라메터가 더 많은 쪽은 어디인가? "
   ]
  },
  {
   "cell_type": "code",
   "execution_count": 15,
   "id": "bd1db3a2-c3f4-4c7a-8946-dbc2299d442a",
   "metadata": {
    "vscode": {
     "languageId": "python"
    }
   },
   "outputs": [],
   "source": [
    "net1 = torch.nn.Sequential(\n",
    "    torch.nn.Linear(10,1, bias=False),\n",
    "    torch.nn.Sigmoid()\n",
    ")\n",
    "net2 = torch.nn.Sequential(\n",
    "    torch.nn.Linear(10,1, bias=True)\n",
    ")"
   ]
  },
  {
   "cell_type": "code",
   "execution_count": 16,
   "id": "ae36b936-67f2-4cb5-8128-0304bb43e827",
   "metadata": {},
   "outputs": [
    {
     "data": {
      "text/plain": [
       "10"
      ]
     },
     "execution_count": 16,
     "metadata": {},
     "output_type": "execute_result"
    }
   ],
   "source": [
    "sum([torch.prod(torch.tensor(l.shape)) for l in net1.parameters()]).item()"
   ]
  },
  {
   "cell_type": "code",
   "execution_count": 17,
   "id": "c54d6f5f-d862-40e0-91f9-03bebe662de6",
   "metadata": {},
   "outputs": [
    {
     "data": {
      "text/plain": [
       "11"
      ]
     },
     "execution_count": 17,
     "metadata": {},
     "output_type": "execute_result"
    }
   ],
   "source": [
    "sum([torch.prod(torch.tensor(l.shape)) for l in net2.parameters()]).item()"
   ]
  },
  {
   "cell_type": "markdown",
   "id": "7aefecbf-9c97-4eaf-8836-b72cae8d0933",
   "metadata": {},
   "source": [
    "> net2"
   ]
  },
  {
   "cell_type": "markdown",
   "id": "15dfc0ad-f3ba-408b-9c06-d96f19dbdb63",
   "metadata": {},
   "source": [
    "`(2)` net1과 net2중 학습가능한 파라메터가 더 많은 쪽은 어디인가? "
   ]
  },
  {
   "cell_type": "code",
   "execution_count": 18,
   "id": "897a3409-7f2c-43c1-aabd-9803bed1bc59",
   "metadata": {
    "vscode": {
     "languageId": "python"
    }
   },
   "outputs": [],
   "source": [
    "net1 = torch.nn.Sequential(\n",
    "    torch.nn.Linear(10,5),\n",
    "    torch.nn.Dropout(0.5),\n",
    "    torch.nn.ReLU(),\n",
    "    torch.nn.Linear(5,1)\n",
    "    \n",
    ")\n",
    "net2 = torch.nn.Sequential(\n",
    "    torch.nn.Linear(10,5),\n",
    "    torch.nn.ReLU(),\n",
    "    torch.nn.Linear(5,1)\n",
    ")"
   ]
  },
  {
   "cell_type": "code",
   "execution_count": 19,
   "id": "2fe53666-8a7e-425f-afac-3b41e813be12",
   "metadata": {},
   "outputs": [
    {
     "data": {
      "text/plain": [
       "61"
      ]
     },
     "execution_count": 19,
     "metadata": {},
     "output_type": "execute_result"
    }
   ],
   "source": [
    "sum([torch.prod(torch.tensor(l.shape)) for l in net1.parameters()]).item()"
   ]
  },
  {
   "cell_type": "code",
   "execution_count": 20,
   "id": "85699992-be93-4a08-addd-3c53caca479a",
   "metadata": {},
   "outputs": [
    {
     "data": {
      "text/plain": [
       "61"
      ]
     },
     "execution_count": 20,
     "metadata": {},
     "output_type": "execute_result"
    }
   ],
   "source": [
    "sum([torch.prod(torch.tensor(l.shape)) for l in net2.parameters()]).item()"
   ]
  },
  {
   "cell_type": "markdown",
   "id": "cde04a81-0939-4deb-b7e0-09cb5ad34d12",
   "metadata": {},
   "source": [
    "> 둘다 학습 가능한 파라메터 수는 동일"
   ]
  },
  {
   "cell_type": "markdown",
   "id": "15ed9321-46e3-4273-b7e1-d7e6e5d782c0",
   "metadata": {},
   "source": [
    "`(3)` conv1과 conv2중 학습가능한 파라메터가 더 많은 쪽은 어디인가? "
   ]
  },
  {
   "cell_type": "code",
   "execution_count": 44,
   "id": "68f15770-af4c-46e4-bc9d-dd7c20dec937",
   "metadata": {
    "vscode": {
     "languageId": "python"
    }
   },
   "outputs": [],
   "source": [
    "conv1 = torch.nn.Conv2d(\n",
    "    in_channels=1, \n",
    "    out_channels=1, \n",
    "    kernel_size=3\n",
    ")\n",
    "conv2 = torch.nn.Conv2d(\n",
    "    in_channels=1, \n",
    "    out_channels=1, \n",
    "    kernel_size=5\n",
    ")"
   ]
  },
  {
   "cell_type": "markdown",
   "id": "b2f5fa05-e8b9-4701-98c9-450964340dc4",
   "metadata": {},
   "source": [
    "> conv2"
   ]
  },
  {
   "cell_type": "markdown",
   "id": "884f67a0-0a15-419b-987d-347a2980b2f4",
   "metadata": {},
   "source": [
    "`(4)` conv1과 conv2중 학습가능한 파라메터가 더 많은 쪽은 어디인가? "
   ]
  },
  {
   "cell_type": "code",
   "execution_count": 21,
   "id": "02a72285-2d63-4523-bb1d-60928c4ab8de",
   "metadata": {
    "vscode": {
     "languageId": "python"
    }
   },
   "outputs": [],
   "source": [
    "conv1 = torch.nn.Conv2d(\n",
    "    in_channels=1, \n",
    "    out_channels=2, \n",
    "    kernel_size=3\n",
    ")\n",
    "conv2 = torch.nn.Conv2d(\n",
    "    in_channels=1, \n",
    "    out_channels=1, \n",
    "    kernel_size=3\n",
    ")"
   ]
  },
  {
   "cell_type": "markdown",
   "id": "b84a7bb1-a96d-41fb-a1df-9f1ad4383df6",
   "metadata": {},
   "source": [
    "> conv1"
   ]
  },
  {
   "cell_type": "markdown",
   "id": "692bbd34-1279-4b50-822d-e7197f9ddc70",
   "metadata": {},
   "source": [
    "`(5)` conv1과 conv2중 학습가능한 파라메터가 더 많은 쪽은 어디인가? "
   ]
  },
  {
   "cell_type": "code",
   "execution_count": 23,
   "id": "52800eab-0f68-4920-bfd3-dbb8658b95dd",
   "metadata": {
    "vscode": {
     "languageId": "python"
    }
   },
   "outputs": [],
   "source": [
    "conv1 = torch.nn.Conv2d(\n",
    "    in_channels=1, \n",
    "    out_channels=2, \n",
    "    kernel_size=3,\n",
    "    stride=1\n",
    ")\n",
    "conv2 = torch.nn.Conv2d(\n",
    "    in_channels=1, \n",
    "    out_channels=2, \n",
    "    kernel_size=3,\n",
    "    stride=2\n",
    ")"
   ]
  },
  {
   "cell_type": "code",
   "execution_count": 24,
   "id": "f2594c35-1c74-4a63-80ed-d86d760cda20",
   "metadata": {},
   "outputs": [
    {
     "data": {
      "text/plain": [
       "20"
      ]
     },
     "execution_count": 24,
     "metadata": {},
     "output_type": "execute_result"
    }
   ],
   "source": [
    "sum([torch.prod(torch.tensor(l.shape)) for l in conv1.parameters()]).item()"
   ]
  },
  {
   "cell_type": "code",
   "execution_count": 25,
   "id": "29fc1543-1214-4b38-92c6-6f563ef608d9",
   "metadata": {},
   "outputs": [
    {
     "data": {
      "text/plain": [
       "20"
      ]
     },
     "execution_count": 25,
     "metadata": {},
     "output_type": "execute_result"
    }
   ],
   "source": [
    "sum([torch.prod(torch.tensor(l.shape)) for l in conv2.parameters()]).item()"
   ]
  },
  {
   "cell_type": "markdown",
   "id": "e1eb6e63-63d0-451c-bf22-450dd541b746",
   "metadata": {},
   "source": [
    "> 둘다 동일"
   ]
  },
  {
   "cell_type": "markdown",
   "id": "f53fec21-749f-4d9f-a58a-40e6b06b0c34",
   "metadata": {},
   "source": [
    "# `3`. 최적화 -- 20점"
   ]
  },
  {
   "cell_type": "code",
   "execution_count": 28,
   "id": "0694dba6-e6ea-4337-a72f-a9cbe33112f8",
   "metadata": {
    "vscode": {
     "languageId": "python"
    }
   },
   "outputs": [],
   "source": [
    "torch.manual_seed(43052)\n",
    "dist = torch.distributions.Exponential(1/2)\n",
    "x = dist.sample((10000,1))"
   ]
  },
  {
   "cell_type": "markdown",
   "id": "de8196f2-1cd1-4494-bd9f-38abb877c262",
   "metadata": {},
   "source": [
    "주어진 자료 $x_i$에 대하여 함수 $l(\\lambda)$를 최대화하는 $\\lambda$를 경사하강법 기반의 알고리즘을 이용하여 추정하라. 단 이때 $\\lambda$의 초기 추정값은 1로 설정하라. "
   ]
  },
  {
   "cell_type": "markdown",
   "id": "0b3abe0a-6998-4747-8e2d-61b4e4ba71cb",
   "metadata": {},
   "source": [
    "$$\n",
    "l(\\lambda) =\\frac{1}{n} \\sum_{i=1}^{n}\\log f(x_i), \\quad f(x_i) = \\frac{1}{\\lambda} e^{-\\frac{x_i}{\\lambda}}, \\quad x_i \\geq 0\n",
    "$$"
   ]
  },
  {
   "cell_type": "markdown",
   "id": "f330dd6d-3f77-4c59-90f2-33ee064742b6",
   "metadata": {},
   "source": [
    "**hint** \n",
    "\n",
    "- $l(\\lambda)$를 최대화하는 $\\lambda$는 $-l(\\lambda)$를 최소화합니다. \n",
    "- 이론적으로는 $l(\\lambda)$를 최대화하는 $\\lambda$는 `x.mean()`입니다. 즉 제대로 $\\lambda$를 추정한다면 `x.mean()`이 나오도록 되어있습니다. \n",
    "- 저는 경사하강법을 이용했고 학습률은 0.05로 설정했습니다. 1000회 update하니까 잘 수렴했습니다."
   ]
  },
  {
   "cell_type": "code",
   "execution_count": 30,
   "id": "02efdcf0-3166-490f-84b2-cd2527d3d539",
   "metadata": {},
   "outputs": [
    {
     "name": "stdout",
     "output_type": "stream",
     "text": [
      "추정된 lambda = 1.9872\n"
     ]
    }
   ],
   "source": [
    "def neg_l(lam) :\n",
    "    \"\"\"\n",
    "    가능도는 최대화해야 하므로, 최적화를 위해서 음수로 바꿔줌\n",
    "    \"\"\"\n",
    "    fx = (1/lam) * torch.exp(-x / lam)\n",
    "    return -torch.mean(torch.log(fx))\n",
    "\n",
    "lhat = torch.tensor([1.0], requires_grad = True)\n",
    "\n",
    "for epoc in range(300) :\n",
    "    l = neg_l(lhat)\n",
    "    l.backward()\n",
    "    lhat.data -= 0.1*lhat.grad\n",
    "    lhat.grad = None\n",
    "\n",
    "print(f\"추정된 lambda = {lhat.data[0]:.4f}\")"
   ]
  },
  {
   "cell_type": "code",
   "execution_count": 32,
   "id": "18a78659-c816-498c-bfcb-00cd13c00961",
   "metadata": {},
   "outputs": [
    {
     "data": {
      "text/plain": [
       "tensor(1.9874)"
      ]
     },
     "execution_count": 32,
     "metadata": {},
     "output_type": "execute_result"
    }
   ],
   "source": [
    "x.mean()"
   ]
  },
  {
   "cell_type": "markdown",
   "id": "9b1daf9c-1b32-4783-81fd-874442155fcd",
   "metadata": {},
   "source": [
    "# `4`. 회귀 -- 20점"
   ]
  },
  {
   "cell_type": "markdown",
   "id": "d20d4eb4-423c-4acb-bc46-7a3fc9e9d396",
   "metadata": {},
   "source": [
    "자유 낙하 운동이란 어떤 물체가 일정한 높이에서 떨어져 지면에 도달하기 까지 걸리는 시간을 다루는 물리학 개념이다.  다음은 물리학의 자유 낙하 운동에서 착안하여 생성한 데이터이다."
   ]
  },
  {
   "cell_type": "code",
   "execution_count": 35,
   "id": "f0b926f7-db73-4eb8-89ca-d77eb5fdde54",
   "metadata": {
    "vscode": {
     "languageId": "python"
    }
   },
   "outputs": [],
   "source": [
    "h = torch.rand(100)*100\n",
    "h,_ = h.sort()\n",
    "h = h.reshape(100,1)\n",
    "t = torch.sqrt(2*h/9.8) + torch.randn([100,1])*0.1"
   ]
  },
  {
   "cell_type": "markdown",
   "id": "bf2071ec-397b-4c77-8102-e3a8187d4130",
   "metadata": {},
   "source": [
    "여기에서 $h$는 낙하전의 높이(단위: m), $t$는 해당높이에서 물치가 지면에 도달하기 까지 걸리는 시간(단위:초)을 의미한다. 예를 들어 아래의 자료는 $h=97.7798, t=4.4356$를 의미하는데 "
   ]
  },
  {
   "cell_type": "code",
   "execution_count": 36,
   "id": "a3bc6281-365d-4b66-8fe9-49976266ad2c",
   "metadata": {
    "vscode": {
     "languageId": "python"
    }
   },
   "outputs": [
    {
     "data": {
      "text/plain": [
       "(tensor([97.7798]), tensor([4.4356]))"
      ]
     },
     "execution_count": 36,
     "metadata": {},
     "output_type": "execute_result"
    }
   ],
   "source": [
    "h[-1], t[-1]"
   ]
  },
  {
   "cell_type": "markdown",
   "id": "8be93d9b-ef67-4470-88a0-c88fe888011b",
   "metadata": {},
   "source": [
    "이것은 높이 $97.7798$m에서 낙하한 물체가 약 $4.4356$초만에 지면에 도달했음을 의미한다. 아래의 그림은 $x$축에 $h$, $y$축에 $t$를 두고 해당 데이터를 산점도로 시각화 한 것이다. "
   ]
  },
  {
   "cell_type": "code",
   "execution_count": 37,
   "id": "b5c8711b-385f-4e1e-aefe-bbd44533097a",
   "metadata": {
    "vscode": {
     "languageId": "python"
    }
   },
   "outputs": [
    {
     "data": {
      "image/png": "[encoded data removed]",
      "text/plain": [
       "<Figure size 640x480 with 1 Axes>"
      ]
     },
     "metadata": {},
     "output_type": "display_data"
    }
   ],
   "source": [
    "plt.plot(h,t,'o',alpha=0.5)\n",
    "plt.xlabel('Height (m)')\n",
    "plt.ylabel('Time to fall (sec)')\n",
    "plt.title('Free Fall Time vs Height')\n",
    "plt.grid(True)\n",
    "plt.show()"
   ]
  },
  {
   "cell_type": "markdown",
   "id": "eecb47df-41ec-40f8-a2fe-d2251bee39e6",
   "metadata": {},
   "source": [
    "그래프를 보면 높이가 높을 수록 낙하시간도 길어지는 경향이 관찰된다. 다만 동일한 높이라 하더라도 낙하시간이 조금씩 차이나는 경우가 있는데, 이는 사람이 시간측정을 수동으로 하며 발생하는 실험오차 때문이다. 이러한 오차에도 불구하고 $h$와 $t$사이에는 일정한 규칙이 존재하는듯 하다. 물리학과 교수님께 자문을 요청한 결과 자유낙하에 걸리는 시간은 $\\sqrt{h}$에 비례함을 알 수 있었고 이를 근거로 아래와 같은 모형을 설계하였다. \n",
    "\n",
    "$$t_i = \\beta_0 + \\beta_1 \\sqrt{h_i}+\\epsilon_i, \\quad \\epsilon_i \\sim {\\cal N}(0,\\sigma^2)$$\n",
    "\n",
    "위의 모형을 활용하여 높이 $h$로부터 낙하시간 $t$를 예측하는 신경망 모델을 설계하고 학습하라. 학습한 신경망 모델을 활용하여 높이 40m,60m,80m 에서 물체를 자유낙하 시켰을때 지면에 도달하기까지 걸리는 시간을 각각 예측하라. "
   ]
  },
  {
   "cell_type": "markdown",
   "id": "43938c1a-caa2-420a-b245-9c25d8e3711f",
   "metadata": {},
   "source": [
    "**hint**\n",
    "\n",
    "- $y_i = t_i$ 로 생각하시고 $x_i= \\sqrt{h}_i$로 생각하시면 그냥 회귀모형이죠? \n",
    "- 답은 $2.8571$초, $3.4493$초, $4.0406$초 근처로 나오면 됩니다.\n",
    "- 제시된 모형($t_i = \\beta_0 + \\beta_1 \\sqrt{h_i}+\\epsilon_i$)을 무시하고 04wk-2와 같은 방식으로 신경망을 설계하고 푸셔도 만점으로 인정합니다. "
   ]
  },
  {
   "cell_type": "code",
   "execution_count": 40,
   "id": "0d111160-1789-4811-b148-7ce13bd8c3df",
   "metadata": {},
   "outputs": [],
   "source": [
    "x = h**0.5\n",
    "y = t\n",
    "\n",
    "net = torch.nn.Linear(1, 1)\n",
    "\n",
    "loss_fn = torch.nn.MSELoss()\n",
    "optimizr = torch.optim.Adam(net.parameters(), lr = 0.1)\n",
    "\n",
    "##---##\n",
    "for epoc in range(1000) :\n",
    "    yhat = net(x)\n",
    "\n",
    "    loss = loss_fn(yhat, y)\n",
    "    loss.backward()\n",
    "\n",
    "    optimizr.step()\n",
    "    optimizr.zero_grad()"
   ]
  },
  {
   "cell_type": "code",
   "execution_count": 44,
   "id": "a04c5991-c8ea-422e-8f4b-2cfbbf88e849",
   "metadata": {},
   "outputs": [],
   "source": [
    "xx = torch.tensor([[40.0],\n",
    "                   [60.0],\n",
    "                   [80.0]])**0.5"
   ]
  },
  {
   "cell_type": "code",
   "execution_count": 49,
   "id": "0a2a7619-5748-4b5d-9191-cf04b9390c16",
   "metadata": {},
   "outputs": [
    {
     "name": "stdout",
     "output_type": "stream",
     "text": [
      "h = 40 : 2.8597\n",
      "h = 60 : 3.5096\n",
      "h = 80 : 4.0575\n"
     ]
    }
   ],
   "source": [
    "result = net(xx)\n",
    "\n",
    "print(f\"h = 40 : {result[0].item():.4f}\\nh = 60 : {result[1].item():.4f}\\nh = 80 : {result[2].item():.4f}\")"
   ]
  },
  {
   "cell_type": "markdown",
   "id": "3225e91e-6e93-4381-b488-fe5f4276b958",
   "metadata": {},
   "source": [
    "# `5`. 분류 -- 10점"
   ]
  },
  {
   "cell_type": "markdown",
   "id": "56a87ecb-a051-49a2-bbd1-ef1e92fd3a22",
   "metadata": {},
   "source": [
    "> 모든 문항을 맞출경우만 10점으로 인정 "
   ]
  },
  {
   "cell_type": "markdown",
   "id": "43bc2a74-8fa4-48cc-a139-8b2e42398c6a",
   "metadata": {},
   "source": [
    "아래의 자료를 고려하자. "
   ]
  },
  {
   "cell_type": "code",
   "execution_count": 52,
   "id": "a703e87c-bcdc-4419-9244-db77b53c85e5",
   "metadata": {
    "vscode": {
     "languageId": "python"
    }
   },
   "outputs": [
    {
     "data": {
      "text/html": [
       "<div>\n",
       "<style scoped>\n",
       "    .dataframe tbody tr th:only-of-type {\n",
       "        vertical-align: middle;\n",
       "    }\n",
       "\n",
       "    .dataframe tbody tr th {\n",
       "        vertical-align: top;\n",
       "    }\n",
       "\n",
       "    .dataframe thead th {\n",
       "        text-align: right;\n",
       "    }\n",
       "</style>\n",
       "<table border=\"1\" class=\"dataframe\">\n",
       "  <thead>\n",
       "    <tr style=\"text-align: right;\">\n",
       "      <th></th>\n",
       "      <th>SepalLength</th>\n",
       "      <th>SepalWidth</th>\n",
       "      <th>PetalLength</th>\n",
       "      <th>PetalWidth</th>\n",
       "      <th>Species</th>\n",
       "    </tr>\n",
       "  </thead>\n",
       "  <tbody>\n",
       "    <tr>\n",
       "      <th>0</th>\n",
       "      <td>5.1</td>\n",
       "      <td>3.5</td>\n",
       "      <td>1.4</td>\n",
       "      <td>0.2</td>\n",
       "      <td>0.0</td>\n",
       "    </tr>\n",
       "    <tr>\n",
       "      <th>1</th>\n",
       "      <td>4.9</td>\n",
       "      <td>3.0</td>\n",
       "      <td>1.4</td>\n",
       "      <td>0.2</td>\n",
       "      <td>0.0</td>\n",
       "    </tr>\n",
       "    <tr>\n",
       "      <th>2</th>\n",
       "      <td>4.7</td>\n",
       "      <td>3.2</td>\n",
       "      <td>1.3</td>\n",
       "      <td>0.2</td>\n",
       "      <td>0.0</td>\n",
       "    </tr>\n",
       "    <tr>\n",
       "      <th>3</th>\n",
       "      <td>4.6</td>\n",
       "      <td>3.1</td>\n",
       "      <td>1.5</td>\n",
       "      <td>0.2</td>\n",
       "      <td>0.0</td>\n",
       "    </tr>\n",
       "    <tr>\n",
       "      <th>4</th>\n",
       "      <td>5.0</td>\n",
       "      <td>3.6</td>\n",
       "      <td>1.4</td>\n",
       "      <td>0.2</td>\n",
       "      <td>0.0</td>\n",
       "    </tr>\n",
       "    <tr>\n",
       "      <th>...</th>\n",
       "      <td>...</td>\n",
       "      <td>...</td>\n",
       "      <td>...</td>\n",
       "      <td>...</td>\n",
       "      <td>...</td>\n",
       "    </tr>\n",
       "    <tr>\n",
       "      <th>145</th>\n",
       "      <td>6.7</td>\n",
       "      <td>3.0</td>\n",
       "      <td>5.2</td>\n",
       "      <td>2.3</td>\n",
       "      <td>2.0</td>\n",
       "    </tr>\n",
       "    <tr>\n",
       "      <th>146</th>\n",
       "      <td>6.3</td>\n",
       "      <td>2.5</td>\n",
       "      <td>5.0</td>\n",
       "      <td>1.9</td>\n",
       "      <td>2.0</td>\n",
       "    </tr>\n",
       "    <tr>\n",
       "      <th>147</th>\n",
       "      <td>6.5</td>\n",
       "      <td>3.0</td>\n",
       "      <td>5.2</td>\n",
       "      <td>2.0</td>\n",
       "      <td>2.0</td>\n",
       "    </tr>\n",
       "    <tr>\n",
       "      <th>148</th>\n",
       "      <td>6.2</td>\n",
       "      <td>3.4</td>\n",
       "      <td>5.4</td>\n",
       "      <td>2.3</td>\n",
       "      <td>2.0</td>\n",
       "    </tr>\n",
       "    <tr>\n",
       "      <th>149</th>\n",
       "      <td>5.9</td>\n",
       "      <td>3.0</td>\n",
       "      <td>5.1</td>\n",
       "      <td>1.8</td>\n",
       "      <td>2.0</td>\n",
       "    </tr>\n",
       "  </tbody>\n",
       "</table>\n",
       "<p>150 rows × 5 columns</p>\n",
       "</div>"
      ],
      "text/plain": [
       "     SepalLength  SepalWidth  PetalLength  PetalWidth  Species\n",
       "0            5.1         3.5          1.4         0.2      0.0\n",
       "1            4.9         3.0          1.4         0.2      0.0\n",
       "2            4.7         3.2          1.3         0.2      0.0\n",
       "3            4.6         3.1          1.5         0.2      0.0\n",
       "4            5.0         3.6          1.4         0.2      0.0\n",
       "..           ...         ...          ...         ...      ...\n",
       "145          6.7         3.0          5.2         2.3      2.0\n",
       "146          6.3         2.5          5.0         1.9      2.0\n",
       "147          6.5         3.0          5.2         2.0      2.0\n",
       "148          6.2         3.4          5.4         2.3      2.0\n",
       "149          5.9         3.0          5.1         1.8      2.0\n",
       "\n",
       "[150 rows x 5 columns]"
      ]
     },
     "execution_count": 52,
     "metadata": {},
     "output_type": "execute_result"
    }
   ],
   "source": [
    "df = pd.read_csv(\"https://raw.githubusercontent.com/guebin/DL2025/main/posts/iris.csv\")\n",
    "df"
   ]
  },
  {
   "cell_type": "markdown",
   "id": "ba971445-6207-4a31-92ff-bee66ab7a903",
   "metadata": {},
   "source": [
    "위의 자료는 아이리스 데이터셋으로 머신러닝에서 자주 사용되는 분류(classification) 예제 데이터이다. 데이터는 다음과 같은 특징을 가지고 있다:\n",
    "\n",
    "**샘플 수: 150개**\n",
    "\n",
    "**특징 수: 4개**\n",
    "\n",
    "- 꽃받침 길이 (sepal length)\n",
    "- 꽃받침 너비 (sepal width)\n",
    "- 꽃잎 길이 (petal length)\n",
    "- 꽃잎 너비 (petal width)\n",
    "\n",
    "**클래스 수: 3개 (각 50개 샘플)**\n",
    "\n",
    "- 0: setosa\n",
    "- 1: versicolor\n",
    "- 2: virginica"
   ]
  },
  {
   "cell_type": "markdown",
   "id": "dab1cff4-6894-4680-b27b-1d6883725512",
   "metadata": {},
   "source": [
    "`(1)` 주어진 데이터를 8:2 비율로 학습용(df_train)과 테스트용(df_test)으로 나누고,  SepalLength, SepalWidth, PetalLength, PetalWidth를 입력으로 하여 Species를 예측할 수 있도록 데이터를 텐서 형태로 변환하라."
   ]
  },
  {
   "cell_type": "markdown",
   "id": "112f48da-5518-4d31-bfff-3cc4cea350ac",
   "metadata": {},
   "source": [
    "hint: 아래의 코드를 활용할 것 "
   ]
  },
  {
   "cell_type": "markdown",
   "id": "585e7ddf-19fe-450e-875a-7c4d1fa7077b",
   "metadata": {},
   "source": [
    "```Python\n",
    "df_train = df.sample(frac=0.8, random_state=42)\n",
    "df_test = df.drop(df_train.index)\n",
    "#---#\n",
    "X = torch.tensor(df_train.iloc[:,:4].values).float()\n",
    "y = ???\n",
    "XX = ???\n",
    "yy = ???\n",
    "```"
   ]
  },
  {
   "cell_type": "code",
   "execution_count": 53,
   "id": "da596931-aba1-47a8-96c5-9d4d62f8afa3",
   "metadata": {},
   "outputs": [],
   "source": [
    "df_train = df.sample(frac=0.8, random_state=42)\n",
    "df_test = df.drop(df_train.index)\n",
    "#---#\n",
    "X = torch.tensor(df_train.iloc[:,:4].values).float()\n",
    "y = torch.tensor(df_train.iloc[:, 4].values).long()\n",
    "XX = torch.tensor(df_test.iloc[:,:4].values).float()\n",
    "yy = torch.tensor(df_test.iloc[:, 4].values).long()"
   ]
  },
  {
   "cell_type": "markdown",
   "id": "e7f1ada3-2022-4ec3-bb13-3276ab8162b5",
   "metadata": {},
   "source": [
    "`(2)`  아래의 제약사항에 맞추어 Species를 예측할 수 있는 적당한 네트워크를 학습하라.\n",
    "\n",
    "**제약사항** \n",
    "\n",
    "- 학습 후 test accuracy 가 70% 이상일것\n",
    "-  매 epoch마다 loss와 train accuracy를 출력할 것  "
   ]
  },
  {
   "cell_type": "markdown",
   "id": "685b6df9-a0df-4863-9be2-4b0d425a8fad",
   "metadata": {},
   "source": [
    "> 시험시간에 학습할 필요 없이, 기존에 공부했던 코드를 그대로 결과로 제시해도 무방함. "
   ]
  },
  {
   "cell_type": "markdown",
   "id": "eb49907a-db7d-47e5-9a78-661e696b4a54",
   "metadata": {},
   "source": [
    "`(풀이)`"
   ]
  },
  {
   "cell_type": "code",
   "execution_count": 110,
   "id": "4fa6f835-987c-4277-980c-7562bc2bca95",
   "metadata": {},
   "outputs": [],
   "source": [
    "ds_train = torch.utils.data.TensorDataset(X, y)\n",
    "dl_train = torch.utils.data.DataLoader(ds_train, batch_size = 50, shuffle = True)\n",
    "\n",
    "ds_test = torch.utils.data.TensorDataset(XX, yy)\n",
    "dl_test = torch.utils.data.DataLoader(ds_test, batch_size = 30)"
   ]
  },
  {
   "cell_type": "code",
   "execution_count": 114,
   "id": "69c46b2a-6414-42ef-ae48-fca90fac3cec",
   "metadata": {},
   "outputs": [
    {
     "name": "stdout",
     "output_type": "stream",
     "text": [
      "epoch : 0,\tloss = 4.8009\ttrain_acc = 0.6417\n",
      "epoch : 1,\tloss = 0.8076\ttrain_acc = 0.6833\n",
      "epoch : 2,\tloss = 0.5895\ttrain_acc = 0.6750\n",
      "epoch : 3,\tloss = 0.7373\ttrain_acc = 0.6833\n",
      "epoch : 4,\tloss = 0.6054\ttrain_acc = 0.6833\n",
      "epoch : 5,\tloss = 0.4740\ttrain_acc = 0.7167\n",
      "epoch : 6,\tloss = 0.6598\ttrain_acc = 0.8417\n",
      "epoch : 7,\tloss = 0.5589\ttrain_acc = 0.9583\n",
      "epoch : 8,\tloss = 0.5419\ttrain_acc = 0.8333\n",
      "epoch : 9,\tloss = 0.5545\ttrain_acc = 0.9500\n",
      "epoch : 10,\tloss = 0.4567\ttrain_acc = 0.9250\n",
      "epoch : 11,\tloss = 0.3631\ttrain_acc = 0.8667\n",
      "epoch : 12,\tloss = 0.3139\ttrain_acc = 0.7667\n",
      "epoch : 13,\tloss = 0.4084\ttrain_acc = 0.9583\n",
      "epoch : 14,\tloss = 0.4435\ttrain_acc = 0.9583\n",
      "epoch : 15,\tloss = 0.4534\ttrain_acc = 0.9583\n",
      "epoch : 16,\tloss = 0.3646\ttrain_acc = 0.8833\n",
      "epoch : 17,\tloss = 0.3546\ttrain_acc = 0.9417\n",
      "epoch : 18,\tloss = 0.4762\ttrain_acc = 0.9667\n",
      "epoch : 19,\tloss = 0.4475\ttrain_acc = 0.9833\n",
      "epoch : 20,\tloss = 0.3228\ttrain_acc = 0.9167\n",
      "epoch : 21,\tloss = 0.4942\ttrain_acc = 0.9667\n",
      "epoch : 22,\tloss = 0.3336\ttrain_acc = 0.8167\n",
      "epoch : 23,\tloss = 0.1874\ttrain_acc = 0.8000\n",
      "epoch : 24,\tloss = 0.4608\ttrain_acc = 0.9750\n",
      "epoch : 25,\tloss = 0.4915\ttrain_acc = 0.9500\n",
      "epoch : 26,\tloss = 0.3591\ttrain_acc = 0.8917\n",
      "epoch : 27,\tloss = 0.3180\ttrain_acc = 0.9667\n",
      "epoch : 28,\tloss = 0.4952\ttrain_acc = 0.9500\n",
      "epoch : 29,\tloss = 0.5662\ttrain_acc = 0.9750\n"
     ]
    }
   ],
   "source": [
    "net = torch.nn.Sequential(\n",
    "    torch.nn.Linear(4, 64),\n",
    "    torch.nn.ReLU(),\n",
    "    torch.nn.Dropout(),\n",
    "    torch.nn.Linear(64, 3)\n",
    ").to(\"cuda:0\")\n",
    "\n",
    "loss_fn = torch.nn.CrossEntropyLoss()\n",
    "optimizr = torch.optim.Adam(net.parameters(), lr = 0.1)\n",
    "\n",
    "##---##\n",
    "for epoc in range(30) :\n",
    "    net.train()\n",
    "    \n",
    "    for Xm, ym in dl_train :\n",
    "        Xm = Xm.to(\"cuda:0\")\n",
    "        ym = ym.to(\"cuda:0\")\n",
    "        netout = net(Xm)\n",
    "\n",
    "        loss = loss_fn(netout, ym)\n",
    "        loss.backward()\n",
    "    \n",
    "        optimizr.step()\n",
    "        optimizr.zero_grad()\n",
    "\n",
    "    net.eval()\n",
    "    \n",
    "    s = 0\n",
    "    \n",
    "    for Xm, ym in dl_train :\n",
    "        Xm = Xm.to(\"cuda:0\")\n",
    "        ym = ym.to(\"cuda:0\")\n",
    "\n",
    "        s += ((net(Xm).argmax(axis = 1)) == ym).sum()\n",
    "\n",
    "    train_acc = s/len(X)\n",
    "    print(f\"epoch : {epoc},\\tloss = {loss:.4f}\\ttrain_acc = {train_acc:.4f}\")"
   ]
  },
  {
   "cell_type": "code",
   "execution_count": 115,
   "id": "4153d821-6210-4883-97d7-37e8fb7b17d3",
   "metadata": {},
   "outputs": [
    {
     "name": "stdout",
     "output_type": "stream",
     "text": [
      "test_acc = 1.0000\n"
     ]
    }
   ],
   "source": [
    "net.eval()\n",
    "s = 0\n",
    "\n",
    "for Xm, ym in dl_test :\n",
    "    Xm = Xm.to(\"cuda:0\")\n",
    "    ym = ym.to(\"cuda:0\")\n",
    "\n",
    "    s += (net(Xm).argmax(axis = 1) == ym).sum()\n",
    "\n",
    "test_acc = s/len(XX)\n",
    "\n",
    "print(f\"test_acc = {test_acc:.4f}\")"
   ]
  },
  {
   "cell_type": "markdown",
   "id": "77639499-6d30-4a3d-b656-40b64b0f1c17",
   "metadata": {},
   "source": [
    "# `6`. CNN -- 20점"
   ]
  },
  {
   "cell_type": "markdown",
   "id": "a17cc8f7-bcf6-4650-a65a-7e551f4e4818",
   "metadata": {},
   "source": [
    "아래는 FashionMNIST 데이터셋을 불러와 torch tensor로 변환하는 코드이다. "
   ]
  },
  {
   "cell_type": "code",
   "execution_count": 2,
   "id": "f97b7f9f-c8a1-4706-8745-126552960091",
   "metadata": {
    "vscode": {
     "languageId": "python"
    }
   },
   "outputs": [],
   "source": [
    "df_train=pd.read_csv('https://media.githubusercontent.com/media/guebin/PP2023/main/posts/fashion-mnist_train.csv')\n",
    "df_test=pd.read_csv('https://media.githubusercontent.com/media/guebin/PP2023/main/posts/fashion-mnist_test.csv')\n",
    "X = torch.tensor(df_train.iloc[:, 1:].to_numpy().reshape(-1, 1, 28, 28),dtype=torch.float32)\n",
    "XX = torch.tensor(df_test.iloc[:, 1:].to_numpy().reshape(-1, 1, 28, 28),dtype=torch.float32)\n",
    "y = torch.tensor(df_train['label'].to_numpy(), dtype=torch.long)\n",
    "yy = torch.tensor(df_test['label'].to_numpy(), dtype=torch.long)"
   ]
  },
  {
   "cell_type": "markdown",
   "id": "e95a894e-0f17-475e-8d0b-8712c88f69ed",
   "metadata": {},
   "source": [
    "여기에서 `X`, `y`는 학습 데이터와 라벨, `XX`, `yy`는 테스트 데이터와 라벨을 의미한다. 아래의 제약사항에 맞추어 이 데이터를 학습할 수 있는 적당한 네트워크를 학습하라. "
   ]
  },
  {
   "cell_type": "markdown",
   "id": "c1bee1a3-a6e4-4751-b098-a636f009e113",
   "metadata": {},
   "source": [
    "**제약사항** \n",
    "\n",
    "- 학습 후 test accuracy 가 70% 이상일것\n",
    "-  매 epoch마다 loss와 train accuracy를 출력할 것\n",
    "-  네트워크에 `torch.nn.Conv2d`를 반드시 포함시킬 것 "
   ]
  },
  {
   "cell_type": "code",
   "execution_count": 13,
   "id": "d011ef51-f81f-42a0-bfb9-2c4d88df38f9",
   "metadata": {},
   "outputs": [
    {
     "data": {
      "text/plain": [
       "10"
      ]
     },
     "execution_count": 13,
     "metadata": {},
     "output_type": "execute_result"
    }
   ],
   "source": [
    "len(y.unique())"
   ]
  },
  {
   "cell_type": "code",
   "execution_count": 6,
   "id": "4efa0fc0-9b4c-4c00-affd-bb6ebccc50ae",
   "metadata": {},
   "outputs": [],
   "source": [
    "ds_train = torch.utils.data.TensorDataset(X, y)\n",
    "dl_train = torch.utils.data.DataLoader(ds_train, batch_size = 1024, shuffle = True)\n",
    "\n",
    "ds_test = torch.utils.data.TensorDataset(XX, yy)\n",
    "dl_test = torch.utils.data.DataLoader(ds_test, batch_size = 1024)"
   ]
  },
  {
   "cell_type": "code",
   "execution_count": 17,
   "id": "6dce2559-3ea4-4004-97b3-8440d9e93d94",
   "metadata": {},
   "outputs": [],
   "source": [
    "net = torch.nn.Sequential(\n",
    "    torch.nn.Conv2d(1, 64, kernel_size = 5, padding = 2),\n",
    "    torch.nn.ReLU(),\n",
    "    torch.nn.Dropout(0.25),\n",
    "    torch.nn.MaxPool2d(kernel_size = 3, padding = 1),\n",
    "    torch.nn.Conv2d(64, 64, kernel_size = 3, padding = 1),\n",
    "    torch.nn.ReLU(),\n",
    "    torch.nn.Dropout(0.25),\n",
    "    torch.nn.MaxPool2d(kernel_size = 3, padding = 1),\n",
    "    \n",
    "    torch.nn.Flatten(),\n",
    "    torch.nn.Linear(1024, 10)\n",
    ").to(\"cuda:0\")\n",
    "\n",
    "loss_fn = torch.nn.CrossEntropyLoss()\n",
    "optimizr = torch.optim.Adam(net.parameters())"
   ]
  },
  {
   "cell_type": "code",
   "execution_count": 18,
   "id": "ba72ce63-467a-4db4-bb73-4c3462d86725",
   "metadata": {},
   "outputs": [
    {
     "name": "stdout",
     "output_type": "stream",
     "text": [
      "epoch : 0,\ttrain_acc = 0.7600,\ttest_acc = 0.7536\n",
      "epoch : 10,\ttrain_acc = 0.8849,\ttest_acc = 0.8799\n",
      "epoch : 20,\ttrain_acc = 0.9038,\ttest_acc = 0.8916\n",
      "epoch : 30,\ttrain_acc = 0.9193,\ttest_acc = 0.9049\n",
      "epoch : 40,\ttrain_acc = 0.9193,\ttest_acc = 0.9049\n",
      "epoch : 50,\ttrain_acc = 0.9245,\ttest_acc = 0.9051\n",
      "epoch : 60,\ttrain_acc = 0.9255,\ttest_acc = 0.9098\n",
      "epoch : 70,\ttrain_acc = 0.9399,\ttest_acc = 0.9183\n",
      "epoch : 80,\ttrain_acc = 0.9434,\ttest_acc = 0.9179\n",
      "epoch : 90,\ttrain_acc = 0.9474,\ttest_acc = 0.9186\n"
     ]
    }
   ],
   "source": [
    "##---##\n",
    "for epoc in range(100) :\n",
    "    net.train()\n",
    "\n",
    "    for Xm, ym in dl_train :\n",
    "        Xm = Xm.to(\"cuda:0\")\n",
    "        ym = ym.to(\"cuda:0\")\n",
    "        netout = net(Xm)\n",
    "\n",
    "        loss = loss_fn(netout, ym)\n",
    "        loss.backward()\n",
    "    \n",
    "        optimizr.step()\n",
    "        optimizr.zero_grad()\n",
    "\n",
    "    ## evaluation\n",
    "    if epoc % 10 == 0 :\n",
    "        net.eval()\n",
    "    \n",
    "        s = 0\n",
    "        \n",
    "        for Xm, ym in dl_train :\n",
    "            Xm = Xm.to(\"cuda:0\")\n",
    "            ym = ym.to(\"cuda:0\")\n",
    "    \n",
    "            s += ((net(Xm).argmax(axis = 1)) == ym).sum()\n",
    "    \n",
    "        train_acc = s/len(X)\n",
    "\n",
    "\n",
    "        s = 0\n",
    "        \n",
    "        for Xm, ym in dl_test :\n",
    "            Xm = Xm.to(\"cuda:0\")\n",
    "            ym = ym.to(\"cuda:0\")\n",
    "    \n",
    "            s += ((net(Xm).argmax(axis = 1)) == ym).sum()\n",
    "    \n",
    "        test_acc = s/len(XX)\n",
    "        print(f\"epoch : {epoc},\\ttrain_acc = {train_acc:.4f},\\ttest_acc = {test_acc:.4f}\")"
   ]
  },
  {
   "cell_type": "code",
   "execution_count": 20,
   "id": "0d1c2b88-6faf-4eeb-8a10-6ab5c0c19f69",
   "metadata": {},
   "outputs": [
    {
     "name": "stdout",
     "output_type": "stream",
     "text": [
      "최종 test accuracy = 0.9049\n"
     ]
    }
   ],
   "source": [
    "## 최종 평가\n",
    "s = 0\n",
    "\n",
    "for Xm, ym in dl_test :\n",
    "    Xm = Xm.to(\"cuda:0\")\n",
    "    ym = ym.to(\"cuda:0\")\n",
    "\n",
    "    s += ((net(Xm).argmax(axis = 1)) == ym).sum()\n",
    "\n",
    "test_acc = s/len(XX)\n",
    "print(f\"최종 test accuracy = {test_acc:.4f}\")"
   ]
  },
  {
   "cell_type": "markdown",
   "id": "4178d20c-6c39-4e42-9191-9c2b63c6e75e",
   "metadata": {},
   "source": [
    "---\n",
    "\n",
    "7, 8번 문제 풀이는 다른 파일에 있습니다."
   ]
  }
 ],
 "metadata": {
  "kernelspec": {
   "display_name": "Python 3 (ipykernel)",
   "language": "python",
   "name": "python3"
  },
  "language_info": {
   "codemirror_mode": {
    "name": "ipython",
    "version": 3
   },
   "file_extension": ".py",
   "mimetype": "text/x-python",
   "name": "python",
   "nbconvert_exporter": "python",
   "pygments_lexer": "ipython3",
   "version": "3.9.18"
  }
 },
 "nbformat": 4,
 "nbformat_minor": 5
}
