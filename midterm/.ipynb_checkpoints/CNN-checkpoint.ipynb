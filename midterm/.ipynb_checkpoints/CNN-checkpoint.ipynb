{
 "cells": [
  {
   "cell_type": "code",
   "execution_count": 2,
   "id": "dda6b5e4-436d-4d5b-9a4f-c700cdab1ffb",
   "metadata": {},
   "outputs": [],
   "source": [
    "import torch\n",
    "import torchvision\n",
    "\n",
    "import matplotlib.pyplot as plt"
   ]
  },
  {
   "cell_type": "code",
   "execution_count": 11,
   "id": "f6b909bb-9f7f-44ba-b82f-c147db70bb4d",
   "metadata": {},
   "outputs": [
    {
     "name": "stderr",
     "output_type": "stream",
     "text": [
      "100.0%\n"
     ]
    }
   ],
   "source": [
    "train_dataset = torchvision.datasets.CIFAR10(root='./data', train=True, download=True,transform=torchvision.transforms.ToTensor())\n",
    "test_dataset = torchvision.datasets.CIFAR10(root='./data', train=False, download=True,transform=torchvision.transforms.ToTensor())\n",
    "X,y = next(iter(torch.utils.data.DataLoader(train_dataset,batch_size=10000,shuffle=True)))\n",
    "XX,yy = next(iter(torch.utils.data.DataLoader(train_dataset,batch_size=2000,shuffle=True)))"
   ]
  },
  {
   "cell_type": "code",
   "execution_count": 64,
   "id": "42e73c37-e141-4855-b026-8a893735be30",
   "metadata": {},
   "outputs": [],
   "source": [
    "ds_train = torch.utils.data.TensorDataset(X, y)\n",
    "dl_train = torch.utils.data.DataLoader(ds_train, batch_size = 1024, shuffle = True)\n",
    "\n",
    "ds_test = torch.utils.data.TensorDataset(XX, yy)\n",
    "dl_test = torch.utils.data.DataLoader(ds_test, batch_size = 1024)"
   ]
  },
  {
   "cell_type": "code",
   "execution_count": 75,
   "id": "2dd279b4-85bb-43a9-951d-dc5627ba63c0",
   "metadata": {},
   "outputs": [
    {
     "data": {
      "text/plain": [
       "torch.Size([3, 32, 32])"
      ]
     },
     "execution_count": 75,
     "metadata": {},
     "output_type": "execute_result"
    }
   ],
   "source": [
    "X[0].shape"
   ]
  },
  {
   "cell_type": "code",
   "execution_count": 100,
   "id": "cc811abd-63b0-4d0e-91a5-8b1499e8385e",
   "metadata": {},
   "outputs": [],
   "source": [
    "net = torch.nn.Sequential(\n",
    "    torch.nn.Conv2d(3, 64, kernel_size = 5, padding = 2),\n",
    "    torch.nn.ReLU(),\n",
    "    torch.nn.Dropout(0.25),\n",
    "    torch.nn.MaxPool2d(kernel_size = 3, padding = 1),\n",
    "    torch.nn.Conv2d(64, 64, kernel_size = 3, padding = 1),\n",
    "    torch.nn.ReLU(),\n",
    "    torch.nn.Dropout(0.25),\n",
    "    torch.nn.MaxPool2d(kernel_size = 3, padding = 1),\n",
    "    \n",
    "    torch.nn.Flatten(),\n",
    "    torch.nn.Linear(1024, 10)\n",
    ").to(\"cuda:0\")"
   ]
  },
  {
   "cell_type": "code",
   "execution_count": 101,
   "id": "f4405d14-330f-4c88-ba13-fd411dc15977",
   "metadata": {},
   "outputs": [],
   "source": [
    "loss_fn = torch.nn.CrossEntropyLoss()\n",
    "optimizr = torch.optim.Adam(net.parameters())"
   ]
  },
  {
   "cell_type": "code",
   "execution_count": null,
   "id": "f336bc2b-0434-4ba8-91a9-2d561510f8ee",
   "metadata": {},
   "outputs": [
    {
     "name": "stdout",
     "output_type": "stream",
     "text": [
      "epoch : 0,\ttrain_acc = 0.2673,\ttest_acc = 0.2535\n",
      "epoch : 50,\ttrain_acc = 0.6652,\ttest_acc = 0.6125\n",
      "epoch : 100,\ttrain_acc = 0.7503,\ttest_acc = 0.6535\n"
     ]
    }
   ],
   "source": [
    "##---##\n",
    "for epoc in range(1000) :\n",
    "    net.train()\n",
    "\n",
    "    for Xm, ym in dl_train :\n",
    "        Xm = Xm.to(\"cuda:0\")\n",
    "        ym = ym.to(\"cuda:0\")\n",
    "        netout = net(Xm)\n",
    "\n",
    "        loss = loss_fn(netout, ym)\n",
    "        loss.backward()\n",
    "    \n",
    "        optimizr.step()\n",
    "        optimizr.zero_grad()\n",
    "\n",
    "    ## evaluation\n",
    "    if epoc % 50 == 0 :\n",
    "        net.eval()\n",
    "    \n",
    "        s = 0\n",
    "        \n",
    "        for Xm, ym in dl_train :\n",
    "            Xm = Xm.to(\"cuda:0\")\n",
    "            ym = ym.to(\"cuda:0\")\n",
    "    \n",
    "            s += ((net(Xm).argmax(axis = 1)) == ym).sum()\n",
    "    \n",
    "        train_acc = s/len(X)\n",
    "\n",
    "\n",
    "        s = 0\n",
    "        \n",
    "        for Xm, ym in dl_test :\n",
    "            Xm = Xm.to(\"cuda:0\")\n",
    "            ym = ym.to(\"cuda:0\")\n",
    "    \n",
    "            s += ((net(Xm).argmax(axis = 1)) == ym).sum()\n",
    "    \n",
    "        test_acc = s/len(XX)\n",
    "        print(f\"epoch : {epoc},\\ttrain_acc = {train_acc:.4f},\\ttest_acc = {test_acc:.4f}\")"
   ]
  },
  {
   "cell_type": "code",
   "execution_count": null,
   "id": "5b9eebfc-a419-4689-81f8-bcf11a1b4d86",
   "metadata": {},
   "outputs": [],
   "source": []
  }
 ],
 "metadata": {
  "kernelspec": {
   "display_name": "Python 3 (ipykernel)",
   "language": "python",
   "name": "python3"
  },
  "language_info": {
   "codemirror_mode": {
    "name": "ipython",
    "version": 3
   },
   "file_extension": ".py",
   "mimetype": "text/x-python",
   "name": "python",
   "nbconvert_exporter": "python",
   "pygments_lexer": "ipython3",
   "version": "3.9.18"
  }
 },
 "nbformat": 4,
 "nbformat_minor": 5
}
