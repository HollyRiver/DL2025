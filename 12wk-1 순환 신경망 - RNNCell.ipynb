{
 "cells": [
  {
   "cell_type": "markdown",
   "id": "9bac18bf",
   "metadata": {},
   "source": [
    "# 12wk-1: (순환신경망) – 겹장(덧장), RNNCell"
   ]
  },
  {
   "cell_type": "markdown",
   "id": "2a20c324",
   "metadata": {},
   "source": [
    "## 1. Imports"
   ]
  },
  {
   "cell_type": "code",
   "execution_count": 1,
   "id": "6caaef90",
   "metadata": {},
   "outputs": [],
   "source": [
    "import torch\n",
    "import pandas as pd\n",
    "import matplotlib.pyplot as plt"
   ]
  },
  {
   "cell_type": "markdown",
   "id": "d77e86b8",
   "metadata": {},
   "source": [
    "## 2. 주요 코드 등"
   ]
  },
  {
   "cell_type": "markdown",
   "id": "16e08f78-3fb1-4a1a-8b3d-7495d394c636",
   "metadata": {},
   "source": [
    "`-` 기본버전\n",
    "\n",
    "-   X.shape = $(L, H_{in})$ : 문장 개수 / 문장의 단어 수\n",
    "-   h.shape = $(L, H_{out})$\n",
    "-   y.shape = $(L, Q)$\n",
    "-   Xt.shape = $(H_{in}, )$\n",
    "-   ht.shape = $(H_{out},)$\n",
    "-   yt.shape = $(Q,)$\n",
    "\n",
    "`-` `AbAcAd`를 2차원공간에 임베딩하려고 할 경우.\n",
    "\n",
    "-   X.shape = $(L, H_{in})$ = $(L,4)$ : 한 단어에 4개의 글자를 가지고 있음\n",
    "-   h.shape = $(L, H_{out})$ = $(L,2)$ : 2차원으로 줄이려고 함. 표현력은 2**2 정도\n",
    "-   y.shape = $(L, Q)$ = $(L,4)$\n",
    "-   Xt.shape = $(H_{in}, )$ = $(4,)$\n",
    "-   ht.shape = $(H_{out},)$ = $(2,)$\n",
    "-   yt.shape = $(Q,)$ = $(4,)$"
   ]
  },
  {
   "cell_type": "markdown",
   "id": "c110bc74-f708-4041-90d4-1f0aef3c1a38",
   "metadata": {},
   "source": [
    "`-` `RNNCell`을 통한 기존 AR 모형의 단점 해소\n",
    "\n",
    "```Python\n",
    "## 데이터 선언\n",
    "txt = list(\"AbAcAd\"*50)\n",
    "df_train = pd.DataFrame({'x':txt[:-1], 'y':txt[1:]})\n",
    "\n",
    "x = torch.tensor(df_train.x.map({'A':0,'b':1,'c':2,'d':3}))\n",
    "y = torch.tensor(df_train.y.map({'A':0,'b':1,'c':2,'d':3}))\n",
    "X = torch.nn.functional.one_hot(x).float() ## 임베딩 안시킬거임\n",
    "y = torch.nn.functional.one_hot(y).float()\n",
    "\n",
    "## 순환신경망 구현\n",
    "class rNNCell(torch.nn.Module) :\n",
    "    def __init__(self) :\n",
    "        super().__init__()\n",
    "        self.i2h = torch.nn.Linear(4, 2)\n",
    "        self.h2h = torch.nn.Linear(2, 2)\n",
    "        self.tanh = torch.nn.Tanh()\n",
    "\n",
    "    def forward(self, Xt, ht) :\n",
    "        return self.tanh(self.i2h(Xt) + self.h2h(ht))\n",
    "\n",
    "rnncell = rNNCell() ## h 담당, incoder\n",
    "cook = torch.nn.Linear(2, 4) ## yhat 담당, decoder\n",
    "loss_fn = torch.nn.CrossEntropyLoss()\n",
    "optimizr = torch.optim.Adam(list(rnncell.parameters()) + list(cook.parameters()), lr = 0.1)\n",
    "\n",
    "#---#\n",
    "L = len(X)\n",
    "\n",
    "for epoc in range(200) :\n",
    "    loss = 0\n",
    "    ht = torch.zeros(2) ## 초기화\n",
    "    \n",
    "    for t in range(L) :\n",
    "        Xt, yt = X[t], y[t]\n",
    "        ht = rnncell(Xt, ht)\n",
    "        ot = cook(ht) ## netout\n",
    "        loss += loss_fn(ot, yt)\n",
    "\n",
    "    loss = loss/L\n",
    "\n",
    "    loss.backward()\n",
    "    optimizr.step()\n",
    "    optimizr.zero_grad()\n",
    "```"
   ]
  },
  {
   "cell_type": "markdown",
   "id": "4e18e655-a016-4987-a7e5-feb1ccbb97c1",
   "metadata": {},
   "source": [
    "`-` 결과 확인 및 시각화"
   ]
  },
  {
   "cell_type": "code",
   "execution_count": 58,
   "id": "9822cdc3-06f9-4cb6-aeed-ee72b55ad9c2",
   "metadata": {},
   "outputs": [],
   "source": [
    "h = torch.zeros(L, 2) ## 그냥 만든거임\n",
    "water = torch.zeros(2)\n",
    "h[0] = rnncell(X[0], water) ## 이전 값과 X값에 따라 결정됨\n",
    "\n",
    "for t in range(1, L) :\n",
    "    h[t] = rnncell(X[t], h[t-1])"
   ]
  },
  {
   "cell_type": "code",
   "execution_count": 60,
   "id": "6bd4390e-c576-4d0e-b250-1493423d6cf5",
   "metadata": {},
   "outputs": [],
   "source": [
    "yhat = torch.nn.functional.softmax(cook(h), dim = 1)"
   ]
  },
  {
   "cell_type": "code",
   "execution_count": null,
   "id": "8459bb26-fd22-4158-b1ee-9af2d7e13bd9",
   "metadata": {},
   "outputs": [],
   "source": [
    "mat = torch.concat([X, h, yhat], axis = 1).data\n",
    "plt.matshow(mat[:12], cmap = \"bwr\", vmin = -1.0, vmax = 1.0)\n",
    "plt.xticks(\n",
    "    range(10),\n",
    "    [r\"$X_A$\", r\"$X_b$\",r\"$X_c$\",r\"$X_d$\", \n",
    "     r'$h_1$',r'$h_2$',\n",
    "     r'$\\hat{y}_A$',r'$\\hat{y}_b$',r'$\\hat{y}_c$',r'$\\hat{y}_d$']\n",
    ");\n",
    "plt.axvline(x=3.5,color='lime')\n",
    "plt.axvline(x=5.5,color='lime')\n",
    "plt.colorbar();"
   ]
  },
  {
   "cell_type": "markdown",
   "id": "689830c7-8813-43ea-b670-dbdfbba3f753",
   "metadata": {},
   "source": [
    "> 네트워크의 성능은 초반 부분의 분류값보다 후반 부분의 분류값의 예측 영역에서 더 뛰어남."
   ]
  },
  {
   "cell_type": "code",
   "execution_count": null,
   "id": "b8a893e8-95ec-45e1-8a87-ffc3897a41b2",
   "metadata": {},
   "outputs": [],
   "source": [
    "## 임베딩 스페이스 시각화\n",
    "h1,h2 = h.T.data\n",
    "plt.plot(h1[::6],h2[::6],'X',label=\"first A\", alpha = 0.1) ## 처음에만 학습이 흔들려서 두개로 보이는것일 뿐, 이후에는 거의 동일\n",
    "plt.plot(h1[1::6],h2[1::6],'X',label=\"b\")\n",
    "plt.plot(h1[2::6],h2[2::6],'X',label=\"second A\")\n",
    "plt.plot(h1[3::6],h2[3::6],'X',label=\"c\")\n",
    "plt.plot(h1[4::6],h2[4::6],'X',label=\"third A\")\n",
    "plt.plot(h1[5::6],h2[5::6],'X',label=\"d\")\n",
    "plt.legend()\n",
    "plt.show()"
   ]
  },
  {
   "cell_type": "markdown",
   "id": "c856dfab-6138-4240-a4e7-8b000e0b6549",
   "metadata": {},
   "source": [
    "> 실질적으로는 6개의 문자열을 임베딩해야 하는데, 임베딩 공간이 2개밖에 없어서 시드가 중요했음\n",
    ">\n",
    "> 컴퓨터가 해석할 때는 `A`를 `b, c, d`보다 더 다르게 보고 있다고 판단할 수 있음 -> 거리가 더 멈"
   ]
  },
  {
   "cell_type": "markdown",
   "id": "2f1310ce-42aa-4944-8c52-8909c09f990c",
   "metadata": {},
   "source": [
    "## 3. 예비학습"
   ]
  },
  {
   "cell_type": "markdown",
   "id": "d83c6a76-114b-4015-ba4c-ac663bb34b40",
   "metadata": {},
   "source": [
    "### **A. 파이토치의 유연성**"
   ]
  },
  {
   "cell_type": "markdown",
   "id": "15cb2895-fe51-4386-9999-7c369b30fa7c",
   "metadata": {},
   "source": [
    "`-` 아래는 엄밀한 의미에서는 계산불가능하지만, 파이토치는 그냥 해준다."
   ]
  },
  {
   "cell_type": "code",
   "execution_count": 2,
   "id": "9a49569c-8a5d-4879-8e14-0ab0c4106753",
   "metadata": {},
   "outputs": [
    {
     "data": {
      "text/plain": [
       "tensor([-5.0329])"
      ]
     },
     "execution_count": 2,
     "metadata": {},
     "output_type": "execute_result"
    }
   ],
   "source": [
    "x = torch.randn(5) ## column vector...\n",
    "W = torch.randn(5, 1)\n",
    "x@W"
   ]
  },
  {
   "cell_type": "markdown",
   "id": "dbb97a42-95fe-4d44-bd30-96ef10a6dcd2",
   "metadata": {},
   "source": [
    "`-` 이와 유사하게 아래도 엄밀한 의미에서는 계산불가능하지만 파이토치는 그냥 해준다."
   ]
  },
  {
   "cell_type": "code",
   "execution_count": 5,
   "id": "493600fe-1449-450d-b261-190c2e1115fd",
   "metadata": {},
   "outputs": [
    {
     "data": {
      "text/plain": [
       "tensor([-5.0329], grad_fn=<SqueezeBackward4>)"
      ]
     },
     "execution_count": 5,
     "metadata": {},
     "output_type": "execute_result"
    }
   ],
   "source": [
    "linr = torch.nn.Linear(5, 1, bias = False)\n",
    "linr.weight.data = W.T\n",
    "linr(x) ## 행벡터로 취급..."
   ]
  },
  {
   "cell_type": "markdown",
   "id": "c4ffc061-7f0d-4fa3-bb6e-33925f3b1166",
   "metadata": {},
   "source": [
    "### **B. loss를 계산하는 다른 방식**"
   ]
  },
  {
   "cell_type": "markdown",
   "id": "a7173851-1ae1-41e6-b270-355c6357dd67",
   "metadata": {},
   "source": [
    "`-` 아래를 가정하자."
   ]
  },
  {
   "cell_type": "code",
   "execution_count": 6,
   "id": "e70b0fab-c574-47c9-a4eb-31320ce3caec",
   "metadata": {},
   "outputs": [],
   "source": [
    "X = torch.randn(100,5)\n",
    "y = torch.randn(100,1)\n",
    "net = torch.nn.Linear(5,1)\n",
    "loss_fn = torch.nn.MSELoss()"
   ]
  },
  {
   "cell_type": "markdown",
   "id": "665281ff-877d-4cdd-acd9-8d3a409ed57d",
   "metadata": {},
   "source": [
    "`-` loss를 계산하는 방법 1"
   ]
  },
  {
   "cell_type": "code",
   "execution_count": 7,
   "id": "c2b75683-ed27-40ac-9d8e-37494362fd65",
   "metadata": {},
   "outputs": [
    {
     "data": {
      "text/plain": [
       "tensor(1.2770, grad_fn=<MseLossBackward0>)"
      ]
     },
     "execution_count": 7,
     "metadata": {},
     "output_type": "execute_result"
    }
   ],
   "source": [
    "yhat = net(X)\n",
    "loss = loss_fn(yhat, y)\n",
    "loss"
   ]
  },
  {
   "cell_type": "markdown",
   "id": "13684baf-2f26-4520-b415-1ae241ec2964",
   "metadata": {},
   "source": [
    "`-` loss를 계산하는 방법 2 : row-wise하게"
   ]
  },
  {
   "cell_type": "code",
   "execution_count": 12,
   "id": "23a2e150-77b0-4614-aca2-4edc55a76dbe",
   "metadata": {},
   "outputs": [
    {
     "data": {
      "text/plain": [
       "tensor(1.2770, grad_fn=<DivBackward0>)"
      ]
     },
     "execution_count": 12,
     "metadata": {},
     "output_type": "execute_result"
    }
   ],
   "source": [
    "loss = 0\n",
    "\n",
    "for i in range(100) :\n",
    "    Xi, yi = X[i], y[i]\n",
    "    yi_hat = net(Xi)\n",
    "    loss += loss_fn(yi_hat, yi)\n",
    "\n",
    "loss/100"
   ]
  },
  {
   "cell_type": "markdown",
   "id": "98c85734-a71c-42a1-98e2-43081cc4d296",
   "metadata": {},
   "source": [
    "## 4. 겹장(덧장)"
   ]
  },
  {
   "cell_type": "markdown",
   "id": "582f185a-23b3-4ed0-8eb6-157d88fcdc1b",
   "metadata": {},
   "source": [
    "***(생각1) ${\\boldsymbol h}$에 대한 이해***\n",
    "\n",
    "`-` ${\\boldsymbol h}$는 사실 문자열 “abc, abcd”들을 숫자로 바꾼 표현이라\n",
    "해석할 수 있음. 즉 원핫인코딩과 다른 또 다른 형태의 숫자표현이라 해석할\n",
    "수 있다.\n",
    "\n",
    "`-` 사실 ${\\boldsymbol h}$는 원핫인코딩보다 약간 더 (1) 액기스만 남은\n",
    "느낌 + (2) 숙성된 느낌을 준다\n",
    "\n",
    "-   (why1) ${\\boldsymbol h}$는 ${\\boldsymbol x}$ 보다\n",
    "    ${\\boldsymbol y}$를 예측함에 좀 더 직접적인 역할을 한다. 즉\n",
    "    ${\\boldsymbol x}$ 숫자보다 ${\\boldsymbol h}$ 숫자가 잘 정리되어 있고\n",
    "    (차원이 낮고) 입력의 특징을 잘 정리한 (추천시스템의 MBTI처럼)\n",
    "    의미있는 숫자이다.\n",
    "-   (why2) ${\\boldsymbol x}$는 학습없이 그냥 얻어지는 숫자표현이지만,\n",
    "    ${\\boldsymbol h}$는 학습을 통하여 고치고 고치고 고친 숫자표현이다.\n",
    "\n",
    "결론: 사실 ${\\boldsymbol h}$는 잘 숙성되어있는 입력정보\n",
    "${\\boldsymbol x}$ 그 자체로 해석 할 수 있다."
   ]
  },
  {
   "cell_type": "markdown",
   "id": "5dce6788-20ad-4504-aa1c-4b2b7ba6c904",
   "metadata": {},
   "source": [
    "***(생각2) [수백년전통을 이어가는\n",
    "방법](https://www.joongang.co.kr/article/24087690#home)***\n",
    "\n",
    "    “1리터에 500만원에 낙찰된 적 있습니다.”\n",
    "    “2kg에 1억원 정도 추산됩니다.”\n",
    "    “20여 종 종자장을 블렌딩해 100ml에 5000만원씩 분양 예정입니다.”\n",
    "\n",
    "    모두 씨간장(종자장) 가격에 관한 실제 일화다.\n",
    "\n",
    "    (중략...)\n",
    "\n",
    "    위스키나 와인처럼 블렌딩을 하기도 한다. \n",
    "    새로 담근 간장에 씨간장을 넣거나, 씨간장독에 햇간장을 넣어 맛을 유지하기도 한다. \n",
    "    이를 겹장(또는 덧장)이라 한다. \n",
    "    몇몇 종갓집에선 씨간장 잇기를 몇백 년째 해오고 있다. \n",
    "    매년 새로 간장을 담가야 이어갈 수 있으니 불씨 꺼트리지 않는 것처럼 굉장히 어려운 일이다.\n",
    "    이렇게 하는 이유는 집집마다 내려오는 고유 장맛을 잃지 않기 위함이다. \n",
    "    씨간장이란 그만큼 소중한 주방의 자산이며 정체성이다.\n",
    "\n",
    "덧장: 새로운간장을 만들때, 옛날간장을 섞어서 만듦\n",
    "\n",
    "`*` 기존방식 -\n",
    "$\\text{콩물} \\overset{\\text{숙성}}{\\longrightarrow} \\text{간장}$\n",
    "\n",
    "`*` 수백년 전통의 간장맛을 유지하는 방식\n",
    "\n",
    "-   $\\text{콩물}_1 \\overset{\\text{숙성}}{\\longrightarrow} \\text{간장}_1$\n",
    "-   $\\text{콩물}_2, \\text{간장}_1 \\overset{\\text{숙성}}{\\longrightarrow} \\text{간장}_2$\n",
    "-   $\\text{콩물}_3, \\text{간장}_2 \\overset{\\text{숙성}}{\\longrightarrow} \\text{간장}_3$\n",
    "\n",
    "`*` 수백년 전통의 간장맛을 유지하면서 조리를 한다면?\n",
    "\n",
    "-   $\\text{콩물}_1 \\overset{\\text{숙성}}{\\longrightarrow} \\text{간장}_1 \\overset{\\text{조리}}{\\longrightarrow} \\text{간장계란밥}_1$\n",
    "-   $\\text{콩물}_2, \\text{간장}_1 \\overset{\\text{숙성}}{\\longrightarrow} \\text{간장}_2 \\overset{\\text{조리}}{\\longrightarrow} \\text{간장계란밥}_2$\n",
    "-   $\\text{콩물}_3, \\text{간장}_2 \\overset{\\text{숙성}}{\\longrightarrow} \\text{간장}_3 \\overset{\\text{조리}}{\\longrightarrow} \\text{간장계란밥}_3$\n",
    "\n",
    "점점 맛있는 간장계란밥이 탄생함\n",
    "\n",
    "`*` 알고리즘의 편의상 아래와 같이 생각해도 무방 : 이전 자료가 없으면 좀 귀찮으니까...\n",
    "\n",
    "-   $\\text{콩물}_1, \\text{간장}_0 \\overset{\\text{숙성}}{\\longrightarrow} \\text{간장}_1 \\overset{\\text{조리}}{\\longrightarrow} \\text{간장계란밥}_1$,\n",
    "    $\\text{간장}_0=\\text{맹물}$\n",
    "-   $\\text{콩물}_2, \\text{간장}_1 \\overset{\\text{숙성}}{\\longrightarrow} \\text{간장}_2 \\overset{\\text{조리}}{\\longrightarrow} \\text{간장계란밥}_2$\n",
    "-   $\\text{콩물}_3, \\text{간장}_2 \\overset{\\text{숙성}}{\\longrightarrow} \\text{간장}_3 \\overset{\\text{조리}}{\\longrightarrow} \\text{간장계란밥}_3$\n",
    "\n",
    "***아이디어***\n",
    "\n",
    "`*` 수백년 전통의 간장맛을 유지하면서 조리하는 과정을 수식으로? (콩물을\n",
    "$x$로, 간장을 $h$로!!)\n",
    "\n",
    "-   $\\boldsymbol{x}_1, \\boldsymbol{h}_0 \\overset{\\text{숙성}}{\\longrightarrow} \\boldsymbol{h}_1 \\overset{\\text{조리}}{\\longrightarrow} \\hat{\\boldsymbol y}_1$\n",
    "-   $\\boldsymbol{x}_2, \\boldsymbol{h}_1 \\overset{\\text{숙성}}{\\longrightarrow} \\boldsymbol{h}_2 \\overset{\\text{조리}}{\\longrightarrow} \\hat{\\boldsymbol y}_2$\n",
    "-   $\\boldsymbol{x}_3, \\boldsymbol{h}_2 \\overset{\\text{숙성}}{\\longrightarrow} \\boldsymbol{h}_3 \\overset{\\text{조리}}{\\longrightarrow} \\hat{\\boldsymbol y}_3$\n",
    "\n",
    "이제 우리가 배울것은 (1) “$\\text{콩물}_{t}$”와 “$\\text{간장}_{t-1}$”로\n",
    "“$\\text{간장}_t$”를 `숙성`하는 방법 (2) “$\\text{간장}_t$”로\n",
    "“$\\text{간장계란밥}_t$를 `조리`하는 방법이다\n",
    "\n",
    "즉 `숙성`담당 네트워크와 `조리`담당 네트워크를 각각 만들어 학습하면\n",
    "된다."
   ]
  },
  {
   "cell_type": "markdown",
   "id": "b2bd405c-a372-4175-af56-04f5e43fb347",
   "metadata": {},
   "source": [
    "## 5. RNNCell\n",
    "\n",
    "### **A. 차원의 정리**\n",
    "\n",
    "`-` 기본버전\n",
    "\n",
    "-   X.shape = $(L, H_{in})$ : 문장 개수 / 문장의 단어 수\n",
    "-   h.shape = $(L, H_{out})$\n",
    "-   y.shape = $(L, Q)$\n",
    "-   Xt.shape = $(H_{in}, )$\n",
    "-   ht.shape = $(H_{out},)$\n",
    "-   yt.shape = $(Q,)$\n",
    "\n",
    "`-` `AbAcAd`를 2차원공간에 임베딩하려고 할 경우.\n",
    "\n",
    "-   X.shape = $(L, H_{in})$ = $(L,4)$ : 한 단어에 4개의 글자를 가지고 있음\n",
    "-   h.shape = $(L, H_{out})$ = $(L,2)$ : 2차원으로 줄이려고 함. 표현력은 2**2 정도\n",
    "-   y.shape = $(L, Q)$ = $(L,4)$\n",
    "-   Xt.shape = $(H_{in}, )$ = $(4,)$\n",
    "-   ht.shape = $(H_{out},)$ = $(2,)$\n",
    "-   yt.shape = $(Q,)$ = $(4,)$"
   ]
  },
  {
   "cell_type": "markdown",
   "id": "38a13d37-3592-4f53-ad41-bc43325aa4aa",
   "metadata": {},
   "source": [
    "### **B. 순환신경망 알고리즘**"
   ]
  },
  {
   "cell_type": "markdown",
   "id": "df9f88fc-e064-4941-9163-c9580dfb102b",
   "metadata": {},
   "source": [
    "***`# 버전1`***\n",
    "\n",
    "**step 1**: 일단 $\\text{간장}_0(={\\boldsymbol h}_0)$을 맹물로 초기화\n",
    "한다. 즉 아래를 수행한다.\n",
    "\n",
    "$${\\boldsymbol h}_0 = [0,0]$$"
   ]
  },
  {
   "cell_type": "markdown",
   "id": "8e9b201c-3ff0-4f84-8a50-be7779119480",
   "metadata": {},
   "source": [
    "**step 2**: $\\text{콩물}_1(={\\boldsymbol x}_1)$,\n",
    "$\\text{간장}_0(={\\boldsymbol h}_0)$ 을 이용하여\n",
    "$\\text{간장}_1(={\\boldsymbol h}_1)$을 숙성한다. 즉 아래를 수행한다.\n",
    "\n",
    "$${\\boldsymbol h}_1= \\tanh({\\boldsymbol x}_1{\\bf W}_{ih}+{\\boldsymbol h}_0{\\bf W}_{hh}+{\\boldsymbol b}_{ih}+{\\boldsymbol b}_{hh})$$"
   ]
  },
  {
   "cell_type": "markdown",
   "id": "a701d5e5-5ec5-4cd1-aca8-685b673a2ed3",
   "metadata": {},
   "source": [
    "> `[x1, h0]` -> `h1` : `(L, 6)` -> `(L, 2)`\n",
    ">\n",
    "> 부분행렬의 곱으로 계산하면 됨\n",
    "\n",
    "$$\\bf \\begin{bmatrix} \\bf x \\ h \\end{bmatrix} \\begin{bmatrix} \\bf W_1 \\\\ \\bf W_2 \\end{bmatrix} = xW_1 + hW_2$$"
   ]
  },
  {
   "cell_type": "code",
   "execution_count": 17,
   "id": "9e3e8285-5985-4fa2-b538-1d3b744cd01a",
   "metadata": {},
   "outputs": [],
   "source": [
    "x = torch.randn(1, 4)\n",
    "h = torch.randn(1, 2)"
   ]
  },
  {
   "cell_type": "code",
   "execution_count": 18,
   "id": "d54f936e-95ee-4255-81b1-c5cb91ed751c",
   "metadata": {},
   "outputs": [],
   "source": [
    "linr = torch.nn.Linear(6, 2, bias = False)"
   ]
  },
  {
   "cell_type": "code",
   "execution_count": 25,
   "id": "eaf86634-6e7d-4209-af12-96a7a71536a4",
   "metadata": {},
   "outputs": [
    {
     "data": {
      "text/plain": [
       "(tensor([[0.6446, 0.6332]], grad_fn=<MmBackward0>),\n",
       " tensor([[0.6446, 0.6332]], grad_fn=<AddBackward0>))"
      ]
     },
     "execution_count": 25,
     "metadata": {},
     "output_type": "execute_result"
    }
   ],
   "source": [
    "linr(torch.concat([x, h], axis = 1)), x@linr.weight.T[:4, :] + h@linr.weight.T[4:, :]"
   ]
  },
  {
   "cell_type": "markdown",
   "id": "f26f687b-e49c-4fe2-87ec-9da7f3415ad7",
   "metadata": {},
   "source": [
    "**step 3:** $\\text{간장}_1$을 이용하여 $\\text{간장계란밥}_1$을 만든다.\n",
    "그리고 $\\hat{\\boldsymbol y}_1$을 만든다.\n",
    "\n",
    "$${\\boldsymbol o}_1= {\\bf W}_{ho}{\\boldsymbol h}_1+{\\boldsymbol b}_{ho}$$\n",
    "\n",
    "$$\\hat{\\boldsymbol y}_1 = \\text{soft}({\\boldsymbol o}_1)$$"
   ]
  },
  {
   "cell_type": "markdown",
   "id": "45583212-808a-49f1-9a69-b221bfb4cb82",
   "metadata": {},
   "source": [
    "> 적당한 선형 변환과 소프트맥스를 통해서 `yhat`을 만듦... (글자 묶음 중 하나를 고르는 거니까 분류 문제임)"
   ]
  },
  {
   "cell_type": "markdown",
   "id": "716edef1-9dbb-448f-a308-a3bc995075bf",
   "metadata": {},
   "source": [
    "**step 4**: $t=2,3,4,5,\\dots,L$ 에 대하여 step2-3을 반복한다."
   ]
  },
  {
   "cell_type": "markdown",
   "id": "a4069f84-5267-41ff-9239-55936148d18a",
   "metadata": {},
   "source": [
    "`#`\n",
    "\n",
    "***`# 버전2` : sudo-code***\n",
    "\n",
    "init $\\boldsymbol{h}_0$\n",
    "\n",
    "for $t$ in $1:L$\n",
    "\n",
    "-   ${\\boldsymbol h}_t= \\tanh({\\boldsymbol x}_t{\\bf W}_{ih}+{\\boldsymbol h}_{t-1}{\\bf W}_{hh}+{\\boldsymbol b}_{ih}+{\\boldsymbol b}_{hh})$\n",
    "-   ${\\boldsymbol o}_t= {\\bf W}_{ho}{\\boldsymbol h}_t+{\\boldsymbol b}_{ho}$\n",
    "-   $\\hat{\\boldsymbol y}_t = \\text{soft}({\\boldsymbol o}_t)$"
   ]
  },
  {
   "cell_type": "markdown",
   "id": "200a3e5a-a93a-4a8a-a4f0-c725852cf68c",
   "metadata": {},
   "source": [
    "`#`\n",
    "\n",
    "***`# 버전3`***\n",
    "\n",
    "``` python\n",
    "ht = [0,0]\n",
    "for t in 1:T \n",
    "    ht = tanh(linr(xt)+linr(ht))\n",
    "    ot = linr(ht)\n",
    "    yt_hat = soft(ot)\n",
    "```\n",
    "\n",
    "-   코드상으로는 $h_t$와 $h_{t-1}$의 구분이 교모하게 사라진다. (그래서\n",
    "    오히려 좋아)"
   ]
  },
  {
   "cell_type": "markdown",
   "id": "60a2fa91-3cfe-49e8-b663-c54041d69025",
   "metadata": {},
   "source": [
    "`#`\n",
    "\n",
    "`-` 따라서 실질적인 전체코드는 대충 아래와 같은 방식으로 구현할 수 있다.\n",
    "\n",
    "``` python\n",
    "class rNNCell(torch.nn.Module):\n",
    "    \"\"\"\n",
    "    h_t를 만들어주는 셀\n",
    "    \"\"\"\n",
    "    def __init__(self):\n",
    "        super().__init__()\n",
    "        self.linr1 = torch.nn.Linear(?,?)\n",
    "        self.linr2 = torch.nn.Linear(?,?)\n",
    "        self.tanh = torch.nn.Tanh()\n",
    "    def forward(self,Xt,ht):\n",
    "        ht = self.tanh(lrnr1(Xt)+lrnr2(ht))\n",
    "        return ht\n",
    "\n",
    "init ht\n",
    "rnncell = rNNCell()\n",
    "\n",
    "for t in 1:L \n",
    "    Xt, yt = X[t], y[t]\n",
    "    ht = rnncell(Xt, ht)\n",
    "    ot = linr(ht) \n",
    "    loss = loss + loss_fn(ot, yt)\n",
    "```"
   ]
  },
  {
   "cell_type": "markdown",
   "id": "1ae33ddd-bd86-45f4-b210-609cb5cacb08",
   "metadata": {},
   "source": [
    "### **C. 구현1 – rNNCell**\n",
    "\n",
    "`-` 데이터정리"
   ]
  },
  {
   "cell_type": "code",
   "execution_count": 26,
   "id": "994c2ead-1c98-42d2-89b3-bd1686260ae3",
   "metadata": {},
   "outputs": [
    {
     "data": {
      "text/plain": [
       "['A', 'b', 'A', 'c', 'A', 'd', 'A', 'b', 'A', 'c']"
      ]
     },
     "execution_count": 26,
     "metadata": {},
     "output_type": "execute_result"
    }
   ],
   "source": [
    "txt = list(\"AbAcAd\"*50)\n",
    "txt[:10]"
   ]
  },
  {
   "cell_type": "code",
   "execution_count": 27,
   "id": "cc72a03e-1f3e-42b2-a92e-55b1b009d6ee",
   "metadata": {
    "tags": []
   },
   "outputs": [
    {
     "data": {
      "text/html": [
       "<div>\n",
       "<style scoped>\n",
       "    .dataframe tbody tr th:only-of-type {\n",
       "        vertical-align: middle;\n",
       "    }\n",
       "\n",
       "    .dataframe tbody tr th {\n",
       "        vertical-align: top;\n",
       "    }\n",
       "\n",
       "    .dataframe thead th {\n",
       "        text-align: right;\n",
       "    }\n",
       "</style>\n",
       "<table border=\"1\" class=\"dataframe\">\n",
       "  <thead>\n",
       "    <tr style=\"text-align: right;\">\n",
       "      <th></th>\n",
       "      <th>x</th>\n",
       "      <th>y</th>\n",
       "    </tr>\n",
       "  </thead>\n",
       "  <tbody>\n",
       "    <tr>\n",
       "      <th>0</th>\n",
       "      <td>A</td>\n",
       "      <td>b</td>\n",
       "    </tr>\n",
       "    <tr>\n",
       "      <th>1</th>\n",
       "      <td>b</td>\n",
       "      <td>A</td>\n",
       "    </tr>\n",
       "    <tr>\n",
       "      <th>2</th>\n",
       "      <td>A</td>\n",
       "      <td>c</td>\n",
       "    </tr>\n",
       "    <tr>\n",
       "      <th>3</th>\n",
       "      <td>c</td>\n",
       "      <td>A</td>\n",
       "    </tr>\n",
       "    <tr>\n",
       "      <th>4</th>\n",
       "      <td>A</td>\n",
       "      <td>d</td>\n",
       "    </tr>\n",
       "  </tbody>\n",
       "</table>\n",
       "</div>"
      ],
      "text/plain": [
       "   x  y\n",
       "0  A  b\n",
       "1  b  A\n",
       "2  A  c\n",
       "3  c  A\n",
       "4  A  d"
      ]
     },
     "execution_count": 27,
     "metadata": {},
     "output_type": "execute_result"
    }
   ],
   "source": [
    "df_train = pd.DataFrame({'x':txt[:-1], 'y':txt[1:]})\n",
    "df_train[:5]"
   ]
  },
  {
   "cell_type": "code",
   "execution_count": 28,
   "id": "dadc94d7-c3a9-4fe5-81f1-ce3fb04b0374",
   "metadata": {
    "tags": []
   },
   "outputs": [],
   "source": [
    "x = torch.tensor(df_train.x.map({'A':0,'b':1,'c':2,'d':3}))\n",
    "y = torch.tensor(df_train.y.map({'A':0,'b':1,'c':2,'d':3}))\n",
    "X = torch.nn.functional.one_hot(x).float() ## 임베딩 안시킬거임\n",
    "y = torch.nn.functional.one_hot(y).float()"
   ]
  },
  {
   "cell_type": "markdown",
   "id": "38c829c9-42ce-4819-9abf-b369d365fdf7",
   "metadata": {},
   "source": [
    "`-` 순환신경망으로 적합"
   ]
  },
  {
   "cell_type": "code",
   "execution_count": 57,
   "id": "6f6f8ea6-f5b1-4b07-97d5-cef14e77cf25",
   "metadata": {},
   "outputs": [],
   "source": [
    "torch.manual_seed(43052)\n",
    "\n",
    "class rNNCell(torch.nn.Module) :\n",
    "    def __init__(self) :\n",
    "        super().__init__()\n",
    "        self.i2h = torch.nn.Linear(4, 2)\n",
    "        self.h2h = torch.nn.Linear(2, 2)\n",
    "        self.tanh = torch.nn.Tanh()\n",
    "\n",
    "    def forward(self, Xt, ht) :\n",
    "        return self.tanh(self.i2h(Xt) + self.h2h(ht))\n",
    "\n",
    "rnncell = rNNCell() ## h 담당, incoder\n",
    "cook = torch.nn.Linear(2, 4) ## yhat 담당, decoder\n",
    "loss_fn = torch.nn.CrossEntropyLoss()\n",
    "optimizr = torch.optim.Adam(list(rnncell.parameters()) + list(cook.parameters()), lr = 0.1)\n",
    "\n",
    "#---#\n",
    "L = len(X)\n",
    "\n",
    "for epoc in range(200) :\n",
    "    loss = 0\n",
    "    ht = torch.zeros(2) ## 초기화\n",
    "    \n",
    "    for t in range(L) :\n",
    "        Xt, yt = X[t], y[t]\n",
    "        ht = rnncell(Xt, ht)\n",
    "        ot = cook(ht) ## netout\n",
    "        loss += loss_fn(ot, yt)\n",
    "\n",
    "    loss = loss/L\n",
    "\n",
    "    loss.backward()\n",
    "    optimizr.step()\n",
    "    optimizr.zero_grad()"
   ]
  },
  {
   "cell_type": "markdown",
   "id": "73078142-8344-4f4a-be65-192b415d0b27",
   "metadata": {},
   "source": [
    "`-` 결과 확인 및 시각화"
   ]
  },
  {
   "cell_type": "code",
   "execution_count": 58,
   "id": "1b001ad4-4df9-42b5-8d48-94990dfc4e28",
   "metadata": {},
   "outputs": [],
   "source": [
    "h = torch.zeros(L, 2) ## 그냥 만든거임\n",
    "water = torch.zeros(2)\n",
    "h[0] = rnncell(X[0], water) ## 이전 값과 X값에 따라 결정됨\n",
    "\n",
    "for t in range(1, L) :\n",
    "    h[t] = rnncell(X[t], h[t-1])"
   ]
  },
  {
   "cell_type": "code",
   "execution_count": 59,
   "id": "03742156-26b5-4814-92cc-04cca4e41785",
   "metadata": {
    "scrolled": true
   },
   "outputs": [
    {
     "data": {
      "text/plain": [
       "torch.Size([299, 2])"
      ]
     },
     "execution_count": 59,
     "metadata": {},
     "output_type": "execute_result"
    }
   ],
   "source": [
    "h.shape"
   ]
  },
  {
   "cell_type": "code",
   "execution_count": 60,
   "id": "aaea247e-966f-4017-8939-4197ae946676",
   "metadata": {},
   "outputs": [],
   "source": [
    "yhat = torch.nn.functional.softmax(cook(h), dim = 1)"
   ]
  },
  {
   "cell_type": "code",
   "execution_count": 61,
   "id": "be8fe642-576e-4498-940f-d8a8c975228b",
   "metadata": {},
   "outputs": [
    {
     "data": {
      "text/plain": [
       "tensor([[4.1978e-03, 9.4555e-01, 1.9557e-06, 5.0253e-02],\n",
       "        [9.9994e-01, 5.5569e-05, 8.4751e-10, 1.3143e-06],\n",
       "        [2.1349e-07, 1.1345e-06, 9.7019e-01, 2.9806e-02],\n",
       "        ...,\n",
       "        [2.1339e-07, 1.1339e-06, 9.7020e-01, 2.9798e-02],\n",
       "        [9.9901e-01, 9.6573e-04, 6.9303e-09, 2.1945e-05],\n",
       "        [7.2919e-04, 2.5484e-02, 3.3011e-02, 9.4078e-01]],\n",
       "       grad_fn=<SoftmaxBackward0>)"
      ]
     },
     "execution_count": 61,
     "metadata": {},
     "output_type": "execute_result"
    }
   ],
   "source": [
    "yhat"
   ]
  },
  {
   "cell_type": "code",
   "execution_count": 66,
   "id": "4f1a3616-3745-4f1e-9355-2def4b37f6bf",
   "metadata": {},
   "outputs": [
    {
     "data": {
      "image/png": "[encoded data removed]",
      "text/plain": [
       "<Figure size 400x480 with 2 Axes>"
      ]
     },
     "metadata": {},
     "output_type": "display_data"
    }
   ],
   "source": [
    "mat = torch.concat([X, h, yhat], axis = 1).data\n",
    "plt.matshow(mat[:12], cmap = \"bwr\", vmin = -1.0, vmax = 1.0)\n",
    "plt.xticks(\n",
    "    range(10),\n",
    "    [r\"$X_A$\", r\"$X_b$\",r\"$X_c$\",r\"$X_d$\", \n",
    "     r'$h_1$',r'$h_2$',\n",
    "     r'$\\hat{y}_A$',r'$\\hat{y}_b$',r'$\\hat{y}_c$',r'$\\hat{y}_d$']\n",
    ");\n",
    "plt.axvline(x=3.5,color='lime')\n",
    "plt.axvline(x=5.5,color='lime')\n",
    "plt.colorbar();"
   ]
  },
  {
   "cell_type": "markdown",
   "id": "04ea9a22-5348-4ec1-b5ed-6aa8a894cec8",
   "metadata": {},
   "source": [
    "> 동일한 `A`여도 문맥에 따라 다르게 표현"
   ]
  },
  {
   "cell_type": "markdown",
   "id": "49065f61-1a25-404d-b6c5-aceacb0b3f6a",
   "metadata": {},
   "source": [
    "`-` yhat값 분석"
   ]
  },
  {
   "cell_type": "code",
   "execution_count": 70,
   "id": "d9185075-33bf-4ed0-8bde-c9ff3efbd7c0",
   "metadata": {},
   "outputs": [
    {
     "data": {
      "text/plain": [
       "array([[0.004, 0.946, 0.   , 0.05 ],\n",
       "       [1.   , 0.   , 0.   , 0.   ],\n",
       "       [0.   , 0.   , 0.97 , 0.03 ],\n",
       "       [0.999, 0.001, 0.   , 0.   ],\n",
       "       [0.001, 0.025, 0.033, 0.941],\n",
       "       [0.983, 0.016, 0.   , 0.   ],\n",
       "       [0.004, 0.965, 0.   , 0.031],\n",
       "       [1.   , 0.   , 0.   , 0.   ],\n",
       "       [0.   , 0.   , 0.97 , 0.03 ],\n",
       "       [0.999, 0.001, 0.   , 0.   ],\n",
       "       [0.001, 0.025, 0.033, 0.941],\n",
       "       [0.983, 0.016, 0.   , 0.   ]], dtype=float32)"
      ]
     },
     "execution_count": 70,
     "metadata": {},
     "output_type": "execute_result"
    }
   ],
   "source": [
    "yhat[:12].data.numpy().round(3)"
   ]
  },
  {
   "cell_type": "markdown",
   "id": "f18ac11e-1a8b-450f-8e37-f820d232b84d",
   "metadata": {},
   "source": [
    "> 네트워크의 성능이 초반에 비해 더 좋아짐. 초반의 분류값보다 후반의 분류값(확률)이 더 높음"
   ]
  },
  {
   "cell_type": "markdown",
   "id": "b30b1e2f-4eb9-475e-8d9e-6163a39a6064",
   "metadata": {},
   "source": [
    "`-` h1, h2 분석 (임베딩 스페이스 분석)"
   ]
  },
  {
   "cell_type": "code",
   "execution_count": 86,
   "id": "ca93d156-0db2-4d98-a559-f9f9d26a6e49",
   "metadata": {},
   "outputs": [
    {
     "data": {
      "image/png": "[encoded data removed]",
      "text/plain": [
       "<Figure size 640x480 with 1 Axes>"
      ]
     },
     "metadata": {},
     "output_type": "display_data"
    }
   ],
   "source": [
    "h1,h2 = h.T.data\n",
    "plt.plot(h1[::6],h2[::6],'X',label=\"first A\", alpha = 0.1) ## 처음에만 학습이 흔들려서 두개로 보이는것일 뿐\n",
    "plt.plot(h1[1::6],h2[1::6],'X',label=\"b\")\n",
    "plt.plot(h1[2::6],h2[2::6],'X',label=\"second A\")\n",
    "plt.plot(h1[3::6],h2[3::6],'X',label=\"c\")\n",
    "plt.plot(h1[4::6],h2[4::6],'X',label=\"third A\")\n",
    "plt.plot(h1[5::6],h2[5::6],'X',label=\"d\")\n",
    "plt.legend()\n",
    "plt.show()"
   ]
  },
  {
   "cell_type": "markdown",
   "id": "640808d7-a488-4cb4-917b-e3094b1444f8",
   "metadata": {},
   "source": [
    "> 실질적으로는 6개의 문자열을 임베딩해야 하는데, 임베딩 공간이 2개밖에 없어서 시드가 중요했음\n",
    ">\n",
    "> 컴퓨터가 해석할 때는 `A`를 `b, c, d`보다 더 다르게 보고 있다고 판단할 수 있음 -> 거리가 더 멈"
   ]
  },
  {
   "cell_type": "code",
   "execution_count": null,
   "id": "c00d3c4e-c8c3-4808-a161-39d88b8f62d5",
   "metadata": {},
   "outputs": [],
   "source": []
  }
 ],
 "metadata": {
  "kernelspec": {
   "display_name": "Python 3 (ipykernel)",
   "language": "python",
   "name": "python3"
  },
  "language_info": {
   "codemirror_mode": {
    "name": "ipython",
    "version": 3
   },
   "file_extension": ".py",
   "mimetype": "text/x-python",
   "name": "python",
   "nbconvert_exporter": "python",
   "pygments_lexer": "ipython3",
   "version": "3.9.18"
  }
 },
 "nbformat": 4,
 "nbformat_minor": 5
}
