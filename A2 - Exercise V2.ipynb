{
 "cells": [
  {
   "cell_type": "markdown",
   "id": "0af22e59-5b02-4832-a07d-4fac3e85da70",
   "metadata": {},
   "source": [
    "# A1: Exercise – ver. 0420-2\n",
    "\n",
    "최규빈  \n",
    "2025-01-01"
   ]
  },
  {
   "cell_type": "code",
   "execution_count": 1,
   "id": "284757a4-ca47-4f7d-bd4a-5ee86e26cc46",
   "metadata": {},
   "outputs": [],
   "source": [
    "import torch"
   ]
  },
  {
   "cell_type": "markdown",
   "id": "7a3c061a-d0fc-4928-af07-811b0996cc2f",
   "metadata": {},
   "source": [
    "# `#` – 최적화\n",
    "\n",
    "## `$`. 경사하강법, 경사상승법\n",
    "\n",
    "`(1)` 아래의 함수를 최소화하는 $x$를 경사하강법기반의 알고리즘을\n",
    "활용하여 추정하라. (꼭 SGD를 쓸 필요는 없음)\n",
    "\n",
    "$$f(x)=(x-1)^2$$\n",
    "\n",
    "초기값은 $x=3$ 으로 설정하라."
   ]
  },
  {
   "cell_type": "code",
   "execution_count": 2,
   "id": "866e96fc-dcbd-4f0e-b756-2c0205ba3f22",
   "metadata": {},
   "outputs": [],
   "source": [
    "def f(x) :\n",
    "    return (x-1)**2"
   ]
  },
  {
   "cell_type": "code",
   "execution_count": 9,
   "id": "568bbfd1-fdc4-4297-a6de-1f72c0e58665",
   "metadata": {},
   "outputs": [],
   "source": [
    "## 초기값 설정\n",
    "x = 10\n",
    "\n",
    "## 미분계수 산출\n",
    "def f_prime(x) :\n",
    "    h = 0.000001\n",
    "    return (f(x+h) - f(x))/h"
   ]
  },
  {
   "cell_type": "markdown",
   "id": "3d437d23-979a-4d12-84a2-0fc891b3cc81",
   "metadata": {},
   "source": [
    "`(2)` 아래의 함수를 최대화하는 $x$를 경사하강법기반의 알고리즘을\n",
    "활용하여 추정하라. (꼭 SGD를 쓸 필요는 없음)\n",
    "\n",
    "$$f(x)=-x^2 +6x-9 $$\n",
    "\n",
    "초기값은 $x=0$ 으로 설정하라.\n",
    "\n",
    "hint: $f(x)$을 최대화하는 $x$는 $-f(x)$를 최소화한다.\n",
    "\n",
    "## `$`. 정규분포 MLE\n",
    "\n",
    "아래는 $X_i \\sim N(3, 2^2)$ 를 생성하는 코드이다."
   ]
  },
  {
   "cell_type": "code",
   "execution_count": null,
   "id": "cd7c1357-7113-425b-ac68-1a9efb9f3302",
   "metadata": {},
   "outputs": [],
   "source": []
  }
 ],
 "metadata": {
  "kernelspec": {
   "display_name": "Python 3 (ipykernel)",
   "language": "python",
   "name": "python3"
  },
  "language_info": {
   "codemirror_mode": {
    "name": "ipython",
    "version": 3
   },
   "file_extension": ".py",
   "mimetype": "text/x-python",
   "name": "python",
   "nbconvert_exporter": "python",
   "pygments_lexer": "ipython3",
   "version": "3.9.18"
  }
 },
 "nbformat": 4,
 "nbformat_minor": 5
}
