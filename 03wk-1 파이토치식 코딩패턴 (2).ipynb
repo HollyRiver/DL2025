{
 "cells": [
  {
   "cell_type": "markdown",
   "metadata": {},
   "source": [
    "# 03wk-1: 파이토치식 코딩패턴 (2), 로지스틱-ToyData1, 로지스틱-ToyData2"
   ]
  },
  {
   "cell_type": "markdown",
   "metadata": {},
   "source": [
    "## 1. imports"
   ]
  },
  {
   "cell_type": "code",
   "execution_count": 2,
   "metadata": {},
   "outputs": [],
   "source": [
    "import torch\n",
    "import matplotlib.pyplot as plt "
   ]
  },
  {
   "cell_type": "code",
   "execution_count": 3,
   "metadata": {},
   "outputs": [],
   "source": [
    "plt.rcParams['figure.figsize'] = (4.5, 3.0)"
   ]
  },
  {
   "cell_type": "markdown",
   "metadata": {},
   "source": [
    "## 2. 파이토치식 코딩패턴 (2)\n",
    "\n",
    "*데이터*"
   ]
  },
  {
   "cell_type": "code",
   "execution_count": 11,
   "metadata": {},
   "outputs": [],
   "source": [
    "torch.manual_seed(43052)\n",
    "x,_ = torch.randn(100).sort()\n",
    "eps = torch.randn(100)*0.5\n",
    "X = torch.stack([torch.ones(100),x],axis=1)\n",
    "W = torch.tensor([[2.5],[4.0]])\n",
    "y = X@W + eps.reshape(100,1)\n",
    "x = X[:,[1]]"
   ]
  },
  {
   "cell_type": "markdown",
   "metadata": {},
   "source": [
    "`-` 모델링 : 에러가 포함된 자료에서 error-free한 structure를 찾는 것\n",
    "\n",
    "> error-free한 structure를 찾으려고 노력해야지, error를 따라가려고 노력하면 안됨 -> 오버피팅\n",
    "\n",
    "`-` 오차 : error-free한 structure(모델)과 실제 관측 데이터간의 차이를 설명해주는 역할\n",
    "\n",
    "> $y \\approx XW, ~ y = XW + \\epsilon$"
   ]
  },
  {
   "cell_type": "markdown",
   "metadata": {},
   "source": [
    "### A. bias의 사용\n",
    "\n",
    "`net`에서 `bias`를 사용 : `net` object에는 weight와 bias가 동시에 들어가 있음.\n",
    "\n",
    "$$y = XW + \\text{bias} + \\epsilon$$\n",
    "\n",
    "> 설명변수 행렬에서 절편을 분리한 구조"
   ]
  },
  {
   "cell_type": "code",
   "execution_count": null,
   "metadata": {},
   "outputs": [],
   "source": [
    "## bias = False인 경우.\n",
    "net = torch.nn.Linear(\n",
    "    in_features = 2,\n",
    "    out_features = 1,\n",
    "    bias = False\n",
    ")\n",
    "net.weight.data = torch.tensor([[-5.0, 10.0]]) ## 이걸 설정하지 않아도 알아서 잘 해주긴 하네...\n",
    "\n",
    "loss_fn = torch.nn.MSELoss()\n",
    "\n",
    "optimizr = torch.optim.SGD(net.parameters(), lr = 0.1)\n",
    "\n",
    "for epoc in range(30) :\n",
    "    # 1 : yhat\n",
    "    yhat = net(X)\n",
    "    # 2 : loss\n",
    "    loss = loss_fn(yhat, y)\n",
    "    # 3 : 미분\n",
    "    loss.backward()\n",
    "    # 4 : update\n",
    "    optimizr.step()\n",
    "    optimizr.zero_grad()"
   ]
  },
  {
   "cell_type": "code",
   "execution_count": 17,
   "metadata": {},
   "outputs": [],
   "source": [
    "# step1을 위한 사전준비\n",
    "net = torch.nn.Linear(\n",
    "    in_features=1,\n",
    "    out_features=1,\n",
    "    bias=True\n",
    ") # net(x) = x@net.weight.T + net.bias \n",
    "net.bias.data = torch.tensor([-5.0])\n",
    "net.weight.data = torch.tensor([[10.0]])\n",
    "# step2를 위한 사전준비\n",
    "loss_fn = torch.nn.MSELoss()\n",
    "# step4를 위한 사전준비 \n",
    "optimizr = torch.optim.SGD(net.parameters(),lr=0.1)\n",
    "for epoc in range(30):\n",
    "    # step1: yhat \n",
    "    yhat = net(x)\n",
    "    # step2: loss\n",
    "    loss = loss_fn(yhat,y)\n",
    "    # step3: 미분\n",
    "    loss.backward()\n",
    "    # step4: update\n",
    "    optimizr.step()\n",
    "    optimizr.zero_grad()"
   ]
  },
  {
   "cell_type": "code",
   "execution_count": 19,
   "metadata": {},
   "outputs": [
    {
     "data": {
      "text/plain": [
       "(tensor([2.4290]), tensor([[4.0144]]))"
      ]
     },
     "execution_count": 19,
     "metadata": {},
     "output_type": "execute_result"
    }
   ],
   "source": [
    "net.bias.data, net.weight.data"
   ]
  },
  {
   "cell_type": "markdown",
   "metadata": {},
   "source": [
    "### B. 잘못된(?) 코드"
   ]
  },
  {
   "cell_type": "code",
   "execution_count": 20,
   "metadata": {},
   "outputs": [
    {
     "name": "stdout",
     "output_type": "stream",
     "text": [
      "\u001b[0;31mInit signature:\u001b[0m\n",
      "\u001b[0mtorch\u001b[0m\u001b[0;34m.\u001b[0m\u001b[0mnn\u001b[0m\u001b[0;34m.\u001b[0m\u001b[0mLinear\u001b[0m\u001b[0;34m(\u001b[0m\u001b[0;34m\u001b[0m\n",
      "\u001b[0;34m\u001b[0m    \u001b[0min_features\u001b[0m\u001b[0;34m:\u001b[0m \u001b[0mint\u001b[0m\u001b[0;34m,\u001b[0m\u001b[0;34m\u001b[0m\n",
      "\u001b[0;34m\u001b[0m    \u001b[0mout_features\u001b[0m\u001b[0;34m:\u001b[0m \u001b[0mint\u001b[0m\u001b[0;34m,\u001b[0m\u001b[0;34m\u001b[0m\n",
      "\u001b[0;34m\u001b[0m    \u001b[0mbias\u001b[0m\u001b[0;34m:\u001b[0m \u001b[0mbool\u001b[0m \u001b[0;34m=\u001b[0m \u001b[0;32mTrue\u001b[0m\u001b[0;34m,\u001b[0m\u001b[0;34m\u001b[0m\n",
      "\u001b[0;34m\u001b[0m    \u001b[0mdevice\u001b[0m\u001b[0;34m=\u001b[0m\u001b[0;32mNone\u001b[0m\u001b[0;34m,\u001b[0m\u001b[0;34m\u001b[0m\n",
      "\u001b[0;34m\u001b[0m    \u001b[0mdtype\u001b[0m\u001b[0;34m=\u001b[0m\u001b[0;32mNone\u001b[0m\u001b[0;34m,\u001b[0m\u001b[0;34m\u001b[0m\n",
      "\u001b[0;34m\u001b[0m\u001b[0;34m)\u001b[0m \u001b[0;34m->\u001b[0m \u001b[0;32mNone\u001b[0m\u001b[0;34m\u001b[0m\u001b[0;34m\u001b[0m\u001b[0m\n",
      "\u001b[0;31mDocstring:\u001b[0m     \n",
      "Applies an affine linear transformation to the incoming data: :math:`y = xA^T + b`.\n",
      "\n",
      "This module supports :ref:`TensorFloat32<tf32_on_ampere>`.\n",
      "\n",
      "On certain ROCm devices, when using float16 inputs this module will use :ref:`different precision<fp16_on_mi200>` for backward.\n",
      "\n",
      "Args:\n",
      "    in_features: size of each input sample\n",
      "    out_features: size of each output sample\n",
      "    bias: If set to ``False``, the layer will not learn an additive bias.\n",
      "        Default: ``True``\n",
      "\n",
      "Shape:\n",
      "    - Input: :math:`(*, H_{in})` where :math:`*` means any number of\n",
      "      dimensions including none and :math:`H_{in} = \\text{in\\_features}`.\n",
      "    - Output: :math:`(*, H_{out})` where all but the last dimension\n",
      "      are the same shape as the input and :math:`H_{out} = \\text{out\\_features}`.\n",
      "\n",
      "Attributes:\n",
      "    weight: the learnable weights of the module of shape\n",
      "        :math:`(\\text{out\\_features}, \\text{in\\_features})`. The values are\n",
      "        initialized from :math:`\\mathcal{U}(-\\sqrt{k}, \\sqrt{k})`, where\n",
      "        :math:`k = \\frac{1}{\\text{in\\_features}}`\n",
      "    bias:   the learnable bias of the module of shape :math:`(\\text{out\\_features})`.\n",
      "            If :attr:`bias` is ``True``, the values are initialized from\n",
      "            :math:`\\mathcal{U}(-\\sqrt{k}, \\sqrt{k})` where\n",
      "            :math:`k = \\frac{1}{\\text{in\\_features}}`\n",
      "\n",
      "Examples::\n",
      "\n",
      "    >>> m = nn.Linear(20, 30)\n",
      "    >>> input = torch.randn(128, 20)\n",
      "    >>> output = m(input)\n",
      "    >>> print(output.size())\n",
      "    torch.Size([128, 30])\n",
      "\u001b[0;31mInit docstring:\u001b[0m Initialize internal Module state, shared by both nn.Module and ScriptModule.\n",
      "\u001b[0;31mFile:\u001b[0m           ~/anaconda3/envs/dl/lib/python3.9/site-packages/torch/nn/modules/linear.py\n",
      "\u001b[0;31mType:\u001b[0m           type\n",
      "\u001b[0;31mSubclasses:\u001b[0m     NonDynamicallyQuantizableLinear, LazyLinear, Linear, LinearBn1d, Linear"
     ]
    }
   ],
   "source": [
    "?torch.nn.Linear"
   ]
  },
  {
   "cell_type": "markdown",
   "metadata": {},
   "source": [
    "`bias`의 디폴트는 True"
   ]
  },
  {
   "cell_type": "code",
   "execution_count": 21,
   "metadata": {},
   "outputs": [],
   "source": [
    "# step1을 위한 사전준비\n",
    "net = torch.nn.Linear(\n",
    "    in_features=2,\n",
    "    out_features=1,\n",
    ")\n",
    "net.weight.data = torch.tensor([[-5.0,  10.0]])\n",
    "# step2를 위한 사전준비\n",
    "loss_fn = torch.nn.MSELoss()\n",
    "# step4를 위한 사전준비 \n",
    "optimizr = torch.optim.SGD(net.parameters(),lr=0.1)\n",
    "for epoc in range(30):\n",
    "    # step1: yhat \n",
    "    yhat = net(X)\n",
    "    # step2: loss\n",
    "    loss = loss_fn(yhat,y)\n",
    "    # step3: 미분\n",
    "    loss.backward()\n",
    "    # step4: update\n",
    "    optimizr.step()\n",
    "    optimizr.zero_grad()"
   ]
  },
  {
   "cell_type": "code",
   "execution_count": 22,
   "metadata": {},
   "outputs": [
    {
     "data": {
      "text/plain": [
       "Parameter containing:\n",
       "tensor([[-1.3003,  4.0080]], requires_grad=True)"
      ]
     },
     "execution_count": 22,
     "metadata": {},
     "output_type": "execute_result"
    }
   ],
   "source": [
    "net.weight"
   ]
  },
  {
   "cell_type": "code",
   "execution_count": 23,
   "metadata": {},
   "outputs": [
    {
     "data": {
      "image/png": "[encoded data removed]",
      "text/plain": [
       "<Figure size 450x300 with 1 Axes>"
      ]
     },
     "metadata": {},
     "output_type": "display_data"
    }
   ],
   "source": [
    "plt.plot(x,y,'o')\n",
    "plt.plot(x,yhat.data,'--')\n",
    "plt.title(f'net.weight={net.weight.data.reshape(-1)}');"
   ]
  },
  {
   "cell_type": "markdown",
   "metadata": {},
   "source": [
    "`-` 나쁘지 않은 이유?"
   ]
  },
  {
   "cell_type": "code",
   "execution_count": 25,
   "metadata": {},
   "outputs": [
    {
     "data": {
      "text/plain": [
       "(Parameter containing:\n",
       " tensor([[-1.3003,  4.0080]], requires_grad=True),\n",
       " Parameter containing:\n",
       " tensor([3.7452], requires_grad=True))"
      ]
     },
     "execution_count": 25,
     "metadata": {},
     "output_type": "execute_result"
    }
   ],
   "source": [
    "net.weight, net.bias"
   ]
  },
  {
   "cell_type": "code",
   "execution_count": 28,
   "metadata": {},
   "outputs": [
    {
     "data": {
      "text/plain": [
       "tensor([[ 1.0000, -2.4821]])"
      ]
     },
     "execution_count": 28,
     "metadata": {},
     "output_type": "execute_result"
    }
   ],
   "source": [
    "X[[0], :]"
   ]
  },
  {
   "cell_type": "code",
   "execution_count": 29,
   "metadata": {},
   "outputs": [
    {
     "data": {
      "text/plain": [
       "-7.503356799999999"
      ]
     },
     "execution_count": 29,
     "metadata": {},
     "output_type": "execute_result"
    }
   ],
   "source": [
    "-1.3003*1 + 4.0080*(-2.4821) + 3.7452"
   ]
  },
  {
   "cell_type": "code",
   "execution_count": 32,
   "metadata": {},
   "outputs": [
    {
     "data": {
      "text/plain": [
       "tensor([-7.5062], grad_fn=<SelectBackward0>)"
      ]
     },
     "execution_count": 32,
     "metadata": {},
     "output_type": "execute_result"
    }
   ],
   "source": [
    "yhat[0]"
   ]
  },
  {
   "cell_type": "markdown",
   "metadata": {},
   "source": [
    "> 절편이 두 개로 나뉘었을 뿐... -> 어떤 관점에서는 그냥 조금 비효율적일 뿐, 상관 없다고 생각하기도..."
   ]
  },
  {
   "cell_type": "markdown",
   "metadata": {},
   "source": [
    "## 3. 로지스틱 - ToyData 1"
   ]
  },
  {
   "cell_type": "markdown",
   "metadata": {},
   "source": [
    "### A. $\\hat{\\bf y} = ??$"
   ]
  },
  {
   "cell_type": "markdown",
   "metadata": {},
   "source": [
    "> 어떤 y가 상태를 의미할 때가 있음."
   ]
  },
  {
   "cell_type": "markdown",
   "metadata": {},
   "source": [
    "`-` $\\bf X$를 가지고 $\\bf y$를 맞추는 문제"
   ]
  },
  {
   "cell_type": "code",
   "execution_count": 34,
   "metadata": {},
   "outputs": [
    {
     "data": {
      "image/png": "[encoded data removed]",
      "text/plain": [
       "<Figure size 450x300 with 1 Axes>"
      ]
     },
     "metadata": {},
     "output_type": "display_data"
    }
   ],
   "source": [
    "x = torch.tensor([-6,-5,-4,-3,-2,-1, 0, 1, 2, 3, 4, 5, 6.0]).reshape(-1,1)\n",
    "y = torch.tensor([ 0, 0, 0, 0, 0, 0, 1, 0, 1, 1, 1, 1, 1]).reshape(-1,1)\n",
    "plt.plot(x,y,'o');"
   ]
  },
  {
   "cell_type": "markdown",
   "metadata": {},
   "source": [
    "> 회귀분석 식으로 언더라잉을 만들고, 오차를 설명하면 안됨. 애초에 실제 상황에선 0과 1밖에 없으니까... 정규분포는 이상함\n",
    ">\n",
    "> 각 포인트에서 베르누이 시행을 하는 상황이라면? 그 성공 확률을 언더라잉으로 만들면? 베르누이 시행에 의한 랜덤성을 오차라고 설명하면 됨.\n",
    "\n",
    "오차항까지 함께 설명을 할 수 있어야 모델링에서의 의미가 있음."
   ]
  },
  {
   "cell_type": "markdown",
   "metadata": {},
   "source": [
    "* $\\hat y \\in [0, 1]$. 추세선을 찾고 싶은 거지, 데이터를 그대로 따라가는 것이 아님."
   ]
  },
  {
   "cell_type": "markdown",
   "metadata": {},
   "source": [
    "`-` 아래와 같이 모형화하면?"
   ]
  },
  {
   "cell_type": "code",
   "execution_count": null,
   "metadata": {},
   "outputs": [
    {
     "data": {
      "image/png": "[encoded data removed]",
      "text/plain": [
       "<Figure size 450x300 with 1 Axes>"
      ]
     },
     "metadata": {},
     "output_type": "display_data"
    }
   ],
   "source": [
    "plt.plot(x,y,'o', label=r\"observed data (with error) = $(x_i,y_i)$\")\n",
    "plt.plot(x,torch.exp(x)/(1+torch.exp(x)),'o--', label = \"underlying (without error)\") ## 시그모이드 함수\n",
    "plt.legend()\n",
    "plt.show()"
   ]
  },
  {
   "cell_type": "markdown",
   "metadata": {},
   "source": [
    "### B. $\\hat{\\bf y} = \\frac{\\exp(\\text{linr}({\\bf X}))}{1+\\exp(\\text{linr}({\\bf X}))}$\n",
    "\n",
    "`-` 걱정: 산점도가 꼭 아래와 같은 방식이 아니라면 어쩌지?"
   ]
  },
  {
   "cell_type": "markdown",
   "metadata": {},
   "source": [
    "-   $x$가 증가할수록 $y$가 0이 된다면?\n",
    "-   0근처에서 변화가 일어나지 않고 2근처에서 변화가 일어난다면?\n",
    "-   변화가 좀 더 급하게 (혹은 완만하게 일어난다면?)\n",
    "\n",
    "`-` 걱정해결"
   ]
  },
  {
   "cell_type": "code",
   "execution_count": null,
   "metadata": {},
   "outputs": [
    {
     "data": {
      "image/png": "[encoded data removed]",
      "text/plain": [
       "<Figure size 450x300 with 1 Axes>"
      ]
     },
     "metadata": {},
     "output_type": "display_data"
    }
   ],
   "source": [
    "## 계수를 음수로\n",
    "plt.plot(x,y,'o', label=r\"observed data (with error) = $(x_i,y_i)$\")\n",
    "plt.plot(x,torch.exp(-x)/(1+torch.exp(-x)),'o--', label = \"underlying (without error)\") ## 시그모이드 함수\n",
    "plt.legend()\n",
    "plt.show()"
   ]
  },
  {
   "cell_type": "code",
   "execution_count": null,
   "metadata": {},
   "outputs": [
    {
     "data": {
      "text/plain": [
       "<matplotlib.legend.Legend at 0x7f6c4e9340a0>"
      ]
     },
     "execution_count": 38,
     "metadata": {},
     "output_type": "execute_result"
    },
    {
     "data": {
      "image/png": "[encoded data removed]",
      "text/plain": [
       "<Figure size 450x300 with 1 Axes>"
      ]
     },
     "metadata": {},
     "output_type": "display_data"
    }
   ],
   "source": [
    "## 계수의 절대값을 더 크게\n",
    "#plt.plot(x,y,'o', label=r\"observed data (with error) = $(x_i,y_i)$\")\n",
    "plt.plot(x,torch.exp(x)/(1+torch.exp(x)),'o--', label = \"underlying type1 (without error)\", color=\"C1\")\n",
    "plt.plot(x,torch.exp(5*x)/(1+torch.exp(5*x)),'o--', label = \"underlying type2 (without error)\", color=\"C2\")\n",
    "plt.legend()"
   ]
  },
  {
   "cell_type": "markdown",
   "metadata": {},
   "source": [
    "$$\\log\\frac{P_x}{1-P_x} = ax + b \\Rightarrow \\frac{1}{1-P_x} - 1 = e^{ax + b} \\Rightarrow 1-P_x = \\frac{1}{e^{ax + b} + 1} \\Rightarrow P_x = \\frac{e^{ax + b}}{e^{ax+b}+1}$$"
   ]
  },
  {
   "cell_type": "markdown",
   "metadata": {},
   "source": [
    "> 아무튼 X를 적당한 선형 변환을 하여 다양한 곡선들을 만들 수 있다.\n",
    "\n",
    "\n",
    "> **Note**\n",
    ">\n",
    "> **회귀 vs 로지스틱**\n",
    ">\n",
    "> -   ${\\bf X} \\to {\\bf y}$ 에 대한 패턴이\n",
    ">     $\\text{linr}({\\bf X}) \\approx {\\bf y}$ 이라면 회귀!\n",
    "> -   ${\\bf X} \\to {\\bf y}$ 에 대한 패턴이\n",
    ">     $\\frac{\\exp(\\text{linr}({\\bf X}))}{1+\\exp(\\text{linr}({\\bf X}))} \\approx {\\bf y}$\n",
    ">     이라면 로지스틱!"
   ]
  },
  {
   "cell_type": "markdown",
   "metadata": {},
   "source": [
    "파라미터 기본값을 설정해주지 않아도 잘 되던데, 뭘 디폴트로 하는 걸까."
   ]
  },
  {
   "cell_type": "markdown",
   "metadata": {},
   "source": [
    "## 5. 로지스틱 - ToyData2"
   ]
  },
  {
   "cell_type": "markdown",
   "metadata": {},
   "source": [
    "### A. 로지스틱 모형\n",
    "\n",
    "`-` $x$가 커질수록 $y=1$이 잘나오는 모형은 아래와 같이 설계할 수 있음\n",
    "\\<— 외우세요!!!\n",
    "\n",
    "-   $y_i \\sim {\\cal B}(\\pi_i),\\quad$ where\n",
    "    $\\pi_i = \\frac{\\exp(w_0+w_1x_i)}{1+\\exp(w_0+w_1x_i)} = \\frac{1}{1+\\exp(-w_0-w_1x_i)}$\n",
    "\n",
    "-   $\\hat{y}_i= \\frac{\\exp(\\hat{w}_0+\\hat{w}_1x_i)}{1+\\exp(\\hat{w}_0+\\hat{w}_1x_i)}=\\frac{1}{1+\\exp(-\\hat{w}_0-\\hat{w}_1x_i)}$\n",
    "\n",
    "`-` 회귀모형과 로지스틱 모형의 비교\n",
    "\n",
    "-   회귀모형: $y_i \\sim {\\cal N}(w_0+w_1x_i, \\sigma^2)$[1]\n",
    "-   로지스틱:\n",
    "    $y_i \\sim {\\cal B}\\big(\\frac{\\exp(w_0+w_1x_i)}{1+\\exp(w_0+w_1x_i)}\\big)$\n",
    "\n",
    "`-` 우리가 예측하고 싶은것\n",
    "\n",
    "-   회귀모형: 정규분포의 평균을 예측하고 싶음. 즉 $w_0+w_1x_i$를\n",
    "    예측하고 싶음. 예측값으로는 $\\hat{w}_0 + \\hat{w}_1x_i$를 사용!\n",
    "-   로지스틱: 베르누이의 평균($p$)을 예측하고 싶음. 즉\n",
    "    $\\frac{\\exp(w_0+w_1x_i)}{1+\\exp(w_0+w_1x_i)}$를 예측하고 싶음.\n",
    "    예측값으로는\n",
    "    $\\frac{\\exp(\\hat{w}_0+\\hat{w}_1x_i)}{1+\\exp(\\hat{w}_0+\\hat{w}_1x_i)}$를\n",
    "    사용!\n",
    "\n",
    "> 결론적으로 파라미터만 잘 구하면 됨\n",
    "\n",
    "### B. 데이터\n",
    "\n",
    "[1] 원래는 이렇게 썼었지..\n",
    "$y_i = w_0 + w_1x_i + \\epsilon_i \\quad \\epsilon_i \\sim {\\cal N}(0,\\sigma^2)$"
   ]
  },
  {
   "cell_type": "markdown",
   "metadata": {},
   "source": []
  }
 ],
 "metadata": {
  "kernelspec": {
   "display_name": "Python 3 (ipykernel)",
   "language": "python",
   "name": "python3"
  },
  "language_info": {
   "codemirror_mode": {
    "name": "ipython",
    "version": 3
   },
   "file_extension": ".py",
   "mimetype": "text/x-python",
   "name": "python",
   "nbconvert_exporter": "python",
   "pygments_lexer": "ipython3",
   "version": "3.9.18"
  }
 },
 "nbformat": 4,
 "nbformat_minor": 4
}
