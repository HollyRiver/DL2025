{
 "cells": [
  {
   "cell_type": "markdown",
   "id": "9bac18bf",
   "metadata": {},
   "source": [
    "# 06wk-1: (신경망) – 데이터분석 코딩패턴, 다중클래스 분류"
   ]
  },
  {
   "cell_type": "markdown",
   "id": "2a20c324",
   "metadata": {},
   "source": [
    "## 1. Imports"
   ]
  },
  {
   "cell_type": "code",
   "execution_count": 1,
   "id": "6caaef90",
   "metadata": {},
   "outputs": [],
   "source": [
    "import torch\n",
    "import matplotlib.pyplot as plt\n",
    "import torchvision"
   ]
  },
  {
   "cell_type": "markdown",
   "id": "d77e86b8",
   "metadata": {},
   "source": [
    "## 2. 주요 코드 등"
   ]
  },
  {
   "cell_type": "code",
   "execution_count": 1,
   "id": "06a2e596-a5a7-4b9e-a670-0c476e916d28",
   "metadata": {},
   "outputs": [],
   "source": [
    "import torch"
   ]
  },
  {
   "cell_type": "code",
   "execution_count": null,
   "id": "161e1187-9854-4be5-a217-01e9ed11e8db",
   "metadata": {},
   "outputs": [],
   "source": [
    "torch.utils.data.DataLo"
   ]
  },
  {
   "cell_type": "code",
   "execution_count": null,
   "id": "22515bcd-68ea-4574-9ed9-16efb6f40b69",
   "metadata": {},
   "outputs": [],
   "source": [
    "torch.nn.BCEWithLogitsLoss"
   ]
  },
  {
   "cell_type": "markdown",
   "id": "676306cb-7d6e-4096-9170-b3cca8fcf834",
   "metadata": {},
   "source": [
    "```Python\n",
    "ds = torch.utils.data.TensorDataset(X, y)\n",
    "dl = torch.utils.data.DataLoader(ds, batch_size = 1024)\n",
    "\n",
    "net = torch.nn.Sequential(\n",
    "    torch.nn.Linear(k, 1024), ## k*1024 + 1024\n",
    "    torch.nn.ReLU(),\n",
    "    torch.nn.Linear(1024, p), ## 1024*p + p\n",
    "    torch.nn.Sigmoid()\n",
    ").to(\"cuda:0\")\n",
    "\n",
    "loss_fn = torch.nn.BCEWithLogitsLoss() ## 일반화 로지스틱\n",
    "optimizr = torch.optim.Adam(net.parameters())\n",
    "\n",
    "##---##\n",
    "for epoc in range(1, 500) :\n",
    "    for Xm, ym in dl :\n",
    "        Xm.to(\"cuda:0\")\n",
    "        ym.to(\"cuda:0\")\n",
    "\n",
    "        netout = net(Xm)\n",
    "        loss = loss_fn(netout, ym)\n",
    "        optimizr.step()\n",
    "        optimizr.zero_grad()\n",
    "\n",
    "    ## train accuracy\n",
    "    if epoc % 50 == 0 :\n",
    "        for Xm, ym in dl :\n",
    "            Xm = Xm.to(\"cuda:0\")\n",
    "            ym = ym.to(\"cuda:0\")\n",
    "            s += torch.sum(((net(Xm) > 0.5)*1.0 == ym)*1.0)\n",
    "        \n",
    "        acc = s/X.shape[0]\n",
    "    \n",
    "        print(f\"# of epochs = {epoc},\\t acc={acc.item(): .4f}\")\n",
    "\n",
    "XX.to(\"cuda:0\")\n",
    "yy.to(\"cuda:0\")\n",
    "\n",
    "test_acc = ((net(XX) > 0.5) == yy).float().mean()\n",
    "## test_acc = ((net(XX) - yy)**2).mean()\n",
    "```"
   ]
  },
  {
   "cell_type": "markdown",
   "id": "ae807142",
   "metadata": {},
   "source": [
    "## 3. 데이터분석 코딩패턴"
   ]
  },
  {
   "cell_type": "markdown",
   "id": "74777692-69fe-43e6-b917-dbca75e620ba",
   "metadata": {},
   "source": [
    "`-` 복습\n",
    "\n",
    "- 시벤코 정리 - train 측면에서 다 맞출 수 있음\n",
    "- 오버피팅 -> test에서 잘하는 게 의미가 있음\n",
    "- 드랍아웃 -> 대충대충 학습하면 오히려 오버피팅이 잘 안일어남 -> 성공 / 랜덤포레스트\n",
    "\n",
    "`-` 알고리즘\n",
    "\n",
    "- GPU 메모리가 모자람\n",
    "- 확률적 경사하강법 사용 -> 꼭 자원이 모자라서 이 알고리즘을 만든 것 같지만, SGD는 알고리즘 자체에 장점이 있음\n",
    "- 데이터를 조금씩 쓰면서 update -> 오버핏을 눌러주는 효과 / 배깅\n",
    "- 전역 최소값과 로컬 미니멈이 있을 때 국지적 최소값에 빠져도 잘 빠져나옴\n",
    "\n",
    "> 오늘 할 것 : train/test가 존재하는 데이터 세팅에서 Dropout 레이어, 미니배치, GPU 사용..."
   ]
  },
  {
   "cell_type": "markdown",
   "id": "367e2339-f87a-452f-aa5e-4b25fafa1a88",
   "metadata": {},
   "source": [
    "### A. 일반적인 train/test 세팅\n",
    "\n",
    "`-` Step 1 : 데이터 정리"
   ]
  },
  {
   "cell_type": "code",
   "execution_count": 2,
   "id": "4ae25d73-e5bd-4a87-9024-ef511abda023",
   "metadata": {},
   "outputs": [],
   "source": [
    "train_dataset = torchvision.datasets.MNIST(root='./data', train=True, download=True)\n",
    "test_dataset = torchvision.datasets.MNIST(root='./data', train=False, download=True)\n",
    "to_tensor = torchvision.transforms.ToTensor()\n",
    "X0 = torch.stack([to_tensor(img) for img, lbl in train_dataset if lbl==0])\n",
    "X1 = torch.stack([to_tensor(img) for img, lbl in train_dataset if lbl==1])\n",
    "X = torch.concat([X0,X1],axis=0).reshape(-1,784)\n",
    "y = torch.tensor([0.0]*len(X0) + [1.0]*len(X1)).reshape(-1,1)\n",
    "XX0 = torch.stack([to_tensor(img) for img, lbl in test_dataset if lbl==0])\n",
    "XX1 = torch.stack([to_tensor(img) for img, lbl in test_dataset if lbl==1])\n",
    "XX = torch.concat([XX0,XX1],axis=0).reshape(-1,784)\n",
    "yy = torch.tensor([0.0]*len(XX0) + [1.0]*len(XX1)).reshape(-1,1)"
   ]
  },
  {
   "cell_type": "code",
   "execution_count": 3,
   "id": "377c24e3-33e4-4a85-a383-27aa6a15ce6a",
   "metadata": {},
   "outputs": [
    {
     "name": "stdout",
     "output_type": "stream",
     "text": [
      "tensor([0.])\n"
     ]
    },
    {
     "data": {
      "image/png": "[encoded data removed]",
      "text/plain": [
       "<Figure size 640x480 with 1 Axes>"
      ]
     },
     "metadata": {},
     "output_type": "display_data"
    }
   ],
   "source": [
    "plt.imshow(X[0].reshape(28, 28), cmap = \"gray\")\n",
    "print(y[0])"
   ]
  },
  {
   "cell_type": "code",
   "execution_count": 6,
   "id": "9cdd93d0-7668-40f3-8763-f7f11aee0946",
   "metadata": {},
   "outputs": [
    {
     "data": {
      "text/plain": [
       "(torch.Size([12665, 784]), torch.Size([12665, 1]))"
      ]
     },
     "execution_count": 6,
     "metadata": {},
     "output_type": "execute_result"
    }
   ],
   "source": [
    "X.shape, y.shape"
   ]
  },
  {
   "cell_type": "code",
   "execution_count": 7,
   "id": "a5303dde-ef87-46af-bd56-d61c9b19645c",
   "metadata": {},
   "outputs": [
    {
     "data": {
      "text/plain": [
       "(torch.Size([2115, 784]), torch.Size([2115, 1]))"
      ]
     },
     "execution_count": 7,
     "metadata": {},
     "output_type": "execute_result"
    }
   ],
   "source": [
    "XX.shape, yy.shape"
   ]
  },
  {
   "cell_type": "markdown",
   "id": "6efb9805-d6f8-4a59-a02c-1ef89aa4cc97",
   "metadata": {},
   "source": [
    "`-` Step2 : 학습 가능한 오브젝트들의 설정"
   ]
  },
  {
   "cell_type": "code",
   "execution_count": 27,
   "id": "375420a5-f69b-49b0-8338-d655373189bb",
   "metadata": {},
   "outputs": [],
   "source": [
    "net = torch.nn.Sequential(\n",
    "    torch.nn.Linear(784, 32),\n",
    "    torch.nn.ReLU(),\n",
    "    # torch.nn.Dropout(), ## ReLU의 경우 앞에 써도 됨\n",
    "    torch.nn.Linear(32, 1),  ## 784*32 + 32개의 파라미터 학습 필요\n",
    "    torch.nn.Sigmoid()\n",
    ")\n",
    "\n",
    "loss_fn = torch.nn.BCELoss()\n",
    "optimizr = torch.optim.SGD(net.parameters())"
   ]
  },
  {
   "cell_type": "markdown",
   "id": "3a815f1c-f41e-4640-878f-b0c3cfedcab9",
   "metadata": {},
   "source": [
    "`-` Step3 : 학습(= 적합)"
   ]
  },
  {
   "cell_type": "code",
   "execution_count": 28,
   "id": "9e8d82e2-27d0-4997-9d83-9219acad4ec7",
   "metadata": {},
   "outputs": [
    {
     "name": "stdout",
     "output_type": "stream",
     "text": [
      "# epochs = 0,   \t acc = 0.46\n",
      "# epochs = 50,   \t acc = 0.47\n",
      "# epochs = 100,   \t acc = 0.51\n",
      "# epochs = 150,   \t acc = 0.63\n",
      "# epochs = 200,   \t acc = 0.82\n",
      "# epochs = 250,   \t acc = 0.94\n"
     ]
    }
   ],
   "source": [
    "for epoc in range(300) :\n",
    "    yhat = net(X)\n",
    "    loss = loss_fn(yhat, y)\n",
    "    loss.backward()\n",
    "    optimizr.step()\n",
    "    optimizr.zero_grad()\n",
    "    #----에폭 끝----#\n",
    "    # 에폭마다 보고 싶은 코드를 정리\n",
    "    if (epoc % 50) == 0 :\n",
    "        ## 50 에폭마다 정확도 출력\n",
    "        acc = ((net(X).data > 0.5) == y).float().mean().item()\n",
    "        print(f\"# epochs = {epoc},   \\t acc = {acc:.2f}\")"
   ]
  },
  {
   "cell_type": "markdown",
   "id": "62e20106-1fe1-46ef-8d30-503576a90452",
   "metadata": {},
   "source": [
    "`-` Step 4 : 예측 & 결과 분석"
   ]
  },
  {
   "cell_type": "markdown",
   "id": "b4dfa2db-bc16-4ee0-83e8-a8197be74269",
   "metadata": {},
   "source": [
    "* train accuracy"
   ]
  },
  {
   "cell_type": "code",
   "execution_count": 34,
   "id": "a11ee67e-2839-43d2-b5ac-e2e55c3b9216",
   "metadata": {},
   "outputs": [
    {
     "data": {
      "text/plain": [
       "0.976233720779419"
      ]
     },
     "execution_count": 34,
     "metadata": {},
     "output_type": "execute_result"
    }
   ],
   "source": [
    "torch.mean(((net(X) > 0.5)*1.0 == y)*1.0).item()"
   ]
  },
  {
   "cell_type": "markdown",
   "id": "8639ec0b-b400-41b6-b183-f29fa184992e",
   "metadata": {},
   "source": [
    "* test accuracy"
   ]
  },
  {
   "cell_type": "code",
   "execution_count": 35,
   "id": "ae87d265-9b55-48ff-97ee-d7f1f40fcbfc",
   "metadata": {},
   "outputs": [
    {
     "data": {
      "text/plain": [
       "0.9839243292808533"
      ]
     },
     "execution_count": 35,
     "metadata": {},
     "output_type": "execute_result"
    }
   ],
   "source": [
    "torch.mean(((net(XX) > 0.5)*1.0 == yy)*1.0).item()"
   ]
  },
  {
   "cell_type": "markdown",
   "id": "8b309d1e-d039-4936-bdb5-631c861d757e",
   "metadata": {},
   "source": [
    "> dropout 말고도, early stoping이라고 그냥 정확도가 너무 높아지기 전에 에폭을 멈추는 직관적인 방법도 있음 ㅇㅇ\n",
    ">\n",
    "> 멈추는 시점을 validation set을 통해 결정하는 방법도 있음 -> validation set의 평가 지수가 낮아지는 시점에서 멈추는 방법"
   ]
  },
  {
   "cell_type": "markdown",
   "id": "c8e9df6b-eb97-430b-a843-9f13237b6aed",
   "metadata": {},
   "source": [
    "### B. Dropout 사용(오버피팅은 아니지만...)"
   ]
  },
  {
   "cell_type": "markdown",
   "id": "283d3952-5630-451b-91a0-210ad5bb068b",
   "metadata": {},
   "source": [
    "`-` Step 1 : 데이터 정리 - pass"
   ]
  },
  {
   "cell_type": "code",
   "execution_count": 36,
   "id": "4f7e5d03-8b22-4f9c-812d-c4d7adf10f85",
   "metadata": {},
   "outputs": [],
   "source": [
    "pass"
   ]
  },
  {
   "cell_type": "markdown",
   "id": "666e9769-979e-4af2-88e0-0b87a89c0be3",
   "metadata": {},
   "source": [
    "`-` Step 2 : 학습을 위한 오브젝트 설정(모델링 과정 포함)"
   ]
  },
  {
   "cell_type": "code",
   "execution_count": 43,
   "id": "8863535b-5413-4e50-961a-2688178bfa4e",
   "metadata": {},
   "outputs": [],
   "source": [
    "torch.manual_seed(1)\n",
    "net = torch.nn.Sequential(\n",
    "    torch.nn.Linear(784,32),\n",
    "    torch.nn.Dropout(0.9),  ## 렐루 뒤에 넣어도 됨\n",
    "    torch.nn.ReLU(),\n",
    "    torch.nn.Linear(32,1),\n",
    "    torch.nn.Sigmoid()\n",
    ")\n",
    "loss_fn = torch.nn.BCELoss()\n",
    "optimizr = torch.optim.SGD(net.parameters())"
   ]
  },
  {
   "cell_type": "markdown",
   "id": "faf884f4-b6bd-4e49-bb3f-1d64b2292e11",
   "metadata": {},
   "source": [
    "`-` Step3 : 학습(=적합)"
   ]
  },
  {
   "cell_type": "code",
   "execution_count": 44,
   "id": "f5d32ccc-1c60-4105-9f85-ac81b872684a",
   "metadata": {},
   "outputs": [
    {
     "name": "stdout",
     "output_type": "stream",
     "text": [
      "# of epochs = 0,\t acc= 0.22\n",
      "# of epochs = 50,\t acc= 0.45\n",
      "# of epochs = 100,\t acc= 0.63\n",
      "# of epochs = 150,\t acc= 0.81\n",
      "# of epochs = 200,\t acc= 0.92\n",
      "# of epochs = 250,\t acc= 0.96\n"
     ]
    }
   ],
   "source": [
    "for epoc in range(300):\n",
    "    net.train()  ## train 모드로 전환. 첫 루프에는 train mode지만, 아래에서 디버깅을 위해 evaluation 모드 사용\n",
    "    #----에폭시작-----#\n",
    "    # step1 \n",
    "    yhat = net(X)\n",
    "    # step2 \n",
    "    loss = loss_fn(yhat,y)\n",
    "    # step3     \n",
    "    loss.backward()\n",
    "    # step4 \n",
    "    optimizr.step()\n",
    "    optimizr.zero_grad()\n",
    "    #-----에폭끝-----#\n",
    "    net.eval()  ## 평가를 위해 모드 전환\n",
    "    # 에폭별로 살펴보고 싶은 뭔가들.. \n",
    "    if (epoc % 50) == 0:\n",
    "        acc = ((net(X).data > 0.5) == y).float().mean()\n",
    "        print(f\"# of epochs = {epoc},\\t acc={acc.item(): .2f}\")"
   ]
  },
  {
   "cell_type": "markdown",
   "id": "bb016411-eb2e-421d-a250-815027e48488",
   "metadata": {},
   "source": [
    "`-` Step4 : 예측 & 결과 분석"
   ]
  },
  {
   "cell_type": "code",
   "execution_count": 49,
   "id": "ec983848-31f7-4404-913d-a5650696ab0b",
   "metadata": {},
   "outputs": [
    {
     "data": {
      "text/plain": [
       "Sequential(\n",
       "  (0): Linear(in_features=784, out_features=32, bias=True)\n",
       "  (1): Dropout(p=0.9, inplace=False)\n",
       "  (2): ReLU()\n",
       "  (3): Linear(in_features=32, out_features=1, bias=True)\n",
       "  (4): Sigmoid()\n",
       ")"
      ]
     },
     "execution_count": 49,
     "metadata": {},
     "output_type": "execute_result"
    }
   ],
   "source": [
    "net"
   ]
  },
  {
   "cell_type": "markdown",
   "id": "d0309b46-d71a-43ee-b551-a9a07b81711b",
   "metadata": {},
   "source": [
    "* train acc"
   ]
  },
  {
   "cell_type": "code",
   "execution_count": 45,
   "id": "dc7c228a-ce84-4e7a-b033-7159dc252a24",
   "metadata": {},
   "outputs": [
    {
     "data": {
      "text/plain": [
       "tensor(0.9797)"
      ]
     },
     "execution_count": 45,
     "metadata": {},
     "output_type": "execute_result"
    }
   ],
   "source": [
    "((net(X) > 0.5)*1.0 ==  y).float().mean()"
   ]
  },
  {
   "cell_type": "markdown",
   "id": "cdd9a5b9-65b7-4faa-80d0-df5ae02fe96a",
   "metadata": {},
   "source": [
    "* test acc"
   ]
  },
  {
   "cell_type": "code",
   "execution_count": 46,
   "id": "eed668cd-ffbb-4853-88c8-f9fab24ee641",
   "metadata": {},
   "outputs": [
    {
     "data": {
      "text/plain": [
       "tensor(0.9877)"
      ]
     },
     "execution_count": 46,
     "metadata": {},
     "output_type": "execute_result"
    }
   ],
   "source": [
    "((net(XX) > 0.5)*1.0 ==  yy).float().mean()"
   ]
  },
  {
   "cell_type": "markdown",
   "id": "aaa22a59-1aa8-4d9b-8939-0703f6479161",
   "metadata": {},
   "source": [
    "### C. GPU도 사용"
   ]
  },
  {
   "cell_type": "markdown",
   "id": "38250468-3c89-4504-b8ea-469212a0683f",
   "metadata": {},
   "source": [
    "`-` 데이터 정리, 오브젝트 설정 변경"
   ]
  },
  {
   "cell_type": "code",
   "execution_count": 53,
   "id": "cedb4eb7-ccd2-476a-90c1-71eead490ae5",
   "metadata": {},
   "outputs": [],
   "source": [
    "torch.manual_seed(1)\n",
    "net = torch.nn.Sequential(\n",
    "    torch.nn.Linear(784,32),\n",
    "    torch.nn.Dropout(0.9),\n",
    "    torch.nn.ReLU(),\n",
    "    torch.nn.Linear(32,1),\n",
    "    torch.nn.Sigmoid()\n",
    ").to(\"cuda:0\")  ## 네트워크 넣어주기\n",
    "loss_fn = torch.nn.BCELoss()\n",
    "optimizr = torch.optim.SGD(net.parameters())"
   ]
  },
  {
   "cell_type": "code",
   "execution_count": 54,
   "id": "84cc373f-6d6f-4912-90e7-bcdec69ab282",
   "metadata": {},
   "outputs": [
    {
     "name": "stdout",
     "output_type": "stream",
     "text": [
      "# of epochs = 0,\t acc= 0.22\n",
      "# of epochs = 50,\t acc= 0.45\n",
      "# of epochs = 100,\t acc= 0.63\n",
      "# of epochs = 150,\t acc= 0.81\n",
      "# of epochs = 200,\t acc= 0.92\n",
      "# of epochs = 250,\t acc= 0.96\n"
     ]
    }
   ],
   "source": [
    "for epoc in range(300):\n",
    "    net.train()\n",
    "    #----에폭시작-----#\n",
    "    X = X.to(\"cuda:0\") ## 데이터도 넣어주기\n",
    "    y = y.to(\"cuda:0\") ## 데이터도 넣어주기 : 이건 처음 데이터 정리 과정에서 하는 게 좋을듯\n",
    "    # step1 \n",
    "    yhat = net(X)\n",
    "    # step2 \n",
    "    loss = loss_fn(yhat,y)\n",
    "    # step3     \n",
    "    loss.backward()\n",
    "    # step4 \n",
    "    optimizr.step()\n",
    "    optimizr.zero_grad()\n",
    "    #-----에폭끝-----#\n",
    "    net.eval()\n",
    "    # 에폭별로 살펴보고 싶은 뭔가들.. \n",
    "    if (epoc % 50) == 0:\n",
    "        acc = ((net(X).data > 0.5) == y).float().mean()\n",
    "        print(f\"# of epochs = {epoc},\\t acc={acc.item(): .2f}\")"
   ]
  },
  {
   "cell_type": "markdown",
   "id": "fa1e1ac8-5246-4a9d-a355-de2a531d7aac",
   "metadata": {},
   "source": [
    "* train acc"
   ]
  },
  {
   "cell_type": "code",
   "execution_count": 58,
   "id": "ec2eb983-cb82-423f-a4cb-9e41571704b4",
   "metadata": {},
   "outputs": [
    {
     "data": {
      "text/plain": [
       "0.9797868728637695"
      ]
     },
     "execution_count": 58,
     "metadata": {},
     "output_type": "execute_result"
    }
   ],
   "source": [
    "((net(X) > 0.5) ==  y).float().mean().item()"
   ]
  },
  {
   "cell_type": "markdown",
   "id": "e34c6866-abc6-469f-8fbd-c6ebd46c2689",
   "metadata": {},
   "source": [
    "* test acc"
   ]
  },
  {
   "cell_type": "code",
   "execution_count": 59,
   "id": "c4c7e43a-bc67-4166-8e79-12b0d8b0d54b",
   "metadata": {},
   "outputs": [
    {
     "data": {
      "text/plain": [
       "0.9881796836853027"
      ]
     },
     "execution_count": 59,
     "metadata": {},
     "output_type": "execute_result"
    }
   ],
   "source": [
    "XX = XX.to(\"cuda:0\")\n",
    "yy = yy.to(\"cuda:0\")\n",
    "((net(XX) > 0.5) ==  yy).float().mean().item()"
   ]
  },
  {
   "cell_type": "markdown",
   "id": "d878d0ea-067e-430a-8d24-04a9b6788b4d",
   "metadata": {},
   "source": [
    "### D. 미니배치까지 사용"
   ]
  },
  {
   "cell_type": "markdown",
   "id": "aafd38ac-e83b-4f0a-b129-e144c0389a52",
   "metadata": {},
   "source": [
    "`-` Step1 : 데이터 정리"
   ]
  },
  {
   "cell_type": "code",
   "execution_count": 60,
   "id": "35dca3a3-6788-4213-907f-ea6c490db668",
   "metadata": {},
   "outputs": [],
   "source": [
    "X = X.to(\"cpu\")  ## 얘를 올리기에는 너무 큰 상황\n",
    "y = y.to(\"cpu\")\n",
    "XX = XX.to(\"cpu\")\n",
    "yy = yy.to(\"cpu\")"
   ]
  },
  {
   "cell_type": "code",
   "execution_count": 71,
   "id": "4a132e55-bfca-4e96-90ee-300496c6df6e",
   "metadata": {},
   "outputs": [],
   "source": [
    "ds = torch.utils.data.TensorDataset(X, y)\n",
    "dl = torch.utils.data.DataLoader(ds, batch_size = 16, shuffle = True)"
   ]
  },
  {
   "cell_type": "code",
   "execution_count": 67,
   "id": "f4240f3f-f32a-453c-9fe6-670985e95eec",
   "metadata": {},
   "outputs": [],
   "source": [
    "# for Xm, ym in dl :\n",
    "#     print(Xm.shape) # (16, 784)\n",
    "#     print(ym.shape) # (16, 1)"
   ]
  },
  {
   "cell_type": "markdown",
   "id": "45768f98-8985-4eb5-9eb3-30717cf8140e",
   "metadata": {},
   "source": [
    "`-` Step2: 학습가능한 오브젝트들의 설정 (모델링과정 포함)"
   ]
  },
  {
   "cell_type": "code",
   "execution_count": 83,
   "id": "bab2e67c-d259-4e37-b6fb-73694a8a686a",
   "metadata": {},
   "outputs": [],
   "source": [
    "torch.manual_seed(1)\n",
    "net = torch.nn.Sequential(\n",
    "    torch.nn.Linear(784,32),\n",
    "    torch.nn.Dropout(0.5),\n",
    "    torch.nn.ReLU(),\n",
    "    torch.nn.Linear(32,1),\n",
    "    torch.nn.Sigmoid()\n",
    ").to(\"cuda:0\")\n",
    "loss_fn = torch.nn.BCELoss()\n",
    "optimizr = torch.optim.SGD(net.parameters())"
   ]
  },
  {
   "cell_type": "markdown",
   "id": "7ee50e8c-7eb1-4882-8f50-077f8a26acf6",
   "metadata": {},
   "source": [
    "`-` Step3 : 학습(=적합)"
   ]
  },
  {
   "cell_type": "code",
   "execution_count": 84,
   "id": "520800d8-c314-4559-988a-87e0f8bbe4f1",
   "metadata": {},
   "outputs": [
    {
     "name": "stdout",
     "output_type": "stream",
     "text": [
      "# of epochs = 0,\t acc= 0.9957\n",
      "# of epochs = 1,\t acc= 0.9961\n",
      "# of epochs = 2,\t acc= 0.9964\n"
     ]
    }
   ],
   "source": [
    "for epoc in range(3):\n",
    "    net.train()\n",
    "    #----에폭시작-----#\n",
    "    for Xm, ym in dl :\n",
    "        Xm = Xm.to(\"cuda:0\")  ## 얘는 그나마 작아서 올릴만 함\n",
    "        ym = ym.to(\"cuda:0\")\n",
    "        # step1 \n",
    "        yhat = net(Xm)\n",
    "        # step2 \n",
    "        loss = loss_fn(yhat,ym)\n",
    "        # step3     \n",
    "        loss.backward()\n",
    "        # step4 \n",
    "        optimizr.step()\n",
    "        optimizr.zero_grad()\n",
    "    #-----에폭끝-----#\n",
    "    net.eval()\n",
    "    # 에폭별로 살펴보고 싶은 뭔가들...\n",
    "    s = 0\n",
    "    \n",
    "    for Xm, ym in dl :\n",
    "        Xm = Xm.to(\"cuda:0\")\n",
    "        ym = ym.to(\"cuda:0\")\n",
    "        s += torch.sum(((net(Xm) > 0.5)*1.0 == ym)*1.0)\n",
    "        \n",
    "    acc = s/X.shape[0]\n",
    "\n",
    "    print(f\"# of epochs = {epoc},\\t acc={acc.item(): .4f}\")"
   ]
  },
  {
   "cell_type": "markdown",
   "id": "33a58dcf-5f0e-4a97-860a-4ecefa716cca",
   "metadata": {},
   "source": [
    "`-` Step4 : 예측 & 결과 분석"
   ]
  },
  {
   "cell_type": "code",
   "execution_count": 85,
   "id": "2dd62140-368b-4293-8370-ef50b3144fba",
   "metadata": {},
   "outputs": [
    {
     "data": {
      "text/plain": [
       "Sequential(\n",
       "  (0): Linear(in_features=784, out_features=32, bias=True)\n",
       "  (1): Dropout(p=0.5, inplace=False)\n",
       "  (2): ReLU()\n",
       "  (3): Linear(in_features=32, out_features=1, bias=True)\n",
       "  (4): Sigmoid()\n",
       ")"
      ]
     },
     "execution_count": 85,
     "metadata": {},
     "output_type": "execute_result"
    }
   ],
   "source": [
    "net.to(\"cpu\") ## X를 올리긴 힘듦..."
   ]
  },
  {
   "cell_type": "markdown",
   "id": "06e30cf5-681d-499a-8131-649b0c326a26",
   "metadata": {},
   "source": [
    "* train acc"
   ]
  },
  {
   "cell_type": "code",
   "execution_count": 86,
   "id": "48f2d7f7-8bf4-4568-bd48-bca76520e2c6",
   "metadata": {},
   "outputs": [
    {
     "data": {
      "text/plain": [
       "tensor(0.9964)"
      ]
     },
     "execution_count": 86,
     "metadata": {},
     "output_type": "execute_result"
    }
   ],
   "source": [
    "torch.mean(((net(X) > 0.5)*1.0 == y)*1.0)"
   ]
  },
  {
   "cell_type": "markdown",
   "id": "df8b7a5e-eae2-4671-9319-c4d6241635b2",
   "metadata": {},
   "source": [
    "`-` test acc"
   ]
  },
  {
   "cell_type": "code",
   "execution_count": 88,
   "id": "2018f0ec-7657-4cbf-96da-e5df4100d891",
   "metadata": {},
   "outputs": [
    {
     "data": {
      "text/plain": [
       "tensor(0.9991)"
      ]
     },
     "execution_count": 88,
     "metadata": {},
     "output_type": "execute_result"
    }
   ],
   "source": [
    "torch.mean(((net(XX) > 0.5)*1.0 == yy)*1.0)"
   ]
  },
  {
   "cell_type": "markdown",
   "id": "b63c63be-e45a-4836-8ac8-bb6142b7e20f",
   "metadata": {},
   "source": [
    "> 점점 비본질적인 코드가 늘어남. 여러 방법을 추가할수록 귀찮음... -> Trainer의 개념 등장\n",
    ">\n",
    "> 직접 하긴 어려우니... 실질적으로 학부 수준에서는 트레이너가 있는 다른 패키지를 써야 함"
   ]
  }
 ],
 "metadata": {
  "kernelspec": {
   "display_name": "Python 3 (ipykernel)",
   "language": "python",
   "name": "python3"
  },
  "language_info": {
   "codemirror_mode": {
    "name": "ipython",
    "version": 3
   },
   "file_extension": ".py",
   "mimetype": "text/x-python",
   "name": "python",
   "nbconvert_exporter": "python",
   "pygments_lexer": "ipython3",
   "version": "3.9.18"
  }
 },
 "nbformat": 4,
 "nbformat_minor": 5
}
