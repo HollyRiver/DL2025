{
  "cells": [
    {
      "cell_type": "markdown",
      "id": "fc163693-66c4-43ba-ab98-5c863b66d258",
      "metadata": {},
      "source": [
        "# A1: Exercise\n",
        "\n",
        "최규빈  \n",
        "2025-01-01\n",
        "\n",
        "> 문제풀이에 필요한 모듈은 스스로 `import` 할 것\n",
        "\n",
        "## `$`. 벡터와 행렬\n",
        "\n",
        "`#`. 아래와 같이 length 5 인 vector를 `torch.tensor`로 선언하는 코드를\n",
        "작성하라.\n",
        "\n",
        "$${\\bf x} = [1,2,3,4,5]$$\n",
        "\n",
        "`(풀이)`"
      ]
    },
    {
      "cell_type": "code",
      "execution_count": 1,
      "id": "c68ed58a",
      "metadata": {},
      "outputs": [],
      "source": [
        "import torch"
      ]
    },
    {
      "cell_type": "code",
      "execution_count": 2,
      "id": "8ba6c91a-505e-4ba4-a97b-42a6893aa1ef",
      "metadata": {},
      "outputs": [
        {
          "data": {
            "text/plain": [
              "tensor([1, 2, 3, 4, 5])"
            ]
          },
          "execution_count": 2,
          "metadata": {},
          "output_type": "execute_result"
        }
      ],
      "source": [
        "x = torch.tensor([1,2,3,4,5])\n",
        "x"
      ]
    },
    {
      "cell_type": "markdown",
      "id": "0d2e8ef0",
      "metadata": {},
      "source": [
        "`#`. 아래와 같은 2x2 matrix 를 `torch.tensor`로 선언하는 코드를\n",
        "작성하라.\n",
        "\n",
        "$${\\bf A} = \\begin{bmatrix} 1 & 2 \\\\ 3 & 4 \\end{bmatrix}$$"
      ]
    },
    {
      "cell_type": "markdown",
      "id": "edef4586",
      "metadata": {},
      "source": [
        "`-` 풀이"
      ]
    },
    {
      "cell_type": "code",
      "execution_count": 3,
      "id": "6869ecda",
      "metadata": {},
      "outputs": [
        {
          "data": {
            "text/plain": [
              "tensor([[1, 2],\n",
              "        [3, 4]])"
            ]
          },
          "execution_count": 3,
          "metadata": {},
          "output_type": "execute_result"
        }
      ],
      "source": [
        "A = torch.tensor([[1, 2],\n",
        "                  [3, 4]])\n",
        "A"
      ]
    },
    {
      "cell_type": "markdown",
      "id": "ee6e1d0b",
      "metadata": {},
      "source": [
        "`#`. 아래와 같은 matrix 를 `torch.tensor`로 선언하는 코드를 작성하라.\n",
        "\n",
        "$${\\bf W} = \\begin{bmatrix} 2.5  \\\\  4 \\end{bmatrix}$$"
      ]
    },
    {
      "cell_type": "code",
      "execution_count": 4,
      "id": "b4eb595b",
      "metadata": {},
      "outputs": [
        {
          "data": {
            "text/plain": [
              "tensor([[2.5000],\n",
              "        [4.0000]])"
            ]
          },
          "execution_count": 4,
          "metadata": {},
          "output_type": "execute_result"
        }
      ],
      "source": [
        "W = torch.tensor([[2.5],\n",
        "                  [4.0]])\n",
        "W"
      ]
    },
    {
      "cell_type": "markdown",
      "id": "1e3b7c69",
      "metadata": {},
      "source": [
        "`#`. 아래와 같은 matrix 를 `torch.tensor`로 선언하는 코드를 작성하라.\n",
        "\n",
        "$${\\bf x} = \\begin{bmatrix} 2.5  & 4 \\end{bmatrix}$$"
      ]
    },
    {
      "cell_type": "code",
      "execution_count": 5,
      "id": "18a0f43c",
      "metadata": {},
      "outputs": [
        {
          "data": {
            "text/plain": [
              "tensor([[2.5000, 4.0000]])"
            ]
          },
          "execution_count": 5,
          "metadata": {},
          "output_type": "execute_result"
        }
      ],
      "source": [
        "x = torch.tensor([[2.5, 4.0]])\n",
        "x"
      ]
    },
    {
      "cell_type": "markdown",
      "id": "adbf6947-6486-425d-823e-4970fa16e1b9",
      "metadata": {},
      "source": [
        "## `$`. concat, stack\n",
        "\n",
        "a,b가 아래와 같이 주어졌다고 하자."
      ]
    },
    {
      "cell_type": "code",
      "execution_count": 6,
      "id": "a8da07e4-f27b-4905-b8a7-01356ea9a86d",
      "metadata": {},
      "outputs": [],
      "source": [
        "a = torch.tensor([1]*10)\n",
        "b = torch.tensor([2]*10)"
      ]
    },
    {
      "cell_type": "markdown",
      "id": "5ff1a749-bf58-409e-bdf1-2965ef1c1f1c",
      "metadata": {},
      "source": [
        "아래를 잘 읽고 물음에 답하라.\n",
        "\n",
        "`#`. 주어진 a,b와 `torch.concat`를 이용하여 아래와 같은 배열을 만들어라.\n",
        "\n",
        "    tensor([1, 1, 1, 1, 1, 1, 1, 1, 1, 1, 2, 2, 2, 2, 2, 2, 2, 2, 2, 2])"
      ]
    },
    {
      "cell_type": "code",
      "execution_count": 16,
      "id": "0504134c-c396-4258-80ab-84eead0b5fa3",
      "metadata": {},
      "outputs": [],
      "source": [
        "torch.concat([a.reshape(-1,1), b.reshape(-1,1)])"
      ]
    },
    {
      "cell_type": "markdown",
      "id": "e5944a10",
      "metadata": {},
      "source": [
        "`#`. 주어진 a,b 와 `torch.concat`,`.reshape`를 이용하여 아래와 같은\n",
        "배열을 만들어라.\n",
        "```\n",
        "    tensor([[1],\n",
        "            [1],\n",
        "            [1],\n",
        "            [1],\n",
        "            [1],\n",
        "            [1],\n",
        "            [1],\n",
        "            [1],\n",
        "            [1],\n",
        "            [1],\n",
        "            [2],\n",
        "            [2],\n",
        "            [2],\n",
        "            [2],\n",
        "            [2],\n",
        "            [2],\n",
        "            [2],\n",
        "            [2],\n",
        "            [2],\n",
        "            [2]])\n",
        "\n",
        "```"
      ]
    },
    {
      "cell_type": "markdown",
      "id": "11868263",
      "metadata": {},
      "source": [
        "`-` 풀이"
      ]
    },
    {
      "cell_type": "code",
      "execution_count": 9,
      "id": "f4c758b4",
      "metadata": {},
      "outputs": [
        {
          "data": {
            "text/plain": [
              "tensor([[1],\n",
              "        [1],\n",
              "        [1],\n",
              "        [1],\n",
              "        [1],\n",
              "        [1],\n",
              "        [1],\n",
              "        [1],\n",
              "        [1],\n",
              "        [1],\n",
              "        [2],\n",
              "        [2],\n",
              "        [2],\n",
              "        [2],\n",
              "        [2],\n",
              "        [2],\n",
              "        [2],\n",
              "        [2],\n",
              "        [2],\n",
              "        [2]])"
            ]
          },
          "execution_count": 9,
          "metadata": {},
          "output_type": "execute_result"
        }
      ],
      "source": [
        "torch.concat([a.reshape(-1, 1), b.reshape(-1, 1)], axis = 0)"
      ]
    },
    {
      "cell_type": "markdown",
      "id": "e4ae46d3",
      "metadata": {},
      "source": [
        "`#`. 주어진 a,b 와 `torch.concat`,`.reshape`를 이용하여 아래와 같은\n",
        "배열을 만들어라.\n",
        "\n",
        "    tensor([[1, 2],\n",
        "            [1, 2],\n",
        "            [1, 2],\n",
        "            [1, 2],\n",
        "            [1, 2],\n",
        "            [1, 2],\n",
        "            [1, 2],\n",
        "            [1, 2],\n",
        "            [1, 2],\n",
        "            [1, 2]])"
      ]
    },
    {
      "cell_type": "markdown",
      "id": "b524743f",
      "metadata": {},
      "source": [
        "`-` 풀이"
      ]
    },
    {
      "cell_type": "code",
      "execution_count": 10,
      "id": "4bd33571",
      "metadata": {},
      "outputs": [
        {
          "data": {
            "text/plain": [
              "tensor([[1, 2],\n",
              "        [1, 2],\n",
              "        [1, 2],\n",
              "        [1, 2],\n",
              "        [1, 2],\n",
              "        [1, 2],\n",
              "        [1, 2],\n",
              "        [1, 2],\n",
              "        [1, 2],\n",
              "        [1, 2]])"
            ]
          },
          "execution_count": 10,
          "metadata": {},
          "output_type": "execute_result"
        }
      ],
      "source": [
        "torch.concat([a.reshape(-1, 1), b.reshape(-1, 1)], axis = 1)"
      ]
    },
    {
      "cell_type": "markdown",
      "id": "53981a77-68be-4edf-935b-0e88bac1be5a",
      "metadata": {},
      "source": [
        "`#`. 주어진 a,b와 `torch.stack` 을 이용하여 아래와 같은 배열을 만들어라.\n",
        "\n",
        "    tensor([[1, 1, 1, 1, 1, 1, 1, 1, 1, 1],\n",
        "            [2, 2, 2, 2, 2, 2, 2, 2, 2, 2]]\n",
        "\n",
        "`#`. 주어진 a,b와 `torch.stack`을 이용하여 아래와 같은 배열을 만들어라.\n",
        "\n",
        "    tensor([[1, 2],\n",
        "            [1, 2],\n",
        "            [1, 2],\n",
        "            [1, 2],\n",
        "            [1, 2],\n",
        "            [1, 2],\n",
        "            [1, 2],\n",
        "            [1, 2],\n",
        "            [1, 2],\n",
        "            [1, 2]])\n",
        "\n",
        "## `$`. 행렬곱\n",
        "\n",
        "`#`. 아래와 같은 텐서를 고려하자."
      ]
    },
    {
      "cell_type": "code",
      "execution_count": 3,
      "id": "c24782f8-8150-4684-a25c-b362108c4fc8",
      "metadata": {},
      "outputs": [],
      "source": [
        "a = torch.tensor([1,2,3,4,5]).reshape(-1,1)\n",
        "b = torch.tensor([3,2,1,1,2]).reshape(-1,1)"
      ]
    },
    {
      "cell_type": "markdown",
      "id": "b88cccfa-2343-4a69-9adf-e52d659e2a87",
      "metadata": {},
      "source": [
        "`@` 연산자를 이용하여 $\\sum_{i=1}^{5}a_ib_i$를 계산하라.\n",
        "\n",
        "`(풀이)`"
      ]
    },
    {
      "cell_type": "code",
      "execution_count": 4,
      "id": "6c5458ca-3f4a-4ff7-b33d-2a04d834efa3",
      "metadata": {},
      "outputs": [],
      "source": [
        "a.T @ b"
      ]
    },
    {
      "cell_type": "markdown",
      "id": "c51db5f0-02f1-40b1-b0d8-f5c820519c2f",
      "metadata": {},
      "source": [
        "`#`. 아래와 같은 텐서를 고려하자."
      ]
    },
    {
      "cell_type": "code",
      "execution_count": 6,
      "id": "b1acadbf-49e3-4ae9-ab76-0d61136154af",
      "metadata": {},
      "outputs": [],
      "source": [
        "torch.manual_seed(0)\n",
        "x = torch.randn(100).reshape(-1,1)"
      ]
    },
    {
      "cell_type": "markdown",
      "id": "ee28a23d-8ca5-41e6-aa4a-c7f8efb69742",
      "metadata": {},
      "source": [
        "`@`연산자를 이용하여 $\\sum_{i=1}^{100}x_i^2$을 계산하라.\n",
        "\n",
        "## `$`. 인덱싱\n",
        "\n",
        "아래와 같은 배열을 선언하라."
      ]
    },
    {
      "cell_type": "code",
      "execution_count": 23,
      "id": "8f35bb57-46ba-4c94-97a6-ae5e4424598a",
      "metadata": {
        "outputId": "52c92613-c738-4896-c465-74652a0b817e"
      },
      "outputs": [],
      "source": [
        "torch.manual_seed(1)\n",
        "x = torch.randn(12).reshape(3,4)\n",
        "x"
      ]
    },
    {
      "cell_type": "markdown",
      "id": "8a818f1d-b55c-40d7-b68c-1374ac126208",
      "metadata": {},
      "source": [
        "`#`. 1열을 추출하는 코드를 작성하라. 즉 결과가 아래와 같이 나오도록\n",
        "하라.\n",
        "\n",
        "    tensor([[ 0.6614],\n",
        "            [-0.4519],\n",
        "            [-1.0276]])\n",
        "\n",
        "`#`. 2-3열을 추출하는 코드를 작성하라. 즉 결과가 아래와 같이 나오도록\n",
        "하라.\n",
        "\n",
        "    tensor([[ 0.2669,  0.0617],\n",
        "            [-0.1661, -1.5228],\n",
        "            [-0.5631, -0.8923]])\n",
        "\n",
        "`#`. 2-3행을 추출하는 코드를 작성하라. 즉 결과가 아래와 같이 나오도록\n",
        "하라.\n",
        "\n",
        "    tensor([[-0.4519, -0.1661, -1.5228,  0.3817],\n",
        "            [-1.0276, -0.5631, -0.8923, -0.0583]])\n",
        "\n",
        "## `$`. 회귀\n",
        "\n",
        "아래의 모델을 고려하자.\n",
        "\n",
        "$$y_i = w_0 + w_1 x_{i1} + w_2 x_{i2} + \\epsilon_i = 2.5 + 4 x_{1i} -2 x_{2i} + \\epsilon_i, \\quad i = 1, 2, \\ldots, n$$"
      ]
    },
    {
      "cell_type": "code",
      "execution_count": 25,
      "id": "a1c13885-07af-4ba3-a3aa-2a662eedaf06",
      "metadata": {},
      "outputs": [],
      "source": [
        "torch.manual_seed(43052)\n",
        "x1,_ = torch.randn(100).sort(); x1 = x1.reshape(-1,1)\n",
        "x2,_ = torch.randn(100).sort(); x2 = x2.reshape(-1,1)\n",
        "eps = torch.randn((100,1))*0.5\n",
        "y = 2.5+ 4*x1 -2*x2 + eps "
      ]
    },
    {
      "cell_type": "markdown",
      "id": "c5712eb2-2f73-44f9-81dd-4132caea6904",
      "metadata": {},
      "source": [
        "`#`."
      ]
    }
  ],
  "metadata": {
    "kernelspec": {
      "display_name": "dl",
      "language": "python",
      "name": "python3"
    },
    "language_info": {
      "codemirror_mode": {
        "name": "ipython",
        "version": 3
      },
      "file_extension": ".py",
      "mimetype": "text/x-python",
      "name": "python",
      "nbconvert_exporter": "python",
      "pygments_lexer": "ipython3",
      "version": "3.9.18"
    }
  },
  "nbformat": 4,
  "nbformat_minor": 5
}
