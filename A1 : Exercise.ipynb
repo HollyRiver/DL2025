{
 "cells": [
  {
   "cell_type": "markdown",
   "id": "fc163693-66c4-43ba-ab98-5c863b66d258",
   "metadata": {},
   "source": [
    "# A1: Exercise\n",
    "\n",
    "최규빈  \n",
    "2025-01-01\n",
    "\n",
    "> 문제풀이에 필요한 모듈은 스스로 `import` 할 것\n",
    "\n",
    "## `$`. 벡터와 행렬\n",
    "\n",
    "`#`. 아래와 같이 length 5 인 vector를 `torch.tensor`로 선언하는 코드를\n",
    "작성하라.\n",
    "\n",
    "$${\\bf x} = [1,2,3,4,5]$$\n",
    "\n",
    "`(풀이)`"
   ]
  },
  {
   "cell_type": "code",
   "execution_count": 1,
   "id": "c68ed58a",
   "metadata": {},
   "outputs": [],
   "source": [
    "import torch\n",
    "import pandas as pd\n",
    "import matplotlib.pyplot as plt"
   ]
  },
  {
   "cell_type": "code",
   "execution_count": 2,
   "id": "8ba6c91a-505e-4ba4-a97b-42a6893aa1ef",
   "metadata": {},
   "outputs": [
    {
     "data": {
      "text/plain": [
       "tensor([1, 2, 3, 4, 5])"
      ]
     },
     "execution_count": 2,
     "metadata": {},
     "output_type": "execute_result"
    }
   ],
   "source": [
    "x = torch.tensor([1,2,3,4,5])\n",
    "x"
   ]
  },
  {
   "cell_type": "markdown",
   "id": "0d2e8ef0",
   "metadata": {},
   "source": [
    "`#`. 아래와 같은 2x2 matrix 를 `torch.tensor`로 선언하는 코드를\n",
    "작성하라.\n",
    "\n",
    "$${\\bf A} = \\begin{bmatrix} 1 & 2 \\\\ 3 & 4 \\end{bmatrix}$$"
   ]
  },
  {
   "cell_type": "markdown",
   "id": "edef4586",
   "metadata": {},
   "source": [
    "`-` 풀이"
   ]
  },
  {
   "cell_type": "code",
   "execution_count": 3,
   "id": "6869ecda",
   "metadata": {},
   "outputs": [
    {
     "data": {
      "text/plain": [
       "tensor([[1, 2],\n",
       "        [3, 4]])"
      ]
     },
     "execution_count": 3,
     "metadata": {},
     "output_type": "execute_result"
    }
   ],
   "source": [
    "A = torch.tensor([[1, 2],\n",
    "                  [3, 4]])\n",
    "A"
   ]
  },
  {
   "cell_type": "markdown",
   "id": "ee6e1d0b",
   "metadata": {},
   "source": [
    "`#`. 아래와 같은 matrix 를 `torch.tensor`로 선언하는 코드를 작성하라.\n",
    "\n",
    "$${\\bf W} = \\begin{bmatrix} 2.5  \\\\  4 \\end{bmatrix}$$"
   ]
  },
  {
   "cell_type": "code",
   "execution_count": 4,
   "id": "b4eb595b",
   "metadata": {},
   "outputs": [
    {
     "data": {
      "text/plain": [
       "tensor([[2.5000],\n",
       "        [4.0000]])"
      ]
     },
     "execution_count": 4,
     "metadata": {},
     "output_type": "execute_result"
    }
   ],
   "source": [
    "W = torch.tensor([[2.5],\n",
    "                  [4.0]])\n",
    "W"
   ]
  },
  {
   "cell_type": "markdown",
   "id": "1e3b7c69",
   "metadata": {},
   "source": [
    "`#`. 아래와 같은 matrix 를 `torch.tensor`로 선언하는 코드를 작성하라.\n",
    "\n",
    "$${\\bf x} = \\begin{bmatrix} 2.5  & 4 \\end{bmatrix}$$"
   ]
  },
  {
   "cell_type": "code",
   "execution_count": 5,
   "id": "18a0f43c",
   "metadata": {},
   "outputs": [
    {
     "data": {
      "text/plain": [
       "tensor([[2.5000, 4.0000]])"
      ]
     },
     "execution_count": 5,
     "metadata": {},
     "output_type": "execute_result"
    }
   ],
   "source": [
    "x = torch.tensor([[2.5, 4.0]])\n",
    "x"
   ]
  },
  {
   "cell_type": "markdown",
   "id": "adbf6947-6486-425d-823e-4970fa16e1b9",
   "metadata": {},
   "source": [
    "## `$`. concat, stack\n",
    "\n",
    "a,b가 아래와 같이 주어졌다고 하자."
   ]
  },
  {
   "cell_type": "code",
   "execution_count": 6,
   "id": "a8da07e4-f27b-4905-b8a7-01356ea9a86d",
   "metadata": {},
   "outputs": [],
   "source": [
    "a = torch.tensor([1]*10)\n",
    "b = torch.tensor([2]*10)"
   ]
  },
  {
   "cell_type": "markdown",
   "id": "5ff1a749-bf58-409e-bdf1-2965ef1c1f1c",
   "metadata": {},
   "source": [
    "아래를 잘 읽고 물음에 답하라.\n",
    "\n",
    "`#`. 주어진 a,b와 `torch.concat`를 이용하여 아래와 같은 배열을 만들어라.\n",
    "\n",
    "    tensor([1, 1, 1, 1, 1, 1, 1, 1, 1, 1, 2, 2, 2, 2, 2, 2, 2, 2, 2, 2])"
   ]
  },
  {
   "cell_type": "code",
   "execution_count": 16,
   "id": "0504134c-c396-4258-80ab-84eead0b5fa3",
   "metadata": {},
   "outputs": [],
   "source": [
    "torch.concat([a.reshape(-1,1), b.reshape(-1,1)])"
   ]
  },
  {
   "cell_type": "markdown",
   "id": "e5944a10",
   "metadata": {},
   "source": [
    "`#`. 주어진 a,b 와 `torch.concat`,`.reshape`를 이용하여 아래와 같은\n",
    "배열을 만들어라.\n",
    "```\n",
    "    tensor([[1],\n",
    "            [1],\n",
    "            [1],\n",
    "            [1],\n",
    "            [1],\n",
    "            [1],\n",
    "            [1],\n",
    "            [1],\n",
    "            [1],\n",
    "            [1],\n",
    "            [2],\n",
    "            [2],\n",
    "            [2],\n",
    "            [2],\n",
    "            [2],\n",
    "            [2],\n",
    "            [2],\n",
    "            [2],\n",
    "            [2],\n",
    "            [2]])\n",
    "\n",
    "```"
   ]
  },
  {
   "cell_type": "markdown",
   "id": "11868263",
   "metadata": {},
   "source": [
    "`-` 풀이"
   ]
  },
  {
   "cell_type": "code",
   "execution_count": 9,
   "id": "f4c758b4",
   "metadata": {},
   "outputs": [
    {
     "data": {
      "text/plain": [
       "tensor([[1],\n",
       "        [1],\n",
       "        [1],\n",
       "        [1],\n",
       "        [1],\n",
       "        [1],\n",
       "        [1],\n",
       "        [1],\n",
       "        [1],\n",
       "        [1],\n",
       "        [2],\n",
       "        [2],\n",
       "        [2],\n",
       "        [2],\n",
       "        [2],\n",
       "        [2],\n",
       "        [2],\n",
       "        [2],\n",
       "        [2],\n",
       "        [2]])"
      ]
     },
     "execution_count": 9,
     "metadata": {},
     "output_type": "execute_result"
    }
   ],
   "source": [
    "torch.concat([a.reshape(-1, 1), b.reshape(-1, 1)], axis = 0)"
   ]
  },
  {
   "cell_type": "markdown",
   "id": "e4ae46d3",
   "metadata": {},
   "source": [
    "`#`. 주어진 a,b 와 `torch.concat`,`.reshape`를 이용하여 아래와 같은\n",
    "배열을 만들어라.\n",
    "\n",
    "    tensor([[1, 2],\n",
    "            [1, 2],\n",
    "            [1, 2],\n",
    "            [1, 2],\n",
    "            [1, 2],\n",
    "            [1, 2],\n",
    "            [1, 2],\n",
    "            [1, 2],\n",
    "            [1, 2],\n",
    "            [1, 2]])"
   ]
  },
  {
   "cell_type": "markdown",
   "id": "b524743f",
   "metadata": {},
   "source": [
    "`-` 풀이"
   ]
  },
  {
   "cell_type": "code",
   "execution_count": 10,
   "id": "4bd33571",
   "metadata": {},
   "outputs": [
    {
     "data": {
      "text/plain": [
       "tensor([[1, 2],\n",
       "        [1, 2],\n",
       "        [1, 2],\n",
       "        [1, 2],\n",
       "        [1, 2],\n",
       "        [1, 2],\n",
       "        [1, 2],\n",
       "        [1, 2],\n",
       "        [1, 2],\n",
       "        [1, 2]])"
      ]
     },
     "execution_count": 10,
     "metadata": {},
     "output_type": "execute_result"
    }
   ],
   "source": [
    "torch.concat([a.reshape(-1, 1), b.reshape(-1, 1)], axis = 1)"
   ]
  },
  {
   "cell_type": "markdown",
   "id": "94a039c0",
   "metadata": {},
   "source": [
    "`#`. 주어진 a,b와 `torch.stack` 을 이용하여 아래와 같은 배열을 만들어라.\n",
    "\n",
    "    tensor([[1, 1, 1, 1, 1, 1, 1, 1, 1, 1],\n",
    "            [2, 2, 2, 2, 2, 2, 2, 2, 2, 2]]"
   ]
  },
  {
   "cell_type": "markdown",
   "id": "fce22a2f",
   "metadata": {},
   "source": [
    "`-` 풀이"
   ]
  },
  {
   "cell_type": "code",
   "execution_count": 12,
   "id": "c229c1e9",
   "metadata": {},
   "outputs": [
    {
     "data": {
      "text/plain": [
       "tensor([[1, 1, 1, 1, 1, 1, 1, 1, 1, 1],\n",
       "        [2, 2, 2, 2, 2, 2, 2, 2, 2, 2]])"
      ]
     },
     "execution_count": 12,
     "metadata": {},
     "output_type": "execute_result"
    }
   ],
   "source": [
    "torch.stack([a, b], axis = 0)"
   ]
  },
  {
   "cell_type": "markdown",
   "id": "db03de71",
   "metadata": {},
   "source": [
    "`#`. 주어진 a,b와 `torch.stack`을 이용하여 아래와 같은 배열을 만들어라.\n",
    "\n",
    "    tensor([[1, 2],\n",
    "            [1, 2],\n",
    "            [1, 2],\n",
    "            [1, 2],\n",
    "            [1, 2],\n",
    "            [1, 2],\n",
    "            [1, 2],\n",
    "            [1, 2],\n",
    "            [1, 2],\n",
    "            [1, 2]])"
   ]
  },
  {
   "cell_type": "markdown",
   "id": "26231a39",
   "metadata": {},
   "source": [
    "`-` 풀이"
   ]
  },
  {
   "cell_type": "code",
   "execution_count": 13,
   "id": "d914a8d6",
   "metadata": {},
   "outputs": [
    {
     "data": {
      "text/plain": [
       "tensor([[1, 2],\n",
       "        [1, 2],\n",
       "        [1, 2],\n",
       "        [1, 2],\n",
       "        [1, 2],\n",
       "        [1, 2],\n",
       "        [1, 2],\n",
       "        [1, 2],\n",
       "        [1, 2],\n",
       "        [1, 2]])"
      ]
     },
     "execution_count": 13,
     "metadata": {},
     "output_type": "execute_result"
    }
   ],
   "source": [
    "torch.stack([a, b], axis = 1)"
   ]
  },
  {
   "cell_type": "markdown",
   "id": "53981a77-68be-4edf-935b-0e88bac1be5a",
   "metadata": {},
   "source": [
    "## `$`. 행렬곱\n",
    "\n",
    "`#`. 아래와 같은 텐서를 고려하자."
   ]
  },
  {
   "cell_type": "code",
   "execution_count": 3,
   "id": "c24782f8-8150-4684-a25c-b362108c4fc8",
   "metadata": {},
   "outputs": [],
   "source": [
    "a = torch.tensor([1,2,3,4,5]).reshape(-1,1)\n",
    "b = torch.tensor([3,2,1,1,2]).reshape(-1,1)"
   ]
  },
  {
   "cell_type": "markdown",
   "id": "b88cccfa-2343-4a69-9adf-e52d659e2a87",
   "metadata": {},
   "source": [
    "`@` 연산자를 이용하여 $\\sum_{i=1}^{5}a_ib_i$를 계산하라.\n",
    "\n",
    "`(풀이)`"
   ]
  },
  {
   "cell_type": "code",
   "execution_count": 4,
   "id": "6c5458ca-3f4a-4ff7-b33d-2a04d834efa3",
   "metadata": {},
   "outputs": [],
   "source": [
    "a.T @ b"
   ]
  },
  {
   "cell_type": "markdown",
   "id": "c51db5f0-02f1-40b1-b0d8-f5c820519c2f",
   "metadata": {},
   "source": [
    "`#`. 아래와 같은 텐서를 고려하자."
   ]
  },
  {
   "cell_type": "code",
   "execution_count": 14,
   "id": "b1acadbf-49e3-4ae9-ab76-0d61136154af",
   "metadata": {},
   "outputs": [],
   "source": [
    "torch.manual_seed(0)\n",
    "x = torch.randn(100).reshape(-1,1)"
   ]
  },
  {
   "cell_type": "markdown",
   "id": "4c82a147",
   "metadata": {},
   "source": [
    "`@`연산자를 이용하여 $\\sum_{i=1}^{100}x_i^2$을 계산하라."
   ]
  },
  {
   "cell_type": "markdown",
   "id": "e971fc52",
   "metadata": {},
   "source": [
    "`-` 풀이"
   ]
  },
  {
   "cell_type": "code",
   "execution_count": 20,
   "id": "afb6b67a",
   "metadata": {},
   "outputs": [
    {
     "data": {
      "text/plain": [
       "tensor([[105.0856]])"
      ]
     },
     "execution_count": 20,
     "metadata": {},
     "output_type": "execute_result"
    }
   ],
   "source": [
    "x.T @ x"
   ]
  },
  {
   "cell_type": "markdown",
   "id": "ee28a23d-8ca5-41e6-aa4a-c7f8efb69742",
   "metadata": {},
   "source": [
    "## `$`. 인덱싱\n",
    "\n",
    "아래와 같은 배열을 선언하라."
   ]
  },
  {
   "cell_type": "code",
   "execution_count": 2,
   "id": "8f35bb57-46ba-4c94-97a6-ae5e4424598a",
   "metadata": {
    "outputId": "52c92613-c738-4896-c465-74652a0b817e"
   },
   "outputs": [
    {
     "data": {
      "text/plain": [
       "tensor([[ 0.6614,  0.2669,  0.0617,  0.6213],\n",
       "        [-0.4519, -0.1661, -1.5228,  0.3817],\n",
       "        [-1.0276, -0.5631, -0.8923, -0.0583]])"
      ]
     },
     "execution_count": 2,
     "metadata": {},
     "output_type": "execute_result"
    }
   ],
   "source": [
    "torch.manual_seed(1)\n",
    "x = torch.randn(12).reshape(3,4)\n",
    "x"
   ]
  },
  {
   "cell_type": "markdown",
   "id": "908dfa37",
   "metadata": {},
   "source": [
    "`#`. 1열을 추출하는 코드를 작성하라. 즉 결과가 아래와 같이 나오도록\n",
    "하라.\n",
    "\n",
    "    tensor([[ 0.6614],\n",
    "            [-0.4519],\n",
    "            [-1.0276]])"
   ]
  },
  {
   "cell_type": "markdown",
   "id": "14d63168",
   "metadata": {},
   "source": [
    "`-` 풀이"
   ]
  },
  {
   "cell_type": "code",
   "execution_count": 3,
   "id": "d592d54c",
   "metadata": {},
   "outputs": [
    {
     "data": {
      "text/plain": [
       "tensor([[ 0.6614],\n",
       "        [-0.4519],\n",
       "        [-1.0276]])"
      ]
     },
     "execution_count": 3,
     "metadata": {},
     "output_type": "execute_result"
    }
   ],
   "source": [
    "x[:, [0]]"
   ]
  },
  {
   "cell_type": "markdown",
   "id": "a80f2b77",
   "metadata": {},
   "source": [
    "`#`. 2-3열을 추출하는 코드를 작성하라. 즉 결과가 아래와 같이 나오도록\n",
    "하라.\n",
    "\n",
    "    tensor([[ 0.2669,  0.0617],\n",
    "            [-0.1661, -1.5228],\n",
    "            [-0.5631, -0.8923]])"
   ]
  },
  {
   "cell_type": "markdown",
   "id": "377e5138",
   "metadata": {},
   "source": [
    "`-` 풀이"
   ]
  },
  {
   "cell_type": "code",
   "execution_count": 5,
   "id": "8d657eb4",
   "metadata": {},
   "outputs": [
    {
     "data": {
      "text/plain": [
       "tensor([[ 0.2669,  0.0617],\n",
       "        [-0.1661, -1.5228],\n",
       "        [-0.5631, -0.8923]])"
      ]
     },
     "execution_count": 5,
     "metadata": {},
     "output_type": "execute_result"
    }
   ],
   "source": [
    "x[:, [1, 2]]"
   ]
  },
  {
   "cell_type": "markdown",
   "id": "efca5fdc",
   "metadata": {},
   "source": [
    "`#`. 2-3행을 추출하는 코드를 작성하라. 즉 결과가 아래와 같이 나오도록\n",
    "하라.\n",
    "\n",
    "    tensor([[-0.4519, -0.1661, -1.5228,  0.3817],\n",
    "            [-1.0276, -0.5631, -0.8923, -0.0583]])"
   ]
  },
  {
   "cell_type": "markdown",
   "id": "d563e739",
   "metadata": {},
   "source": [
    "`-` 풀이"
   ]
  },
  {
   "cell_type": "code",
   "execution_count": 6,
   "id": "beae5197",
   "metadata": {},
   "outputs": [
    {
     "data": {
      "text/plain": [
       "tensor([[-0.4519, -0.1661, -1.5228,  0.3817],\n",
       "        [-1.0276, -0.5631, -0.8923, -0.0583]])"
      ]
     },
     "execution_count": 6,
     "metadata": {},
     "output_type": "execute_result"
    }
   ],
   "source": [
    "x[[1, 2]]"
   ]
  },
  {
   "cell_type": "markdown",
   "id": "8a818f1d-b55c-40d7-b68c-1374ac126208",
   "metadata": {},
   "source": [
    "## `$`. 회귀(DL2024-MID-3)\n",
    "\n",
    "> 이 문제의 경우 풀이가\n",
    "> <https://guebin.github.io/DL2024/posts/09wk-2.html#%EB%8B%A8%EC%88%9C%ED%9A%8C%EA%B7%80%EB%AC%B8%EC%A0%9C-10%EC%A0%90>\n",
    "> 에 있습니다.\n",
    "\n",
    "주어진 자료가 아래와 같다고 하자."
   ]
  },
  {
   "cell_type": "code",
   "execution_count": 2,
   "id": "a1c13885-07af-4ba3-a3aa-2a662eedaf06",
   "metadata": {},
   "outputs": [],
   "source": [
    "torch.manual_seed(43052)\n",
    "x,_ = torch.randn(100).sort()\n",
    "x = x.reshape(-1,1)\n",
    "ϵ = torch.randn(100).reshape(-1,1)*0.5\n",
    "y = 2.5+ 4*x + ϵ"
   ]
  },
  {
   "cell_type": "code",
   "execution_count": 3,
   "id": "2366c1c6",
   "metadata": {},
   "outputs": [
    {
     "data": {
      "text/plain": [
       "[<matplotlib.lines.Line2D at 0x7f0b569143d0>]"
      ]
     },
     "execution_count": 3,
     "metadata": {},
     "output_type": "execute_result"
    },
    {
     "data": {
      "image/png": "[encoded data removed]",
      "text/plain": [
       "<Figure size 640x480 with 1 Axes>"
      ]
     },
     "metadata": {},
     "output_type": "display_data"
    }
   ],
   "source": [
    "plt.plot(x,y,'o')"
   ]
  },
  {
   "cell_type": "markdown",
   "id": "42b471c4",
   "metadata": {},
   "source": [
    "`(1)` `torch.nn.Linear`를 이용하여 아래와 같은 최초의 직선을 생성하는\n",
    "네트워크를 설계하라.\n",
    "\n",
    "$$\\hat{y}_i = -5.0 + 10.0 x_i $$"
   ]
  },
  {
   "cell_type": "code",
   "execution_count": 4,
   "id": "5f28d667",
   "metadata": {},
   "outputs": [],
   "source": [
    "net = torch.nn.Linear(1, 1, bias = True)\n",
    "net.weight.data = torch.tensor([[10.0]])    ## net에는 그래디언트 정보가 기본적으로 들어가나봄\n",
    "net.bias.data = torch.tensor([-5.0])\n",
    "## net.weight.data = net.weight.data*0 + 10.0\n",
    "## net.bias.data = net.bias.data*0 - 5.0\n",
    "\n",
    "yhat = net(x)"
   ]
  },
  {
   "cell_type": "code",
   "execution_count": 5,
   "id": "765b4428-36c1-41c8-baff-284e6589bd93",
   "metadata": {},
   "outputs": [
    {
     "data": {
      "text/plain": [
       "(tensor([[-29.8211],\n",
       "         [-28.6215],\n",
       "         [-24.9730],\n",
       "         [-21.2394],\n",
       "         [-19.7919]], grad_fn=<SliceBackward0>),\n",
       " tensor([[-29.8211],\n",
       "         [-28.6215],\n",
       "         [-24.9730],\n",
       "         [-21.2394],\n",
       "         [-19.7919]]))"
      ]
     },
     "execution_count": 5,
     "metadata": {},
     "output_type": "execute_result"
    }
   ],
   "source": [
    "net(x)[:5], (-5 + 10*x)[:5]"
   ]
  },
  {
   "cell_type": "markdown",
   "id": "2abf9e0d",
   "metadata": {},
   "source": [
    "`(2)` 아래의 수식에 대응하는 `loss`를 계산하라. 여기에서 $\\hat{y}_i$은\n",
    "(1)의 결과로 얻은 값을 사용하라.\n",
    "\n",
    "$$loss = \\frac{1}{n}\\sum_{i=1}^{n}(y_i-\\hat{y}_i)^2$$"
   ]
  },
  {
   "cell_type": "code",
   "execution_count": 6,
   "id": "4c6151d8",
   "metadata": {},
   "outputs": [
    {
     "name": "stdout",
     "output_type": "stream",
     "text": [
      "tensor(85.8769, grad_fn=<MeanBackward0>)\n"
     ]
    }
   ],
   "source": [
    "loss = torch.mean((y - yhat)**2)\n",
    "## loss_fn = torch.nn.MSELoss()\n",
    "## loss = loss_fn(yhat, y)\n",
    "print(loss)"
   ]
  },
  {
   "cell_type": "markdown",
   "id": "7fcf7efb",
   "metadata": {},
   "source": [
    "`(3)` 적당한 matrix ${\\bf X}_{n\\times 2}$ 와 $\\hat{\\bf W}_{2\\times 1}$을\n",
    "정의하여 아래와 같이 $\\hat{y}_i$을 구하라.\n",
    "\n",
    "$$\\hat{y}_i = -5.0 + 5.0 x_i $$"
   ]
  },
  {
   "cell_type": "code",
   "execution_count": 7,
   "id": "f9242d01",
   "metadata": {},
   "outputs": [],
   "source": [
    "X = torch.concat([torch.ones(100).reshape(-1, 1), x], axis = 1)\n",
    "What = torch.tensor([[-5.0],\n",
    "                     [5.0]], requires_grad = True)\n",
    "\n",
    "yhat = X@What"
   ]
  },
  {
   "cell_type": "code",
   "execution_count": 8,
   "id": "b2421280-f4dd-4e51-afe2-6dd663536604",
   "metadata": {},
   "outputs": [
    {
     "data": {
      "text/plain": [
       "(tensor([[-17.4106],\n",
       "         [-16.8107],\n",
       "         [-14.9865],\n",
       "         [-13.1197],\n",
       "         [-12.3960]], grad_fn=<SliceBackward0>),\n",
       " tensor([[-17.4106],\n",
       "         [-16.8107],\n",
       "         [-14.9865],\n",
       "         [-13.1197],\n",
       "         [-12.3960]]))"
      ]
     },
     "execution_count": 8,
     "metadata": {},
     "output_type": "execute_result"
    }
   ],
   "source": [
    "yhat[:5], (-5+5*x)[:5]"
   ]
  },
  {
   "cell_type": "markdown",
   "id": "7e3d42d8",
   "metadata": {},
   "source": [
    "`(4)` 아래의 수식에 대응하는 `loss`를 계산하라. 여기에서 $\\hat{y}_i$은\n",
    "(3)의 결과로 얻은 값을 사용하라.\n",
    "\n",
    "$$loss = \\frac{1}{n}\\sum_{i=1}^{n}(y_i-\\hat{y}_i)^2$$"
   ]
  },
  {
   "cell_type": "code",
   "execution_count": 9,
   "id": "8a75443d",
   "metadata": {},
   "outputs": [
    {
     "name": "stdout",
     "output_type": "stream",
     "text": [
      "tensor(55.0216, grad_fn=<MeanBackward0>)\n"
     ]
    }
   ],
   "source": [
    "loss2 = torch.mean((y - yhat)**2)\n",
    "## loss_fn(yhat, y)\n",
    "print(loss2)"
   ]
  },
  {
   "cell_type": "markdown",
   "id": "13e0a101",
   "metadata": {},
   "source": [
    "`(5)` (2)에서 얻은 $\\hat{y}_i$ (4)에서 얻은 $\\hat{y}_i$ 중 무엇이 더\n",
    "적절하다고 생각하는가? 이유는 무엇인가? 손실(=loss)에 근거하여 설명하라."
   ]
  },
  {
   "cell_type": "markdown",
   "id": "b21e8cf0",
   "metadata": {},
   "source": [
    "* 손실의 값이 더 작기 때문에 (4)에서 얻은 $\\hat{y}_i$가 더 적절하다."
   ]
  },
  {
   "cell_type": "markdown",
   "id": "edafa6bd",
   "metadata": {},
   "source": [
    "\n",
    "\n",
    "`(6)` `.backward()` 를 이용하여 (2)와 (4)에 해당하는 미분값을 계산하라.\n",
    "학습률이 0.01인 경사하강법을 이용하여 (1),(3) 에 대응하는 가중치를\n",
    "update 하라."
   ]
  },
  {
   "cell_type": "code",
   "execution_count": 10,
   "id": "3361a25d",
   "metadata": {},
   "outputs": [
    {
     "name": "stdout",
     "output_type": "stream",
     "text": [
      "(2)의 미분값 : (tensor([-13.4225]), tensor([[11.8893]]))\n"
     ]
    }
   ],
   "source": [
    "## 2\n",
    "loss.backward()\n",
    "print(f\"(2)의 미분값 : {net.bias.grad, net.weight.grad}\")\n",
    "net.bias.data -= 0.01*net.bias.grad\n",
    "net.weight.data -= 0.01*net.weight.grad\n",
    "net.bias.grad = torch.tensor([0.0])\n",
    "net.weight.grad = torch.tensor([[0.0]])"
   ]
  },
  {
   "cell_type": "code",
   "execution_count": 26,
   "id": "60ac3c29-3416-4d5b-953a-9f8540a93ccb",
   "metadata": {},
   "outputs": [
    {
     "name": "stdout",
     "output_type": "stream",
     "text": [
      "(2)의 업데이트 값 \n",
      "bias = -4.8658 \n",
      "weight = 9.8811\n"
     ]
    }
   ],
   "source": [
    "print(f\"(2)의 업데이트 값 \\nbias = {net.bias.data.item():.4f} \\nweight = {net.weight.data.item():.4f}\")"
   ]
  },
  {
   "cell_type": "code",
   "execution_count": 11,
   "id": "2e96b338",
   "metadata": {},
   "outputs": [
    {
     "name": "stdout",
     "output_type": "stream",
     "text": [
      "(2)의 미분값 : tensor([[-14.6478],\n",
      "        [  0.4528]])\n"
     ]
    }
   ],
   "source": [
    "## 4\n",
    "loss2.backward()\n",
    "print(f\"(4)의 미분값 : {What.grad}\")\n",
    "What.data -= 0.01*What.grad\n",
    "What.grad = torch.tensor([[0.0],\n",
    "                          [0.0]])"
   ]
  },
  {
   "cell_type": "code",
   "execution_count": 25,
   "id": "3f805328-fbc4-42b3-aaff-98f6daa1a391",
   "metadata": {},
   "outputs": [
    {
     "name": "stdout",
     "output_type": "stream",
     "text": [
      "(4)의 미분값 = tensor([[-4.8535],\n",
      "        [ 4.9955]])\n"
     ]
    }
   ],
   "source": [
    "print(f\"(4)의 미분값 = {What.data}\")"
   ]
  },
  {
   "cell_type": "markdown",
   "id": "211a078c-d61e-4bce-93be-3632199421f4",
   "metadata": {},
   "source": [
    "## `$`. 회귀(5obs)\n",
    "\n",
    "아래와 같은 5개의 자료를 관측하였다고 가정하자.\n",
    "\n",
    "|     | x   | y    |\n",
    "|-----|-----|------|\n",
    "| 0   | 11  | 17.7 |\n",
    "| 1   | 12  | 18.5 |\n",
    "| 2   | 13  | 21.2 |\n",
    "| 3   | 14  | 23.6 |\n",
    "| 4   | 15  | 24.2 |\n",
    "\n",
    "$x$에서 $y$로 향하는 규칙을 찾기 위해 아래와 같은 모형을 고려하였다.\n",
    "($\\beta_0, \\beta_1$ 대신에 $w_0, w_1$ 이라 생각해도 무방)\n",
    "\n",
    "$$y_i = \\beta_0 + \\beta_1 x_i + \\epsilon_i, \\quad i =1,2,\\dots, n$$"
   ]
  },
  {
   "cell_type": "markdown",
   "id": "5a1c3a80-0233-47bc-ac1a-666c3bb538ce",
   "metadata": {},
   "source": [
    "`(1)` $\\hat{\\beta}_0=3, \\hat{\\beta}_1=3$ 일 경우의 loss를 계산하라. 단,\n",
    "손실함수는 MSELoss로 설정한다."
   ]
  },
  {
   "cell_type": "code",
   "execution_count": 2,
   "id": "4a6d43cd-80d5-4c65-9603-7ed9182bc531",
   "metadata": {},
   "outputs": [],
   "source": [
    "x = torch.tensor([11, 12, 13, 14, 15]).reshape(-1, 1).float() ## dtype 동일해야\n",
    "y = torch.tensor([17.7, 18.5, 21.2, 23.6, 24.2]).reshape(-1, 1)"
   ]
  },
  {
   "cell_type": "code",
   "execution_count": 3,
   "id": "ce8c7549-6387-45c7-a4c9-b338e545d90c",
   "metadata": {},
   "outputs": [
    {
     "name": "stdout",
     "output_type": "stream",
     "text": [
      "loss = 442.43597412109375\n"
     ]
    }
   ],
   "source": [
    "net = torch.nn.Linear(1, 1, bias = True)\n",
    "net.bias.data = net.bias.data*0 + 3\n",
    "net.weight.data = net.weight.data*0 + 3\n",
    "\n",
    "loss_fn = torch.nn.MSELoss()\n",
    "\n",
    "yhat = net(x)\n",
    "\n",
    "loss = loss_fn(yhat, y)\n",
    "\n",
    "print(f\"loss = {loss}\")"
   ]
  },
  {
   "cell_type": "markdown",
   "id": "511e35cb-75ab-4848-aadd-7a1292685349",
   "metadata": {},
   "source": [
    "`(2)` $\\hat{\\beta}_0=3, \\hat{\\beta}_1=3$ 에서 손실함수의 미분계수를\n",
    "계산하라."
   ]
  },
  {
   "cell_type": "code",
   "execution_count": 4,
   "id": "99ff095c-dfda-445f-a7b3-c706c3f78e95",
   "metadata": {},
   "outputs": [],
   "source": [
    "loss.backward()"
   ]
  },
  {
   "cell_type": "code",
   "execution_count": 5,
   "id": "68b47feb-bccb-46a6-be44-44864375dd59",
   "metadata": {},
   "outputs": [
    {
     "name": "stdout",
     "output_type": "stream",
     "text": [
      "손실함수의 편미분계수 \n",
      "beta0 : tensor([41.9200]) \n",
      "beta1 : tensor([[549.7200]])\n"
     ]
    }
   ],
   "source": [
    "print(f\"손실함수의 편미분계수 \\nbeta0 : {net.bias.grad} \\nbeta1 : {net.weight.grad}\")"
   ]
  },
  {
   "cell_type": "markdown",
   "id": "251bd163-b08c-4e53-a43f-8520469e63ca",
   "metadata": {},
   "source": [
    "`(3)` 아래의 제약사항을 준수하여 추정값\n",
    "$\\hat{\\beta}_0=3, \\hat{\\beta}_1=3$ 의 값을 1회 update하라.\n",
    "\n",
    "**제약사항**\n",
    "\n",
    "1.  `yhat = X@Bhat` 을 만족하는 적당한 `X`, `Bhat`을 선언하여 문제를 풀\n",
    "    것. (즉 `torch.nn.Linear()` 를 사용하지 말 것)\n",
    "2.  손실함수는 `torch.nn.MSELoss()`를 사용하지 말고 직접 손실을 구할 것\n",
    "3.  (확률적)경사하강법을 이용하여 update 하되 직접 수식을 입력할 것. 즉\n",
    "    `torch.optim.SGD()`를 사용하지 말 것.\n",
    "4.  학습률은 0.001로 설정할 것"
   ]
  },
  {
   "cell_type": "code",
   "execution_count": 6,
   "id": "b7e96db2-bdf1-4b83-a589-5e693a357ec0",
   "metadata": {},
   "outputs": [],
   "source": [
    "X = torch.concat([torch.ones(5, 1), x], axis = 1)\n",
    "Bhat = torch.tensor([[3.0],\n",
    "                     [3.0]], requires_grad = True)\n",
    "\n",
    "yhat = X@Bhat\n",
    "\n",
    "## 1 epoch\n",
    "loss = torch.mean((y - yhat)**2)  ## MSE loss\n",
    "loss.backward()"
   ]
  },
  {
   "cell_type": "code",
   "execution_count": 7,
   "id": "cc75ad0d-9e43-404e-88cd-43a859b8f1e5",
   "metadata": {},
   "outputs": [],
   "source": [
    "## update\n",
    "Bhat.data -= 0.001*Bhat.grad"
   ]
  },
  {
   "cell_type": "code",
   "execution_count": 8,
   "id": "d191b47c-73c5-4f37-8203-787ed3068cc1",
   "metadata": {},
   "outputs": [
    {
     "name": "stdout",
     "output_type": "stream",
     "text": [
      "1회 업데이트된 Bhat = tensor([[2.9581],\n",
      "        [2.4503]])\n"
     ]
    }
   ],
   "source": [
    "print(f\"1회 업데이트된 Bhat = {Bhat.data}\")"
   ]
  },
  {
   "cell_type": "markdown",
   "id": "e3cc262b-6832-4701-bd53-af47b7998caa",
   "metadata": {},
   "source": [
    "`(4)` 아래의 제약사항을 준수하여 추정값\n",
    "$\\hat{\\beta}_0=3, \\hat{\\beta}_1=3$ 의 값을 다시 1회 update하라. 결과를\n",
    "(3)과 비교하라 (동일결과가 나와야함)\n",
    "\n",
    "**제약사항**\n",
    "\n",
    "1.  `yhat = net(X)` 을 만족하는 적당한 `X`, `net`을 선언하여 문제를 풀\n",
    "    것. 이때 `net`는 `torch.nn.Linear(??,??,bias=False)` 를 사용하여\n",
    "    선언할 것.\n",
    "2.  손실함수는 `torch.nn.MSELoss()`를 사용하지 말고 직접 손실을 구할 것\n",
    "3.  (확률적)경사하강법을 이용하여 update 하되 직접 수식을 입력할 것. 즉\n",
    "    `torch.optim.SGD()`를 사용하지 말 것.\n",
    "4.  학습률은 0.001로 설정할 것"
   ]
  },
  {
   "cell_type": "code",
   "execution_count": 9,
   "id": "b11c7df5-b690-40a9-9f11-1769c8518928",
   "metadata": {},
   "outputs": [],
   "source": [
    "## bias = False\n",
    "X = torch.concat([torch.ones(5, 1), x], axis = 1)\n",
    "net = torch.nn.Linear(2, 1, bias = False)\n",
    "net.weight.data = torch.tensor([[3.0, 3.0]]) ## 행벡터로 넣어야 됨\n",
    "\n",
    "yhat = net(X)\n",
    "\n",
    "## 1 epoch\n",
    "loss = torch.mean((y - yhat)**2)\n",
    "loss.backward()"
   ]
  },
  {
   "cell_type": "code",
   "execution_count": 10,
   "id": "255b1532-18c3-4937-8af9-3e90b4ae2a80",
   "metadata": {},
   "outputs": [],
   "source": [
    "## update\n",
    "net.weight.data -= 0.001*net.weight.grad"
   ]
  },
  {
   "cell_type": "code",
   "execution_count": 11,
   "id": "95bb6b8a-8472-4200-89d1-2e92068e18c1",
   "metadata": {},
   "outputs": [],
   "source": [
    "using_net = net.weight.data"
   ]
  },
  {
   "cell_type": "code",
   "execution_count": 12,
   "id": "a077f27e-b0b6-4f3e-801c-88b17da56fae",
   "metadata": {},
   "outputs": [
    {
     "name": "stdout",
     "output_type": "stream",
     "text": [
      "Bhat 선언 : Bhat = tensor([[2.9581],\n",
      "        [2.4503]])\n",
      "net 선언 : Bhat = tensor([[2.9581, 2.4503]])\n"
     ]
    }
   ],
   "source": [
    "print(f\"Bhat 선언 : Bhat = {Bhat.data}\")\n",
    "print(f\"net 선언 : Bhat = {net.weight.data}\")"
   ]
  },
  {
   "cell_type": "markdown",
   "id": "f4fa01ef-9e72-400a-8bd2-78e65ff6fe1f",
   "metadata": {},
   "source": [
    "> net에서의 결과는 행벡터로 나온다는 점이 다르다"
   ]
  },
  {
   "cell_type": "markdown",
   "id": "9f37267f-af50-44cd-8606-e1c62a91de1e",
   "metadata": {},
   "source": [
    "`(5)` 아래의 제약사항을 준수하여 추정값\n",
    "$\\hat{\\beta}_0=3, \\hat{\\beta}_1=3$ 의 값을 다시 1회 update하라. 결과를\n",
    "(3)-(4)와 비교하라 (모두 동일결과가 나와야함)\n",
    "\n",
    "**제약사항**\n",
    "\n",
    "1.  `yhat = net(X)` 을 만족하는 적당한 `X`, `net`을 선언하여 문제를 풀\n",
    "    것. 이때 `net`는 `torch.nn.Linear(??,??,bias=False)` 를 사용하여\n",
    "    선언할 것.\n",
    "2.  손실함수는 `torch.nn.MSELoss()`를 사용하지 말고 직접 손실을 구할 것\n",
    "3.  `torch.optim.SGD()`를 이용하여 update할 것\n",
    "4.  학습률은 0.001로 설정할 것"
   ]
  },
  {
   "cell_type": "code",
   "execution_count": 20,
   "id": "599af4bc-dac7-44ec-9bea-5cd11c6f4a8a",
   "metadata": {},
   "outputs": [],
   "source": [
    "## bias = False\n",
    "X = torch.concat([torch.ones(5, 1), x], axis = 1)\n",
    "net = torch.nn.Linear(2, 1, bias = False)\n",
    "net.weight.data = torch.tensor([[3.0, 3.0]]) ## 행벡터로 넣어야 됨\n",
    "\n",
    "yhat = net(X)\n",
    "\n",
    "## 1 epoch\n",
    "loss = torch.mean((y - yhat)**2)\n",
    "loss.backward()"
   ]
  },
  {
   "cell_type": "code",
   "execution_count": 21,
   "id": "2923c2ca-7406-472b-9e53-778a3f6ec3ae",
   "metadata": {},
   "outputs": [],
   "source": [
    "optimizr = torch.optim.SGD(net.parameters(), lr = 0.001)\n",
    "\n",
    "## update\n",
    "optimizr.step()\n",
    "optimizr.zero_grad()\n",
    "\n",
    "using_optim = net.weight.data"
   ]
  },
  {
   "cell_type": "code",
   "execution_count": 15,
   "id": "2d275b53-3211-451d-a721-fc7b28cb4ae1",
   "metadata": {},
   "outputs": [
    {
     "name": "stdout",
     "output_type": "stream",
     "text": [
      "Bhat 선언 : Bhat = tensor([[2.9581],\n",
      "        [2.4503]])\n",
      "net 선언 : Bhat = tensor([[2.9581, 2.4503]])\n",
      "Optimizor 사용 : Bhat = tensor([[2.9581, 2.4503]])\n"
     ]
    }
   ],
   "source": [
    "print(f\"Bhat 선언 : Bhat = {Bhat.data}\")\n",
    "print(f\"net 선언 : Bhat = {using_net}\")\n",
    "print(f\"Optimizor 사용 : Bhat = {using_optim}\")"
   ]
  },
  {
   "cell_type": "markdown",
   "id": "4bb8d132",
   "metadata": {
    "jp-MarkdownHeadingCollapsed": true
   },
   "source": [
    "`(6)` 아래의 제약사항을 준수하여 추정값\n",
    "$\\hat{\\beta}_0=3, \\hat{\\beta}_1=3$ 의 값을 다시 1회 update하라. 결과를\n",
    "(3)-(5)와 비교하라 (모두 동일결과가 나와야함)\n",
    "\n",
    "**제약사항**\n",
    "\n",
    "1.  `yhat = net(x)` 을 만족하는 적당한 `x`, `net`을 선언하여 문제를 풀\n",
    "    것. 이때 `net`는 `torch.nn.Linear(??,??,bias=True)` 를 사용하여\n",
    "    선언할 것.\n",
    "2.  손실함수는 `torch.nn.MSELoss()`를 사용하지 말고 직접 손실을 구할 것\n",
    "3.  (확률적)경사하강법을 이용하여 update 하되 직접 수식을 입력할 것. 즉\n",
    "    `torch.optim.SGD()`를 사용하지 말 것.\n",
    "4.  학습률은 0.001로 설정할 것"
   ]
  },
  {
   "cell_type": "code",
   "execution_count": 24,
   "id": "d8c3d234-4ce4-489e-96b0-aa95441b0b0b",
   "metadata": {},
   "outputs": [],
   "source": [
    "## x는 그대로 사용\n",
    "net = torch.nn.Linear(1, 1, bias = True)\n",
    "net.weight.data = net.weight.data*0 + 3\n",
    "net.bias.data = net.bias.data*0 + 3\n",
    "\n",
    "yhat = net(x)\n",
    "loss = torch.mean((yhat - y)**2)\n",
    "loss.backward()\n",
    "\n",
    "net.weight.data -= 0.001*net.weight.grad\n",
    "net.bias.data -= 0.001*net.bias.grad\n",
    "\n",
    "net.weight.grad = net.weight.grad*0\n",
    "net.bias.grad = net.bias.grad*0"
   ]
  },
  {
   "cell_type": "code",
   "execution_count": 26,
   "id": "389568aa-cf7a-4a2a-bcb6-d625f4c95ea9",
   "metadata": {},
   "outputs": [
    {
     "name": "stdout",
     "output_type": "stream",
     "text": [
      "Bhat 선언 : Bhat = tensor([[2.9581],\n",
      "        [2.4503]])\n",
      "net 선언 : Bhat = tensor([[2.9581, 2.4503]])\n",
      "Optimizor 사용 : Bhat = tensor([[2.9581, 2.4503]])\n",
      "Optimizor 미사용 : Bhat = (tensor([2.9581]), tensor([[2.4503]]))\n"
     ]
    }
   ],
   "source": [
    "print(f\"Bhat 선언 : Bhat = {Bhat.data}\")\n",
    "print(f\"net 선언 : Bhat = {using_net}\")\n",
    "print(f\"Optimizor 사용 : Bhat = {using_optim}\")\n",
    "print(f\"Optimizor 미사용 : Bhat = {net.bias.data, net.weight.data}\")"
   ]
  },
  {
   "cell_type": "markdown",
   "id": "12193b31-75a9-4a87-a551-e68580a31c66",
   "metadata": {},
   "source": [
    "> $\\hat \\beta_0$와 $\\hat \\beta_1$이 따로 저장되어 있다."
   ]
  },
  {
   "cell_type": "markdown",
   "id": "b94fc2fc-1fbb-4363-8d6d-6a188ad15470",
   "metadata": {},
   "source": [
    "## `$`. 회귀(2d)\n",
    "\n",
    "아래의 데이터를 고려하자."
   ]
  },
  {
   "cell_type": "code",
   "execution_count": 3,
   "id": "ddb220d1-5e23-47bd-897e-4bfc91afe216",
   "metadata": {},
   "outputs": [],
   "source": [
    "df = pd.read_csv(\"https://raw.githubusercontent.com/guebin/DL2025/main/posts/regression_2d.csv\")\n",
    "x1 = torch.tensor(df.x1).float().reshape(-1,1)\n",
    "x2 = torch.tensor(df.x2).float().reshape(-1,1)\n",
    "y = torch.tensor(df.y).float().reshape(-1,1)"
   ]
  },
  {
   "cell_type": "markdown",
   "id": "ee532774-f06c-4de6-888f-be469bace244",
   "metadata": {},
   "source": [
    "$x_1, x_2$ 에서 $y$로 향하는 규칙을 찾기 위해 아래와 같은 모형을\n",
    "고려하였다. ($\\beta_0,\\beta_1,\\beta_2$ 대신에 $w_0, w_1, w_2$ 라고\n",
    "생각해도 무방)\n",
    "\n",
    "$$y_i = \\beta_0 + \\beta_1 x_{i1} + \\beta_2 x_{i2} + \\epsilon_i \\quad i = 1, 2, \\ldots, n$$"
   ]
  },
  {
   "cell_type": "markdown",
   "id": "7d1a4479-07ca-41e0-baa7-38972a6f7568",
   "metadata": {},
   "source": [
    "`(1)` 아래의 제약사항에 맞추어서 $\\beta_0,\\beta_1,\\beta_2$의 값을\n",
    "추정하라.\n",
    "\n",
    "**제약사항**\n",
    "\n",
    "1.  `yhat = X@Bhat` 을 만족하는 적당한 `X`, `Bhat`을 선언하여 문제를 풀\n",
    "    것. (즉 `torch.nn.Linear()` 를 사용하지 말 것)\n",
    "2.  손실함수는 MSE로 설정하되 `torch.nn.MSELoss()`를 사용하지 말고 직접\n",
    "    손실을 구할 것\n",
    "3.  (확률적)경사하강법을 이용하여 update 하되 직접 수식을 입력할 것. 즉\n",
    "    `torch.optim.SGD()`를 사용하지 말 것.\n",
    "\n",
    "**hint**: 참값은 $\\beta_0=2.5, \\beta_1=4 , \\beta_2= -2$ 임"
   ]
  },
  {
   "cell_type": "code",
   "execution_count": 4,
   "id": "e7c84ded-2846-440f-8dd4-0209c7d98516",
   "metadata": {},
   "outputs": [],
   "source": [
    "## data\n",
    "X = torch.concat([torch.ones(100).reshape(-1, 1), x1, x2], axis = 1)\n",
    "Bhat = torch.tensor([[1.0],\n",
    "                     [1.0],\n",
    "                     [1.0]], requires_grad = True)\n",
    "\n",
    "##-----##\n",
    "for epoc in range(3000) :\n",
    "    ## 1\n",
    "    yhat = X@Bhat\n",
    "    ## 2\n",
    "    loss = torch.mean((y-yhat)**2)\n",
    "    ## 3\n",
    "    loss.backward()\n",
    "    ## 4\n",
    "    Bhat.data -= 0.1 * Bhat.grad\n",
    "    Bhat.grad = Bhat.grad*0"
   ]
  },
  {
   "cell_type": "code",
   "execution_count": 5,
   "id": "fff6c4ec-3a7b-4f14-b9c5-587ed0967371",
   "metadata": {},
   "outputs": [
    {
     "name": "stdout",
     "output_type": "stream",
     "text": [
      "Bhat = tensor([[ 2.5824],\n",
      "        [ 4.0264],\n",
      "        [-2.0142]])\n"
     ]
    }
   ],
   "source": [
    "print(f\"Bhat = {Bhat.data}\")"
   ]
  },
  {
   "cell_type": "markdown",
   "id": "e45537ca-54fa-4068-86b7-7428624d5056",
   "metadata": {},
   "source": [
    "`(2)` (1)에서 구한 `X`에 대하여 아래의 수식을 이용하여 추정값을\n",
    "구하여라.\n",
    "\n",
    "$$\\hat{\\boldsymbol \\beta}^{LSE} = \\begin{bmatrix} \\hat{\\beta}_0^{LSE} \\\\  \\hat{\\beta}_1^{LSE} \\\\  \\hat{\\beta}_2^{LSE}\\end{bmatrix} = ({\\bf X}^\\top {\\bf X})^{-1}{\\bf X}^\\top {\\bf y}$$\n",
    "\n",
    "(1)에서 추정한 값과 비교하라. 비슷한가?\n",
    "\n",
    "**hint**: (1)과 (2)의 추정값은 거의 같아야합니다.."
   ]
  },
  {
   "cell_type": "code",
   "execution_count": 6,
   "id": "6baa11cd-ece5-439a-934d-18b77def3680",
   "metadata": {},
   "outputs": [
    {
     "name": "stdout",
     "output_type": "stream",
     "text": [
      "GD Bhat = tensor([ 2.5824,  4.0264, -2.0142])\n",
      "LSE Bhat = tensor([ 2.5819,  4.0284, -2.0162])\n"
     ]
    }
   ],
   "source": [
    "lse_Bhat = torch.inverse(X.t()@X)@X.t()@y\n",
    "\n",
    "print(f\"GD Bhat = {Bhat.data.reshape(-1)}\")\n",
    "print(f\"LSE Bhat = {lse_Bhat.reshape(-1)}\")"
   ]
  },
  {
   "cell_type": "markdown",
   "id": "d7ef1f4c-1fff-487b-879a-45468fea216f",
   "metadata": {},
   "source": [
    "`(3)` 이 문제에서 모수의 참값은 $\\beta_0=2.5, \\beta_1=4 , \\beta_2= -2$\n",
    "이다. `epoch`을 증가할수록 (1)에서 추정된 값은 참값에 근접해갈까?\n",
    "(`epoch`을 무한대로 하면 결국 참값에 수렴할까?)"
   ]
  },
  {
   "cell_type": "markdown",
   "id": "2b1b12e6-e77f-4202-ae4f-cf780db013d5",
   "metadata": {},
   "source": [
    "> 주어진 데이터 하에서 loss를 최소로 만드는 모수의 추정값은 LSE 추정값과 일치한다. 따라서 epoch을 증가시켜도 경사하강법으로 추정된 값은 [2.5819,  4.0284, -2.0162]에 수렴할 뿐, 참 값으로 수렴할 순 없다."
   ]
  },
  {
   "cell_type": "markdown",
   "id": "82d6908f-6812-4d70-9d62-1002cd480acb",
   "metadata": {},
   "source": [
    "`(4)` 아래의 제약사항에 맞추어서 $\\beta_0,\\beta_1,\\beta_2$의 값을 다시\n",
    "추정하라.\n",
    "\n",
    "**제약사항**\n",
    "\n",
    "1.  `yhat = net(X)` 을 만족하는 적당한 `X`, `net`을 선언하여 문제를 풀\n",
    "    것. 이때 `net`는 `torch.nn.Linear(??,??,bias=False)` 를 사용하여\n",
    "    선언할 것.\n",
    "2.  `torch.nn.MSELoss()`를 이용하여 손실을 구할 것\n",
    "3.  `torch.optim.SGD()`를 이용하여 update할 것"
   ]
  },
  {
   "cell_type": "code",
   "execution_count": 17,
   "id": "f5ddced6-0180-4d7d-a31a-8ad477e27b9d",
   "metadata": {},
   "outputs": [],
   "source": [
    "X = torch.concat([torch.ones(100).reshape(-1, 1), x1, x2], axis = 1)\n",
    "\n",
    "net = torch.nn.Linear(3, 1, bias = False)\n",
    "loss_fn = torch.nn.MSELoss()\n",
    "optimizr = torch.optim.SGD(net.parameters(), lr = 0.1)"
   ]
  },
  {
   "cell_type": "code",
   "execution_count": 18,
   "id": "e2f67317-49b7-474a-a2a5-c9b5754f4f67",
   "metadata": {},
   "outputs": [],
   "source": [
    "for epoc in range(3000) :\n",
    "    yhat = net(X)\n",
    "    loss = loss_fn(yhat, y)\n",
    "    loss.backward()\n",
    "    optimizr.step()\n",
    "    optimizr.zero_grad()"
   ]
  },
  {
   "cell_type": "code",
   "execution_count": 19,
   "id": "a9adb063-f031-4143-b2ea-9834b4ffa2ac",
   "metadata": {},
   "outputs": [
    {
     "name": "stdout",
     "output_type": "stream",
     "text": [
      "Bhat = tensor([[ 2.5824,  4.0265, -2.0143]])\n"
     ]
    }
   ],
   "source": [
    "print(f\"Bhat = {net.weight.data}\")"
   ]
  },
  {
   "cell_type": "markdown",
   "id": "329283ed-2419-48b3-b85c-89409e6058c0",
   "metadata": {},
   "source": [
    "`(5)` 아래의 제약사항에 맞추어서 $\\beta_0,\\beta_1,\\beta_2$의 값을 다시\n",
    "추정하라.\n",
    "\n",
    "**제약사항**\n",
    "\n",
    "1.  `yhat = net(X)` 을 만족하는 적당한 `X`, `net`을 선언하여 문제를 풀\n",
    "    것. 이때 `net`는 `torch.nn.Linear(??,??,bias=True)` 를 사용하여\n",
    "    선언할 것.\n",
    "2.  `torch.nn.MSELoss()`를 이용하여 손실을 구할 것\n",
    "3.  `torch.optim.SGD()`를 이용하여 update할 것"
   ]
  },
  {
   "cell_type": "code",
   "execution_count": 20,
   "id": "2f2fbf82-55fc-4baf-82b2-b1d3470dc9ed",
   "metadata": {},
   "outputs": [],
   "source": [
    "X = torch.concat([x1, x2], axis = 1)\n",
    "\n",
    "net = torch.nn.Linear(2, 1, bias = True)\n",
    "loss_fn = torch.nn.MSELoss()\n",
    "optimizr = torch.optim.SGD(net.parameters(), lr = 0.1)"
   ]
  },
  {
   "cell_type": "code",
   "execution_count": 21,
   "id": "170a5806-656e-475f-85f5-f94efbf3c0bf",
   "metadata": {},
   "outputs": [],
   "source": [
    "for epoc in range(3000) :\n",
    "    yhat = net(X)\n",
    "    loss = loss_fn(yhat, y)\n",
    "    loss.backward()\n",
    "    optimizr.step()\n",
    "    optimizr.zero_grad()"
   ]
  },
  {
   "cell_type": "code",
   "execution_count": 26,
   "id": "66eeaf1f-bd29-4e34-ba27-7a7db1ec7b04",
   "metadata": {},
   "outputs": [
    {
     "name": "stdout",
     "output_type": "stream",
     "text": [
      "Bhat = tensor([[ 2.5823,  4.0268, -2.0146]])\n"
     ]
    }
   ],
   "source": [
    "print(f\"Bhat = {torch.concat([net.bias.data.reshape(-1, 1), net.weight.data], axis = 1)}\")"
   ]
  },
  {
   "cell_type": "markdown",
   "id": "4c71a11e-e2a6-428c-92a0-f085e8c711d0",
   "metadata": {},
   "source": [
    "## `$`. 회귀(DL2022-MID-2)\n",
    "\n",
    "> 이 문제의 경우 풀이가\n",
    "> <https://guebin.github.io/DL2022/posts/2022-10-28-9wk-1-midsol.html>\n",
    "> 에 있습니다.\n",
    "\n",
    "주어진 자료가 아래와 같다고 하자."
   ]
  },
  {
   "cell_type": "code",
   "execution_count": 114,
   "id": "0734c0a7-6392-42b9-ad52-9e9d7c75b73d",
   "metadata": {},
   "outputs": [],
   "source": [
    "torch.manual_seed(7676)\n",
    "x = torch.randn(100).sort().values\n",
    "ϵ = torch.randn(100)*0.5\n",
    "y = 2.5+ 4*x + ϵ"
   ]
  },
  {
   "cell_type": "code",
   "execution_count": 115,
   "id": "a3a01bfb-fd02-4ffa-a80d-8a042bf79662",
   "metadata": {},
   "outputs": [
    {
     "data": {
      "image/png": "[encoded data removed]",
      "text/plain": [
       "<Figure size 640x480 with 1 Axes>"
      ]
     },
     "metadata": {},
     "output_type": "display_data"
    }
   ],
   "source": [
    "plt.plot(x,y,'o')\n",
    "plt.show()"
   ]
  },
  {
   "cell_type": "markdown",
   "id": "189832cf-d6cb-47b5-b151-09e4e873d0b7",
   "metadata": {},
   "source": [
    "아래와 같은 모형을 가정하고 물음에 답하라.\n",
    "\n",
    "$$y_i = w_0+w_1 x_i +\\epsilon_i, \\quad \\epsilon_i \\overset{iid}{\\sim} N(0,\\sigma^2)$$\n",
    "\n",
    "`(1)` ??를 적당하게 채워 아래와 같은 네트워크를 설정하고 최초의 예측값이\n",
    "$\\hat{y}_i=-5+10x_i$가 출력되도록 net의 가중치를 조정하라.\n",
    "\n",
    "``` python\n",
    "net = torch.nn.Linear(in_features=2,out_features=??,bias=??)\n",
    "```"
   ]
  },
  {
   "cell_type": "code",
   "execution_count": 116,
   "id": "d35fd47a-e60f-4215-bf64-add3f67f0a4f",
   "metadata": {},
   "outputs": [],
   "source": [
    "net = torch.nn.Linear(in_features = 2, out_features = 1, bias = False)"
   ]
  },
  {
   "cell_type": "markdown",
   "id": "2e0964bb-019d-4e3e-a2d8-86cc76bafb38",
   "metadata": {},
   "source": [
    "`(2)` 학습률은 0.1로 설정하고 torch.optim.Adam을 이용하여 optimizer를\n",
    "선언하라. $(\\hat{w}_0,\\hat{w}_1)=(-5,10)$에서 MSELoss의 미분계수\n",
    "$\\frac{\\partial}{\\partial {\\bf W}}loss(w_0,w_1) ~\\Big|_{~\\hat{w}_0,\\hat{w}_1}$를\n",
    "구하고 이를 바탕으로 $(\\hat{w}_0,\\hat{w}_1)$의 값을 1회 갱신하라. 계산된\n",
    "미분계수값과 갱신된 $(\\hat{w}_0,\\hat{w}_1)$의 값을 출력하라."
   ]
  },
  {
   "cell_type": "code",
   "execution_count": 117,
   "id": "c469c256-4d45-4519-9a10-c03a5f16597c",
   "metadata": {},
   "outputs": [],
   "source": [
    "X = torch.stack([torch.ones(100), x], axis = 1)\n",
    "y = y.reshape(-1, 1)\n",
    "net.weight.data = torch.tensor([[-5.0, 10.0]])\n",
    "\n",
    "loss_fn = torch.nn.MSELoss()\n",
    "optimizr = torch.optim.Adam(net.parameters(), lr = 0.1)\n",
    "\n",
    "## 그래디언트 계산\n",
    "yhat = net(X)\n",
    "\n",
    "loss = loss_fn(yhat, y)\n",
    "\n",
    "loss.backward()\n",
    "MSELoss_grad = net.weight.grad\n",
    "\n",
    "optimizr.step()\n",
    "optimizr.zero_grad()"
   ]
  },
  {
   "cell_type": "code",
   "execution_count": 118,
   "id": "cd91c49c-949d-49e3-bf60-a4eb4da341d9",
   "metadata": {},
   "outputs": [
    {
     "name": "stdout",
     "output_type": "stream",
     "text": [
      "계산된 미분계수값 = tensor([[-15.7290,  14.7198]])\n",
      "갱신된 파라미터값 = tensor([[-4.9000,  9.9000]])\n"
     ]
    }
   ],
   "source": [
    "print(f\"계산된 미분계수값 = {MSELoss_grad}\")\n",
    "print(f\"갱신된 파라미터값 = {net.weight.data}\")"
   ]
  },
  {
   "cell_type": "markdown",
   "id": "48c25ec8-135c-4058-bf19-de89eb32a5b2",
   "metadata": {},
   "source": [
    "`(3)` (2)에서 설정한 optimizer를 이용하여 $(\\hat w_0, \\hat w_1)$\n",
    "의 값을 5회 갱신한 값을 구하여라. - 문제(2)에 갱신한 1회를 포함하여 5회임."
   ]
  },
  {
   "cell_type": "code",
   "execution_count": 119,
   "id": "8ff7367f-7216-4386-9c22-3dd42fb6deaa",
   "metadata": {},
   "outputs": [],
   "source": [
    "for epoc in range(4) :\n",
    "    yhat = net(X)\n",
    "    loss = loss_fn(yhat, y)\n",
    "    loss.backward()\n",
    "    optimizr.step()\n",
    "    optimizr.zero_grad()"
   ]
  },
  {
   "cell_type": "code",
   "execution_count": 120,
   "id": "792997ea-4c22-4eb1-b4aa-24c5b44ced3d",
   "metadata": {},
   "outputs": [
    {
     "name": "stdout",
     "output_type": "stream",
     "text": [
      "5회 갱신된 파라미터값 = tensor([[-4.5006,  9.5008]])\n"
     ]
    }
   ],
   "source": [
    "print(f\"5회 갱신된 파라미터값 = {net.weight.data}\")"
   ]
  },
  {
   "cell_type": "markdown",
   "id": "e4a6e6d4-c234-467f-b2e1-8b70c0921e4b",
   "metadata": {},
   "source": [
    "`(4)` 학습률을 0.2로 설정하고 torch.optim.SGD를 이용하여 새로운\n",
    "optimizr를 선언하라. (3)의 결과로 총 5회 갱신된 값에 이어서 10회 추가로\n",
    "학습하라. 학습된 값은 얼마인가?"
   ]
  },
  {
   "cell_type": "code",
   "execution_count": 121,
   "id": "34ea8a23-639d-415d-8edc-4d2e9a512c77",
   "metadata": {},
   "outputs": [],
   "source": [
    "optimizr_SGD = torch.optim.SGD(net.parameters(), lr = 0.2)\n",
    "\n",
    "for epoc in range(10) :\n",
    "    yhat = net(X)\n",
    "    loss = loss_fn(yhat, y)\n",
    "    loss.backward()\n",
    "    optimizr_SGD.step()\n",
    "    optimizr_SGD.zero_grad()"
   ]
  },
  {
   "cell_type": "code",
   "execution_count": 122,
   "id": "b7662395-2f41-417a-93c0-9afcfc4eb9ba",
   "metadata": {},
   "outputs": [
    {
     "name": "stdout",
     "output_type": "stream",
     "text": [
      "10회 추가 갱신된 파라미터값 = tensor([[2.4925, 3.9607]])\n"
     ]
    }
   ],
   "source": [
    "print(f\"10회 추가 갱신된 파라미터값 = {net.weight.data}\")"
   ]
  },
  {
   "cell_type": "markdown",
   "id": "48be11c5-7ee9-4099-8ab9-e3016578fb26",
   "metadata": {},
   "source": [
    "`(5)` (4)의 수렴값이 학습이 잘 되었다고 생각하는가? 잘 되었다고 생각하면\n",
    "그 근거는 무엇인가? (단, $(w_0,w_1)$의 참값은 모른다고 가정한다)\n",
    "\n",
    "-   hint: 미분값을 근거로 대답할 것"
   ]
  },
  {
   "cell_type": "code",
   "execution_count": 123,
   "id": "6376bbae-0920-48f1-b68f-9fc354b33228",
   "metadata": {},
   "outputs": [],
   "source": [
    "yhat = net(X)\n",
    "loss = loss_fn(yhat, y)\n",
    "loss.backward()"
   ]
  },
  {
   "cell_type": "code",
   "execution_count": 124,
   "id": "8b3d7296-3b86-4ca3-8a71-e40cfb7d0b18",
   "metadata": {},
   "outputs": [
    {
     "name": "stdout",
     "output_type": "stream",
     "text": [
      "(4)의 추정치에서의 미분계수값 = tensor([[-0.0729,  0.0099]])\n"
     ]
    }
   ],
   "source": [
    "print(f\"(4)의 추정치에서의 미분계수값 = {net.weight.grad}\")"
   ]
  },
  {
   "cell_type": "markdown",
   "id": "fd0da8e9-246b-4e26-b131-2680b5965441",
   "metadata": {},
   "source": [
    "> 수렴값이 볼록함수인 loss_fn의 최소값이 되기 위해서는 미분계수값이 0이란 1계 필요조건을 먼저 충족해야 한다. 구해진 미분계수값은 [[-0.0729, 0.0099]]로, 충분히 0에 가까워 학습률 0.2 하에서 다음 갱신 진행 시 추정치가 크게 변하지 않는다. 따라서 (4)의 수렴값은 학습이 잘 되었다."
   ]
  },
  {
   "cell_type": "markdown",
   "id": "cbc2d7f9-c740-4c32-9a91-7fbebf25fd8d",
   "metadata": {},
   "source": [
    "## `$`. 과잉매개변수(DL2022-ASS-2)\n",
    "\n",
    "> 이 내용은 overparameterized model에 대한 내용을 다루고 있습니다. 이\n",
    "> 문제의 경우는 풀이가\n",
    "> <https://guebin.github.io/DL2022/posts/II.%20DNN/2022-10-26-Assignment2.html>\n",
    "> 에 제공되어있습니다.\n",
    "\n",
    "> Overparameterized model은 03wk-1, 3-B 의 내용과도 관련 있습니다.\n",
    "\n",
    "아래와 같은 자료가 있다고 가정하자."
   ]
  },
  {
   "cell_type": "code",
   "execution_count": 125,
   "id": "31bd66a3-d12a-42d4-b8b1-ec220f281f38",
   "metadata": {},
   "outputs": [],
   "source": [
    "x = torch.rand([1000,1])*2-1\n",
    "y = 3.14 + 6.28*x + torch.randn([1000,1]) "
   ]
  },
  {
   "cell_type": "code",
   "execution_count": 127,
   "id": "68d16c70-d030-4d08-aeac-7249a3fc9e4f",
   "metadata": {},
   "outputs": [
    {
     "data": {
      "image/png": "[encoded data removed]",
      "text/plain": [
       "<Figure size 640x480 with 1 Axes>"
      ]
     },
     "metadata": {},
     "output_type": "display_data"
    }
   ],
   "source": [
    "plt.plot(x,y,'o',alpha=0.1)\n",
    "plt.show()"
   ]
  },
  {
   "cell_type": "markdown",
   "id": "fc49ef62-7f82-4755-bc5d-a400f1a1127e",
   "metadata": {},
   "source": [
    "`(1)` 아래의 모형을 가정하고 $\\beta_0,\\beta_1$을 파이토치를 이용하여\n",
    "추정하라.\n",
    "\n",
    "-   $y_i = \\beta_0  + \\beta_1 x_i + \\epsilon_i,\\quad \\epsilon_i \\sim N(0,\\sigma^2)$"
   ]
  },
  {
   "cell_type": "code",
   "execution_count": 145,
   "id": "60136789-5a13-434e-9ac8-a9079adda6ae",
   "metadata": {},
   "outputs": [],
   "source": [
    "net = torch.nn.Linear(1, 1, bias = True)\n",
    "loss_fn = torch.nn.MSELoss()\n",
    "optimizr = torch.optim.Adam(net.parameters(), lr = 0.1)\n",
    "\n",
    "for epoc in range(1000) :\n",
    "    yhat = net(x)\n",
    "    loss = loss_fn(yhat, y)\n",
    "    loss.backward()\n",
    "    optimizr.step()\n",
    "\n",
    "    # if epoc % 50 == 0 :\n",
    "    #     print(net.bias.grad, net.weight.grad)\n",
    "    \n",
    "    optimizr.zero_grad()"
   ]
  },
  {
   "cell_type": "code",
   "execution_count": 147,
   "id": "0de6325f-b51f-4bbd-83ce-969157616ae9",
   "metadata": {},
   "outputs": [
    {
     "name": "stdout",
     "output_type": "stream",
     "text": [
      "추정된 Bhat = tensor([[3.1984, 6.2509]])\n"
     ]
    }
   ],
   "source": [
    "print(f\"추정된 Bhat = {torch.concat([net.bias.data.reshape(-1, 1), net.weight.data], axis = 1)}\")"
   ]
  },
  {
   "cell_type": "markdown",
   "id": "8fe22911-933a-4619-a7c5-0ccdca210007",
   "metadata": {},
   "source": [
    "`(2)` 아래의 모형을 가정하고 $\\beta_0$를 파이토치를 이용하여 추정하라.\n",
    "\n",
    "-   $y_i = \\beta_0  + \\epsilon_i,\\quad \\epsilon_i \\sim N(0,\\sigma^2)$"
   ]
  },
  {
   "cell_type": "code",
   "execution_count": 164,
   "id": "6dddb595-70c3-4fe2-9834-d457a4e25ef0",
   "metadata": {},
   "outputs": [],
   "source": [
    "net = torch.nn.Linear(1, 1, bias = False)\n",
    "loss_fn = torch.nn.MSELoss()\n",
    "optimizr = torch.optim.Adam(net.parameters(), lr = 0.1)\n",
    "\n",
    "for epoc in range(1000) :\n",
    "    yhat = net(torch.ones(x.shape[0]).reshape(-1, 1))\n",
    "    loss = loss_fn(yhat, y)\n",
    "    loss.backward()\n",
    "    optimizr.step()\n",
    "\n",
    "    # if epoc % 50 == 0 :\n",
    "    #     print(net.weight.grad)\n",
    "    \n",
    "    optimizr.zero_grad()"
   ]
  },
  {
   "cell_type": "code",
   "execution_count": 165,
   "id": "9e7d12c5-98f4-4c5b-b1a2-a09878ef7ac5",
   "metadata": {},
   "outputs": [
    {
     "name": "stdout",
     "output_type": "stream",
     "text": [
      "추정된 Bhat = tensor([[3.1720]])\n"
     ]
    }
   ],
   "source": [
    "print(f\"추정된 Bhat = {net.weight.data}\")"
   ]
  },
  {
   "cell_type": "markdown",
   "id": "8fb2dc00-2365-49a1-8848-648025af5302",
   "metadata": {},
   "source": [
    "`(3)` 아래의 모형을 가정하고 $\\beta_1$을 파이토치를 이용하여 추정하라.\n",
    "\n",
    "-   $y_i = \\beta_1x_i  + \\epsilon_i \\quad \\epsilon_i \\sim N(0,\\sigma^2)$"
   ]
  },
  {
   "cell_type": "code",
   "execution_count": 167,
   "id": "1ebc0a7a-76da-4c17-8ffd-87eea94b2077",
   "metadata": {},
   "outputs": [],
   "source": [
    "net = torch.nn.Linear(1, 1, bias = False)\n",
    "loss_fn = torch.nn.MSELoss()\n",
    "optimizr = torch.optim.Adam(net.parameters(), lr = 0.1)\n",
    "\n",
    "for epoc in range(1000) :\n",
    "    yhat = net(x)\n",
    "    loss = loss_fn(yhat, y)\n",
    "    loss.backward()\n",
    "    optimizr.step()\n",
    "\n",
    "    # if epoc % 50 == 0 :\n",
    "    #     print(net.weight.grad)\n",
    "    \n",
    "    optimizr.zero_grad()"
   ]
  },
  {
   "cell_type": "code",
   "execution_count": 168,
   "id": "c2b020d7-8053-4022-966f-17a8d5b1c161",
   "metadata": {},
   "outputs": [
    {
     "name": "stdout",
     "output_type": "stream",
     "text": [
      "추정된 Bhat = tensor([[6.2090]])\n"
     ]
    }
   ],
   "source": [
    "print(f\"추정된 Bhat = {net.weight.data}\")"
   ]
  },
  {
   "cell_type": "markdown",
   "id": "82753a0f-ce58-4307-b148-5cae5b401aa9",
   "metadata": {},
   "source": [
    "`(4)` 아래의 모형을 가정하고 $\\alpha_0,\\beta_0,\\beta_1$을 파이토치를\n",
    "이용하여 추정하라.\n",
    "\n",
    "-   $y_i = \\alpha_0+\\beta_0+ \\beta_1x_i  + \\epsilon_i \\quad \\epsilon_i \\sim N(0,\\sigma^2)$\n",
    "\n",
    "$\\hat{\\alpha}_0+\\hat{\\beta}_0$은 얼마인가? 이 값과 문제 (1)에서 추정된\n",
    "$\\hat{\\beta_0}$의 값과 비교하여 보라."
   ]
  },
  {
   "cell_type": "code",
   "execution_count": 171,
   "id": "6e562857-7312-41d4-84af-4213fcdd48dd",
   "metadata": {},
   "outputs": [],
   "source": [
    "X = torch.concat([torch.ones(x.shape[0]).reshape(-1, 1), x], axis = 1)\n",
    "\n",
    "net = torch.nn.Linear(2, 1, bias = True)\n",
    "loss_fn = torch.nn.MSELoss()\n",
    "optimizr = torch.optim.Adam(net.parameters(), lr = 0.1)\n",
    "\n",
    "for epoc in range(1000) :\n",
    "    yhat = net(X)\n",
    "    loss = loss_fn(yhat, y)\n",
    "    loss.backward()\n",
    "    optimizr.step()\n",
    "\n",
    "    # if epoc % 50 == 0 :\n",
    "    #     print(net.bias.grad, net.weight.grad)\n",
    "    \n",
    "    optimizr.zero_grad()"
   ]
  },
  {
   "cell_type": "code",
   "execution_count": 176,
   "id": "4785e298-b234-4933-bf12-531ac2b47433",
   "metadata": {},
   "outputs": [
    {
     "name": "stdout",
     "output_type": "stream",
     "text": [
      "추정된 Bhat = tensor([[1.3747, 1.8237, 6.2509]])\n",
      "alpha0 + beta0 = 3.1984\n"
     ]
    }
   ],
   "source": [
    "print(f\"추정된 Bhat = {torch.concat([net.bias.data.reshape(-1, 1), net.weight.data], axis = 1)}\")\n",
    "print(f\"alpha0 + beta0 = {net.bias.data[0] + net.weight.data[0, 0]:.4f}\")"
   ]
  },
  {
   "cell_type": "markdown",
   "id": "1b43ac31-238b-410c-b8b3-a2425ee552df",
   "metadata": {},
   "source": [
    "> 해당 값은 문제 (1)에서 추정된 $\\hat \\beta_0$의 값과 동일하다"
   ]
  },
  {
   "cell_type": "markdown",
   "id": "a1225fa0-4f35-4fa7-9c0f-2b648cb0cd8b",
   "metadata": {},
   "source": [
    "`(5)` 아래의 모형을 가정하고 $\\alpha_0,\\alpha_1,\\beta_0,\\beta_1$을\n",
    "파이토치를 이용하여 추정하라.\n",
    "\n",
    "-   $y_i = \\alpha_0+\\beta_0+ \\beta_1x_i + \\alpha_1x_i + \\epsilon_i \\quad \\epsilon_i \\sim N(0,\\sigma^2)$\n",
    "\n",
    "$\\hat{\\alpha}_0+\\hat{\\beta}_0$, $\\hat{\\alpha}_1 + \\hat{\\beta}_1$의 값은\n",
    "각각 얼마인가? 이 값들을 (1) 에서 추정된 $\\hat{\\beta}_0$,\n",
    "$\\hat{\\beta}_1$ 값들과 비교하라."
   ]
  },
  {
   "cell_type": "code",
   "execution_count": 180,
   "id": "b8609cb0-29c8-4c3b-8df9-f859aafd01a9",
   "metadata": {},
   "outputs": [],
   "source": [
    "X = torch.concat([torch.ones(x.shape[0]).reshape(-1, 1),\n",
    "                  x, x], axis = 1)\n",
    "\n",
    "net = torch.nn.Linear(3, 1, bias = True)\n",
    "loss_fn = torch.nn.MSELoss()\n",
    "optimizr = torch.optim.Adam(net.parameters(), lr = 0.1)\n",
    "\n",
    "for epoc in range(1000) :\n",
    "    yhat = net(X)\n",
    "    loss = loss_fn(yhat, y)\n",
    "    loss.backward()\n",
    "    optimizr.step()\n",
    "\n",
    "    # if epoc % 50 == 0 :\n",
    "    #     print(net.bias.grad, net.weight.grad)\n",
    "    \n",
    "    optimizr.zero_grad()"
   ]
  },
  {
   "cell_type": "code",
   "execution_count": 185,
   "id": "835bb16d-3fb3-4b60-98c1-dd11a9ec24c5",
   "metadata": {},
   "outputs": [
    {
     "name": "stdout",
     "output_type": "stream",
     "text": [
      "추정된 Bhat = tensor([[1.4666, 1.7318, 3.1237, 3.1272]])\n",
      "alpha0 + beta0 = 3.1984\n",
      "alpha1 + beta1 = 6.2509\n"
     ]
    }
   ],
   "source": [
    "print(f\"추정된 Bhat = {torch.concat([net.bias.data.reshape(-1, 1), net.weight.data], axis = 1)}\")\n",
    "print(f\"alpha0 + beta0 = {net.bias.data[0] + net.weight.data[0, 0]:.4f}\")\n",
    "print(f\"alpha1 + beta1 = {net.weight.data[0, 1:].sum():.4f}\")"
   ]
  },
  {
   "cell_type": "markdown",
   "id": "6c78154a-ddc8-48a8-a77c-bb202b6ff25c",
   "metadata": {},
   "source": [
    "> 해당 값은 문제 (1)에서 추정된 $\\hat \\beta_0, \\hat \\beta_1$과 동일하다."
   ]
  },
  {
   "cell_type": "markdown",
   "id": "ed450697-9287-40e2-8421-ceacdf25bb87",
   "metadata": {},
   "source": [
    "`(6)` 다음은 위의 모형에 대하여 학생들이 discussion한 결과이다. 올바르게\n",
    "해석한 학생을 모두 골라라.\n",
    "\n",
    "**민정**: $(x_i,y_i)$의 산점도는 직선모양이고 직선의 절펴과 기울기 모두\n",
    "유의미해 보이므로 $y_i = \\beta_0 + \\beta_1 x_i$ 꼴을 적합하는게 좋겠다.\n",
    "\n",
    "**슬기**: 나도 그렇게 생각해. 그래서 (2)-(3)과 같이 기울기를 제외하고\n",
    "적합하거나 절편을 제외하고 적합하면 underfitting의 상황에 빠질 수 있어.\n",
    "\n",
    "**성재**: (2)의 경우 사실상 $\\bar{y}=\\frac{1}{n}\\sum_{i=1}^{n}y_i$를\n",
    "추정하는 것과 같아지게 되지.\n",
    "\n",
    "**세민**: (4)의 경우\n",
    "${\\bf X}=\\begin{bmatrix} 1  & x_1 \\\\ 1 & x_2 \\\\ \\dots & \\dots \\\\ 1 & x_n \\end{bmatrix}$\n",
    "와 같이 설정하고 네트워크를 아래와 같이 설정할 경우 얻어지는 모형이야.\n",
    "\n",
    "``` python\n",
    "net = torch.nn.Linear(in_features=2,out_features=1,bias=True)\n",
    "```\n",
    "\n",
    "**구환**: 모델 (4)-(5)는 표현력은 (1)과 동일하지만 추정할 파라메터는\n",
    "(1)보다 많으므로 효율적인 모델이라고 볼 수 없어."
   ]
  },
  {
   "cell_type": "markdown",
   "id": "9275e6b8-b29e-43b7-9fd2-e17657ca9c74",
   "metadata": {},
   "source": [
    "> 민정, 슬기, 성재, 세민, 구환"
   ]
  }
 ],
 "metadata": {
  "kernelspec": {
   "display_name": "Python 3 (ipykernel)",
   "language": "python",
   "name": "python3"
  },
  "language_info": {
   "codemirror_mode": {
    "name": "ipython",
    "version": 3
   },
   "file_extension": ".py",
   "mimetype": "text/x-python",
   "name": "python",
   "nbconvert_exporter": "python",
   "pygments_lexer": "ipython3",
   "version": "3.9.18"
  }
 },
 "nbformat": 4,
 "nbformat_minor": 5
}
