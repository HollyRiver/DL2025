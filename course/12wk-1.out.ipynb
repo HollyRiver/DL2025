{
 "cells": [
  {
   "cell_type": "markdown",
   "id": "140a163b-937d-4ea3-960a-14464dd6b7e2",
   "metadata": {},
   "source": [
    "# 12wk-1: (순환신경망) – 겹장(덧장), RNNCell\n",
    "\n",
    "최규빈  \n",
    "2025-05-21\n",
    "\n",
    "<a href=\"https://colab.research.google.com/github/guebin/DL2025/blob/main/posts/12wk-1.ipynb\"><img src=\"https://colab.research.google.com/assets/colab-badge.svg\" style=\"text-align: left\"></a>\n",
    "\n",
    "# 1. 강의영상"
   ]
  },
  {
   "cell_type": "code",
   "execution_count": 1,
   "id": "040a5937-3d72-4797-bf02-bd552407b72a",
   "metadata": {
    "tags": []
   },
   "outputs": [],
   "source": [
    "#{{<video https://youtu.be/playlist?list=PLQqh36zP38-zuDZdouFCc1D5qJe36M2S0&si=kOtJ2iFWNwqIU4R6 >}}"
   ]
  },
  {
   "cell_type": "markdown",
   "id": "8f81cd75-5623-4940-a38d-64cb320803e7",
   "metadata": {},
   "source": [
    "# 2. Imports"
   ]
  },
  {
   "cell_type": "code",
   "execution_count": 2,
   "id": "7bcc82e9-8e9a-4b1b-af39-827893d814c6",
   "metadata": {
    "tags": []
   },
   "outputs": [],
   "source": [
    "import torch\n",
    "import pandas as pd\n",
    "import matplotlib.pyplot as plt"
   ]
  },
  {
   "cell_type": "markdown",
   "id": "91dce893-6237-482d-8d6d-fde738a4cb01",
   "metadata": {},
   "source": [
    "# 3. 예비학습\n",
    "\n",
    "## A. 파이토치의 유연성\n",
    "\n",
    "`-` 아래는 엄밀한 의미에서는 계산불가능하지만 파이토치는 그냥 해준다."
   ]
  },
  {
   "cell_type": "code",
   "execution_count": 54,
   "id": "0b22bd2b-e0d2-4817-9870-1ab7b8ccf64d",
   "metadata": {},
   "outputs": [],
   "source": [
    "x = torch.tensor([0,1.5])\n",
    "W = torch.randn(2,1)\n",
    "x@W"
   ]
  },
  {
   "cell_type": "markdown",
   "id": "ec5656de-3269-40a2-a55d-2e2b50017163",
   "metadata": {},
   "source": [
    "`-` 이와 유사하게 아래도 엄밀한 의미에서는 계산불가능하지만 파이토치는\n",
    "그냥 해준다."
   ]
  },
  {
   "cell_type": "code",
   "execution_count": 56,
   "id": "af8d9faf-fa8e-4089-aa01-9957dc5b1ddb",
   "metadata": {},
   "outputs": [],
   "source": [
    "linr = torch.nn.Linear(2,1,bias=False)\n",
    "linr.weight.data = W.T \n",
    "linr(x)"
   ]
  },
  {
   "cell_type": "markdown",
   "id": "d41b4f29-4de6-4f80-be26-9ea802683130",
   "metadata": {},
   "source": [
    "## B. loss를 계산하는 다른방식\n",
    "\n",
    "`-` 아래를 가정하자."
   ]
  },
  {
   "cell_type": "code",
   "execution_count": 80,
   "id": "5493935f-a049-46fe-8a24-eccc0cfd4417",
   "metadata": {},
   "outputs": [],
   "source": [
    "X = torch.randn(100,5)\n",
    "y = torch.randn(100,1)\n",
    "net = torch.nn.Linear(5,1)\n",
    "loss_fn = torch.nn.MSELoss()"
   ]
  },
  {
   "cell_type": "markdown",
   "id": "fc4c92af-e928-4818-b47c-f5adf8e59108",
   "metadata": {},
   "source": [
    "`-` loss를 계산하는 방법1"
   ]
  },
  {
   "cell_type": "code",
   "execution_count": 83,
   "id": "db570a3e-f25a-42a4-b9c2-6302171e94c1",
   "metadata": {},
   "outputs": [],
   "source": [
    "yhat = net(X)\n",
    "loss = loss_fn(yhat,y)\n",
    "loss "
   ]
  },
  {
   "cell_type": "markdown",
   "id": "9be19a90-9064-4d68-801f-f32e8f1805f3",
   "metadata": {},
   "source": [
    "`-` loss를 계산하는 방법2"
   ]
  },
  {
   "cell_type": "code",
   "execution_count": 85,
   "id": "a7f6e19f-bc4c-48fb-a5e8-c1aabf335d8c",
   "metadata": {},
   "outputs": [],
   "source": [
    "loss = 0 \n",
    "for i in range(100):\n",
    "    Xi = X[i]\n",
    "    yi = y[i]\n",
    "    yi_hat = net(Xi)\n",
    "    loss = loss + loss_fn(yi_hat, yi) \n",
    "loss/100"
   ]
  },
  {
   "cell_type": "markdown",
   "id": "5f2b0ab6-1b8c-41da-b1c1-c1ff5e0f8b8b",
   "metadata": {},
   "source": [
    "# 4. 겹장(덧장)\n",
    "\n",
    "***(생각1) ${\\boldsymbol h}$에 대한 이해***\n",
    "\n",
    "`-` ${\\boldsymbol h}$는 사실 문자열 “abc, abcd”들을 숫자로 바꾼 표현이라\n",
    "해석할 수 있음. 즉 원핫인코딩과 다른 또 다른 형태의 숫자표현이라 해석할\n",
    "수 있다.\n",
    "\n",
    "`-` 사실 ${\\boldsymbol h}$는 원핫인코딩보다 약간 더 (1) 액기스만 남은\n",
    "느낌 + (2) 숙성된 느낌을 준다\n",
    "\n",
    "-   (why1) ${\\boldsymbol h}$는 ${\\boldsymbol x}$ 보다\n",
    "    ${\\boldsymbol y}$를 예측함에 좀 더 직접적인 역할을 한다. 즉\n",
    "    ${\\boldsymbol x}$ 숫자보다 ${\\boldsymbol h}$ 숫자가 잘 정리되어 있고\n",
    "    (차원이 낮고) 입력의 특징을 잘 정리한 (추천시스템의 MBTI처럼)\n",
    "    의미있는 숫자이다.\n",
    "-   (why2) ${\\boldsymbol x}$는 학습없이 그냥 얻어지는 숫자표현이지만,\n",
    "    ${\\boldsymbol h}$는 학습을 통하여 고치고 고치고 고친 숫자표현이다.\n",
    "\n",
    "결론: 사실 ${\\boldsymbol h}$는 잘 숙성되어있는 입력정보\n",
    "${\\boldsymbol x}$ 그 자체로 해석 할 수 있다.\n",
    "\n",
    "***(생각2) [수백년전통을 이어가는\n",
    "방법](https://www.joongang.co.kr/article/24087690#home)***\n",
    "\n",
    "    “1리터에 500만원에 낙찰된 적 있습니다.”\n",
    "    “2kg에 1억원 정도 추산됩니다.”\n",
    "    “20여 종 종자장을 블렌딩해 100ml에 5000만원씩 분양 예정입니다.”\n",
    "\n",
    "    모두 씨간장(종자장) 가격에 관한 실제 일화다.\n",
    "\n",
    "    (중략...)\n",
    "\n",
    "    위스키나 와인처럼 블렌딩을 하기도 한다. \n",
    "    새로 담근 간장에 씨간장을 넣거나, 씨간장독에 햇간장을 넣어 맛을 유지하기도 한다. \n",
    "    이를 겹장(또는 덧장)이라 한다. \n",
    "    몇몇 종갓집에선 씨간장 잇기를 몇백 년째 해오고 있다. \n",
    "    매년 새로 간장을 담가야 이어갈 수 있으니 불씨 꺼트리지 않는 것처럼 굉장히 어려운 일이다.\n",
    "    이렇게 하는 이유는 집집마다 내려오는 고유 장맛을 잃지 않기 위함이다. \n",
    "    씨간장이란 그만큼 소중한 주방의 자산이며 정체성이다.\n",
    "\n",
    "덧장: 새로운간장을 만들때, 옛날간장을 섞어서 만듦\n",
    "\n",
    "`*` 기존방식 -\n",
    "$\\text{콩물} \\overset{\\text{숙성}}{\\longrightarrow} \\text{간장}$\n",
    "\n",
    "`*` 수백년 전통의 간장맛을 유지하는 방식\n",
    "\n",
    "-   $\\text{콩물}_1 \\overset{\\text{숙성}}{\\longrightarrow} \\text{간장}_1$\n",
    "-   $\\text{콩물}_2, \\text{간장}_1 \\overset{\\text{숙성}}{\\longrightarrow} \\text{간장}_2$\n",
    "-   $\\text{콩물}_3, \\text{간장}_2 \\overset{\\text{숙성}}{\\longrightarrow} \\text{간장}_3$\n",
    "\n",
    "`*` 수백년 전통의 간장맛을 유지하면서 조리를 한다면?\n",
    "\n",
    "-   $\\text{콩물}_1 \\overset{\\text{숙성}}{\\longrightarrow} \\text{간장}_1 \\overset{\\text{조리}}{\\longrightarrow} \\text{간장계란밥}_1$\n",
    "-   $\\text{콩물}_2, \\text{간장}_1 \\overset{\\text{숙성}}{\\longrightarrow} \\text{간장}_2 \\overset{\\text{조리}}{\\longrightarrow} \\text{간장계란밥}_2$\n",
    "-   $\\text{콩물}_3, \\text{간장}_2 \\overset{\\text{숙성}}{\\longrightarrow} \\text{간장}_3 \\overset{\\text{조리}}{\\longrightarrow} \\text{간장계란밥}_3$\n",
    "\n",
    "점점 맛있는 간장계란밥이 탄생함\n",
    "\n",
    "`*` 알고리즘의 편의상 아래와 같이 생각해도 무방\n",
    "\n",
    "-   $\\text{콩물}_1, \\text{간장}_0 \\overset{\\text{숙성}}{\\longrightarrow} \\text{간장}_1 \\overset{\\text{조리}}{\\longrightarrow} \\text{간장계란밥}_1$,\n",
    "    $\\text{간장}_0=\\text{맹물}$\n",
    "-   $\\text{콩물}_2, \\text{간장}_1 \\overset{\\text{숙성}}{\\longrightarrow} \\text{간장}_2 \\overset{\\text{조리}}{\\longrightarrow} \\text{간장계란밥}_2$\n",
    "-   $\\text{콩물}_3, \\text{간장}_2 \\overset{\\text{숙성}}{\\longrightarrow} \\text{간장}_3 \\overset{\\text{조리}}{\\longrightarrow} \\text{간장계란밥}_3$\n",
    "\n",
    "***아이디어***\n",
    "\n",
    "`*` 수백년 전통의 간장맛을 유지하면서 조리하는 과정을 수식으로? (콩물을\n",
    "$x$로, 간장을 $h$로!!)\n",
    "\n",
    "-   $\\boldsymbol{x}_1, \\boldsymbol{h}_0 \\overset{\\text{숙성}}{\\longrightarrow} \\boldsymbol{h}_1 \\overset{\\text{조리}}{\\longrightarrow} \\hat{\\boldsymbol y}_1$\n",
    "-   $\\boldsymbol{x}_2, \\boldsymbol{h}_1 \\overset{\\text{숙성}}{\\longrightarrow} \\boldsymbol{h}_2 \\overset{\\text{조리}}{\\longrightarrow} \\hat{\\boldsymbol y}_2$\n",
    "-   $\\boldsymbol{x}_3, \\boldsymbol{h}_2 \\overset{\\text{숙성}}{\\longrightarrow} \\boldsymbol{h}_3 \\overset{\\text{조리}}{\\longrightarrow} \\hat{\\boldsymbol y}_3$\n",
    "\n",
    "이제 우리가 배울것은 (1) “$\\text{콩물}_{t}$”와 “$\\text{간장}_{t-1}$”로\n",
    "“$\\text{간장}_t$”를 `숙성`하는 방법 (2) “$\\text{간장}_t$”로\n",
    "“$\\text{간장계란밥}_t$를 `조리`하는 방법이다\n",
    "\n",
    "즉 `숙성`담당 네트워크와 `조리`담당 네트워크를 각각 만들어 학습하면\n",
    "된다.\n",
    "\n",
    "# 5. RNNCell\n",
    "\n",
    "## A. 차원의 정리\n",
    "\n",
    "`-` 기본버전\n",
    "\n",
    "-   X.shape = $(L, H_{in})$\n",
    "-   h.shape = $(L, H_{out})$\n",
    "-   y.shape = $(L, Q)$\n",
    "-   Xt.shape = $(H_{in}, )$\n",
    "-   ht.shape = $(H_{out},)$\n",
    "-   yt.shape = $(Q,)$\n",
    "\n",
    "`-` `AbAcAd`를 2차원공간에 임베딩하려고 할 경우.\n",
    "\n",
    "-   X.shape = $(L, H_{in})$ = $(L,4)$\n",
    "-   h.shape = $(L, H_{out})$ = $(L,2)$\n",
    "-   y.shape = $(L, Q)$ = $(L,4)$\n",
    "-   Xt.shape = $(H_{in}, )$ = $(4,)$\n",
    "-   ht.shape = $(H_{out},)$ = $(2,)$\n",
    "-   yt.shape = $(Q,)$ = $(4,)$\n",
    "\n",
    "## B. 순환신경망 알고리즘\n",
    "\n",
    "***`# 버전1`***\n",
    "\n",
    "**step 1**: 일단 $\\text{간장}_0(={\\boldsymbol h}_0)$을 맹물로 초기화\n",
    "한다. 즉 아래를 수행한다.\n",
    "\n",
    "$${\\boldsymbol h}_0 = [0,0]$$\n",
    "\n",
    "**step 2**: $\\text{콩물}_1(={\\boldsymbol x}_1)$,\n",
    "$\\text{간장}_0(={\\boldsymbol h}_0)$ 을 이용하여\n",
    "$\\text{간장}_1(={\\boldsymbol h}_1)$을 숙성한다. 즉 아래를 수행한다.\n",
    "\n",
    "$${\\boldsymbol h}_1= \\tanh({\\boldsymbol x}_1{\\bf W}_{ih}+{\\boldsymbol h}_0{\\bf W}_{hh}+{\\boldsymbol b}_{ih}+{\\boldsymbol b}_{hh})$$\n",
    "\n",
    "**step 3:** $\\text{간장}_1$을 이용하여 $\\text{간장계란밥}_1$을 만든다.\n",
    "그리고 $\\hat{\\boldsymbol y}_1$을 만든다.\n",
    "\n",
    "$${\\boldsymbol o}_1= {\\bf W}_{ho}{\\boldsymbol h}_1+{\\boldsymbol b}_{ho}$$\n",
    "\n",
    "$$\\hat{\\boldsymbol y}_1 = \\text{soft}({\\boldsymbol o}_1)$$\n",
    "\n",
    "**step 4**: $t=2,3,4,5,\\dots,L$ 에 대하여 step2-3을 반복한다.\n",
    "\n",
    "`#`\n",
    "\n",
    "***`# 버전2`***\n",
    "\n",
    "init $\\boldsymbol{h}_0$\n",
    "\n",
    "for $t$ in $1:L$\n",
    "\n",
    "-   ${\\boldsymbol h}_t= \\tanh({\\boldsymbol x}_t{\\bf W}_{ih}+{\\boldsymbol h}_{t-1}{\\bf W}_{hh}+{\\boldsymbol b}_{ih}+{\\boldsymbol b}_{hh})$\n",
    "-   ${\\boldsymbol o}_t= {\\bf W}_{ho}{\\boldsymbol h}_1+{\\boldsymbol b}_{ho}$\n",
    "-   $\\hat{\\boldsymbol y}_t = \\text{soft}({\\boldsymbol o}_t)$\n",
    "\n",
    "`#`\n",
    "\n",
    "***`# 버전3`***\n",
    "\n",
    "``` python\n",
    "ht = [0,0]\n",
    "for t in 1:T \n",
    "    ht = tanh(linr(xt)+linr(ht))\n",
    "    ot = linr(ht)\n",
    "    yt_hat = soft(ot)\n",
    "```\n",
    "\n",
    "-   코드상으로는 $h_t$와 $h_{t-1}$의 구분이 교모하게 사라진다. (그래서\n",
    "    오히려 좋아)\n",
    "\n",
    "`#`\n",
    "\n",
    "`-` 따라서 실질적인 전체코드는 아래와 같은 방식으로 구현할 수 있다.\n",
    "\n",
    "``` python\n",
    "class rNNCell(torch.nn.Module):\n",
    "    def __init__(self):\n",
    "        super().__init__()\n",
    "        linr1 = torch.nn.Linear(?,?) \n",
    "        linr2 = torch.nn.Linear(?,?) \n",
    "        tanh = torch.nn.Tanh()\n",
    "    def forward(self,Xt,ht):\n",
    "        ht = tanh(lrnr1(Xt)+lrnr2(ht))\n",
    "        return ht\n",
    "\n",
    "init ht\n",
    "rnncell = rNNCell()\n",
    "\n",
    "for t in 1:L \n",
    "    Xt, yt = X[t], y[t]\n",
    "    ht = rnncell(Xt, ht)\n",
    "    ot = linr(ht) \n",
    "    loss = loss + loss_fn(ot, yt)\n",
    "```\n",
    "\n",
    "## C. 구현1 – rNNCell\n",
    "\n",
    "`-` 데이터정리"
   ]
  },
  {
   "cell_type": "code",
   "execution_count": 4,
   "id": "ed058869-5109-4e76-b94a-e84df2cd6f81",
   "metadata": {
    "tags": []
   },
   "outputs": [],
   "source": [
    "txt = list('AbAcAd'*50)\n",
    "txt[:10]"
   ]
  },
  {
   "cell_type": "code",
   "execution_count": 5,
   "id": "cc72a03e-1f3e-42b2-a92e-55b1b009d6ee",
   "metadata": {
    "tags": []
   },
   "outputs": [],
   "source": [
    "df_train = pd.DataFrame({'x':txt[:-1], 'y':txt[1:]})\n",
    "df_train[:5]"
   ]
  },
  {
   "cell_type": "code",
   "execution_count": 7,
   "id": "dadc94d7-c3a9-4fe5-81f1-ce3fb04b0374",
   "metadata": {
    "tags": []
   },
   "outputs": [],
   "source": [
    "x = torch.tensor(df_train.x.map({'A':0,'b':1,'c':2,'d':3}))\n",
    "y = torch.tensor(df_train.y.map({'A':0,'b':1,'c':2,'d':3}))\n",
    "X = torch.nn.functional.one_hot(x).float()\n",
    "y = torch.nn.functional.one_hot(y).float()"
   ]
  },
  {
   "cell_type": "markdown",
   "id": "a0c549ff-1db7-4686-af5b-915e6af203b9",
   "metadata": {},
   "source": [
    "`-` 순환신경망으로 적합"
   ]
  },
  {
   "cell_type": "code",
   "execution_count": 62,
   "id": "eedcf27b-c006-4a70-8b2d-822684678e5b",
   "metadata": {
    "tags": []
   },
   "outputs": [],
   "source": [
    "class rNNCell(torch.nn.Module):\n",
    "    def __init__(self):\n",
    "        super().__init__()\n",
    "        self.i2h = torch.nn.Linear(4,2) \n",
    "        self.h2h = torch.nn.Linear(2,2) \n",
    "        self.tanh = torch.nn.Tanh()\n",
    "    def forward(self,Xt,ht):\n",
    "        ht = self.tanh(self.i2h(Xt)+self.h2h(ht))\n",
    "        return ht\n",
    "torch.manual_seed(43052) \n",
    "rnncell = rNNCell() \n",
    "cook = torch.nn.Linear(2,4)\n",
    "#\n",
    "loss_fn = torch.nn.CrossEntropyLoss()\n",
    "optimizr = torch.optim.Adam(list(rnncell.parameters())+ list(cook.parameters()),lr=0.1)\n",
    "#---#\n",
    "L = len(X)\n",
    "for epoc in range(200):\n",
    "    ## 1~2 \n",
    "    ht = torch.zeros(2) # 첫간장은 맹물\n",
    "    loss = 0\n",
    "    for t in range(L):\n",
    "        Xt, yt = X[t], y[t]\n",
    "        ht = rnncell(Xt, ht)\n",
    "        ot = cook(ht) \n",
    "        loss = loss + loss_fn(ot, yt)\n",
    "    loss = loss/L\n",
    "    ## 3 \n",
    "    loss.backward()\n",
    "    ## 4 \n",
    "    optimizr.step()\n",
    "    optimizr.zero_grad()"
   ]
  },
  {
   "cell_type": "markdown",
   "id": "dc9f1d3a-31ea-4aa4-9ea9-415043be57b3",
   "metadata": {},
   "source": [
    "`-` 결과 확인 및 시각화"
   ]
  },
  {
   "cell_type": "code",
   "execution_count": 63,
   "id": "642c589b-e619-4fd5-9640-f86e4a75f9c7",
   "metadata": {
    "tags": []
   },
   "outputs": [],
   "source": [
    "h = torch.zeros(L,2)\n",
    "water = torch.zeros(2)\n",
    "h[0] = rnncell(X[0],water)\n",
    "for t in range(1,L):\n",
    "    h[t] = rnncell(X[t],h[t-1])\n",
    "yhat = torch.nn.functional.softmax(cook(h),dim=1)\n",
    "yhat    "
   ]
  },
  {
   "cell_type": "code",
   "execution_count": 69,
   "id": "3d4d27f6-086a-40cb-bf76-2eda2796c4d5",
   "metadata": {
    "tags": []
   },
   "outputs": [
    {
     "data": {
      "image/png": "[encoded data removed]"
     },
     "metadata": {},
     "output_type": "display_data"
    }
   ],
   "source": [
    "mat = torch.concat([X,h,yhat],axis=1).data\n",
    "plt.matshow(mat[:12],cmap='bwr',vmin=-1,vmax=1)\n",
    "plt.xticks(\n",
    "    range(10),\n",
    "    [r\"$X_A$\", r\"$X_b$\",r\"$X_c$\",r\"$X_d$\", \n",
    "     r'$h_1$',r'$h_2$',\n",
    "     r'$\\hat{y}_A$',r'$\\hat{y}_b$',r'$\\hat{y}_c$',r'$\\hat{y}_d$']\n",
    ");\n",
    "plt.axvline(x=3.5,color='lime')\n",
    "plt.axvline(x=5.5,color='lime')"
   ]
  },
  {
   "cell_type": "markdown",
   "id": "477ac96a-7cf3-4654-90ce-4ab0579de9f2",
   "metadata": {},
   "source": [
    "`-` yhat 값 분석"
   ]
  },
  {
   "cell_type": "code",
   "execution_count": 74,
   "id": "c2af401c-d069-45fa-83e7-6a3672b2c6a7",
   "metadata": {
    "tags": []
   },
   "outputs": [],
   "source": [
    "yhat.data.numpy().round(3)[:12]"
   ]
  },
  {
   "cell_type": "markdown",
   "id": "483e1462-90f8-421f-9eb7-45ad337b7b9e",
   "metadata": {},
   "source": [
    "-   미세하지만 뒤로갈수록 좀 더 성능이 좋다.\n",
    "\n",
    "`-` h1,h2 분석 (= 임베딩스페이스 분석)"
   ]
  },
  {
   "cell_type": "code",
   "execution_count": 67,
   "id": "eeee659c-be9b-4419-b77f-81d9a76f718e",
   "metadata": {
    "tags": []
   },
   "outputs": [
    {
     "data": {
      "image/png": "[encoded data removed]"
     },
     "metadata": {},
     "output_type": "display_data"
    }
   ],
   "source": [
    "h1,h2 = h.T.data\n",
    "plt.plot(h1[::6],h2[::6],'X',label=\"A\")\n",
    "plt.plot(h1[1::6],h2[1::6],'X',label=\"b\")\n",
    "plt.plot(h1[2::6],h2[2::6],'X',label=\"A\")\n",
    "plt.plot(h1[3::6],h2[3::6],'X',label=\"c\")\n",
    "plt.plot(h1[4::6],h2[4::6],'X',label=\"A\")\n",
    "plt.plot(h1[5::6],h2[5::6],'X',label=\"d\")\n",
    "plt.legend()"
   ]
  },
  {
   "cell_type": "markdown",
   "id": "c462cb5e-b249-4b24-b2ca-98fc796ccaea",
   "metadata": {},
   "source": [
    "## D. 구현2 – RNNCell\n",
    "\n",
    "ref: <https://pytorch.org/docs/stable/generated/torch.nn.RNNCell.html>\n",
    "\n",
    "`-` 데이터정리"
   ]
  },
  {
   "cell_type": "code",
   "execution_count": 44,
   "id": "403e98ca-983b-49e0-b764-01dac8d3ef57",
   "metadata": {
    "tags": []
   },
   "outputs": [],
   "source": [
    "x = torch.tensor(df_train.x.map({'A':0,'b':1,'c':2,'d':3}))\n",
    "y = torch.tensor(df_train.y.map({'A':0,'b':1,'c':2,'d':3}))\n",
    "X = torch.nn.functional.one_hot(x).float()\n",
    "y = torch.nn.functional.one_hot(y).float()"
   ]
  },
  {
   "cell_type": "markdown",
   "id": "b1afa161-d53c-4201-9c93-ae9b5259207a",
   "metadata": {},
   "source": [
    "`-` Net설계 및 가중치 설정 (구현1과 동일하도록 가중치 초기화)"
   ]
  },
  {
   "cell_type": "code",
   "execution_count": 45,
   "id": "06c5171c-bcf8-4cdb-81d0-5e5832d8017e",
   "metadata": {
    "tags": []
   },
   "outputs": [],
   "source": [
    "torch.manual_seed(43052) \n",
    "_rnncell = rNNCell()\n",
    "cook = torch.nn.Linear(2,4)"
   ]
  },
  {
   "cell_type": "code",
   "execution_count": 46,
   "id": "949fd702-746b-4cc4-adda-73d53d45967c",
   "metadata": {
    "tags": []
   },
   "outputs": [],
   "source": [
    "rnncell = torch.nn.RNNCell(4,2)\n",
    "rnncell.weight_ih.data = _rnncell.i2h.weight.data \n",
    "rnncell.weight_hh.data = _rnncell.h2h.weight.data \n",
    "rnncell.bias_ih.data = _rnncell.i2h.bias.data \n",
    "rnncell.bias_hh.data = _rnncell.h2h.bias.data "
   ]
  },
  {
   "cell_type": "markdown",
   "id": "a82bdbb0-0544-434d-9212-d8afec513e80",
   "metadata": {},
   "source": [
    "`-` 손실함수 및 옵티마이저 설정"
   ]
  },
  {
   "cell_type": "code",
   "execution_count": 47,
   "id": "b930af8d-38d0-4af7-9edc-9538d6a21cf8",
   "metadata": {
    "tags": []
   },
   "outputs": [],
   "source": [
    "loss_fn = torch.nn.CrossEntropyLoss() \n",
    "optimizr = torch.optim.Adam(list(rnncell.parameters())+list(cook.parameters()),lr=0.1)"
   ]
  },
  {
   "cell_type": "markdown",
   "id": "2ef60633-1936-49d7-9a17-1264fb757569",
   "metadata": {},
   "source": [
    "`-` 학습"
   ]
  },
  {
   "cell_type": "code",
   "execution_count": 49,
   "id": "ca6073b9-904d-464c-baba-be0368d57d15",
   "metadata": {
    "tags": []
   },
   "outputs": [],
   "source": [
    "L = len(X)\n",
    "for epoc in range(200):\n",
    "    ## 1~2 \n",
    "    ht = torch.zeros(2) \n",
    "    loss = 0\n",
    "    for t in range(L):\n",
    "        Xt, yt = X[t], y[t]\n",
    "        ht = rnncell(Xt, ht)\n",
    "        ot = cook(ht) \n",
    "        loss = loss + loss_fn(ot, yt)\n",
    "    loss = loss/L\n",
    "    ## 3 \n",
    "    loss.backward()\n",
    "    ## 4 \n",
    "    optimizr.step()\n",
    "    optimizr.zero_grad()"
   ]
  },
  {
   "cell_type": "markdown",
   "id": "2b686867-ebc6-4eaf-a9de-e9dcb7df2aed",
   "metadata": {},
   "source": [
    "`-` 결과확인"
   ]
  },
  {
   "cell_type": "code",
   "execution_count": 50,
   "id": "c41c338d-957e-469a-bb74-5543d88d7fa3",
   "metadata": {
    "tags": []
   },
   "outputs": [],
   "source": [
    "h = torch.zeros(L,2)\n",
    "water = torch.zeros(2)\n",
    "h[0] = rnncell(X[0],water)\n",
    "for t in range(1,L):\n",
    "    h[t] = rnncell(X[t],h[t-1])\n",
    "yhat = torch.nn.functional.softmax(cook(h),dim=1)\n",
    "yhat"
   ]
  },
  {
   "cell_type": "markdown",
   "id": "bf306c78-1ace-4548-8e6d-a3709b722dfb",
   "metadata": {},
   "source": [
    "-   구현1과 같은 결과"
   ]
  }
 ],
 "metadata": {
  "kernelspec": {
   "display_name": "Python 3 (ipykernel)",
   "language": "python",
   "name": "python3"
  },
  "language_info": {
   "codemirror_mode": {
    "name": "ipython",
    "version": 3
   },
   "file_extension": ".py",
   "mimetype": "text/x-python",
   "name": "python",
   "nbconvert_exporter": "python",
   "pygments_lexer": "ipython3",
   "version": "3.9.18"
  }
 },
 "nbformat": 4,
 "nbformat_minor": 5
}
