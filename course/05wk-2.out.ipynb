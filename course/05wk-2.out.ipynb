{
  "cells": [
    {
      "cell_type": "markdown",
      "metadata": {},
      "source": [
        "# 05wk-2: (신경망) – 신경망의 표현, GPU사용법, 확률적경사하강법\n",
        "\n",
        "최규빈  \n",
        "2025-04-07\n",
        "\n",
        "<a href=\"https://colab.research.google.com/github/guebin/DL2025/blob/main/posts/05wk-2.ipynb\"><img src=\"https://colab.research.google.com/assets/colab-badge.svg\" style=\"text-align: left\"></a>\n",
        "\n",
        "# 1. 강의영상"
      ],
      "id": "2dbe744e-9c15-4890-a692-cfe4038e9ce9"
    },
    {
      "cell_type": "code",
      "execution_count": 2,
      "metadata": {
        "tags": []
      },
      "outputs": [],
      "source": [
        "# {{<video https://youtu.be/playlist?list=PLQqh36zP38-yx6DQsLACqw8pWm0udv8Jm&si=in1eMD0-wU49y7mS >}}"
      ],
      "id": "006f6390-2efa-403b-b233-84b33c619f5f"
    },
    {
      "cell_type": "markdown",
      "metadata": {},
      "source": [
        "# 2. Imports"
      ],
      "id": "5c98e63c-53da-4cf9-a683-ba93ca342e7c"
    },
    {
      "cell_type": "code",
      "execution_count": 59,
      "metadata": {
        "tags": [],
        "vscode": {
          "languageId": "python"
        }
      },
      "outputs": [],
      "source": [
        "import torch\n",
        "import matplotlib.pyplot as plt\n",
        "import torchvision"
      ],
      "id": "dbaaf438-42eb-4c98-937a-29515f995c72"
    },
    {
      "cell_type": "code",
      "execution_count": 5,
      "metadata": {
        "vscode": {
          "languageId": "python"
        }
      },
      "outputs": [],
      "source": [
        "plt.rcParams['figure.figsize'] = (4.5, 3.0)"
      ],
      "id": "cb941cba-205e-4164-ba49-baa6fcc47e32"
    },
    {
      "cell_type": "markdown",
      "metadata": {},
      "source": [
        "# 3. 신경망의 표현\n",
        "\n",
        "신경망의 표현: ${\\boldsymbol x} \\to \\hat{\\boldsymbol y}$ 로 가는 과정을\n",
        "그림으로 표현\n",
        "\n",
        "## A. 로지스틱\n",
        "\n",
        "$$\\underset{(n,1)}{\\bf X} \\overset{l_1}{\\to} \\underset{(n,1)}{\\boldsymbol u^{(1)}} \\overset{sig}{\\to} \\underset{(n,1)}{\\boldsymbol v^{(1)}} =\\underset{(n,1)}{\\hat{\\boldsymbol y}}$$\n",
        "\n",
        "`-` 모든 observation과 가중치를 명시한 버전\n",
        "\n",
        "**(표현1)**\n",
        "\n",
        "![](https://guebin.github.io/DL2022/posts/II.%20DNN/2022-10-11-6wk-2_files/figure-html/cell-4-output-1.svg)\n",
        "\n",
        "-   단점: 똑같은 그림의 반복이 너무 많음\n",
        "\n",
        "`-` observation 반복을 생략한 버전들\n",
        "\n",
        "**(표현2)** 모든 $i$에 대하여 아래의 그림을 반복한다고 하면 (표현1)과\n",
        "같다.\n",
        "\n",
        "![](https://guebin.github.io/DL2022/posts/II.%20DNN/2022-10-11-6wk-2_files/figure-html/cell-5-output-1.svg)\n",
        "\n",
        "**(표현3)** 그런데 (표현2)에서 아래와 같이 $x_i$, $y_i$ 대신에 간단히\n",
        "$x$, $y$로 쓰는 경우도 많음\n",
        "\n",
        "![](https://guebin.github.io/DL2022/posts/II.%20DNN/2022-10-11-6wk-2_files/figure-html/cell-6-output-1.svg)\n",
        "\n",
        "`-` 1을 생략한 버전들\n",
        "\n",
        "**(표현4)** bais=False 대신에 bias=True를 주면 1을 생략할 수 있음\n",
        "\n",
        "![](https://guebin.github.io/DL2022/posts/II.%20DNN/2022-10-11-6wk-2_files/figure-html/cell-7-output-1.svg)\n",
        "\n",
        "**(표현4의 수정)** $\\hat{w}_1$대신에 $\\hat{w}$를 쓰는 것이 더 자연스러움\n",
        "\n",
        "![](https://guebin.github.io/DL2022/posts/II.%20DNN/2022-10-11-6wk-2_files/figure-html/cell-8-output-1.svg)\n",
        "\n",
        "**(표현5)** 선형변환의 결과는 아래와 같이 $u$로 표현하기도 한다.\n",
        "\n",
        "![](https://guebin.github.io/DL2022/posts/II.%20DNN/2022-10-11-6wk-2_files/figure-html/cell-9-output-1.svg)\n",
        "\n",
        "> 다이어그램은 그리는 사람의 취향에 따라 그리는 방법이 조금씩 다릅니다.\n",
        "> 즉 교재마다 달라요.\n",
        "\n",
        "## B. 스펙의역설\n",
        "\n",
        "$$\\underset{(n,1)}{\\bf X} \\overset{l_1}{\\to} \\underset{(n,2)}{\\boldsymbol u^{(1)}} \\overset{relu}{\\to} \\underset{(n,2)}{\\boldsymbol v^{(1)}} \\overset{l_2}{\\to} \\underset{(n,1)}{\\boldsymbol u^{(2)}} \\overset{sig}{\\to} \\underset{(n,1)}{\\boldsymbol v^{(2)}} =\\underset{(n,1)}{\\hat{\\boldsymbol y}}$$\n",
        "\n",
        "**참고: 코드로 표현**\n",
        "\n",
        "``` python\n",
        "torch.nn.Sequential(\n",
        "    torch.nn.Linear(in_features=1,out_features=2),\n",
        "    torch.nn.ReLU(),\n",
        "    torch.nn.Linear(in_features=2,out_features=1),\n",
        "    torch.nn.Sigmoid()\n",
        ")\n",
        "```\n",
        "\n",
        "`-` 이해를 위해서 예젠에 다루었던 아래의 상황을 고려하자.\n",
        "\n",
        "![](https://guebin.github.io/DL2024/posts/03wk-2_files/figure-html/cell-11-output-1.png)\n",
        "\n",
        "**(강의노트의 표현)**\n",
        "\n",
        "![](https://guebin.github.io/DL2022/posts/II.%20DNN/2022-10-11-6wk-2_files/figure-html/cell-10-output-1.svg)\n",
        "\n",
        "**(좀 더 일반화된 표현)** 상황을 일반화하면 아래와 같다.\n",
        "\n",
        "![](https://guebin.github.io/DL2022/posts/II.%20DNN/2022-10-11-6wk-2_files/figure-html/cell-11-output-1.svg)\n",
        "\n",
        "`*` Layer의 개념: ${\\bf X}$에서 $\\hat{\\boldsymbol y}$로 가는 과정은\n",
        "“선형변환+비선형변환”이 반복되는 구조이다. “선형변환+비선형변환”을\n",
        "하나의 세트로 보면 아래와 같이 표현할 수 있다.\n",
        "\n",
        "-   $\\underset{(n,1)}{\\bf X}  \\overset{l_1}{\\to} \\left( \\underset{(n,2)}{\\boldsymbol u^{(1)}} \\overset{relu}{\\to} \\underset{(n,2)}{\\boldsymbol v^{(1)}} \\right) \\overset{l_2}{\\to} \\left(\\underset{(n,1)}{\\boldsymbol u^{(2)}} \\overset{sig}{\\to} \\underset{(n,1)}{\\boldsymbol v^{(2)}}\\right), \\quad  \\underset{(n,1)}{\\boldsymbol v^{(2)}}=\\underset{(n,1)}{net({\\bf X})}=\\underset{(n,1)}{\\hat{\\boldsymbol y}}$\n",
        "\n",
        "이것을 다이어그램으로 표현한다면 아래와 같다.\n",
        "\n",
        "**(선형+비선형을 하나의 Layer로 묶은 표현)**\n",
        "\n",
        "![](https://guebin.github.io/DL2022/posts/II.%20DNN/2022-10-11-6wk-2_files/figure-html/cell-12-output-1.svg)\n",
        "\n",
        "***Layer를 세는 방법***\n",
        "\n",
        "-   제 방식: 학습가능한 파라메터가 몇층으로 있는지… \\<– 이것만\n",
        "    기억하세여\n",
        "-   일부 교재 설명: 입력층은 계산하지 않음, activation layer는 계산하지\n",
        "    않음. \\<– 무시하세요.. 이러면 헷갈립니다..\n",
        "-   위의 예제의 경우 `number of layer = 2` 이다.\n",
        "\n",
        "***Hidden Layer의 수를 세는 방법***\n",
        "\n",
        "-   제 방식: `Hidden Layer의 수 = Layer의 수 -1` \\<– 이걸 기억하세여..  \n",
        "-   일부 교재 설명:\n",
        "    `Layer의 수 = Hidden Layer의 수 + 출력층의 수 = Hidden Layer의 수 + 1`\n",
        "    \\<– 기억하지 마세여\n",
        "-   위의 예제의 경우 `number of hidden layer = 1` 이다.\n",
        "\n",
        "> **Important**\n",
        ">\n",
        "> 무조건 학습가능한 파라메터가 몇겹으로 있는지만 판단하세요. 딴거\n",
        "> 아무것도 생각하지마세여\n",
        ">\n",
        "> ``` python\n",
        "> ## 예시1 -- 2층 (히든레이어는 1층)\n",
        "> torch.nn.Sequential(\n",
        ">     torch.nn.Linear(??,??), ## <-- 학습해야할 가중치가 있는 층\n",
        ">     torch.nn.ReLU(),\n",
        ">     torch.nn.Linear(??,??), ## <-- 학습해야할 가중치가 있는 층\n",
        "> )\n",
        "> ```\n",
        ">\n",
        "> ``` python\n",
        "> ## 예시2 -- 2층 (히든레이어는 1층)\n",
        "> torch.nn.Sequential(\n",
        ">     torch.nn.Linear(??,??), ## <-- 학습해야할 가중치가 있는 층\n",
        ">     torch.nn.ReLU(),\n",
        ">     torch.nn.Linear(??,??), ## <-- 학습해야할 가중치가 있는 층\n",
        ">     torch.nn.Sigmoid(),\n",
        "> )\n",
        "> ```\n",
        ">\n",
        "> ``` python\n",
        "> ## 예시3 -- 1층 (히든레이어는 없음!!)\n",
        "> torch.nn.Sequential(\n",
        ">     torch.nn.Linear(??,??), ## <-- 학습해야할 가중치가 있는 층\n",
        "> ) \n",
        "> ```\n",
        ">\n",
        "> ``` python\n",
        "> ## 예시4 -- 1층 (히든레이어는 없음!!)\n",
        "> torch.nn.Sequential(\n",
        ">     torch.nn.Linear(??,??), ## <-- 학습해야할 가중치가 있는 층\n",
        ">     torch.nn.Sigmoid()\n",
        "> ) \n",
        "> ```\n",
        ">\n",
        "> ``` python\n",
        "> ## 예시5 -- 3층 (히든레이어는 2층)\n",
        "> torch.nn.Sequential(\n",
        ">     torch.nn.Linear(??,??), ## <-- 학습해야할 가중치가 있는 층\n",
        ">     torch.nn.Sigmoid()\n",
        ">     torch.nn.Linear(??,??), ## <-- 학습해야할 가중치가 있는 층\n",
        ">     torch.nn.Sigmoid()\n",
        ">     torch.nn.Linear(??,??), ## <-- 학습해야할 가중치가 있는 층    \n",
        "> ) \n",
        "> ```\n",
        ">\n",
        "> ``` python\n",
        "> ## 예시6 -- 3층 (히든레이어는 2층)\n",
        "> torch.nn.Sequential(\n",
        ">     torch.nn.Linear(??,??), ## <-- 학습해야할 가중치가 있는 층\n",
        ">     torch.nn.ReLU()\n",
        ">     torch.nn.Dropout(??)\n",
        ">     torch.nn.Linear(??,??), ## <-- 학습해야할 가중치가 있는 층\n",
        ">     torch.nn.ReLU()\n",
        ">     torch.nn.Dropout(??)\n",
        ">     torch.nn.Linear(??,??), ## <-- 학습해야할 가중치가 있는 층  \n",
        ">     torch.nn.Sigmoid()\n",
        "> ) \n",
        "> ```\n",
        "\n",
        "> **Important**\n",
        ">\n",
        "> 문헌에 따라서 레이어를 세는 개념이 제가 설명한 방식과 다른경우가\n",
        "> 있습니다. 제가 설명한 방식보다 1씩 더해서 셉니다. 즉 아래의 경우\n",
        "> 레이어를 3개로 카운트합니다.\n",
        ">\n",
        "> ``` python\n",
        "> ## 예시1 -- 문헌에 따라 3층으로 세는 경우가 있음 (히든레이어는 1층)\n",
        "> torch.nn.Sequential(\n",
        ">     torch.nn.Linear(??,??), ## <-- 학습해야할 가중치가 있는 층\n",
        ">     torch.nn.ReLU(),\n",
        ">     torch.nn.Linear(??,??), ## <-- 학습해야할 가중치가 있는 층\n",
        ">     torch.nn.Sigmoid()\n",
        "> )\n",
        "> ```\n",
        ">\n",
        "> 예를 들어\n",
        "> [여기](https://en.wikipedia.org/wiki/Multilayer_perceptron#Layers)에서는\n",
        "> 위의 경우 레이어는 3개라고 설명하고 있습니다. 이러한 카운팅은\n",
        "> **“무시”하세요. 제가 설명한 방식이 맞아요.** [이\n",
        "> 링크](https://en.wikipedia.org/wiki/Multilayer_perceptron#Layers)\n",
        "> 잘못(?) 나와있는 이유는 아래와 같습니다.\n",
        ">\n",
        "> `-` 진짜 예전에 MLP를 소개할 초창기에서는 위의 경우 Layer를 3개로\n",
        "> 셌음. (Rosenblatt et al. 1962)\n",
        ">\n",
        "> `-` 그런데 요즘은 그렇게 안셈.. (그리고 애초에 MLP라는 용어도 잘\n",
        "> 안쓰죠..)\n",
        ">\n",
        "> 참고로 히든레이어의 수는 예전방식이나 지금방식이나 동일하게\n",
        "> 카운트하므로 히든레이어만 세면 혼돈이 없습니다.\n",
        "\n",
        "`*` node의 개념: $u\\to v$로 가는 쌍을 간단히 노드라는 개념을 이용하여\n",
        "나타낼 수 있음.\n",
        "\n",
        "**(노드의 개념이 포함된 그림)**\n",
        "\n",
        "![](https://guebin.github.io/DL2022/posts/II.%20DNN/2022-10-11-6wk-2_files/figure-html/cell-13-output-1.svg)\n",
        "\n",
        "여기에서 `node의 숫자 = feature의 숫자`와 같이 이해할 수 있다. 즉 아래와\n",
        "같이 이해할 수 있다.\n",
        "\n",
        "**(“number of nodes = number of features”로 이해한 그림)**\n",
        "\n",
        "![](https://guebin.github.io/DL2022/posts/II.%20DNN/2022-10-11-6wk-2_files/figure-html/cell-14-output-1.svg)\n",
        "\n",
        "> 다이어그램의 표현방식은 교재마다 달라서 모든 예시를 달달 외울 필요는\n",
        "> 없습니다. 다만 임의의 다이어그램을 보고 대응하는 네트워크를 pytorch로\n",
        "> 구현하는 능력은 매우 중요합니다.\n",
        "\n",
        "## C. MNIST\n",
        "\n",
        "$$\\underset{(n,784)}{\\bf X} \\overset{l_1}{\\to} \\underset{(n,32)}{\\boldsymbol u^{(1)}} \\overset{relu}{\\to} \\underset{(n,32)}{\\boldsymbol v^{(1)}} \\overset{l_1}{\\to} \\underset{(n,1)}{\\boldsymbol u^{(2)}} \\overset{sig}{\\to} \\underset{(n,1)}{\\boldsymbol v^{(2)}}=\\underset{(n,1)}{\\hat{\\boldsymbol y}}$$\n",
        "\n",
        "**(다이어그램표현)**\n",
        "\n",
        "![](https://guebin.github.io/DL2022/posts/II.%20DNN/2022-10-11-6wk-2_files/figure-html/cell-15-output-1.svg)\n",
        "\n",
        "-   Layer0,1,2 대신에 Input Layer, Hidden Layer, Output Layer로 표현함\n",
        "\n",
        "`-` 위의 다이어그램에 대응하는 코드\n",
        "\n",
        "``` python\n",
        "net = torch.nn.Sequential(\n",
        "    torch.nn.Linear(in_features=28*28*1,out_features=32),\n",
        "    torch.nn.ReLU(),\n",
        "    torch.nn.Linear(in_features=32,out_features=1),\n",
        "    torch.nn.Sigmoid() \n",
        ")\n",
        "```\n",
        "\n",
        "# 4. CPU vs GPU\n",
        "\n",
        "`-` 파이토치에서 GPU를 쓰는 방법을 알아보자. (사실 지금까지 우리는 CPU만\n",
        "쓰고 있었음)\n",
        "\n",
        "`-` 코랩에서 GPU설정하는 방법: (아래영상참고)\n",
        "\n",
        "<https://youtu.be/GyBL2YBCzoc>\n",
        "\n",
        "## A. GPU 사용방법\n",
        "\n",
        "`-` cpu 연산이 가능한 메모리에 데이터 저장"
      ],
      "id": "f15f7cff-54d8-45fa-8924-158818a1bbe4"
    },
    {
      "cell_type": "code",
      "execution_count": 6,
      "metadata": {},
      "outputs": [],
      "source": [
        "torch.manual_seed(43052)\n",
        "x_cpu = torch.tensor([0.0,0.1,0.2]).reshape(-1,1) \n",
        "y_cpu = torch.tensor([0.0,0.2,0.4]).reshape(-1,1) \n",
        "net_cpu = torch.nn.Linear(1,1) "
      ],
      "id": "16929386-694f-4ec7-a853-7d10bc80948e"
    },
    {
      "cell_type": "markdown",
      "metadata": {},
      "source": [
        "`-` gpu 연산이 가능한 메모리에 데이터 저장"
      ],
      "id": "392ca293-d7e8-40b2-b320-d3882944fda9"
    },
    {
      "cell_type": "code",
      "execution_count": 7,
      "metadata": {},
      "outputs": [
        {
          "output_type": "stream",
          "name": "stdout",
          "text": [
            "Mon Apr  7 09:48:42 2025       \n",
            "+---------------------------------------------------------------------------------------+\n",
            "| NVIDIA-SMI 535.230.02             Driver Version: 535.230.02   CUDA Version: 12.2     |\n",
            "|-----------------------------------------+----------------------+----------------------+\n",
            "| GPU  Name                 Persistence-M | Bus-Id        Disp.A | Volatile Uncorr. ECC |\n",
            "| Fan  Temp   Perf          Pwr:Usage/Cap |         Memory-Usage | GPU-Util  Compute M. |\n",
            "|                                         |                      |               MIG M. |\n",
            "|=========================================+======================+======================|\n",
            "|   0  NVIDIA GeForce RTX 3090        Off | 00000000:09:00.0 Off |                  N/A |\n",
            "|  0%   29C    P8              27W / 420W |     26MiB / 24576MiB |      0%      Default |\n",
            "|                                         |                      |                  N/A |\n",
            "+-----------------------------------------+----------------------+----------------------+\n",
            "                                                                                         \n",
            "+---------------------------------------------------------------------------------------+\n",
            "| Processes:                                                                            |\n",
            "|  GPU   GI   CI        PID   Type   Process name                            GPU Memory |\n",
            "|        ID   ID                                                             Usage      |\n",
            "|=======================================================================================|\n",
            "|    0   N/A  N/A      1152      G   /usr/lib/xorg/Xorg                            9MiB |\n",
            "|    0   N/A  N/A      1471      G   /usr/bin/gnome-shell                          8MiB |\n",
            "+---------------------------------------------------------------------------------------+"
          ]
        }
      ],
      "source": [
        "!nvidia-smi # before"
      ],
      "id": "e01457f2-44a0-45fe-8cde-59c7c83a7505"
    },
    {
      "cell_type": "code",
      "execution_count": 8,
      "metadata": {},
      "outputs": [],
      "source": [
        "torch.manual_seed(43052)\n",
        "x_gpu = x_cpu.to(\"cuda:0\")\n",
        "y_gpu = y_cpu.to(\"cuda:0\")\n",
        "net_gpu = torch.nn.Linear(1,1).to(\"cuda:0\") "
      ],
      "id": "734a9610-7ce1-4257-98b0-44b93627d1a0"
    },
    {
      "cell_type": "code",
      "execution_count": 9,
      "metadata": {},
      "outputs": [
        {
          "output_type": "stream",
          "name": "stdout",
          "text": [
            "Mon Apr  7 09:48:43 2025       \n",
            "+---------------------------------------------------------------------------------------+\n",
            "| NVIDIA-SMI 535.230.02             Driver Version: 535.230.02   CUDA Version: 12.2     |\n",
            "|-----------------------------------------+----------------------+----------------------+\n",
            "| GPU  Name                 Persistence-M | Bus-Id        Disp.A | Volatile Uncorr. ECC |\n",
            "| Fan  Temp   Perf          Pwr:Usage/Cap |         Memory-Usage | GPU-Util  Compute M. |\n",
            "|                                         |                      |               MIG M. |\n",
            "|=========================================+======================+======================|\n",
            "|   0  NVIDIA GeForce RTX 3090        Off | 00000000:09:00.0 Off |                  N/A |\n",
            "|  0%   34C    P2              65W / 420W |    287MiB / 24576MiB |      0%      Default |\n",
            "|                                         |                      |                  N/A |\n",
            "+-----------------------------------------+----------------------+----------------------+\n",
            "                                                                                         \n",
            "+---------------------------------------------------------------------------------------+\n",
            "| Processes:                                                                            |\n",
            "|  GPU   GI   CI        PID   Type   Process name                            GPU Memory |\n",
            "|        ID   ID                                                             Usage      |\n",
            "|=======================================================================================|\n",
            "|    0   N/A  N/A      1152      G   /usr/lib/xorg/Xorg                            9MiB |\n",
            "|    0   N/A  N/A      1471      G   /usr/bin/gnome-shell                          8MiB |\n",
            "|    0   N/A  N/A    140211      C   ...b3/anaconda3/envs/dl2025/bin/python      256MiB |\n",
            "+---------------------------------------------------------------------------------------+"
          ]
        }
      ],
      "source": [
        "!nvidia-smi"
      ],
      "id": "700443b5-28ac-43c7-b539-0a3ccfef3362"
    },
    {
      "cell_type": "markdown",
      "metadata": {},
      "source": [
        "> GPU에 메모리를 올리면 GPU메모리가 점유된다! (26MiB -\\> 287MiB)\n",
        "\n",
        "`-` cpu 혹은 gpu 연산이 가능한 메모리에 저장된 값들을 확인"
      ],
      "id": "35de1eac-f0ee-4b23-a774-498bc8d91568"
    },
    {
      "cell_type": "code",
      "execution_count": 10,
      "metadata": {},
      "outputs": [],
      "source": [
        "x_cpu, y_cpu, net_cpu.weight, net_cpu.bias"
      ],
      "id": "c36f0009-9888-4391-9240-10d0a90a69f3"
    },
    {
      "cell_type": "code",
      "execution_count": 11,
      "metadata": {},
      "outputs": [],
      "source": [
        "x_gpu, y_gpu, net_gpu.weight, net_gpu.bias"
      ],
      "id": "a4316728-4b5b-45fe-910d-4b0798cce02a"
    },
    {
      "cell_type": "markdown",
      "metadata": {},
      "source": [
        "`-` gpu는 gpu끼리 연산가능하고 cpu는 cpu끼리 연산가능함\n",
        "\n",
        "(예시1)"
      ],
      "id": "c7cdead8-ccec-4b07-b642-c89b24c7cf58"
    },
    {
      "cell_type": "code",
      "execution_count": 12,
      "metadata": {},
      "outputs": [],
      "source": [
        "net_cpu(x_cpu) "
      ],
      "id": "bd46aeea-1dc9-4fe9-a0e1-e8549f1fe1d3"
    },
    {
      "cell_type": "markdown",
      "metadata": {},
      "source": [
        "(예시2)"
      ],
      "id": "3d3a7477-25be-406c-ba02-2f2e8a62a6b1"
    },
    {
      "cell_type": "code",
      "execution_count": 13,
      "metadata": {},
      "outputs": [],
      "source": [
        "net_gpu(x_gpu) "
      ],
      "id": "52c478d5-082b-4c17-806f-7eb230f155aa"
    },
    {
      "cell_type": "markdown",
      "metadata": {},
      "source": [
        "(예시3)"
      ],
      "id": "b9717d68-4bbe-450f-b8dd-5fbf470a8b24"
    },
    {
      "cell_type": "code",
      "execution_count": 14,
      "metadata": {},
      "outputs": [],
      "source": [
        "net_cpu(x_gpu) "
      ],
      "id": "912a15c5-8fea-41cb-81d3-742a5a795dda"
    },
    {
      "cell_type": "markdown",
      "metadata": {},
      "source": [
        "(예시4)"
      ],
      "id": "795edb80-2265-4e2e-9d12-58358b9dc133"
    },
    {
      "cell_type": "code",
      "execution_count": 15,
      "metadata": {},
      "outputs": [],
      "source": [
        "net_gpu(x_cpu)"
      ],
      "id": "675fd38d-6521-439c-bed0-0594365b7653"
    },
    {
      "cell_type": "markdown",
      "metadata": {},
      "source": [
        "(예시5)"
      ],
      "id": "0190ccd1-2805-4ed9-b853-2dbe0513fbc6"
    },
    {
      "cell_type": "code",
      "execution_count": 16,
      "metadata": {},
      "outputs": [],
      "source": [
        "torch.mean((y_cpu-net_cpu(x_cpu))**2)"
      ],
      "id": "ee5cf674-7d28-48af-acf3-d2bc024b14c8"
    },
    {
      "cell_type": "markdown",
      "metadata": {},
      "source": [
        "(예시6)"
      ],
      "id": "0e5cc7bf-1904-4d05-8534-132402d14576"
    },
    {
      "cell_type": "code",
      "execution_count": 17,
      "metadata": {},
      "outputs": [],
      "source": [
        "torch.mean((y_gpu-net_gpu(x_gpu))**2)"
      ],
      "id": "3b6ffcde-3815-46eb-9229-62a8f78366dc"
    },
    {
      "cell_type": "markdown",
      "metadata": {},
      "source": [
        "(예시7)"
      ],
      "id": "40e1c425-44a5-4464-953d-ff570c4bf388"
    },
    {
      "cell_type": "code",
      "execution_count": 18,
      "metadata": {},
      "outputs": [],
      "source": [
        "torch.mean((y_gpu-net_cpu(x_cpu))**2)"
      ],
      "id": "a4036cc2-8e7d-4a60-bd9b-ba8183822fdf"
    },
    {
      "cell_type": "markdown",
      "metadata": {},
      "source": [
        "(예시8)"
      ],
      "id": "22ec1024-b6cf-4c18-9ae3-54b0ac182f01"
    },
    {
      "cell_type": "code",
      "execution_count": 19,
      "metadata": {},
      "outputs": [],
      "source": [
        "torch.mean((y_cpu-net_gpu(x_gpu))**2)"
      ],
      "id": "bc0193e3-3ac4-4bb9-99fe-7d63c2160212"
    },
    {
      "cell_type": "markdown",
      "metadata": {},
      "source": [
        "## B. 시간측정 (예비학습)"
      ],
      "id": "83487fb0-b425-4d86-aa3b-7d04205dc113"
    },
    {
      "cell_type": "code",
      "execution_count": 20,
      "metadata": {},
      "outputs": [],
      "source": [
        "import time "
      ],
      "id": "7aaed327-106f-4afd-a64f-259b2aa09935"
    },
    {
      "cell_type": "code",
      "execution_count": 21,
      "metadata": {},
      "outputs": [],
      "source": [
        "t1 = time.time()"
      ],
      "id": "947ad6de-69d9-40f8-8ca9-a425c1cd3c97"
    },
    {
      "cell_type": "code",
      "execution_count": 22,
      "metadata": {},
      "outputs": [],
      "source": [
        "t2 = time.time()"
      ],
      "id": "8956dad0-4b77-426f-8298-15251b247095"
    },
    {
      "cell_type": "code",
      "execution_count": 23,
      "metadata": {},
      "outputs": [],
      "source": [
        "t2-t1"
      ],
      "id": "f9efce69-8064-468d-af2d-cd3e21076325"
    },
    {
      "cell_type": "markdown",
      "metadata": {},
      "source": [
        "## C. CPU vs GPU (500 nodes)\n",
        "\n",
        "`-` CPU (500 nodes)"
      ],
      "id": "80a4ca9a-904a-4602-972d-bd032e7ac770"
    },
    {
      "cell_type": "code",
      "execution_count": 24,
      "metadata": {},
      "outputs": [],
      "source": [
        "torch.manual_seed(5) \n",
        "x=torch.linspace(0,1,100).reshape(-1,1)\n",
        "y=torch.randn(100).reshape(-1,1)*0.01\n",
        "#---#\n",
        "net = torch.nn.Sequential(\n",
        "    torch.nn.Linear(1,500),\n",
        "    torch.nn.ReLU(),\n",
        "    torch.nn.Linear(500,1)\n",
        ")\n",
        "loss_fn = torch.nn.MSELoss()\n",
        "optimizr = torch.optim.Adam(net.parameters())\n",
        "#---#\n",
        "t1 = time.time()\n",
        "for epoc in range(1000):\n",
        "    # 1 \n",
        "    yhat = net(x)\n",
        "    # 2 \n",
        "    loss = loss_fn(yhat,y)\n",
        "    # 3 \n",
        "    loss.backward()\n",
        "    # 4 \n",
        "    optimizr.step()\n",
        "    optimizr.zero_grad()\n",
        "t2 = time.time()\n",
        "t2-t1"
      ],
      "id": "bfb330ca-9284-403d-ae06-153cd57b7e77"
    },
    {
      "cell_type": "markdown",
      "metadata": {},
      "source": [
        "`-` GPU (500 nodes)"
      ],
      "id": "157ebde4-4126-4eb8-81d2-15ed434661ae"
    },
    {
      "cell_type": "code",
      "execution_count": 25,
      "metadata": {},
      "outputs": [],
      "source": [
        "torch.manual_seed(5) \n",
        "x=torch.linspace(0,1,100).reshape(-1,1).to(\"cuda:0\")\n",
        "y=(torch.randn(100).reshape(-1,1)*0.01).to(\"cuda:0\")\n",
        "#---#\n",
        "net = torch.nn.Sequential(\n",
        "    torch.nn.Linear(1,500),\n",
        "    torch.nn.ReLU(),\n",
        "    torch.nn.Linear(500,1)\n",
        ").to(\"cuda:0\")\n",
        "loss_fn = torch.nn.MSELoss()\n",
        "optimizr = torch.optim.Adam(net.parameters())\n",
        "#---#\n",
        "t1 = time.time()\n",
        "for epoc in range(1000):\n",
        "    # 1 \n",
        "    yhat = net(x)\n",
        "    # 2 \n",
        "    loss = loss_fn(yhat,y)\n",
        "    # 3 \n",
        "    loss.backward()\n",
        "    # 4 \n",
        "    optimizr.step()\n",
        "    optimizr.zero_grad()\n",
        "t2 = time.time()\n",
        "t2-t1"
      ],
      "id": "c47f305b-f69a-4262-8768-fe810ae0025c"
    },
    {
      "cell_type": "markdown",
      "metadata": {},
      "source": [
        "-   CPU가 더 빠르다??\n",
        "\n",
        "## D. CPU vs GPU (200,000 nodes)\n",
        "\n",
        "`-` CPU (200,000)"
      ],
      "id": "99cd484a-5f9a-46d4-8b92-f46d79f6dbb5"
    },
    {
      "cell_type": "code",
      "execution_count": 25,
      "metadata": {},
      "outputs": [],
      "source": [
        "torch.manual_seed(5) \n",
        "x=torch.linspace(0,1,100).reshape(-1,1)\n",
        "y=torch.randn(100).reshape(-1,1)*0.01\n",
        "#---#\n",
        "net = torch.nn.Sequential(\n",
        "    torch.nn.Linear(1,200000),\n",
        "    torch.nn.ReLU(),\n",
        "    torch.nn.Linear(200000,1)\n",
        ")\n",
        "loss_fn = torch.nn.MSELoss()\n",
        "optimizr = torch.optim.Adam(net.parameters())\n",
        "#---#\n",
        "t1 = time.time()\n",
        "for epoc in range(1000):\n",
        "    # 1 \n",
        "    yhat = net(x)\n",
        "    # 2 \n",
        "    loss = loss_fn(yhat,y)\n",
        "    # 3 \n",
        "    loss.backward()\n",
        "    # 4 \n",
        "    optimizr.step()\n",
        "    optimizr.zero_grad()\n",
        "t2 = time.time()\n",
        "t2-t1"
      ],
      "id": "7297f5cc-a937-4c2b-bb7f-e7b8f178a965"
    },
    {
      "cell_type": "markdown",
      "metadata": {},
      "source": [
        "`-` GPU (204,800)"
      ],
      "id": "c934a63f-a405-40d3-83f9-0a04699d564a"
    },
    {
      "cell_type": "code",
      "execution_count": 26,
      "metadata": {},
      "outputs": [],
      "source": [
        "torch.manual_seed(5) \n",
        "x=torch.linspace(0,1,100).reshape(-1,1).to(\"cuda:0\")\n",
        "y=(torch.randn(100).reshape(-1,1)*0.01).to(\"cuda:0\")\n",
        "#---#\n",
        "net = torch.nn.Sequential(\n",
        "    torch.nn.Linear(1,200000),\n",
        "    torch.nn.ReLU(),\n",
        "    torch.nn.Linear(200000,1)\n",
        ").to(\"cuda:0\")\n",
        "loss_fn = torch.nn.MSELoss()\n",
        "optimizr = torch.optim.Adam(net.parameters())\n",
        "#---#\n",
        "t1 = time.time()\n",
        "for epoc in range(1000):\n",
        "    # 1 \n",
        "    yhat = net(x)\n",
        "    # 2 \n",
        "    loss = loss_fn(yhat,y)\n",
        "    # 3 \n",
        "    loss.backward()\n",
        "    # 4 \n",
        "    optimizr.step()\n",
        "    optimizr.zero_grad()\n",
        "t2 = time.time()\n",
        "t2-t1"
      ],
      "id": "450616dc-2b31-442f-a3a4-f233bc8773a3"
    },
    {
      "cell_type": "markdown",
      "metadata": {},
      "source": [
        "-   왜 이런 차이가 나는가?\n",
        "-   연산을 하는 주체는 코어인데 CPU는 수는 적지만 일을 잘하는 코어들을\n",
        "    가지고 있고 GPU는 일은 못하지만 다수의 코어를 가지고 있기 때문\n",
        "\n",
        "## E. 주의점\n",
        "\n",
        "`-` tensor 일 경우"
      ],
      "id": "fe131d31-b098-435c-9120-146b5293ea02"
    },
    {
      "cell_type": "code",
      "execution_count": 31,
      "metadata": {},
      "outputs": [],
      "source": [
        "x = torch.tensor([1,2,3])\n",
        "x.to(\"cuda:0\"), x"
      ],
      "id": "ff40fb34-846f-44b3-b2e3-962f9c6234b2"
    },
    {
      "cell_type": "markdown",
      "metadata": {},
      "source": [
        "`-` net일 경우"
      ],
      "id": "837fd008-86d3-45d3-bf00-e0009c8b0972"
    },
    {
      "cell_type": "code",
      "execution_count": 34,
      "metadata": {},
      "outputs": [],
      "source": [
        "net = torch.nn.Linear(1,1).to(\"cuda:0\")\n",
        "net.weight, net.bias"
      ],
      "id": "b6841a85-8cd4-4422-80ec-7e146ffe5849"
    },
    {
      "cell_type": "markdown",
      "metadata": {},
      "source": [
        "# 5. “확률적” 경사하강법\n",
        "\n",
        "## A. 의문: 좀 이상하지 않아요?\n",
        "\n",
        "`-` 국민상식: GPU 비싸요..\n",
        "<https://bbs.ruliweb.com/community/board/300143/read/61066881>\n",
        "\n",
        "-   GPU 메모리 많아봐야 24GB, 그래도 비싸요..\n",
        "    <http://shop.danawa.com/virtualestimate/?controller=estimateMain&methods=index&marketPlaceSeq=16>\n",
        "-   GPU 메모리가 80GB일 경우 가격:\n",
        "    <https://prod.danawa.com/info/?pcode=21458333>\n",
        "\n",
        "`-` 우리가 분석하는 데이터: 빅데이터..?"
      ],
      "id": "e1aa1232-8f1e-4cca-aecc-128a86c33272"
    },
    {
      "cell_type": "code",
      "execution_count": 39,
      "metadata": {},
      "outputs": [],
      "source": [
        "x = torch.linspace(-10,10,100000).reshape(-1,1)\n",
        "eps = torch.randn(100000).reshape(-1,1)\n",
        "y = x*2 + eps "
      ],
      "id": "f82e8c13-7b42-4abd-977f-813a65c57995"
    },
    {
      "cell_type": "code",
      "execution_count": 40,
      "metadata": {},
      "outputs": [
        {
          "output_type": "display_data",
          "metadata": {},
          "data": {
            "image/png": "[encoded data removed]"
          }
        }
      ],
      "source": [
        "plt.plot(x,y,'.',alpha=0.05)\n",
        "plt.plot(x,2*x,'--')"
      ],
      "id": "c02fdaba-e694-4b6c-934d-d9441aa99204"
    },
    {
      "cell_type": "markdown",
      "metadata": {},
      "source": [
        "`-` 데이터의 크기가 커지는 순간 `x.to(\"cuda:0\")`, `y.to(\"cuda:0\")` 쓰면\n",
        "난리나겠는걸?\n",
        "\n",
        "`-` 데이터를 100개중에 1개만 꼴로만 쓰면 어떨까?"
      ],
      "id": "b6fb6de6-abe3-4c93-b069-24e96e72b168"
    },
    {
      "cell_type": "code",
      "execution_count": 41,
      "metadata": {},
      "outputs": [
        {
          "output_type": "display_data",
          "metadata": {},
          "data": {
            "image/png": "[encoded data removed]"
          }
        }
      ],
      "source": [
        "plt.plot(x[::100],y[::100],'o',alpha=0.05)\n",
        "plt.plot(x,2*x,'--')"
      ],
      "id": "4697a19c-8d55-4b48-8ab3-32b1679205db"
    },
    {
      "cell_type": "markdown",
      "metadata": {},
      "source": [
        "-   대충 이거만 가지고 적합해도 충분히 정확할것 같은데?\n",
        "\n",
        "## B. X,y 데이터를 굳이 모두 GPU에 넘겨야 하는가?\n",
        "\n",
        "`-` 데이터셋을 짝홀로 나누어서 번갈아가면서 GPU에 올렸다 내렸다하면\n",
        "안되나?\n",
        "\n",
        "`-` 아래의 알고리즘을 생각해보자.\n",
        "\n",
        "1.  데이터를 반으로 나눈다.\n",
        "2.  짝수obs의 x,y 그리고 net의 모든 파라메터를 GPU에 올린다.\n",
        "3.  yhat, loss, grad, update 수행\n",
        "4.  짝수obs의 x,y를 GPU메모리에서 내린다. 그리고 홀수obs의 x,y를\n",
        "    GPU메모리에 올린다.\n",
        "5.  yhat, loss, grad, update 수행\n",
        "6.  홀수obs의 x,y를 GPU메모리에서 내린다. 그리고 짝수obs의 x,y를\n",
        "    GPU메모리에 올린다.\n",
        "7.  반복\n",
        "\n",
        "> 이러면 되는거아니야???? —\\> 맞아요\n",
        "\n",
        "## C. 경사하강법, 확률적경사하강법, 미니배치 경사하강법\n",
        "\n",
        "10개의 샘플이 있다고 가정. $\\{(x_i,y_i)\\}_{i=1}^{10}$\n",
        "\n",
        "`# ver1` – 모든 샘플을 이용하여 slope 계산\n",
        "\n",
        "(epoch 1)\n",
        "$loss=\\sum_{i=1}^{10}(y_i-\\hat{w}_0-\\hat{w}_1x_i)^2 \\to slope  \\to update$\n",
        "\n",
        "(epoch 2)\n",
        "$loss=\\sum_{i=1}^{10}(y_i-\\hat{w}_0-\\hat{w}_1x_i)^2 \\to slope  \\to update$\n",
        "\n",
        "…\n",
        "\n",
        "> 우리가 항상 이렇게 했죠!\n",
        "\n",
        "`# ver2` – 하나의 샘플만을 이용하여 slope 계산\n",
        "\n",
        "(epoch 1)\n",
        "\n",
        "-   $loss=(y_1-\\hat{w}_0-\\hat{w}_1x_1)^2 \\to slope \\to update$\n",
        "-   $loss=(y_2-\\hat{w}_0-\\hat{w}_1x_2)^2 \\to slope \\to update$\n",
        "-   …\n",
        "-   $loss=(y_{10}-\\hat{w}_0-\\hat{w}_1x_{10})^2  \\to  slope  \\to  update$\n",
        "\n",
        "(epoch 2)\n",
        "\n",
        "-   $loss=(y_1-\\hat{w}_0-\\hat{w}_1x_1)^2  \\to slope  \\to  update$\n",
        "-   $loss=(y_2-\\hat{w}_0-\\hat{w}_1x_2)^2  \\to slope  \\to  update$\n",
        "-   …\n",
        "-   $loss=(y_{10}-\\hat{w}_0-\\hat{w}_1x_{10})^2  \\to  slope  \\to  update$\n",
        "\n",
        "…\n",
        "\n",
        "`# ver3` – $m (\\leq n)$ 개의 샘플을 이용하여 slope 계산\n",
        "\n",
        "$m=3$이라고 하자.\n",
        "\n",
        "(epoch 1)\n",
        "\n",
        "-   $loss=\\sum_{i=1}^{3}(y_i-\\hat{w}_0-\\hat{w}_1x_i)^2  \\to  slope  \\to  update$\n",
        "-   $loss=\\sum_{i=4}^{6}(y_i-\\hat{w}_0-\\hat{w}_1x_i)^2  \\to  slope  \\to  update$\n",
        "-   $loss=\\sum_{i=7}^{9}(y_i-\\hat{w}_0-\\hat{w}_1x_i)^2  \\to  slope  \\to  update$\n",
        "-   $loss=(y_{10}-\\hat{w}_0-\\hat{w}_1x_{10})^2  \\to  slope  \\to  update$\n",
        "\n",
        "(epoch 2)\n",
        "\n",
        "-   $loss=\\sum_{i=1}^{3}(y_i-\\hat{w}_0-\\hat{w}_1x_i)^2  \\to  slope  \\to  update$\n",
        "-   $loss=\\sum_{i=4}^{6}(y_i-\\hat{w}_0-\\hat{w}_1x_i)^2  \\to  slope  \\to  update$\n",
        "-   $loss=\\sum_{i=7}^{9}(y_i-\\hat{w}_0-\\hat{w}_1x_i)^2  \\to  slope  \\to  update$\n",
        "-   $loss=(y_{10}-\\hat{w}_0-\\hat{w}_1x_{10})^2  \\to  slope  \\to  update$\n",
        "\n",
        "…\n",
        "\n",
        "## D. 용어의 정리\n",
        "\n",
        "**옛날**\n",
        "\n",
        "`-` ver1(모든): gradient descent, batch gradient descent\n",
        "\n",
        "`-` ver2(하나만): stochastic gradient descent\n",
        "\n",
        "`-` ver3(몇개만): mini-batch gradient descent, mini-batch stochastic\n",
        "gradient descent\n",
        "\n",
        "**요즘**\n",
        "\n",
        "`-` ver1(모든): gradient descent\n",
        "\n",
        "`-` ver2(하나만): stochastic gradient descent with batch size = 1\n",
        "\n",
        "`-` **ver3(몇개만): stochastic gradient descent** -\n",
        "https://www.deeplearningbook.org/contents/optimization.html, 알고리즘\n",
        "8-1 참고.\n",
        "\n",
        "## E. Dataset(`ds`), DataLoader(`dl`)\n",
        "\n",
        "> 취지는 알겠으나, C의 과정을 실제 구현하려면 진짜 어려움.. (입코딩과\n",
        "> 손코딩의 차이) –\\> 이걸 해결하기 위해서 파이토치에서는 DataLoader라는\n",
        "> 오브젝트를 준비했음!\n",
        "\n",
        "`-` 데이터"
      ],
      "id": "75df718f-f555-4bb4-8424-7bf446bf97b3"
    },
    {
      "cell_type": "code",
      "execution_count": 762,
      "metadata": {},
      "outputs": [],
      "source": [
        "x=torch.tensor(range(10)).float().reshape(-1,1)\n",
        "y=torch.tensor([1.0]*5+[0.0]*5).reshape(-1,1)\n",
        "torch.concat([x,y],axis=1)"
      ],
      "id": "4d884847-d885-42e0-b703-e2261c306b70"
    },
    {
      "cell_type": "markdown",
      "metadata": {},
      "source": [
        "`-` `ds`오브젝트"
      ],
      "id": "c7211b5e-c468-4abc-b86a-198a3a3ddb75"
    },
    {
      "cell_type": "code",
      "execution_count": 47,
      "metadata": {},
      "outputs": [],
      "source": [
        "ds = torch.utils.data.TensorDataset(x,y)\n",
        "ds"
      ],
      "id": "6cb48c83-c220-44d9-ba9d-9dd66e03247a"
    },
    {
      "cell_type": "code",
      "execution_count": 45,
      "metadata": {},
      "outputs": [],
      "source": [
        "ds.tensors \n",
        "# 생긴건 ds.tensors = (x,y) 임"
      ],
      "id": "cd981f13-5459-432e-a724-37991fb1f901"
    },
    {
      "cell_type": "code",
      "execution_count": 39,
      "metadata": {},
      "outputs": [],
      "source": [
        "ds[0],(x,y)[0] # (x,y) 튜플자체는 아님.. 인덱싱이 다르게 동작"
      ],
      "id": "2a583e29-8259-49cf-87f3-23f9af8ead89"
    },
    {
      "cell_type": "markdown",
      "metadata": {},
      "source": [
        "`-` `dl` 오브젝트"
      ],
      "id": "e5eb5555-b641-42fa-900e-d1e4d66e5ab6"
    },
    {
      "cell_type": "code",
      "execution_count": 54,
      "metadata": {},
      "outputs": [],
      "source": [
        "dl = torch.utils.data.DataLoader(ds, batch_size=3)"
      ],
      "id": "4338f44c-b220-4c13-bae0-bd6282add7bd"
    },
    {
      "cell_type": "code",
      "execution_count": 55,
      "metadata": {},
      "outputs": [
        {
          "output_type": "stream",
          "name": "stdout",
          "text": [
            "x_batch:[[0.0], [1.0], [2.0]]    y_batch:[[1.0], [1.0], [1.0]]\n",
            "x_batch:[[3.0], [4.0], [5.0]]    y_batch:[[1.0], [1.0], [0.0]]\n",
            "x_batch:[[6.0], [7.0], [8.0]]    y_batch:[[0.0], [0.0], [0.0]]\n",
            "x_batch:[[9.0]]      y_batch:[[0.0]]"
          ]
        }
      ],
      "source": [
        "for xi,yi in dl:\n",
        "    print(f\"x_batch:{xi.tolist()} \\t y_batch:{yi.tolist()}\")"
      ],
      "id": "c447d368-fb53-41bb-a415-9753a1f05323"
    },
    {
      "cell_type": "markdown",
      "metadata": {},
      "source": [
        "`-` 마지막관측치는 뭔데 단독으로 업데이트하냐?? –\\> shuffle True 같이\n",
        "자잘한 옵션도 있음.."
      ],
      "id": "78cdff3c-1b94-4a44-9e8c-87632e4a1b89"
    },
    {
      "cell_type": "code",
      "execution_count": 57,
      "metadata": {},
      "outputs": [
        {
          "output_type": "stream",
          "name": "stdout",
          "text": [
            "x_batch=[[9.0], [1.0], [4.0]]    y_batch=[[0.0], [1.0], [1.0]]\n",
            "x_batch=[[7.0], [2.0], [3.0]]    y_batch=[[0.0], [1.0], [1.0]]\n",
            "x_batch=[[0.0], [6.0], [5.0]]    y_batch=[[1.0], [0.0], [0.0]]\n",
            "x_batch=[[8.0]]      y_batch=[[0.0]]"
          ]
        }
      ],
      "source": [
        "dl = torch.utils.data.DataLoader(ds,batch_size=3,shuffle=True)\n",
        "for xi,yi in dl:\n",
        "    print(f'x_batch={xi.tolist()} \\t y_batch={yi.tolist()}')"
      ],
      "id": "f1b9af3d-954d-488a-bd40-810be265c60c"
    },
    {
      "cell_type": "markdown",
      "metadata": {},
      "source": [
        "## F. 성능체크\n",
        "\n",
        "`-` 목표: 확률적경사하강법과 그냥 경사하강법의 성능을 “동일 반복횟수”로\n",
        "비교해보자.\n",
        "\n",
        "`-` 그냥 경사하강법 – 미니배치 안쓰는 학습, 우리가 맨날하는 그거"
      ],
      "id": "2c912e1d-1fd3-4f1c-bfe8-18313a74d587"
    },
    {
      "cell_type": "code",
      "execution_count": 434,
      "metadata": {},
      "outputs": [],
      "source": [
        "train_dataset = torchvision.datasets.MNIST(root='./data', train=True, download=True)\n",
        "to_tensor = torchvision.transforms.ToTensor()\n",
        "X0 = torch.stack([to_tensor(Xi) for Xi, yi in train_dataset if yi==0])\n",
        "X1 = torch.stack([to_tensor(Xi) for Xi, yi in train_dataset if yi==1])\n",
        "X = torch.concat([X0,X1],axis=0).reshape(-1,784)\n",
        "y = torch.tensor([0.0]*len(X0) + [1.0]*len(X1)).reshape(-1,1)"
      ],
      "id": "46966e72-bce9-4c32-a598-98d5b9e51b51"
    },
    {
      "cell_type": "code",
      "execution_count": 435,
      "metadata": {},
      "outputs": [],
      "source": [
        "torch.manual_seed(1)\n",
        "net = torch.nn.Sequential(\n",
        "    torch.nn.Linear(784,32),\n",
        "    torch.nn.ReLU(),\n",
        "    torch.nn.Linear(32,1),\n",
        "    torch.nn.Sigmoid()\n",
        ")\n",
        "loss_fn = torch.nn.BCELoss()\n",
        "optimizr = torch.optim.SGD(net.parameters())"
      ],
      "id": "2541944d-f78d-4d72-a28c-076085c1670b"
    },
    {
      "cell_type": "code",
      "execution_count": 436,
      "metadata": {},
      "outputs": [],
      "source": [
        "for epoc in range(700):\n",
        "    # step1 \n",
        "    yhat = net(X)\n",
        "    # step2 \n",
        "    loss = loss_fn(yhat,y)\n",
        "    # step3     \n",
        "    loss.backward()\n",
        "    # step4 \n",
        "    optimizr.step()\n",
        "    optimizr.zero_grad()    "
      ],
      "id": "7d70c913-a66a-40fe-bf9b-ff4353e0a423"
    },
    {
      "cell_type": "code",
      "execution_count": 438,
      "metadata": {},
      "outputs": [],
      "source": [
        "((yhat > 0.5) ==  y).float().mean()"
      ],
      "id": "a9a79d98-c27d-48b1-9192-ddc74361222e"
    },
    {
      "cell_type": "markdown",
      "metadata": {},
      "source": [
        "`-` “확률적”경사하강법 – 미니배치 쓰는 학습"
      ],
      "id": "a4169a90-09c5-400d-967a-1273db714129"
    },
    {
      "cell_type": "code",
      "execution_count": 439,
      "metadata": {},
      "outputs": [],
      "source": [
        "# train_dataset = torchvision.datasets.MNIST(root='./data', train=True, download=True)\n",
        "# to_tensor = torchvision.transforms.ToTensor()\n",
        "# X0 = torch.stack([to_tensor(Xi) for Xi, yi in train_dataset if yi==0])\n",
        "# X1 = torch.stack([to_tensor(Xi) for Xi, yi in train_dataset if yi==1])\n",
        "# X = torch.concat([X0,X1],axis=0).reshape(-1,784)\n",
        "# y = torch.tensor([0.0]*len(X0) + [1.0]*len(X1)).reshape(-1,1)\n",
        "ds = torch.utils.data.TensorDataset(X,y)\n",
        "dl = torch.utils.data.DataLoader(ds,batch_size=2048)"
      ],
      "id": "033a1e7d-a2ce-4fdc-a63e-e427bf8b7258"
    },
    {
      "cell_type": "code",
      "execution_count": 440,
      "metadata": {},
      "outputs": [],
      "source": [
        "torch.manual_seed(1)\n",
        "net = torch.nn.Sequential(\n",
        "    torch.nn.Linear(784,32),\n",
        "    torch.nn.ReLU(),\n",
        "    torch.nn.Linear(32,1),\n",
        "    torch.nn.Sigmoid()\n",
        ")\n",
        "loss_fn = torch.nn.BCELoss()\n",
        "optimizr = torch.optim.SGD(net.parameters())"
      ],
      "id": "3f2062f6-1f39-4395-82c1-a7f9c6a2dd7e"
    },
    {
      "cell_type": "code",
      "execution_count": 441,
      "metadata": {},
      "outputs": [],
      "source": [
        "for epoc in range(100):\n",
        "    for xi,yi in dl:        \n",
        "        # step1 \n",
        "        #yihat = net(xi)\n",
        "        # step2 \n",
        "        loss = loss_fn(net(xi),yi)\n",
        "        # step3     \n",
        "        loss.backward()\n",
        "        # step4 \n",
        "        optimizr.step()\n",
        "        optimizr.zero_grad()"
      ],
      "id": "9a336846-2443-4277-9edf-19060617fb33"
    },
    {
      "cell_type": "code",
      "execution_count": 443,
      "metadata": {},
      "outputs": [],
      "source": [
        "((net(X) > 0.5) ==  y).float().mean()"
      ],
      "id": "6d53c7e2-96ca-4e66-9fcd-abb9d5e06a37"
    },
    {
      "cell_type": "markdown",
      "metadata": {},
      "source": [
        "# 6. 데이터분석 코딩패턴\n",
        "\n",
        "## A. train/val/test\n",
        "\n",
        "`-` Step1: 데이터정리"
      ],
      "id": "3cfddc3c-9e13-4f74-a122-c3868953b57f"
    },
    {
      "cell_type": "code",
      "execution_count": 736,
      "metadata": {},
      "outputs": [],
      "source": [
        "train_dataset = torchvision.datasets.MNIST(root='./data', train=True, download=True)\n",
        "test_dataset = torchvision.datasets.MNIST(root='./data', train=False, download=True)\n",
        "to_tensor = torchvision.transforms.ToTensor()\n",
        "X0 = torch.stack([to_tensor(img) for img, lbl in train_dataset if lbl==0])\n",
        "X1 = torch.stack([to_tensor(img) for img, lbl in train_dataset if lbl==1])\n",
        "X = torch.concat([X0,X1],axis=0).reshape(-1,784)\n",
        "y = torch.tensor([0.0]*len(X0) + [1.0]*len(X1)).reshape(-1,1)\n",
        "XX0 = torch.stack([to_tensor(img) for img, lbl in test_dataset if lbl==0])\n",
        "XX1 = torch.stack([to_tensor(img) for img, lbl in test_dataset if lbl==1])\n",
        "XX = torch.concat([XX0,XX1],axis=0).reshape(-1,784)\n",
        "yy = torch.tensor([0.0]*len(XX0) + [1.0]*len(XX1)).reshape(-1,1)"
      ],
      "id": "9329a395-798c-41c5-a49d-df73b10d104a"
    },
    {
      "cell_type": "markdown",
      "metadata": {},
      "source": [
        "`-` Step2: 학습가능한 오브젝트들의 설정 (모델링과정 포함)"
      ],
      "id": "88cc1924-4f85-4a0b-9870-b6874a4bbfbc"
    },
    {
      "cell_type": "code",
      "execution_count": 737,
      "metadata": {},
      "outputs": [],
      "source": [
        "torch.manual_seed(1)\n",
        "net = torch.nn.Sequential(\n",
        "    torch.nn.Linear(784,32),\n",
        "    torch.nn.ReLU(),\n",
        "    torch.nn.Linear(32,1),\n",
        "    torch.nn.Sigmoid()\n",
        ")\n",
        "loss_fn = torch.nn.BCELoss()\n",
        "optimizr = torch.optim.SGD(net.parameters())"
      ],
      "id": "5f71cd26-9130-471c-9081-b62775f3b906"
    },
    {
      "cell_type": "markdown",
      "metadata": {},
      "source": [
        "`-` Step3: 학습 (=적합)"
      ],
      "id": "2c13909d-74ac-4a52-9acb-b3982ee03ac3"
    },
    {
      "cell_type": "code",
      "execution_count": 738,
      "metadata": {},
      "outputs": [
        {
          "output_type": "stream",
          "name": "stdout",
          "text": [
            "# of epochs = 50,    acc= 0.45\n",
            "# of epochs = 100,   acc= 0.66\n",
            "# of epochs = 150,   acc= 0.85\n",
            "# of epochs = 200,   acc= 0.94\n",
            "# of epochs = 250,   acc= 0.97\n",
            "# of epochs = 300,   acc= 0.98\n",
            "# of epochs = 350,   acc= 0.99\n",
            "# of epochs = 400,   acc= 0.99\n",
            "# of epochs = 450,   acc= 0.99\n",
            "# of epochs = 500,   acc= 0.99"
          ]
        }
      ],
      "source": [
        "for epoc in range(1,501):\n",
        "    #----에폭시작-----#\n",
        "    # step1 \n",
        "    yhat = net(X)\n",
        "    # step2 \n",
        "    loss = loss_fn(yhat,y)\n",
        "    # step3     \n",
        "    loss.backward()\n",
        "    # step4 \n",
        "    optimizr.step()\n",
        "    optimizr.zero_grad()\n",
        "    #-----에폭끝-----#\n",
        "    # 에폭별로 살펴보고 싶은 뭔가들.. \n",
        "    if (epoc % 50) == 0:\n",
        "        acc = ((net(X.data) > 0.5) == y.data).float().mean()\n",
        "        print(f\"# of epochs = {epoc},\\t acc={acc.item(): .2f}\")"
      ],
      "id": "eeb76148-dd3f-475e-b8d2-811026412116"
    },
    {
      "cell_type": "markdown",
      "metadata": {},
      "source": [
        "`-` Step4: 예측 & 결과분석\n",
        "\n",
        "*train acc*"
      ],
      "id": "2b757b37-38b9-41c2-b201-30b268ad4333"
    },
    {
      "cell_type": "code",
      "execution_count": 739,
      "metadata": {},
      "outputs": [],
      "source": [
        "((net(X) > 0.5)*1.0 ==  y).float().mean()"
      ],
      "id": "f89b582d-8c91-4b49-850c-3693f825831c"
    },
    {
      "cell_type": "markdown",
      "metadata": {},
      "source": [
        "*test acc*"
      ],
      "id": "f2da8df2-d816-4d5a-bbf8-8e562ef086af"
    },
    {
      "cell_type": "code",
      "execution_count": 740,
      "metadata": {},
      "outputs": [],
      "source": [
        "((net(XX) > 0.5)*1.0 ==  yy).float().mean()"
      ],
      "id": "c54e9ec6-7e1c-42bb-9d72-d460a528c3bf"
    },
    {
      "cell_type": "markdown",
      "metadata": {},
      "source": [
        "## B. Dropout 사용\n",
        "\n",
        "`-` Step1: 데이터정리"
      ],
      "id": "5aed1b9c-86d7-4d5b-a0ba-ab32f626a97c"
    },
    {
      "cell_type": "code",
      "execution_count": 741,
      "metadata": {},
      "outputs": [],
      "source": [
        "pass"
      ],
      "id": "ef166d16-a5f4-4441-99a6-c0eb4f93990b"
    },
    {
      "cell_type": "markdown",
      "metadata": {},
      "source": [
        "`-` Step2: 학습가능한 오브젝트들의 설정 (모델링과정 포함)"
      ],
      "id": "1c170a72-67fc-4911-8532-939f668f8078"
    },
    {
      "cell_type": "code",
      "execution_count": 742,
      "metadata": {},
      "outputs": [],
      "source": [
        "torch.manual_seed(1)\n",
        "net = torch.nn.Sequential(\n",
        "    torch.nn.Linear(784,32),\n",
        "    torch.nn.Dropout(0.5),\n",
        "    torch.nn.ReLU(),\n",
        "    torch.nn.Linear(32,1),\n",
        "    torch.nn.Sigmoid()\n",
        ")\n",
        "loss_fn = torch.nn.BCELoss()\n",
        "optimizr = torch.optim.SGD(net.parameters())"
      ],
      "id": "edbe712b-e81e-4bf7-b41f-aa0f6ac23915"
    },
    {
      "cell_type": "markdown",
      "metadata": {},
      "source": [
        "`-` Step3: 학습 (=적합)"
      ],
      "id": "6db6b7ff-5c89-4fb8-9977-35c095d52d65"
    },
    {
      "cell_type": "code",
      "execution_count": 743,
      "metadata": {},
      "outputs": [
        {
          "output_type": "stream",
          "name": "stdout",
          "text": [
            "# of epochs = 50,    acc= 0.45\n",
            "# of epochs = 100,   acc= 0.66\n",
            "# of epochs = 150,   acc= 0.84\n",
            "# of epochs = 200,   acc= 0.94\n",
            "# of epochs = 250,   acc= 0.97\n",
            "# of epochs = 300,   acc= 0.98\n",
            "# of epochs = 350,   acc= 0.99\n",
            "# of epochs = 400,   acc= 0.99\n",
            "# of epochs = 450,   acc= 0.99\n",
            "# of epochs = 500,   acc= 0.99"
          ]
        }
      ],
      "source": [
        "for epoc in range(1,501):\n",
        "    net.train()\n",
        "    #----에폭시작-----#\n",
        "    # step1 \n",
        "    yhat = net(X)\n",
        "    # step2 \n",
        "    loss = loss_fn(yhat,y)\n",
        "    # step3     \n",
        "    loss.backward()\n",
        "    # step4 \n",
        "    optimizr.step()\n",
        "    optimizr.zero_grad()\n",
        "    #-----에폭끝-----#\n",
        "    net.eval()\n",
        "    # 에폭별로 살펴보고 싶은 뭔가들.. \n",
        "    if (epoc % 50) == 0:\n",
        "        acc = ((net(X.data) > 0.5) == y.data).float().mean()\n",
        "        print(f\"# of epochs = {epoc},\\t acc={acc.item(): .2f}\")"
      ],
      "id": "4afc89c4-6e38-480b-9bf6-31512fa08566"
    },
    {
      "cell_type": "markdown",
      "metadata": {},
      "source": [
        "`-` Step4: 예측 & 결과분석\n",
        "\n",
        "*train acc*"
      ],
      "id": "41b05954-9fb1-45ec-99fb-887c6104f071"
    },
    {
      "cell_type": "code",
      "execution_count": 744,
      "metadata": {},
      "outputs": [],
      "source": [
        "((net(X) > 0.5)*1.0 ==  y).float().mean()"
      ],
      "id": "34e20388-e0f7-4bfe-88ed-20469d874e8a"
    },
    {
      "cell_type": "markdown",
      "metadata": {},
      "source": [
        "*test acc*"
      ],
      "id": "7bd14a29-9d1d-4a06-8f28-65e0d18d1da5"
    },
    {
      "cell_type": "code",
      "execution_count": 745,
      "metadata": {},
      "outputs": [],
      "source": [
        "((net(XX) > 0.5)*1.0 ==  yy).float().mean()"
      ],
      "id": "a5fcfc80-49de-4f4d-b657-d1008f2a419b"
    },
    {
      "cell_type": "markdown",
      "metadata": {},
      "source": [
        "## C. GPU도 사용\n",
        "\n",
        "`-` Step1: 데이터정리"
      ],
      "id": "5185a3a5-3138-4e7c-b7e3-3b5b5fa0dcdb"
    },
    {
      "cell_type": "code",
      "execution_count": 746,
      "metadata": {},
      "outputs": [],
      "source": [
        "pass"
      ],
      "id": "2f8fd04a-4908-40f1-b1a4-2839de029347"
    },
    {
      "cell_type": "markdown",
      "metadata": {},
      "source": [
        "`-` Step2: 학습가능한 오브젝트들의 설정 (모델링과정 포함)"
      ],
      "id": "311c02d9-0d2f-4af9-a664-ec8efa07d46e"
    },
    {
      "cell_type": "code",
      "execution_count": 747,
      "metadata": {},
      "outputs": [],
      "source": [
        "torch.manual_seed(1)\n",
        "net = torch.nn.Sequential(\n",
        "    torch.nn.Linear(784,32),\n",
        "    torch.nn.Dropout(0.5),\n",
        "    torch.nn.ReLU(),\n",
        "    torch.nn.Linear(32,1),\n",
        "    torch.nn.Sigmoid()\n",
        ").to(\"cuda:0\")\n",
        "loss_fn = torch.nn.BCELoss()\n",
        "optimizr = torch.optim.SGD(net.parameters())"
      ],
      "id": "14fd5049-ad1c-487f-8c20-1b114390cc00"
    },
    {
      "cell_type": "markdown",
      "metadata": {},
      "source": [
        "`-` Step3: 학습 (=적합)"
      ],
      "id": "751498a3-1f29-4e68-aafe-996907970c75"
    },
    {
      "cell_type": "code",
      "execution_count": 748,
      "metadata": {},
      "outputs": [
        {
          "output_type": "stream",
          "name": "stdout",
          "text": [
            "# of epochs = 50,    acc= 0.45\n",
            "# of epochs = 100,   acc= 0.66\n",
            "# of epochs = 150,   acc= 0.84\n",
            "# of epochs = 200,   acc= 0.94\n",
            "# of epochs = 250,   acc= 0.97\n",
            "# of epochs = 300,   acc= 0.98\n",
            "# of epochs = 350,   acc= 0.99\n",
            "# of epochs = 400,   acc= 0.99\n",
            "# of epochs = 450,   acc= 0.99\n",
            "# of epochs = 500,   acc= 0.99"
          ]
        }
      ],
      "source": [
        "for epoc in range(1,501):\n",
        "    net.train()\n",
        "    #----에폭시작-----#\n",
        "    X = X.to(\"cuda:0\")\n",
        "    y = y.to(\"cuda:0\")\n",
        "    # step1 \n",
        "    yhat = net(X)\n",
        "    # step2 \n",
        "    loss = loss_fn(yhat,y)\n",
        "    # step3     \n",
        "    loss.backward()\n",
        "    # step4 \n",
        "    optimizr.step()\n",
        "    optimizr.zero_grad()\n",
        "    #-----에폭끝-----#\n",
        "    net.eval()\n",
        "    # 에폭별로 살펴보고 싶은 뭔가들.. \n",
        "    if (epoc % 50) == 0:\n",
        "        acc = ((net(X.data) > 0.5) == y.data).float().mean()\n",
        "        print(f\"# of epochs = {epoc},\\t acc={acc.item(): .2f}\")"
      ],
      "id": "1bcd6531-5fe9-4a36-a8be-98e6349e8c66"
    },
    {
      "cell_type": "markdown",
      "metadata": {},
      "source": [
        "`-` Step4: 예측 & 결과분석\n",
        "\n",
        "*train acc*"
      ],
      "id": "5950bf98-dd9f-4ebd-a093-dc38e9b29c03"
    },
    {
      "cell_type": "code",
      "execution_count": 749,
      "metadata": {},
      "outputs": [],
      "source": [
        "((net(X) > 0.5) ==  y).float().mean()"
      ],
      "id": "e379eafd-987c-4cc9-b4bb-15dbfbde5980"
    },
    {
      "cell_type": "markdown",
      "metadata": {},
      "source": [
        "*test acc*"
      ],
      "id": "4a48060a-0989-45c1-aa3e-467ebdd33559"
    },
    {
      "cell_type": "code",
      "execution_count": 750,
      "metadata": {},
      "outputs": [],
      "source": [
        "#((net(XX) > 0.5) ==  yy).float().mean() -- 오류나요"
      ],
      "id": "e7d285f7-3894-4cb2-8c83-d688a41c9794"
    },
    {
      "cell_type": "markdown",
      "metadata": {},
      "source": [
        "-   방법1 – net을 cpu로 내림\n",
        "-   방법2 – net를 cuda에 유지 (=XX,yy를 cuda로 올림)"
      ],
      "id": "2b9393dd-3672-4f7f-9c2c-38870e6ee165"
    },
    {
      "cell_type": "code",
      "execution_count": 751,
      "metadata": {},
      "outputs": [],
      "source": [
        "XX = XX.to(\"cuda:0\")\n",
        "yy = yy.to(\"cuda:0\")"
      ],
      "id": "48c11778-d09e-462e-aaa1-2a0daf69cb4f"
    },
    {
      "cell_type": "code",
      "execution_count": 752,
      "metadata": {},
      "outputs": [],
      "source": [
        "((net(XX) > 0.5) ==  yy).float().mean()"
      ],
      "id": "d31668eb-33ee-4d87-957e-e22a4061150f"
    },
    {
      "cell_type": "markdown",
      "metadata": {},
      "source": [
        "## D. 미니배치도 사용\n",
        "\n",
        "`-` Step1: 데이터정리"
      ],
      "id": "ba058309-0775-4150-a684-8d04a8571fd2"
    },
    {
      "cell_type": "code",
      "execution_count": 753,
      "metadata": {},
      "outputs": [],
      "source": [
        "X = X.to(\"cpu\")\n",
        "y = y.to(\"cpu\")\n",
        "XX = XX.to(\"cpu\")\n",
        "yy = yy.to(\"cpu\")"
      ],
      "id": "dac230db-c527-4c52-8127-a4a93725025a"
    },
    {
      "cell_type": "code",
      "execution_count": 754,
      "metadata": {},
      "outputs": [],
      "source": [
        "ds = torch.utils.data.TensorDataset(X,y)\n",
        "dl = torch.utils.data.DataLoader(ds, batch_size=16)"
      ],
      "id": "f7187e43-52e5-4ae2-b444-fdf3ca04cd90"
    },
    {
      "cell_type": "markdown",
      "metadata": {},
      "source": [
        "`-` Step2: 학습가능한 오브젝트들의 설정 (모델링과정 포함)"
      ],
      "id": "ea59e93e-85c3-44af-b648-34aa02238444"
    },
    {
      "cell_type": "code",
      "execution_count": 755,
      "metadata": {},
      "outputs": [],
      "source": [
        "torch.manual_seed(1)\n",
        "net = torch.nn.Sequential(\n",
        "    torch.nn.Linear(784,32),\n",
        "    torch.nn.Dropout(0.5),\n",
        "    torch.nn.ReLU(),\n",
        "    torch.nn.Linear(32,1),\n",
        "    torch.nn.Sigmoid()\n",
        ").to(\"cuda:0\")\n",
        "loss_fn = torch.nn.BCELoss()\n",
        "optimizr = torch.optim.SGD(net.parameters())"
      ],
      "id": "17bf5735-2041-4a0f-a7cc-31b7da155c10"
    },
    {
      "cell_type": "markdown",
      "metadata": {},
      "source": [
        "`-` Step3: 학습 (=적합)"
      ],
      "id": "00c54d38-fab2-4bc6-8989-c325ac93abac"
    },
    {
      "cell_type": "code",
      "execution_count": 756,
      "metadata": {},
      "outputs": [
        {
          "output_type": "stream",
          "name": "stdout",
          "text": [
            "# of epochs = 1,     acc= 0.9738\n",
            "# of epochs = 2,     acc= 0.9886"
          ]
        }
      ],
      "source": [
        "for epoc in range(1,3):\n",
        "    net.train()\n",
        "    #----에폭시작-----#\n",
        "    for Xi,yi in dl:\n",
        "        Xi = Xi.to(\"cuda:0\")\n",
        "        yi = yi.to(\"cuda:0\")\n",
        "        # step1 \n",
        "        yi_hat = net(Xi)\n",
        "        # step2 \n",
        "        loss = loss_fn(yi_hat,yi)\n",
        "        # step3     \n",
        "        loss.backward()\n",
        "        # step4 \n",
        "        optimizr.step()\n",
        "        optimizr.zero_grad()\n",
        "    #-----에폭끝-----#\n",
        "    net.eval()\n",
        "    # 에폭별로 살펴보고 싶은 뭔가들..\n",
        "        # ## 방법1 -- net를 cpu로 내림\n",
        "        # net.to(\"cpu\")\n",
        "        # acc = ((net(X.data) > 0.5) == y.data).float().mean()\n",
        "        # print(f\"# of epochs = {epoc},\\t acc={acc.item(): .4f}\")    \n",
        "        # net.to(\"cuda:0\")\n",
        "    ## 방법2 -- net을 cuda에 유지 \n",
        "    s = 0 \n",
        "    for Xi,yi in dl:\n",
        "        Xi = Xi.to(\"cuda:0\")\n",
        "        yi = yi.to(\"cuda:0\")\n",
        "        yi_hat = net(Xi)\n",
        "        s = s + ((net(Xi.data) > 0.5) == yi.data).float().sum()\n",
        "    acc = s/12665\n",
        "    print(f\"# of epochs = {epoc},\\t acc={acc.item(): .4f}\")"
      ],
      "id": "5d748b7a-2b5c-4790-824c-0b8ad54eef6c"
    },
    {
      "cell_type": "markdown",
      "metadata": {},
      "source": [
        "`-` Step4: 예측 & 결과분석"
      ],
      "id": "4538a4e3-42e6-4757-a3aa-f129a1483cce"
    },
    {
      "cell_type": "code",
      "execution_count": 757,
      "metadata": {},
      "outputs": [],
      "source": [
        "net.to(\"cpu\")"
      ],
      "id": "0c9851aa-e1cc-42a7-b899-8642e12122cf"
    },
    {
      "cell_type": "markdown",
      "metadata": {},
      "source": [
        "*train acc*"
      ],
      "id": "e323b5d9-fb2d-498a-acf7-43d2170dc626"
    },
    {
      "cell_type": "code",
      "execution_count": 758,
      "metadata": {},
      "outputs": [],
      "source": [
        "((net(X) > 0.5)*1.0 ==  y).float().mean()"
      ],
      "id": "f1e8af1e-3681-4ce5-972d-b699884bdcc3"
    },
    {
      "cell_type": "markdown",
      "metadata": {},
      "source": [
        "*test acc*"
      ],
      "id": "0f2477b0-c93d-421b-aca1-9b1a5b862db6"
    },
    {
      "cell_type": "code",
      "execution_count": 759,
      "metadata": {},
      "outputs": [],
      "source": [
        "((net(XX) > 0.5)*1.0 ==  yy).float().mean()"
      ],
      "id": "14cc8c90-e4cc-48e4-ac14-018cbcea3e84"
    },
    {
      "cell_type": "markdown",
      "metadata": {},
      "source": [
        "> 점점 **비본질적인** 코드가 늘어남 (=코드가 드럽다는 소리에요) –\\>\n",
        "> Trainer의 개념 등장\n",
        "\n",
        "Rosenblatt, Frank et al. 1962. *Principles of Neurodynamics: Perceptrons\n",
        "and the Theory of Brain Mechanisms*. Vol. 55. Spartan books Washington,\n",
        "DC."
      ],
      "id": "1a0b0627-b67e-4a91-a79b-f0d5c42a80de"
    }
  ],
  "nbformat": 4,
  "nbformat_minor": 5,
  "metadata": {
    "kernelspec": {
      "name": "python3",
      "display_name": "Python 3 (ipykernel)",
      "language": "python"
    },
    "language_info": {
      "name": "python",
      "codemirror_mode": {
        "name": "ipython",
        "version": "3"
      },
      "file_extension": ".py",
      "mimetype": "text/x-python",
      "nbconvert_exporter": "python",
      "pygments_lexer": "ipython3",
      "version": "3.9.21"
    }
  }
}