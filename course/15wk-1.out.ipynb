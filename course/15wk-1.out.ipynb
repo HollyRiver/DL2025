{
 "cells": [
  {
   "cell_type": "markdown",
   "id": "a770e6e9-971f-41ea-9979-e158cbd78a22",
   "metadata": {},
   "source": [
    "# 15wk-1: (강화학습) – LunarLander\n",
    "\n",
    "최규빈  \n",
    "2025-06-14\n",
    "\n",
    "<a href=\"https://colab.research.google.com/github/guebin/DL2025/blob/main/posts/15wk-1.ipynb\"><img src=\"https://colab.research.google.com/assets/colab-badge.svg\" style=\"text-align: left\"></a>\n",
    "\n",
    "# 1. 강의영상\n",
    "\n",
    "<https://youtu.be/playlist?list=PLQqh36zP38-wRrm_RgJ30iOUKf8q-S6hP&si=JJC7LNK2zUvB275J>\n",
    "\n",
    "# 2. Imports\n",
    "\n",
    "> **Note**\n",
    ">\n",
    "> *코랩사용자는 아래코드 실행후 실습할것 *\n",
    ">\n",
    "> ``` python\n",
    "> !pip install swig\n",
    "> !pip install gymnasium[box2d]\n",
    "> ```\n",
    ">\n",
    "> *학과서버사용자는 가상환경에서 아래를 설치*\n",
    ">\n",
    "> ``` bash\n",
    "> conda install conda-forge::gymnasium-box2d \n",
    "> ```"
   ]
  },
  {
   "cell_type": "code",
   "execution_count": 1,
   "id": "692f8780-5082-499f-9b1e-29cea5401083",
   "metadata": {
    "tags": []
   },
   "outputs": [],
   "source": [
    "import gymnasium as gym\n",
    "#--#\n",
    "import numpy as np\n",
    "import matplotlib.pyplot as plt\n",
    "from matplotlib.animation import FuncAnimation\n",
    "import IPython\n",
    "#--#\n",
    "import collections\n",
    "import random\n",
    "#--#\n",
    "import torch"
   ]
  },
  {
   "cell_type": "code",
   "execution_count": 2,
   "id": "38984dee-4f48-4699-a51d-919df1fdadfd",
   "metadata": {
    "tags": []
   },
   "outputs": [],
   "source": [
    "def show(imgs,jump=10):\n",
    "    imgs = imgs[::jump]\n",
    "    fig = plt.Figure()\n",
    "    ax = fig.subplots()\n",
    "    def update(i):\n",
    "        ax.imshow(imgs[i])\n",
    "    ani = FuncAnimation(fig,update,frames=len(imgs))\n",
    "    display(IPython.display.HTML(ani.to_jshtml()))"
   ]
  },
  {
   "cell_type": "markdown",
   "id": "8a79d6d9-c34b-4875-975f-2e9f2260975f",
   "metadata": {},
   "source": [
    "# 3. 예비학습\n",
    "\n",
    "`-` `random.sample()`의 용법을 살펴보자.\n",
    "\n",
    "`# 예시1`"
   ]
  },
  {
   "cell_type": "code",
   "execution_count": 3,
   "id": "23f7086c-8a03-43ab-a08e-884f48d0092d",
   "metadata": {},
   "outputs": [],
   "source": [
    "random.sample([1,2,3,4,5],2)"
   ]
  },
  {
   "cell_type": "markdown",
   "id": "c38cf025-9890-4c5c-a349-c820a08a6396",
   "metadata": {},
   "source": [
    "`# 예시2`"
   ]
  },
  {
   "cell_type": "code",
   "execution_count": 4,
   "id": "dfccfe44-7e38-4156-933d-0263d39edda7",
   "metadata": {},
   "outputs": [],
   "source": [
    "s = [[0,0], [0,2], [3,2]]\n",
    "a = [0,1,2]\n",
    "memory = list(zip(s,a))\n",
    "random.sample(memory,2)"
   ]
  },
  {
   "cell_type": "markdown",
   "id": "7b964cbb-52b8-4382-87fa-557f70b37c94",
   "metadata": {},
   "source": [
    "# 4. env: LunarLander\n",
    "\n",
    "`-` ref: <https://gymnasium.farama.org/environments/box2d/lunar_lander/>\n",
    "\n",
    "`-` Lunar Lander: 요약\n",
    "\n",
    "**Observation Space (State Space)** – 8개의 변수\n",
    "\n",
    "1.  착륙선의 x 좌표\n",
    "2.  착륙선의 y 좌표\n",
    "3.  착륙선의 x 속도\n",
    "4.  착륙선의 y 속도\n",
    "5.  착륙선의 각도\n",
    "6.  착륙선의 각속도\n",
    "7.  왼쪽 다리가 땅에 닿아있는지 여부 (1 또는 0)\n",
    "8.  오른쪽 다리가 땅에 닿아있는지 여부 (1 또는 0)\n",
    "\n",
    "**Action Space** – 4개의 변수\n",
    "\n",
    "1.  {0 : 아무 행동도 하지 않음}\n",
    "2.  {1 : 왼쪽 엔진 발사 (오른쪽으로 기울임)}\n",
    "3.  {2 : 메인 엔진 발사 (위로 밀어 올림)}\n",
    "4.  {3 : 오른쪽 엔진 발사 (왼쪽으로 기울임)}\n",
    "\n",
    "**Reward**\n",
    "\n",
    "-   **거리 보상**: 착륙 패드에 가까울수록 보상 증가\n",
    "-   **속도 보상**: 속도가 낮을수록 보상 증가\n",
    "-   **각도 보상**: 각도가 수직에 가까울수록 보상 증가\n",
    "-   **착륙 다리 보상**: 다리가 착륙 패드에 닿으면 보상\n",
    "-   **연료 사용 패널티**: 엔진 사용 시 패널티\n",
    "-   **안전한 착륙 보상**: 안정적으로 착륙 시 큰 보상 (+100~+140)\n",
    "-   **충돌 패널티**: 착륙 패드 이외의 장소에 충돌 시 패널티 (-100)\n",
    "\n",
    "`-` 환경생성"
   ]
  },
  {
   "cell_type": "code",
   "execution_count": 5,
   "id": "3677446b-e1ae-4b83-a540-05e5ce6cfdb5",
   "metadata": {},
   "outputs": [
    {
     "name": "stderr",
     "output_type": "stream",
     "text": [
      "<frozen importlib._bootstrap>:228: RuntimeWarning: Your system is avx2 capable but pygame was not built with support for it. The performance of some of your blits could be adversely affected. Consider enabling compile time detection with environment variables like PYGAME_DETECT_AVX2=1 if you are compiling without cross compilation."
     ]
    }
   ],
   "source": [
    "env = gym.make(\"LunarLander-v3\", render_mode = \"rgb_array\")\n",
    "env "
   ]
  },
  {
   "cell_type": "markdown",
   "id": "0485a43f-a57b-4c70-9814-e28df6fede6c",
   "metadata": {},
   "source": [
    "`-` state_space"
   ]
  },
  {
   "cell_type": "code",
   "execution_count": 6,
   "id": "01ec364a-7ab3-47eb-99e9-a0d7ea65450f",
   "metadata": {},
   "outputs": [],
   "source": [
    "env.observation_space.sample()"
   ]
  },
  {
   "cell_type": "markdown",
   "id": "0ed49910-14ed-4acc-a0ca-d24db42bbe19",
   "metadata": {},
   "source": [
    "-   8개의 숫자가 포함된 array가 나옴\n",
    "-   이 8개의 숫자는 각각 상태를 의미함\n",
    "\n",
    "`-` action_space"
   ]
  },
  {
   "cell_type": "code",
   "execution_count": 7,
   "id": "79497e26-5e78-4f2c-80df-e58cfc84250e",
   "metadata": {},
   "outputs": [],
   "source": [
    "env.action_space.sample()"
   ]
  },
  {
   "cell_type": "markdown",
   "id": "c884bfa4-37ba-4bba-a8eb-cd680d65c6a8",
   "metadata": {},
   "source": [
    "-   0,1,2,3 중 하나가 랜덤으로 뽑힘\n",
    "\n",
    "`-` env.reset()"
   ]
  },
  {
   "cell_type": "code",
   "execution_count": 8,
   "id": "244ccae6-91c8-463a-9dc4-8c0f722aea4b",
   "metadata": {},
   "outputs": [],
   "source": [
    "env.reset()"
   ]
  },
  {
   "cell_type": "markdown",
   "id": "6ba1d002-3d99-4e08-b790-644445301f53",
   "metadata": {},
   "source": [
    "`-` env.render()"
   ]
  },
  {
   "cell_type": "code",
   "execution_count": 9,
   "id": "ee06eb17-b049-458a-b7f8-216b8c68429f",
   "metadata": {},
   "outputs": [
    {
     "data": {
      "image/png": "[encoded data removed]"
     },
     "metadata": {},
     "output_type": "display_data"
    }
   ],
   "source": [
    "plt.imshow(env.render())"
   ]
  },
  {
   "cell_type": "markdown",
   "id": "114adfdc-2450-45c0-89c3-6707543e8b58",
   "metadata": {},
   "source": [
    "`-` env.step"
   ]
  },
  {
   "cell_type": "code",
   "execution_count": 10,
   "id": "7cbfc33f-232a-4b4b-9363-2ecfa121a631",
   "metadata": {},
   "outputs": [],
   "source": [
    "env.step??"
   ]
  },
  {
   "cell_type": "markdown",
   "id": "7b10058e-c522-4b76-93a0-83f5e37fa576",
   "metadata": {},
   "source": [
    "-   리턴되는 값은 `observation`, `reward`, `terminated`, `truncated`,\n",
    "    `info`\n",
    "-   우리가 쓰는 값은 `observation`, `reward`, `terminated`, `truncated`\n",
    "\n",
    "`-` play\n",
    "\n",
    "*첫시작화면*"
   ]
  },
  {
   "cell_type": "code",
   "execution_count": 11,
   "id": "4def7b87-d955-43b7-a0a7-ea9fcba59aa5",
   "metadata": {},
   "outputs": [
    {
     "data": {
      "image/png": "[encoded data removed]"
     },
     "metadata": {},
     "output_type": "display_data"
    }
   ],
   "source": [
    "env.reset()\n",
    "plt.imshow(env.render())"
   ]
  },
  {
   "cell_type": "markdown",
   "id": "463eaeeb-7fc8-49f1-b208-52936e5d4e51",
   "metadata": {},
   "source": [
    "*플레이해보자*"
   ]
  },
  {
   "cell_type": "code",
   "execution_count": 12,
   "id": "f9c6241b-b7a3-4dfe-a2be-eec0329737f1",
   "metadata": {},
   "outputs": [
    {
     "data": {
      "image/png": "[encoded data removed]"
     },
     "metadata": {},
     "output_type": "display_data"
    }
   ],
   "source": [
    "for _ in range(5):\n",
    "    env.step(0) \n",
    "    env.step(3) \n",
    "plt.imshow(env.render())"
   ]
  },
  {
   "cell_type": "markdown",
   "id": "2b98fc7e-e619-4ba5-b847-c6154f5be236",
   "metadata": {},
   "source": [
    "# 5. 시각화"
   ]
  },
  {
   "cell_type": "code",
   "execution_count": 13,
   "id": "e0c2bb33-d9f4-4bc5-9f8e-dac2366959f2",
   "metadata": {},
   "outputs": [],
   "source": [
    "state, _ = env.reset()\n",
    "imgs = []\n",
    "for t in range(500):\n",
    "    action = env.action_space.sample()\n",
    "    next_state, reward, terminated, truncated, _ = env.step(action)\n",
    "    imgs.append(env.render())\n",
    "    state = next_state \n",
    "    if terminated or truncated:\n",
    "        break"
   ]
  },
  {
   "cell_type": "code",
   "execution_count": 14,
   "id": "226dd9c2-238e-4af9-b091-8da5188edab4",
   "metadata": {},
   "outputs": [],
   "source": [
    "show(imgs)"
   ]
  },
  {
   "cell_type": "markdown",
   "id": "1482d3fc-703d-4dc8-a5ba-90f7dcd9d685",
   "metadata": {},
   "source": [
    "# 6. `RandomAgent`"
   ]
  },
  {
   "cell_type": "code",
   "execution_count": 15,
   "id": "1e13ec12-3a69-470d-abc5-06c5706e0a4f",
   "metadata": {},
   "outputs": [],
   "source": [
    "class RandomAgent:\n",
    "    def __init__(self):\n",
    "        self.action_spcae = gym.spaces.Discrete(4)\n",
    "        self.n_experieces = 0 \n",
    "        #---#\n",
    "        self.state = None \n",
    "        self.action = None \n",
    "        self.reward = None \n",
    "        self.next_state = None \n",
    "        self.terminated = None \n",
    "        #---#\n",
    "        self.states = collections.deque(maxlen = 5000)\n",
    "        self.actions = collections.deque(maxlen = 5000)\n",
    "        self.rewards = collections.deque(maxlen = 5000)\n",
    "        self.next_states = collections.deque(maxlen = 5000)\n",
    "        self.terminations = collections.deque(maxlen = 5000)\n",
    "    def act(self):\n",
    "        self.action = self.action_spcae.sample()\n",
    "    def learn(self):\n",
    "        pass \n",
    "    def save_experience(self):\n",
    "        self.states.append(torch.tensor(self.state))\n",
    "        self.actions.append(self.action)\n",
    "        self.rewards.append(self.reward)\n",
    "        self.next_states.append(torch.tensor(self.next_state))\n",
    "        self.terminations.append(self.terminated)\n",
    "        self.n_experieces = self.n_experieces+1"
   ]
  },
  {
   "cell_type": "code",
   "execution_count": 16,
   "id": "9ec59c73-29f1-42e4-9663-f8ebf87a82fe",
   "metadata": {},
   "outputs": [],
   "source": [
    "env = gym.make(\"LunarLander-v3\", render_mode = \"rgb_array\")\n",
    "player = RandomAgent()\n",
    "player.state,_ = env.reset()\n",
    "for e in range(1,101):\n",
    "    while True:\n",
    "        # step1\n",
    "        player.act()\n",
    "        # step2\n",
    "        player.next_state, player.reward, player.terminated, player.truncated, _ = env.step(player.action)\n",
    "        # step3\n",
    "        player.save_experience()\n",
    "        player.learn()\n",
    "        # step4 \n",
    "        if player.terminated or player.truncated: \n",
    "            player.state, _ = env.reset()\n",
    "            break \n",
    "        else: \n",
    "            player.state = player.next_state"
   ]
  },
  {
   "cell_type": "markdown",
   "id": "5fe5ff56-ce27-49d3-97fa-0d4ce44153fd",
   "metadata": {},
   "source": [
    "# 7. `q_net`"
   ]
  },
  {
   "cell_type": "code",
   "execution_count": 17,
   "id": "072e24ad-467b-4cf7-8408-bd80bfc4b96b",
   "metadata": {},
   "outputs": [],
   "source": [
    "# 이제 우리가 할것: q_table --> action 을 결정해야함. \n",
    "\n",
    "# 4x4 그리드 -- 복습 \n",
    "# q_table[상태] = [행동0을했을때 품질, 행동1을했을때품질, 행동2를했을때품질, 행동3을했을때품질]  \n",
    "# 행동 = argmax(q_talbe[상태])\n",
    "\n",
    "# 루나랜더 -- 오늘 할것 \n",
    "# q_net[8개의숫자] = [행동0을했을때 품질, 행동1을했을때품질, 행동2를했을때품질, 행동3을했을때품질] # 결국 숫자8개를 숫자4개로 만들어주는 적당한 q_net을 구성\n",
    "# 행동 = argmax(q_net[8개의숫자])"
   ]
  },
  {
   "cell_type": "markdown",
   "id": "c572b4fb-6e0b-4d08-8239-491aaa4cf1dd",
   "metadata": {},
   "source": [
    "`-` 전략: 4x4에서 `q_table`에 대응하는 뭔가가 있으면 된다. 그런데\n",
    "`q_table`와 같이 테이블 형식으로는 힘들것 같다. $\\to$ `q_net`를 만들자.\n",
    "\n",
    "-   4x4 grid: 상태공간의 차원은 2차원이며 가질수 있는 값은 16개, 각\n",
    "    상태공간에서 할수 있는 행동이 4개 -\\> 총 16\\*4의 경우의 수에 대한\n",
    "    reward만 조사하면 되었음\n",
    "-   LunarLander: 상태공간의 차원은 8차원이지만 가질수 있는 값의 범위는\n",
    "    무한대 -\\> 무수히 많은 경우에 대한 reward 값을 조사하는건 현실적으로\n",
    "    불가능\n",
    "\n",
    "*상황*"
   ]
  },
  {
   "cell_type": "code",
   "execution_count": 18,
   "id": "2a1e267a-ba0c-4a3b-a32d-3cec47a507ca",
   "metadata": {},
   "outputs": [],
   "source": [
    "state = player.states[100]\n",
    "action = player.actions[100]\n",
    "reward = player.rewards[100]\n",
    "next_state = player.next_states[100]\n",
    "terminated = player.terminations[100]"
   ]
  },
  {
   "cell_type": "markdown",
   "id": "39647037-d7ef-4b51-afed-cad816a9dcdd",
   "metadata": {},
   "source": [
    "`1`. `q_net`"
   ]
  },
  {
   "cell_type": "code",
   "execution_count": 19,
   "id": "37e87af5-78a3-49cf-b99e-0d127a703d39",
   "metadata": {},
   "outputs": [],
   "source": [
    "player.q_net = torch.nn.Sequential(\n",
    "    torch.nn.Linear(8,256),\n",
    "    torch.nn.ReLU(),\n",
    "    torch.nn.Linear(256,128),\n",
    "    torch.nn.ReLU(),\n",
    "    torch.nn.Linear(128,64),\n",
    "    torch.nn.ReLU(),\n",
    "    torch.nn.Linear(64,4)\n",
    ")"
   ]
  },
  {
   "cell_type": "code",
   "execution_count": 20,
   "id": "72860a37-3120-4607-bc25-a135d544e974",
   "metadata": {},
   "outputs": [],
   "source": [
    "player.q_net(state)"
   ]
  },
  {
   "cell_type": "markdown",
   "id": "6739b828-440d-4836-a751-f8662592a2eb",
   "metadata": {},
   "source": [
    "-   8개의 숫자가 들어가서 4개의 숫자가 나옴\n",
    "\n",
    "`2`. `q_hat`"
   ]
  },
  {
   "cell_type": "code",
   "execution_count": 21,
   "id": "3e30b881-eacb-4125-b7ee-1ae3a255f008",
   "metadata": {},
   "outputs": [],
   "source": [
    "q_hat = player.q_net(state)[action]"
   ]
  },
  {
   "cell_type": "markdown",
   "id": "6365c8e4-2993-4fdb-80d9-f0687dcac912",
   "metadata": {},
   "source": [
    "`3`. `q` ($q = r + 0.99 \\times {\\tt future}$)"
   ]
  },
  {
   "cell_type": "code",
   "execution_count": 22,
   "id": "98bd224d-f485-4f5f-b95b-384defbb896e",
   "metadata": {},
   "outputs": [],
   "source": [
    "if terminated: \n",
    "    q = reward # q는 꼬리표가 없는 숫자 \n",
    "else: \n",
    "    future = player.q_net(next_state).max().data # future에 꼬리표가 있으면 q에도 꼬리표가 생기므로 꼬리표 제거 \n",
    "    q = reward + 0.99 * future # q는 꼬리표가 없는 숫자 "
   ]
  },
  {
   "cell_type": "markdown",
   "id": "02ffba57-f77a-4a75-8c61-d968b9729ff5",
   "metadata": {},
   "source": [
    "`4`. `q_hat` 을 점점 `q` 와 비슷하게 만드는 과정 = `player.q_net`를\n",
    "학습하는 과정"
   ]
  },
  {
   "cell_type": "code",
   "execution_count": 23,
   "id": "4e964d52-9d17-42b5-9058-798b3632e9ce",
   "metadata": {},
   "outputs": [],
   "source": [
    "# loss = (q_hat - q)**2\n",
    "# loss를 점차 줄이면됨"
   ]
  },
  {
   "cell_type": "code",
   "execution_count": 24,
   "id": "24305b73-fa7f-493f-b4fa-debdb3554c70",
   "metadata": {},
   "outputs": [],
   "source": [
    "player.optimizr = torch.optim.Adam(player.q_net.parameters())\n",
    "for epoc in range(5):\n",
    "    memory = list(zip(player.states, player.actions, player.rewards, player.next_states, player.terminations))\n",
    "    mini_batch = random.sample(memory,64)\n",
    "    # step1-2 \n",
    "    loss = 0\n",
    "    for s,a,r,ss,tmd in mini_batch:\n",
    "        q_hat = player.q_net(s)[a]\n",
    "        if tmd: \n",
    "            q = r \n",
    "        else: \n",
    "            future = player.q_net(ss).max().data \n",
    "            q = r + 0.99 * future\n",
    "        loss = loss + (q_hat-q)**2\n",
    "    loss = loss / 64\n",
    "    # step3\n",
    "    loss.backward()\n",
    "    # step4 \n",
    "    player.optimizr.step()\n",
    "    player.optimizr.zero_grad()"
   ]
  },
  {
   "cell_type": "markdown",
   "id": "e2e7b47b-3210-4249-8ed7-55c6a2640803",
   "metadata": {},
   "source": [
    "`5`. 행동..?"
   ]
  },
  {
   "cell_type": "code",
   "execution_count": 25,
   "id": "6ab9abbb-972a-4e80-9d1e-9a6c2aec2f09",
   "metadata": {},
   "outputs": [],
   "source": [
    "# 이전에는 아래와 같은 방식\n",
    "## 1. 특정 시점 이전에는 계속 랜덤액션만\n",
    "## 2. 특정 시점 이후에는 계속 q_table에서 도출되는 행동만 \n",
    "# 이번에는 아래와 같이 해보자. \n",
    "## 1. 처음에는 랜덤액션\n",
    "## 2. 점차 에피소드가 지날수록, q_net에서 근거한 행동만"
   ]
  },
  {
   "cell_type": "code",
   "execution_count": 26,
   "id": "a775b291-9704-4d4a-9b90-3244b47323aa",
   "metadata": {},
   "outputs": [],
   "source": [
    "player.eps = 0.5 \n",
    "if random.random() < player.eps: \n",
    "    player.action = player.action_spcae.sample()\n",
    "else:\n",
    "    state = torch.tensor(player.state)\n",
    "    player.action = player.q_net(state).argmax().item()"
   ]
  },
  {
   "cell_type": "code",
   "execution_count": 27,
   "id": "3516b2d2-2c72-4d13-86a6-9732b9666818",
   "metadata": {},
   "outputs": [],
   "source": [
    "# 다음에피소드에서는 아래와 같이 확률을 조금 낮게 \n",
    "player.eps = player.eps* 0.99 "
   ]
  },
  {
   "cell_type": "markdown",
   "id": "afd44876-08d9-49e5-9dc4-ef8bc0c99f68",
   "metadata": {},
   "source": [
    "# 8. Agent"
   ]
  },
  {
   "cell_type": "code",
   "execution_count": 28,
   "id": "52ccd340-62a7-458d-9e58-ecfc4b165c63",
   "metadata": {},
   "outputs": [],
   "source": [
    "class Agent(RandomAgent):\n",
    "    def __init__(self):\n",
    "        super().__init__()\n",
    "        self.eps = 1.0 \n",
    "        self.q_net = torch.nn.Sequential(\n",
    "            torch.nn.Linear(8,256),\n",
    "            torch.nn.ReLU(),\n",
    "            torch.nn.Linear(256,128),\n",
    "            torch.nn.ReLU(),\n",
    "            torch.nn.Linear(128,64),\n",
    "            torch.nn.ReLU(),\n",
    "            torch.nn.Linear(64,4)\n",
    "        )\n",
    "        self.optimizr = torch.optim.Adam(self.q_net.parameters())\n",
    "    def act(self):\n",
    "        if random.random() < self.eps: \n",
    "            self.action = self.action_spcae.sample()\n",
    "        else:\n",
    "            state = torch.tensor(self.state)\n",
    "            self.action = self.q_net(state).argmax().item()\n",
    "    def learn(self):\n",
    "        if self.n_experieces > 64:\n",
    "            for epoc in range(1):\n",
    "                memory = list(zip(self.states, self.actions, self.rewards, self.next_states, self.terminations))\n",
    "                mini_batch = random.sample(memory,64)\n",
    "                # step1-2 \n",
    "                loss = 0\n",
    "                for s,a,r,ss,tmd in mini_batch:\n",
    "                    q_hat = self.q_net(s)[a]\n",
    "                    if tmd: \n",
    "                        q = r \n",
    "                    else: \n",
    "                        future = self.q_net(ss).max().data \n",
    "                        q = r + 0.99 * future\n",
    "                    loss = loss + (q_hat-q)**2\n",
    "                loss = loss / 64\n",
    "                # step3\n",
    "                loss.backward()\n",
    "                # step4 \n",
    "                self.optimizr.step()\n",
    "                self.optimizr.zero_grad()        "
   ]
  },
  {
   "cell_type": "markdown",
   "id": "78cd8703-2a2e-4506-8e58-28533c1d239d",
   "metadata": {},
   "source": [
    "# 9. Solve"
   ]
  },
  {
   "cell_type": "code",
   "execution_count": null,
   "id": "fc21dda2-5f4b-4e4a-b7c4-8dbf9280d896",
   "metadata": {},
   "outputs": [
    {
     "name": "stdout",
     "output_type": "stream",
     "text": [
      "에피소드: 50     경험: 5568    점수(평균): -126.60     게임시간(평균): 110.36    돌방행동: 0.78 "
     ]
    }
   ],
   "source": [
    "env = gym.make(\"LunarLander-v3\", render_mode = \"rgb_array\")\n",
    "player = Agent()\n",
    "player.state, _ = env.reset()\n",
    "score = 0\n",
    "playtime = 0\n",
    "scores = [] \n",
    "playtimes = []\n",
    "#---#\n",
    "for e in range(1,2001):\n",
    "    #---에피소드시작---#\n",
    "    while True:\n",
    "        #step1\n",
    "        player.act()\n",
    "        #step2\n",
    "        player.next_state, player.reward, player.terminated, player.truncated, _ = env.step(player.action)\n",
    "        #step3\n",
    "        player.save_experience()\n",
    "        player.learn()\n",
    "        #step4\n",
    "        if player.terminated or player.truncated:\n",
    "            score = score + player.reward\n",
    "            scores.append(score)\n",
    "            score = 0\n",
    "            playtimes.append(playtime)\n",
    "            playtime = 0\n",
    "            player.state, _ = env.reset()\n",
    "            break\n",
    "        else: \n",
    "            score = score + player.reward\n",
    "            playtime = playtime + 1 \n",
    "            player.state = player.next_state\n",
    "    #---에피소드끝---#\n",
    "    player.eps = player.eps * 0.995\n",
    "    if (e % 50) ==0:\n",
    "        print(\n",
    "            f\"에피소드: {e}\\t\",\n",
    "            f\"경험: {player.n_experieces}\\t\",\n",
    "            f\"점수(평균): {np.mean(scores[-100:]):.2f}\\t\",\n",
    "            f\"게임시간(평균): {np.mean(playtimes[-100:]):.2f}\\t\",\n",
    "            f\"돌방행동: {player.eps:.2f}\\t\",\n",
    "        )\n",
    "    if np.mean(scores[-100:]) > 200:\n",
    "        print(\"--루나랜더 클리어(2025.06.14.)--\")\n",
    "        break"
   ]
  },
  {
   "cell_type": "markdown",
   "id": "b4be8d0b-5cac-47dd-9b50-826f3b61f550",
   "metadata": {},
   "source": [
    "------------------------------------------------------------------------\n",
    "\n",
    "***아래코드 실행하면 제가 실습에 사용한 파일 받아올수있어요***\n",
    "\n",
    "``` python\n",
    "!wget https://github.com/guebin/DL2025/raw/main/posts/q_net.pth\n",
    "```\n",
    "\n",
    "------------------------------------------------------------------------"
   ]
  },
  {
   "cell_type": "code",
   "execution_count": 185,
   "id": "e45c4a58-42da-41ae-8936-ec40a7b09219",
   "metadata": {},
   "outputs": [],
   "source": [
    "player_dummy = Agent()\n",
    "player_dummy.q_net.load_state_dict(\n",
    "    torch.load(\"q_net.pth\")\n",
    ")\n",
    "player_dummy.state, _ = env.reset()\n",
    "imgs = []"
   ]
  },
  {
   "cell_type": "code",
   "execution_count": 186,
   "id": "fd14acbc-2056-47e9-b13e-6684a30c4a6c",
   "metadata": {},
   "outputs": [],
   "source": [
    "player_dummy.eps = 0 \n",
    "while True:\n",
    "    player_dummy.act()\n",
    "    player_dummy.next_state, player_dummy.reward, player_dummy.terminated, player_dummy.truncated, _ = env.step(player_dummy.action)\n",
    "    imgs.append(env.render())\n",
    "    if player_dummy.terminated or player_dummy.truncated:\n",
    "        break\n",
    "    else:\n",
    "        player_dummy.state = player_dummy.next_state"
   ]
  },
  {
   "cell_type": "code",
   "execution_count": 187,
   "id": "272e93d0-f00e-410b-9566-0e1f5fc054cd",
   "metadata": {},
   "outputs": [],
   "source": [
    "show(imgs)"
   ]
  }
 ],
 "metadata": {
  "kernelspec": {
   "display_name": "Python 3 (ipykernel)",
   "language": "python",
   "name": "python3"
  },
  "language_info": {
   "codemirror_mode": {
    "name": "ipython",
    "version": 3
   },
   "file_extension": ".py",
   "mimetype": "text/x-python",
   "name": "python",
   "nbconvert_exporter": "python",
   "pygments_lexer": "ipython3",
   "version": "3.9.18"
  }
 },
 "nbformat": 4,
 "nbformat_minor": 5
}
