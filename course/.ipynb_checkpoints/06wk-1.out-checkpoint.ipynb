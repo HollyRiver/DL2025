{
 "cells": [
  {
   "cell_type": "markdown",
   "id": "08eff2db-0bd5-4c9f-a013-f4d914f74f99",
   "metadata": {},
   "source": [
    "# 06wk-1: (신경망) – 데이터분석 코딩패턴, 다중클래스 분류\n",
    "\n",
    "최규빈  \n",
    "2025-04-09\n",
    "\n",
    "<a href=\"https://colab.research.google.com/github/guebin/DL2025/blob/main/posts/06wk-1.ipynb\"><img src=\"https://colab.research.google.com/assets/colab-badge.svg\" style=\"text-align: left\"></a>\n",
    "\n",
    "# 1. 강의영상"
   ]
  },
  {
   "cell_type": "code",
   "execution_count": 4,
   "id": "1a2640bc-5ed4-4228-b4a3-d501e6540af9",
   "metadata": {
    "tags": []
   },
   "outputs": [],
   "source": [
    "# {{<video https://youtu.be/playlist?list=PLQqh36zP38-yx6DQsLACqw8pWm0udv8Jm&si=in1eMD0-wU49y7mS >}}"
   ]
  },
  {
   "cell_type": "markdown",
   "id": "264f357a-055b-4769-90ba-1df6b36dcb4b",
   "metadata": {},
   "source": [
    "# 2. Imports"
   ]
  },
  {
   "cell_type": "code",
   "execution_count": 129,
   "id": "611e986e-a60f-4153-8e72-a21a5d619bf9",
   "metadata": {
    "tags": []
   },
   "outputs": [],
   "source": [
    "import torch\n",
    "import torchvision\n",
    "import matplotlib.pyplot as plt"
   ]
  },
  {
   "cell_type": "code",
   "execution_count": 130,
   "id": "f11406c6-d3e3-43a3-9e4c-f6408d1771fa",
   "metadata": {},
   "outputs": [],
   "source": [
    "plt.rcParams['figure.figsize'] = (4.5, 3.0)"
   ]
  },
  {
   "cell_type": "markdown",
   "id": "dfbc4939-8d7f-4bb4-9436-390405a44677",
   "metadata": {},
   "source": [
    "# 3. 데이터분석 코딩패턴\n",
    "\n",
    "## A. 일반적인 train/test 셋팅\n",
    "\n",
    "`-` Step1: 데이터정리"
   ]
  },
  {
   "cell_type": "code",
   "execution_count": 131,
   "id": "b189fe60-06eb-4183-bf3b-902041a39388",
   "metadata": {},
   "outputs": [],
   "source": [
    "train_dataset = torchvision.datasets.MNIST(root='./data', train=True, download=True)\n",
    "test_dataset = torchvision.datasets.MNIST(root='./data', train=False, download=True)\n",
    "to_tensor = torchvision.transforms.ToTensor()\n",
    "X0 = torch.stack([to_tensor(img) for img, lbl in train_dataset if lbl==0])\n",
    "X1 = torch.stack([to_tensor(img) for img, lbl in train_dataset if lbl==1])\n",
    "X = torch.concat([X0,X1],axis=0).reshape(-1,784)\n",
    "y = torch.tensor([0.0]*len(X0) + [1.0]*len(X1)).reshape(-1,1)\n",
    "XX0 = torch.stack([to_tensor(img) for img, lbl in test_dataset if lbl==0])\n",
    "XX1 = torch.stack([to_tensor(img) for img, lbl in test_dataset if lbl==1])\n",
    "XX = torch.concat([XX0,XX1],axis=0).reshape(-1,784)\n",
    "yy = torch.tensor([0.0]*len(XX0) + [1.0]*len(XX1)).reshape(-1,1)"
   ]
  },
  {
   "cell_type": "markdown",
   "id": "bf7725d0-6cea-445b-aa21-5101b27fa4e3",
   "metadata": {},
   "source": [
    "`-` Step2: 학습가능한 오브젝트들의 설정 (모델링과정 포함)"
   ]
  },
  {
   "cell_type": "code",
   "execution_count": 132,
   "id": "44e0cb15-1dee-4385-a2cc-c0d50185ffeb",
   "metadata": {},
   "outputs": [],
   "source": [
    "torch.manual_seed(1)\n",
    "net = torch.nn.Sequential(\n",
    "    torch.nn.Linear(784,32),\n",
    "    torch.nn.ReLU(),\n",
    "    torch.nn.Linear(32,1),\n",
    "    torch.nn.Sigmoid()\n",
    ")\n",
    "loss_fn = torch.nn.BCELoss()\n",
    "optimizr = torch.optim.SGD(net.parameters())"
   ]
  },
  {
   "cell_type": "markdown",
   "id": "f3c99a40-fbb6-473a-b43b-d31a9eab8d8f",
   "metadata": {},
   "source": [
    "`-` Step3: 학습 (=적합)"
   ]
  },
  {
   "cell_type": "code",
   "execution_count": 133,
   "id": "2e2cf21d-0cf8-48eb-b34e-fdbc0f915f39",
   "metadata": {},
   "outputs": [
    {
     "name": "stdout",
     "output_type": "stream",
     "text": [
      "# of epochs = 50,    acc= 0.45\n",
      "# of epochs = 100,   acc= 0.66\n",
      "# of epochs = 150,   acc= 0.85\n",
      "# of epochs = 200,   acc= 0.94\n",
      "# of epochs = 250,   acc= 0.97\n",
      "# of epochs = 300,   acc= 0.98\n",
      "# of epochs = 350,   acc= 0.99\n",
      "# of epochs = 400,   acc= 0.99\n",
      "# of epochs = 450,   acc= 0.99\n",
      "# of epochs = 500,   acc= 0.99"
     ]
    }
   ],
   "source": [
    "for epoc in range(1,501):\n",
    "    #----에폭시작-----#\n",
    "    # step1 \n",
    "    yhat = net(X)\n",
    "    # step2 \n",
    "    loss = loss_fn(yhat,y)\n",
    "    # step3     \n",
    "    loss.backward()\n",
    "    # step4 \n",
    "    optimizr.step()\n",
    "    optimizr.zero_grad()\n",
    "    #-----에폭끝-----#\n",
    "    # 에폭별로 살펴보고 싶은 뭔가들.. \n",
    "    if (epoc % 50) == 0:\n",
    "        acc = ((net(X).data > 0.5) == y).float().mean()\n",
    "        print(f\"# of epochs = {epoc},\\t acc={acc.item(): .2f}\")"
   ]
  },
  {
   "cell_type": "markdown",
   "id": "4697ef44-1202-4d1c-b3c9-5eeb33c10b4e",
   "metadata": {},
   "source": [
    "`-` Step4: 예측 & 결과분석\n",
    "\n",
    "*train acc*"
   ]
  },
  {
   "cell_type": "code",
   "execution_count": 6,
   "id": "681dc23b-d18b-4fc2-aa5d-7aaad37f9039",
   "metadata": {},
   "outputs": [],
   "source": [
    "((net(X) > 0.5)*1.0 ==  y).float().mean()"
   ]
  },
  {
   "cell_type": "markdown",
   "id": "3f84ec30-e17f-4df0-a025-b60fbfcefae4",
   "metadata": {},
   "source": [
    "*test acc*"
   ]
  },
  {
   "cell_type": "code",
   "execution_count": 7,
   "id": "8c94aa6b-68a3-4612-93e4-c6f27cb3b45b",
   "metadata": {},
   "outputs": [],
   "source": [
    "((net(XX) > 0.5)*1.0 ==  yy).float().mean()"
   ]
  },
  {
   "cell_type": "markdown",
   "id": "8810f101-05e6-4723-9c29-5910c9e67413",
   "metadata": {},
   "source": [
    "## B. Dropout 사용\n",
    "\n",
    "`-` Step1: 데이터정리"
   ]
  },
  {
   "cell_type": "code",
   "execution_count": 8,
   "id": "dd15729f-8336-4cf8-9ea6-8547572e975a",
   "metadata": {},
   "outputs": [],
   "source": [
    "pass"
   ]
  },
  {
   "cell_type": "markdown",
   "id": "651f744b-df36-442b-87e5-b9f4b93a7c7a",
   "metadata": {},
   "source": [
    "`-` Step2: 학습가능한 오브젝트들의 설정 (모델링과정 포함)"
   ]
  },
  {
   "cell_type": "code",
   "execution_count": 139,
   "id": "412f7380-df01-4a29-9767-59310e773001",
   "metadata": {},
   "outputs": [],
   "source": [
    "torch.manual_seed(1)\n",
    "net = torch.nn.Sequential(\n",
    "    torch.nn.Linear(784,32),\n",
    "    torch.nn.Dropout(0.9),\n",
    "    torch.nn.ReLU(),\n",
    "    torch.nn.Linear(32,1),\n",
    "    torch.nn.Sigmoid()\n",
    ")\n",
    "loss_fn = torch.nn.BCELoss()\n",
    "optimizr = torch.optim.SGD(net.parameters())"
   ]
  },
  {
   "cell_type": "markdown",
   "id": "a43982cd-a0e5-4a7b-8137-b0a10019f4d6",
   "metadata": {},
   "source": [
    "`-` Step3: 학습 (=적합)"
   ]
  },
  {
   "cell_type": "code",
   "execution_count": 140,
   "id": "d70bfc95-e59f-41f1-abdb-4ddba9622d5b",
   "metadata": {},
   "outputs": [
    {
     "name": "stdout",
     "output_type": "stream",
     "text": [
      "# of epochs = 50,    acc= 0.45\n",
      "# of epochs = 100,   acc= 0.63\n",
      "# of epochs = 150,   acc= 0.81\n",
      "# of epochs = 200,   acc= 0.92\n",
      "# of epochs = 250,   acc= 0.96\n",
      "# of epochs = 300,   acc= 0.98\n",
      "# of epochs = 350,   acc= 0.99\n",
      "# of epochs = 400,   acc= 0.99\n",
      "# of epochs = 450,   acc= 0.99\n",
      "# of epochs = 500,   acc= 0.99"
     ]
    }
   ],
   "source": [
    "for epoc in range(1,501):\n",
    "    net.train()\n",
    "    #----에폭시작-----#\n",
    "    # step1 \n",
    "    yhat = net(X)\n",
    "    # step2 \n",
    "    loss = loss_fn(yhat,y)\n",
    "    # step3     \n",
    "    loss.backward()\n",
    "    # step4 \n",
    "    optimizr.step()\n",
    "    optimizr.zero_grad()\n",
    "    #-----에폭끝-----#\n",
    "    net.eval()\n",
    "    # 에폭별로 살펴보고 싶은 뭔가들.. \n",
    "    if (epoc % 50) == 0:\n",
    "        acc = ((net(X).data > 0.5) == y).float().mean()\n",
    "        print(f\"# of epochs = {epoc},\\t acc={acc.item(): .2f}\")"
   ]
  },
  {
   "cell_type": "markdown",
   "id": "46557789-1703-4049-a8ca-6d734be6894b",
   "metadata": {},
   "source": [
    "`-` Step4: 예측 & 결과분석\n",
    "\n",
    "*train acc*"
   ]
  },
  {
   "cell_type": "code",
   "execution_count": 141,
   "id": "ec09ae57-0f8b-4856-8e56-65a8c2d3f5dc",
   "metadata": {},
   "outputs": [],
   "source": [
    "((net(X) > 0.5)*1.0 ==  y).float().mean()"
   ]
  },
  {
   "cell_type": "markdown",
   "id": "098cb607-0798-48c7-9364-8b370d639594",
   "metadata": {},
   "source": [
    "*test acc*"
   ]
  },
  {
   "cell_type": "code",
   "execution_count": 142,
   "id": "1342b71c-fb63-4b56-bb94-8b435309cfc9",
   "metadata": {},
   "outputs": [],
   "source": [
    "((net(XX) > 0.5)*1.0 ==  yy).float().mean()"
   ]
  },
  {
   "cell_type": "markdown",
   "id": "76081fad-68a4-4127-ba48-ca005ce2b1d8",
   "metadata": {},
   "source": [
    "## C. GPU도 사용\n",
    "\n",
    "`-` Step1: 데이터정리"
   ]
  },
  {
   "cell_type": "code",
   "execution_count": 13,
   "id": "517a3db6-c303-4f79-a3db-4d881fffb4e0",
   "metadata": {},
   "outputs": [],
   "source": [
    "pass"
   ]
  },
  {
   "cell_type": "markdown",
   "id": "b05098c8-0334-478c-b1dd-a8888b5cc5b3",
   "metadata": {},
   "source": [
    "`-` Step2: 학습가능한 오브젝트들의 설정 (모델링과정 포함)"
   ]
  },
  {
   "cell_type": "code",
   "execution_count": 143,
   "id": "6e7ba6ca-79bd-439b-97be-8e6e57f663a0",
   "metadata": {},
   "outputs": [],
   "source": [
    "torch.manual_seed(1)\n",
    "net = torch.nn.Sequential(\n",
    "    torch.nn.Linear(784,32),\n",
    "    torch.nn.Dropout(0.9),\n",
    "    torch.nn.ReLU(),\n",
    "    torch.nn.Linear(32,1),\n",
    "    torch.nn.Sigmoid()\n",
    ").to(\"cuda:0\")\n",
    "loss_fn = torch.nn.BCELoss()\n",
    "optimizr = torch.optim.SGD(net.parameters())"
   ]
  },
  {
   "cell_type": "markdown",
   "id": "f2aa4e3c-8fc5-41f0-bac7-93d2d7a783af",
   "metadata": {},
   "source": [
    "`-` Step3: 학습 (=적합)"
   ]
  },
  {
   "cell_type": "code",
   "execution_count": 144,
   "id": "72ad2f6e-e03c-4df4-8b90-c9c6871ddd89",
   "metadata": {},
   "outputs": [
    {
     "name": "stdout",
     "output_type": "stream",
     "text": [
      "# of epochs = 50,    acc= 0.45\n",
      "# of epochs = 100,   acc= 0.63\n",
      "# of epochs = 150,   acc= 0.81\n",
      "# of epochs = 200,   acc= 0.92\n",
      "# of epochs = 250,   acc= 0.96\n",
      "# of epochs = 300,   acc= 0.98\n",
      "# of epochs = 350,   acc= 0.99\n",
      "# of epochs = 400,   acc= 0.99\n",
      "# of epochs = 450,   acc= 0.99\n",
      "# of epochs = 500,   acc= 0.99"
     ]
    }
   ],
   "source": [
    "for epoc in range(1,501):\n",
    "    net.train()\n",
    "    #----에폭시작-----#\n",
    "    X = X.to(\"cuda:0\")\n",
    "    y = y.to(\"cuda:0\")\n",
    "    # step1 \n",
    "    yhat = net(X)\n",
    "    # step2 \n",
    "    loss = loss_fn(yhat,y)\n",
    "    # step3     \n",
    "    loss.backward()\n",
    "    # step4 \n",
    "    optimizr.step()\n",
    "    \n",
    "    optimizr.zero_grad()\n",
    "    #-----에폭끝-----#\n",
    "    net.eval()\n",
    "    # 에폭별로 살펴보고 싶은 뭔가들.. \n",
    "    if (epoc % 50) == 0:\n",
    "        acc = ((net(X).data > 0.5) == y).float().mean()\n",
    "        print(f\"# of epochs = {epoc},\\t acc={acc.item(): .2f}\")"
   ]
  },
  {
   "cell_type": "markdown",
   "id": "e13cdd86-460b-4ee6-b203-09406386c020",
   "metadata": {},
   "source": [
    "`-` Step4: 예측 & 결과분석\n",
    "\n",
    "*train acc*"
   ]
  },
  {
   "cell_type": "code",
   "execution_count": 145,
   "id": "7071cb97-b76d-4f1f-9546-bcd403ea1c9b",
   "metadata": {},
   "outputs": [],
   "source": [
    "((net(X) > 0.5) ==  y).float().mean()"
   ]
  },
  {
   "cell_type": "markdown",
   "id": "9d6995f7-3969-403f-9970-f810d9512031",
   "metadata": {},
   "source": [
    "*test acc*"
   ]
  },
  {
   "cell_type": "code",
   "execution_count": 146,
   "id": "cd8823ff-0ccb-418c-89e8-b372ca3eb457",
   "metadata": {},
   "outputs": [],
   "source": [
    "#((net(XX) > 0.5) ==  yy).float().mean() -- 오류나요"
   ]
  },
  {
   "cell_type": "markdown",
   "id": "76b7fb2e-a1ea-4779-a6dc-bd9fcf2e638b",
   "metadata": {},
   "source": [
    "-   방법1 – net을 cpu로 내림\n",
    "-   방법2 – net를 cuda에 유지 (=XX,yy를 cuda로 올림)"
   ]
  },
  {
   "cell_type": "code",
   "execution_count": 147,
   "id": "9b76e927-6ab7-4916-a26f-b4c730d448dc",
   "metadata": {},
   "outputs": [],
   "source": [
    "# net를 쿠다에 유지하는 방법으로 해보자..\n",
    "XX = XX.to(\"cuda:0\")\n",
    "yy = yy.to(\"cuda:0\")\n",
    "((net(XX) > 0.5) ==  yy).float().mean()"
   ]
  },
  {
   "cell_type": "markdown",
   "id": "5fe469fd-967c-4113-aa64-a457c6bf5fd8",
   "metadata": {},
   "source": [
    "## D. 미니배치도 사용\n",
    "\n",
    "`-` Step1: 데이터정리"
   ]
  },
  {
   "cell_type": "code",
   "execution_count": 152,
   "id": "35bc4aae-9f97-4f29-85aa-91d23df389eb",
   "metadata": {},
   "outputs": [],
   "source": [
    "X = X.to(\"cpu\")\n",
    "y = y.to(\"cpu\")\n",
    "XX = XX.to(\"cpu\")\n",
    "yy = yy.to(\"cpu\")"
   ]
  },
  {
   "cell_type": "code",
   "execution_count": 153,
   "id": "91a5f6d7-2fcc-4b03-9c12-4cfeafd3f418",
   "metadata": {},
   "outputs": [],
   "source": [
    "ds = torch.utils.data.TensorDataset(X,y)\n",
    "dl = torch.utils.data.DataLoader(ds, batch_size=16)"
   ]
  },
  {
   "cell_type": "markdown",
   "id": "fdd5eadc-66d7-4cce-b1f8-6b36a43ff9d4",
   "metadata": {},
   "source": [
    "`-` Step2: 학습가능한 오브젝트들의 설정 (모델링과정 포함)"
   ]
  },
  {
   "cell_type": "code",
   "execution_count": 154,
   "id": "7f55c858-b302-4088-895c-7d95c7d784c0",
   "metadata": {},
   "outputs": [],
   "source": [
    "torch.manual_seed(1)\n",
    "net = torch.nn.Sequential(\n",
    "    torch.nn.Linear(784,32),\n",
    "    torch.nn.Dropout(0.5),\n",
    "    torch.nn.ReLU(),\n",
    "    torch.nn.Linear(32,1),\n",
    "    torch.nn.Sigmoid()\n",
    ").to(\"cuda:0\")\n",
    "loss_fn = torch.nn.BCELoss()\n",
    "optimizr = torch.optim.SGD(net.parameters())"
   ]
  },
  {
   "cell_type": "markdown",
   "id": "a62d29c9-c5a8-47dc-9e90-e1ce52b7f877",
   "metadata": {},
   "source": [
    "`-` Step3: 학습 (=적합)"
   ]
  },
  {
   "cell_type": "code",
   "execution_count": 155,
   "id": "826adc17-6f4e-4d6a-9bca-fb7beb019c87",
   "metadata": {},
   "outputs": [
    {
     "name": "stdout",
     "output_type": "stream",
     "text": [
      "# of epochs = 1,     acc= 0.9738\n",
      "# of epochs = 2,     acc= 0.9886"
     ]
    }
   ],
   "source": [
    "for epoc in range(1,3):\n",
    "    net.train()\n",
    "    #----에폭시작-----#\n",
    "    for Xm,ym in dl:\n",
    "        Xm = Xm.to(\"cuda:0\")\n",
    "        ym = ym.to(\"cuda:0\")\n",
    "        # step1 \n",
    "        ym_hat = net(Xm)\n",
    "        # step2 \n",
    "        loss = loss_fn(ym_hat,ym)\n",
    "        # step3     \n",
    "        loss.backward()\n",
    "        # step4 \n",
    "        optimizr.step()\n",
    "        optimizr.zero_grad()\n",
    "    #-----에폭끝-----#\n",
    "    net.eval()\n",
    "    # 에폭별로 살펴보고 싶은 뭔가들..\n",
    "        # ## 방법1 -- net를 cpu로 내림\n",
    "        # net.to(\"cpu\")\n",
    "        # acc = ((net(X.data) > 0.5) == y.data).float().mean()\n",
    "        # print(f\"# of epochs = {epoc},\\t acc={acc.item(): .4f}\")    \n",
    "        # net.to(\"cuda:0\")\n",
    "    ## 방법2 -- net을 cuda에 유지 \n",
    "    s = 0 \n",
    "    for Xm,ym in dl:\n",
    "        Xm = Xm.to(\"cuda:0\")\n",
    "        ym = ym.to(\"cuda:0\")\n",
    "        s = s + ((net(Xm).data > 0.5) == ym.data).float().sum()\n",
    "    acc = s/12665\n",
    "    print(f\"# of epochs = {epoc},\\t acc={acc.item(): .4f}\")"
   ]
  },
  {
   "cell_type": "markdown",
   "id": "c4b01601-51bd-495d-a383-3a4f24234111",
   "metadata": {},
   "source": [
    "`-` Step4: 예측 & 결과분석"
   ]
  },
  {
   "cell_type": "code",
   "execution_count": 156,
   "id": "2be76ac8-201c-4072-b5ea-aa2a9c300263",
   "metadata": {},
   "outputs": [],
   "source": [
    "net.to(\"cpu\")"
   ]
  },
  {
   "cell_type": "markdown",
   "id": "ddbda652-778a-4220-b942-d73932794fe4",
   "metadata": {},
   "source": [
    "*train acc*"
   ]
  },
  {
   "cell_type": "code",
   "execution_count": 157,
   "id": "a042c44c-d5b3-423a-a5aa-82ad8b80b2e9",
   "metadata": {},
   "outputs": [],
   "source": [
    "((net(X) > 0.5)*1.0 ==  y).float().mean()"
   ]
  },
  {
   "cell_type": "markdown",
   "id": "8537d563-d1bf-4a83-8ab0-7bb72cae53c6",
   "metadata": {},
   "source": [
    "*test acc*"
   ]
  },
  {
   "cell_type": "code",
   "execution_count": 158,
   "id": "1acc9bcf-464b-44a0-841d-6a0397d8d332",
   "metadata": {},
   "outputs": [],
   "source": [
    "((net(XX) > 0.5)*1.0 ==  yy).float().mean()"
   ]
  },
  {
   "cell_type": "markdown",
   "id": "5ae73a0e-ba0e-4d94-ac6d-7cc29adf192f",
   "metadata": {},
   "source": [
    "> 점점 **비본질적인** 코드가 늘어남 (=코드가 드럽다는 소리에요) –\\>\n",
    "> Trainer의 개념 등장\n",
    "\n",
    "# 4. 다항분류\n",
    "\n",
    "## A. 이항분류와 `BCEWithLogitsLoss`\n",
    "\n",
    "`-` 데이터"
   ]
  },
  {
   "cell_type": "code",
   "execution_count": 49,
   "id": "ae520f67-f8db-4043-93b0-341c5860b5d4",
   "metadata": {},
   "outputs": [],
   "source": [
    "train_dataset = torchvision.datasets.MNIST(root='./data', train=True, download=True)\n",
    "# test_dataset = torchvision.datasets.MNIST(root='./data', train=False, download=True)\n",
    "to_tensor = torchvision.transforms.ToTensor()\n",
    "X0_train = torch.stack([to_tensor(Xi) for Xi, yi in train_dataset if yi==0])\n",
    "X1_train = torch.stack([to_tensor(Xi) for Xi, yi in train_dataset if yi==1])\n",
    "# X0_test = torch.stack([to_tensor(Xi) for Xi, yi in test_dataset if yi==0])\n",
    "# X1_test = torch.stack([to_tensor(Xi) for Xi, yi in test_dataset if yi==1])\n",
    "X = torch.concat([X0_train,X1_train],axis=0).reshape(-1,784)\n",
    "y = torch.tensor([0.0]*len(X0_train) + [1.0]*len(X1_train)).reshape(-1,1)\n",
    "# XX = torch.concat([X0_test,X1_test],axis=0).reshape(-1,784)\n",
    "# yy = torch.tensor([0.0]*len(X0_test) + [1.0]*len(X1_test)).reshape(-1,1)"
   ]
  },
  {
   "cell_type": "markdown",
   "id": "9f4e318a-8dca-4495-a40d-951418710530",
   "metadata": {},
   "source": [
    "-   굳이 테스트는 필요없어서..\n",
    "\n",
    "`-` 예전코드는 아래와 같음 (sig는 수동처리함)"
   ]
  },
  {
   "cell_type": "code",
   "execution_count": 55,
   "id": "673d6745-bdbb-4d5d-839e-b141eb658004",
   "metadata": {},
   "outputs": [
    {
     "name": "stdout",
     "output_type": "stream",
     "text": [
      "epoch = 1    acc = 0.4677\n",
      "epoch = 2    acc = 0.4677\n",
      "epoch = 3    acc = 0.4745\n",
      "epoch = 4    acc = 0.5572\n",
      "epoch = 5    acc = 0.6995\n",
      "epoch = 6    acc = 0.8175\n",
      "epoch = 7    acc = 0.8904\n",
      "epoch = 8    acc = 0.9255\n",
      "epoch = 9    acc = 0.9444\n",
      "epoch = 10   acc = 0.9577"
     ]
    }
   ],
   "source": [
    "torch.manual_seed(0)\n",
    "net = torch.nn.Sequential(\n",
    "    torch.nn.Linear(784,32),\n",
    "    torch.nn.ReLU(),\n",
    "    torch.nn.Linear(32,1)\n",
    ")\n",
    "loss_fn = torch.nn.BCELoss()\n",
    "optimizr = torch.optim.Adam(net.parameters())\n",
    "#---#\n",
    "for epoc in range(1,11):\n",
    "    # step1 \n",
    "    netout = net(X) # netout = logits \n",
    "    yhat = torch.exp(netout) / (1 + torch.exp(netout)) # yhat = prob \n",
    "    # step2\n",
    "    loss = loss_fn(yhat,y) \n",
    "    # step3     \n",
    "    loss.backward()\n",
    "    # step4 \n",
    "    optimizr.step()\n",
    "    optimizr.zero_grad()\n",
    "    #---에폭끝나고 확인할 것들---#\n",
    "    acc = ((net(X).data > 0)  == y).float().mean()\n",
    "    print(f\"epoch = {epoc}\\t acc = {acc:.4f}\")"
   ]
  },
  {
   "cell_type": "markdown",
   "id": "52670791-25b0-4a24-a341-2d5d660d9b23",
   "metadata": {},
   "source": [
    "`#` netout(= logits) 의 특징\n",
    "\n",
    "-   $netout > 0 \\Leftrightarrow sig(netout) >0.5$\n",
    "-   $netout < 0 \\Leftrightarrow sig(netout) <0.5$\n",
    "\n",
    "`-` 그런데 위의 코드는 아래의 코드와 같음"
   ]
  },
  {
   "cell_type": "code",
   "execution_count": 56,
   "id": "0f90a57b-f906-4a5d-829a-512d81e90e6c",
   "metadata": {},
   "outputs": [
    {
     "name": "stdout",
     "output_type": "stream",
     "text": [
      "epoch = 1    acc = 0.4677\n",
      "epoch = 2    acc = 0.4677\n",
      "epoch = 3    acc = 0.4745\n",
      "epoch = 4    acc = 0.5572\n",
      "epoch = 5    acc = 0.6995\n",
      "epoch = 6    acc = 0.8175\n",
      "epoch = 7    acc = 0.8904\n",
      "epoch = 8    acc = 0.9255\n",
      "epoch = 9    acc = 0.9444\n",
      "epoch = 10   acc = 0.9577"
     ]
    }
   ],
   "source": [
    "torch.manual_seed(0)\n",
    "net = torch.nn.Sequential(\n",
    "    torch.nn.Linear(784,32),\n",
    "    torch.nn.ReLU(),\n",
    "    torch.nn.Linear(32,1)\n",
    ")\n",
    "loss_fn = torch.nn.BCEWithLogitsLoss() # <--- 여기를 바꾸고 \n",
    "optimizr = torch.optim.Adam(net.parameters())\n",
    "#---#\n",
    "for epoc in range(1,11):\n",
    "    # step1 \n",
    "    netout = net(X) # netout = logits \n",
    "    # yhat = torch.exp(netout) / (1 + torch.exp(netout))  # yhat = prob \n",
    "    # step2\n",
    "    loss = loss_fn(netout,y) \n",
    "    # step3     \n",
    "    loss.backward()\n",
    "    # step4 \n",
    "    optimizr.step()\n",
    "    optimizr.zero_grad()\n",
    "    #---에폭끝나고 확인할 것들---#\n",
    "    acc = ((net(X).data > 0)  == y).float().mean()\n",
    "    print(f\"epoch = {epoc}\\t acc = {acc:.4f}\")"
   ]
  },
  {
   "cell_type": "markdown",
   "id": "05cd1e2e-c9de-4559-bc0c-e51f6501a260",
   "metadata": {},
   "source": [
    "## B. 범주형자료의 변환\n",
    "\n",
    "`-` 범주형자료를 숫자로 어떻게 바꿀까?\n",
    "\n",
    "-   실패 / 성공 $\\to$ 0 / 1\n",
    "-   숫자0그림 / 숫자1그림 $\\to$ 0 / 1\n",
    "-   강아지그림 / 고양이그림 $\\to$ 0 / 1\n",
    "-   강아지그림 / 고양이그림 / 토끼그림 $\\to$ 0 / 1 / 2 ?????\n",
    "\n",
    "`-` 주입식교육: 강아지그림/고양이그림/토끼그림일 경우 숫자화시키는 방법\n",
    "\n",
    "-   잘못된방식: 강아지그림 = 0, 고양이그림 = 1, 토끼그림 = 2\n",
    "-   올바른방식: 강아지그림 = \\[1,0,0\\], 고양이그림 = \\[0,1,0\\], 토끼그림\n",
    "    = \\[0,0,1\\] \\### \\<– 이런방식을 원핫인코딩이라함\n",
    "\n",
    "`-` 왜?\n",
    "\n",
    "-   설명1: 강아지그림, 고양이그림, 토끼그림은 서열측도가 아니라\n",
    "    명목척도임. 그래서 범주를 0,1,2 로 숫자화하면 평균등의 의미가 없음\n",
    "    (사회조사분석사 2급 스타일)\n",
    "-   설명2: 범주형은 원핫인코딩으로 해야함 (“30일만에 끝내는\n",
    "    실전머신러닝” 이런 책에 나오는 스타일)\n",
    "-   설명3: 동전을 한번 던져서 나오는 결과는 $n=1$인 이항분포를 따름.\n",
    "    주사위 한번 던져서 나오는 눈금의 숫자는 $n=1$인 다항분포를 따름.\n",
    "    $n=1$인 이항분포의 실현값은 0,1 이고, $n=1$인 다항분포의 실현값은\n",
    "    \\[1,0,0\\], \\[0,1,0\\], \\[0,0,1\\] 이므로 당연히 $y_i$ 는 \\[1,0,0\\],\n",
    "    \\[0,1,0\\], \\[0,0,1\\] 중 하나의 형태를 가진다고 가정하는게 바람직함\n",
    "    (이 설명이 이 중에서 가장 정확한 설명임)\n",
    "\n",
    "## C. 실습: 3개의 클래스를 구분¶\n",
    "\n",
    "`-` 데이터준비"
   ]
  },
  {
   "cell_type": "code",
   "execution_count": 125,
   "id": "7b1ff810-df3a-4464-b478-970198a01264",
   "metadata": {},
   "outputs": [],
   "source": [
    "train_dataset = torchvision.datasets.MNIST(root='./data', train=True, download=True)\n",
    "to_tensor = torchvision.transforms.ToTensor()\n",
    "X0 = torch.stack([to_tensor(Xi) for Xi, yi in train_dataset if yi==0])\n",
    "X1 = torch.stack([to_tensor(Xi) for Xi, yi in train_dataset if yi==1])\n",
    "X2 = torch.stack([to_tensor(Xi) for Xi, yi in train_dataset if yi==2])\n",
    "X = torch.concat([X0,X1,X2]).reshape(-1,1*28*28)\n",
    "y = torch.tensor([0]*len(X0) + [1]*len(X1)+ [2]*len(X2)).reshape(-1,1).float()"
   ]
  },
  {
   "cell_type": "code",
   "execution_count": 126,
   "id": "5d61b01a-b418-43d9-918a-83325ff5a38b",
   "metadata": {},
   "outputs": [],
   "source": [
    "y = torch.nn.functional.one_hot(y.flatten().long()).float()"
   ]
  },
  {
   "cell_type": "markdown",
   "id": "28c9e2e8-79c2-4b60-9d04-ee34da58c820",
   "metadata": {},
   "source": [
    "`-` 적합"
   ]
  },
  {
   "cell_type": "code",
   "execution_count": 127,
   "id": "37cbd11f-fd22-4a5d-97a8-ce1fac9cb536",
   "metadata": {},
   "outputs": [],
   "source": [
    "torch.manual_seed(43052)\n",
    "net = torch.nn.Sequential(\n",
    "    torch.nn.Linear(784,32),\n",
    "    torch.nn.ReLU(),\n",
    "    torch.nn.Linear(32,3),\n",
    ")\n",
    "loss_fn = torch.nn.CrossEntropyLoss() # 이름이 좀 그래.. 나같으면 CEWithLogitsLoss 라고 했을듯 \n",
    "optimizr = torch.optim.Adam(net.parameters())\n",
    "#---#\n",
    "for epoc in range(100):\n",
    "    ## step1 \n",
    "    netout = net(X)\n",
    "    ## step2 \n",
    "    loss = loss_fn(netout,y)\n",
    "    ## step3 \n",
    "    loss.backward()\n",
    "    ## step4 \n",
    "    optimizr.step()\n",
    "    optimizr.zero_grad()"
   ]
  },
  {
   "cell_type": "code",
   "execution_count": 128,
   "id": "0688157a-0a59-4829-8826-92c67081da45",
   "metadata": {},
   "outputs": [],
   "source": [
    "(net(X).argmax(axis=1)  == y.argmax(axis=1)).float().mean()"
   ]
  },
  {
   "cell_type": "markdown",
   "id": "afd1d45d-fcec-492a-91e0-60cc3afef96b",
   "metadata": {},
   "source": [
    "## D. 결론 – 외우세여\n",
    "\n",
    "`-` 파이토치버전 // 코딩용\n",
    "\n",
    "|   분류   | netout의 의미 |      손실함수       |\n",
    "|:--------:|:-------------:|:-------------------:|\n",
    "| 이항분류 |     prob      |      `BCELoss`      |\n",
    "| 이항분류 |     logit     | `BCEWithLogitsLoss` |\n",
    "| 다항분류 |     probs     |         NA          |\n",
    "| 다항분류 |    logits     | `CrossEntropyLoss`  |\n",
    "\n",
    "> `CrossEntropyLoss` 이거 이름이 완전 마음에 안들어요..\n",
    "> `CEWithLogitsLoss` 라고 하는게 더 좋을 것 같습니다.\n",
    "\n",
    "`-` 일반적개념 // 이론용\n",
    "\n",
    "|   분류   | 오차항의가정 | 마지막활성화함수 |       손실함수       |\n",
    "|:--------:|:------------:|:----------------:|:--------------------:|\n",
    "| 이항분류 |   이항분포   |    sigmoid[1]    | Binary Cross Entropy |\n",
    "| 다항분류 |   다항분포   |    softmax[2]    |    Cross Entropy     |\n",
    "\n",
    "[1] prob=sig(logit)\n",
    "\n",
    "[2] probs=soft(logits)"
   ]
  }
 ],
 "metadata": {
  "kernelspec": {
   "display_name": "Python 3 (ipykernel)",
   "language": "python",
   "name": "python3"
  },
  "language_info": {
   "codemirror_mode": {
    "name": "ipython",
    "version": 3
   },
   "file_extension": ".py",
   "mimetype": "text/x-python",
   "name": "python",
   "nbconvert_exporter": "python",
   "pygments_lexer": "ipython3",
   "version": "3.9.18"
  }
 },
 "nbformat": 4,
 "nbformat_minor": 5
}
