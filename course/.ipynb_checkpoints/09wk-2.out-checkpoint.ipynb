{
  "cells": [
    {
      "cell_type": "markdown",
      "metadata": {},
      "source": [
        "# 09wk-2: (생성모형) – Generative Adversarial Network (GAN)\n",
        "\n",
        "최규빈  \n",
        "2025-05-05\n",
        "\n",
        "<a href=\"https://colab.research.google.com/github/guebin/DL2025/blob/main/posts/09wk-2.ipynb\"><img src=\"https://colab.research.google.com/assets/colab-badge.svg\" style=\"text-align: left\"></a>\n",
        "\n",
        "# 1. 강의영상\n",
        "\n",
        "<https://youtu.be/playlist?list=PLQqh36zP38-zVPiasR6XsxI1sn94-Tmqq&si=uVhkHcuS7nIAnNb_>\n",
        "\n",
        "# 2. Imports"
      ],
      "id": "d2f64049-a76f-44ad-ab95-e4f74616bb30"
    },
    {
      "cell_type": "code",
      "execution_count": 1,
      "metadata": {
        "tags": []
      },
      "outputs": [],
      "source": [
        "import torch \n",
        "import torchvision\n",
        "import matplotlib.pyplot as plt "
      ],
      "id": "8f622828-1f15-4ee0-a2fd-680c24d412ad"
    },
    {
      "cell_type": "markdown",
      "metadata": {},
      "source": [
        "# 3. GAN (Goodfellow et al. 2014) intro\n",
        "\n",
        "## A. 잡썰\n",
        "\n",
        "`-` 저자: 이안굿펠로우\n",
        "\n",
        "-   천재임\n",
        "-   지도교수가 요수아 벤지오\n",
        "\n",
        "`-` 저는 아래의 논문 읽고 소름돋았어요..\n",
        "\n",
        "-   https://arxiv.org/abs/1406.2661\n",
        "\n",
        "`-` 최근 10년간 머신러닝 분야에서 가장 혁신적인 아이디어이다. (얀르쿤,\n",
        "2014년 시점..)\n",
        "\n",
        "`-` 야사와 만화로 배우는 인공지능\n",
        "\n",
        "-   https://wedatalab.tistory.com/125\n",
        "\n",
        "## B. GAN의 원리\n",
        "\n",
        "`-` GAN의 원리는 경찰과 위조지폐범이 서로 선의의(?) 경쟁을 통하여 서로\n",
        "발전하는 모형으로 설명할 수 있다.\n",
        "\n",
        "> The generative model can be thought of as analogous to a team of\n",
        "> fakers, trying to produce fake currency and use it without detection,\n",
        "> while the discriminative model is analogous to the police, trying to\n",
        "> detect the counterfeit currency. Competition in this game drives both\n",
        "> teams to improve their methods until the counterfeits are\n",
        "> indistiguishable from the genuine articles.\n",
        "\n",
        "`-` 서로 적대적인(adversarial) 네트워크(network)를 동시에 학습시켜\n",
        "가짜이미지를 만든다(generate)\n",
        "\n",
        "`-` 무식한 상황극..\n",
        "\n",
        "-   위조범: 가짜돈을 만들어서 부자가 되어야지! (가짜돈을 그림)\n",
        "-   경찰: (위조범이 만든 돈을 보고) 이건 가짜다!\n",
        "-   위조범: 걸렸군.. 더 정교하게 만들어야지..\n",
        "-   경찰: (깜빡 속으며) 이건 진짠가?… –\\> 상사에게 혼남 –\\> 판별능력\n",
        "    업그레이드 –\\> 이건 가짜다!!\n",
        "-   위조범: 더 정교하게 만들자..\n",
        "-   경찰: 더 판별능력을 업그레이드 하자!\n",
        "-   반복..\n",
        "\n",
        "`-` 굉장히 우수한 경찰조차도 진짜와 가짜를 구분하지 못할때(=진짜\n",
        "이미지를 0.5의 확률로만 진짜라고 말할때 = 가짜 이미지를 0.5의 확률로만\n",
        "가짜라고 말할때) 학습을 멈춘다.\n",
        "\n",
        "## C. 생성모형이란? (쉬운 설명)\n",
        "\n",
        "`-` 사진속에 들어있는 동물이 개인지 고양이인지 맞출수 있는 기계와 개와\n",
        "고양이를 그릴수 있는 기계중 어떤것이 더 시각적보에 대한 이해가 깊다고 볼\n",
        "수 있는가?\n",
        "\n",
        "`-` 진정으로 인공지능이 이미지자료를 이해했다면, 이미지를 만들수도\n",
        "있어야 한다. $\\to$ 이미지를 생성하는 모형을 만들어보자 $\\to$ 성공\n",
        "\n",
        "![](https://upload.wikimedia.org/wikipedia/commons/1/1f/Woman_1.jpg)\n",
        "\n",
        "`-` 뭘 분류하려는 목적을 가진게 판별모형이면 뭘 만들려는 목적을 가진게\n",
        "생성모형이고 생성모형이 더 우수하다.\n",
        "\n",
        "> 명언: 만들수 없다면 이해하지 못한 것이다, 리처드 파인만 (천재\n",
        "> 물리학자)\n",
        "\n",
        "## D. 생성모형이란? 통계학과 버전의 설명\n",
        "\n",
        "`-` 이미지 $\\boldsymbol{X}$ 가 주어졌을 경우 라벨을 $y$ 라고 하자.\n",
        "\n",
        "`-` 이미지를 보고 라벨을 맞추는 일은 $p(y| \\boldsymbol{X})$에 관심이\n",
        "있다고 볼 수 있다. – 판별모형\n",
        "\n",
        "`-` 이미지를 생성하는 일은 $p(\\boldsymbol{X},y)$에 관심이 있는것이다. –\n",
        "생성모형\n",
        "\n",
        "`-` 데이터의 생성확률 $p(\\boldsymbol{X},y)$을 알면 클래스의 사후확률\n",
        "$p(y|\\boldsymbol{X})$를 알 수 있음. (아래의 수식 참고) 하지만 역은\n",
        "불가능\n",
        "\n",
        "$$p(y|{\\boldsymbol X}) = \\frac{p({\\boldsymbol X},y)}{p({\\boldsymbol X})} = \\frac{p({\\boldsymbol X},y)}{\\sum_{y}p({\\boldsymbol X},y)}$$\n",
        "\n",
        "-   즉 이미지를 생성하는일은 분류문제보다 더 어려운 일이라 해석가능\n",
        "\n",
        "## E. 철학의 차이\n",
        "\n",
        "> 명언: 제한된 정보만으로 어떤 문제를 풀 때, 그 과정에서 원래의 문제보다\n",
        "> 일반적인 문제를 풀지 말고 (=문제를 괜히 어렵게 만들어서 풀지 말고),\n",
        "> 가능한 원래의 문제를 직접 풀어야한다. 배프닉 (SVM 창시자)\n",
        "\n",
        "`-` 따라서 배프닉의 원리에 의하면 일반적인 분류문제를 해결할때\n",
        "“판별모형이 생성모형보다 더 바람직한 접근법”이라 할 수 있음. 즉 개와\n",
        "고양이를 구분할 때, 그려진 개와 고양이 사진을 잘 구분하면 되는 것이지\n",
        "굳이 개와 고양이를 그릴줄 알아야하는건 아니라는 의미.\n",
        "\n",
        "`*` 예전에는 머신러닝의 응용분야가 “분류/회귀”에 한정된 느낌이었는데\n",
        "요즘은 생성모형도 인기있음.\n",
        "\n",
        "-   마인드가 되게 달라요\n",
        "\n",
        "# 4. GAN의 구현\n",
        "\n",
        "## A. Data"
      ],
      "id": "6b4c9308-8da2-455b-9dd6-de5a81b211fd"
    },
    {
      "cell_type": "code",
      "execution_count": 29,
      "metadata": {
        "tags": []
      },
      "outputs": [],
      "source": [
        "train_dataset = torchvision.datasets.MNIST(root='./data', train=True, download=True)\n",
        "to_tensor = torchvision.transforms.ToTensor()\n",
        "X_real = torch.stack([to_tensor(Xi) for Xi, yi in train_dataset if yi==3])"
      ],
      "id": "0b5e72a8-5808-41ce-a7bc-15aa5491ac29"
    },
    {
      "cell_type": "code",
      "execution_count": 30,
      "metadata": {},
      "outputs": [
        {
          "output_type": "display_data",
          "metadata": {},
          "data": {
            "image/png": "[encoded data removed]"
          }
        }
      ],
      "source": [
        "plt.imshow(X_real[0].squeeze(),cmap=\"gray\")"
      ],
      "id": "9f32defb-8e7a-4622-b290-c0416b23e719"
    },
    {
      "cell_type": "markdown",
      "metadata": {},
      "source": [
        "## B. 페이커 생성\n",
        "\n",
        "> “net_faker: noise $\\to$ 가짜이미지” 를 만들자.\n",
        "\n",
        "`-` 네트워크의 입력: (n,??) 인 랜덤으로 뽑은 숫자."
      ],
      "id": "f47e4470-edf3-4325-b8c1-05636be23b4b"
    },
    {
      "cell_type": "code",
      "execution_count": 31,
      "metadata": {},
      "outputs": [],
      "source": [
        "torch.randn(1,4) # 이게 입력으로 온다고 상상하자. "
      ],
      "id": "9cc9a14c-3c4b-42de-8606-a4dd42d2e45b"
    },
    {
      "cell_type": "markdown",
      "metadata": {},
      "source": [
        "`-` 네트워크의 출력: (n,1,28,28)의 텐서"
      ],
      "id": "57dfb68a-85ea-475a-ae1f-8fdd675e0b39"
    },
    {
      "cell_type": "code",
      "execution_count": 32,
      "metadata": {},
      "outputs": [],
      "source": [
        "class FlattenToImage(torch.nn.Module):\n",
        "    def __init__(self):\n",
        "        super().__init__()\n",
        "    def forward(self,X):\n",
        "        return X.reshape(-1,1,28,28)\n",
        "net_facker = torch.nn.Sequential(\n",
        "    torch.nn.Linear(4,64),\n",
        "    torch.nn.ReLU(),\n",
        "    torch.nn.Linear(64,64),\n",
        "    torch.nn.ReLU(),\n",
        "    torch.nn.Linear(64,784),\n",
        "    torch.nn.Sigmoid(), # 출력을 0~1로 눌러주기 위한 레이어 // 저한테는 일종의 문화충격\n",
        "    FlattenToImage()\n",
        ")"
      ],
      "id": "0bf365bc-bd46-4ddd-825a-bcff6e01241a"
    },
    {
      "cell_type": "code",
      "execution_count": 33,
      "metadata": {},
      "outputs": [],
      "source": [
        "net_facker(torch.randn(1,4)).shape"
      ],
      "id": "e9e7a3c4-4169-46e9-a230-13255ea507f5"
    },
    {
      "cell_type": "markdown",
      "metadata": {},
      "source": [
        "## C. 경찰 생성\n",
        "\n",
        "> net_police: 진짜이미지 $\\to$ 0 // 가짜이미지 $\\to$ 1 와 같은\n",
        "> 네트워크를 설계하자.\n",
        "\n",
        "`-` 네트워크의 입력: (n,1,28,28) 인 이미지\n",
        "\n",
        "`-` 네트워크의 출력: 0,1"
      ],
      "id": "ef2be70e-2977-40c1-8b06-2f88f573d08a"
    },
    {
      "cell_type": "code",
      "execution_count": 34,
      "metadata": {},
      "outputs": [],
      "source": [
        "net_police = torch.nn.Sequential(\n",
        "    torch.nn.Flatten(),\n",
        "    torch.nn.Linear(784,30),\n",
        "    torch.nn.ReLU(),\n",
        "    torch.nn.Linear(30,1),\n",
        "    torch.nn.Sigmoid()\n",
        ")"
      ],
      "id": "c81af7ff-325b-40f9-99a6-17b6ba8a4080"
    },
    {
      "cell_type": "markdown",
      "metadata": {},
      "source": [
        "## D. 바보경찰, 바보페이커\n",
        "\n",
        "`-` 데이터"
      ],
      "id": "f217a5cd-c9a9-4527-b7b6-e8bc62d9fb79"
    },
    {
      "cell_type": "code",
      "execution_count": 35,
      "metadata": {},
      "outputs": [],
      "source": [
        "real_image = X_real[[0]]  # 진짜이미지\n",
        "fake_image = net_facker(torch.randn(1,4)).data # 가짜이미지"
      ],
      "id": "156b5eb4-084b-4e0d-aebc-866e08b8ac10"
    },
    {
      "cell_type": "markdown",
      "metadata": {},
      "source": [
        "`-` 경찰네트워크가 가짜이미지를 봤을때 어떤 판단을 하는지, 진짜 이미지를\n",
        "봤을떄 어떤 판단을 하는지 살펴보자.\n",
        "\n",
        "***<경찰이 진짜이미지를 봤다면>***"
      ],
      "id": "def07b96-75b2-43d7-8662-7347fad87a58"
    },
    {
      "cell_type": "code",
      "execution_count": 36,
      "metadata": {},
      "outputs": [],
      "source": [
        "net_police(real_image)"
      ],
      "id": "b6f0bb81-f1f5-459c-b11d-00e7f737fcdf"
    },
    {
      "cell_type": "markdown",
      "metadata": {},
      "source": [
        "***<경찰이 가짜이미지를 봤다면>***"
      ],
      "id": "b3fec1cc-0504-4c33-a7d8-859a08c3f1ed"
    },
    {
      "cell_type": "code",
      "execution_count": 37,
      "metadata": {},
      "outputs": [],
      "source": [
        "net_police(fake_image)"
      ],
      "id": "093eaf1a-7835-4967-8256-3c666234a97c"
    },
    {
      "cell_type": "markdown",
      "metadata": {},
      "source": [
        "## E. 똑똑해진 경찰\n",
        "\n",
        "`-` 데이터를 정리\n",
        "\n",
        "-   원래 $n=6131$개의 이미지자료가 있었음. 이를 ${\\bf X}_{real}$ 로\n",
        "    저장했었음.\n",
        "-   ${\\bf X}_{fake}$는 `net_facker`의 output으로 생성하고 꼬리표 제거.\n",
        "-   ${\\bf X}_{real}$에 대응하는 ${\\bf y}_{real}$ 생성. 진짜이미지는\n",
        "    라벨을 0으로 정함.\n",
        "-   ${\\bf X}_{faker}$에 대응하는 ${\\bf y}_{fake}$ 생성. 가짜이미지는\n",
        "    라벨을 1로 정함."
      ],
      "id": "019ffab4-28d1-48e8-89e4-4fb9382a5e7c"
    },
    {
      "cell_type": "code",
      "execution_count": 43,
      "metadata": {},
      "outputs": [],
      "source": [
        "X_fake = net_facker(torch.randn(6131,4)).data\n",
        "y_real = torch.zeros((6131,1))\n",
        "y_fake = torch.ones((6131,1))"
      ],
      "id": "0347ac26-87bc-401b-88fa-cbf113cab6b6"
    },
    {
      "cell_type": "markdown",
      "metadata": {},
      "source": [
        "`-` step1: `X_real`, `X_fake`를 보고 각각 `yhat_real`, `yhat_fake`를\n",
        "만드는 과정"
      ],
      "id": "7752a6a2-21d0-4d5e-a84e-aaf3e36064b4"
    },
    {
      "cell_type": "code",
      "execution_count": 51,
      "metadata": {},
      "outputs": [],
      "source": [
        "yhat_real = net_police(X_real)\n",
        "yhat_fake = net_police(X_fake)"
      ],
      "id": "46ee551c-4f40-4f4b-924f-e7db617a5faf"
    },
    {
      "cell_type": "markdown",
      "metadata": {},
      "source": [
        "`-` step2: 경찰의 미덕은 (1) 가짜이미지를 가짜라고 하고 (2) 진짜이미지를\n",
        "진짜라고 해야함. 즉 yhat_real 은 거의 0의 값으로, 그리고 yhat_fake는 1이\n",
        "되도록 설계해야함. (yhat_real $\\approx$ y_real 이고 yhat_fake $\\approx$\n",
        "y_fake 이어야 함) 이러면 경찰이 잘하는것."
      ],
      "id": "6619e84d-83a4-461c-a1c0-6e028ff7167b"
    },
    {
      "cell_type": "code",
      "execution_count": 52,
      "metadata": {},
      "outputs": [],
      "source": [
        "bce = torch.nn.BCELoss()"
      ],
      "id": "72b2f5b2-9f4d-4df8-a924-d0e25448f708"
    },
    {
      "cell_type": "code",
      "execution_count": 68,
      "metadata": {},
      "outputs": [],
      "source": [
        "loss_police = bce(yhat_real,y_real) + bce(yhat_fake,y_fake) \n",
        "loss_police"
      ],
      "id": "dbb4656a-9844-4b8b-a18e-5062df4cdfdc"
    },
    {
      "cell_type": "markdown",
      "metadata": {},
      "source": [
        "`-` step3~4"
      ],
      "id": "96140ddb-3ce6-4796-95db-1f12e3fb1126"
    },
    {
      "cell_type": "code",
      "execution_count": 70,
      "metadata": {},
      "outputs": [],
      "source": [
        "# net_police = torch.nn.Sequential(\n",
        "#     torch.nn.Flatten(),\n",
        "#     torch.nn.Linear(784,30),\n",
        "#     torch.nn.ReLU(),\n",
        "#     torch.nn.Linear(30,1),\n",
        "#     torch.nn.Sigmoid()\n",
        "# )\n",
        "bce = torch.nn.BCELoss()\n",
        "optimizr_police = torch.optim.Adam(net_police.parameters())\n",
        "for epoc in range(30):\n",
        "    X_fake = net_facker(torch.randn(6131,4)).data\n",
        "    # step1 -- yhat을 얻음\n",
        "    yhat_real = net_police(X_real)\n",
        "    yhat_fake = net_police(X_fake)\n",
        "    # step2  -- loss를 계산\n",
        "    loss_police = bce(yhat_real,y_real) + bce(yhat_fake,y_fake)\n",
        "    # step3  -- 미분 \n",
        "    loss_police.backward()\n",
        "    # step4 -- update \n",
        "    optimizr_police.step()\n",
        "    optimizr_police.zero_grad()"
      ],
      "id": "e6673c7d-1d91-40dc-adab-19cfa4366c6b"
    },
    {
      "cell_type": "markdown",
      "metadata": {},
      "source": [
        "`-` 경찰의 실력향상을 감상해보자."
      ],
      "id": "21d14adf-391a-4269-8e0a-c312cc788180"
    },
    {
      "cell_type": "code",
      "execution_count": 81,
      "metadata": {},
      "outputs": [],
      "source": [
        "net_police(X_real) # 거의 0으로 "
      ],
      "id": "4a6daa48-a353-45fd-80a3-87a38ef8d547"
    },
    {
      "cell_type": "code",
      "execution_count": 82,
      "metadata": {},
      "outputs": [],
      "source": [
        "net_police(net_facker(torch.randn(6131,4)).data) # 거의 1로"
      ],
      "id": "acbf22e8-818f-462d-bd0e-0311e84d9890"
    },
    {
      "cell_type": "markdown",
      "metadata": {},
      "source": [
        "`-` 꽤 우수한 경찰이 되었음."
      ],
      "id": "511a5f80-4d0c-4952-bc28-b65691205524"
    },
    {
      "cell_type": "code",
      "execution_count": 92,
      "metadata": {},
      "outputs": [
        {
          "output_type": "display_data",
          "metadata": {},
          "data": {
            "image/png": "[encoded data removed]"
          }
        }
      ],
      "source": [
        "fig, ax = plt.subplots(1,2)\n",
        "ax[0].imshow(X_fake[[2]].squeeze(),cmap=\"gray\")\n",
        "ax[0].set_title(f\"police output = {net_police(X_fake[[2]]).item():.4f}\")\n",
        "ax[1].imshow(X_real[[-1]].squeeze(),cmap=\"gray\")\n",
        "ax[1].set_title(f\"police output = {net_police(X_real[[-1]]).item():.4f}\")"
      ],
      "id": "b9d8e056-7892-44c1-b365-9352466dd8cf"
    },
    {
      "cell_type": "markdown",
      "metadata": {},
      "source": [
        "## F. 더 똑똑해지는 페이커\n",
        "\n",
        "`-` step1: noise $\\to$ X_fake"
      ],
      "id": "4e4c8f4f-fcb8-45cf-897f-735a2bd956cd"
    },
    {
      "cell_type": "code",
      "execution_count": 97,
      "metadata": {},
      "outputs": [],
      "source": [
        "X_fake = net_facker(torch.randn(6131,4))\n",
        "# 여기서는 X_fake가 데이터가 아니고 네트워크 출력이므로 꼬리표를 제거하지 말아야함"
      ],
      "id": "db3d26db-2df9-4718-8575-dda592f6ac0f"
    },
    {
      "cell_type": "markdown",
      "metadata": {},
      "source": [
        "`-` step2: 손실함수 - 페이커의 미덕 (잘 훈련된) 경찰이 가짜이미지를\n",
        "진짜라고 판단하는 것. 즉 `yhat_fake` $\\approx$ `y_real` 이어야 페이커의\n",
        "실력이 우수하다고 볼 수 있음."
      ],
      "id": "92f9ec6d-6e73-4abd-9550-49b598999a40"
    },
    {
      "cell_type": "code",
      "execution_count": 99,
      "metadata": {},
      "outputs": [],
      "source": [
        "yhat_fake = net_police(X_fake)\n",
        "loss_faker = bce(yhat_fake, y_real) \n",
        "# 가짜이미지를 보고 잘 훈련된 경찰도  \n",
        "# 진짜 이미지라고 깜빡 속으면 \n",
        "# 위조범의 실력이 좋다고 볼 수 있다는 의미"
      ],
      "id": "9c01fb8d-3d2c-4ff7-b581-eb2157f69f85"
    },
    {
      "cell_type": "markdown",
      "metadata": {},
      "source": [
        "`-` step3~4:"
      ],
      "id": "0334da18-c0ce-4be6-9b48-f924790e9170"
    },
    {
      "cell_type": "code",
      "execution_count": 102,
      "metadata": {},
      "outputs": [],
      "source": [
        "class FlattenToImage(torch.nn.Module):\n",
        "    def __init__(self):\n",
        "        super().__init__()\n",
        "    def forward(self,X):\n",
        "        return X.reshape(-1,1,28,28)\n",
        "net_facker = torch.nn.Sequential(\n",
        "    torch.nn.Linear(4,64),\n",
        "    torch.nn.ReLU(),\n",
        "    torch.nn.Linear(64,64),\n",
        "    torch.nn.ReLU(),\n",
        "    torch.nn.Linear(64,784),\n",
        "    torch.nn.Sigmoid(), # 출력을 0~1로 눌러주기 위한 레이어 // 저한테는 일종의 문화충격\n",
        "    FlattenToImage()\n",
        ")\n",
        "bce = torch.nn.BCELoss()\n",
        "optimizr_facker = torch.optim.Adam(net_facker.parameters())"
      ],
      "id": "1086b26a-a351-4710-960a-6cb2a95fad3f"
    },
    {
      "cell_type": "code",
      "execution_count": 146,
      "metadata": {},
      "outputs": [],
      "source": [
        "for epoc in range(1):\n",
        "    # step1 -- yhat을 얻음\n",
        "    X_fake = net_facker(torch.randn(6131,4))\n",
        "    # step2  -- loss를 계산\n",
        "    yhat_fake = net_police(X_fake)\n",
        "    loss_faker = bce(yhat_fake,y_real)\n",
        "    # step3  -- 미분 \n",
        "    loss_faker.backward()\n",
        "    # step4 -- update \n",
        "    optimizr_facker.step()\n",
        "    optimizr_facker.zero_grad()"
      ],
      "id": "cabeeaa9-70b6-40e6-b633-89a6391f751a"
    },
    {
      "cell_type": "markdown",
      "metadata": {},
      "source": [
        "`-` 위조범의 실력향상을 감상해보자."
      ],
      "id": "dbb12f11-2eec-4da2-95d8-d47a8e8455a0"
    },
    {
      "cell_type": "code",
      "execution_count": 147,
      "metadata": {},
      "outputs": [
        {
          "output_type": "display_data",
          "metadata": {},
          "data": {
            "image/png": "[encoded data removed]"
          }
        }
      ],
      "source": [
        "plt.imshow(X_fake[[0]].squeeze().data,cmap=\"gray\")"
      ],
      "id": "f2ca6f4d-6e84-4dfd-9391-102b374b9b5a"
    },
    {
      "cell_type": "markdown",
      "metadata": {},
      "source": [
        "## G. 경쟁학습\n",
        "\n",
        "> 두 적대적인 네트워크를 경쟁시키자!"
      ],
      "id": "40daf46e-1216-412e-a40a-4618a299093f"
    },
    {
      "cell_type": "code",
      "execution_count": 148,
      "metadata": {},
      "outputs": [],
      "source": [
        "torch.manual_seed(43052)\n",
        "net_police = torch.nn.Sequential(\n",
        "    torch.nn.Flatten(),\n",
        "    torch.nn.Linear(784,30),\n",
        "    torch.nn.ReLU(),\n",
        "    torch.nn.Linear(30,1),\n",
        "    torch.nn.Sigmoid()\n",
        ")\n",
        "class FlattenToImage(torch.nn.Module):\n",
        "    def __init__(self):\n",
        "        super().__init__()\n",
        "    def forward(self,X):\n",
        "        return X.reshape(-1,1,28,28)\n",
        "net_facker = torch.nn.Sequential(\n",
        "    torch.nn.Linear(4,64),\n",
        "    torch.nn.ReLU(),\n",
        "    torch.nn.Linear(64,64),\n",
        "    torch.nn.ReLU(),\n",
        "    torch.nn.Linear(64,784),\n",
        "    torch.nn.Sigmoid(), # 출력을 0~1로 눌러주기 위한 레이어 // 저한테는 일종의 문화충격\n",
        "    FlattenToImage()\n",
        ")\n",
        "bce = torch.nn.BCELoss()\n",
        "optimizr_police = torch.optim.Adam(net_police.parameters(),lr=0.001, betas=(0.5,0.999))\n",
        "optimizr_facker = torch.optim.Adam(net_facker.parameters(),lr=0.0002, betas=(0.5,0.999))"
      ],
      "id": "a341fd06-03cf-4fa6-ab80-e965f5da98ae"
    },
    {
      "cell_type": "code",
      "execution_count": 150,
      "metadata": {},
      "outputs": [],
      "source": [
        "for epoc in range(1000):\n",
        "    #--- net_police 를 훈련 \n",
        "    #step1\n",
        "    X_fake = net_facker(torch.randn(6131,4)).data # 여기에서 X_fake는 data를 의미\n",
        "    yhat_real = net_police(X_real)\n",
        "    yhat_fake = net_police(X_fake)\n",
        "    #step2\n",
        "    loss_police = bce(yhat_real,y_real) + bce(yhat_fake,y_fake)\n",
        "    #step3\n",
        "    loss_police.backward()\n",
        "    #step4\n",
        "    optimizr_police.step()\n",
        "    optimizr_police.zero_grad()\n",
        "    #--- net_faker 를 훈련 \n",
        "    #step1\n",
        "    X_fake = net_facker(torch.randn(6131,4)) # 이때 X_fake는 net의 out을 의미 \n",
        "    #step2\n",
        "    yhat_fake = net_police(X_fake)\n",
        "    loss_facker = bce(yhat_fake, y_real)\n",
        "    #step3\n",
        "    loss_facker.backward()\n",
        "    #step4\n",
        "    optimizr_facker.step()\n",
        "    optimizr_facker.zero_grad()"
      ],
      "id": "92564b11-bea7-4bd1-9127-0dda8423e01a"
    },
    {
      "cell_type": "code",
      "execution_count": 165,
      "metadata": {},
      "outputs": [
        {
          "output_type": "display_data",
          "metadata": {},
          "data": {
            "image/png": "[encoded data removed]"
          }
        }
      ],
      "source": [
        "fig, ax  = plt.subplots(2,5,figsize=(10,4))\n",
        "k=0\n",
        "for i in range(2):\n",
        "    for j in range(5):\n",
        "        ax[i][j].imshow(X_fake[[k]].data.squeeze(),cmap=\"gray\")\n",
        "        ax[i][j].set_title(f\"police out = {net_police(X_fake[[k]]).item():.4f}\")\n",
        "        k= k+1\n",
        "fig.tight_layout()"
      ],
      "id": "ee2c9827-cc39-49f8-ac5e-dbca38f024ea"
    },
    {
      "cell_type": "markdown",
      "metadata": {},
      "source": [
        "# 5. 초기 GAN의 한계점\n",
        "\n",
        "`-` 두 네트워크의 균형이 매우 중요함 – 균형이 깨지는 순간 학습은 실패함\n",
        "\n",
        "`-` 생성되는 이미지의 다양성이 부족한 경우가 발생함. (mode collapse)\n",
        "\n",
        "Goodfellow, Ian, Jean Pouget-Abadie, Mehdi Mirza, Bing Xu, David\n",
        "Warde-Farley, Sherjil Ozair, Aaron Courville, and Yoshua Bengio. 2014.\n",
        "“Generative Adversarial Nets.” *Advances in Neural Information\n",
        "Processing Systems* 27."
      ],
      "id": "bb1fd8bf-5db5-4a73-aac4-45e0db29cfc5"
    }
  ],
  "nbformat": 4,
  "nbformat_minor": 5,
  "metadata": {
    "kernelspec": {
      "name": "python3",
      "display_name": "Python 3 (ipykernel)",
      "language": "python"
    },
    "language_info": {
      "name": "python",
      "codemirror_mode": {
        "name": "ipython",
        "version": "3"
      },
      "file_extension": ".py",
      "mimetype": "text/x-python",
      "nbconvert_exporter": "python",
      "pygments_lexer": "ipython3",
      "version": "3.9.21"
    }
  }
}