{
  "cells": [
    {
      "cell_type": "markdown",
      "metadata": {},
      "source": [
        "# 11wk-1: (추천시스템) – Embedding 레이어, 사용자정의 네트워크, MF-based\n",
        "\n",
        "추천시스템을 넘어서\n",
        "\n",
        "최규빈  \n",
        "2025-05-14\n",
        "\n",
        "<a href=\"https://colab.research.google.com/github/guebin/DL2025/blob/main/posts/11wk-1.ipynb\"><img src=\"https://colab.research.google.com/assets/colab-badge.svg\" style=\"text-align: left\"></a>\n",
        "\n",
        "# 1. 강의영상\n",
        "\n",
        "<https://youtu.be/playlist?list=PLQqh36zP38-zvWlsuVrpnw6Jj_UTm5jWj&si=mrvKi_0mQ3dINyBG>\n",
        "\n",
        "# 2. Imports"
      ],
      "id": "66b1a82a-eb4e-4aab-b496-d527cfa8f15f"
    },
    {
      "cell_type": "code",
      "execution_count": 1,
      "metadata": {
        "tags": []
      },
      "outputs": [],
      "source": [
        "import torch\n",
        "import pandas as pd\n",
        "import matplotlib.pyplot as plt"
      ],
      "id": "d4dccddc-6409-4355-b92e-5d8ed3aa0238"
    },
    {
      "cell_type": "code",
      "execution_count": 2,
      "metadata": {},
      "outputs": [],
      "source": [
        "plt.rcParams['figure.figsize'] = (4.5, 3.0)"
      ],
      "id": "fd700095-93c4-479a-816f-276e5ab9cc32"
    },
    {
      "cell_type": "code",
      "execution_count": 269,
      "metadata": {},
      "outputs": [],
      "source": [
        "# 지난시간복습\n",
        "# 남여 출연자 -> 궁합점수 \n",
        "## train \n",
        "# X1     X2  --> y\n",
        "# 영식, 보람: 0.5 \n",
        "# 영호, 하니: 4.5\n",
        "## test \n",
        "# X1     X2  --> y\n",
        "# 영호, 보람: ???\n",
        "#---#\n",
        "# 학습은 \"X1: 영식 --> 2 --> [0,0,1,0,...0] --> linr([0,0,1,0,...0]) 특징추출\" 이런식으로 진행되는데, \n",
        "# 이중에서 linr(onehot(x)) 의 패턴이 반복적으로 네트워크에서 사용된다. "
      ],
      "id": "cf484d33-01b9-4a68-92d0-c8cfafe68961"
    },
    {
      "cell_type": "markdown",
      "metadata": {},
      "source": [
        "# 3. `torch.nn.Embedding`\n",
        "\n",
        "## A. 임베딩레이어\n",
        "\n",
        "`-` 모티브: `torch.nn.functional.one_hot` + `torch.nn.Linear` 를 매번\n",
        "쓰는건 너무 귀찮지 않어?"
      ],
      "id": "13d2b2b6-b06e-4e87-b5c1-406bc550e681"
    },
    {
      "cell_type": "code",
      "execution_count": 276,
      "metadata": {},
      "outputs": [],
      "source": [
        "torch.manual_seed(43052)\n",
        "#x  = ['옥순', '영숙', '하니', '옥순', '영숙'] \n",
        "x = torch.tensor([0,1,2,0,1])\n",
        "X = torch.nn.functional.one_hot(x).float()\n",
        "linr = torch.nn.Linear(3,1,bias=False)\n",
        "linr(X)"
      ],
      "id": "08abc61d-1cc6-4576-8e51-95df6c116af6"
    },
    {
      "cell_type": "markdown",
      "metadata": {},
      "source": [
        "`-` 계산방식\n",
        "\n",
        "-   ${\\boldsymbol x}= \\begin{bmatrix} 0 \\\\ 1 \\\\ 2 \\\\ 0 \\\\ 1 \\end{bmatrix} \\Longrightarrow {\\bf X}= \\begin{bmatrix} 1 & 0 & 0 \\\\ 0 & 1 & 0 \\\\ 0 & 0 & 1 \\\\ 1 & 0 & 0 \\\\ 0 & 1 & 0 \\end{bmatrix}$\n",
        "\n",
        "-   $\\text{linr}({\\bf X})= \\begin{bmatrix} 1 & 0 & 0 \\\\ 0 & 1 & 0 \\\\ 0 & 0 & 1 \\\\ 1 & 0 & 0 \\\\ 0 & 1 & 0 \\end{bmatrix}\\begin{bmatrix} -0.2002 \\\\ -0.4890 \\\\ 0.2081 \\end{bmatrix} = \\begin{bmatrix} -0.2002 \\\\ -0.4890 \\\\ 0.2081 \\\\ -0.2002 \\\\ -0.4890 \\end{bmatrix}$\n",
        "\n",
        "`-` `torch.nn.functional.one_hot` + `torch.nn.Linear` 를 함께처리해주는\n",
        "레이어 `torch.nn.Embedding` 존재"
      ],
      "id": "dbdf5318-1682-47bb-8f35-cf848504c8a9"
    },
    {
      "cell_type": "code",
      "execution_count": 288,
      "metadata": {},
      "outputs": [],
      "source": [
        "#x  = ['옥순', '영숙', '하니', '옥순', '영숙'] \n",
        "x = torch.tensor([0,1,2,0,1])\n",
        "ebdd = torch.nn.Embedding(3,1)\n",
        "ebdd.weight.data = torch.tensor([[-0.2002],[-0.4890],[0.2081]])\n",
        "ebdd(x)"
      ],
      "id": "6dc36ae6-8747-4d34-b821-592c6f6d0eb9"
    },
    {
      "cell_type": "markdown",
      "metadata": {},
      "source": [
        "-   $\\text{ebdd}({\\boldsymbol x})= \\text{linr}\\big(\\text{onehot}({\\boldsymbol x})\\big) = \\begin{bmatrix} 1 & 0 & 0 \\\\ 0 & 1 & 0 \\\\ 0 & 0 & 1 \\\\ 1 & 0 & 0 \\\\ 0 & 1 & 0 \\end{bmatrix}\\begin{bmatrix} -0.2002 \\\\ -0.4890 \\\\ 0.2081 \\end{bmatrix} = \\begin{bmatrix} -0.2002 \\\\ -0.4890 \\\\ 0.2081 \\\\ -0.2002 \\\\ -0.4890 \\end{bmatrix}$\n",
        "\n",
        "-   우리가 이전에 구현했던 코드 “onehot + linr” 와 “ebdd”는 정확하게\n",
        "    동일한 동작을 수행함.\n",
        "\n",
        "`-` 결론: 아래의 두개의 코드는 같다.\n",
        "\n",
        "``` python\n",
        "x= torch.tensor([0,1,2,0,1])\n",
        "\n",
        "## 코드1 \n",
        "linr = torch.nn.Linear(3,1) \n",
        "linr(torch.nn.functional.one_hot(x))\n",
        "\n",
        "## 코드2 \n",
        "ebdd = torch.nn.Embedding(3,1)\n",
        "ebdd(x) \n",
        "```\n",
        "\n",
        "## B. MF-based 추천시스템 재설계\n",
        "\n",
        "아래의 자료를 활용하여 추천시스템을 설계하고자한다."
      ],
      "id": "5333735e-a05a-477b-a84b-85609ca66b6b"
    },
    {
      "cell_type": "code",
      "execution_count": 6,
      "metadata": {
        "tags": []
      },
      "outputs": [],
      "source": [
        "df_view = pd.read_csv('https://raw.githubusercontent.com/guebin/DL2025/main/posts/iamsolo.csv',index_col=0)\n",
        "df_view"
      ],
      "id": "31e8b32c-b5e7-4265-bdc9-f40af1d9497c"
    },
    {
      "cell_type": "code",
      "execution_count": 291,
      "metadata": {
        "tags": []
      },
      "outputs": [],
      "source": [
        "df_train = df_view.stack().reset_index().set_axis(['W','M','y'],axis=1)\n",
        "여성인덱스 = {'옥순(IN)':0, '영자(IN)':1, '정숙(IS)':2, '영숙(IS)':3, '순자(EN)':4, '현숙(EN)':5, '서연(ES)':6, '보람(ES)':7, '하니(I)':8}\n",
        "남성인덱스 = {'영식(IN)':0, '영철(IN)':1, '영호(IS)':2, '광수(IS)':3, '상철(EN)':4, '영수(EN)':5, '규빈(ES)':6, '다호(ES)':7}\n",
        "x1 = torch.tensor(df_train['W'].map(여성인덱스)) # length-n int vector \n",
        "x2 = torch.tensor(df_train['M'].map(남성인덱스)) # length-n int vector \n",
        "y = torch.tensor(df_train['y']).float().reshape(-1,1) # (n,1) float vector"
      ],
      "id": "7dead91a-88b7-47dc-8890-688c61a1cf39"
    },
    {
      "cell_type": "markdown",
      "metadata": {},
      "source": [
        "임베딩레이어를 활용하여 MF-based 추천시스템을 설계하라.\n",
        "\n",
        "(풀이)"
      ],
      "id": "84e4ff38-6ba3-4ff4-a25c-c1e22aaf6bf7"
    },
    {
      "cell_type": "code",
      "execution_count": 325,
      "metadata": {},
      "outputs": [],
      "source": [
        "#df_view\n",
        "loss_fn = torch.nn.MSELoss() \n",
        "ebdd1 = torch.nn.Embedding(9,2)\n",
        "ebdd2 = torch.nn.Embedding(8,2)\n",
        "b1 = torch.nn.Embedding(9,1)\n",
        "b2 = torch.nn.Embedding(8,1)\n",
        "params = list(ebdd1.parameters()) + list(ebdd2.parameters())  + list(b1.parameters()) + list(b2.parameters())\n",
        "optimizr = torch.optim.Adam(params)\n",
        "sig = torch.nn.Sigmoid()\n",
        "#----#\n",
        "for epoc in range(5000):\n",
        "    #step1\n",
        "    W_features = ebdd1(x1) \n",
        "    M_features = ebdd2(x2) \n",
        "    W_bias = b1(x1)\n",
        "    M_bais = b2(x2)\n",
        "    yhat = sig((W_features * M_features).sum(axis=1).reshape(-1,1) + W_bias + M_bais)*5\n",
        "    #step2\n",
        "    loss = loss_fn(yhat,y)\n",
        "    #step3\n",
        "    loss.backward()\n",
        "    #step4\n",
        "    optimizr.step()\n",
        "    optimizr.zero_grad()"
      ],
      "id": "bf857cf7-4cfd-4b14-9c82-0afd328ab514"
    },
    {
      "cell_type": "code",
      "execution_count": 326,
      "metadata": {},
      "outputs": [],
      "source": [
        "y[:5], yhat[:5]"
      ],
      "id": "d599ac5b-22d9-48b5-8c60-ddb6cd5ffab3"
    },
    {
      "cell_type": "markdown",
      "metadata": {},
      "source": [
        "# 4. 사용자정의 네트워크\n",
        "\n",
        "## A. 사용자정의 네트워크 사용법\n",
        "\n",
        "`# 예비학습1`: `net(X)`와 사실 `net.forward(X)`는 같다."
      ],
      "id": "a6d2a5d4-4699-4bb9-b76e-65fb6f19045c"
    },
    {
      "cell_type": "code",
      "execution_count": 339,
      "metadata": {},
      "outputs": [],
      "source": [
        "net = torch.nn.Sequential(\n",
        "    torch.nn.Linear(1,1),\n",
        "    torch.nn.Sigmoid()\n",
        ")\n",
        "X = torch.randn(5,1)"
      ],
      "id": "fe4c05c3-2a39-4ed4-bb07-170a110cfec0"
    },
    {
      "cell_type": "code",
      "execution_count": 341,
      "metadata": {},
      "outputs": [],
      "source": [
        "net(X)\n",
        "#net.forward(X)"
      ],
      "id": "000b4add-5303-4b44-9fa7-b443d5c08748"
    },
    {
      "cell_type": "markdown",
      "metadata": {},
      "source": [
        "그래서 `net.forward`를 재정의하면 `net(X)`의 기능을 재정의 할 수 있다."
      ],
      "id": "33d63b2f-1b05-413c-b638-9d5eedd098cf"
    },
    {
      "cell_type": "code",
      "execution_count": 342,
      "metadata": {},
      "outputs": [],
      "source": [
        "def func(x):\n",
        "    return \"메롱\""
      ],
      "id": "898715a9-bcd8-454f-9379-983bd192af8d"
    },
    {
      "cell_type": "code",
      "execution_count": 348,
      "metadata": {},
      "outputs": [],
      "source": [
        "net.forward = func "
      ],
      "id": "1cbd8991-8321-4b37-836d-e77af9d4253c"
    },
    {
      "cell_type": "code",
      "execution_count": 349,
      "metadata": {},
      "outputs": [],
      "source": [
        "net.forward(X) "
      ],
      "id": "7d5d17c6-3760-4314-8770-92f4dae04cca"
    },
    {
      "cell_type": "code",
      "execution_count": 350,
      "metadata": {},
      "outputs": [],
      "source": [
        "net(X)"
      ],
      "id": "695294dc-3eb6-4e7f-a8c7-1476b2e8059d"
    },
    {
      "cell_type": "markdown",
      "metadata": {},
      "source": [
        "`#`\n",
        "\n",
        "`# 예비학습2`: `torch.nn.Module`을 상속받아서 네트워크를 만들면 (=\n",
        "“`class XXX(torch.nn.Module):`” 와 같은 방식으로 클래스를 선언하면)\n",
        "약속된 아키텍처를 가진 네트워크를 찍어내는 함수를 만들 수 있다.\n",
        "\n",
        "> **Note**\n",
        ">\n",
        "> 클래스의 기초가 부족한 분들은 아래의 링크에서\n",
        ">\n",
        "> -   <https://guebin.github.io/PP2024/>\n",
        ">\n",
        "> `11wk-2`, `12wk-2`, `13wk-2`, `14wk-2` 에 대한내용을 학습하시길\n",
        "> 바랍니다.\n",
        "\n",
        "(예제1) – `torch.nn.Module`의 상속을 이용하여 아래와 동일한 아키텍처를\n",
        "가지는 네트워크를 설계하라."
      ],
      "id": "bd6512e7-6350-4b71-91c5-43f6107431c3"
    },
    {
      "cell_type": "code",
      "execution_count": 377,
      "metadata": {},
      "outputs": [],
      "source": [
        "net = torch.nn.Sequential(\n",
        "    torch.nn.Linear(in_features=1,out_features=1,bias=True), # linr1\n",
        "    torch.nn.Sigmoid(),#sig\n",
        "    torch.nn.Linear(in_features=1,out_features=1,bias=False) # linr2 \n",
        ")"
      ],
      "id": "6d644969-b24a-4a02-9d4e-6fea2a6d80a8"
    },
    {
      "cell_type": "code",
      "execution_count": 378,
      "metadata": {},
      "outputs": [],
      "source": [
        "x = torch.tensor([[1.0]])"
      ],
      "id": "925857ba-3116-48f4-8c1a-0aec96703146"
    },
    {
      "cell_type": "code",
      "execution_count": 379,
      "metadata": {},
      "outputs": [],
      "source": [
        "net(x)"
      ],
      "id": "6a2949fd-b6aa-4fca-a3a4-c54c3f938e3e"
    },
    {
      "cell_type": "markdown",
      "metadata": {},
      "source": [
        "(풀이)"
      ],
      "id": "6b72b9eb-06c2-42bf-846a-08e6fa9e240e"
    },
    {
      "cell_type": "code",
      "execution_count": 386,
      "metadata": {},
      "outputs": [],
      "source": [
        "class MyNet1(torch.nn.Module):\n",
        "    def __init__(self):\n",
        "        super().__init__()\n",
        "        self.linr1 = torch.nn.Linear(in_features=1,out_features=1,bias=True)\n",
        "        self.sig = torch.nn.Sigmoid()\n",
        "        self.linr2 = torch.nn.Linear(in_features=1,out_features=1,bias=False)\n",
        "    def forward(self,x):\n",
        "        out = self.linr2(self.sig(self.linr1(x)))\n",
        "        return out "
      ],
      "id": "fa23db0b-8afa-4364-812b-d0e43f40adfe"
    },
    {
      "cell_type": "markdown",
      "metadata": {},
      "source": [
        "(예시2) – `torch.nn.Module`의 상속을 이용하여 아래와 동일한 동작을 하는\n",
        "네트워크를 설계하라."
      ],
      "id": "0fc154f1-1d6c-40f1-8d96-12db4e405999"
    },
    {
      "cell_type": "code",
      "execution_count": 389,
      "metadata": {},
      "outputs": [],
      "source": [
        "net = torch.nn.Sequential(\n",
        "    torch.nn.Linear(in_features=1,out_features=1,bias=True),\n",
        "    torch.nn.ReLU(),\n",
        "    torch.nn.Linear(in_features=1,out_features=1,bias=False)\n",
        ")"
      ],
      "id": "1ba5a600-33d6-44d2-88cd-cbb2fa857880"
    },
    {
      "cell_type": "markdown",
      "metadata": {},
      "source": [
        "(풀이)"
      ],
      "id": "d929e855-fca8-4f4d-b2bf-869dfeaea0ad"
    },
    {
      "cell_type": "code",
      "execution_count": 390,
      "metadata": {},
      "outputs": [],
      "source": [
        "class MyNet2(torch.nn.Module):\n",
        "    def __init__(self):\n",
        "        super().__init__()\n",
        "        self.linr1 = torch.nn.Linear(in_features=1,out_features=1,bias=True)\n",
        "        self.relu = torch.nn.ReLU()\n",
        "        self.linr2 = torch.nn.Linear(in_features=1,out_features=1,bias=False)\n",
        "    def forward(self,X):\n",
        "        netout = self.linr2(self.relu(self.linr1(x)))\n",
        "        return netout"
      ],
      "id": "3973069e-5194-44eb-9516-c0e4ab5ba682"
    },
    {
      "cell_type": "markdown",
      "metadata": {},
      "source": [
        "***사용자 정의 네트워크를 만드는 방법***\n",
        "\n",
        "**step1:** 아래와 코드를 복사하여 틀을 만든다. (이건 무조건 고정임, XXXX\n",
        "자리는 원하는 이름을 넣는다)\n",
        "\n",
        "``` python\n",
        "class XXXX(torch.nn.Module):\n",
        "    def __init__(self):\n",
        "        super().__init__()\n",
        "        ## 우리가 netout을 구할때 사용할 레이어를 정의 \n",
        "        \n",
        "        ## 정의 끝\n",
        "    def forward(self,X):\n",
        "        ## netout을 어떻게 구할것인지 정의 \n",
        "        \n",
        "        ## 정의 끝\n",
        "        return netout\n",
        "```\n",
        "\n",
        "-   `forward`의 입력: `X`는 `net(X)`에 사용하는 `X`임\n",
        "-   `forward`의 출력: `netout`은 `net.forward(X)` 함수의 리턴값임\n",
        "-   당연히 `X`/`netout`은 다른 변수로 써도 무방 (예를들면\n",
        "    `input`/`output` 이라든지)\n",
        "\n",
        "**step2:** `def __init__(self):`에 yhat을 구하기 위해 필요한 재료를\n",
        "레이어를 정의하고 이름을 붙인다. 이름은 항상 `self.xxx` 와 같은 식으로\n",
        "정의한다.\n",
        "\n",
        "``` python\n",
        "class XXXX(torch.nn.Module):\n",
        "    def __init__(self):\n",
        "        super().__init__()\n",
        "        ## 우리가 netout을 구할때 사용할 레이어를 정의 \n",
        "        self.xxx1 = torch.nn.Linear(in_features=1,out_features=1,bias=True)\n",
        "        self.xxx2 = torch.nn.Sigmoid()\n",
        "        self.xxx3 = torch.nn.Linear(in_features=1,out_features=1,bias=True)\n",
        "        ## 정의 끝\n",
        "    def forward(self,X):\n",
        "        ## netout을 어떻게 구할것인지 정의 \n",
        "        \n",
        "        ## 정의 끝\n",
        "        return netout\n",
        "```\n",
        "\n",
        "**step3:** `def forward:`에 “X –\\> netout” 으로 가는 과정을 묘사한\n",
        "코드를 작성하고 netout을 리턴하도록 한다.\n",
        "\n",
        "``` python\n",
        "class XXXX(torch.nn.Module):\n",
        "    def __init__(self):\n",
        "        super().__init__()\n",
        "        ## 우리가 netout 구할때 사용할 레이어를 정의 \n",
        "        self.xxx1 = torch.nn.Linear(in_features=1,out_features=1,bias=True)\n",
        "        self.xxx2 = torch.nn.Sigmoid()\n",
        "        self.xxx3 = torch.nn.Linear(in_features=1,out_features=1,bias=True)\n",
        "        ## 정의 끝\n",
        "    def forward(self,X):\n",
        "        ## netout을 어떻게 구할것인지 정의 \n",
        "        u = self.xxx1(X) \n",
        "        v = self.xxx2(u)\n",
        "        netout = self.xxx3(v) \n",
        "        ## 정의 끝\n",
        "        return netout\n",
        "```\n",
        "\n",
        "`#`\n",
        "\n",
        "`# 실습(2025-중간고사 4번)`: 자유 낙하 운동이란 어떤 물체가 일정한\n",
        "높이에서 떨어져 지면에 도달하기 까지 걸리는 시간을 다루는 물리학\n",
        "개념이다. 다음은 물리학의 자유 낙하 운동에서 착안하여 생성한 데이터이다."
      ],
      "id": "cd1924fc-d4c4-4d35-8995-cf045ec8d667"
    },
    {
      "cell_type": "code",
      "execution_count": 396,
      "metadata": {
        "vscode": {
          "languageId": "python"
        }
      },
      "outputs": [],
      "source": [
        "torch.manual_seed(43052)\n",
        "h = torch.rand(100)*100\n",
        "h,_ = h.sort()\n",
        "h = h.reshape(100,1)\n",
        "t = torch.sqrt(2*h/9.8) + torch.randn([100,1])*0.1"
      ],
      "id": "5bc7c052-39e7-426b-9c0e-00ded7fe5bd2"
    },
    {
      "cell_type": "markdown",
      "metadata": {},
      "source": [
        "여기에서 $h$는 낙하전의 높이(단위: m), $t$는 해당높이에서 물치가 지면에\n",
        "도달하기 까지 걸리는 시간(단위:초)을 의미한다. 예를 들어 아래의 자료는\n",
        "$h=99.3920, t=4.4583$를 의미하는데"
      ],
      "id": "850be990-8d7a-4920-8195-8b5a590f5f77"
    },
    {
      "cell_type": "code",
      "execution_count": 397,
      "metadata": {
        "vscode": {
          "languageId": "python"
        }
      },
      "outputs": [],
      "source": [
        "h[-1], t[-1]"
      ],
      "id": "b97f7a93-1291-4d58-823c-b0379c51b54b"
    },
    {
      "cell_type": "markdown",
      "metadata": {},
      "source": [
        "이것은 높이 $99.3920$m에서 낙하한 물체가 약 $4.4583$초만에 지면에\n",
        "도달했음을 의미한다. 아래의 그림은 $x$축에 $h$, $y$축에 $t$를 두고 해당\n",
        "데이터를 산점도로 시각화 한 것이다."
      ],
      "id": "c0489651-3aa2-40d6-a014-417fd78a6118"
    },
    {
      "cell_type": "code",
      "execution_count": 398,
      "metadata": {
        "vscode": {
          "languageId": "python"
        }
      },
      "outputs": [
        {
          "output_type": "display_data",
          "metadata": {},
          "data": {
            "image/png": "[encoded data removed]"
          }
        }
      ],
      "source": [
        "plt.plot(h,t,'o',alpha=0.5)\n",
        "plt.xlabel('Height (m)')\n",
        "plt.ylabel('Time to fall (sec)')\n",
        "plt.title('Free Fall Time vs Height')\n",
        "plt.grid(True)\n",
        "plt.show()"
      ],
      "id": "205c0230-9f05-4703-8940-0a47be6f7772"
    },
    {
      "cell_type": "markdown",
      "metadata": {},
      "source": [
        "그래프를 보면 높이가 높을 수록 낙하시간도 길어지는 경향이 관찰된다. 다만\n",
        "동일한 높이라 하더라도 낙하시간이 조금씩 차이나는 경우가 있는데, 이는\n",
        "사람이 시간측정을 수동으로 하며 발생하는 실험오차 때문이다. 이러한\n",
        "오차에도 불구하고 $h$와 $t$사이에는 일정한 규칙이 존재하는듯 하다.\n",
        "물리학과 교수님께 자문을 요청한 결과 자유낙하에 걸리는 시간은\n",
        "$\\sqrt{h}$에 비례함을 알 수 있었고 이를 근거로 아래와 같은 모형을\n",
        "설계하였다.\n",
        "\n",
        "$$t_i = \\beta_0 + \\beta_1 \\sqrt{h_i}+\\epsilon_i, \\quad \\epsilon_i \\sim {\\cal N}(0,\\sigma^2)$$\n",
        "\n",
        "위의 모형을 활용하여 높이 $h$로부터 낙하시간 $t$를 예측하는 신경망\n",
        "모델을 설계하고 학습하라. 학습한 신경망 모델을 활용하여 높이 40m,60m,80m\n",
        "에서 물체를 자유낙하 시켰을때 지면에 도달하기까지 걸리는 시간을 각각\n",
        "예측하라.\n",
        "\n",
        "(풀이)"
      ],
      "id": "737fc03b-ed72-43c4-8d8f-239fd0bdcda0"
    },
    {
      "cell_type": "code",
      "execution_count": 405,
      "metadata": {},
      "outputs": [],
      "source": [
        "class FreeFallNet(torch.nn.Module):\n",
        "    def __init__(self):\n",
        "        super().__init__()\n",
        "        self.linr = torch.nn.Linear(1,1)\n",
        "    def forward(self,h):\n",
        "        netout = self.linr(torch.sqrt(h))\n",
        "        return netout    "
      ],
      "id": "e92eac45-e4bd-4ea9-b8ea-d4a3b0cbbc3a"
    },
    {
      "cell_type": "code",
      "execution_count": 406,
      "metadata": {},
      "outputs": [],
      "source": [
        "net = FreeFallNet()\n",
        "loss_fn = torch.nn.MSELoss()\n",
        "optimizr = torch.optim.Adam(net.parameters())\n",
        "#---#\n",
        "for epoc in range(10000):\n",
        "    #1\n",
        "    netout = net(h)\n",
        "    #2\n",
        "    loss = loss_fn(netout,t)\n",
        "    #3\n",
        "    loss.backward()\n",
        "    #4 \n",
        "    optimizr.step()\n",
        "    optimizr.zero_grad()"
      ],
      "id": "1137b676-b286-4a81-931d-408a476c3962"
    },
    {
      "cell_type": "code",
      "execution_count": 407,
      "metadata": {},
      "outputs": [
        {
          "output_type": "display_data",
          "metadata": {},
          "data": {
            "image/png": "[encoded data removed]"
          }
        }
      ],
      "source": [
        "plt.plot(h,t,'o',alpha=0.5)\n",
        "plt.xlabel('Height (m)')\n",
        "plt.ylabel('Time to fall (sec)')\n",
        "plt.title('Free Fall Time vs Height')\n",
        "plt.plot(h,net(h).data,'--')"
      ],
      "id": "999c8426-4ed7-4384-a3ee-8f7825518888"
    },
    {
      "cell_type": "code",
      "execution_count": 410,
      "metadata": {},
      "outputs": [],
      "source": [
        "hh = torch.tensor([20,30,40,50,60,70]).reshape(6,1)\n",
        "net(hh)"
      ],
      "id": "377615cc-91a5-4e46-9a01-ac913f6b0535"
    },
    {
      "cell_type": "markdown",
      "metadata": {},
      "source": [
        "`#`\n",
        "\n",
        "## B. MF-based 추천시스템 재설계\n",
        "\n",
        "아래의 자료를 활용하여 추천시스템을 설계하고자한다."
      ],
      "id": "da0bbf4b-8acb-447f-b4ab-f35561d159d7"
    },
    {
      "cell_type": "code",
      "execution_count": 431,
      "metadata": {
        "tags": []
      },
      "outputs": [],
      "source": [
        "df_view = pd.read_csv('https://raw.githubusercontent.com/guebin/DL2024/main/posts/solo.csv',index_col=0)\n",
        "df_view"
      ],
      "id": "4c78e3d6-0dff-428d-9823-31476a2eaf55"
    },
    {
      "cell_type": "markdown",
      "metadata": {},
      "source": [
        "사용자정의 네트워크를 이용하여 MF-based 추천시스템을 설계하라.\n",
        "\n",
        "(풀이1) – `net(x1,x2)`"
      ],
      "id": "5d9ee576-6950-4e14-929a-cae1728cc7eb"
    },
    {
      "cell_type": "code",
      "execution_count": 420,
      "metadata": {},
      "outputs": [],
      "source": [
        "#df_view\n",
        "class MFbased1(torch.nn.Module):\n",
        "    def __init__(self):\n",
        "        super().__init__()\n",
        "        self.ebdd1 = torch.nn.Embedding(9,2)\n",
        "        self.ebdd2 = torch.nn.Embedding(8,2)\n",
        "        self.b1 = torch.nn.Embedding(9,1)\n",
        "        self.b2 = torch.nn.Embedding(8,1)        \n",
        "        self.sig = torch.nn.Sigmoid()\n",
        "    def forward(self,x1,x2):\n",
        "        W_features = self.ebdd1(x1) \n",
        "        M_features = self.ebdd2(x2) \n",
        "        W_bias = self.b1(x1)\n",
        "        M_bais = self.b2(x2)\n",
        "        yhat = self.sig((W_features * M_features).sum(axis=1).reshape(-1,1) + W_bias + M_bais)*5        \n",
        "        return yhat\n",
        "net = MFbased1()\n",
        "loss_fn = torch.nn.MSELoss() \n",
        "optimizr = torch.optim.Adam(net.parameters())\n",
        "#----#\n",
        "for epoc in range(10000):\n",
        "    #step1\n",
        "    yhat = net(x1,x2)\n",
        "    #step2\n",
        "    loss = loss_fn(yhat,y)\n",
        "    #step3\n",
        "    loss.backward()\n",
        "    #step4\n",
        "    optimizr.step()\n",
        "    optimizr.zero_grad()"
      ],
      "id": "e652b2a8-e9b7-42a8-a507-617bae9fef77"
    },
    {
      "cell_type": "code",
      "execution_count": 421,
      "metadata": {},
      "outputs": [],
      "source": [
        "y[:5], yhat[:5]"
      ],
      "id": "6eb0ef27-501c-4ecb-97f4-793210ee992f"
    },
    {
      "cell_type": "markdown",
      "metadata": {},
      "source": [
        "(풀이2) – `net(X)`"
      ],
      "id": "18133e94-48ba-465e-97eb-aade45a9a8c7"
    },
    {
      "cell_type": "code",
      "execution_count": 439,
      "metadata": {},
      "outputs": [],
      "source": [
        "X = torch.stack([x1,x2],axis=1) "
      ],
      "id": "c771bba2-15b7-430a-92ee-ddbd9b0d2cfc"
    },
    {
      "cell_type": "code",
      "execution_count": 440,
      "metadata": {},
      "outputs": [],
      "source": [
        "class MFbased2(torch.nn.Module):\n",
        "    def __init__(self):\n",
        "        super().__init__()\n",
        "        self.ebdd1 = torch.nn.Embedding(9,2)\n",
        "        self.ebdd2 = torch.nn.Embedding(8,2)\n",
        "        self.b1 = torch.nn.Embedding(9,1)\n",
        "        self.b2 = torch.nn.Embedding(8,1)        \n",
        "        self.sig = torch.nn.Sigmoid()\n",
        "    def forward(self,X):\n",
        "        x1 = X[:,0]\n",
        "        x2 = X[:,1]\n",
        "        W_features = self.ebdd1(x1) \n",
        "        M_features = self.ebdd2(x2) \n",
        "        W_bias = self.b1(x1)\n",
        "        M_bais = self.b2(x2)\n",
        "        yhat = self.sig((W_features * M_features).sum(axis=1).reshape(-1,1) + W_bias + M_bais)*5        \n",
        "        return yhat\n",
        "net = MFbased2()\n",
        "loss_fn = torch.nn.MSELoss() \n",
        "optimizr = torch.optim.Adam(net.parameters())\n",
        "#----#\n",
        "for epoc in range(10000):\n",
        "    #step1\n",
        "    yhat = net(X)\n",
        "    #step2\n",
        "    loss = loss_fn(yhat,y)\n",
        "    #step3\n",
        "    loss.backward()\n",
        "    #step4\n",
        "    optimizr.step()\n",
        "    optimizr.zero_grad()"
      ],
      "id": "04b20c18-4a85-48ed-989e-e25ddb74f9d9"
    },
    {
      "cell_type": "code",
      "execution_count": 441,
      "metadata": {},
      "outputs": [],
      "source": [
        "y[:5], yhat[:5]"
      ],
      "id": "88fcb072-1091-4084-9732-04250b7c15cc"
    },
    {
      "cell_type": "markdown",
      "metadata": {},
      "source": [
        "# 5. MF-based 추천시스템을 넘어서\n",
        "\n",
        "## A. NN-based 방식\n",
        "\n",
        "아래의 자료를 활용하여 추천시스템을 설계하고자한다."
      ],
      "id": "d19735af-f181-4960-8cff-845c092d378a"
    },
    {
      "cell_type": "code",
      "execution_count": 280,
      "metadata": {
        "tags": []
      },
      "outputs": [],
      "source": [
        "df_view = pd.read_csv('https://raw.githubusercontent.com/guebin/DL2025/main/posts/iamsolo.csv',index_col=0)\n",
        "df_view"
      ],
      "id": "dac9b60e-bb8e-4a2c-a967-f04c1398fce6"
    },
    {
      "cell_type": "code",
      "execution_count": 367,
      "metadata": {
        "tags": []
      },
      "outputs": [],
      "source": [
        "#df_view\n",
        "df_train = df_view.stack().reset_index().set_axis(['여성출연자','남성출연자','궁합점수'],axis=1)\n",
        "여성인덱스 = {'옥순(IN)':0, '영자(IN)':1, '정숙(IS)':2, '영숙(IS)':3, '순자(EN)':4, '현숙(EN)':5, '서연(ES)':6, '보람(ES)':7, '하니(I)':8}\n",
        "남성인덱스 = {'영식(IN)':0, '영철(IN)':1, '영호(IS)':2, '광수(IS)':3, '상철(EN)':4, '영수(EN)':5, '규빈(ES)':6, '다호(ES)':7}\n",
        "x1 = torch.tensor(df_train.여성출연자.map(여성인덱스))\n",
        "x2 = torch.tensor(df_train.남성출연자.map(남성인덱스))\n",
        "y = torch.tensor(df_train.궁합점수).reshape(-1,1).float()"
      ],
      "id": "aad283e7-74cf-4d48-a0c3-1caa92266ae8"
    },
    {
      "cell_type": "markdown",
      "metadata": {},
      "source": [
        "NN-based 추천시스템을 설계하라.\n",
        "\n",
        "(풀이1) – 실패"
      ],
      "id": "383e9086-4311-481e-9f60-a352bf73c451"
    },
    {
      "cell_type": "code",
      "execution_count": 368,
      "metadata": {
        "tags": []
      },
      "outputs": [],
      "source": [
        "class NNbased1(torch.nn.Module):\n",
        "    def __init__(self):\n",
        "        super().__init__()\n",
        "        #--#\n",
        "        self.ebdd1 = torch.nn.Embedding(9,2)\n",
        "        self.ebdd2 = torch.nn.Embedding(8,2)\n",
        "        self.b1 = torch.nn.Embedding(9,1)\n",
        "        self.b2 = torch.nn.Embedding(8,1)\n",
        "        self.sig = torch.nn.Sigmoid()\n",
        "        self.mlp = torch.nn.Sequential(\n",
        "            torch.nn.Linear(6,1),\n",
        "            torch.nn.Sigmoid()\n",
        "        )\n",
        "    def forward(self,x1,x2):\n",
        "        W_feature = self.ebdd1(x1)\n",
        "        W_bias = self.b1(x1)\n",
        "        M_feature = self.ebdd2(x2)\n",
        "        M_bias = self.b2(x2)\n",
        "        #yhat = sig((W_feature * M_feature).sum(axis=1).reshape(-1,1) + W_bias + M_bias ) * 5 \n",
        "        Z = torch.concat([W_feature, M_feature, W_bias, M_bias],axis=1)\n",
        "        yhat = self.mlp(Z) * 5 \n",
        "        return yhat"
      ],
      "id": "96398d04-aacb-41a1-8cfe-a34ce1f5697b"
    },
    {
      "cell_type": "code",
      "execution_count": 369,
      "metadata": {
        "tags": []
      },
      "outputs": [],
      "source": [
        "net = NNbased1()\n",
        "loss_fn = torch.nn.MSELoss()\n",
        "optimizr = torch.optim.Adam(net.parameters(),lr=0.1) # 이게 편해요!!\n",
        "#--# \n",
        "for epoc in range(5000):\n",
        "    # 1\n",
        "    yhat = net(x1,x2) \n",
        "    # 2\n",
        "    loss = loss_fn(yhat,y)\n",
        "    # 3 \n",
        "    loss.backward()\n",
        "    # 4 \n",
        "    optimizr.step()\n",
        "    optimizr.zero_grad()"
      ],
      "id": "95297222-0e0b-4414-93f4-b4e2dca7fd0b"
    },
    {
      "cell_type": "code",
      "execution_count": 370,
      "metadata": {},
      "outputs": [],
      "source": [
        "yhat[:5], y[:5]"
      ],
      "id": "d083f56a-1e46-4c7d-a1d6-a2f805b6e716"
    },
    {
      "cell_type": "markdown",
      "metadata": {},
      "source": [
        "(풀이2) – 에라 모르겠다 깊은신경망.."
      ],
      "id": "dc24b8bc-ca4a-4905-8707-e53c827cb2ed"
    },
    {
      "cell_type": "code",
      "execution_count": 371,
      "metadata": {
        "tags": []
      },
      "outputs": [],
      "source": [
        "class NNbased2(torch.nn.Module):\n",
        "    def __init__(self):\n",
        "        super().__init__()\n",
        "        #--#\n",
        "        self.ebdd1 = torch.nn.Embedding(9,2)\n",
        "        self.ebdd2 = torch.nn.Embedding(8,2)\n",
        "        self.b1 = torch.nn.Embedding(9,1)\n",
        "        self.b2 = torch.nn.Embedding(8,1)\n",
        "        self.sig = torch.nn.Sigmoid()\n",
        "        self.mlp = torch.nn.Sequential(\n",
        "            torch.nn.Linear(6,15),\n",
        "            torch.nn.ReLU(),\n",
        "            torch.nn.Linear(15,1),\n",
        "            torch.nn.Sigmoid()\n",
        "        )\n",
        "    def forward(self,x1,x2):\n",
        "        W_feature = self.ebdd1(x1)\n",
        "        W_bias = self.b1(x1)\n",
        "        M_feature = self.ebdd2(x2)\n",
        "        M_bias = self.b2(x2)\n",
        "        #yhat = sig((W_feature * M_feature).sum(axis=1).reshape(-1,1) + W_bias + M_bias ) * 5 \n",
        "        Z = torch.concat([W_feature, M_feature, W_bias, M_bias],axis=1)\n",
        "        yhat = self.mlp(Z) * 5 \n",
        "        return yhat"
      ],
      "id": "94d19cbd-df19-49e2-bfce-9df1fd67ce74"
    },
    {
      "cell_type": "code",
      "execution_count": 402,
      "metadata": {
        "tags": []
      },
      "outputs": [],
      "source": [
        "net = NNbased2()\n",
        "loss_fn = torch.nn.MSELoss()\n",
        "optimizr = torch.optim.Adam(net.parameters(),lr=0.1)\n",
        "#--# \n",
        "for epoc in range(3000):\n",
        "    # 1\n",
        "    yhat = net(x1,x2) \n",
        "    # 2\n",
        "    loss = loss_fn(yhat,y)\n",
        "    # 3 \n",
        "    loss.backward()\n",
        "    # 4 \n",
        "    optimizr.step()\n",
        "    optimizr.zero_grad()"
      ],
      "id": "f4f8f527-064d-4bee-8584-13f3a12b8a6d"
    },
    {
      "cell_type": "code",
      "execution_count": 403,
      "metadata": {},
      "outputs": [],
      "source": [
        "yhat[:10], y[:10]"
      ],
      "id": "28892064-a85f-4b2d-b355-6b85bca58c49"
    },
    {
      "cell_type": "markdown",
      "metadata": {},
      "source": [
        "*(옥순-영식), (영자-다호), (하니-영호) 를 예측해보자.*"
      ],
      "id": "916f4214-fe4d-4e6b-83b4-18573e08d610"
    },
    {
      "cell_type": "code",
      "execution_count": 404,
      "metadata": {},
      "outputs": [],
      "source": [
        "df_view"
      ],
      "id": "f68f60a2-7185-4f09-aa0b-7f3c228e8c87"
    },
    {
      "cell_type": "code",
      "execution_count": 405,
      "metadata": {},
      "outputs": [],
      "source": [
        "xx1 = torch.tensor([0,1,8])\n",
        "xx2 = torch.tensor([0,7,2])"
      ],
      "id": "a65ebe4f-1bd9-476d-a354-97550723edc9"
    },
    {
      "cell_type": "code",
      "execution_count": 406,
      "metadata": {},
      "outputs": [],
      "source": [
        "net(xx1,xx2)"
      ],
      "id": "1d27595f-398d-4bd2-8420-9cca647f1764"
    },
    {
      "cell_type": "markdown",
      "metadata": {},
      "source": [
        "## B. NCF (He et al. 2017)\n",
        "\n",
        "`-` MF-based와 NN-base를 합친것\n",
        "\n",
        "![](https://github.com/guebin/DL2024/blob/main/posts/NCF.png?raw=true)\n",
        "\n",
        "# Appendix – 선택학습\n",
        "\n",
        "`# 의문`: 그냥 원핫인코딩없이 바로 선형변환하면 안되나? (= 꼭\n",
        "임베딩레이어를 써야하나?)"
      ],
      "id": "8101bcd5-a68c-4664-8554-5ebf4d3529c3"
    },
    {
      "cell_type": "code",
      "execution_count": 23,
      "metadata": {
        "tags": []
      },
      "outputs": [],
      "source": [
        "x = torch.tensor([0,1,2,0,1])\n",
        "X = x.reshape(-1,1).float()\n",
        "x,X"
      ],
      "id": "eec0e176-d5a4-40b2-bf78-3e2cc657d118"
    },
    {
      "cell_type": "code",
      "execution_count": 25,
      "metadata": {
        "tags": []
      },
      "outputs": [],
      "source": [
        "torch.manual_seed(43052)\n",
        "l1 = torch.nn.Linear(1,1)\n",
        "l1(X)"
      ],
      "id": "b1602e87-c137-41b2-b996-81af992e6d6e"
    },
    {
      "cell_type": "code",
      "execution_count": 26,
      "metadata": {
        "tags": []
      },
      "outputs": [],
      "source": [
        "torch.manual_seed(43052)\n",
        "ebdd = torch.nn.Embedding(3,1) \n",
        "ebdd(x)"
      ],
      "id": "9da021eb-8440-4fd5-af7a-0c5af0aed330"
    },
    {
      "cell_type": "markdown",
      "metadata": {},
      "source": [
        "결과적으로 0,1,2 를 다른숫자들로 맵핑한건 비슷해보이는데?\n",
        "\n",
        "`-` 수식의 차이: 비슷해보이지만 계산방식이 조금 다름"
      ],
      "id": "3ad96a29-b102-43a4-8253-11d98c0baa5b"
    },
    {
      "cell_type": "code",
      "execution_count": 27,
      "metadata": {
        "tags": []
      },
      "outputs": [],
      "source": [
        "l1.weight, l1.bias"
      ],
      "id": "da2fa122-cb91-479f-8438-8cd1431bf33e"
    },
    {
      "cell_type": "markdown",
      "metadata": {},
      "source": [
        "-   $l_1({\\bf X}) = \\begin{bmatrix} 0 \\\\ 1 \\\\ 2 \\\\ 0 \\\\ 1 \\end{bmatrix} \\times (-0.3467) + (-0.8470)=\\begin{bmatrix} -0.8470 \\\\ -1.1937 \\\\ -1.5404 \\\\ -0.8470 \\\\ -1.1937 \\end{bmatrix}$\n",
        "\n",
        "-   $\\text{ebdd}({\\boldsymbol x})= \\text{linr}\\big(\\text{onehot}({\\boldsymbol x})\\big) = \\begin{bmatrix} 1 & 0 & 0 \\\\ 0 & 1 & 0 \\\\ 0 & 0 & 1 \\\\ 1 & 0 & 0 \\\\ 0 & 1 & 0 \\end{bmatrix}\\begin{bmatrix} -0.8178 \\\\ -0.7052 \\\\ -0.5843 \\end{bmatrix} = \\begin{bmatrix} -0.8178 \\\\ -0.7052 \\\\ -0.5843 \\\\ -0.8178 \\\\ -0.7052 \\end{bmatrix}$\n",
        "\n",
        "`-` 데이터를 읽으며 해석: 사실상 0,1,2에 대한 의미는\n",
        "“옥순”,“영숙”,“하니” 같은 자료였고, 임베딩의 결과는\n",
        "“옥순”,“영숙”,“하니”가 가지는 어떠한 특징이었음 (예를들면 매력같은).\n",
        "데이터를 상상하며 위의 결과를 다시 해석해보자.\n",
        "\n",
        "**옥순이 가지는 어떠한 특징 (-0.8470 혹은 -0.8178) 을 바꾸고 싶다면?**\n",
        "\n",
        "-   `ebdd`의 경우: `ebdd.weigth`에 있는 -0.8178 이라는 숫자를 조정하면\n",
        "    된다. 이 조정은 옥순의 특징만 바꾸며 영숙과 하니의 특징은 바꾸지\n",
        "    않는다. (개별조정이 쉬움)\n",
        "-   `linr`의 경우: `linr.weight`에 있는 -0.3467 혹은 `linr.bias`에 있는\n",
        "    -0.8470 을 조정하면 되는데, 이를 조정하면 옥순의 특징을 바꿈과\n",
        "    동시에 영숙/하니의 특징까지 같이 바뀌게 된다. (개별조정이 어려움)\n",
        "\n",
        "**만약에 출연자가 1000명이라면??**\n",
        "\n",
        "-   `linr`의 경우: 1000명의 특징을 단 2개의 파라메터로 조정해야한다.\n",
        "    (그리고 한명의 특징을 바꾸면 999명의 특징이 같이 바뀐다, 개별조정은\n",
        "    애초에 가능하지 않음.)\n",
        "-   `ebdd`의 경우: 1000개의 특징을 조정할 수 있는 1000개의 파라메터를\n",
        "    확보할 수 있게 된다.\n",
        "\n",
        "`-` 결론: ebdd가 더 파라메터 미세조정을 통하여 특징을 학습하기 용이하다.\n",
        "(독립적으로 특징값을 줄 수 있으니까!)\n",
        "\n",
        "> 만약에 문자열이 “최우수(A)”, “우수(B)”, “보통(C)”, “미흡(D)”,\n",
        "> “매우미흡(F)” 이었다면 특징을 뽑아낼때 linr 가 더 적절했겠죠?\n",
        "\n",
        "He, Xiangnan, Lizi Liao, Hanwang Zhang, Liqiang Nie, Xia Hu, and\n",
        "Tat-Seng Chua. 2017. “Neural Collaborative Filtering.” In *Proceedings\n",
        "of the 26th International Conference on World Wide Web*, 173–82."
      ],
      "id": "f08a4971-3580-4399-97b1-e2abe547901b"
    }
  ],
  "nbformat": 4,
  "nbformat_minor": 5,
  "metadata": {
    "kernelspec": {
      "name": "python3",
      "display_name": "Python 3 (ipykernel)",
      "language": "python"
    },
    "language_info": {
      "name": "python",
      "codemirror_mode": {
        "name": "ipython",
        "version": "3"
      },
      "file_extension": ".py",
      "mimetype": "text/x-python",
      "nbconvert_exporter": "python",
      "pygments_lexer": "ipython3",
      "version": "3.9.21"
    }
  }
}