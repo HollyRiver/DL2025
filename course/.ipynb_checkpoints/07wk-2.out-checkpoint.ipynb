{
  "cells": [
    {
      "cell_type": "markdown",
      "metadata": {},
      "source": [
        "# 07wk-2: (합성곱신경망) – CNN 핵심레이어, CNN의 학습원리, FashionMNIST\n",
        "\n",
        "최규빈  \n",
        "2025-04-21\n",
        "\n",
        "<a href=\"https://colab.research.google.com/github/guebin/DL2025/blob/main/posts/07wk-2.ipynb\"><img src=\"https://colab.research.google.com/assets/colab-badge.svg\" style=\"text-align: left\"></a>\n",
        "\n",
        "# 1. 강의영상"
      ],
      "id": "6d46a9bd-0d46-49c7-9d10-680d052cc21e"
    },
    {
      "cell_type": "code",
      "execution_count": 2,
      "metadata": {
        "tags": []
      },
      "outputs": [],
      "source": [
        "# {{<video https://youtu.be/playlist?list=PLQqh36zP38-wZj26ZHPIZ6kvcrPiL92q3&si=UF3qTgEXmUqnV4e->}}"
      ],
      "id": "ad9fe81f-4d33-4f4d-82b3-3ea7cfd2797e"
    },
    {
      "cell_type": "markdown",
      "metadata": {},
      "source": [
        "# 2. Imports"
      ],
      "id": "84c53fd3-4cb6-4295-baa1-c38f814ca5fe"
    },
    {
      "cell_type": "code",
      "execution_count": 2,
      "metadata": {
        "tags": []
      },
      "outputs": [],
      "source": [
        "import torch\n",
        "import torchvision\n",
        "import matplotlib.pyplot as plt"
      ],
      "id": "1cd228b9-8b1b-458d-a7ce-148206b6bf2a"
    },
    {
      "cell_type": "code",
      "execution_count": 3,
      "metadata": {},
      "outputs": [],
      "source": [
        "plt.rcParams['figure.figsize'] = (4.5, 3.0)"
      ],
      "id": "ce5fed71-61cf-4a49-916d-3256b57125df"
    },
    {
      "cell_type": "markdown",
      "metadata": {},
      "source": [
        "# 3. CNN 핵심레이어\n",
        "\n",
        "## A. `torch.nn.ReLU`\n",
        "\n",
        "## B. `torch.nn.MaxPool2d`\n",
        "\n",
        "## C. `torch.nn.Conv2d`\n",
        "\n",
        "**(예시1) 연산방법, stride=2**"
      ],
      "id": "13408285-d466-4ea2-ad88-4fba51af8d43"
    },
    {
      "cell_type": "code",
      "execution_count": 4,
      "metadata": {},
      "outputs": [],
      "source": [
        "img = torch.rand(1,1,4,4)\n",
        "conv = torch.nn.Conv2d(in_channels=1,out_channels=1,kernel_size=2,stride=2)"
      ],
      "id": "418e094b-6fbb-4e4b-95c5-77c35d8f0444"
    },
    {
      "cell_type": "code",
      "execution_count": 5,
      "metadata": {},
      "outputs": [],
      "source": [
        "img"
      ],
      "id": "24dd62d8-6f6a-4358-92d9-edc305ed184e"
    },
    {
      "cell_type": "code",
      "execution_count": 6,
      "metadata": {},
      "outputs": [],
      "source": [
        "conv(img)"
      ],
      "id": "84eb6571-3ad4-4491-93c8-be63888758c9"
    },
    {
      "cell_type": "markdown",
      "metadata": {},
      "source": [
        "??"
      ],
      "id": "f9f79808-808f-4257-ba4c-d124ee714dfa"
    },
    {
      "cell_type": "code",
      "execution_count": 7,
      "metadata": {},
      "outputs": [],
      "source": [
        "conv.weight.data, conv.bias.data"
      ],
      "id": "c34ce339-f5e8-4728-b723-476c5c5cb277"
    },
    {
      "cell_type": "code",
      "execution_count": 8,
      "metadata": {},
      "outputs": [],
      "source": [
        "(img[:,  :,  :2,  :2] * conv.weight.data).sum()+conv.bias.data, conv(img)"
      ],
      "id": "59ac01d2-71c3-49cc-a39f-ce072f61ff83"
    },
    {
      "cell_type": "code",
      "execution_count": 9,
      "metadata": {},
      "outputs": [],
      "source": [
        "(img[:,  :,  :2,  2:] * conv.weight.data).sum()+conv.bias.data, conv(img)"
      ],
      "id": "b1a0311e-689e-43be-a417-c941a8b378fb"
    },
    {
      "cell_type": "code",
      "execution_count": 10,
      "metadata": {},
      "outputs": [],
      "source": [
        "(img[:,  :,  :2,  2:] * conv.weight.data).sum()+conv.bias.data, conv(img)"
      ],
      "id": "e175c600-977d-44cb-9e39-0af91a980e01"
    },
    {
      "cell_type": "code",
      "execution_count": 11,
      "metadata": {},
      "outputs": [],
      "source": [
        "(img[:,  :,  2:,  2:] * conv.weight.data).sum()+conv.bias.data, conv(img)"
      ],
      "id": "a63a3712-b454-4ec8-8fa3-ca6b8010f669"
    },
    {
      "cell_type": "markdown",
      "metadata": {},
      "source": [
        "> **Note**\n",
        ">\n",
        "> **입력이 1장의 흑백이미지이고 출력도 1장의 흑백이미지일 경우 컨볼루션\n",
        "> 계산과정 요약[1]**\n",
        ">\n",
        "> 1.  윈도우생성: `kernel_size` = (?,?) 인 윈도우를 만듦\n",
        "> 2.  sub-img생성: 입력 이미지에 윈도우를 통과시켜 (?,?) 크기의\n",
        ">     sub-img를 만듦.\n",
        "> 3.  연산: sub-img의 각 원소에 `conv.weight`의 값을 원소별로\n",
        ">     (=element-wisely) 곱하고 결과를 더함. (만약에 `conv.bias`가 있다면\n",
        ">     최종결과에 bias를 더함)\n",
        "> 4.  이동&반복: 윈도우를 `stride` 만큼 이동하여 반복. (`stride`=1\n",
        ">     이라면 한칸씩, `stride`=2 라면 두칸씩 이동)\n",
        "\n",
        "**(예시2)** – 재현\n",
        "\n",
        "“A guide to convolution arithmetic for deep learning” (Dumoulin and\n",
        "Visin 2016) 에 나온 그림재현\n",
        "\n",
        "-   ref: <https://arxiv.org/abs/1603.07285>\n",
        "\n",
        "<figure class=\"margin-caption\">\n",
        "<img\n",
        "src=\"https://github.com/guebin/2021BDA/blob/master/_notebooks/2021-11-04-conv.png?raw=true\"\n",
        "alt=\"Fig: conv2d 계산과정시각화\" />\n",
        "<figcaption aria-hidden=\"true\">Fig: conv2d 계산과정시각화</figcaption>\n",
        "</figure>\n",
        "\n",
        "[1] 입력shape=(1,1,?,?) 이고 출력의shape=(1,1,?,?)일 경우"
      ],
      "id": "99f10416-169c-4433-9e9e-0af901fe5c2a"
    },
    {
      "cell_type": "code",
      "execution_count": 14,
      "metadata": {},
      "outputs": [],
      "source": [
        "img = torch.tensor(\n",
        "    [[[[3,3,2,1,0],\n",
        "     [0,0,1,3,1],\n",
        "     [3,1,2,2,3],\n",
        "     [2,0,0,2,2],\n",
        "     [2,0,0,0,1]]]]\n",
        ").float()\n",
        "img.shape"
      ],
      "id": "e7ed74e8-33a4-4135-b24d-9b40536ef33d"
    },
    {
      "cell_type": "code",
      "execution_count": 15,
      "metadata": {},
      "outputs": [],
      "source": [
        "conv = torch.nn.Conv2d(\n",
        "    in_channels=1, \n",
        "    out_channels=1,\n",
        "    kernel_size=3,\n",
        "    stride=1,\n",
        "    bias=False\n",
        ")"
      ],
      "id": "68222db2-24ec-4d40-af75-84efdb0b041f"
    },
    {
      "cell_type": "code",
      "execution_count": 16,
      "metadata": {},
      "outputs": [],
      "source": [
        "conv.weight.data"
      ],
      "id": "ce974c58-3b95-4372-a54d-a8a87845e29f"
    },
    {
      "cell_type": "code",
      "execution_count": 19,
      "metadata": {},
      "outputs": [],
      "source": [
        "conv.weight.data = torch.tensor(\n",
        "    [[[[0, 1, 2],\n",
        "       [2, 2, 0],\n",
        "       [0, 1, 2]]]]\n",
        ").float()\n",
        "conv.weight.data"
      ],
      "id": "1f0a6dd2-e46f-47c0-bda5-bfb0f746bef0"
    },
    {
      "cell_type": "code",
      "execution_count": 20,
      "metadata": {},
      "outputs": [],
      "source": [
        "conv(img)"
      ],
      "id": "ea4d332b-7312-47f1-9364-8c2d431e6692"
    },
    {
      "cell_type": "markdown",
      "metadata": {},
      "source": [
        "**(예시3) 이동평균**"
      ],
      "id": "026019a3-1ae5-4b68-aaf7-1c2ba171c014"
    },
    {
      "cell_type": "code",
      "execution_count": 13,
      "metadata": {},
      "outputs": [],
      "source": [
        "img = torch.arange(1,17).float().reshape(1,1,4,4)\n",
        "conv = torch.nn.Conv2d(in_channels=1,out_channels=1,kernel_size=2,stride=1,bias=False)\n",
        "conv.weight.data = conv.weight.data*0+1/4"
      ],
      "id": "4dfef79c-8034-4360-9d65-762894de1c4a"
    },
    {
      "cell_type": "code",
      "execution_count": 14,
      "metadata": {},
      "outputs": [],
      "source": [
        "img"
      ],
      "id": "1e64ea61-8201-4890-ba6b-274f2d828452"
    },
    {
      "cell_type": "code",
      "execution_count": 15,
      "metadata": {},
      "outputs": [],
      "source": [
        "conv(img)"
      ],
      "id": "7ad36af0-772e-4f60-9d2c-c6beb4bbff8d"
    },
    {
      "cell_type": "markdown",
      "metadata": {},
      "source": [
        "**(예시4) 2개의 이미지**\n",
        "\n",
        "`-` 개념: (1,1,?,?) $\\to$ (1,1,?,?) 의 conv를 observation 별로 적용\n",
        "\n",
        "-   `conv`에 포함된 파라메터 수는 (1,1,?,?) $\\to$ (1,1,?,?) 인 경우와\n",
        "    (n,1,?,?) $\\to$ (n,1,?,?)인 경우가 동일"
      ],
      "id": "35bf84b6-435e-4e6c-a5ae-44ccfd703fc4"
    },
    {
      "cell_type": "code",
      "execution_count": 21,
      "metadata": {},
      "outputs": [],
      "source": [
        "imgs = torch.arange(1,33).float().reshape(2,1,4,4)\n",
        "conv = torch.nn.Conv2d(in_channels=1,out_channels=1,kernel_size=2,stride=1,bias=False)\n",
        "conv.weight.data = conv.weight.data*0+1/4"
      ],
      "id": "770ce1b2-6d33-40af-9ace-4d86ca5ea6ad"
    },
    {
      "cell_type": "code",
      "execution_count": 22,
      "metadata": {},
      "outputs": [],
      "source": [
        "imgs"
      ],
      "id": "eed170a1-f9db-4571-9afd-482752847dff"
    },
    {
      "cell_type": "code",
      "execution_count": 23,
      "metadata": {},
      "outputs": [],
      "source": [
        "conv(imgs)"
      ],
      "id": "eb84265b-a765-4f4e-968b-be89a284b773"
    },
    {
      "cell_type": "markdown",
      "metadata": {},
      "source": [
        "**(예시5) 2개의 out_channels**\n",
        "\n",
        "`-` 개념: (1,1,?,?) $\\to$ (1,1,?,?) 의 conv를 하나의 채널에 적용, 그리고\n",
        "또 다른 채널에는 (1,1,?,?) $\\to$ (1,1,?,?) 인 다른 conv를 적용함.\n",
        "\n",
        "-   `conv`에 포함된 파라메터 수는 (1,1,?,?) $\\to$ (1,1,?,?) 인 경우보다\n",
        "    (1,1,?,?) $\\to$ (1,2,?,?)인 경우가 2배 많음[1]\n",
        "\n",
        "[1] bias가 있어도 2배임"
      ],
      "id": "98db8979-adf8-45f5-a2bd-be205d6ad80e"
    },
    {
      "cell_type": "code",
      "execution_count": 24,
      "metadata": {},
      "outputs": [],
      "source": [
        "img = torch.arange(1,33).float().reshape(2,1,4,4)\n",
        "conv = torch.nn.Conv2d(in_channels=1,out_channels=2,kernel_size=2,stride=1,bias=False)\n",
        "conv.weight.data[0] = conv.weight.data[0]*0 + 1/4\n",
        "conv.weight.data[1] = conv.weight.data[1]*0 "
      ],
      "id": "f31b61f5-5116-4729-96ca-caff1a258bf8"
    },
    {
      "cell_type": "code",
      "execution_count": 25,
      "metadata": {},
      "outputs": [],
      "source": [
        "img"
      ],
      "id": "f983b082-bfa8-40cd-a74c-643fabbe030f"
    },
    {
      "cell_type": "code",
      "execution_count": 26,
      "metadata": {},
      "outputs": [],
      "source": [
        "conv(img)"
      ],
      "id": "161d29ed-c100-413e-9715-f7df683af7f7"
    },
    {
      "cell_type": "markdown",
      "metadata": {},
      "source": [
        "# 4. CNN의 학습원리\n",
        "\n",
        "## A. data\n",
        "\n",
        "아래의 4개의 이미지를 생각하자 ."
      ],
      "id": "3abb4739-2119-46f1-8eac-d30edfc1e4af"
    },
    {
      "cell_type": "code",
      "execution_count": 617,
      "metadata": {},
      "outputs": [],
      "source": [
        "img0 = torch.tensor([\n",
        "    [0.1, 0.1, 0.1, 0.1, 0.1, 0.1, 0.1, 0.1, 0.0, 0.0, 0.0, 0.0, 0.0, 0.0, 0.0, 0.0],\n",
        "    [0.1, 0.1, 0.1, 0.1, 0.1, 0.1, 0.1, 0.1, 0.0, 0.0, 0.0, 0.0, 0.0, 0.0, 0.0, 0.0],\n",
        "    [0.1, 0.1, 0.1, 0.1, 0.1, 0.1, 0.1, 0.1, 0.0, 0.0, 0.0, 0.0, 0.0, 0.0, 0.0, 0.0],\n",
        "    [0.1, 0.1, 0.1, 0.1, 0.1, 0.1, 0.1, 0.1, 0.0, 0.0, 0.0, 0.0, 0.0, 0.0, 0.0, 0.0],\n",
        "    [0.1, 0.1, 0.1, 0.1, 0.1, 0.1, 0.1, 0.1, 0.0, 0.0, 0.0, 0.0, 0.0, 0.0, 0.0, 0.0],\n",
        "    [0.1, 0.1, 0.1, 0.1, 0.1, 0.1, 0.1, 0.1, 0.0, 0.0, 0.0, 0.0, 0.0, 0.0, 0.0, 0.0],\n",
        "    [0.1, 0.1, 0.1, 0.1, 0.1, 0.1, 0.1, 0.1, 0.0, 0.0, 0.0, 0.0, 0.0, 0.0, 0.0, 0.0],\n",
        "    [0.1, 0.1, 0.1, 0.1, 0.1, 0.1, 0.1, 0.1, 0.0, 0.0, 0.0, 0.0, 0.0, 0.0, 0.0, 0.0],\n",
        "    [0.1, 0.1, 0.1, 0.1, 0.1, 0.1, 0.1, 0.1, 0.0, 0.0, 0.0, 0.0, 0.0, 0.0, 0.0, 0.0],\n",
        "    [0.1, 0.1, 0.1, 0.1, 0.1, 0.1, 0.1, 0.1, 0.0, 0.0, 0.0, 0.0, 0.0, 0.0, 0.0, 0.0],\n",
        "    [0.1, 0.1, 0.1, 0.1, 0.1, 0.1, 0.1, 0.1, 0.0, 0.0, 0.0, 0.0, 0.0, 0.0, 0.0, 0.0],\n",
        "    [0.1, 0.1, 0.1, 0.1, 0.1, 0.1, 0.1, 0.1, 0.0, 0.0, 0.0, 0.0, 0.0, 0.0, 0.0, 0.0],\n",
        "    [0.1, 0.1, 0.1, 0.1, 0.1, 0.1, 0.1, 0.1, 0.0, 0.0, 0.0, 0.0, 0.0, 0.0, 0.0, 0.0],\n",
        "    [0.1, 0.1, 0.1, 0.1, 0.1, 0.1, 0.1, 0.1, 0.0, 0.0, 0.0, 0.0, 0.0, 0.0, 0.0, 0.0],\n",
        "    [0.1, 0.1, 0.1, 0.1, 0.1, 0.1, 0.1, 0.1, 0.0, 0.0, 0.0, 0.0, 0.0, 0.0, 0.0, 0.0],\n",
        "    [0.1, 0.1, 0.1, 0.1, 0.1, 0.1, 0.1, 0.1, 0.0, 0.0, 0.0, 0.0, 0.0, 0.0, 0.0, 0.0]\n",
        "]).reshape(1, 1, 16, 16) \n",
        "img1 = 0.1-torch.einsum('nchw->ncwh', img0.clone())\n",
        "img2 = torch.zeros((1, 1, 16, 16))\n",
        "for i in range(16):\n",
        "    for j in range(16):\n",
        "        if j <= i:  # 대각선 아래 삼각형\n",
        "            img2[0, 0, i, j] = 0.1\n",
        "# 빈 이미지\n",
        "img3 = torch.zeros((1, 1, 16, 16))\n",
        "block_size = 2\n",
        "# 블록 단위로 채우기\n",
        "for i in range(0, 16, block_size):\n",
        "    for j in range(0, 16, block_size):\n",
        "        if ((i // block_size) + (j // block_size)) % 2 == 0:\n",
        "            img3[0, 0, i:i+block_size, j:j+block_size] = 0.1"
      ],
      "id": "bc704209-520a-47f6-ae59-28f5ef9a7b7d"
    },
    {
      "cell_type": "code",
      "execution_count": 618,
      "metadata": {},
      "outputs": [
        {
          "output_type": "display_data",
          "metadata": {},
          "data": {
            "image/png": "[encoded data removed]"
          }
        }
      ],
      "source": [
        "fig,axs = plt.subplots(2,2)\n",
        "fig.set_size_inches(8,8)\n",
        "axs[0][0].imshow(img0.squeeze(),cmap=\"gray\")\n",
        "axs[0][1].imshow(img1.squeeze(),cmap=\"gray\")\n",
        "axs[1][0].imshow(img2.squeeze(),cmap=\"gray\")\n",
        "axs[1][1].imshow(img3.squeeze(),cmap=\"gray\")\n",
        "plt.tight_layout()"
      ],
      "id": "8f41cd07-7d2d-43af-8807-74da2569f159"
    },
    {
      "cell_type": "code",
      "execution_count": 619,
      "metadata": {},
      "outputs": [],
      "source": [
        "imgs = torch.concat([img0,img1,img2,img3])"
      ],
      "id": "d0d2689a-0584-43d0-b60f-19b26012de36"
    },
    {
      "cell_type": "markdown",
      "metadata": {},
      "source": [
        "## B. 세로엣지"
      ],
      "id": "07a43409-ecbe-4cf0-9a76-3d666157e6f3"
    },
    {
      "cell_type": "code",
      "execution_count": 634,
      "metadata": {},
      "outputs": [],
      "source": [
        "v_conv = torch.nn.Conv2d(\n",
        "    in_channels=1,\n",
        "    out_channels=1,\n",
        "    kernel_size=4,\n",
        "    bias=False\n",
        ")  \n",
        "v_conv.weight.data =  torch.tensor([\n",
        "    [0,0,0,0],\n",
        "    [0,1,  -1, 0],\n",
        "    [0,1, -1,0],\n",
        "    [0,0,0,0]\n",
        "]).float().reshape(1, 1, 4,4)"
      ],
      "id": "20d9474f-81ee-4b72-b2b4-a9395f1fcd2e"
    },
    {
      "cell_type": "code",
      "execution_count": 635,
      "metadata": {},
      "outputs": [
        {
          "output_type": "display_data",
          "metadata": {},
          "data": {
            "image/png": "[encoded data removed]"
          }
        }
      ],
      "source": [
        "fig,axs = plt.subplots(2,2)\n",
        "fig.set_size_inches(8,8)\n",
        "axs[0][0].imshow(v_conv(img0).data.squeeze(), cmap=\"gray\")\n",
        "axs[0][1].imshow(v_conv(img1).data.squeeze(), cmap=\"gray\")\n",
        "axs[1][0].imshow(v_conv(img2).data.squeeze(), cmap=\"gray\")\n",
        "axs[1][1].imshow(v_conv(img3).data.squeeze(), cmap=\"gray\")\n",
        "plt.tight_layout()"
      ],
      "id": "85c93408-2646-4970-9abc-8fb4f06cf3cc"
    },
    {
      "cell_type": "markdown",
      "metadata": {},
      "source": [
        "## C. 가로엣지"
      ],
      "id": "4a9570e4-275e-47ed-81d0-3f9f760ad149"
    },
    {
      "cell_type": "code",
      "execution_count": 636,
      "metadata": {},
      "outputs": [],
      "source": [
        "h_conv = torch.nn.Conv2d(\n",
        "    in_channels=1,\n",
        "    out_channels=1,\n",
        "    kernel_size=4,\n",
        "    bias=False\n",
        ")  \n",
        "h_conv.weight.data = torch.tensor([\n",
        "    [0,0,0,0],\n",
        "    [0, -1, -1, 0],\n",
        "    [0, 1, 1, 0],\n",
        "    [0,0,0,0]\n",
        "]).float().reshape(1, 1, 4, 4)"
      ],
      "id": "6e45cd92-ab4b-49a4-9369-f29d536f112a"
    },
    {
      "cell_type": "code",
      "execution_count": 637,
      "metadata": {},
      "outputs": [
        {
          "output_type": "display_data",
          "metadata": {},
          "data": {
            "image/png": "[encoded data removed]"
          }
        }
      ],
      "source": [
        "fig,axs = plt.subplots(2,2)\n",
        "fig.set_size_inches(8,8)\n",
        "axs[0][0].imshow(h_conv(img0).data.squeeze(),cmap=\"gray\")\n",
        "axs[0][1].imshow(h_conv(img1).data.squeeze(),cmap=\"gray\")\n",
        "axs[1][0].imshow(h_conv(img2).data.squeeze(),cmap=\"gray\")\n",
        "axs[1][1].imshow(h_conv(img3).data.squeeze(),cmap=\"gray\")\n",
        "plt.tight_layout()"
      ],
      "id": "a87b40ef-6470-4f28-af97-47a1cd492671"
    },
    {
      "cell_type": "markdown",
      "metadata": {},
      "source": [
        "## D. 이동평균"
      ],
      "id": "4603dc08-cf9d-4ceb-8a97-2a6d824af0e3"
    },
    {
      "cell_type": "code",
      "execution_count": 639,
      "metadata": {},
      "outputs": [],
      "source": [
        "m_conv = torch.nn.Conv2d(\n",
        "    in_channels=1,\n",
        "    out_channels=1,\n",
        "    kernel_size=4,\n",
        "    bias=True\n",
        ")  \n",
        "m_conv.weight.data = m_conv.weight.data*0 + 1/4\n",
        "m_conv.bias.data = m_conv.bias.data*0 -0.2"
      ],
      "id": "fc40284f-d5c3-4971-8c4b-a87552b79663"
    },
    {
      "cell_type": "code",
      "execution_count": 640,
      "metadata": {},
      "outputs": [
        {
          "output_type": "display_data",
          "metadata": {},
          "data": {
            "image/png": "[encoded data removed]"
          }
        }
      ],
      "source": [
        "fig,axs = plt.subplots(2,2)\n",
        "fig.set_size_inches(8,8)\n",
        "axs[0][0].imshow(m_conv(img0).data.squeeze(), cmap=\"gray\")\n",
        "axs[0][1].imshow(m_conv(img1).data.squeeze(), cmap=\"gray\")\n",
        "axs[1][0].imshow(m_conv(img2).data.squeeze(), cmap=\"gray\")\n",
        "axs[1][1].imshow(m_conv(img3).data.squeeze(), cmap=\"gray\")\n",
        "\n",
        "plt.tight_layout()"
      ],
      "id": "40beefc7-c550-4711-a095-2a6bffea4137"
    },
    {
      "cell_type": "markdown",
      "metadata": {},
      "source": [
        "## E. (C,D,E) + relu + mp"
      ],
      "id": "b3c5ccb4-2931-4591-8a60-8caecd70e156"
    },
    {
      "cell_type": "code",
      "execution_count": 721,
      "metadata": {},
      "outputs": [],
      "source": [
        "relu = torch.nn.ReLU()\n",
        "mp = torch.nn.MaxPool2d(kernel_size=13)"
      ],
      "id": "7bbddbf1-379b-421f-a7b2-d99d6fe7e004"
    },
    {
      "cell_type": "code",
      "execution_count": 722,
      "metadata": {},
      "outputs": [],
      "source": [
        "mp(relu(v_conv(imgs)))"
      ],
      "id": "404cfd7d-3d81-4e88-b6b0-cfd88601d6af"
    },
    {
      "cell_type": "code",
      "execution_count": 723,
      "metadata": {},
      "outputs": [],
      "source": [
        "mp(relu(h_conv(imgs)))"
      ],
      "id": "88e47ac7-f222-4b5c-85cc-b5523548b2ba"
    },
    {
      "cell_type": "code",
      "execution_count": 724,
      "metadata": {},
      "outputs": [],
      "source": [
        "mp(relu(m_conv(imgs)))"
      ],
      "id": "75e95d34-2922-453c-91a9-2d69af5e4a4e"
    },
    {
      "cell_type": "markdown",
      "metadata": {},
      "source": [
        "## F. 대충 이런 구조"
      ],
      "id": "853ca1d4-ee9c-47b1-8483-008abfde38cd"
    },
    {
      "cell_type": "code",
      "execution_count": 814,
      "metadata": {},
      "outputs": [],
      "source": [
        "net = torch.nn.Sequential(\n",
        "    torch.nn.Conv2d(in_channels=1,out_channels=3,kernel_size=4),\n",
        "    torch.nn.ReLU(),\n",
        "    torch.nn.MaxPool2d(kernel_size=13),\n",
        "    torch.nn.Flatten()\n",
        ")"
      ],
      "id": "d16a64b5-4335-47ca-8e84-4ac9b813873e"
    },
    {
      "cell_type": "code",
      "execution_count": 815,
      "metadata": {},
      "outputs": [],
      "source": [
        "net[0].weight.shape"
      ],
      "id": "97e641fb-63f9-4f82-8ab4-6099c4009664"
    },
    {
      "cell_type": "code",
      "execution_count": 816,
      "metadata": {},
      "outputs": [],
      "source": [
        "net[0].weight.data = torch.concat(\n",
        "    [h_conv.weight.data,\n",
        "     v_conv.weight.data, \n",
        "     m_conv.weight.data]\n",
        ")\n",
        "net[0].bias.data = torch.tensor([0,0,-0.2])"
      ],
      "id": "0cd73642-2061-411a-85b0-a2522057c2f1"
    },
    {
      "cell_type": "code",
      "execution_count": 827,
      "metadata": {},
      "outputs": [],
      "source": [
        "net(imgs)"
      ],
      "id": "98fe404a-518c-4ad7-b686-4f6f00f58e0b"
    },
    {
      "cell_type": "code",
      "execution_count": 833,
      "metadata": {},
      "outputs": [
        {
          "output_type": "display_data",
          "metadata": {},
          "data": {
            "image/png": "[encoded data removed]"
          }
        }
      ],
      "source": [
        "plt.matshow(net(imgs).data,cmap=\"gray\")\n",
        "plt.colorbar()"
      ],
      "id": "8ac902e8-4cf6-4024-bbe6-ad15c5a6f511"
    },
    {
      "cell_type": "markdown",
      "metadata": {},
      "source": [
        "## G. mp의 역할? – 선택\n",
        "\n",
        "`-` 샘플이미지"
      ],
      "id": "c7fdf858-f63e-4f2f-a576-047b95105944"
    },
    {
      "cell_type": "code",
      "execution_count": 859,
      "metadata": {},
      "outputs": [],
      "source": [
        "img = torch.zeros((1, 1, 16, 16))\n",
        "triangle_size = 4\n",
        "for i in range(triangle_size):\n",
        "    for j in range(triangle_size):\n",
        "        if j <= i:  # 아래 방향 직각삼각형 (왼쪽 위 꼭짓점 기준)\n",
        "            img[0, 0, i, j] = 1.0"
      ],
      "id": "e3a753ce-8702-4cae-9e79-2ec6e25d968c"
    },
    {
      "cell_type": "code",
      "execution_count": 868,
      "metadata": {},
      "outputs": [
        {
          "output_type": "display_data",
          "metadata": {},
          "data": {
            "image/png": "[encoded data removed]"
          }
        }
      ],
      "source": [
        "plt.imshow(img.squeeze(),cmap=\"gray\")"
      ],
      "id": "cb93b690-4edf-4dfe-b291-7ebdb61f5b78"
    },
    {
      "cell_type": "markdown",
      "metadata": {},
      "source": [
        "`-` mp1 회"
      ],
      "id": "7d480040-f1ce-4908-9648-21c2a5eddbac"
    },
    {
      "cell_type": "code",
      "execution_count": 869,
      "metadata": {},
      "outputs": [],
      "source": [
        "mp = torch.nn.MaxPool2d(kernel_size=2)"
      ],
      "id": "d438bf10-6cd0-479d-857d-eaf3ddd3fc48"
    },
    {
      "cell_type": "code",
      "execution_count": 870,
      "metadata": {},
      "outputs": [
        {
          "output_type": "display_data",
          "metadata": {},
          "data": {
            "image/png": "[encoded data removed]"
          }
        }
      ],
      "source": [
        "plt.imshow(img.squeeze(),cmap=\"gray\")"
      ],
      "id": "397fd27a-1891-4d0b-81b3-1bb76b0af257"
    },
    {
      "cell_type": "markdown",
      "metadata": {},
      "source": [
        "`-` mp 2~4회"
      ],
      "id": "0a590f62-1864-4c7a-b3b1-5fc9ec466e94"
    },
    {
      "cell_type": "code",
      "execution_count": 871,
      "metadata": {},
      "outputs": [
        {
          "output_type": "display_data",
          "metadata": {},
          "data": {
            "image/png": "[encoded data removed]"
          }
        }
      ],
      "source": [
        "plt.imshow(mp(img).squeeze(),cmap=\"gray\")"
      ],
      "id": "59346144-4855-4d74-9545-2e853c371a51"
    },
    {
      "cell_type": "code",
      "execution_count": 872,
      "metadata": {},
      "outputs": [
        {
          "output_type": "display_data",
          "metadata": {},
          "data": {
            "image/png": "[encoded data removed]"
          }
        }
      ],
      "source": [
        "plt.imshow(mp(mp(img)).squeeze(),cmap=\"gray\")"
      ],
      "id": "b9e6ec18-77f8-460f-b3ad-b7071b181f42"
    },
    {
      "cell_type": "code",
      "execution_count": 873,
      "metadata": {},
      "outputs": [
        {
          "output_type": "display_data",
          "metadata": {},
          "data": {
            "image/png": "[encoded data removed]"
          }
        }
      ],
      "source": [
        "plt.imshow(mp(mp(mp(img))).squeeze(),cmap=\"gray\")"
      ],
      "id": "9b3663d8-43d8-4767-bf4e-f2a8827e27b3"
    },
    {
      "cell_type": "markdown",
      "metadata": {},
      "source": [
        "`-` maxpooling은 이미지를 “캐리커처화” 한다고 비유할 수 있음. 디테일은\n",
        "버리고, 중요한 특징만 뽑아서 과장되게 요약한다.\n",
        "\n",
        "# 5. FashionMNIST\n",
        "\n",
        "`-` 데이터"
      ],
      "id": "443bdadd-4bb5-4606-8497-f3e935c25333"
    },
    {
      "cell_type": "code",
      "execution_count": 941,
      "metadata": {},
      "outputs": [],
      "source": [
        "train_dataset = torchvision.datasets.FashionMNIST(root='./data', train=True, download=True)\n",
        "train_dataset = torch.utils.data.Subset(train_dataset, range(5000))\n",
        "to_tensor = torchvision.transforms.ToTensor()\n",
        "X = torch.stack([to_tensor(img) for img, lbl in train_dataset]).to(\"cuda:0\")\n",
        "y = torch.tensor([lbl for img, lbl in train_dataset])\n",
        "y = torch.nn.functional.one_hot(y).float().to(\"cuda:0\")"
      ],
      "id": "8c9824ed-cbb3-4f2c-88dd-559cae51c923"
    },
    {
      "cell_type": "markdown",
      "metadata": {},
      "source": [
        "`-` 2d를 처리하고 flatten하는 네트워크"
      ],
      "id": "388b4f85-c266-4d58-984c-15a49f150a5e"
    },
    {
      "cell_type": "code",
      "execution_count": 942,
      "metadata": {},
      "outputs": [],
      "source": [
        "net1 = torch.nn.Sequential(\n",
        "    torch.nn.Conv2d(in_channels=1,out_channels=16,kernel_size=5),\n",
        "    torch.nn.ReLU(),\n",
        "    torch.nn.MaxPool2d(kernel_size=2),\n",
        "    torch.nn.Flatten()\n",
        ").to(\"cuda:0\")"
      ],
      "id": "80ceac0b-1556-4199-9306-162d1fe6f57f"
    },
    {
      "cell_type": "code",
      "execution_count": 943,
      "metadata": {},
      "outputs": [],
      "source": [
        "net1(X).shape"
      ],
      "id": "d7f633ac-f660-4f48-ab9d-a7de6dd9a75f"
    },
    {
      "cell_type": "markdown",
      "metadata": {},
      "source": [
        "`-` 1d를 처리하는 네트워크"
      ],
      "id": "bb4e5645-79ee-4949-8ae2-75cc00f3c7e3"
    },
    {
      "cell_type": "code",
      "execution_count": 944,
      "metadata": {},
      "outputs": [],
      "source": [
        "net2 = torch.nn.Sequential(\n",
        "    torch.nn.Linear(2304,10)\n",
        ").to(\"cuda:0\")"
      ],
      "id": "152c0d94-f1ad-40cb-a7b8-a1fddef3a44e"
    },
    {
      "cell_type": "code",
      "execution_count": 945,
      "metadata": {},
      "outputs": [],
      "source": [
        "net2(net1(X)).shape"
      ],
      "id": "4468bf9b-f40e-4afc-9efb-afd650db370b"
    },
    {
      "cell_type": "markdown",
      "metadata": {},
      "source": [
        "`-` 두 네트워크를 결합"
      ],
      "id": "92515323-ea28-4a09-92e2-cef0ea0a798e"
    },
    {
      "cell_type": "code",
      "execution_count": 946,
      "metadata": {},
      "outputs": [],
      "source": [
        "net = torch.nn.Sequential(\n",
        "    net1,\n",
        "    net2\n",
        ")\n",
        "net(X).shape"
      ],
      "id": "3a68bbcb-24ee-4d73-85d0-2cce943b2ad4"
    },
    {
      "cell_type": "markdown",
      "metadata": {},
      "source": [
        "`-` 최종적인 코드"
      ],
      "id": "38827a76-8c41-46df-9856-6e14297dac61"
    },
    {
      "cell_type": "code",
      "execution_count": 947,
      "metadata": {},
      "outputs": [],
      "source": [
        "net = torch.nn.Sequential(\n",
        "    net1,\n",
        "    net2\n",
        ")\n",
        "optimizr = torch.optim.Adam(net.parameters())\n",
        "loss_fn = torch.nn.CrossEntropyLoss()\n",
        "#---#\n",
        "for epoc in range(150):\n",
        "    #1\n",
        "    netout = net(X)\n",
        "    #2 \n",
        "    loss = loss_fn(netout,y)\n",
        "    #3\n",
        "    loss.backward()\n",
        "    #4\n",
        "    optimizr.step()\n",
        "    optimizr.zero_grad()    "
      ],
      "id": "535e84b1-2aab-430f-b608-5d37ea37cd28"
    },
    {
      "cell_type": "code",
      "execution_count": 948,
      "metadata": {},
      "outputs": [],
      "source": [
        "(net(X).argmax(axis=1) == y.argmax(axis=1)).float().mean()"
      ],
      "id": "90fa4fd8-209d-4071-98e8-84d4e858beb0"
    },
    {
      "cell_type": "markdown",
      "metadata": {},
      "source": [
        "Dumoulin, Vincent, and Francesco Visin. 2016. “A Guide to Convolution\n",
        "Arithmetic for Deep Learning.” *arXiv Preprint arXiv:1603.07285*."
      ],
      "id": "ce2be559-905a-4e84-b515-0ca7a3012c0d"
    }
  ],
  "nbformat": 4,
  "nbformat_minor": 5,
  "metadata": {
    "kernelspec": {
      "name": "python3",
      "display_name": "Python 3 (ipykernel)",
      "language": "python"
    },
    "language_info": {
      "name": "python",
      "codemirror_mode": {
        "name": "ipython",
        "version": "3"
      },
      "file_extension": ".py",
      "mimetype": "text/x-python",
      "nbconvert_exporter": "python",
      "pygments_lexer": "ipython3",
      "version": "3.9.21"
    }
  }
}