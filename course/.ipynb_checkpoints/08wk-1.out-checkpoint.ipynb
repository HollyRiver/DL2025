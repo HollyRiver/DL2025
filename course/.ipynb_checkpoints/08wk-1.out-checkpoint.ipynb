{
 "cells": [
  {
   "cell_type": "markdown",
   "id": "6359f442-4275-407d-98be-0f0ae04364a6",
   "metadata": {},
   "source": [
    "# 08wk-1: (합성곱신경망) – MNIST, CIFAR10, XAI란?\n",
    "\n",
    "최규빈  \n",
    "2025-04-23\n",
    "\n",
    "<a href=\"https://colab.research.google.com/github/guebin/DL2025/blob/main/posts/08wk-1.ipynb\"><img src=\"https://colab.research.google.com/assets/colab-badge.svg\" style=\"text-align: left\"></a>\n",
    "\n",
    "# 1. 강의영상"
   ]
  },
  {
   "cell_type": "code",
   "execution_count": 1,
   "id": "d8af761c-b80e-4795-980a-e76ae3b7061a",
   "metadata": {
    "tags": []
   },
   "outputs": [],
   "source": [
    "#{{<video https://youtu.be/playlist?list=PLQqh36zP38-z7s7FppJtYXFUnJzw88qWg&si=3TuaJ7IiiIG6QT7X>}}"
   ]
  },
  {
   "cell_type": "markdown",
   "id": "1f64b26e-1070-4be6-8b65-18bb5bdf0237",
   "metadata": {},
   "source": [
    "# 2. Imports"
   ]
  },
  {
   "cell_type": "code",
   "execution_count": 37,
   "id": "94cf31c0-2cee-4a18-82da-3380f21e28f1",
   "metadata": {
    "tags": []
   },
   "outputs": [],
   "source": [
    "import torch\n",
    "import torchvision\n",
    "import matplotlib.pyplot as plt"
   ]
  },
  {
   "cell_type": "code",
   "execution_count": 3,
   "id": "7e051a46-f5b5-4bdd-b236-6f6b9c62d7ed",
   "metadata": {},
   "outputs": [],
   "source": [
    "plt.rcParams['figure.figsize'] = (4.5, 3.0)"
   ]
  },
  {
   "cell_type": "markdown",
   "id": "263fcdd7-cb8d-4e58-865c-e70055691727",
   "metadata": {},
   "source": [
    "# 3. MNIST"
   ]
  },
  {
   "cell_type": "code",
   "execution_count": 4,
   "id": "3e8ec5b1-d78d-4696-8bf5-b26c3d2e7eec",
   "metadata": {},
   "outputs": [],
   "source": [
    "train_dataset = torchvision.datasets.MNIST(root='./data', train=True, download=True,transform=torchvision.transforms.ToTensor())\n",
    "test_dataset = torchvision.datasets.MNIST(root='./data', train=False, download=True,transform=torchvision.transforms.ToTensor())\n",
    "X,y = next(iter(torch.utils.data.DataLoader(train_dataset,batch_size=6000,shuffle=True)))\n",
    "XX,yy = next(iter(torch.utils.data.DataLoader(train_dataset,batch_size=1000,shuffle=True)))"
   ]
  },
  {
   "cell_type": "code",
   "execution_count": 5,
   "id": "3e591dce-9fdc-4f52-9054-9dcca8031a52",
   "metadata": {},
   "outputs": [],
   "source": [
    "net = torch.nn.Sequential(\n",
    "    torch.nn.Conv2d(1,32,kernel_size=5),\n",
    "    torch.nn.ReLU(),\n",
    "    torch.nn.MaxPool2d(kernel_size=2),\n",
    "    torch.nn.Conv2d(32,32,kernel_size=3),\n",
    "    torch.nn.ReLU(),\n",
    "    torch.nn.Flatten(),\n",
    "    #---#\n",
    "    torch.nn.Linear(3200,10)\n",
    ")\n",
    "loss_fn = torch.nn.CrossEntropyLoss()\n",
    "optimizr = torch.optim.Adam(net.parameters())\n",
    "#---#\n",
    "net.to(\"cuda:0\")\n",
    "X = X.to(\"cuda:0\")\n",
    "y = y.to(\"cuda:0\")\n",
    "XX = XX.to(\"cuda:0\")\n",
    "yy = yy.to(\"cuda:0\")\n",
    "#---#\n",
    "for epoc in range(100):\n",
    "    #1\n",
    "    netout = net(X)\n",
    "    #2\n",
    "    loss = loss_fn(netout,y)\n",
    "    #3\n",
    "    loss.backward()\n",
    "    #4 \n",
    "    optimizr.step()\n",
    "    optimizr.zero_grad()"
   ]
  },
  {
   "cell_type": "code",
   "execution_count": 6,
   "id": "addb1431-ad1b-49d8-929d-c4c72d9dd46e",
   "metadata": {},
   "outputs": [],
   "source": [
    "(net(X).argmax(axis=1) == y).float().mean()"
   ]
  },
  {
   "cell_type": "code",
   "execution_count": 7,
   "id": "79eed0fc-3b22-4817-b83f-85000fa2de78",
   "metadata": {},
   "outputs": [],
   "source": [
    "(net(XX).argmax(axis=1) == yy).float().mean()"
   ]
  },
  {
   "cell_type": "code",
   "execution_count": 8,
   "id": "c6c374d2-2f4a-4b50-b9c0-daa2ba491ac4",
   "metadata": {},
   "outputs": [],
   "source": [
    "torch.cuda.empty_cache()"
   ]
  },
  {
   "cell_type": "markdown",
   "id": "ad7d9cd8-8cef-4f5d-993e-daca015b6c4a",
   "metadata": {},
   "source": [
    "# 4. CIFAR10"
   ]
  },
  {
   "cell_type": "code",
   "execution_count": 9,
   "id": "876bf56a-a932-420a-8dff-f50514577a72",
   "metadata": {},
   "outputs": [],
   "source": [
    "train_dataset = torchvision.datasets.CIFAR10(root='./data', train=True, download=True,transform=torchvision.transforms.ToTensor())\n",
    "test_dataset = torchvision.datasets.CIFAR10(root='./data', train=False, download=True,transform=torchvision.transforms.ToTensor())\n",
    "X,y = next(iter(torch.utils.data.DataLoader(train_dataset,batch_size=10000,shuffle=True)))\n",
    "XX,yy = next(iter(torch.utils.data.DataLoader(train_dataset,batch_size=2000,shuffle=True)))"
   ]
  },
  {
   "cell_type": "markdown",
   "id": "a314d9fd-b4b2-4153-b5df-ef4d681e8248",
   "metadata": {},
   "source": [
    "## A. 직접설계"
   ]
  },
  {
   "cell_type": "code",
   "execution_count": 10,
   "id": "a63c9951-e0aa-4a89-ae8a-d6339a315345",
   "metadata": {},
   "outputs": [],
   "source": [
    "net = torch.nn.Sequential(\n",
    "    torch.nn.Conv2d(3,32,kernel_size=5),\n",
    "    torch.nn.ReLU(),\n",
    "    torch.nn.MaxPool2d(kernel_size=2),\n",
    "    torch.nn.Conv2d(32,32,kernel_size=3),\n",
    "    torch.nn.ReLU(),\n",
    "    torch.nn.Flatten(),\n",
    "    #---#\n",
    "    torch.nn.Linear(4608,10)\n",
    ")\n",
    "loss_fn = torch.nn.CrossEntropyLoss()\n",
    "optimizr = torch.optim.Adam(net.parameters())\n",
    "#---#\n",
    "net.to(\"cuda:0\")\n",
    "X = X.to(\"cuda:0\")\n",
    "y = y.to(\"cuda:0\")\n",
    "XX = XX.to(\"cuda:0\")\n",
    "yy = yy.to(\"cuda:0\")\n",
    "#---#\n",
    "for epoc in range(500):\n",
    "    #1\n",
    "    netout = net(X)\n",
    "    #2\n",
    "    loss = loss_fn(netout,y)\n",
    "    #3\n",
    "    loss.backward()\n",
    "    #4 \n",
    "    optimizr.step()\n",
    "    optimizr.zero_grad()"
   ]
  },
  {
   "cell_type": "code",
   "execution_count": 11,
   "id": "2c7812e9-f130-4301-a1d8-16e8bebdab07",
   "metadata": {},
   "outputs": [],
   "source": [
    "(net(X).argmax(axis=1) == y).float().mean()"
   ]
  },
  {
   "cell_type": "code",
   "execution_count": 12,
   "id": "82b4bb58-0037-4114-a7a6-8a3c9dcf032f",
   "metadata": {},
   "outputs": [],
   "source": [
    "(net(XX).argmax(axis=1) == yy).float().mean()"
   ]
  },
  {
   "cell_type": "code",
   "execution_count": 13,
   "id": "c9f4b803-fdc2-4085-abc2-44f59bf44a82",
   "metadata": {},
   "outputs": [],
   "source": [
    "torch.cuda.empty_cache()"
   ]
  },
  {
   "cell_type": "markdown",
   "id": "ea9d59bc-06e8-46ba-835b-0c084b280c99",
   "metadata": {},
   "source": [
    "## B. 알렉스넷?\n",
    "\n",
    "![](https://upload.wikimedia.org/wikipedia/commons/thumb/c/cc/Comparison_image_neural_networks.svg/960px-Comparison_image_neural_networks.svg.png)"
   ]
  },
  {
   "cell_type": "code",
   "execution_count": 14,
   "id": "a434dae6-0bb9-4aee-82bb-635a74ef7b74",
   "metadata": {},
   "outputs": [],
   "source": [
    "img = torch.zeros(1,3*224*224).reshape(1,3,224,224)\n",
    "img.shape"
   ]
  },
  {
   "cell_type": "code",
   "execution_count": 15,
   "id": "bdd5f796-6695-480b-8ed6-df39a04ea845",
   "metadata": {
    "tags": []
   },
   "outputs": [],
   "source": [
    "net = torch.nn.Sequential(\n",
    "    torch.nn.Conv2d(3,96,kernel_size=(11,11),stride=4),\n",
    "    torch.nn.ReLU(),    \n",
    "    torch.nn.MaxPool2d((3,3),stride=2), # default stride는 3\n",
    "    torch.nn.Conv2d(96,256,kernel_size=(5,5),padding=2),\n",
    "    torch.nn.ReLU(),\n",
    "    torch.nn.MaxPool2d((3,3),stride=2), # default stride는 3\n",
    "    torch.nn.Conv2d(256,384,kernel_size=(3,3),padding=1),\n",
    "    torch.nn.ReLU(),\n",
    "    torch.nn.Conv2d(384,384,kernel_size=(3,3),padding=1),\n",
    "    torch.nn.ReLU(),    \n",
    "    torch.nn.Conv2d(384,256,kernel_size=(3,3),padding=1),\n",
    "    torch.nn.ReLU(),    \n",
    "    torch.nn.MaxPool2d((3,3),stride=2),\n",
    "    torch.nn.Flatten(),\n",
    "    torch.nn.Linear(6400,4096),\n",
    "    torch.nn.ReLU(),\n",
    "    torch.nn.Dropout(0.5),\n",
    "    torch.nn.Linear(4096,4096),        \n",
    "    torch.nn.ReLU(),\n",
    "    torch.nn.Dropout(0.5),    \n",
    "    torch.nn.Linear(4096,1000),\n",
    ")"
   ]
  },
  {
   "cell_type": "markdown",
   "id": "2e00ca44-6a0e-4c75-91f3-210614766e2f",
   "metadata": {},
   "source": [
    "## C. 알렉스넷으로 ImageNet 적합"
   ]
  },
  {
   "cell_type": "code",
   "execution_count": 16,
   "id": "d1bdd05a-983c-49cf-8744-53d66a8cde67",
   "metadata": {},
   "outputs": [],
   "source": [
    "net[-1] = torch.nn.Linear(4096,10)"
   ]
  },
  {
   "cell_type": "code",
   "execution_count": 17,
   "id": "f3da9a06-0a65-409c-b7a5-0dfb0d32709c",
   "metadata": {},
   "outputs": [],
   "source": [
    "img = torch.randn(1,3,32,32)"
   ]
  },
  {
   "cell_type": "code",
   "execution_count": 18,
   "id": "85102866-e15c-4631-810d-8930776d662a",
   "metadata": {},
   "outputs": [],
   "source": [
    "net(img)"
   ]
  },
  {
   "cell_type": "code",
   "execution_count": 19,
   "id": "be13c5e5-9740-4944-9b5d-28f60f101536",
   "metadata": {},
   "outputs": [],
   "source": [
    "net[:5](img).shape"
   ]
  },
  {
   "cell_type": "code",
   "execution_count": 20,
   "id": "9a79108d-e1cb-4d88-9a8b-45191123e300",
   "metadata": {},
   "outputs": [],
   "source": [
    "net[5]"
   ]
  },
  {
   "cell_type": "markdown",
   "id": "95ae39fd-9b4a-424a-81a4-081ce0b952bb",
   "metadata": {},
   "source": [
    "실패 ㅠㅠ\n",
    "\n",
    "## D. renset18\n",
    "\n",
    "`-` res: <https://arxiv.org/pdf/1512.03385>"
   ]
  },
  {
   "cell_type": "code",
   "execution_count": 21,
   "id": "b06789ab-b33e-44f6-9fe5-92cedf343eee",
   "metadata": {},
   "outputs": [],
   "source": [
    "net = torchvision.models.resnet18()\n",
    "# net "
   ]
  },
  {
   "cell_type": "code",
   "execution_count": 22,
   "id": "e6118b8b-f5fb-4747-b593-748d5804d0b0",
   "metadata": {},
   "outputs": [],
   "source": [
    "net.fc = torch.nn.Linear(512,10)"
   ]
  },
  {
   "cell_type": "code",
   "execution_count": 23,
   "id": "a1c6c4f9-7ca7-47b1-8811-3f0a688f2d58",
   "metadata": {},
   "outputs": [],
   "source": [
    "loss_fn = torch.nn.CrossEntropyLoss()\n",
    "optimizr = torch.optim.Adam(net.parameters())\n",
    "#---#\n",
    "net.to(\"cuda:0\")\n",
    "X = X.to(\"cuda:0\")\n",
    "y = y.to(\"cuda:0\")\n",
    "XX = XX.to(\"cuda:0\")\n",
    "yy = yy.to(\"cuda:0\")\n",
    "#---#\n",
    "for epoc in range(500):\n",
    "    #1\n",
    "    netout = net(X)\n",
    "    #2\n",
    "    loss = loss_fn(netout,y)\n",
    "    #3\n",
    "    loss.backward()\n",
    "    #4 \n",
    "    optimizr.step()\n",
    "    optimizr.zero_grad()"
   ]
  },
  {
   "cell_type": "code",
   "execution_count": 24,
   "id": "cbc4d1e5-7085-459f-bdad-de4f40b3655d",
   "metadata": {},
   "outputs": [],
   "source": [
    "(net(X).argmax(axis=1) == y).float().mean()"
   ]
  },
  {
   "cell_type": "code",
   "execution_count": 25,
   "id": "1893378f-1d83-45e0-a1e9-ce6d8740050f",
   "metadata": {},
   "outputs": [],
   "source": [
    "(net(XX).argmax(axis=1) == yy).float().mean()"
   ]
  },
  {
   "cell_type": "code",
   "execution_count": 26,
   "id": "8efb6544-fc12-4706-89b7-49ee01f3dcc1",
   "metadata": {},
   "outputs": [],
   "source": [
    "torch.cuda.empty_cache()"
   ]
  },
  {
   "cell_type": "markdown",
   "id": "79ef246d-866a-45fd-830b-eba509a4a686",
   "metadata": {},
   "source": [
    "## E. resnet18, pretrained=True"
   ]
  },
  {
   "cell_type": "code",
   "execution_count": 32,
   "id": "1adf2e13-49d4-4ba9-88ac-a9d726ccc8c0",
   "metadata": {},
   "outputs": [],
   "source": [
    "net = torchvision.models.resnet18(pretrained=True)\n",
    "net.fc = torch.nn.Linear(512,10)"
   ]
  },
  {
   "cell_type": "code",
   "execution_count": 33,
   "id": "3d3816c2-d1d7-4c8e-9f74-094ffd5432db",
   "metadata": {},
   "outputs": [],
   "source": [
    "loss_fn = torch.nn.CrossEntropyLoss()\n",
    "optimizr = torch.optim.Adam(net.parameters())\n",
    "#---#\n",
    "net.to(\"cuda:0\")\n",
    "X = X.to(\"cuda:0\")\n",
    "y = y.to(\"cuda:0\")\n",
    "XX = XX.to(\"cuda:0\")\n",
    "yy = yy.to(\"cuda:0\")\n",
    "#---#\n",
    "for epoc in range(500):\n",
    "    #1\n",
    "    netout = net(X)\n",
    "    #2\n",
    "    loss = loss_fn(netout,y)\n",
    "    #3\n",
    "    loss.backward()\n",
    "    #4 \n",
    "    optimizr.step()\n",
    "    optimizr.zero_grad()"
   ]
  },
  {
   "cell_type": "code",
   "execution_count": 34,
   "id": "9205ed86-30b2-47e4-bb80-1438559b0405",
   "metadata": {},
   "outputs": [],
   "source": [
    "(net(X).argmax(axis=1) == y).float().mean()"
   ]
  },
  {
   "cell_type": "code",
   "execution_count": 35,
   "id": "9e2819ae-9aa6-4165-aae3-51a63977376c",
   "metadata": {},
   "outputs": [],
   "source": [
    "(net(XX).argmax(axis=1) == yy).float().mean()"
   ]
  },
  {
   "cell_type": "code",
   "execution_count": 36,
   "id": "f05922b6-7336-4f87-99e5-f2f312e31900",
   "metadata": {},
   "outputs": [],
   "source": [
    "torch.cuda.empty_cache()"
   ]
  },
  {
   "cell_type": "markdown",
   "id": "a1159927-40dd-400c-9f3d-b70d459f5bc7",
   "metadata": {},
   "source": [
    "# 5. XAI 란?\n",
    "\n",
    "<https://brunch.co.kr/@hvnpoet/140>"
   ]
  },
  {
   "cell_type": "code",
   "execution_count": null,
   "id": "25a2c377-05fe-4d20-bd9c-8636a0878c70",
   "metadata": {},
   "outputs": [],
   "source": []
  }
 ],
 "metadata": {
  "kernelspec": {
   "display_name": "Python 3 (ipykernel)",
   "language": "python",
   "name": "python3"
  },
  "language_info": {
   "codemirror_mode": {
    "name": "ipython",
    "version": 3
   },
   "file_extension": ".py",
   "mimetype": "text/x-python",
   "name": "python",
   "nbconvert_exporter": "python",
   "pygments_lexer": "ipython3",
   "version": "3.9.18"
  }
 },
 "nbformat": 4,
 "nbformat_minor": 5
}
