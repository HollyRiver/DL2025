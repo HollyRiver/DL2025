{
 "cells": [
  {
   "cell_type": "markdown",
   "id": "9bac18bf",
   "metadata": {},
   "source": [
    "# 12wk-2: (순환신경망) – RNNCell, RNN, LSTM, A1-A3"
   ]
  },
  {
   "cell_type": "markdown",
   "id": "2a20c324",
   "metadata": {},
   "source": [
    "## 1. Imports"
   ]
  },
  {
   "cell_type": "code",
   "execution_count": 3,
   "id": "6caaef90",
   "metadata": {},
   "outputs": [],
   "source": [
    "import torch\n",
    "import pandas as pd\n",
    "import matplotlib.pyplot as plt"
   ]
  },
  {
   "cell_type": "markdown",
   "id": "d77e86b8",
   "metadata": {},
   "source": [
    "## 2. 주요 코드 등"
   ]
  },
  {
   "cell_type": "markdown",
   "id": "9b69f7de-426f-4328-a1b4-773795e5d3ee",
   "metadata": {},
   "source": [
    "`-` `RNNCell`의 수동 구현 / 기존 클래스\n",
    "\n",
    "```Python\n",
    "## rnncell\n",
    "class rNNCell(torch.nn.Module) :\n",
    "    def __init__(self) :\n",
    "        super().__init__()\n",
    "\n",
    "        self.i2h = torch.nn.Linear(4, 2)\n",
    "        self.h2h = torch.nn.Linear(2, 2)\n",
    "        self.tanh = torch.nn.Tanh()\n",
    "\n",
    "    def forward(self, Xt, ht) :\n",
    "        \"\"\"\n",
    "        ht : t-1번째의 변환된 자료\n",
    "        \"\"\"\n",
    "        ht = self.tanh(self.i2h(Xt) + self.h2h(ht)) ## (n, 2)\n",
    "        \n",
    "        return ht\n",
    "\n",
    "# rnncell = rNNCell()\n",
    "rnncell = torch.nn.RNNCell(input_size = 4, hidden_size = 2) ## X.shape == (L, 4);h.shape == (L, 2)\n",
    "cook = torch.nn.Linear(2, 4)\n",
    "loss_fn = torch.nn.CrossEntropyLoss()\n",
    "optimizr = torch.optim.Adam(list(rnncell.parameters()) + list(cook.parameters()), lr = 0.1)\n",
    "\n",
    "#---#\n",
    "L = len(X)\n",
    "for epoc in range(200) :\n",
    "    ## 아래 과정이 필요함\n",
    "    loss = 0\n",
    "    ht = torch.zeros(2) ## init h0\n",
    "\n",
    "    for t in range(L) :\n",
    "        Xt, yt = X[t], y[t]\n",
    "        ht = rnncell(Xt, ht) ## h_t-1을 넣어서 h_t를 만듦. 갱신\n",
    "        ot = cook(ht)\n",
    "        loss += loss_fn(ot, yt)\n",
    "\n",
    "    loss = loss/L\n",
    "\n",
    "    loss.backward()\n",
    "    optimizr.step()\n",
    "    optimizr.zero_grad()\n",
    "\n",
    "\n",
    "h = torch.zeros(L, 2)\n",
    "h0 = torch.zeros(2)\n",
    "h[0] = rnncell(X[0], h0) ## 사실상 h1\n",
    "\n",
    "for t in range(1, L) :\n",
    "    h[t] = rnncell(X[t], h[t-1])\n",
    "\n",
    "yhat = torch.nn.functional.softmax(cook(h),dim=1)\n",
    "```"
   ]
  },
  {
   "cell_type": "markdown",
   "id": "aaa42921-df10-4dc9-b5fe-4cb96b282676",
   "metadata": {},
   "source": [
    "`-` `RNN` 클래스를 이용한 구현\n",
    "\n",
    "```Python\n",
    "rnn = torch.nn.RNN(\n",
    "    input_size= 4, # X.shape=(L,H_in)\n",
    "    hidden_size = 2, # h.shape=(L,H_out)\n",
    "    num_layers = 1, # 어느 방향에서 레이어가 들어오는지의 차원. 피쳐가 몇개인지 느낌? 디폴트는 1\n",
    "    bidirectional = False # bi-directional : True이면 뒤에서부터도 읽을 수 있는 양방향 네트워크. 디폴트는 False\n",
    ")\n",
    "cook = torch.nn.Linear(2,4)\n",
    "loss_fn = torch.nn.CrossEntropyLoss()\n",
    "optimizr = torch.optim.Adam(list(rnn.parameters())+list(cook.parameters()),lr=0.1)\n",
    "\n",
    "#---#\n",
    "for epoc in range(200) :\n",
    "    ## 초기화 하는 경우\n",
    "    # h0 = torch.zeros(1, 2) ## D*num_layers == 1*1\n",
    "    # h, hL = rnn(X, h0) ## (h, h[L])\n",
    "    h, hL = rnn(X) ## 초기화 안하고 그냥 넣어도 돌아감\n",
    "    netout = cook(h)\n",
    "    \n",
    "    loss = loss_fn(netout, y)\n",
    "    loss.backward()\n",
    "    optimizr.step()\n",
    "    optimizr.zero_grad()\n",
    "\n",
    "yhat = torch.nn.functional.softmax(netout,dim=1)\n",
    "```"
   ]
  },
  {
   "cell_type": "markdown",
   "id": "214c5238-fba2-4bd5-a3cc-76c98679f42a",
   "metadata": {},
   "source": [
    "## 3. Data - `AbAcAd`"
   ]
  },
  {
   "cell_type": "markdown",
   "id": "d2e2aa9e-9a17-4a83-8b49-48e5518d8e5c",
   "metadata": {},
   "source": [
    "`-` 데이터 정리"
   ]
  },
  {
   "cell_type": "code",
   "execution_count": 4,
   "id": "fdc9010d-c1a4-4d3a-92c5-13044afa9d1a",
   "metadata": {},
   "outputs": [
    {
     "data": {
      "text/plain": [
       "['A', 'b', 'A', 'c', 'A', 'd', 'A', 'b', 'A', 'c']"
      ]
     },
     "execution_count": 4,
     "metadata": {},
     "output_type": "execute_result"
    }
   ],
   "source": [
    "txt = list(\"AbAcAd\"*50)\n",
    "txt[:10]"
   ]
  },
  {
   "cell_type": "code",
   "execution_count": 5,
   "id": "69993792-ae5f-43d9-8c72-11742f618016",
   "metadata": {
    "tags": []
   },
   "outputs": [
    {
     "data": {
      "text/html": [
       "<div>\n",
       "<style scoped>\n",
       "    .dataframe tbody tr th:only-of-type {\n",
       "        vertical-align: middle;\n",
       "    }\n",
       "\n",
       "    .dataframe tbody tr th {\n",
       "        vertical-align: top;\n",
       "    }\n",
       "\n",
       "    .dataframe thead th {\n",
       "        text-align: right;\n",
       "    }\n",
       "</style>\n",
       "<table border=\"1\" class=\"dataframe\">\n",
       "  <thead>\n",
       "    <tr style=\"text-align: right;\">\n",
       "      <th></th>\n",
       "      <th>x</th>\n",
       "      <th>y</th>\n",
       "    </tr>\n",
       "  </thead>\n",
       "  <tbody>\n",
       "    <tr>\n",
       "      <th>0</th>\n",
       "      <td>A</td>\n",
       "      <td>b</td>\n",
       "    </tr>\n",
       "    <tr>\n",
       "      <th>1</th>\n",
       "      <td>b</td>\n",
       "      <td>A</td>\n",
       "    </tr>\n",
       "    <tr>\n",
       "      <th>2</th>\n",
       "      <td>A</td>\n",
       "      <td>c</td>\n",
       "    </tr>\n",
       "    <tr>\n",
       "      <th>3</th>\n",
       "      <td>c</td>\n",
       "      <td>A</td>\n",
       "    </tr>\n",
       "    <tr>\n",
       "      <th>4</th>\n",
       "      <td>A</td>\n",
       "      <td>d</td>\n",
       "    </tr>\n",
       "  </tbody>\n",
       "</table>\n",
       "</div>"
      ],
      "text/plain": [
       "   x  y\n",
       "0  A  b\n",
       "1  b  A\n",
       "2  A  c\n",
       "3  c  A\n",
       "4  A  d"
      ]
     },
     "execution_count": 5,
     "metadata": {},
     "output_type": "execute_result"
    }
   ],
   "source": [
    "df_train = pd.DataFrame({'x':txt[:-1], 'y':txt[1:]})\n",
    "df_train[:5]"
   ]
  },
  {
   "cell_type": "code",
   "execution_count": 6,
   "id": "9b1d3fee-bd09-4cbc-8c40-ec26fb0c5da6",
   "metadata": {
    "tags": []
   },
   "outputs": [],
   "source": [
    "x = torch.tensor(df_train.x.map({'A':0,'b':1,'c':2,'d':3}))\n",
    "y = torch.tensor(df_train.y.map({'A':0,'b':1,'c':2,'d':3}))\n",
    "X = torch.nn.functional.one_hot(x).float()\n",
    "y = torch.nn.functional.one_hot(y).float()"
   ]
  },
  {
   "cell_type": "code",
   "execution_count": 7,
   "id": "363909c4-7444-4391-a308-f35aa52ac6a6",
   "metadata": {},
   "outputs": [
    {
     "data": {
      "text/plain": [
       "(torch.Size([299, 4]), torch.Size([299, 4]))"
      ]
     },
     "execution_count": 7,
     "metadata": {},
     "output_type": "execute_result"
    }
   ],
   "source": [
    "X.shape, y.shape"
   ]
  },
  {
   "cell_type": "markdown",
   "id": "e1bfc388-f90f-4c43-a96a-53c8985b1a59",
   "metadata": {},
   "source": [
    "## 4. `rNNCell` - 복습"
   ]
  },
  {
   "cell_type": "markdown",
   "id": "caf8432f-4ca5-442c-abbd-540f52fffeae",
   "metadata": {},
   "source": [
    "* 1 epoch : 데이터를 순차적으로 삽입하며 변환 -> 변환된 데이터로 학습 후 예측\n",
    "\n",
    "> $X_t, h_{t-1}$ `--concat-->` $[X_t, h_{t-1}]$ `--linr-->` $\\text{linr}([X_t, h_{t-1}])$ `--tanh-->` $\\text{tanh}(\\text{linr}([X_t, h_{t-1}])) = h_t$\n",
    ">\n",
    "> $X_t, h_{t-1}$ `--linr-->` $\\text{linr1}(X_t) + \\text{linr2}(h_{t-1})$ `--tanh-->` $\\text{tanh}(\\text{linr1}(X_t) + \\text{linr2}(h_{t-1})) = h_t$\n",
    "\n",
    "> $h_t$ `-->` $a_t == \\text{logits}$ `-->` $\\hat{y_t} == \\text{soft max}(o_t)$"
   ]
  },
  {
   "cell_type": "code",
   "execution_count": 42,
   "id": "15ec4f07-3ae6-436c-8954-116cb69a3306",
   "metadata": {},
   "outputs": [],
   "source": [
    "class rNNCell(torch.nn.Module) :\n",
    "    def __init__(self) :\n",
    "        super().__init__()\n",
    "\n",
    "        self.i2h = torch.nn.Linear(4, 2)\n",
    "        self.h2h = torch.nn.Linear(2, 2)\n",
    "        self.tanh = torch.nn.Tanh()\n",
    "\n",
    "    def forward(self, Xt, ht) :\n",
    "        \"\"\"\n",
    "        ht : t-1번째의 변환된 자료\n",
    "        \"\"\"\n",
    "        ht = self.tanh(self.i2h(Xt) + self.h2h(ht)) ## (n, 2)\n",
    "        \n",
    "        return ht"
   ]
  },
  {
   "cell_type": "code",
   "execution_count": 43,
   "id": "9575fe93-b998-47e3-a35c-c423cc2ee376",
   "metadata": {},
   "outputs": [],
   "source": [
    "torch.manual_seed(43052)\n",
    "rnncell = rNNCell()\n",
    "\n",
    "## 변환된 ht로 로짓을 만들어주는 네트워크\n",
    "cook = torch.nn.Linear(2, 4)\n",
    "loss_fn = torch.nn.CrossEntropyLoss()\n",
    "optimizr = torch.optim.Adam(list(rnncell.parameters()) + list(cook.parameters()), lr = 0.1)\n",
    "\n",
    "#---#\n",
    "L = len(X)\n",
    "for epoc in range(200) :\n",
    "    loss = 0\n",
    "    ht = torch.zeros(2) ## init h0\n",
    "\n",
    "    for t in range(L) :\n",
    "        Xt, yt = X[t], y[t]\n",
    "        ht = rnncell(Xt, ht) ## h_t-1을 넣어서 h_t를 만듦\n",
    "        ot = cook(ht)\n",
    "        loss += loss_fn(ot, yt)\n",
    "\n",
    "    loss = loss/L\n",
    "\n",
    "    loss.backward()\n",
    "    optimizr.step()\n",
    "    optimizr.zero_grad()"
   ]
  },
  {
   "cell_type": "code",
   "execution_count": 49,
   "id": "50f9a0f9-d4d2-4325-b6be-951a93309bf5",
   "metadata": {},
   "outputs": [],
   "source": [
    "h = torch.zeros(L, 2)\n",
    "\n",
    "h0 = torch.zeros(2)\n",
    "h[0] = rnncell(X[0], h0) ## 사실상 h1\n",
    "\n",
    "for t in range(1, L) :\n",
    "    h[t] = rnncell(X[t], h[t-1])"
   ]
  },
  {
   "cell_type": "code",
   "execution_count": 54,
   "id": "f4369e61-dfb0-4b5b-bc75-fb6cc169be90",
   "metadata": {},
   "outputs": [
    {
     "data": {
      "text/plain": [
       "tensor([[4.1978e-03, 9.4555e-01, 1.9557e-06, 5.0253e-02],\n",
       "        [9.9994e-01, 5.5569e-05, 8.4751e-10, 1.3143e-06],\n",
       "        [2.1349e-07, 1.1345e-06, 9.7019e-01, 2.9806e-02],\n",
       "        ...,\n",
       "        [2.1339e-07, 1.1339e-06, 9.7020e-01, 2.9798e-02],\n",
       "        [9.9901e-01, 9.6573e-04, 6.9303e-09, 2.1945e-05],\n",
       "        [7.2919e-04, 2.5484e-02, 3.3011e-02, 9.4078e-01]],\n",
       "       grad_fn=<SoftmaxBackward0>)"
      ]
     },
     "execution_count": 54,
     "metadata": {},
     "output_type": "execute_result"
    }
   ],
   "source": [
    "yhat = torch.nn.functional.softmax(cook(h),dim=1)\n",
    "yhat"
   ]
  },
  {
   "cell_type": "code",
   "execution_count": 55,
   "id": "c034b735-6242-4b8f-998e-0add42328ab7",
   "metadata": {},
   "outputs": [
    {
     "data": {
      "text/plain": [
       "(torch.Size([299, 4]), torch.Size([299, 2]), torch.Size([299, 4]))"
      ]
     },
     "execution_count": 55,
     "metadata": {},
     "output_type": "execute_result"
    }
   ],
   "source": [
    "X.shape, h.shape, yhat.shape"
   ]
  },
  {
   "cell_type": "code",
   "execution_count": 58,
   "id": "40a4840b-950e-477b-893c-74be22410fe5",
   "metadata": {},
   "outputs": [
    {
     "data": {
      "image/png": "[encoded data removed]",
      "text/plain": [
       "<Figure size 400x480 with 2 Axes>"
      ]
     },
     "metadata": {},
     "output_type": "display_data"
    }
   ],
   "source": [
    "mat = torch.concat([X,h,yhat],axis=1).data\n",
    "plt.matshow(mat[:12],cmap=\"bwr\",vmin=-1, vmax=1)\n",
    "plt.colorbar()\n",
    "plt.xticks(\n",
    "    range(10),\n",
    "    [r\"$X_A$\", r\"$X_b$\",r\"$X_c$\",r\"$X_d$\", \n",
    "     r'$h_1$',r'$h_2$',\n",
    "     r'$\\hat{y}_A$',r'$\\hat{y}_b$',r'$\\hat{y}_c$',r'$\\hat{y}_d$']\n",
    ");\n",
    "plt.axvline(x=3.5,color='lime')\n",
    "plt.axvline(x=5.5,color='lime');"
   ]
  },
  {
   "cell_type": "markdown",
   "id": "3b5b1dee-190c-48be-a12c-a3a892c6e5bb",
   "metadata": {},
   "source": [
    "# 5. `torch.nn.RNNCell`\n",
    "\n",
    "ref: <https://pytorch.org/docs/stable/generated/torch.nn.RNNCell.html>\n",
    "\n",
    "`-` `torch.nn.RNNCell`을 이용하여 학습 : 기존 클래스 선언 부분을 대체"
   ]
  },
  {
   "cell_type": "code",
   "execution_count": 62,
   "id": "4cf426fb-4709-49d2-9f2d-3dbac33fb25b",
   "metadata": {},
   "outputs": [],
   "source": [
    "torch.manual_seed(0)\n",
    "\n",
    "## 클래스 선언하는 부분을 대체\n",
    "rnncell = torch.nn.RNNCell(input_size = 4, hidden_size = 2) ## X.shape == (L, 4); h.shape == (L, 2)\n",
    "cook = torch.nn.Linear(2, 4)\n",
    "loss_fn = torch.nn.CrossEntropyLoss()\n",
    "optimizr = torch.optim.Adam(list(rnncell.parameters()) + list(cook.parameters()), lr = 0.1)\n",
    "\n",
    "#---#\n",
    "L = len(X)\n",
    "for epoc in range(200) :\n",
    "    loss = 0\n",
    "    ht = torch.zeros(2) ## init h0\n",
    "\n",
    "    for t in range(L) :\n",
    "        Xt, yt = X[t], y[t]\n",
    "        ht = rnncell(Xt, ht) ## h_t-1을 넣어서 h_t를 만듦\n",
    "        ot = cook(ht)\n",
    "        loss += loss_fn(ot, yt)\n",
    "\n",
    "    loss = loss/L\n",
    "\n",
    "    loss.backward()\n",
    "    optimizr.step()\n",
    "    optimizr.zero_grad()"
   ]
  },
  {
   "cell_type": "code",
   "execution_count": 63,
   "id": "83272f68-ca70-42a6-82e8-63f417a65874",
   "metadata": {},
   "outputs": [],
   "source": [
    "h = torch.zeros(L, 2)\n",
    "\n",
    "h0 = torch.zeros(2)\n",
    "h[0] = rnncell(X[0], h0) ## 사실상 h1\n",
    "\n",
    "for t in range(1, L) :\n",
    "    h[t] = rnncell(X[t], h[t-1])"
   ]
  },
  {
   "cell_type": "code",
   "execution_count": 64,
   "id": "029b091c-dfa6-4869-af5c-57709aae4482",
   "metadata": {},
   "outputs": [
    {
     "data": {
      "text/plain": [
       "tensor([[4.6404e-04, 8.6681e-01, 1.3271e-01, 2.1127e-05],\n",
       "        [9.9893e-01, 7.6733e-07, 4.0587e-04, 6.6831e-04],\n",
       "        [1.8856e-04, 8.8543e-05, 1.9117e-01, 8.0855e-01],\n",
       "        ...,\n",
       "        [1.5757e-03, 3.7491e-02, 9.2757e-01, 3.3366e-02],\n",
       "        [9.9012e-01, 1.0751e-07, 5.2768e-04, 9.3539e-03],\n",
       "        [4.0457e-05, 5.4018e-06, 4.8826e-02, 9.5113e-01]],\n",
       "       grad_fn=<SoftmaxBackward0>)"
      ]
     },
     "execution_count": 64,
     "metadata": {},
     "output_type": "execute_result"
    }
   ],
   "source": [
    "yhat = torch.nn.functional.softmax(cook(h),dim=1)\n",
    "yhat"
   ]
  },
  {
   "cell_type": "code",
   "execution_count": 66,
   "id": "df38a2c4-2c30-4f7d-b55f-fbd35b9e8695",
   "metadata": {},
   "outputs": [
    {
     "data": {
      "image/png": "[encoded data removed]",
      "text/plain": [
       "<Figure size 400x480 with 2 Axes>"
      ]
     },
     "metadata": {},
     "output_type": "display_data"
    }
   ],
   "source": [
    "mat = torch.concat([X,h,yhat],axis=1).data\n",
    "plt.matshow(mat[:12],cmap=\"bwr\",vmin=-1, vmax=1)\n",
    "plt.colorbar()\n",
    "plt.xticks(\n",
    "    range(10),\n",
    "    [r\"$X_A$\", r\"$X_b$\",r\"$X_c$\",r\"$X_d$\", \n",
    "     r'$h_1$',r'$h_2$',\n",
    "     r'$\\hat{y}_A$',r'$\\hat{y}_b$',r'$\\hat{y}_c$',r'$\\hat{y}_d$']\n",
    ");\n",
    "plt.axvline(x=3.5,color='lime')\n",
    "plt.axvline(x=5.5,color='lime');"
   ]
  },
  {
   "cell_type": "markdown",
   "id": "4ce1edf0-a826-4acf-bb93-d037c16393c8",
   "metadata": {},
   "source": [
    "> `t`가 증가할수록 네트워크의 정확도가 더 높아짐"
   ]
  },
  {
   "cell_type": "markdown",
   "id": "116d671b-298e-4a30-9a3e-6277bc78c6b3",
   "metadata": {},
   "source": [
    "`-` `torch.nn.RNNCell`의 가중치를 이전에 직접 설계한 `rNNCell`과 동일하게 설정한 이후 학습"
   ]
  },
  {
   "cell_type": "code",
   "execution_count": 114,
   "id": "13e335e6-1408-43ca-a5f6-01cf19294112",
   "metadata": {},
   "outputs": [],
   "source": [
    "torch.manual_seed(43052)\n",
    "_rnncell = rNNCell()\n",
    "cook = torch.nn.Linear(2, 4)"
   ]
  },
  {
   "cell_type": "code",
   "execution_count": 115,
   "id": "5c7fb333-793b-40fb-b833-5fd08c3fe740",
   "metadata": {},
   "outputs": [],
   "source": [
    "rnncell = torch.nn.RNNCell(4, 2)\n",
    "rnncell.weight_ih.data = _rnncell.i2h.weight.data\n",
    "rnncell.weight_hh.data = _rnncell.h2h.weight.data\n",
    "rnncell.bias_ih.data = _rnncell.i2h.bias.data\n",
    "rnncell.bias_hh.data = _rnncell.h2h.bias.data"
   ]
  },
  {
   "cell_type": "code",
   "execution_count": 116,
   "id": "876248d0-101f-49c1-b3fe-176da2c132a5",
   "metadata": {},
   "outputs": [],
   "source": [
    "loss_fn = torch.nn.CrossEntropyLoss()\n",
    "optimizr = torch.optim.Adam(list(rnncell.parameters()) + list(cook.parameters()), lr = 0.1)\n",
    "\n",
    "#---#\n",
    "L = len(X)\n",
    "for epoc in range(200) :\n",
    "    loss = 0\n",
    "    ht = torch.zeros(2) ## init h0\n",
    "\n",
    "    for t in range(L) :\n",
    "        Xt, yt = X[t], y[t]\n",
    "        ht = rnncell(Xt, ht) ## h_t-1을 넣어서 h_t를 만듦\n",
    "        ot = cook(ht)\n",
    "        loss += loss_fn(ot, yt)\n",
    "\n",
    "    loss = loss/L\n",
    "\n",
    "    loss.backward()\n",
    "    optimizr.step()\n",
    "    optimizr.zero_grad()"
   ]
  },
  {
   "cell_type": "markdown",
   "id": "3745a8c2-05e5-47cb-83ff-b763e60e615c",
   "metadata": {},
   "source": [
    "`-` 위에서 직접 긁어온 값\n",
    "\n",
    "```\n",
    "tensor([[4.1978e-03, 9.4555e-01, 1.9557e-06, 5.0253e-02],\n",
    "        [9.9994e-01, 5.5569e-05, 8.4751e-10, 1.3143e-06],\n",
    "        [2.1349e-07, 1.1345e-06, 9.7019e-01, 2.9806e-02],\n",
    "        ...,\n",
    "        [2.1339e-07, 1.1339e-06, 9.7020e-01, 2.9798e-02],\n",
    "        [9.9901e-01, 9.6573e-04, 6.9303e-09, 2.1945e-05],\n",
    "        [7.2919e-04, 2.5484e-02, 3.3011e-02, 9.4078e-01]],\n",
    "       grad_fn=<SoftmaxBackward0>)\n",
    "```"
   ]
  },
  {
   "cell_type": "code",
   "execution_count": 85,
   "id": "4af129ac-c6d0-47f7-8a9f-b076de2bdb92",
   "metadata": {},
   "outputs": [],
   "source": [
    "h = torch.zeros(L, 2)\n",
    "\n",
    "h0 = torch.zeros(2)\n",
    "h[0] = rnncell(X[0], h0) ## 사실상 h1\n",
    "\n",
    "for t in range(1, L) :\n",
    "    h[t] = rnncell(X[t], h[t-1])"
   ]
  },
  {
   "cell_type": "code",
   "execution_count": 86,
   "id": "f04415c3-76ed-40f7-a127-ac4101a3c411",
   "metadata": {},
   "outputs": [
    {
     "data": {
      "text/plain": [
       "tensor([[4.1978e-03, 9.4555e-01, 1.9557e-06, 5.0253e-02],\n",
       "        [9.9994e-01, 5.5569e-05, 8.4751e-10, 1.3143e-06],\n",
       "        [2.1349e-07, 1.1345e-06, 9.7019e-01, 2.9806e-02],\n",
       "        ...,\n",
       "        [2.1339e-07, 1.1339e-06, 9.7020e-01, 2.9798e-02],\n",
       "        [9.9901e-01, 9.6573e-04, 6.9303e-09, 2.1945e-05],\n",
       "        [7.2919e-04, 2.5484e-02, 3.3011e-02, 9.4078e-01]],\n",
       "       grad_fn=<SoftmaxBackward0>)"
      ]
     },
     "execution_count": 86,
     "metadata": {},
     "output_type": "execute_result"
    }
   ],
   "source": [
    "yhat = torch.nn.functional.softmax(cook(h),dim=1)\n",
    "yhat"
   ]
  },
  {
   "cell_type": "markdown",
   "id": "4996d4eb-c572-409b-86a5-5174c919fdd8",
   "metadata": {},
   "source": [
    "> 둘은 완전히 똑같은 네트워크임"
   ]
  },
  {
   "cell_type": "markdown",
   "id": "c755ff92-17cc-4b52-94da-723bde41647c",
   "metadata": {},
   "source": [
    "## 6. `torch.nn.RNN`"
   ]
  },
  {
   "cell_type": "markdown",
   "id": "83add2cb-29e7-41b0-a1a9-132190d789c7",
   "metadata": {},
   "source": [
    "`-` $a_n = 2*n - 1$\n",
    "\n",
    "```Python\n",
    "n = 1\n",
    "a1 = 2*1 - 1\n",
    "a2 = 2*2 - 1\n",
    "...\n",
    "\n",
    "n = [1, 2, ..., 100]\n",
    "an = n*2 - 1 ## 시퀸스가 있음에도 한번에 선언할 수 있음\n",
    "```\n",
    "\n",
    "`-` $a_n = a_{n-1} + a_{n-2}, ~ a_1 = a_2 = 1$ -> DP?\n",
    "\n",
    "```Python\n",
    "a3 = a2 + a1 == 2\n",
    "a4 = a3 + a2 == 2 + 1 == 3\n",
    "n = [1, 2, ..., 100]\n",
    "a_100 = a99 + a98 ## 시퀸스를 전부 먹여야 함. 연산 유닛을 병렬로 활용할 수 없음\n",
    "```"
   ]
  },
  {
   "cell_type": "markdown",
   "id": "2bfb6d39-9f4d-46bc-9939-200015ffe398",
   "metadata": {},
   "source": [
    "> `RNN`은 GPU빨을 못받아서 느릴 수밖에 없음... -> 어케함?\n",
    ">\n",
    "> 시계열을 여러 배치로 나눠서 학습하면 됨... 되긴 함... 이러한 개념만 있다 정도...\n",
    ">\n",
    "> 배치를 쪼갤수록 성능이 떨어짐... 속도는 빨라짐..."
   ]
  },
  {
   "cell_type": "markdown",
   "id": "f8337034-777b-4c20-b006-79bdce4483e1",
   "metadata": {},
   "source": [
    "ref: <https://docs.pytorch.org/docs/stable/generated/torch.nn.RNN.html>\n",
    "\n",
    "|     | `RNNCell`, 배치사용 X | `RNNCell`, 배치사용 O |\n",
    "|:---:|:---------------------:|:---------------------:|\n",
    "|  X  |     $(L,H_{in})$      |   $(L, N, H_{in})$    |\n",
    "|  h  |     $(L,H_{out})$     |   $(L, N, H_{out})$   |\n",
    "|  y  |        $(L,Q)$        |      $(L, N, Q)$      |\n",
    "| Xt  |      $(H_{in},)$      |     $(N, H_{in})$     |\n",
    "| ht  |     $(H_{out},)$      |    $(N, H_{out})$     |\n",
    "| yt  |        $(Q,)$         |        $(N,Q)$        |\n",
    "\n",
    "|     |           `RNN`, 배치사용 X           |            `RNN`, 배치사용 O            |\n",
    "|:----------------------:|:----------------------:|:----------------------:|\n",
    "|  X  |             $(L,H_{in})$              |            $(L, N, H_{in})$             |\n",
    "|  h  |             $(L,H_{out})$             |            $(L, N, H_{out})$            |\n",
    "|  y  |                $(L,Q)$                |               $(L, N, Q)$               |\n",
    "| hx  | $(D\\times {\\tt num\\_layers},H_{out})$ | $(D\\times {\\tt num\\_layers},N,H_{out})$ |"
   ]
  },
  {
   "cell_type": "markdown",
   "id": "3ebf311d-ba9a-41fb-a81e-c81d5e173687",
   "metadata": {},
   "source": [
    "* 개념상으로는 `ht`가 여러 개 쌓여있음 -> `hx`\n",
    "> 만약 양방향이면 `D == 2` -> `ht`가 2개 존재\n",
    ">\n",
    "> 양방향이고 레이어 수가 3이면 -> `ht`가 6개 존재"
   ]
  },
  {
   "cell_type": "markdown",
   "id": "cbce6993-7711-401d-91c3-d8f15da4dbbb",
   "metadata": {},
   "source": [
    "`-` `torch.nn.RNN`을 활용한 학습"
   ]
  },
  {
   "cell_type": "code",
   "execution_count": 95,
   "id": "9c1b93e7-e77a-46dc-8b3a-6fa16bd35ba0",
   "metadata": {},
   "outputs": [],
   "source": [
    "torch.manual_seed(0)\n",
    "rnn = torch.nn.RNN(\n",
    "    input_size= 4, # X.shape=(L,H_in)\n",
    "    hidden_size = 2, # h.shape=(L,H_out)\n",
    "    num_layers = 1, # 어느 방향에서 레이어가 들어오는지의 차원. 피쳐가 몇개인지 느낌?\n",
    "    bidirectional = False # bi-directional : True이면 뒤에서부터도 읽을 수 있는 양방향 네트워크\n",
    ")\n",
    "cook = torch.nn.Linear(2,4)\n",
    "loss_fn = torch.nn.CrossEntropyLoss() \n",
    "optimizr = torch.optim.Adam(list(rnn.parameters())+list(cook.parameters()),lr=0.1)\n",
    "\n",
    "#---#\n",
    "for epoc in range(200) :\n",
    "    h0 = torch.zeros(1, 2) ## D*num_layers == 1*1\n",
    "    h, hL = rnn(X, h0) ## (h, h[L])\n",
    "    netout = cook(h)\n",
    "    \n",
    "    loss = loss_fn(netout, y)\n",
    "    loss.backward()\n",
    "    optimizr.step()\n",
    "    optimizr.zero_grad()"
   ]
  },
  {
   "cell_type": "code",
   "execution_count": 101,
   "id": "e82ae430-a74c-486c-8dab-1ca4f5f6adfd",
   "metadata": {},
   "outputs": [
    {
     "data": {
      "text/plain": [
       "tensor([[4.9142e-04, 8.5773e-01, 1.4176e-01, 2.4480e-05],\n",
       "        [9.9885e-01, 7.0988e-07, 4.0814e-04, 7.4073e-04],\n",
       "        [1.7200e-04, 7.4738e-05, 1.7524e-01, 8.2451e-01],\n",
       "        ...,\n",
       "        [1.5699e-03, 3.5576e-02, 9.2725e-01, 3.5606e-02],\n",
       "        [9.8985e-01, 1.0519e-07, 5.2584e-04, 9.6268e-03],\n",
       "        [3.9891e-05, 5.2971e-06, 4.7864e-02, 9.5209e-01]],\n",
       "       grad_fn=<SoftmaxBackward0>)"
      ]
     },
     "execution_count": 101,
     "metadata": {},
     "output_type": "execute_result"
    }
   ],
   "source": [
    "yhat = torch.nn.functional.softmax(netout,dim=1)\n",
    "yhat"
   ]
  },
  {
   "cell_type": "code",
   "execution_count": 102,
   "id": "4eed005c-0b49-4fd2-b2c7-d7e4aa09e58d",
   "metadata": {},
   "outputs": [
    {
     "data": {
      "image/png": "[encoded data removed]",
      "text/plain": [
       "<Figure size 400x480 with 2 Axes>"
      ]
     },
     "metadata": {},
     "output_type": "display_data"
    }
   ],
   "source": [
    "mat = torch.concat([X,h,yhat],axis=1).data\n",
    "plt.matshow(mat[:12],cmap=\"bwr\",vmin=-1, vmax=1)\n",
    "plt.colorbar()\n",
    "plt.xticks(\n",
    "    range(10),\n",
    "    [r\"$X_A$\", r\"$X_b$\",r\"$X_c$\",r\"$X_d$\", \n",
    "     r'$h_1$',r'$h_2$',\n",
    "     r'$\\hat{y}_A$',r'$\\hat{y}_b$',r'$\\hat{y}_c$',r'$\\hat{y}_d$']\n",
    ");\n",
    "plt.axvline(x=3.5,color='lime')\n",
    "plt.axvline(x=5.5,color='lime');"
   ]
  },
  {
   "cell_type": "markdown",
   "id": "c0f4977a-126c-4986-9ce2-fc18ab9b3ec1",
   "metadata": {},
   "source": [
    "`-` `torch.nn.RNN`의 가중치를 이전에 직접 설계한 `rNNCell`과 동일하게 설정한 이후 학습"
   ]
  },
  {
   "cell_type": "code",
   "execution_count": 108,
   "id": "4bdd5259-d76e-4b3f-b9aa-bd5aff11ca2f",
   "metadata": {},
   "outputs": [],
   "source": [
    "torch.manual_seed(43052)\n",
    "_rnncell = rNNCell()\n",
    "rnn = torch.nn.RNN(\n",
    "    input_size= 4, # X.shape=(L,H_in)\n",
    "    hidden_size = 2, # h.shape=(L,H_out)\n",
    "    num_layers = 1, # 어느 방향에서 레이어가 들어오는지의 차원. 피쳐가 몇개인지 느낌?\n",
    "    bidirectional = False # bi-directional : True이면 뒤에서부터도 읽을 수 있는 양방향 네트워크\n",
    ")\n",
    "\n",
    "rnn.weight_hh_l0.data = _rnncell.h2h.weight.data\n",
    "rnn.weight_ih_l0.data = _rnncell.i2h.weight.data\n",
    "rnn.bias_hh_l0.data = _rnncell.h2h.bias.data\n",
    "rnn.bias_ih_l0.data = _rnncell.i2h.bias.data"
   ]
  },
  {
   "cell_type": "code",
   "execution_count": 109,
   "id": "302ed352-bf29-40d2-b122-3c06a494457f",
   "metadata": {},
   "outputs": [],
   "source": [
    "cook = torch.nn.Linear(2,4)\n",
    "loss_fn = torch.nn.CrossEntropyLoss() \n",
    "optimizr = torch.optim.Adam(list(rnn.parameters())+list(cook.parameters()),lr=0.1)\n",
    "\n",
    "#---#\n",
    "for epoc in range(200) :\n",
    "    h0 = torch.zeros(1, 2) ## D*num_layers == 1*1\n",
    "    h, hL = rnn(X, h0) ## (h, h[L])\n",
    "    netout = cook(h)\n",
    "    \n",
    "    loss = loss_fn(netout, y)\n",
    "    loss.backward()\n",
    "    optimizr.step()\n",
    "    optimizr.zero_grad()"
   ]
  },
  {
   "cell_type": "code",
   "execution_count": 112,
   "id": "93d7fcfd-eceb-4c68-87cb-24bcaa6ba1c7",
   "metadata": {},
   "outputs": [
    {
     "data": {
      "text/plain": [
       "tensor([[3.7089e-02, 8.3045e-01, 5.5423e-02, 7.7035e-02],\n",
       "        [9.9934e-01, 5.5787e-04, 2.7309e-05, 7.3314e-05],\n",
       "        [2.2668e-04, 3.2925e-01, 3.3538e-01, 3.3515e-01],\n",
       "        ...,\n",
       "        [2.2668e-04, 3.2924e-01, 3.3538e-01, 3.3515e-01],\n",
       "        [9.9934e-01, 5.5671e-04, 2.7207e-05, 7.3052e-05],\n",
       "        [2.2668e-04, 3.2924e-01, 3.3538e-01, 3.3515e-01]],\n",
       "       grad_fn=<SoftmaxBackward0>)"
      ]
     },
     "execution_count": 112,
     "metadata": {},
     "output_type": "execute_result"
    }
   ],
   "source": [
    "h_ = rnn(X, h0) ## 그냥 h부터가 다른데? 뭔가 잘못된듯\n",
    "yhat = torch.nn.functional.softmax(cook(h), dim = 1)\n",
    "yhat"
   ]
  },
  {
   "cell_type": "markdown",
   "id": "97f70d5f-1fbc-4675-b2cb-7477906bebfc",
   "metadata": {},
   "source": [
    "* 값이 다름...\n",
    "\n",
    "```\n",
    "tensor([[4.1978e-03, 9.4555e-01, 1.9557e-06, 5.0253e-02],\n",
    "        [9.9994e-01, 5.5569e-05, 8.4751e-10, 1.3143e-06],\n",
    "        [2.1349e-07, 1.1345e-06, 9.7019e-01, 2.9806e-02],\n",
    "        ...,\n",
    "        [2.1339e-07, 1.1339e-06, 9.7020e-01, 2.9798e-02],\n",
    "        [9.9901e-01, 9.6573e-04, 6.9303e-09, 2.1945e-05],\n",
    "        [7.2919e-04, 2.5484e-02, 3.3011e-02, 9.4078e-01]],\n",
    "       grad_fn=<SoftmaxBackward0>)\n",
    "```"
   ]
  },
  {
   "cell_type": "markdown",
   "id": "c05967eb-724d-4683-bacc-7b744c3ff69c",
   "metadata": {},
   "source": [
    "`-` 초기화 안하기"
   ]
  },
  {
   "cell_type": "code",
   "execution_count": 155,
   "id": "cf2edc56-97d8-4603-8807-dd3ba570a3eb",
   "metadata": {},
   "outputs": [],
   "source": [
    "torch.manual_seed(43052)\n",
    "rnn = torch.nn.RNN(\n",
    "    input_size= 4, # X.shape=(L,H_in)\n",
    "    hidden_size = 2, # h.shape=(L,H_out)\n",
    "    num_layers = 1, # 어느 방향에서 레이어가 들어오는지의 차원. 피쳐가 몇개인지 느낌?\n",
    "    bidirectional = False # bi-directional : True이면 뒤에서부터도 읽을 수 있는 양방향 네트워크\n",
    ")\n",
    "cook = torch.nn.Linear(2,4)\n",
    "loss_fn = torch.nn.CrossEntropyLoss() \n",
    "optimizr = torch.optim.Adam(list(rnn.parameters())+list(cook.parameters()),lr=0.1)\n",
    "\n",
    "#---#\n",
    "for epoc in range(200) :\n",
    "    h, hL = rnn(X) ## 그냥 해도 돌아감\n",
    "    netout = cook(h)\n",
    "    \n",
    "    loss = loss_fn(netout, y)\n",
    "    loss.backward()\n",
    "    optimizr.step()\n",
    "    optimizr.zero_grad()"
   ]
  },
  {
   "cell_type": "code",
   "execution_count": 156,
   "id": "8254b7bc-574b-4b7a-b037-c46e89d4ca4a",
   "metadata": {},
   "outputs": [
    {
     "data": {
      "text/plain": [
       "tensor([[4.5740e-02, 8.6528e-01, 4.9998e-02, 3.8983e-02],\n",
       "        [9.9940e-01, 5.5193e-04, 3.2524e-05, 1.9504e-05],\n",
       "        [2.1064e-04, 3.3230e-01, 3.3389e-01, 3.3360e-01],\n",
       "        ...,\n",
       "        [2.0437e-04, 3.2913e-01, 3.3528e-01, 3.3539e-01],\n",
       "        [9.9962e-01, 3.4474e-04, 2.1431e-05, 1.2733e-05],\n",
       "        [2.0461e-04, 3.2925e-01, 3.3523e-01, 3.3532e-01]],\n",
       "       grad_fn=<SoftmaxBackward0>)"
      ]
     },
     "execution_count": 156,
     "metadata": {},
     "output_type": "execute_result"
    }
   ],
   "source": [
    "h_ = rnn(X, h0) ## 그냥 h부터가 다른데? 뭔가 잘못된듯\n",
    "yhat = torch.nn.functional.softmax(cook(h), dim = 1)\n",
    "yhat"
   ]
  },
  {
   "cell_type": "code",
   "execution_count": 157,
   "id": "0d4444a0-030e-4bc1-b94c-ed79c3d5c841",
   "metadata": {},
   "outputs": [
    {
     "data": {
      "text/plain": [
       "<matplotlib.lines.Line2D at 0x7fbc922d6790>"
      ]
     },
     "execution_count": 157,
     "metadata": {},
     "output_type": "execute_result"
    },
    {
     "data": {
      "image/png": "[encoded data removed]",
      "text/plain": [
       "<Figure size 400x480 with 2 Axes>"
      ]
     },
     "metadata": {},
     "output_type": "display_data"
    }
   ],
   "source": [
    "mat = torch.concat([X,h,yhat],axis=1).data\n",
    "plt.matshow(mat[:12],cmap=\"bwr\",vmin=-1, vmax=1)\n",
    "plt.colorbar()\n",
    "plt.xticks(\n",
    "    range(10),\n",
    "    [r\"$X_A$\", r\"$X_b$\",r\"$X_c$\",r\"$X_d$\", \n",
    "     r'$h_1$',r'$h_2$',\n",
    "     r'$\\hat{y}_A$',r'$\\hat{y}_b$',r'$\\hat{y}_c$',r'$\\hat{y}_d$']\n",
    ");\n",
    "plt.axvline(x=3.5,color='lime')\n",
    "plt.axvline(x=5.5,color='lime')"
   ]
  },
  {
   "cell_type": "markdown",
   "id": "1fcf07e5-22c8-4540-a681-a1911c220358",
   "metadata": {},
   "source": [
    "> 잘 안됐음... 시드에 따라 다름..."
   ]
  },
  {
   "cell_type": "markdown",
   "id": "d2acd602-f02a-4a68-9ce6-82acd6267c7e",
   "metadata": {},
   "source": [
    "## 7. `torch.nn.LSTM`"
   ]
  },
  {
   "cell_type": "markdown",
   "id": "6fa49d81-fad3-4c6a-b967-b99d17ac810d",
   "metadata": {},
   "source": [
    "`-` `torch.nn.LSTM`을 이용하여 학습"
   ]
  },
  {
   "cell_type": "code",
   "execution_count": 151,
   "id": "b21b0521-daac-405d-961e-f90a3defd7f3",
   "metadata": {},
   "outputs": [],
   "source": [
    "torch.manual_seed(2)\n",
    "lstm = torch.nn.LSTM(\n",
    "    input_size = 4,\n",
    "    hidden_size = 2,\n",
    "    num_layers = 1,\n",
    "    bidirectional = False\n",
    ")\n",
    "\n",
    "cook = torch.nn.Linear(2,4)\n",
    "loss_fn = torch.nn.CrossEntropyLoss() \n",
    "optimizr = torch.optim.Adam(list(lstm.parameters())+list(cook.parameters()),lr=0.1)"
   ]
  },
  {
   "cell_type": "code",
   "execution_count": 152,
   "id": "11dd3ff9-2122-43d6-9409-4a7e82dbddaa",
   "metadata": {},
   "outputs": [],
   "source": [
    "#---#\n",
    "for epoc in range(200) :\n",
    "    h, _ = lstm(X)\n",
    "    netout = cook(h)\n",
    "    \n",
    "    loss = loss_fn(netout, y)\n",
    "    loss.backward()\n",
    "    optimizr.step()\n",
    "    optimizr.zero_grad()"
   ]
  },
  {
   "cell_type": "code",
   "execution_count": 153,
   "id": "dfacee0f-67dc-4ada-aae7-77762d937cd8",
   "metadata": {},
   "outputs": [],
   "source": [
    "yhat = torch.nn.functional.softmax(netout,dim=1)"
   ]
  },
  {
   "cell_type": "code",
   "execution_count": 154,
   "id": "68a3aa3e-6fb0-4e4d-8669-4342bafa4ce4",
   "metadata": {},
   "outputs": [
    {
     "data": {
      "text/plain": [
       "<matplotlib.lines.Line2D at 0x7fbc963a4670>"
      ]
     },
     "execution_count": 154,
     "metadata": {},
     "output_type": "execute_result"
    },
    {
     "data": {
      "image/png": "[encoded data removed]",
      "text/plain": [
       "<Figure size 400x480 with 2 Axes>"
      ]
     },
     "metadata": {},
     "output_type": "display_data"
    }
   ],
   "source": [
    "mat = torch.concat([X,h,yhat],axis=1).data\n",
    "plt.matshow(mat[:12],cmap=\"bwr\",vmin=-1, vmax=1)\n",
    "plt.colorbar()\n",
    "plt.xticks(\n",
    "    range(10),\n",
    "    [r\"$X_A$\", r\"$X_b$\",r\"$X_c$\",r\"$X_d$\", \n",
    "     r'$h_1$',r'$h_2$',\n",
    "     r'$\\hat{y}_A$',r'$\\hat{y}_b$',r'$\\hat{y}_c$',r'$\\hat{y}_d$']\n",
    ");\n",
    "plt.axvline(x=3.5,color='lime')\n",
    "plt.axvline(x=5.5,color='lime')"
   ]
  },
  {
   "cell_type": "markdown",
   "id": "35c4eda4-f8e6-409d-9ec2-591e1d1c7dfd",
   "metadata": {},
   "source": [
    "# A1. 자잘한 용어 정리 ($\\star$)"
   ]
  },
  {
   "cell_type": "markdown",
   "id": "d7263cd2-867e-43a9-87a7-d7fc89749c60",
   "metadata": {},
   "source": [
    "## A. ${\\bf X}$, ${\\bf y}$\n",
    "\n",
    "`-` X, y를 지칭하는 이름\n",
    "\n",
    "| 구분 | 용어                            | 설명                                                                                               |\n",
    "|----------|-----------------------------------------------------|----------|\n",
    "| X    | 설명변수                        | 종속변수(반응변수)를 설명하거나 예측하는 데 사용되는 변수로, 전통 통계 및 머신러닝에서의 입력 역할 |\n",
    "|      | 독립변수 (Independent Variable) | 전통적인 통계학 및 회귀 분석 문맥에서 사용됨                                                       |\n",
    "|      | 입력변수 (Input Variable)       | 머신러닝 모델에서 입력 데이터로 사용되며, 특히 신경망 구조 등에서 많이 쓰임                        |\n",
    "|      | 특징 / 특성 (Feature)           | 머신러닝, 데이터마이닝, 딥러닝 등에서 데이터를 구성하는 속성 또는 설명 변수로 사용됨               |\n",
    "|      | 예측 변수 (Predictor)           | 예측 모델 설계 시 독립변수를 지칭하는 용어로, 모델링/통계 분석 문맥에서 흔히 사용됨                |\n",
    "|      | 공변량 (Covariate)              | 실험 디자인, 특히 임상연구나 사회과학 연구에서 제어 변수로 사용됨                                  |\n",
    "| y    | 반응변수                        | 독립변수의 영향을 받는 결과 변수로, 모델링이나 인과 추론에서 핵심적인 대상                         |\n",
    "|      | 종속변수 (Dependent Variable)   | 전통 통계학과 회귀분석에서 사용되며, 독립변수의 영향을 받는 변수로 정의됨                          |\n",
    "|      | 출력변수 (Output Variable)      | 머신러닝 및 딥러닝에서 모델의 예측 결과로 출력되는 값으로 사용됨                                   |\n",
    "|      | 타겟 / 정답 (Target / Label)    | 지도학습에서 모델이 학습해야 하는 실제 정답값을 의미하며, 분류/회귀 문제에 공통적으로 사용됨       |\n",
    "\n",
    "`-` 더 다양함: <https://ko.wikipedia.org/wiki/독립변수와_종속변수>"
   ]
  },
  {
   "cell_type": "markdown",
   "id": "e3451920-074c-4d35-84e9-e8f4afdbec47",
   "metadata": {},
   "source": [
    "## B. 지도학습\n",
    "\n",
    "`-` 우리가 수업에서 다루는 데이터는 주로 아래와 같은 느낌이다.\n",
    "\n",
    "1.  데이터는 $(X,y)$의 형태로 정리되어 있다.\n",
    "\n",
    "2.  $y$는 우리가 관심이 있는 변수이다. 즉 우리는 $y$를 적절하게 추정하는\n",
    "    것에 관심이 있다.\n",
    "\n",
    "3.  $X$는 $y$를 추정하기 위해 필요한 정보이다.\n",
    "\n",
    "|           $X$           |           $y$            |        비고        |      순서      |               예시               |\n",
    "|:------------:|:--------------:|:----------:|:----------:|:------------------:|\n",
    "|       기온(온도)        | 아이스 아메리카노 판매량 |        회귀        |    상관없음    | 날씨가 판매량에 미치는 영향 분석 |\n",
    "|          스펙           |        합격 여부         |      로지스틱      |    상관없음    |     입사 지원자의 합격 예측      |\n",
    "|         이미지          |         카테고리         | 합성곱신경망 (CNN) |    상관없음    |      개/고양이 이미지 구분       |\n",
    "|    유저, 아이템 정보    |           평점           |     추천시스템     |    상관없음    |        넷플릭스 영화 추천        |\n",
    "| 처음 $m$개의 단어(문장) |  이후 1개의 단어(문장)   |  순환신경망 (RNN)  | 순서 상관 있음 |   챗봇, 문장 생성, 언어 모델링   |\n",
    "| 처음 $m$개의 단어(문장) |         카테고리         |  순환신경망 (RNN)  | 순서 상관 있음 |        영화리뷰 감정 분류        |\n",
    "\n",
    "`-` 이러한 문제상황, 즉 $(X,y)$가 주어졌을때 $X \\to y$를 추정하는 문제를\n",
    "supervised learning 이라한다."
   ]
  },
  {
   "cell_type": "markdown",
   "id": "965353bd-0dc3-4a1e-b73c-d81a56de10fa",
   "metadata": {},
   "source": [
    "## C. 모델이란?\n",
    "\n",
    "`-` 통계학에서 모델은 y와 x의 관계를 의미하며 오차항의 설계를 포함하는\n",
    "개념이다. 이는 통계학이 “데이터 = 정보 + 오차”의 관점을 유지하기\n",
    "때문이다. 따라서 통계학에서 모델링이란\n",
    "\n",
    "$$y_i = net(x_i) + \\epsilon_i$$\n",
    "\n",
    "에서 (1) 적절한 함수 $net$를 선택하는 일 (2) 적절한 오차항 $\\epsilon_i$\n",
    "을 설계하는일 모두를 포함한다.\n",
    "\n",
    "`-` 딥러닝 혹은 머신러닝에서 모델은 단순히\n",
    "\n",
    "$$y_i \\approx net(x_i)$$\n",
    "\n",
    "를 의미하는 경우가 많다. 즉 “model=net”라고 생각해도 무방하다. 이 경우\n",
    "“모델링”이란 단순히 적절한 $net$을 설계하는 것만을 의미할 경우가 많다.\n",
    "\n",
    "`-` 그래서 생긴일\n",
    "\n",
    "-   통계학교재 특징: 분류문제와 회귀문제를 엄밀하게 구분하지 않는다.\n",
    "    사실 오차항만 다를뿐이지 크게보면 같은 회귀모형이라는 관점이다.\n",
    "    그래서 일반화선형모형(GLM)이라는 용어를 쓴다.\n",
    "-   머신러닝/딥러닝교재 특징: 회귀문제와 분류문제를 구분해서 설명한다.\n",
    "    (표도 만듦) 이는 오차항에 대한 기술을 모호하게 하여 생기는 현상이다."
   ]
  },
  {
   "cell_type": "markdown",
   "id": "c2d2b8b1-1494-4508-adad-bf10eb47c7f1",
   "metadata": {},
   "source": [
    "## D. 학습이란?\n",
    "\n",
    "`-` 학습이란 주어진 자료 $(X,y)$를 잘 분석하여 $X$에서 $y$로 가는 어떠한\n",
    "“규칙” 혹은 “원리”를 찾는 것이다.\n",
    "\n",
    "-   학습이란 주어진 자료 $(X,y)$를 잘 분석하여 $X$에서 $y$로 가는 어떠한\n",
    "    “맵핑”을 찾는 것이다.\n",
    "-   학습이란 주어진 자료 $(X,y)$를 잘 분석하여 $X$에서 $y$로 가는 어떠한\n",
    "    “함수”을 찾는 것이다. 즉 $y\\approx f(X)$가 되도록 만드는 $f$를 잘\n",
    "    찾는 것이다. (이 경우 “함수를 추정한다”라고 표현)\n",
    "-   학습이란 주어진 자료 $(X,y)$를 잘 분석하여 $X$에서 $y$로 가는 어떠한\n",
    "    “모델” 혹은 “모형”을 찾는 것이다. 즉 $y\\approx model(X)$가 되도록\n",
    "    만드는 $model$을 잘 찾는 것이다. (이 경우 “모형을 학습시킨다”라고\n",
    "    표현)\n",
    "-   **학습이란 주어진 자료 $(X,y)$를 잘 분석하여 $X$에서 $y$로 가는\n",
    "    어떠한 “네트워크”을 찾는 것이다. 즉 $y\\approx net(X)$가 되도록\n",
    "    만드는 $net$을 잘 찾는 것이다. (이 경우 “네트워크를 학습시킨다”라고\n",
    "    표현)**\n",
    "\n",
    "`-` prediction이란 학습과정에서 찾은 “규칙” 혹은 “원리”를 $X$에 적용하여\n",
    "$\\hat{y}$을 구하는 과정이다. 학습과정에서 찾은 규칙 혹은 원리는\n",
    "$f$,$model$,$net$ 으로 생각가능한데 이에 따르면 아래가 성립한다.\n",
    "\n",
    "-   $\\hat{y} = f(X)$\n",
    "-   $\\hat{y} = model(X)$\n",
    "-   $\\hat{y} = net(X)$"
   ]
  },
  {
   "cell_type": "markdown",
   "id": "3eab0f59-92ca-4c37-ab7b-49a930b36a39",
   "metadata": {},
   "source": [
    "## E. $\\hat{y}$를 부르는 다양한 이름\n",
    "\n",
    "`-` $\\hat{y}$는 $X$가 주어진 자료에 있는 값인지 아니면 새로운 값 인지에\n",
    "따라 지칭하는 이름이 미묘하게 다르다.\n",
    "\n",
    "1.  $X \\in data$: $\\hat{y}=net(X)$ 는 predicted value, fitted value 라고\n",
    "    부른다.\n",
    "\n",
    "2.  $X \\notin data$: $\\hat{y}=net(X)$ 는 predicted value, predicted\n",
    "    value with new data 라고 부른다."
   ]
  },
  {
   "cell_type": "markdown",
   "id": "ba395b79-6771-4434-af90-da8f2e02882a",
   "metadata": {},
   "source": [
    "## F. 다양한 코드들\n",
    "\n",
    "`-` 파이썬 코드..\n",
    "\n",
    "``` python\n",
    "#Python\n",
    "predictor.fit(X,y) # autogluon 에서 \"학습\"을 의미하는 과정\n",
    "model.fit(X,y) # sklearn 에서 \"학습\"을 의미하는 과정\n",
    "trainer.train() # huggingface 에서 \"학습\"을 의미하는 과정\n",
    "trainer.predict(dataset) # huggingface 에서 \"예측\"을 의미하는 과정\n",
    "model.fit(x, y, batch_size=32, epochs=10) # keras에서 \"학습\"을 의미하는 과정\n",
    "model.predict(test_img) # keras에서 \"예측\"을 의미하는 과정 \n",
    "```\n",
    "\n",
    "`-` R 코드..\n",
    "\n",
    "``` r\n",
    "# R\n",
    "ols <- lm(y~x) # 선형회귀분석에서 학습을 의미하는 함수\n",
    "ols$fitted.values # 선형회귀분석에서 yhat을 출력 \n",
    "predict(ols, newdata=test) # 선형회귀분석에서 test에 대한 예측값을 출력하는 함수\n",
    "ols$coef # 선형회귀분석에서 weight를 확인하는 방법\n",
    "```"
   ]
  }
 ],
 "metadata": {
  "kernelspec": {
   "display_name": "Python 3 (ipykernel)",
   "language": "python",
   "name": "python3"
  },
  "language_info": {
   "codemirror_mode": {
    "name": "ipython",
    "version": 3
   },
   "file_extension": ".py",
   "mimetype": "text/x-python",
   "name": "python",
   "nbconvert_exporter": "python",
   "pygments_lexer": "ipython3",
   "version": "3.9.18"
  }
 },
 "nbformat": 4,
 "nbformat_minor": 5
}
