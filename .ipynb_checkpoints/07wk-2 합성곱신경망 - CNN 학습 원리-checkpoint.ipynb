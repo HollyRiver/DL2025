{
 "cells": [
  {
   "cell_type": "markdown",
   "id": "9bac18bf",
   "metadata": {},
   "source": [
    "# 07wk-2: (합성곱신경망) – CNN 핵심레이어, CNN의 학습원리, FashionMNIST"
   ]
  },
  {
   "cell_type": "markdown",
   "id": "2a20c324",
   "metadata": {},
   "source": [
    "## 1. Imports"
   ]
  },
  {
   "cell_type": "code",
   "execution_count": 1,
   "id": "6caaef90",
   "metadata": {},
   "outputs": [],
   "source": [
    "import torch\n",
    "import matplotlib.pyplot as plt\n",
    "import torchvision"
   ]
  },
  {
   "cell_type": "code",
   "execution_count": 2,
   "id": "611fd427-c549-468d-838c-8329d96a9f9e",
   "metadata": {},
   "outputs": [],
   "source": [
    "plt.rcParams['figure.figsize'] = (4.5, 3.0)"
   ]
  },
  {
   "cell_type": "markdown",
   "id": "d77e86b8",
   "metadata": {},
   "source": [
    "## 2. 주요 코드 등"
   ]
  },
  {
   "cell_type": "code",
   "execution_count": 1,
   "id": "fdb5e72e-1f10-4566-964c-ab152d9b5b41",
   "metadata": {},
   "outputs": [],
   "source": [
    "import torch"
   ]
  },
  {
   "cell_type": "markdown",
   "id": "8cd201b8-55e3-4814-9bd5-9deff2210012",
   "metadata": {},
   "source": [
    "* 편의기능\n",
    "\n",
    "```Python\n",
    "torch.einsum('nchw->ncwh', tnsr.clone()) ## 이미지 형식 텐서 변환\n",
    "tnsr.squeeze() ## 값이 하나인 차원 삭제\n",
    "torch.nn.functional.one_hot(y).float() ## 원-핫 인코딩\n",
    "```"
   ]
  },
  {
   "cell_type": "markdown",
   "id": "1d5a3151-483c-42b6-8dae-5dde537f60ee",
   "metadata": {},
   "source": [
    "* 엣지 판별 컨볼루션 매트릭스"
   ]
  },
  {
   "cell_type": "markdown",
   "id": "9dd1da28-913c-4de6-bc6a-f37384c1eb88",
   "metadata": {},
   "source": [
    "```Python\n",
    "v_conv.weight.data = torch.tensor([\n",
    "    [0, 0, 0, 0],\n",
    "    [0, 1,-1, 0],\n",
    "    [0, 1,-1, 0],\n",
    "    [0, 0, 0, 0]\n",
    "]).float().reshape(1, 1, 4, 4)\n",
    "\n",
    "h_conv.weight.data = torch.tensor([\n",
    "    [0, 0, 0, 0],\n",
    "    [0, 1, 1, 0],\n",
    "    [0,-1,-1, 0],\n",
    "    [0, 0, 0, 0]\n",
    "]).float().reshape(1, 1, 4, 4)\n",
    "```"
   ]
  },
  {
   "cell_type": "markdown",
   "id": "3ee80552-e9c8-44f2-8406-3e2d5c9befb9",
   "metadata": {},
   "source": [
    "```Python\n",
    "net = torch.nn.Sequential(\n",
    "    torch.nn.Conv2d(?, 64, 5, 1, bias = True),\n",
    "    torch.nn.ReLU(),\n",
    "    torch.nn.MaxPool2d(kernel_size = 4),\n",
    "    \n",
    ")\n",
    "```"
   ]
  },
  {
   "cell_type": "markdown",
   "id": "ae807142",
   "metadata": {},
   "source": [
    "## 3. CNN 핵심레이어"
   ]
  },
  {
   "cell_type": "markdown",
   "id": "72c69687-cea1-4d47-8682-b4c02e9917f0",
   "metadata": {},
   "source": [
    "### A. `torch.nn.ReLU()`"
   ]
  },
  {
   "cell_type": "markdown",
   "id": "31e8f2ac-1251-4d42-9613-f66acfe94599",
   "metadata": {},
   "source": [
    "### B. `torch.nn.MaxPool2d`"
   ]
  },
  {
   "cell_type": "markdown",
   "id": "af8cb4e7-fa97-4a2c-85c5-362aa025eff7",
   "metadata": {},
   "source": [
    "> 커널 사이즈가 n인 윈도우로 나눠서 맥스값 먹임. 딱 떨어지지 않으면 짤림"
   ]
  },
  {
   "cell_type": "markdown",
   "id": "53f88f57-a4c0-4bf2-aa00-48fe5b8e25a0",
   "metadata": {},
   "source": [
    "### C. `torch.nn.Conv2d`"
   ]
  },
  {
   "cell_type": "markdown",
   "id": "fe3a566c-9ed6-4739-898c-d408866f03cd",
   "metadata": {},
   "source": [
    "**(예시1) 연산방법, stride = 2**"
   ]
  },
  {
   "cell_type": "code",
   "execution_count": 3,
   "id": "d4fbc50b-0368-43d3-870e-984258962b00",
   "metadata": {},
   "outputs": [],
   "source": [
    "img = torch.rand(1,1,4,4)\n",
    "conv = torch.nn.Conv2d(in_channels=1,out_channels=1,kernel_size=2,stride=2)"
   ]
  },
  {
   "cell_type": "code",
   "execution_count": 4,
   "id": "2d3d7023-3307-415c-b9fd-c7ef0d44ca90",
   "metadata": {},
   "outputs": [
    {
     "data": {
      "text/plain": [
       "(tensor([[[[-0.2809,  0.0922],\n",
       "           [ 0.4339, -0.3868]]]]),\n",
       " tensor([0.1308]))"
      ]
     },
     "execution_count": 4,
     "metadata": {},
     "output_type": "execute_result"
    }
   ],
   "source": [
    "conv.weight.data, conv.bias.data"
   ]
  },
  {
   "cell_type": "code",
   "execution_count": 5,
   "id": "09139aa2-0186-48f9-a05b-9c294db13366",
   "metadata": {},
   "outputs": [
    {
     "data": {
      "text/plain": [
       "(tensor([0.0440]),\n",
       " tensor([[[[ 0.0440,  0.0137],\n",
       "           [-0.0465,  0.0592]]]], grad_fn=<ConvolutionBackward0>))"
      ]
     },
     "execution_count": 5,
     "metadata": {},
     "output_type": "execute_result"
    }
   ],
   "source": [
    "(img[:,  :,  :2,  :2] * conv.weight.data).sum()+conv.bias.data, conv(img)"
   ]
  },
  {
   "cell_type": "code",
   "execution_count": 6,
   "id": "808f984b-e410-4e9c-a0cd-46f0963010c9",
   "metadata": {},
   "outputs": [
    {
     "data": {
      "text/plain": [
       "(tensor([0.0137]),\n",
       " tensor([[[[ 0.0440,  0.0137],\n",
       "           [-0.0465,  0.0592]]]], grad_fn=<ConvolutionBackward0>))"
      ]
     },
     "execution_count": 6,
     "metadata": {},
     "output_type": "execute_result"
    }
   ],
   "source": [
    "(img[:,  :,  :2,  2:] * conv.weight.data).sum()+conv.bias.data, conv(img)"
   ]
  },
  {
   "cell_type": "code",
   "execution_count": 7,
   "id": "1010161d-5d2a-4da5-a29f-c92086e9b0e7",
   "metadata": {},
   "outputs": [
    {
     "data": {
      "text/plain": [
       "(tensor([0.0137]),\n",
       " tensor([[[[ 0.0440,  0.0137],\n",
       "           [-0.0465,  0.0592]]]], grad_fn=<ConvolutionBackward0>))"
      ]
     },
     "execution_count": 7,
     "metadata": {},
     "output_type": "execute_result"
    }
   ],
   "source": [
    "(img[:,  :,  :2,  2:] * conv.weight.data).sum()+conv.bias.data, conv(img)"
   ]
  },
  {
   "cell_type": "code",
   "execution_count": 8,
   "id": "9ac8c571-5710-4214-b618-ca0831960130",
   "metadata": {},
   "outputs": [
    {
     "data": {
      "text/plain": [
       "(tensor([0.0592]),\n",
       " tensor([[[[ 0.0440,  0.0137],\n",
       "           [-0.0465,  0.0592]]]], grad_fn=<ConvolutionBackward0>))"
      ]
     },
     "execution_count": 8,
     "metadata": {},
     "output_type": "execute_result"
    }
   ],
   "source": [
    "(img[:,  :,  2:,  2:] * conv.weight.data).sum()+conv.bias.data, conv(img)"
   ]
  },
  {
   "cell_type": "markdown",
   "id": "090e40ec-672e-4bbb-ab67-ad6242963614",
   "metadata": {},
   "source": [
    "> **Note**\n",
    ">\n",
    "> **입력이 1장의 흑백이미지이고 출력도 1장의 흑백이미지일 경우 컨볼루션\n",
    "> 계산과정 요약[1]**\n",
    ">\n",
    "> 1.  윈도우생성: `kernel_size` = (?,?) 인 윈도우를 만듦\n",
    "> 2.  sub-img생성: 입력 이미지에 윈도우를 통과시켜 (?,?) 크기의\n",
    ">     sub-img를 만듦.\n",
    "> 3.  연산: sub-img의 각 원소에 `conv.weight`의 값을 원소별로\n",
    ">     (=element-wisely) 곱하고 결과를 더함. (만약에 `conv.bias`가 있다면\n",
    ">     최종결과에 bias를 더함)\n",
    "> 4.  이동&반복: 윈도우를 `stride` 만큼 이동하여 반복. (`stride`=1\n",
    ">     이라면 한칸씩, `stride`=2 라면 두칸씩 이동) -> 스무딩이랑 비슷한 느낌 -> `stride`와 `kernel_size`가 똑같으면 `MaxPool2d`와 동일한 방식으로 윈도우 형성"
   ]
  },
  {
   "cell_type": "markdown",
   "id": "3247a522-ad98-41c1-a41b-93d50970daa7",
   "metadata": {},
   "source": [
    "**(예시2)** – 재현\n",
    "\n",
    "“A guide to convolution arithmetic for deep learning” (Dumoulin and\n",
    "Visin 2016) 에 나온 그림재현\n",
    "\n",
    "-   ref: <https://arxiv.org/abs/1603.07285>\n",
    "\n",
    "<figure class=\"margin-caption\">\n",
    "<img\n",
    "src=\"https://github.com/guebin/2021BDA/blob/master/_notebooks/2021-11-04-conv.png?raw=true\"\n",
    "alt=\"Fig: conv2d 계산과정시각화\" />\n",
    "<figcaption aria-hidden=\"true\">Fig: conv2d 계산과정시각화</figcaption>\n",
    "</figure>"
   ]
  },
  {
   "cell_type": "markdown",
   "id": "3b272152-c09e-4a5f-b2e3-ded4601e4596",
   "metadata": {},
   "source": [
    "> 이동평균이랑 비슷한데 평균은 아닌, 가중평균도 아닌, 그냥 입맛대로 가중치를 가하고 그 가중치 합이 1도 아닌, 음수일수도 있는"
   ]
  },
  {
   "cell_type": "markdown",
   "id": "91e27452-b33d-4826-8048-5fab25f55402",
   "metadata": {},
   "source": [
    "`[1]` 입력 `shape = (1, 1, ?, ?)`이고 출력의 `shape = (1, 1, ?, ?)`일 경우"
   ]
  },
  {
   "cell_type": "code",
   "execution_count": 14,
   "id": "0aab9b3d-fd0d-4acb-aa4d-d45ebc7d7ce1",
   "metadata": {},
   "outputs": [],
   "source": [
    "img = torch.tensor([\n",
    "    [3, 3, 2, 1, 0],\n",
    "    [0, 0, 1, 3, 1],\n",
    "    [3, 1, 2, 2, 3],\n",
    "    [2, 0, 0, 2, 2],\n",
    "    [2, 0, 0, 0, 1]\n",
    "]).reshape(1, 1, 5, 5).float()"
   ]
  },
  {
   "cell_type": "code",
   "execution_count": 19,
   "id": "b904f390-d70c-4614-8141-5fe8d1e87f2f",
   "metadata": {},
   "outputs": [],
   "source": [
    "conv = torch.nn.Conv2d(\n",
    "    in_channels = 1,\n",
    "    out_channels = 1,\n",
    "    kernel_size = 3,\n",
    "    stride = 1,\n",
    "    bias = False\n",
    ")\n",
    "\n",
    "conv.weight.data = torch.tensor([\n",
    "    [0, 1, 2],\n",
    "    [2, 2, 0],\n",
    "    [0, 1, 2]\n",
    "]).reshape(1, 1, 3, 3).float() ## 학습된 파라미터"
   ]
  },
  {
   "cell_type": "code",
   "execution_count": 18,
   "id": "d7bbe0ef-42fa-4e05-9233-a1a571fc84c3",
   "metadata": {},
   "outputs": [
    {
     "data": {
      "text/plain": [
       "tensor([[[[12., 12., 17.],\n",
       "          [10., 17., 19.],\n",
       "          [ 9.,  6., 14.]]]], grad_fn=<ConvolutionBackward0>)"
      ]
     },
     "execution_count": 18,
     "metadata": {},
     "output_type": "execute_result"
    }
   ],
   "source": [
    "conv(img)"
   ]
  },
  {
   "cell_type": "markdown",
   "id": "15b2e86f-d682-4e0d-a4bd-c065da16c63f",
   "metadata": {},
   "source": [
    "> 잘 됨"
   ]
  },
  {
   "cell_type": "markdown",
   "id": "b29dfc1a-451b-4e52-a071-4a942c164652",
   "metadata": {},
   "source": [
    "**(예시3) 이동평균**"
   ]
  },
  {
   "cell_type": "code",
   "execution_count": 20,
   "id": "ede2b3cd-60da-4417-9e51-d1140b946773",
   "metadata": {},
   "outputs": [],
   "source": [
    "img = torch.arange(1,17).float().reshape(1,1,4,4)\n",
    "conv = torch.nn.Conv2d(1, 1, kernel_size = 2, stride = 1, bias = False)\n",
    "conv.weight.data = conv.weight.data*0 + (1/4)"
   ]
  },
  {
   "cell_type": "code",
   "execution_count": 22,
   "id": "cbc37cba-1269-4c2d-8bf8-16898930e6f1",
   "metadata": {},
   "outputs": [
    {
     "data": {
      "text/plain": [
       "tensor([[[[ 3.5000,  4.5000,  5.5000],\n",
       "          [ 7.5000,  8.5000,  9.5000],\n",
       "          [11.5000, 12.5000, 13.5000]]]], grad_fn=<ConvolutionBackward0>)"
      ]
     },
     "execution_count": 22,
     "metadata": {},
     "output_type": "execute_result"
    }
   ],
   "source": [
    "conv(img)"
   ]
  },
  {
   "cell_type": "markdown",
   "id": "f2f11e1f-18ee-4556-9da7-0e1ffaaa527b",
   "metadata": {},
   "source": [
    "**(예시4) 2개의 이미지**"
   ]
  },
  {
   "cell_type": "markdown",
   "id": "ee321a5d-6e1f-4088-93f2-968ba5a955cc",
   "metadata": {},
   "source": [
    "`-` 개념 : (1, 1, ?, ?) $\\to$ (1, 1, ?, ?)의 `conv`를 observation별로 적용\n",
    "\n",
    "> `conv`에 포함된 파라메터의 수는 (1, 1, ?, ?) $\\to$ (1, 1, ?, ?)인 경우와 (n, 1, ?, ?) $\\to$ (n, 1, ?, ?)인 경우가 동일함 -> 당연히 샘플 수만 바뀐 거니까..."
   ]
  },
  {
   "cell_type": "code",
   "execution_count": 24,
   "id": "93cbec3d-e0dc-46fd-b511-694191b46dbf",
   "metadata": {},
   "outputs": [],
   "source": [
    "imgs = torch.arange(1, 33).float().reshape(2, 1, 4, 4)\n",
    "\n",
    "conv = torch.nn.Conv2d(in_channels = 1, out_channels = 1, kernel_size = 2, stride = 1, bias = False)\n",
    "conv.weight.data = conv.weight.data*0 + (1/4)"
   ]
  },
  {
   "cell_type": "code",
   "execution_count": 28,
   "id": "eaf1a850-5fbe-4d99-8f2d-bb239b87be20",
   "metadata": {},
   "outputs": [
    {
     "data": {
      "text/plain": [
       "torch.Size([2, 1, 3, 3])"
      ]
     },
     "execution_count": 28,
     "metadata": {},
     "output_type": "execute_result"
    }
   ],
   "source": [
    "conv(imgs).shape"
   ]
  },
  {
   "cell_type": "markdown",
   "id": "9a971cf4-2820-44f3-8614-ffbed9a67d68",
   "metadata": {},
   "source": [
    "**(예시5) 2개의 out_channels**\n",
    "\n",
    "`-` 개념: (1,1,?,?) $\\to$ (1,1,?,?) 의 conv를 하나의 채널에 적용, 그리고\n",
    "또 다른 채널에는 (1,1,?,?) $\\to$ (1,1,?,?) 인 다른 conv를 적용함.\n",
    "\n",
    "-   `conv`에 포함된 파라메터 수는 (1,1,?,?) $\\to$ (1,1,?,?) 인 경우보다\n",
    "    (1,1,?,?) $\\to$ (1,2,?,?)인 경우가 2배 많음 ; `bias`가 있어도 2배임"
   ]
  },
  {
   "cell_type": "code",
   "execution_count": 48,
   "id": "8b7db350-aaff-4b4c-97cc-26361494c3e2",
   "metadata": {},
   "outputs": [],
   "source": [
    "## 같은 데이터에 대해서 convolution을 두 번 거는 상황임 -> 파라미터 두배\n",
    "img = torch.arange(1, 33).float().reshape(2, 1, 4, 4)\n",
    "conv = torch.nn.Conv2d(in_channels = 1, out_channels = 2, kernel_size = 2, stride = 1, bias = False)"
   ]
  },
  {
   "cell_type": "code",
   "execution_count": 32,
   "id": "138c9b44-3e15-4c0e-8c1f-d4a41be4f28b",
   "metadata": {},
   "outputs": [
    {
     "data": {
      "text/plain": [
       "torch.Size([2, 2, 3, 3])"
      ]
     },
     "execution_count": 32,
     "metadata": {},
     "output_type": "execute_result"
    }
   ],
   "source": [
    "conv(img).shape"
   ]
  },
  {
   "cell_type": "code",
   "execution_count": 54,
   "id": "3ac8b3a4-b8a8-4801-8dc4-c760546f22c4",
   "metadata": {},
   "outputs": [],
   "source": [
    "conv.weight.data[0] = conv.weight.data[0]*0 + (1/4) ## 앞에 해버리니까 안된다 -> weight 자체는 못바꾸나 그럴리가\n",
    "conv.weight.data[1] = conv.weight.data[1]*0"
   ]
  },
  {
   "cell_type": "code",
   "execution_count": 55,
   "id": "0a74f41b-0984-49bf-8cbd-11f616507480",
   "metadata": {},
   "outputs": [
    {
     "data": {
      "text/plain": [
       "tensor([[[[ 3.5000,  4.5000,  5.5000],\n",
       "          [ 7.5000,  8.5000,  9.5000],\n",
       "          [11.5000, 12.5000, 13.5000]],\n",
       "\n",
       "         [[ 0.0000,  0.0000,  0.0000],\n",
       "          [ 0.0000,  0.0000,  0.0000],\n",
       "          [ 0.0000,  0.0000,  0.0000]]],\n",
       "\n",
       "\n",
       "        [[[19.5000, 20.5000, 21.5000],\n",
       "          [23.5000, 24.5000, 25.5000],\n",
       "          [27.5000, 28.5000, 29.5000]],\n",
       "\n",
       "         [[ 0.0000,  0.0000,  0.0000],\n",
       "          [ 0.0000,  0.0000,  0.0000],\n",
       "          [ 0.0000,  0.0000,  0.0000]]]], grad_fn=<ConvolutionBackward0>)"
      ]
     },
     "execution_count": 55,
     "metadata": {},
     "output_type": "execute_result"
    }
   ],
   "source": [
    "conv(img)"
   ]
  },
  {
   "cell_type": "markdown",
   "id": "293a7113-1d25-400c-8a34-17c77e7bddf5",
   "metadata": {},
   "source": [
    "## 4. CNN의 학습원리"
   ]
  },
  {
   "cell_type": "markdown",
   "id": "60cb2252-01a2-45f6-9881-8f149c48110a",
   "metadata": {},
   "source": [
    "### A. data"
   ]
  },
  {
   "cell_type": "markdown",
   "id": "988d237b-02ec-4015-8701-6fc321a2ea78",
   "metadata": {},
   "source": [
    "아래의 4개 이미지를 생각하자."
   ]
  },
  {
   "cell_type": "code",
   "execution_count": 59,
   "id": "74cc3c85-b059-448f-91c6-0ad8b0534fa2",
   "metadata": {},
   "outputs": [],
   "source": [
    "img0 = torch.tensor([\n",
    "    [0.1, 0.1, 0.1, 0.1, 0.1, 0.1, 0.1, 0.1, 0.0, 0.0, 0.0, 0.0, 0.0, 0.0, 0.0, 0.0],\n",
    "    [0.1, 0.1, 0.1, 0.1, 0.1, 0.1, 0.1, 0.1, 0.0, 0.0, 0.0, 0.0, 0.0, 0.0, 0.0, 0.0],\n",
    "    [0.1, 0.1, 0.1, 0.1, 0.1, 0.1, 0.1, 0.1, 0.0, 0.0, 0.0, 0.0, 0.0, 0.0, 0.0, 0.0],\n",
    "    [0.1, 0.1, 0.1, 0.1, 0.1, 0.1, 0.1, 0.1, 0.0, 0.0, 0.0, 0.0, 0.0, 0.0, 0.0, 0.0],\n",
    "    [0.1, 0.1, 0.1, 0.1, 0.1, 0.1, 0.1, 0.1, 0.0, 0.0, 0.0, 0.0, 0.0, 0.0, 0.0, 0.0],\n",
    "    [0.1, 0.1, 0.1, 0.1, 0.1, 0.1, 0.1, 0.1, 0.0, 0.0, 0.0, 0.0, 0.0, 0.0, 0.0, 0.0],\n",
    "    [0.1, 0.1, 0.1, 0.1, 0.1, 0.1, 0.1, 0.1, 0.0, 0.0, 0.0, 0.0, 0.0, 0.0, 0.0, 0.0],\n",
    "    [0.1, 0.1, 0.1, 0.1, 0.1, 0.1, 0.1, 0.1, 0.0, 0.0, 0.0, 0.0, 0.0, 0.0, 0.0, 0.0],\n",
    "    [0.1, 0.1, 0.1, 0.1, 0.1, 0.1, 0.1, 0.1, 0.0, 0.0, 0.0, 0.0, 0.0, 0.0, 0.0, 0.0],\n",
    "    [0.1, 0.1, 0.1, 0.1, 0.1, 0.1, 0.1, 0.1, 0.0, 0.0, 0.0, 0.0, 0.0, 0.0, 0.0, 0.0],\n",
    "    [0.1, 0.1, 0.1, 0.1, 0.1, 0.1, 0.1, 0.1, 0.0, 0.0, 0.0, 0.0, 0.0, 0.0, 0.0, 0.0],\n",
    "    [0.1, 0.1, 0.1, 0.1, 0.1, 0.1, 0.1, 0.1, 0.0, 0.0, 0.0, 0.0, 0.0, 0.0, 0.0, 0.0],\n",
    "    [0.1, 0.1, 0.1, 0.1, 0.1, 0.1, 0.1, 0.1, 0.0, 0.0, 0.0, 0.0, 0.0, 0.0, 0.0, 0.0],\n",
    "    [0.1, 0.1, 0.1, 0.1, 0.1, 0.1, 0.1, 0.1, 0.0, 0.0, 0.0, 0.0, 0.0, 0.0, 0.0, 0.0],\n",
    "    [0.1, 0.1, 0.1, 0.1, 0.1, 0.1, 0.1, 0.1, 0.0, 0.0, 0.0, 0.0, 0.0, 0.0, 0.0, 0.0],\n",
    "    [0.1, 0.1, 0.1, 0.1, 0.1, 0.1, 0.1, 0.1, 0.0, 0.0, 0.0, 0.0, 0.0, 0.0, 0.0, 0.0]\n",
    "]).reshape(1, 1, 16, 16) \n",
    "img1 = 0.1-torch.einsum('nchw->ncwh', img0.clone()) ## hw를 wh로 바꿈 -> 가로 세로 바꿈\n",
    "img2 = torch.zeros((1, 1, 16, 16))\n",
    "for i in range(16):\n",
    "    for j in range(16):\n",
    "        if j <= i:  # 대각선 아래 삼각형이면 0.1(하얀색)\n",
    "            img2[0, 0, i, j] = 0.1\n",
    "# 빈 이미지\n",
    "img3 = torch.zeros((1, 1, 16, 16))\n",
    "block_size = 2\n",
    "# 블록 단위로 채우기\n",
    "for i in range(0, 16, block_size):\n",
    "    for j in range(0, 16, block_size):\n",
    "        if ((i // block_size) + (j // block_size)) % 2 == 0:\n",
    "            img3[0, 0, i:i+block_size, j:j+block_size] = 0.1 ## 다 0 채워놓고 격자마다 0.1"
   ]
  },
  {
   "cell_type": "code",
   "execution_count": 60,
   "id": "586b9809-59a1-4ffc-a258-cb70e4472ee9",
   "metadata": {},
   "outputs": [
    {
     "data": {
      "image/png": "[encoded data removed]",
      "text/plain": [
       "<Figure size 800x800 with 4 Axes>"
      ]
     },
     "metadata": {},
     "output_type": "display_data"
    }
   ],
   "source": [
    "fig,axs = plt.subplots(2,2)\n",
    "fig.set_size_inches(8,8)\n",
    "axs[0][0].imshow(img0.squeeze(),cmap=\"gray\") ## squeeze로 그냥 차원이 1인 것들은 없애버림\n",
    "axs[0][1].imshow(img1.squeeze(),cmap=\"gray\")\n",
    "axs[1][0].imshow(img2.squeeze(),cmap=\"gray\")\n",
    "axs[1][1].imshow(img3.squeeze(),cmap=\"gray\")\n",
    "## 이미지 텐서 통합하고 그냥 for문 돌려서 하시지...\n",
    "plt.tight_layout()"
   ]
  },
  {
   "cell_type": "code",
   "execution_count": 61,
   "id": "5dadad06-4eee-4592-acbe-2e5890a924f4",
   "metadata": {},
   "outputs": [],
   "source": [
    "imgs = torch.concat([img0,img1,img2,img3])"
   ]
  },
  {
   "cell_type": "code",
   "execution_count": 62,
   "id": "9470314d-3111-4f5c-b69c-395a7b27e8a7",
   "metadata": {},
   "outputs": [
    {
     "data": {
      "text/plain": [
       "torch.Size([4, 1, 16, 16])"
      ]
     },
     "execution_count": 62,
     "metadata": {},
     "output_type": "execute_result"
    }
   ],
   "source": [
    "imgs.shape"
   ]
  },
  {
   "cell_type": "markdown",
   "id": "58e5cd52-5098-4ce8-b570-ad7dae7c277f",
   "metadata": {},
   "source": [
    "### B. 이동평균"
   ]
  },
  {
   "cell_type": "code",
   "execution_count": 107,
   "id": "f332d183-8efd-42cf-af75-9f03faa08461",
   "metadata": {},
   "outputs": [],
   "source": [
    "m_conv = torch.nn.Conv2d(in_channels = 1, out_channels = 1, kernel_size = 4, stride = 1)\n",
    "m_conv.weight.data = m_conv.weight.data*0 + (1/16)\n",
    "m_conv.bias.data = m_conv.bias.data*0"
   ]
  },
  {
   "cell_type": "code",
   "execution_count": 78,
   "id": "566625fd-dcea-43e6-a398-51eccc7d58c1",
   "metadata": {},
   "outputs": [
    {
     "data": {
      "text/plain": [
       "<matplotlib.image.AxesImage at 0x7f0f706506d0>"
      ]
     },
     "execution_count": 78,
     "metadata": {},
     "output_type": "execute_result"
    },
    {
     "data": {
      "image/png": "[encoded data removed]",
      "text/plain": [
       "<Figure size 450x300 with 1 Axes>"
      ]
     },
     "metadata": {},
     "output_type": "display_data"
    }
   ],
   "source": [
    "plt.imshow(m_conv(imgs)[0, 0, :, :].squeeze().data, cmap = \"gray\")"
   ]
  },
  {
   "cell_type": "code",
   "execution_count": 84,
   "id": "9a6c4b6e-6cf9-4ddb-abef-485500806b79",
   "metadata": {},
   "outputs": [
    {
     "data": {
      "image/png": "[encoded data removed]",
      "text/plain": [
       "<Figure size 800x800 with 4 Axes>"
      ]
     },
     "metadata": {},
     "output_type": "display_data"
    }
   ],
   "source": [
    "fig, axs = plt.subplots(2, 2)\n",
    "fig.set_size_inches(8, 8)\n",
    "\n",
    "for i in range(4) :\n",
    "    axs[i//2][i%2].imshow(m_conv(imgs)[i, 0, :, :].squeeze().data, cmap = \"gray\", vmin = 0, vmax = 0.1)\n",
    "\n",
    "plt.tight_layout()"
   ]
  },
  {
   "cell_type": "markdown",
   "id": "4ed6975e-5176-418d-a5ae-9717ae6b1946",
   "metadata": {},
   "source": [
    "> 마지막의 경우 전부 같은 값으로 뭉개짐"
   ]
  },
  {
   "cell_type": "code",
   "execution_count": 85,
   "id": "3c3f76b7-f970-4eb1-8fa2-11c6f0371430",
   "metadata": {},
   "outputs": [],
   "source": [
    "m_conv.bias.data = m_conv.bias.data*0 + 0.05"
   ]
  },
  {
   "cell_type": "code",
   "execution_count": 88,
   "id": "e8bf14e3-a501-4d0b-8284-1fa59fb018cb",
   "metadata": {},
   "outputs": [
    {
     "data": {
      "image/png": "[encoded data removed]",
      "text/plain": [
       "<Figure size 450x300 with 1 Axes>"
      ]
     },
     "metadata": {},
     "output_type": "display_data"
    }
   ],
   "source": [
    "plt.imshow(m_conv(img3).data.squeeze(), cmap = \"gray\", vmin = 0, vmax = 0.1)\n",
    "plt.show()"
   ]
  },
  {
   "cell_type": "markdown",
   "id": "f0e3b50d-ee4d-4325-bcbf-745e8dcef048",
   "metadata": {},
   "source": [
    "> 0.05를 전부 더해주니 이렇게 됨"
   ]
  },
  {
   "cell_type": "markdown",
   "id": "87a47d5e-942e-4ce6-8a04-877b1bc92c3f",
   "metadata": {},
   "source": [
    "### C. 세로엣지 : edge detacting"
   ]
  },
  {
   "cell_type": "markdown",
   "id": "1ed12271-1de7-4772-96d6-da2543fa1c1f",
   "metadata": {},
   "source": [
    "> 이걸 잘하면 물체 경계 판별하는 것도 가능할듯, 왠만해선"
   ]
  },
  {
   "cell_type": "code",
   "execution_count": 114,
   "id": "317acc6e-9009-47de-88a3-0f5fd2556138",
   "metadata": {},
   "outputs": [],
   "source": [
    "v_conv = torch.nn.Conv2d(\n",
    "    in_channels = 1, \n",
    "    out_channels = 1,\n",
    "    kernel_size = 4,\n",
    "    bias = False\n",
    ")\n",
    "\n",
    "v_conv.weight.data = torch.tensor([\n",
    "    [0, 0, 0, 0],\n",
    "    [0, 1,-1, 0],\n",
    "    [0, 1,-1, 0],\n",
    "    [0, 0, 0, 0]\n",
    "]).float().reshape(1, 1, 4, 4)"
   ]
  },
  {
   "cell_type": "code",
   "execution_count": 96,
   "id": "35eeccf5-d7f4-4264-ba7c-3aa445b186d4",
   "metadata": {},
   "outputs": [
    {
     "data": {
      "text/plain": [
       "tensor([[0.0000, 0.0000, 0.0000, 0.0000, 0.0000, 0.0000, 0.2000, 0.0000, 0.0000,\n",
       "         0.0000, 0.0000, 0.0000, 0.0000],\n",
       "        [0.0000, 0.0000, 0.0000, 0.0000, 0.0000, 0.0000, 0.2000, 0.0000, 0.0000,\n",
       "         0.0000, 0.0000, 0.0000, 0.0000],\n",
       "        [0.0000, 0.0000, 0.0000, 0.0000, 0.0000, 0.0000, 0.2000, 0.0000, 0.0000,\n",
       "         0.0000, 0.0000, 0.0000, 0.0000],\n",
       "        [0.0000, 0.0000, 0.0000, 0.0000, 0.0000, 0.0000, 0.2000, 0.0000, 0.0000,\n",
       "         0.0000, 0.0000, 0.0000, 0.0000],\n",
       "        [0.0000, 0.0000, 0.0000, 0.0000, 0.0000, 0.0000, 0.2000, 0.0000, 0.0000,\n",
       "         0.0000, 0.0000, 0.0000, 0.0000],\n",
       "        [0.0000, 0.0000, 0.0000, 0.0000, 0.0000, 0.0000, 0.2000, 0.0000, 0.0000,\n",
       "         0.0000, 0.0000, 0.0000, 0.0000],\n",
       "        [0.0000, 0.0000, 0.0000, 0.0000, 0.0000, 0.0000, 0.2000, 0.0000, 0.0000,\n",
       "         0.0000, 0.0000, 0.0000, 0.0000],\n",
       "        [0.0000, 0.0000, 0.0000, 0.0000, 0.0000, 0.0000, 0.2000, 0.0000, 0.0000,\n",
       "         0.0000, 0.0000, 0.0000, 0.0000],\n",
       "        [0.0000, 0.0000, 0.0000, 0.0000, 0.0000, 0.0000, 0.2000, 0.0000, 0.0000,\n",
       "         0.0000, 0.0000, 0.0000, 0.0000],\n",
       "        [0.0000, 0.0000, 0.0000, 0.0000, 0.0000, 0.0000, 0.2000, 0.0000, 0.0000,\n",
       "         0.0000, 0.0000, 0.0000, 0.0000],\n",
       "        [0.0000, 0.0000, 0.0000, 0.0000, 0.0000, 0.0000, 0.2000, 0.0000, 0.0000,\n",
       "         0.0000, 0.0000, 0.0000, 0.0000],\n",
       "        [0.0000, 0.0000, 0.0000, 0.0000, 0.0000, 0.0000, 0.2000, 0.0000, 0.0000,\n",
       "         0.0000, 0.0000, 0.0000, 0.0000],\n",
       "        [0.0000, 0.0000, 0.0000, 0.0000, 0.0000, 0.0000, 0.2000, 0.0000, 0.0000,\n",
       "         0.0000, 0.0000, 0.0000, 0.0000]])"
      ]
     },
     "execution_count": 96,
     "metadata": {},
     "output_type": "execute_result"
    }
   ],
   "source": [
    "v_conv(img0).squeeze().data ## 0.2의 값을 가지는 횡축이 나옴"
   ]
  },
  {
   "cell_type": "code",
   "execution_count": 93,
   "id": "97214ebb-8a93-42b0-aeac-13ccbca23267",
   "metadata": {},
   "outputs": [
    {
     "data": {
      "image/png": "[encoded data removed]",
      "text/plain": [
       "<Figure size 800x800 with 4 Axes>"
      ]
     },
     "metadata": {},
     "output_type": "display_data"
    }
   ],
   "source": [
    "fig, axs = plt.subplots(2, 2)\n",
    "fig.set_size_inches(8, 8)\n",
    "\n",
    "for i in range(4) :\n",
    "    axs[i//2][i%2].imshow(v_conv(imgs)[i, 0, :, :].squeeze().data, cmap = \"gray\")\n",
    "\n",
    "plt.tight_layout()"
   ]
  },
  {
   "cell_type": "code",
   "execution_count": 98,
   "id": "a338df7e-ee3f-4655-bce9-3d391b757c28",
   "metadata": {},
   "outputs": [],
   "source": [
    "v_conv2 = torch.nn.Conv2d(1, 1, 2, 1, bias = False)\n",
    "v_conv2.weight.data = torch.tensor([\n",
    "    [-1, 1],\n",
    "    [-1, 1]\n",
    "]).float().reshape(1, 1, 2, 2)"
   ]
  },
  {
   "cell_type": "code",
   "execution_count": 100,
   "id": "36941e11-877e-4916-b867-bcc3fa825073",
   "metadata": {},
   "outputs": [
    {
     "data": {
      "image/png": "[encoded data removed]",
      "text/plain": [
       "<Figure size 400x400 with 4 Axes>"
      ]
     },
     "metadata": {},
     "output_type": "display_data"
    }
   ],
   "source": [
    "fig, axs = plt.subplots(2, 2)\n",
    "fig.set_size_inches(4, 4)\n",
    "\n",
    "for i in range(4) :\n",
    "    axs[i//2][i%2].imshow(v_conv2(imgs)[i, 0, :, :].squeeze().data, cmap = \"gray\")\n",
    "\n",
    "plt.tight_layout()"
   ]
  },
  {
   "cell_type": "markdown",
   "id": "b657b851-874a-49d7-84bd-25918d56ee0d",
   "metadata": {},
   "source": [
    "### D. 가로 엣지"
   ]
  },
  {
   "cell_type": "code",
   "execution_count": 104,
   "id": "0f6b0038-84c6-41d1-b2a9-b1a36c8a0dfc",
   "metadata": {},
   "outputs": [],
   "source": [
    "h_conv = torch.nn.Conv2d(1, 1, 4, 1, bias = False)\n",
    "\n",
    "h_conv.weight.data = torch.tensor([\n",
    "    [0, 0, 0, 0],\n",
    "    [0,-1,-1, 0],\n",
    "    [0, 1, 1, 0],\n",
    "    [0, 0, 0, 0],\n",
    "]).float().reshape(1, 1, 4, 4)"
   ]
  },
  {
   "cell_type": "code",
   "execution_count": 105,
   "id": "d4048d9a-07e3-4405-b8d9-6c863e85c158",
   "metadata": {},
   "outputs": [
    {
     "data": {
      "image/png": "[encoded data removed]",
      "text/plain": [
       "<Figure size 400x400 with 4 Axes>"
      ]
     },
     "metadata": {},
     "output_type": "display_data"
    }
   ],
   "source": [
    "fig, axs = plt.subplots(2, 2)\n",
    "fig.set_size_inches(4, 4)\n",
    "\n",
    "for i in range(4) :\n",
    "    axs[i//2][i%2].imshow(h_conv(imgs)[i, 0, :, :].squeeze().data, cmap = \"gray\")\n",
    "\n",
    "plt.tight_layout()"
   ]
  },
  {
   "cell_type": "markdown",
   "id": "8a5bfe92-2934-4b47-b3b8-ad81e27fdd0f",
   "metadata": {},
   "source": [
    "> 여기서 몇 번 더, 더 다양한 필터들을 걸 수 있음"
   ]
  },
  {
   "cell_type": "code",
   "execution_count": 108,
   "id": "8a605122-9747-428e-93af-e599f7483cea",
   "metadata": {},
   "outputs": [
    {
     "data": {
      "image/png": "[encoded data removed]",
      "text/plain": [
       "<Figure size 800x800 with 4 Axes>"
      ]
     },
     "metadata": {},
     "output_type": "display_data"
    }
   ],
   "source": [
    "fig, axs = plt.subplots(2, 2)\n",
    "fig.set_size_inches(8, 8)\n",
    "\n",
    "for i in range(4) :\n",
    "    axs[i//2][i%2].imshow(m_conv(m_conv(imgs))[i, 0, :, :].squeeze().data, cmap = \"gray\")\n",
    "\n",
    "plt.tight_layout()"
   ]
  },
  {
   "cell_type": "markdown",
   "id": "eb7e94da-14d0-4b82-860a-e0711695571c",
   "metadata": {},
   "source": [
    "### E. (C, D, E) + ReLU + MaxPool"
   ]
  },
  {
   "cell_type": "code",
   "execution_count": 109,
   "id": "134bbcab-5dfa-42c4-bb8c-395a8f26ed5f",
   "metadata": {},
   "outputs": [
    {
     "data": {
      "text/plain": [
       "torch.Size([4, 1, 13, 13])"
      ]
     },
     "execution_count": 109,
     "metadata": {},
     "output_type": "execute_result"
    }
   ],
   "source": [
    "m_conv(imgs).shape"
   ]
  },
  {
   "cell_type": "code",
   "execution_count": 110,
   "id": "edaac372-23fd-42b8-b411-551b74235a33",
   "metadata": {},
   "outputs": [],
   "source": [
    "mp = torch.nn.MaxPool2d(kernel_size = 13) ## 이미지 텐서에서 가장 큰 값"
   ]
  },
  {
   "cell_type": "code",
   "execution_count": 111,
   "id": "c1277862-4ad3-4eaf-ba20-a6f929f2b471",
   "metadata": {},
   "outputs": [
    {
     "data": {
      "text/plain": [
       "tensor([[[[0.1000]]],\n",
       "\n",
       "\n",
       "        [[[0.1000]]],\n",
       "\n",
       "\n",
       "        [[[0.1000]]],\n",
       "\n",
       "\n",
       "        [[[0.0500]]]], grad_fn=<MaxPool2DWithIndicesBackward0>)"
      ]
     },
     "execution_count": 111,
     "metadata": {},
     "output_type": "execute_result"
    }
   ],
   "source": [
    "mp(m_conv(imgs)) ## 다 합쳐진 거만 맥스값이 다름"
   ]
  },
  {
   "cell_type": "code",
   "execution_count": 112,
   "id": "49ee9dbf-41a0-46f5-b108-7c799317e4b8",
   "metadata": {},
   "outputs": [
    {
     "data": {
      "text/plain": [
       "tensor([[[[0.0000]]],\n",
       "\n",
       "\n",
       "        [[[0.2000]]],\n",
       "\n",
       "\n",
       "        [[[0.1000]]],\n",
       "\n",
       "\n",
       "        [[[0.2000]]]], grad_fn=<MaxPool2DWithIndicesBackward0>)"
      ]
     },
     "execution_count": 112,
     "metadata": {},
     "output_type": "execute_result"
    }
   ],
   "source": [
    "mp(h_conv(imgs)) ## 세로 그림만 맥스값이 0임 -> 가로선이 없음"
   ]
  },
  {
   "cell_type": "code",
   "execution_count": 115,
   "id": "ace68bc4-5fec-42b4-88a8-3affe284cf90",
   "metadata": {},
   "outputs": [
    {
     "data": {
      "text/plain": [
       "tensor([[[[0.2000]]],\n",
       "\n",
       "\n",
       "        [[[0.0000]]],\n",
       "\n",
       "\n",
       "        [[[0.1000]]],\n",
       "\n",
       "\n",
       "        [[[0.2000]]]], grad_fn=<MaxPool2DWithIndicesBackward0>)"
      ]
     },
     "execution_count": 115,
     "metadata": {},
     "output_type": "execute_result"
    }
   ],
   "source": [
    "mp(v_conv(imgs))"
   ]
  },
  {
   "cell_type": "code",
   "execution_count": 117,
   "id": "6128f454-cb11-417b-b6da-fe5993ae72b9",
   "metadata": {},
   "outputs": [],
   "source": [
    "relu = torch.nn.ReLU()"
   ]
  },
  {
   "cell_type": "code",
   "execution_count": 127,
   "id": "a17e7e06-b008-408f-85fc-8b722452adb5",
   "metadata": {},
   "outputs": [
    {
     "data": {
      "text/plain": [
       "tensor([[[[0.1000]]],\n",
       "\n",
       "\n",
       "        [[[0.1000]]],\n",
       "\n",
       "\n",
       "        [[[0.1000]]],\n",
       "\n",
       "\n",
       "        [[[0.0500]]]], grad_fn=<MaxPool2DWithIndicesBackward0>)"
      ]
     },
     "execution_count": 127,
     "metadata": {},
     "output_type": "execute_result"
    }
   ],
   "source": [
    "mp(relu(v_conv(imgs)))\n",
    "mp(relu(h_conv(imgs)))\n",
    "mp(relu(m_conv(imgs)))"
   ]
  },
  {
   "cell_type": "markdown",
   "id": "07bb0ca7-7195-4ca4-8b2d-9022098a7503",
   "metadata": {},
   "source": [
    "### F. 대충 이런 구조"
   ]
  },
  {
   "cell_type": "markdown",
   "id": "20b07bf0-ab13-4fb3-97be-831968e3ecdf",
   "metadata": {},
   "source": [
    "```\n",
    "이미지 1 -> h -> ReLU -> MP => 0, ?, ?, ?\n",
    "         -> v -> ReLU -> MP => ?, 0, ?, ?\n",
    "         -> m -> ReLU -> MP => ?, ?, ?, 0\n",
    "```\n",
    "* 이미지 1 -> (h, v, m) -> ReLU -> MP\n",
    "* 이미지 2 -> (h, v, m) -> ReLU -> MP\n",
    "* 이미지 3 -> (h, v, m) -> ReLU -> MP\n",
    "* 이미지 4 -> (h, v, m) -> ReLU -> MP"
   ]
  },
  {
   "cell_type": "code",
   "execution_count": 129,
   "id": "9ebe60db-5f93-4ba5-8863-cf68a6a1ffd8",
   "metadata": {},
   "outputs": [],
   "source": [
    "net = torch.nn.Sequential(\n",
    "    torch.nn.Conv2d(1, 3, 4), ## 3 channel으로 확장\n",
    "    torch.nn.ReLU(),\n",
    "    torch.nn.MaxPool2d(kernel_size = 13), ## 극단적으로, 그냥 하나의 최대값만 반환\n",
    "    torch.nn.Flatten() ## 이미지를 잘 먹였으니 이제 로짓으로 변환시켜서 분류시킬거임\n",
    ")\n",
    "\n",
    "net[0].weight.data = torch.concat([v_conv.weight.data,\n",
    "                                   h_conv.weight.data,\n",
    "                                   m_conv.weight.data], axis = 0)\n",
    "net[0].bias.data = torch.tensor([0.0, 0.0, -0.05]) ## 마지막의 경우 보정을 해줘야 0이 돼서 식별 가능함"
   ]
  },
  {
   "cell_type": "code",
   "execution_count": 131,
   "id": "31bb4602-ff70-40f6-b61b-fd57c64b6b8b",
   "metadata": {},
   "outputs": [
    {
     "data": {
      "text/plain": [
       "torch.Size([3, 1, 4, 4])"
      ]
     },
     "execution_count": 131,
     "metadata": {},
     "output_type": "execute_result"
    }
   ],
   "source": [
    "net[0].weight.data.shape ## 색상 채널이 바뀌는 건 아님. m_conv, h_conv, v_conv가 통합된 거임"
   ]
  },
  {
   "cell_type": "code",
   "execution_count": 133,
   "id": "8c40a651-3182-4417-a624-eb2fda28a4d0",
   "metadata": {},
   "outputs": [
    {
     "data": {
      "text/plain": [
       "torch.Size([1, 1, 4, 4])"
      ]
     },
     "execution_count": 133,
     "metadata": {},
     "output_type": "execute_result"
    }
   ],
   "source": [
    "m_conv.weight.shape"
   ]
  },
  {
   "cell_type": "code",
   "execution_count": 139,
   "id": "de1ce474-a5fd-45b7-8e82-8b7e81f005fd",
   "metadata": {},
   "outputs": [
    {
     "data": {
      "text/plain": [
       "tensor([[[[ 0.0000,  0.0000,  0.0000,  0.0000],\n",
       "          [ 0.0000,  1.0000, -1.0000,  0.0000],\n",
       "          [ 0.0000,  1.0000, -1.0000,  0.0000],\n",
       "          [ 0.0000,  0.0000,  0.0000,  0.0000]]],\n",
       "\n",
       "\n",
       "        [[[ 0.0000,  0.0000,  0.0000,  0.0000],\n",
       "          [ 0.0000, -1.0000, -1.0000,  0.0000],\n",
       "          [ 0.0000,  1.0000,  1.0000,  0.0000],\n",
       "          [ 0.0000,  0.0000,  0.0000,  0.0000]]],\n",
       "\n",
       "\n",
       "        [[[ 0.0625,  0.0625,  0.0625,  0.0625],\n",
       "          [ 0.0625,  0.0625,  0.0625,  0.0625],\n",
       "          [ 0.0625,  0.0625,  0.0625,  0.0625],\n",
       "          [ 0.0625,  0.0625,  0.0625,  0.0625]]]])"
      ]
     },
     "execution_count": 139,
     "metadata": {},
     "output_type": "execute_result"
    }
   ],
   "source": [
    "net[0].weight.data"
   ]
  },
  {
   "cell_type": "code",
   "execution_count": 142,
   "id": "61e29a84-decb-4dd2-a074-a84cc082e22f",
   "metadata": {},
   "outputs": [
    {
     "data": {
      "text/plain": [
       "tensor([[2.0000e-01, 0.0000e+00, 5.0000e-02],\n",
       "        [0.0000e+00, 2.0000e-01, 5.0000e-02],\n",
       "        [1.0000e-01, 1.0000e-01, 5.0000e-02],\n",
       "        [2.0000e-01, 2.0000e-01, 9.3132e-10]], grad_fn=<ViewBackward0>)"
      ]
     },
     "execution_count": 142,
     "metadata": {},
     "output_type": "execute_result"
    }
   ],
   "source": [
    "net(imgs)"
   ]
  },
  {
   "cell_type": "code",
   "execution_count": 143,
   "id": "a42f4dd4-8a1a-4cca-b983-30a33d6276f0",
   "metadata": {},
   "outputs": [
    {
     "data": {
      "text/plain": [
       "<matplotlib.image.AxesImage at 0x7f0f49e68c10>"
      ]
     },
     "execution_count": 143,
     "metadata": {},
     "output_type": "execute_result"
    },
    {
     "data": {
      "image/png": "[encoded data removed]",
      "text/plain": [
       "<Figure size 400x533.333 with 1 Axes>"
      ]
     },
     "metadata": {},
     "output_type": "display_data"
    }
   ],
   "source": [
    "plt.matshow(net(imgs).data, cmap = \"gray\")"
   ]
  },
  {
   "cell_type": "markdown",
   "id": "8dc6a2c4-f6d7-4227-b267-c683262f094f",
   "metadata": {},
   "source": [
    "> 0(검은색)이 있는 것을 식별. 아무것도 없는 것도 더미변수처럼 식별"
   ]
  },
  {
   "cell_type": "markdown",
   "id": "f7c4a1fa-e00f-46ca-87b7-5bf10490ef87",
   "metadata": {},
   "source": [
    "### G. MaxPool의 역할? - 선택"
   ]
  },
  {
   "cell_type": "markdown",
   "id": "4117e87e-39dc-4ec5-a869-a364eb86dbdf",
   "metadata": {},
   "source": [
    "`-` 샘플 이미지"
   ]
  },
  {
   "cell_type": "code",
   "execution_count": 144,
   "id": "a2dccdb3-a46f-4309-823d-6f7ac2239dac",
   "metadata": {},
   "outputs": [],
   "source": [
    "img = torch.zeros((1, 1, 16, 16))\n",
    "triangle_size = 4\n",
    "for i in range(triangle_size):\n",
    "    for j in range(triangle_size):\n",
    "        if j <= i:  # 아래 방향 직각삼각형 (왼쪽 위 꼭짓점 기준)\n",
    "            img[0, 0, i, j] = 1.0"
   ]
  },
  {
   "cell_type": "code",
   "execution_count": 146,
   "id": "f2c16e09-984f-4cd2-98a9-6813978bfe33",
   "metadata": {},
   "outputs": [
    {
     "data": {
      "text/plain": [
       "<matplotlib.image.AxesImage at 0x7f0f49e473d0>"
      ]
     },
     "execution_count": 146,
     "metadata": {},
     "output_type": "execute_result"
    },
    {
     "data": {
      "image/png": "[encoded data removed]",
      "text/plain": [
       "<Figure size 450x300 with 1 Axes>"
      ]
     },
     "metadata": {},
     "output_type": "display_data"
    }
   ],
   "source": [
    "plt.imshow(img.squeeze(),cmap=\"gray\")"
   ]
  },
  {
   "cell_type": "markdown",
   "id": "ccaf3e72-f529-4ecf-8790-967017fb7fb4",
   "metadata": {},
   "source": [
    "`-` mp 1회"
   ]
  },
  {
   "cell_type": "code",
   "execution_count": 147,
   "id": "cd5719dc-765e-487f-9958-6a13616dbc5c",
   "metadata": {},
   "outputs": [],
   "source": [
    "mp = torch.nn.MaxPool2d(kernel_size = 2)"
   ]
  },
  {
   "cell_type": "code",
   "execution_count": 150,
   "id": "ea6e8da7-0485-4f66-add6-c629f1ff5e30",
   "metadata": {},
   "outputs": [
    {
     "data": {
      "text/plain": [
       "<matplotlib.image.AxesImage at 0x7f0fae98e280>"
      ]
     },
     "execution_count": 150,
     "metadata": {},
     "output_type": "execute_result"
    },
    {
     "data": {
      "image/png": "[encoded data removed]",
      "text/plain": [
       "<Figure size 450x300 with 1 Axes>"
      ]
     },
     "metadata": {},
     "output_type": "display_data"
    }
   ],
   "source": [
    "plt.imshow(mp(img).squeeze(),cmap=\"gray\") ## 커널 사이즈가 크니까, 뭉둑하게 변함. 사이즈 줄어듦"
   ]
  },
  {
   "cell_type": "markdown",
   "id": "18a4df4f-c1ee-4042-93d5-aae092bad5b4",
   "metadata": {},
   "source": [
    "> 그래도 이미지가 가지는 고유한 정보 손상되지 않았음"
   ]
  },
  {
   "cell_type": "markdown",
   "id": "d1cbaa4b-1da7-459d-92ce-e52be8126a5d",
   "metadata": {},
   "source": [
    "`-` mp 2~4회"
   ]
  },
  {
   "cell_type": "code",
   "execution_count": 151,
   "id": "5b0c3645-89e4-4e50-b1a5-31671be162da",
   "metadata": {},
   "outputs": [
    {
     "data": {
      "text/plain": [
       "<matplotlib.image.AxesImage at 0x7f0fae8fc8b0>"
      ]
     },
     "execution_count": 151,
     "metadata": {},
     "output_type": "execute_result"
    },
    {
     "data": {
      "image/png": "[encoded data removed]",
      "text/plain": [
       "<Figure size 450x300 with 1 Axes>"
      ]
     },
     "metadata": {},
     "output_type": "display_data"
    }
   ],
   "source": [
    "plt.imshow(mp(mp(img)).squeeze(),cmap=\"gray\")"
   ]
  },
  {
   "cell_type": "code",
   "execution_count": 152,
   "id": "56374a82-bc64-4204-b4f3-97efee693281",
   "metadata": {},
   "outputs": [
    {
     "data": {
      "text/plain": [
       "<matplotlib.image.AxesImage at 0x7f0fae86b730>"
      ]
     },
     "execution_count": 152,
     "metadata": {},
     "output_type": "execute_result"
    },
    {
     "data": {
      "image/png": "[encoded data removed]",
      "text/plain": [
       "<Figure size 450x300 with 1 Axes>"
      ]
     },
     "metadata": {},
     "output_type": "display_data"
    }
   ],
   "source": [
    "plt.imshow(mp(mp(mp(img))).squeeze(),cmap=\"gray\")"
   ]
  },
  {
   "cell_type": "markdown",
   "id": "4ce859d8-816d-465f-b855-4f6f68f96c21",
   "metadata": {},
   "source": [
    "> 특징이 엄청나게 커짐 -> `MaxPooling`은 이미지를 \"캐리커쳐화\" 한다고 비유할 수 있음. 디테일은 버리고, 중요한 특징만 뽑아서 과장되게 요약\n",
    ">\n",
    "> 근데 이러면 기존 피처를 다 없애버리는 게 아닌가... 아님말고..."
   ]
  },
  {
   "cell_type": "markdown",
   "id": "988b986b-96bd-489a-9cb3-b18130d66d42",
   "metadata": {},
   "source": [
    "> 컨볼루션은 그림을 뭉개는 느낌이 있지만, 얘는 중요한 정보를 손실시키지 않으려고 함"
   ]
  },
  {
   "cell_type": "markdown",
   "id": "00c2af3f-2989-4fe4-a725-96cc40d72840",
   "metadata": {},
   "source": [
    "`-` CNN\n",
    "\n",
    "--> 2D : flatten 이전 (Conv -> ReLU -> MaxPooling : 특징을 뽑고, 다변화하고, 요약한다)\n",
    "-\n",
    "\n",
    "--> 1D : 단순신경망\n",
    "-"
   ]
  },
  {
   "cell_type": "markdown",
   "id": "9d2a0f22-a33f-44a9-b0bc-7f015a5d96f7",
   "metadata": {},
   "source": [
    "## 5. FashionMNIST"
   ]
  },
  {
   "cell_type": "markdown",
   "id": "81025722-c2ca-4d32-a184-12e79da493e8",
   "metadata": {},
   "source": [
    "`-` 데이터"
   ]
  },
  {
   "cell_type": "code",
   "execution_count": 153,
   "id": "2d666118-2080-4552-b4ee-3e10b1b11033",
   "metadata": {},
   "outputs": [],
   "source": [
    "train_dataset = torchvision.datasets.FashionMNIST(root='./data', train=True, download=True)\n",
    "train_dataset = torch.utils.data.Subset(train_dataset, range(5000))\n",
    "to_tensor = torchvision.transforms.ToTensor()\n",
    "X = torch.stack([to_tensor(img) for img, lbl in train_dataset]).to(\"cuda:0\")\n",
    "y = torch.tensor([lbl for img, lbl in train_dataset])\n",
    "y = torch.nn.functional.one_hot(y).float().to(\"cuda:0\")"
   ]
  },
  {
   "cell_type": "code",
   "execution_count": 154,
   "id": "8d753f6b-8b53-48c7-ab48-f3bed34b90de",
   "metadata": {},
   "outputs": [
    {
     "data": {
      "text/plain": [
       "<matplotlib.image.AxesImage at 0x7f0fae7f1a30>"
      ]
     },
     "execution_count": 154,
     "metadata": {},
     "output_type": "execute_result"
    },
    {
     "data": {
      "image/png": "[encoded data removed]",
      "text/plain": [
       "<Figure size 450x300 with 1 Axes>"
      ]
     },
     "metadata": {},
     "output_type": "display_data"
    }
   ],
   "source": [
    "plt.imshow(X[0].squeeze().cpu(), cmap = \"gray\")"
   ]
  },
  {
   "cell_type": "markdown",
   "id": "00e7c382-f95b-4990-a825-1ecb8c169a87",
   "metadata": {},
   "source": [
    "`-` 2d를 처리하고 flatten하는 네트워크"
   ]
  },
  {
   "cell_type": "code",
   "execution_count": 161,
   "id": "7099b29b-4204-446b-ad30-748093504645",
   "metadata": {},
   "outputs": [],
   "source": [
    "net1 = torch.nn.Sequential(\n",
    "    torch.nn.Conv2d(in_channels = 1, out_channels = 16, kernel_size = 5), ## out_channel에서 복잡도 확보\n",
    "    torch.nn.ReLU(),\n",
    "    torch.nn.MaxPool2d(kernel_size = 2), ## 커널 사이즈는 몰라요. 그냥 하이퍼 파라미터임\n",
    "    ##-----여기서 한번 더 위 레이어를 반복할 수 있음-----##\n",
    "    torch.nn.Flatten()\n",
    ").to(\"cuda:0\")"
   ]
  },
  {
   "cell_type": "code",
   "execution_count": 162,
   "id": "2e0b6d6b-4539-46fd-b42b-1db1bfc86eff",
   "metadata": {},
   "outputs": [
    {
     "data": {
      "text/plain": [
       "torch.Size([5000, 2304])"
      ]
     },
     "execution_count": 162,
     "metadata": {},
     "output_type": "execute_result"
    }
   ],
   "source": [
    "net1(X).shape"
   ]
  },
  {
   "cell_type": "markdown",
   "id": "7c9d9cd4-659c-47e0-83e0-5399a30b4b8d",
   "metadata": {},
   "source": [
    "> 일단 16개의 캐릭터가 이미지를 잘 구분하리라고 생각하는거임"
   ]
  },
  {
   "cell_type": "markdown",
   "id": "00087306-4cf6-4995-b535-68fb70d1be8b",
   "metadata": {},
   "source": [
    "`-` 1d를 처리하는 네트워크"
   ]
  },
  {
   "cell_type": "code",
   "execution_count": 163,
   "id": "8466e77d-7d95-4b6c-b1ef-61ab962ed07b",
   "metadata": {},
   "outputs": [],
   "source": [
    "net2 = torch.nn.Sequential(\n",
    "    torch.nn.Linear(2304, 10), ## 변수 23040 + 2304 여기 층을 늘릴바엔 컨볼루션을 더 잘 하겠단 마인드...\n",
    "    # torch.nn.Linear(2304, 512),\n",
    "    # torch.nn.ReLU(),\n",
    "    # torch.nn.Linear(512, 0)\n",
    ").to(\"cuda:0\")"
   ]
  },
  {
   "cell_type": "code",
   "execution_count": 165,
   "id": "91cfc124-6a5f-4c68-9e80-9355816196f8",
   "metadata": {},
   "outputs": [
    {
     "data": {
      "text/plain": [
       "torch.Size([5000, 10])"
      ]
     },
     "execution_count": 165,
     "metadata": {},
     "output_type": "execute_result"
    }
   ],
   "source": [
    "net2(net1(X)).shape"
   ]
  },
  {
   "cell_type": "markdown",
   "id": "954a4967-163c-470c-91a0-1ec6589850a3",
   "metadata": {},
   "source": [
    "`-` 두 네트워크를 결합"
   ]
  },
  {
   "cell_type": "code",
   "execution_count": 166,
   "id": "4399bb30-472f-4830-8472-9329f767e37b",
   "metadata": {},
   "outputs": [],
   "source": [
    "net = torch.nn.Sequential(\n",
    "    net1,\n",
    "    net2\n",
    ")\n",
    "\n",
    "loss_fn = torch.nn.CrossEntropyLoss() ## MultiClassification\n",
    "optimizr = torch.optim.Adam(net.parameters())"
   ]
  },
  {
   "cell_type": "code",
   "execution_count": 167,
   "id": "e5458c16-13d8-4401-8824-77151317a343",
   "metadata": {},
   "outputs": [],
   "source": [
    "##---##\n",
    "for epoc in range(100) :\n",
    "    netout = net(X) ## logits\n",
    "    loss = loss_fn(netout, y)\n",
    "    loss.backward()\n",
    "    optimizr.step()\n",
    "    optimizr.zero_grad()"
   ]
  },
  {
   "cell_type": "code",
   "execution_count": 172,
   "id": "4dfdce59-0a39-4b84-a944-8e13092d39ca",
   "metadata": {},
   "outputs": [
    {
     "data": {
      "text/plain": [
       "tensor(0.8736, device='cuda:0')"
      ]
     },
     "execution_count": 172,
     "metadata": {},
     "output_type": "execute_result"
    }
   ],
   "source": [
    "(net(X).argmax(axis = 1) == y.argmax(axis = 1)).float().mean()"
   ]
  },
  {
   "cell_type": "markdown",
   "id": "59543f2e-a57e-4337-8049-d6df1f8ce617",
   "metadata": {},
   "source": [
    "> 아무튼 네트워크를 설계할 때, `Conv2d`, `MaxPool2d`, `Flatten`, `Linear`, `ReLU`가 각각 뭘 하는지를 알아야"
   ]
  },
  {
   "cell_type": "code",
   "execution_count": null,
   "id": "af2f7550-5588-4cd9-97a4-2f86e09ab02f",
   "metadata": {},
   "outputs": [],
   "source": []
  }
 ],
 "metadata": {
  "kernelspec": {
   "display_name": "Python 3 (ipykernel)",
   "language": "python",
   "name": "python3"
  },
  "language_info": {
   "codemirror_mode": {
    "name": "ipython",
    "version": 3
   },
   "file_extension": ".py",
   "mimetype": "text/x-python",
   "name": "python",
   "nbconvert_exporter": "python",
   "pygments_lexer": "ipython3",
   "version": "3.9.18"
  }
 },
 "nbformat": 4,
 "nbformat_minor": 5
}
