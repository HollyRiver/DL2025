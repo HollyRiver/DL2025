{
  "cells": [
    {
      "cell_type": "markdown",
      "metadata": {},
      "source": [
        "# A1: Exercise\n",
        "\n",
        "최규빈  \n",
        "2025-01-01\n",
        "\n",
        "<a href=\"https://colab.research.google.com/github/guebin/DL2025/blob/main/posts/exercise.ipynb\"><img src=\"https://colab.research.google.com/assets/colab-badge.svg\" style=\"text-align: left\"></a>\n",
        "\n",
        "> 문제풀이에 필요한 모듈은 스스로 `import` 할 것\n",
        "\n",
        "## `$`. 벡터와 행렬\n",
        "\n",
        "`(1)` 아래와 같이 length 5 인 vector를 `torch.tensor`로 선언하는 코드를\n",
        "작성하라.\n",
        "\n",
        "$${\\bf x} = [1,2,3,4,5]$$\n",
        "\n",
        "`(풀이)`"
      ],
      "id": "f8ca3b1f-9cf7-4f17-9b8c-19e9ff77cbe4"
    },
    {
      "cell_type": "code",
      "execution_count": 2,
      "metadata": {},
      "outputs": [],
      "source": [
        "x = torch.tensor([1,2,3,4,5])\n",
        "x"
      ],
      "id": "8ba6c91a-505e-4ba4-a97b-42a6893aa1ef"
    },
    {
      "cell_type": "markdown",
      "metadata": {},
      "source": [
        "`(2)` 아래와 같은 2x2 matrix 를 `torch.tensor`로 선언하는 코드를\n",
        "작성하라.\n",
        "\n",
        "$${\\bf A} = \\begin{bmatrix} 1 & 2 \\\\ 3 & 4 \\end{bmatrix}$$\n",
        "\n",
        "`(3)` 아래와 같은 matrix 를 `torch.tensor`로 선언하는 코드를 작성하라.\n",
        "\n",
        "$${\\bf W} = \\begin{bmatrix} 2.5  \\\\  4 \\end{bmatrix}$$\n",
        "\n",
        "`(4)` 아래와 같은 matrix 를 `torch.tensor`로 선언하는 코드를 작성하라.\n",
        "\n",
        "$${\\bf x} = \\begin{bmatrix} 2.5  & 4 \\end{bmatrix}$$\n",
        "\n",
        "## `$`. concat, stack\n",
        "\n",
        "a,b가 아래와 같이 주어졌다고 하자."
      ],
      "id": "adaa7da6-1f2d-4cfd-a8c1-5fb3066513bb"
    },
    {
      "cell_type": "code",
      "execution_count": 9,
      "metadata": {},
      "outputs": [],
      "source": [
        "a = torch.tensor([1]*10)\n",
        "b = torch.tensor([2]*10)"
      ],
      "id": "a8da07e4-f27b-4905-b8a7-01356ea9a86d"
    },
    {
      "cell_type": "markdown",
      "metadata": {},
      "source": [
        "아래를 잘 읽고 물음에 답하라.\n",
        "\n",
        "`(1)` 주어진 a,b와 `torch.concat`를 이용하여 아래와 같은 배열을\n",
        "만들어라.\n",
        "\n",
        "    tensor([1, 1, 1, 1, 1, 1, 1, 1, 1, 1, 2, 2, 2, 2, 2, 2, 2, 2, 2, 2])"
      ],
      "id": "0c29269e-8b0e-49ca-a0d4-d0ac67dbedbc"
    },
    {
      "cell_type": "code",
      "execution_count": 16,
      "metadata": {},
      "outputs": [],
      "source": [
        "torch.concat([a.reshape(-1,1), b.reshape(-1,1)])"
      ],
      "id": "0504134c-c396-4258-80ab-84eead0b5fa3"
    },
    {
      "cell_type": "markdown",
      "metadata": {},
      "source": [
        "`(2)` 주어진 a,b 와 `torch.concat`,`.reshape`를 이용하여 아래와 같은\n",
        "배열을 만들어라.\n",
        "\n",
        "    tensor([[1],\n",
        "            [1],\n",
        "            [1],\n",
        "            [1],\n",
        "            [1],\n",
        "            [1],\n",
        "            [1],\n",
        "            [1],\n",
        "            [1],\n",
        "            [1],\n",
        "            [2],\n",
        "            [2],\n",
        "            [2],\n",
        "            [2],\n",
        "            [2],\n",
        "            [2],\n",
        "            [2],\n",
        "            [2],\n",
        "            [2],\n",
        "            [2]])\n",
        "\n",
        "`(3)` 주어진 a,b 와 `torch.concat`,`.reshape`를 이용하여 아래와 같은\n",
        "배열을 만들어라.\n",
        "\n",
        "    tensor([[1, 2],\n",
        "            [1, 2],\n",
        "            [1, 2],\n",
        "            [1, 2],\n",
        "            [1, 2],\n",
        "            [1, 2],\n",
        "            [1, 2],\n",
        "            [1, 2],\n",
        "            [1, 2],\n",
        "            [1, 2]])\n",
        "\n",
        "`(4)` 주어진 a,b와 `torch.stack` 을 이용하여 아래와 같은 배열을\n",
        "만들어라.\n",
        "\n",
        "    tensor([[1, 1, 1, 1, 1, 1, 1, 1, 1, 1],\n",
        "            [2, 2, 2, 2, 2, 2, 2, 2, 2, 2]]\n",
        "\n",
        "`(5)` 주어진 a,b와 `torch.stack`을 이용하여 아래와 같은 배열을 만들어라.\n",
        "\n",
        "    tensor([[1, 2],\n",
        "            [1, 2],\n",
        "            [1, 2],\n",
        "            [1, 2],\n",
        "            [1, 2],\n",
        "            [1, 2],\n",
        "            [1, 2],\n",
        "            [1, 2],\n",
        "            [1, 2],\n",
        "            [1, 2]])\n",
        "\n",
        "## `$`. 행렬곱\n",
        "\n",
        "`(1)` 아래와 같은 텐서를 고려하자."
      ],
      "id": "6fe4c3a7-8a38-4e9b-81b2-0dd1367d580b"
    },
    {
      "cell_type": "code",
      "execution_count": 3,
      "metadata": {},
      "outputs": [],
      "source": [
        "a = torch.tensor([1,2,3,4,5]).reshape(-1,1)\n",
        "b = torch.tensor([3,2,1,1,2]).reshape(-1,1)"
      ],
      "id": "c24782f8-8150-4684-a25c-b362108c4fc8"
    },
    {
      "cell_type": "markdown",
      "metadata": {},
      "source": [
        "`@` 연산자를 이용하여 $\\sum_{i=1}^{5}a_ib_i$를 계산하라.\n",
        "\n",
        "`(풀이)`"
      ],
      "id": "8f776ac0-c803-4787-9158-d1b1298b8b79"
    },
    {
      "cell_type": "code",
      "execution_count": 4,
      "metadata": {},
      "outputs": [],
      "source": [
        "a.T @ b"
      ],
      "id": "6c5458ca-3f4a-4ff7-b33d-2a04d834efa3"
    },
    {
      "cell_type": "markdown",
      "metadata": {},
      "source": [
        "`(2)` 아래와 같은 텐서를 고려하자."
      ],
      "id": "50b01c83-13d3-44b6-81ac-0af2dc804f34"
    },
    {
      "cell_type": "code",
      "execution_count": 6,
      "metadata": {},
      "outputs": [],
      "source": [
        "torch.manual_seed(0)\n",
        "x = torch.randn(100).reshape(-1,1)"
      ],
      "id": "b1acadbf-49e3-4ae9-ab76-0d61136154af"
    },
    {
      "cell_type": "markdown",
      "metadata": {},
      "source": [
        "`@`연산자를 이용하여 $\\sum_{i=1}^{100}x_i^2$을 계산하라.\n",
        "\n",
        "## `$`. 인덱싱\n",
        "\n",
        "아래와 같은 배열을 선언하라."
      ],
      "id": "b0ddac4d-0011-499c-bf78-5ea2c04e0fed"
    },
    {
      "cell_type": "code",
      "execution_count": 23,
      "metadata": {
        "outputId": "52c92613-c738-4896-c465-74652a0b817e"
      },
      "outputs": [],
      "source": [
        "torch.manual_seed(1)\n",
        "x = torch.randn(12).reshape(3,4)\n",
        "x"
      ],
      "id": "8f35bb57-46ba-4c94-97a6-ae5e4424598a"
    },
    {
      "cell_type": "markdown",
      "metadata": {},
      "source": [
        "`(1)` 1열을 추출하는 코드를 작성하라. 즉 결과가 아래와 같이 나오도록\n",
        "하라.\n",
        "\n",
        "    tensor([[ 0.6614],\n",
        "            [-0.4519],\n",
        "            [-1.0276]])\n",
        "\n",
        "`(2)` 2-3열을 추출하는 코드를 작성하라. 즉 결과가 아래와 같이 나오도록\n",
        "하라.\n",
        "\n",
        "    tensor([[ 0.2669,  0.0617],\n",
        "            [-0.1661, -1.5228],\n",
        "            [-0.5631, -0.8923]])\n",
        "\n",
        "`(3)` 2-3행을 추출하는 코드를 작성하라. 즉 결과가 아래와 같이 나오도록\n",
        "하라.\n",
        "\n",
        "    tensor([[-0.4519, -0.1661, -1.5228,  0.3817],\n",
        "            [-1.0276, -0.5631, -0.8923, -0.0583]])\n",
        "\n",
        "## `$`. 회귀(DL2024-MID-3)\n",
        "\n",
        "> 이 문제의 경우 풀이가\n",
        "> <https://guebin.github.io/DL2024/posts/09wk-2.html#%EB%8B%A8%EC%88%9C%ED%9A%8C%EA%B7%80%EB%AC%B8%EC%A0%9C-10%EC%A0%90>\n",
        "> 에 있습니다.\n",
        "\n",
        "주어진 자료가 아래와 같다고 하자."
      ],
      "id": "4553c36a-523b-460d-9f2f-4ecde23a9c14"
    },
    {
      "cell_type": "code",
      "execution_count": 30,
      "metadata": {
        "tags": []
      },
      "outputs": [],
      "source": [
        "torch.manual_seed(43052)\n",
        "x,_ = torch.randn(100).sort()\n",
        "x = x.reshape(-1,1)\n",
        "ϵ = torch.randn(100).reshape(-1,1)*0.5\n",
        "y = 2.5+ 4*x + ϵ"
      ],
      "id": "867eace3-c083-4b09-821b-ce8e262f1966"
    },
    {
      "cell_type": "code",
      "execution_count": 31,
      "metadata": {
        "tags": []
      },
      "outputs": [
        {
          "output_type": "display_data",
          "metadata": {},
          "data": {
            "image/png": "[encoded data removed]"
          }
        }
      ],
      "source": [
        "plt.plot(x,y,'o')"
      ],
      "id": "2a17e4c1-f2e6-45c2-8a65-c7a66e20f82d"
    },
    {
      "cell_type": "markdown",
      "metadata": {},
      "source": [
        "`(1)` `torch.nn.Linear`를 이용하여 아래와 같은 최초의 직선을 생성하는\n",
        "네트워크를 설계하라.\n",
        "\n",
        "$$\\hat{y}_i = -5.0 + 10.0 x_i $$\n",
        "\n",
        "`(2)` 아래의 수식에 대응하는 `loss`를 계산하라. 여기에서 $\\hat{y}_i$은\n",
        "(1)의 결과로 얻은 값을 사용하라.\n",
        "\n",
        "$$loss = \\frac{1}{n}\\sum_{i=1}^{n}(y_i-\\hat{y}_i)^2$$\n",
        "\n",
        "`(3)` 적당한 matrix ${\\bf X}_{n\\times 2}$ 와 $\\hat{\\bf W}_{2\\times 1}$을\n",
        "정의하여 아래와 같이 $\\hat{y}_i$을 구하라.\n",
        "\n",
        "$$\\hat{y}_i = -5.0 + 5.0 x_i $$\n",
        "\n",
        "`(4)` 아래의 수식에 대응하는 `loss`를 계산하라. 여기에서 $\\hat{y}_i$은\n",
        "(3)의 결과로 얻은 값을 사용하라.\n",
        "\n",
        "$$loss = \\frac{1}{n}\\sum_{i=1}^{n}(y_i-\\hat{y}_i)^2$$\n",
        "\n",
        "`(5)` (2)에서 얻은 $\\hat{y}_i$ (4)에서 얻은 $\\hat{y}_i$ 중 무엇이 더\n",
        "적절하다고 생각하는가? 이유는 무엇인가? 손실(=loss)에 근거하여 설명하라.\n",
        "\n",
        "`(6)` `.backward()` 를 이용하여 (2)와 (4)에 해당하는 미분값을 계산하라.\n",
        "학습률이 0.01인 경사하강법을 이용하여 (1),(3) 에 대응하는 가중치를\n",
        "update 하라.\n",
        "\n",
        "## `$`. 회귀(5obs)\n",
        "\n",
        "아래와 같은 5개의 자료를 관측하였다고 가정하자.\n",
        "\n",
        "|     | x   | y    |\n",
        "|-----|-----|------|\n",
        "| 0   | 11  | 17.7 |\n",
        "| 1   | 12  | 18.5 |\n",
        "| 2   | 13  | 21.2 |\n",
        "| 3   | 14  | 23.6 |\n",
        "| 4   | 15  | 24.2 |\n",
        "\n",
        "$x$에서 $y$로 향하는 규칙을 찾기 위해 아래와 같은 모형을 고려하였다.\n",
        "($\\beta_0, \\beta_1$ 대신에 $w_0, w_1$ 이라 생각해도 무방)\n",
        "\n",
        "$$y_i = \\beta_0 + \\beta_1 x_i + \\epsilon_i, \\quad i =1,2,\\dots, n$$\n",
        "\n",
        "`(1)` $\\hat{\\beta}_0=3, \\hat{\\beta}_1=3$ 일 경우의 loss를 계산하라. 단,\n",
        "손실함수는 MSELoss로 설정한다.\n",
        "\n",
        "`(2)` $\\hat{\\beta}_0=3, \\hat{\\beta}_1=3$ 에서 손실함수의 미분계수를\n",
        "계산하라.\n",
        "\n",
        "`(3)` 아래의 제약사항을 준수하여 추정값\n",
        "$\\hat{\\beta}_0=3, \\hat{\\beta}_1=3$ 의 값을 1회 update하라.\n",
        "\n",
        "**제약사항**\n",
        "\n",
        "1.  `yhat = X@Bhat` 을 만족하는 적당한 `X`, `Bhat`을 선언하여 문제를 풀\n",
        "    것. (즉 `torch.nn.Linear()` 를 사용하지 말 것)\n",
        "2.  손실함수는 `torch.nn.MSELoss()`를 사용하지 말고 직접 손실을 구할 것\n",
        "3.  (확률적)경사하강법을 이용하여 update 하되 직접 수식을 입력할 것. 즉\n",
        "    `torch.optim.SGD()`를 사용하지 말 것.\n",
        "4.  학습률은 0.001로 설정할 것\n",
        "\n",
        "`(4)` 아래의 제약사항을 준수하여 추정값\n",
        "$\\hat{\\beta}_0=3, \\hat{\\beta}_1=3$ 의 값을 다시 1회 update하라. 결과를\n",
        "(3)과 비교하라 (동일결과가 나와야함)\n",
        "\n",
        "**제약사항**\n",
        "\n",
        "1.  `yhat = net(X)` 을 만족하는 적당한 `X`, `net`을 선언하여 문제를 풀\n",
        "    것. 이때 `net`는 `torch.nn.Linear(??,??,bias=False)` 를 사용하여\n",
        "    선언할 것.\n",
        "2.  손실함수는 `torch.nn.MSELoss()`를 사용하지 말고 직접 손실을 구할 것\n",
        "3.  (확률적)경사하강법을 이용하여 update 하되 직접 수식을 입력할 것. 즉\n",
        "    `torch.optim.SGD()`를 사용하지 말 것.\n",
        "4.  학습률은 0.001로 설정할 것\n",
        "\n",
        "`(5)` 아래의 제약사항을 준수하여 추정값\n",
        "$\\hat{\\beta}_0=3, \\hat{\\beta}_1=3$ 의 값을 다시 1회 update하라. 결과를\n",
        "(3)-(4)와 비교하라 (모두 동일결과가 나와야함)\n",
        "\n",
        "**제약사항**\n",
        "\n",
        "1.  `yhat = net(X)` 을 만족하는 적당한 `X`, `net`을 선언하여 문제를 풀\n",
        "    것. 이때 `net`는 `torch.nn.Linear(??,??,bias=False)` 를 사용하여\n",
        "    선언할 것.\n",
        "2.  손실함수는 `torch.nn.MSELoss()`를 사용하지 말고 직접 손실을 구할 것\n",
        "3.  `torch.optim.SGD()`를 이용하여 update할 것\n",
        "4.  학습률은 0.001로 설정할 것\n",
        "\n",
        "`(6)` 아래의 제약사항을 준수하여 추정값\n",
        "$\\hat{\\beta}_0=3, \\hat{\\beta}_1=3$ 의 값을 다시 1회 update하라. 결과를\n",
        "(3)-(5)와 비교하라 (모두 동일결과가 나와야함)\n",
        "\n",
        "**제약사항**\n",
        "\n",
        "1.  `yhat = net(x)` 을 만족하는 적당한 `x`, `net`을 선언하여 문제를 풀\n",
        "    것. 이때 `net`는 `torch.nn.Linear(??,??,bias=True)` 를 사용하여\n",
        "    선언할 것.\n",
        "2.  손실함수는 `torch.nn.MSELoss()`를 사용하지 말고 직접 손실을 구할 것\n",
        "3.  (확률적)경사하강법을 이용하여 update 하되 직접 수식을 입력할 것. 즉\n",
        "    `torch.optim.SGD()`를 사용하지 말 것.\n",
        "4.  학습률은 0.001로 설정할 것\n",
        "\n",
        "## `$`. 회귀(2d)\n",
        "\n",
        "아래의 데이터를 고려하자."
      ],
      "id": "cd43ffca-3f38-487d-8310-52b7c52584e1"
    },
    {
      "cell_type": "code",
      "execution_count": 22,
      "metadata": {},
      "outputs": [],
      "source": [
        "df = pd.read_csv(\"https://raw.githubusercontent.com/guebin/DL2025/main/posts/regression_2d.csv\")\n",
        "x1 = torch.tensor(df.x1).float().reshape(-1,1)\n",
        "x2 = torch.tensor(df.x2).float().reshape(-1,1)\n",
        "y = torch.tensor(df.y).float().reshape(-1,1)"
      ],
      "id": "8582aa72"
    },
    {
      "cell_type": "markdown",
      "metadata": {},
      "source": [
        "$x_1, x_2$ 에서 $y$로 향하는 규칙을 찾기 위해 아래와 같은 모형을\n",
        "고려하였다. ($\\beta_0,\\beta_1,\\beta_2$ 대신에 $w_0, w_1, w_2$ 라고\n",
        "생각해도 무방)\n",
        "\n",
        "$$y_i = \\beta_0 + \\beta_1 x_{i1} + \\beta_2 x_{i2} + \\epsilon_i \\quad i = 1, 2, \\ldots, n$$\n",
        "\n",
        "`(1)` 아래의 제약사항에 맞추어서 $\\beta_0,\\beta_1,\\beta_2$의 값을\n",
        "추정하라.\n",
        "\n",
        "**제약사항**\n",
        "\n",
        "1.  `yhat = X@Bhat` 을 만족하는 적당한 `X`, `Bhat`을 선언하여 문제를 풀\n",
        "    것. (즉 `torch.nn.Linear()` 를 사용하지 말 것)\n",
        "2.  손실함수는 MSE로 설정하되 `torch.nn.MSELoss()`를 사용하지 말고 직접\n",
        "    손실을 구할 것\n",
        "3.  (확률적)경사하강법을 이용하여 update 하되 직접 수식을 입력할 것. 즉\n",
        "    `torch.optim.SGD()`를 사용하지 말 것.\n",
        "\n",
        "**hint**: 참값은 $\\beta_0=2.5, \\beta_1=4 , \\beta_2= -2$ 임\n",
        "\n",
        "`(2)` (1)에서 구한 `X`에 대하여 아래의 수식을 이용하여 추정값을\n",
        "구하여라.\n",
        "\n",
        "$$\\hat{\\boldsymbol \\beta}^{LSE} = \\begin{bmatrix} \\hat{\\beta}_0^{LSE} \\\\  \\hat{\\beta}_1^{LSE} \\\\  \\hat{\\beta}_2^{LSE}\\end{bmatrix} = ({\\bf X}^\\top {\\bf X})^{-1}{\\bf X}^\\top {\\bf y}$$\n",
        "\n",
        "(1)에서 추정한 값과 비교하라. 비슷한가?\n",
        "\n",
        "**hint**: (1)과 (2)의 추정값은 거의 같아야합니다..\n",
        "\n",
        "`(3)` 이 문제에서 모수의 참값은 $\\beta_0=2.5, \\beta_1=4 , \\beta_2= -2$\n",
        "이다. `epoch`을 증가할수록 (1)에서 추정된 값은 참값에 근접해갈까?\n",
        "(`epoch`을 무한대로 하면 결국 참값에 수렴할까?)\n",
        "\n",
        "`(4)` 아래의 제약사항에 맞추어서 $\\beta_0,\\beta_1,\\beta_2$의 값을 다시\n",
        "추정하라.\n",
        "\n",
        "**제약사항**\n",
        "\n",
        "1.  `yhat = net(X)` 을 만족하는 적당한 `X`, `net`을 선언하여 문제를 풀\n",
        "    것. 이때 `net`는 `torch.nn.Linear(??,??,bias=False)` 를 사용하여\n",
        "    선언할 것.\n",
        "2.  `torch.nn.MSELoss()`를 이용하여 손실을 구할 것\n",
        "3.  `torch.optim.SGD()`를 이용하여 update할 것\n",
        "\n",
        "`(5)` 아래의 제약사항에 맞추어서 $\\beta_0,\\beta_1,\\beta_2$의 값을 다시\n",
        "추정하라.\n",
        "\n",
        "**제약사항**\n",
        "\n",
        "1.  `yhat = net(X)` 을 만족하는 적당한 `X`, `net`을 선언하여 문제를 풀\n",
        "    것. 이때 `net`는 `torch.nn.Linear(??,??,bias=True)` 를 사용하여\n",
        "    선언할 것.\n",
        "2.  `torch.nn.MSELoss()`를 이용하여 손실을 구할 것\n",
        "3.  `torch.optim.SGD()`를 이용하여 update할 것\n",
        "\n",
        "## `$`. 회귀(DL2022-MID-2)\n",
        "\n",
        "> 이 문제의 경우 풀이가\n",
        "> <https://guebin.github.io/DL2022/posts/2022-10-28-9wk-1-midsol.html>\n",
        "> 에 있습니다.\n",
        "\n",
        "주어진 자료가 아래와 같다고 하자."
      ],
      "id": "3f9f20dd-18c8-4a09-afcd-edc98475fd1c"
    },
    {
      "cell_type": "code",
      "execution_count": 29,
      "metadata": {},
      "outputs": [],
      "source": [
        "torch.manual_seed(7676)\n",
        "x = torch.randn(100).sort().values\n",
        "ϵ = torch.randn(100)*0.5\n",
        "y = 2.5+ 4*x + ϵ"
      ],
      "id": "b5294ab7-2fdc-4bc0-828b-68e2227a90cf"
    },
    {
      "cell_type": "code",
      "execution_count": 8,
      "metadata": {},
      "outputs": [
        {
          "output_type": "display_data",
          "metadata": {},
          "data": {
            "image/png": "[encoded data removed]"
          }
        }
      ],
      "source": [
        "plt.plot(x,y,'o')"
      ],
      "id": "e9879c34-126f-459a-91d4-ca1d54a8d294"
    },
    {
      "cell_type": "markdown",
      "metadata": {},
      "source": [
        "아래와 같은 모형을 가정하고 물음에 답하라.\n",
        "\n",
        "$$y_i = w_0+w_1 x_i +\\epsilon_i, \\quad \\epsilon_i \\overset{iid}{\\sim} N(0,\\sigma^2)$$\n",
        "\n",
        "`(1)` ??를 적당하게 채워 아래와 같은 네트워크를 설정하고 최초의 예측값이\n",
        "$\\hat{y}_i=-5+10x_i$가 출력되도록 net의 가중치를 조정하라.\n",
        "\n",
        "``` python\n",
        "net = torch.nn.Linear(in_features=2,out_features=??,bias=??)\n",
        "```\n",
        "\n",
        "`(2)` 학습률은 0.1로 설정하고 torch.optim.Adam을 이용하여 optimizer를\n",
        "선언하라. $(\\hat{w}_0,\\hat{w}_1)=(-5,10)$에서 MSELoss의 미분계수\n",
        "$\\frac{\\partial}{\\partial {\\bf W}}loss(w_0,w_1) ~\\Big|_{~\\hat{w}_0,\\hat{w}_1}$를\n",
        "구하고 이를 바탕으로 $(\\hat{w}_0,\\hat{w}_1)$의 값을 1회 갱신하라. 계산된\n",
        "미분계수값과 갱신된 $(\\hat{w}_0,\\hat{w}_1)$의 값을 출력하라.\n",
        "\n",
        "`(4)` 학습률을 0.2로 설정하고 torch.optim.SGD를 이용하여 새로운\n",
        "optimizr를 선언하라. (3)의 결과로 총 5회 갱신된 값에 이어서 10회 추가로\n",
        "학습하라. 학습된 값은 얼마인가?\n",
        "\n",
        "`(5)` (4)의 수렴값이 학습이 잘 되었다고 생각하는가? 잘 되었다고 생각하면\n",
        "그 근거는 무엇인가? (단, $(w_0,w_1)$의 참값은 모른다고 가정한다)\n",
        "\n",
        "-   hint: 미분값을 근거로 대답할 것\n",
        "\n",
        "## `$`. 과잉매개변수(DL2022-ASS-2)\n",
        "\n",
        "> 이 내용은 overparameterized model에 대한 내용을 다루고 있습니다. 이\n",
        "> 문제의 경우는 풀이가\n",
        "> <https://guebin.github.io/DL2022/posts/II.%20DNN/2022-10-26-Assignment2.html>\n",
        "> 에 제공되어있습니다.\n",
        "\n",
        "> Overparameterized model은 03wk-1, 3-B 의 내용과도 관련 있습니다.\n",
        "\n",
        "아래와 같은 자료가 있다고 가정하자."
      ],
      "id": "bc9bc377-3162-4eac-9cb6-a42c48d96cf4"
    },
    {
      "cell_type": "code",
      "execution_count": 20,
      "metadata": {},
      "outputs": [],
      "source": [
        "x = torch.rand([1000,1])*2-1\n",
        "y = 3.14 + 6.28*x + torch.randn([1000,1]) "
      ],
      "id": "506b74fc-0854-4f66-8907-c710f0eb654c"
    },
    {
      "cell_type": "code",
      "execution_count": 21,
      "metadata": {},
      "outputs": [
        {
          "output_type": "display_data",
          "metadata": {},
          "data": {
            "image/png": "[encoded data removed]"
          }
        }
      ],
      "source": [
        "plt.plot(x,y,'o',alpha=0.1)"
      ],
      "id": "e6f40848-f6c2-4b5f-a8a9-399f3ec60445"
    },
    {
      "cell_type": "markdown",
      "metadata": {},
      "source": [
        "`(1)` 아래의 모형을 가정하고 $\\beta_0,\\beta_1$을 파이토치를 이용하여\n",
        "추정하라.\n",
        "\n",
        "-   $y_i = \\beta_0  + \\beta_1 x_i + \\epsilon_i,\\quad \\epsilon_i \\sim N(0,\\sigma^2)$\n",
        "\n",
        "`(2)` 아래의 모형을 가정하고 $\\beta_0$를 파이토치를 이용하여 추정하라.\n",
        "\n",
        "-   $y_i = \\beta_0  + \\epsilon_i,\\quad \\epsilon_i \\sim N(0,\\sigma^2)$\n",
        "\n",
        "`(3)` 아래의 모형을 가정하고 $\\beta_1$을 파이토치를 이용하여 추정하라.\n",
        "\n",
        "-   $y_i = \\beta_1x_i  + \\epsilon_i \\quad \\epsilon_i \\sim N(0,\\sigma^2)$\n",
        "\n",
        "`(4)` 아래의 모형을 가정하고 $\\alpha_0,\\beta_0,\\beta_1$을 파이토치를\n",
        "이용하여 추정하라.\n",
        "\n",
        "-   $y_i = \\alpha_0+\\beta_0+ \\beta_1x_i  + \\epsilon_i \\quad \\epsilon_i \\sim N(0,\\sigma^2)$\n",
        "\n",
        "$\\hat{\\alpha}_0+\\hat{\\beta}_0$은 얼마인가? 이 값과 문제 (1)에서 추정된\n",
        "$\\hat{\\beta_0}$의 값과 비교하여 보라.\n",
        "\n",
        "`(5)` 아래의 모형을 가정하고 $\\alpha_0,\\alpha_1,\\beta_0,\\beta_1$을\n",
        "파이토치를 이용하여 추정하라.\n",
        "\n",
        "-   $y_i = \\alpha_0+\\beta_0+ \\beta_1x_i + \\alpha_1x_i + \\epsilon_i \\quad \\epsilon_i \\sim N(0,\\sigma^2)$\n",
        "\n",
        "$\\hat{\\alpha}_0+\\hat{\\beta}_0$, $\\hat{\\alpha}_1 + \\hat{\\beta}_1$의 값은\n",
        "각각 얼마인가? 이 값들을 (1) 에서 추정된 $\\hat{\\beta}_0$,\n",
        "$\\hat{\\beta}_1$ 값들과 비교하라.\n",
        "\n",
        "`(6)` 다음은 위의 모형에 대하여 학생들이 discussion한 결과이다. 올바르게\n",
        "해석한 학생을 모두 골라라.\n",
        "\n",
        "**민정**: $(x_i,y_i)$의 산점도는 직선모양이고 직선의 절펴과 기울기 모두\n",
        "유의미해 보이므로 $y_i = \\beta_0 + \\beta_1 x_i$ 꼴을 적합하는게 좋겠다.\n",
        "\n",
        "**슬기**: 나도 그렇게 생각해. 그래서 (2)-(3)과 같이 기울기를 제외하고\n",
        "적합하거나 절편을 제외하고 적합하면 underfitting의 상황에 빠질 수 있어.\n",
        "\n",
        "**성재**: (2)의 경우 사실상 $\\bar{y}=\\frac{1}{n}\\sum_{i=1}^{n}y_i$를\n",
        "추정하는 것과 같아지게 되지.\n",
        "\n",
        "**세민**: (4)의 경우\n",
        "${\\bf X}=\\begin{bmatrix} 1  & x_1 \\\\ 1 & x_2 \\\\ \\dots & \\dots \\\\ 1 & x_n \\end{bmatrix}$\n",
        "와 같이 설정하고 네트워크를 아래와 같이 설정할 경우 얻어지는 모형이야.\n",
        "\n",
        "``` python\n",
        "net = torch.nn.Linear(in_features=2,out_features=1,bias=True)\n",
        "```\n",
        "\n",
        "**구환**: 모델 (4)-(5)는 표현력은 (1)과 동일하지만 추정할 파라메터는\n",
        "(1)보다 많으므로 효율적인 모델이라고 볼 수 없어."
      ],
      "id": "25aaef82-21ce-4869-b462-a50597edb3c0"
    }
  ],
  "nbformat": 4,
  "nbformat_minor": 5,
  "metadata": {
    "kernelspec": {
      "name": "python3",
      "display_name": "Python 3 (ipykernel)",
      "language": "python"
    },
    "language_info": {
      "name": "python",
      "codemirror_mode": {
        "name": "ipython",
        "version": "3"
      },
      "file_extension": ".py",
      "mimetype": "text/x-python",
      "nbconvert_exporter": "python",
      "pygments_lexer": "ipython3",
      "version": "3.9.21"
    }
  }
}