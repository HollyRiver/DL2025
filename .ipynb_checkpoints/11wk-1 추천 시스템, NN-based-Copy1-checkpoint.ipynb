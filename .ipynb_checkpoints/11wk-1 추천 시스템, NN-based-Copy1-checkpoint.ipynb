{
 "cells": [
  {
   "cell_type": "markdown",
   "id": "9bac18bf",
   "metadata": {},
   "source": [
    "# 11wk-1: (추천시스템) – Embedding 레이어, 사용자정의 네트워크, MF-based"
   ]
  },
  {
   "cell_type": "markdown",
   "id": "2a20c324",
   "metadata": {},
   "source": [
    "## 1. Imports"
   ]
  },
  {
   "cell_type": "code",
   "execution_count": 1,
   "id": "6caaef90",
   "metadata": {},
   "outputs": [],
   "source": [
    "import torch\n",
    "import pandas as pd\n",
    "import matplotlib.pyplot as plt"
   ]
  },
  {
   "cell_type": "code",
   "execution_count": 2,
   "id": "cfa9e448-08a7-4bfd-bca8-ae9807dda079",
   "metadata": {},
   "outputs": [],
   "source": [
    "plt.rcParams['figure.figsize'] = (4.5, 3.0)"
   ]
  },
  {
   "cell_type": "markdown",
   "id": "d77e86b8",
   "metadata": {},
   "source": [
    "## 2. 주요 코드 등"
   ]
  },
  {
   "cell_type": "markdown",
   "id": "2f1310ce-42aa-4944-8c52-8909c09f990c",
   "metadata": {},
   "source": [
    "## 3. `torch.nn.Embedding`"
   ]
  },
  {
   "cell_type": "markdown",
   "id": "c2a5447c-d7a4-4335-af23-4472af276db5",
   "metadata": {},
   "source": [
    "### **A. 임베딩레이어**"
   ]
  },
  {
   "cell_type": "markdown",
   "id": "e6aeca88-a86b-41d8-b3ab-7343b45dea47",
   "metadata": {},
   "source": [
    "`-` 모티브 : `torch.nn.functional.one_hot` + `torch.nn.Linear`를 매번 쓰는 건 너무 귀찮다!"
   ]
  },
  {
   "cell_type": "code",
   "execution_count": 3,
   "id": "4e46790b-5db4-4d71-aa18-2de87dc01c96",
   "metadata": {},
   "outputs": [
    {
     "data": {
      "text/plain": [
       "tensor([[-0.2002],\n",
       "        [-0.4890],\n",
       "        [ 0.2081],\n",
       "        [-0.2002],\n",
       "        [-0.4890]], grad_fn=<MmBackward0>)"
      ]
     },
     "execution_count": 3,
     "metadata": {},
     "output_type": "execute_result"
    }
   ],
   "source": [
    "torch.manual_seed(43052)\n",
    "#x  = ['옥순', '영숙', '하니', '옥순', '영숙'] \n",
    "x = torch.tensor([0,1,2,0,1])\n",
    "X = torch.nn.functional.one_hot(x).float()\n",
    "linr = torch.nn.Linear(3,1,bias=False)\n",
    "linr(X)"
   ]
  },
  {
   "cell_type": "markdown",
   "id": "98c28751-d755-4414-a4bb-cc2c08e4d42c",
   "metadata": {},
   "source": [
    "계산방식\n",
    "\n",
    "-   ${\\boldsymbol x}= \\begin{bmatrix} 0 \\\\ 1 \\\\ 2 \\\\ 0 \\\\ 1 \\end{bmatrix} \\Longrightarrow {\\bf X}= \\begin{bmatrix} 1 & 0 & 0 \\\\ 0 & 1 & 0 \\\\ 0 & 0 & 1 \\\\ 1 & 0 & 0 \\\\ 0 & 1 & 0 \\end{bmatrix}$\n",
    "\n",
    "-   $\\text{linr}({\\bf X})= \\begin{bmatrix} 1 & 0 & 0 \\\\ 0 & 1 & 0 \\\\ 0 & 0 & 1 \\\\ 1 & 0 & 0 \\\\ 0 & 1 & 0 \\end{bmatrix}\\begin{bmatrix} -0.2002 \\\\ -0.4890 \\\\ 0.2081 \\end{bmatrix} = \\begin{bmatrix} -0.2002 \\\\ -0.4890 \\\\ 0.2081 \\\\ -0.2002 \\\\ -0.4890 \\end{bmatrix}$\n",
    "\n",
    "`-` `torch.nn.functional.one_hot` + `torch.nn.Linear` 를 함께처리해주는\n",
    "레이어 `torch.nn.Embedding` 존재"
   ]
  },
  {
   "cell_type": "code",
   "execution_count": 4,
   "id": "e02fc42e-0c5e-4064-a46c-81139cda88db",
   "metadata": {},
   "outputs": [
    {
     "data": {
      "text/plain": [
       "tensor([[-0.2002],\n",
       "        [-0.4890],\n",
       "        [ 0.2081],\n",
       "        [-0.2002],\n",
       "        [-0.4890]], grad_fn=<EmbeddingBackward0>)"
      ]
     },
     "execution_count": 4,
     "metadata": {},
     "output_type": "execute_result"
    }
   ],
   "source": [
    "#x  = ['옥순', '영숙', '하니', '옥순', '영숙'] \n",
    "x = torch.tensor([0,1,2,0,1])\n",
    "ebdd = torch.nn.Embedding(3,1)\n",
    "ebdd.weight.data = torch.tensor([[-0.2002],[-0.4890],[0.2081]])\n",
    "ebdd(x)"
   ]
  },
  {
   "cell_type": "markdown",
   "id": "f6366d1d-c8de-492b-b262-ea93cdb28684",
   "metadata": {},
   "source": [
    "-   $\\text{ebdd}({\\boldsymbol x})= \\text{linr}\\big(\\text{onehot}({\\boldsymbol x})\\big) = \\begin{bmatrix} 1 & 0 & 0 \\\\ 0 & 1 & 0 \\\\ 0 & 0 & 1 \\\\ 1 & 0 & 0 \\\\ 0 & 1 & 0 \\end{bmatrix}\\begin{bmatrix} -0.2002 \\\\ -0.4890 \\\\ 0.2081 \\end{bmatrix} = \\begin{bmatrix} -0.2002 \\\\ -0.4890 \\\\ 0.2081 \\\\ -0.2002 \\\\ -0.4890 \\end{bmatrix}$\n",
    "\n",
    "-   우리가 이전에 구현했던 코드 “onehot + linr” 와 “ebdd”는 정확하게\n",
    "    동일한 동작을 수행함.\n",
    "\n",
    "`-` 결론: 아래의 두개의 코드는 같다.\n",
    "\n",
    "``` python\n",
    "x= torch.tensor([0,1,2,0,1])\n",
    "\n",
    "## 코드1 \n",
    "linr = torch.nn.Linear(3,1) \n",
    "linr(torch.nn.functional.one_hot(x))\n",
    "\n",
    "## 코드2 \n",
    "ebdd = torch.nn.Embedding(3,1)\n",
    "ebdd(x) \n",
    "```\n",
    "\n",
    "### **B. MF-based 추천시스템 재설계**\n",
    "\n",
    "아래의 자료를 활용하여 추천시스템을 설계하고자한다."
   ]
  },
  {
   "cell_type": "code",
   "execution_count": 5,
   "id": "ed369a75-e5e2-4053-850f-c75ce49d97fa",
   "metadata": {},
   "outputs": [
    {
     "data": {
      "text/html": [
       "<div>\n",
       "<style scoped>\n",
       "    .dataframe tbody tr th:only-of-type {\n",
       "        vertical-align: middle;\n",
       "    }\n",
       "\n",
       "    .dataframe tbody tr th {\n",
       "        vertical-align: top;\n",
       "    }\n",
       "\n",
       "    .dataframe thead th {\n",
       "        text-align: right;\n",
       "    }\n",
       "</style>\n",
       "<table border=\"1\" class=\"dataframe\">\n",
       "  <thead>\n",
       "    <tr style=\"text-align: right;\">\n",
       "      <th></th>\n",
       "      <th>영식(IN)</th>\n",
       "      <th>영철(IN)</th>\n",
       "      <th>영호(IS)</th>\n",
       "      <th>광수(IS)</th>\n",
       "      <th>상철(EN)</th>\n",
       "      <th>영수(EN)</th>\n",
       "      <th>규빈(ES)</th>\n",
       "      <th>다호(ES)</th>\n",
       "    </tr>\n",
       "  </thead>\n",
       "  <tbody>\n",
       "    <tr>\n",
       "      <th>옥순(IN)</th>\n",
       "      <td>NaN</td>\n",
       "      <td>4.02</td>\n",
       "      <td>3.45</td>\n",
       "      <td>3.42</td>\n",
       "      <td>0.84</td>\n",
       "      <td>1.12</td>\n",
       "      <td>0.43</td>\n",
       "      <td>0.49</td>\n",
       "    </tr>\n",
       "    <tr>\n",
       "      <th>영자(IN)</th>\n",
       "      <td>3.93</td>\n",
       "      <td>3.99</td>\n",
       "      <td>3.63</td>\n",
       "      <td>3.43</td>\n",
       "      <td>0.98</td>\n",
       "      <td>0.96</td>\n",
       "      <td>0.52</td>\n",
       "      <td>NaN</td>\n",
       "    </tr>\n",
       "    <tr>\n",
       "      <th>정숙(IS)</th>\n",
       "      <td>3.52</td>\n",
       "      <td>3.42</td>\n",
       "      <td>4.05</td>\n",
       "      <td>4.06</td>\n",
       "      <td>0.39</td>\n",
       "      <td>NaN</td>\n",
       "      <td>0.93</td>\n",
       "      <td>0.99</td>\n",
       "    </tr>\n",
       "    <tr>\n",
       "      <th>영숙(IS)</th>\n",
       "      <td>3.43</td>\n",
       "      <td>3.57</td>\n",
       "      <td>NaN</td>\n",
       "      <td>3.95</td>\n",
       "      <td>0.56</td>\n",
       "      <td>0.52</td>\n",
       "      <td>0.89</td>\n",
       "      <td>0.89</td>\n",
       "    </tr>\n",
       "    <tr>\n",
       "      <th>순자(EN)</th>\n",
       "      <td>1.12</td>\n",
       "      <td>NaN</td>\n",
       "      <td>0.59</td>\n",
       "      <td>0.43</td>\n",
       "      <td>4.01</td>\n",
       "      <td>4.16</td>\n",
       "      <td>3.52</td>\n",
       "      <td>3.38</td>\n",
       "    </tr>\n",
       "    <tr>\n",
       "      <th>현숙(EN)</th>\n",
       "      <td>0.94</td>\n",
       "      <td>1.05</td>\n",
       "      <td>0.32</td>\n",
       "      <td>0.45</td>\n",
       "      <td>4.02</td>\n",
       "      <td>3.78</td>\n",
       "      <td>NaN</td>\n",
       "      <td>3.54</td>\n",
       "    </tr>\n",
       "    <tr>\n",
       "      <th>서연(ES)</th>\n",
       "      <td>0.51</td>\n",
       "      <td>0.56</td>\n",
       "      <td>0.88</td>\n",
       "      <td>0.89</td>\n",
       "      <td>3.50</td>\n",
       "      <td>3.64</td>\n",
       "      <td>4.04</td>\n",
       "      <td>4.10</td>\n",
       "    </tr>\n",
       "    <tr>\n",
       "      <th>보람(ES)</th>\n",
       "      <td>0.48</td>\n",
       "      <td>0.51</td>\n",
       "      <td>1.03</td>\n",
       "      <td>NaN</td>\n",
       "      <td>3.52</td>\n",
       "      <td>4.00</td>\n",
       "      <td>3.82</td>\n",
       "      <td>NaN</td>\n",
       "    </tr>\n",
       "    <tr>\n",
       "      <th>하니(I)</th>\n",
       "      <td>4.85</td>\n",
       "      <td>4.82</td>\n",
       "      <td>NaN</td>\n",
       "      <td>4.98</td>\n",
       "      <td>4.53</td>\n",
       "      <td>4.39</td>\n",
       "      <td>4.45</td>\n",
       "      <td>4.52</td>\n",
       "    </tr>\n",
       "  </tbody>\n",
       "</table>\n",
       "</div>"
      ],
      "text/plain": [
       "        영식(IN)  영철(IN)  영호(IS)  광수(IS)  상철(EN)  영수(EN)  규빈(ES)  다호(ES)\n",
       "옥순(IN)     NaN    4.02    3.45    3.42    0.84    1.12    0.43    0.49\n",
       "영자(IN)    3.93    3.99    3.63    3.43    0.98    0.96    0.52     NaN\n",
       "정숙(IS)    3.52    3.42    4.05    4.06    0.39     NaN    0.93    0.99\n",
       "영숙(IS)    3.43    3.57     NaN    3.95    0.56    0.52    0.89    0.89\n",
       "순자(EN)    1.12     NaN    0.59    0.43    4.01    4.16    3.52    3.38\n",
       "현숙(EN)    0.94    1.05    0.32    0.45    4.02    3.78     NaN    3.54\n",
       "서연(ES)    0.51    0.56    0.88    0.89    3.50    3.64    4.04    4.10\n",
       "보람(ES)    0.48    0.51    1.03     NaN    3.52    4.00    3.82     NaN\n",
       "하니(I)     4.85    4.82     NaN    4.98    4.53    4.39    4.45    4.52"
      ]
     },
     "execution_count": 5,
     "metadata": {},
     "output_type": "execute_result"
    }
   ],
   "source": [
    "df_view = pd.read_csv('https://raw.githubusercontent.com/guebin/DL2025/main/posts/iamsolo.csv',index_col=0)\n",
    "df_view"
   ]
  },
  {
   "cell_type": "code",
   "execution_count": 6,
   "id": "f7bf1e30-fafc-4874-9ff8-c14fe21fe1b9",
   "metadata": {},
   "outputs": [],
   "source": [
    "df_train = df_view.stack().reset_index().set_axis(['W','M','y'],axis=1)\n",
    "여성인덱스 = {'옥순(IN)':0, '영자(IN)':1, '정숙(IS)':2, '영숙(IS)':3, '순자(EN)':4, '현숙(EN)':5, '서연(ES)':6, '보람(ES)':7, '하니(I)':8}\n",
    "남성인덱스 = {'영식(IN)':0, '영철(IN)':1, '영호(IS)':2, '광수(IS)':3, '상철(EN)':4, '영수(EN)':5, '규빈(ES)':6, '다호(ES)':7}\n",
    "x1 = torch.tensor(df_train['W'].map(여성인덱스)) # length-n int vector \n",
    "x2 = torch.tensor(df_train['M'].map(남성인덱스)) # length-n int vector \n",
    "y = torch.tensor(df_train['y']).float().reshape(-1,1) # (n,1) float vector"
   ]
  },
  {
   "cell_type": "markdown",
   "id": "5c446fdd-b02b-4dec-8fce-cca43d8e0cd9",
   "metadata": {},
   "source": [
    "임베딩레이어를 활용하여 MF-based 추천시스템을 설계하라.\n",
    "\n",
    "(풀이)"
   ]
  },
  {
   "cell_type": "code",
   "execution_count": 28,
   "id": "01db7ae5-91d7-4454-a4a9-490c0afe7e3c",
   "metadata": {},
   "outputs": [],
   "source": [
    "l1 = torch.nn.Embedding(9, 2)\n",
    "l2 = torch.nn.Embedding(8, 2)\n",
    "b1 = torch.nn.Embedding(9, 1)\n",
    "b2 = torch.nn.Embedding(8, 1)\n",
    "sig = torch.nn.Sigmoid()\n",
    "\n",
    "params = list(l1.parameters()) + list(l2.parameters()) + list(b1.parameters()) + list(b2.parameters())\n",
    "\n",
    "loss_fn = torch.nn.MSELoss()\n",
    "optimizr = torch.optim.Adam(params)\n",
    "\n",
    "#---#\n",
    "for epoc in range(5000) :\n",
    "    yhat = sig((l1(x1) * l2(x2)).sum(axis = 1).reshape(-1, 1) + b1(x1) + b2(x2))*5\n",
    "    loss = loss_fn(yhat, y)\n",
    "    loss.backward()\n",
    "    optimizr.step()\n",
    "    optimizr.zero_grad()"
   ]
  },
  {
   "cell_type": "code",
   "execution_count": 29,
   "id": "4d9948a4-621c-44b3-a44d-fbb30302902e",
   "metadata": {},
   "outputs": [
    {
     "data": {
      "text/plain": [
       "(tensor([[4.0200],\n",
       "         [3.4500],\n",
       "         [3.4200],\n",
       "         [0.8400],\n",
       "         [1.1200]]),\n",
       " tensor([[3.6909],\n",
       "         [3.5141],\n",
       "         [3.6594],\n",
       "         [0.7862],\n",
       "         [1.0189]], grad_fn=<SliceBackward0>))"
      ]
     },
     "execution_count": 29,
     "metadata": {},
     "output_type": "execute_result"
    }
   ],
   "source": [
    "y[:5], yhat[:5]"
   ]
  },
  {
   "cell_type": "markdown",
   "id": "ce5860ec-17cf-49e4-84e0-e3d939743254",
   "metadata": {},
   "source": [
    "## 4. 사용자 정의 네트워크"
   ]
  },
  {
   "cell_type": "markdown",
   "id": "606f8b2a-5008-4636-b7fd-d752e26e8437",
   "metadata": {},
   "source": [
    "### **A. 사용자 정의 네트워크 사용법**"
   ]
  },
  {
   "cell_type": "markdown",
   "id": "545034ab-07b8-4bfc-83cf-b812bae66df7",
   "metadata": {},
   "source": [
    "`# 예비학습 1` : `net(X)`와 `net.forward(X)`는 같다."
   ]
  },
  {
   "cell_type": "code",
   "execution_count": 30,
   "id": "171e3c9d-d69c-4891-8e13-9a79779c2f40",
   "metadata": {},
   "outputs": [],
   "source": [
    "net = torch.nn.Sequential(\n",
    "    torch.nn.Linear(1, 1),\n",
    "    torch.nn.Sigmoid()\n",
    ")\n",
    "X = torch.randn(5, 1)"
   ]
  },
  {
   "cell_type": "code",
   "execution_count": 33,
   "id": "4e67653c-d254-4e07-9c4d-9bea39e42910",
   "metadata": {},
   "outputs": [
    {
     "data": {
      "text/plain": [
       "(tensor([[0.2830],\n",
       "         [0.2863],\n",
       "         [0.2857],\n",
       "         [0.2849],\n",
       "         [0.2868]], grad_fn=<SigmoidBackward0>),\n",
       " tensor([[0.2830],\n",
       "         [0.2863],\n",
       "         [0.2857],\n",
       "         [0.2849],\n",
       "         [0.2868]], grad_fn=<SigmoidBackward0>))"
      ]
     },
     "execution_count": 33,
     "metadata": {},
     "output_type": "execute_result"
    }
   ],
   "source": [
    "net(X), net.forward(X)"
   ]
  },
  {
   "cell_type": "markdown",
   "id": "dbe80056-b454-447f-a6a1-fc2f9de0b886",
   "metadata": {},
   "source": [
    "> 그래서 `net.forward`를 오버라이딩하면 `net(X)`의 기능을 재정의할 수 있다."
   ]
  },
  {
   "cell_type": "markdown",
   "id": "16e484ab-6bc1-45fb-9bc2-d08179990d0c",
   "metadata": {},
   "source": [
    "`# 예비학습 2` : `torch.nn.Module`을 상속받아서 네트워크를 만들면 약속된 아키텍쳐를 가진 네트워크를 찍어내는 함수를 만들 수 있다."
   ]
  },
  {
   "cell_type": "markdown",
   "id": "a40b93b0-5b80-4b82-9488-a007e0ad4967",
   "metadata": {},
   "source": [
    "(예제 1) - `torch.nn.Module`의 상속을 이용하여 아래와 동일한 아키텍쳐를 가지는 네트워크를 설계하라."
   ]
  },
  {
   "cell_type": "code",
   "execution_count": 34,
   "id": "735f7885-4550-45c8-9c69-c2f720563024",
   "metadata": {},
   "outputs": [],
   "source": [
    "net = torch.nn.Sequential(\n",
    "    torch.nn.Linear(in_features=1,out_features=1,bias=True), # linr1\n",
    "    torch.nn.Sigmoid(),#sig\n",
    "    torch.nn.Linear(in_features=1,out_features=1,bias=False) # linr2 \n",
    ")"
   ]
  },
  {
   "cell_type": "code",
   "execution_count": 35,
   "id": "6108b13d-bfe0-40f0-8c98-e5db3779677d",
   "metadata": {},
   "outputs": [],
   "source": [
    "x = torch.tensor([[1.0]])"
   ]
  },
  {
   "cell_type": "code",
   "execution_count": 36,
   "id": "61ce259b-b41b-4c64-9c59-5705470346dc",
   "metadata": {},
   "outputs": [
    {
     "data": {
      "text/plain": [
       "tensor([[-0.0116]], grad_fn=<MmBackward0>)"
      ]
     },
     "execution_count": 36,
     "metadata": {},
     "output_type": "execute_result"
    }
   ],
   "source": [
    "net(x)"
   ]
  },
  {
   "cell_type": "markdown",
   "id": "ac1f1af2-8f15-48a1-ab6f-9931d5a9e3cc",
   "metadata": {},
   "source": [
    "(풀이)"
   ]
  },
  {
   "cell_type": "code",
   "execution_count": 37,
   "id": "ca49022d-be5a-4d74-85b0-a2eb662b0d6f",
   "metadata": {},
   "outputs": [],
   "source": [
    "class sig_net(torch.nn.Module) :\n",
    "    def __init__(self) :\n",
    "        super().__init__()\n",
    "        self.l1 = torch.nn.Linear(1, 1, bias = True)\n",
    "        self.sig = torch.nn.Sigmoid()\n",
    "        self.l2 = torch.nn.Linear(1, 1, bias = False)\n",
    "    def forward(self, x) :\n",
    "        netout = self.l2(self.sig(self.l1(x)))\n",
    "        return netout"
   ]
  },
  {
   "cell_type": "code",
   "execution_count": 40,
   "id": "b5ce9d8c-3cb3-4569-a760-24587e152435",
   "metadata": {},
   "outputs": [
    {
     "data": {
      "text/plain": [
       "tensor([[-0.0116]], grad_fn=<MmBackward0>)"
      ]
     },
     "execution_count": 40,
     "metadata": {},
     "output_type": "execute_result"
    }
   ],
   "source": [
    "mynet = sig_net()\n",
    "net(x)"
   ]
  },
  {
   "cell_type": "markdown",
   "id": "9fd99907-c44d-4949-b5c3-18034c567fe3",
   "metadata": {},
   "source": [
    "(예시 2) - `torch.nn.Moduele`의 상속을 이용하여 아래와 동일한 동작을 하는 네트워크를 설계하라."
   ]
  },
  {
   "cell_type": "code",
   "execution_count": 41,
   "id": "b5f71694-c205-400c-9515-b507684266ce",
   "metadata": {},
   "outputs": [],
   "source": [
    "net = torch.nn.Sequential(\n",
    "    torch.nn.Linear(in_features=1,out_features=1,bias=True),\n",
    "    torch.nn.ReLU(),\n",
    "    torch.nn.Linear(in_features=1,out_features=1,bias=False)\n",
    ")"
   ]
  },
  {
   "cell_type": "markdown",
   "id": "7db6b55c-cb2e-4810-979e-ef74f3194b55",
   "metadata": {},
   "source": [
    "(풀이)"
   ]
  },
  {
   "cell_type": "code",
   "execution_count": 43,
   "id": "93601a33-8ed8-4459-9097-76945dc15f11",
   "metadata": {},
   "outputs": [],
   "source": [
    "class relu_net(torch.nn.Module) :\n",
    "    def __init__(self) :\n",
    "        super().__init__()\n",
    "        linr1 = torch.nn.Linear(1, 1, bias = True)\n",
    "        relu = torch.nn.ReLU()\n",
    "        linr2 = torch.nn.Linear(1, 1, bias = False)\n",
    "\n",
    "    def forward(self, x) :\n",
    "        netout = linr2(relu(linr1(x)))\n",
    "        return netout"
   ]
  },
  {
   "cell_type": "markdown",
   "id": "ea7c0095-9992-4c04-a5f4-4fc877009bd9",
   "metadata": {},
   "source": [
    "> 그냥 인스턴스로 찍어낼 때 필요한 `__init__`을 원본 모듈에서 가져오고... 네트워크 선언 및 초기화 시켜주고... 결과를 반환하면 됨."
   ]
  },
  {
   "cell_type": "markdown",
   "id": "a9856874-6b00-4482-b0bf-1708ff86ed73",
   "metadata": {},
   "source": [
    "`#`\n",
    "\n",
    "`# 실습(2025-중간고사 4번)` : 자유 낙하 운동이란 어떤 물체가 일정한\n",
    "높이에서 떨어져 지면에 도달하기 까지 걸리는 시간을 다루는 물리학\n",
    "개념이다. 다음은 물리학의 자유 낙하 운동에서 착안하여 생성한 데이터이다."
   ]
  },
  {
   "cell_type": "code",
   "execution_count": 44,
   "id": "38c4d0fd-7710-4e47-a6c9-fb8d1e62099e",
   "metadata": {
    "vscode": {
     "languageId": "python"
    }
   },
   "outputs": [],
   "source": [
    "torch.manual_seed(43052)\n",
    "h = torch.rand(100)*100\n",
    "h,_ = h.sort()\n",
    "h = h.reshape(100,1)\n",
    "t = torch.sqrt(2*h/9.8) + torch.randn([100,1])*0.1"
   ]
  },
  {
   "cell_type": "markdown",
   "id": "91793f0a-4719-4410-809a-af398fcd152f",
   "metadata": {},
   "source": [
    "여기에서 $h$는 낙하전의 높이(단위: m), $t$는 해당높이에서 물치가 지면에\n",
    "도달하기 까지 걸리는 시간(단위:초)을 의미한다. 예를 들어 아래의 자료는\n",
    "$h=99.3920, t=4.4583$를 의미하는데"
   ]
  },
  {
   "cell_type": "code",
   "execution_count": 45,
   "id": "75c4c1a9-0640-42aa-b50a-01012d3aed7e",
   "metadata": {
    "vscode": {
     "languageId": "python"
    }
   },
   "outputs": [
    {
     "data": {
      "text/plain": [
       "(tensor([99.3920]), tensor([4.4583]))"
      ]
     },
     "execution_count": 45,
     "metadata": {},
     "output_type": "execute_result"
    }
   ],
   "source": [
    "h[-1], t[-1]"
   ]
  },
  {
   "cell_type": "markdown",
   "id": "f5a0eb7c-1b79-4bb9-981f-9450902ff13f",
   "metadata": {},
   "source": [
    "이것은 높이 $99.3920$m에서 낙하한 물체가 약 $4.4583$초만에 지면에\n",
    "도달했음을 의미한다. 아래의 그림은 $x$축에 $h$, $y$축에 $t$를 두고 해당\n",
    "데이터를 산점도로 시각화 한 것이다."
   ]
  },
  {
   "cell_type": "code",
   "execution_count": 46,
   "id": "3ab09437-2256-4a99-bbbf-50ad7aee33cd",
   "metadata": {
    "vscode": {
     "languageId": "python"
    }
   },
   "outputs": [
    {
     "data": {
      "image/png": "[encoded data removed]",
      "text/plain": [
       "<Figure size 450x300 with 1 Axes>"
      ]
     },
     "metadata": {},
     "output_type": "display_data"
    }
   ],
   "source": [
    "plt.plot(h,t,'o',alpha=0.5)\n",
    "plt.xlabel('Height (m)')\n",
    "plt.ylabel('Time to fall (sec)')\n",
    "plt.title('Free Fall Time vs Height')\n",
    "plt.grid(True)\n",
    "plt.show()"
   ]
  },
  {
   "cell_type": "markdown",
   "id": "c07822d6-12a6-4643-b02d-f76d7f7f4a65",
   "metadata": {},
   "source": [
    "그래프를 보면 높이가 높을 수록 낙하시간도 길어지는 경향이 관찰된다. 다만\n",
    "동일한 높이라 하더라도 낙하시간이 조금씩 차이나는 경우가 있는데, 이는\n",
    "사람이 시간측정을 수동으로 하며 발생하는 실험오차 때문이다. 이러한\n",
    "오차에도 불구하고 $h$와 $t$사이에는 일정한 규칙이 존재하는듯 하다.\n",
    "물리학과 교수님께 자문을 요청한 결과 자유낙하에 걸리는 시간은\n",
    "$\\sqrt{h}$에 비례함을 알 수 있었고 이를 근거로 아래와 같은 모형을\n",
    "설계하였다.\n",
    "\n",
    "$$t_i = \\beta_0 + \\beta_1 \\sqrt{h_i}+\\epsilon_i, \\quad \\epsilon_i \\sim {\\cal N}(0,\\sigma^2)$$\n",
    "\n",
    "위의 모형을 활용하여 높이 $h$로부터 낙하시간 $t$를 예측하는 신경망\n",
    "모델을 설계하고 학습하라. 학습한 신경망 모델을 활용하여 높이 40m,60m,80m\n",
    "에서 물체를 자유낙하 시켰을때 지면에 도달하기까지 걸리는 시간을 각각\n",
    "예측하라.\n",
    "\n",
    "(풀이)"
   ]
  },
  {
   "cell_type": "code",
   "execution_count": 62,
   "id": "1d71b9a5-e1fa-4d3d-900c-8d1b91fdf7aa",
   "metadata": {},
   "outputs": [],
   "source": [
    "class TempNet(torch.nn.Module) :\n",
    "    def __init__(self) :\n",
    "        super().__init__()\n",
    "        self.linr = torch.nn.Linear(1, 1, bias = True)\n",
    "\n",
    "    def forward(self, h) :\n",
    "        x = torch.sqrt(h)\n",
    "        netout = self.linr(x)\n",
    "\n",
    "        return netout"
   ]
  },
  {
   "cell_type": "code",
   "execution_count": 63,
   "id": "b3b4560d-b873-4afe-971a-24f4c88b9982",
   "metadata": {},
   "outputs": [],
   "source": [
    "net = TempNet()\n",
    "\n",
    "loss_fn = torch.nn.MSELoss()\n",
    "optimizr = torch.optim.Adam(net.parameters())\n",
    "\n",
    "#---#\n",
    "for epoc in range(3000) :\n",
    "    yhat = net(h)\n",
    "    loss = loss_fn(yhat, t)\n",
    "    loss.backward()\n",
    "    optimizr.step()\n",
    "    optimizr.zero_grad()"
   ]
  },
  {
   "cell_type": "code",
   "execution_count": 65,
   "id": "b31a8b4a-c2eb-4488-82ea-ccc7e95701d3",
   "metadata": {},
   "outputs": [
    {
     "data": {
      "image/png": "[encoded data removed]",
      "text/plain": [
       "<Figure size 450x300 with 1 Axes>"
      ]
     },
     "metadata": {},
     "output_type": "display_data"
    }
   ],
   "source": [
    "plt.plot(h,t,'o',alpha=0.5)\n",
    "plt.xlabel('Height (m)')\n",
    "plt.ylabel('Time to fall (sec)')\n",
    "plt.title('Free Fall Time vs Height')\n",
    "plt.plot(h,net(h).data,'--');"
   ]
  },
  {
   "cell_type": "code",
   "execution_count": 66,
   "id": "e4e1d1db-97c6-440a-bfc3-f628933d1f91",
   "metadata": {},
   "outputs": [
    {
     "data": {
      "text/plain": [
       "tensor([[2.0634],\n",
       "        [2.5010],\n",
       "        [2.8700],\n",
       "        [3.1950],\n",
       "        [3.4889],\n",
       "        [3.7591]], grad_fn=<AddmmBackward0>)"
      ]
     },
     "execution_count": 66,
     "metadata": {},
     "output_type": "execute_result"
    }
   ],
   "source": [
    "hh = torch.tensor([20,30,40,50,60,70]).reshape(6,1)\n",
    "net(hh)"
   ]
  },
  {
   "cell_type": "markdown",
   "id": "8976426a-d0d7-4173-93fb-ffabdd3757d0",
   "metadata": {},
   "source": [
    "### **B. MF-based 추천시스템 재설계**"
   ]
  },
  {
   "cell_type": "markdown",
   "id": "a8a7bcf8-76d2-471f-a367-08f93d516bd7",
   "metadata": {},
   "source": [
    "아래의 자료를 활용하여 추천시스템을 설계하고자 한다."
   ]
  },
  {
   "cell_type": "code",
   "execution_count": 69,
   "id": "4367c4d3-09c7-477d-9d10-0b87f3f1e4b9",
   "metadata": {
    "tags": []
   },
   "outputs": [
    {
     "data": {
      "text/html": [
       "<div>\n",
       "<style scoped>\n",
       "    .dataframe tbody tr th:only-of-type {\n",
       "        vertical-align: middle;\n",
       "    }\n",
       "\n",
       "    .dataframe tbody tr th {\n",
       "        vertical-align: top;\n",
       "    }\n",
       "\n",
       "    .dataframe thead th {\n",
       "        text-align: right;\n",
       "    }\n",
       "</style>\n",
       "<table border=\"1\" class=\"dataframe\">\n",
       "  <thead>\n",
       "    <tr style=\"text-align: right;\">\n",
       "      <th></th>\n",
       "      <th>영식(IN)</th>\n",
       "      <th>영철(IN)</th>\n",
       "      <th>영호(IS)</th>\n",
       "      <th>광수(IS)</th>\n",
       "      <th>상철(EN)</th>\n",
       "      <th>영수(EN)</th>\n",
       "      <th>규빈(ES)</th>\n",
       "      <th>다호(ES)</th>\n",
       "    </tr>\n",
       "  </thead>\n",
       "  <tbody>\n",
       "    <tr>\n",
       "      <th>옥순(IN)</th>\n",
       "      <td>NaN</td>\n",
       "      <td>4.02</td>\n",
       "      <td>3.45</td>\n",
       "      <td>3.42</td>\n",
       "      <td>0.84</td>\n",
       "      <td>1.12</td>\n",
       "      <td>0.43</td>\n",
       "      <td>0.49</td>\n",
       "    </tr>\n",
       "    <tr>\n",
       "      <th>영자(IN)</th>\n",
       "      <td>3.93</td>\n",
       "      <td>3.99</td>\n",
       "      <td>3.63</td>\n",
       "      <td>3.43</td>\n",
       "      <td>0.98</td>\n",
       "      <td>0.96</td>\n",
       "      <td>0.52</td>\n",
       "      <td>NaN</td>\n",
       "    </tr>\n",
       "    <tr>\n",
       "      <th>정숙(IS)</th>\n",
       "      <td>3.52</td>\n",
       "      <td>3.42</td>\n",
       "      <td>4.05</td>\n",
       "      <td>4.06</td>\n",
       "      <td>0.39</td>\n",
       "      <td>NaN</td>\n",
       "      <td>0.93</td>\n",
       "      <td>0.99</td>\n",
       "    </tr>\n",
       "    <tr>\n",
       "      <th>영숙(IS)</th>\n",
       "      <td>3.43</td>\n",
       "      <td>3.57</td>\n",
       "      <td>NaN</td>\n",
       "      <td>3.95</td>\n",
       "      <td>0.56</td>\n",
       "      <td>0.52</td>\n",
       "      <td>0.89</td>\n",
       "      <td>0.89</td>\n",
       "    </tr>\n",
       "    <tr>\n",
       "      <th>순자(EN)</th>\n",
       "      <td>1.12</td>\n",
       "      <td>NaN</td>\n",
       "      <td>0.59</td>\n",
       "      <td>0.43</td>\n",
       "      <td>4.01</td>\n",
       "      <td>4.16</td>\n",
       "      <td>3.52</td>\n",
       "      <td>3.38</td>\n",
       "    </tr>\n",
       "    <tr>\n",
       "      <th>현숙(EN)</th>\n",
       "      <td>0.94</td>\n",
       "      <td>1.05</td>\n",
       "      <td>0.32</td>\n",
       "      <td>0.45</td>\n",
       "      <td>4.02</td>\n",
       "      <td>3.78</td>\n",
       "      <td>NaN</td>\n",
       "      <td>3.54</td>\n",
       "    </tr>\n",
       "    <tr>\n",
       "      <th>서연(ES)</th>\n",
       "      <td>0.51</td>\n",
       "      <td>0.56</td>\n",
       "      <td>0.88</td>\n",
       "      <td>0.89</td>\n",
       "      <td>3.50</td>\n",
       "      <td>3.64</td>\n",
       "      <td>4.04</td>\n",
       "      <td>4.10</td>\n",
       "    </tr>\n",
       "    <tr>\n",
       "      <th>보람(ES)</th>\n",
       "      <td>0.48</td>\n",
       "      <td>0.51</td>\n",
       "      <td>1.03</td>\n",
       "      <td>NaN</td>\n",
       "      <td>3.52</td>\n",
       "      <td>4.00</td>\n",
       "      <td>3.82</td>\n",
       "      <td>NaN</td>\n",
       "    </tr>\n",
       "    <tr>\n",
       "      <th>하니(I)</th>\n",
       "      <td>4.85</td>\n",
       "      <td>4.82</td>\n",
       "      <td>NaN</td>\n",
       "      <td>4.98</td>\n",
       "      <td>4.53</td>\n",
       "      <td>4.39</td>\n",
       "      <td>4.45</td>\n",
       "      <td>4.52</td>\n",
       "    </tr>\n",
       "  </tbody>\n",
       "</table>\n",
       "</div>"
      ],
      "text/plain": [
       "        영식(IN)  영철(IN)  영호(IS)  광수(IS)  상철(EN)  영수(EN)  규빈(ES)  다호(ES)\n",
       "옥순(IN)     NaN    4.02    3.45    3.42    0.84    1.12    0.43    0.49\n",
       "영자(IN)    3.93    3.99    3.63    3.43    0.98    0.96    0.52     NaN\n",
       "정숙(IS)    3.52    3.42    4.05    4.06    0.39     NaN    0.93    0.99\n",
       "영숙(IS)    3.43    3.57     NaN    3.95    0.56    0.52    0.89    0.89\n",
       "순자(EN)    1.12     NaN    0.59    0.43    4.01    4.16    3.52    3.38\n",
       "현숙(EN)    0.94    1.05    0.32    0.45    4.02    3.78     NaN    3.54\n",
       "서연(ES)    0.51    0.56    0.88    0.89    3.50    3.64    4.04    4.10\n",
       "보람(ES)    0.48    0.51    1.03     NaN    3.52    4.00    3.82     NaN\n",
       "하니(I)     4.85    4.82     NaN    4.98    4.53    4.39    4.45    4.52"
      ]
     },
     "execution_count": 69,
     "metadata": {},
     "output_type": "execute_result"
    }
   ],
   "source": [
    "df_view = pd.read_csv('https://raw.githubusercontent.com/guebin/DL2024/main/posts/solo.csv',index_col=0)\n",
    "df_view"
   ]
  },
  {
   "cell_type": "markdown",
   "id": "809967a3-adee-416c-a394-2b9adacd597e",
   "metadata": {},
   "source": [
    "사용자정의 네트워크를 이용하여 MF-based 추천시스템을 설계하라.\n",
    "\n",
    "(풀이1) – `net(x1,x2)`"
   ]
  },
  {
   "cell_type": "code",
   "execution_count": 123,
   "id": "938c31d8-1e0e-4c3e-9d7c-5e5116ce3411",
   "metadata": {},
   "outputs": [],
   "source": [
    "temp_df = df_view.stack().reset_index().rename({\"level_0\" : \"x1\", \"level_1\" : \"x2\", 0 : \"y\"}, axis = 1)\n",
    "\n",
    "x1 = torch.tensor(temp_df.x1.map({v:i for i, v in enumerate(set(temp_df.x1))}))\n",
    "x2 = torch.tensor(temp_df.x2.map({v:i for i, v in enumerate(set(temp_df.x2))}))\n",
    "y = torch.tensor(temp_df.y).reshape(-1, 1).float()"
   ]
  },
  {
   "cell_type": "code",
   "execution_count": 124,
   "id": "121ab514-8940-43bd-94d1-04b6026cf6f6",
   "metadata": {},
   "outputs": [],
   "source": [
    "class MF_recommend(torch.nn.Module) :\n",
    "    def __init__(self) :\n",
    "        super().__init__()\n",
    "\n",
    "        self.ebdd1 = torch.nn.Embedding(9, 2)\n",
    "        self.ebdd2 = torch.nn.Embedding(8, 2)\n",
    "        self.bias1 = torch.nn.Embedding(9, 1)\n",
    "        self.bias2 = torch.nn.Embedding(8, 1)\n",
    "        self.sig = torch.nn.Sigmoid()\n",
    "\n",
    "    def forward(self, x1, x2) :\n",
    "        combined = (self.ebdd1(x1) * self.ebdd2(x2)).sum(axis = 1).reshape(-1, 1) + self.bias1(x1) + self.bias2(x2)\n",
    "        yhat = self.sig(combined)*5\n",
    "\n",
    "        return yhat"
   ]
  },
  {
   "cell_type": "code",
   "execution_count": 125,
   "id": "ef5f87f8-205f-43e0-9158-8554810cebf7",
   "metadata": {},
   "outputs": [],
   "source": [
    "net = MF_recommend()\n",
    "\n",
    "loss_fn = torch.nn.MSELoss()\n",
    "optimizr = torch.optim.Adam(net.parameters())\n",
    "\n",
    "#---#\n",
    "for epoc in range(1000) :\n",
    "    yhat = net(x1, x2)\n",
    "    loss = loss_fn(yhat, y)\n",
    "    loss.backward()\n",
    "    optimizr.step()\n",
    "    optimizr.zero_grad()"
   ]
  },
  {
   "cell_type": "code",
   "execution_count": 126,
   "id": "3bc2c59e-1989-4fe7-b6b5-19a11ee1b7a4",
   "metadata": {},
   "outputs": [
    {
     "data": {
      "text/plain": [
       "(tensor([[4.0200],\n",
       "         [3.4500],\n",
       "         [3.4200],\n",
       "         [0.8400],\n",
       "         [1.1200]]),\n",
       " tensor([[4.4647],\n",
       "         [4.7589],\n",
       "         [4.1805],\n",
       "         [1.0054],\n",
       "         [1.4017]], grad_fn=<SliceBackward0>))"
      ]
     },
     "execution_count": 126,
     "metadata": {},
     "output_type": "execute_result"
    }
   ],
   "source": [
    "y[:5], net(x1, x2)[:5]"
   ]
  },
  {
   "cell_type": "markdown",
   "id": "4f2fdf74-7a61-4d63-afde-28c2b6a332ce",
   "metadata": {},
   "source": [
    "(풀이2) - `net(X)`"
   ]
  },
  {
   "cell_type": "code",
   "execution_count": 128,
   "id": "9bbf1017-fb32-4950-b025-18e0026ced9c",
   "metadata": {},
   "outputs": [],
   "source": [
    "X = torch.stack([x1, x2], axis = 1)"
   ]
  },
  {
   "cell_type": "code",
   "execution_count": 129,
   "id": "f22ddd7a-fdf0-4824-97c0-5ebcdeed0243",
   "metadata": {},
   "outputs": [
    {
     "data": {
      "text/plain": [
       "torch.Size([63, 2])"
      ]
     },
     "execution_count": 129,
     "metadata": {},
     "output_type": "execute_result"
    }
   ],
   "source": [
    "X.shape"
   ]
  },
  {
   "cell_type": "code",
   "execution_count": 133,
   "id": "17a0e6a3-78b5-4260-8245-c6ace85be980",
   "metadata": {},
   "outputs": [],
   "source": [
    "class MF_recommend2(torch.nn.Module) :\n",
    "    def __init__(self) :\n",
    "        super().__init__()\n",
    "\n",
    "        self.ebdd1 = torch.nn.Embedding(9, 2)\n",
    "        self.ebdd2 = torch.nn.Embedding(8, 2)\n",
    "        self.bias1 = torch.nn.Embedding(9, 1)\n",
    "        self.bias2 = torch.nn.Embedding(8, 1)\n",
    "        self.sig = torch.nn.Sigmoid()\n",
    "\n",
    "    def forward(self, X) :\n",
    "        x1 = X[:, 0]\n",
    "        x2 = X[:, 1]\n",
    "\n",
    "        yhat = self.sig((self.ebdd1(x1) * self.ebdd2(x2)).sum(axis = 1).reshape(-1, 1) + self.bias1(x1) + self.bias2(x2))*5\n",
    "        return yhat"
   ]
  },
  {
   "cell_type": "code",
   "execution_count": 136,
   "id": "14af535d-a229-41f6-bd06-d532e540385c",
   "metadata": {},
   "outputs": [],
   "source": [
    "net = MF_recommend2()\n",
    "\n",
    "loss_fn = torch.nn.MSELoss()\n",
    "optimizr = torch.optim.Adam(net.parameters())\n",
    "\n",
    "#---#\n",
    "for epoc in range(3000) :\n",
    "    yhat = net(X)\n",
    "    loss = loss_fn(yhat, y)\n",
    "    loss.backward()\n",
    "    optimizr.step()\n",
    "    optimizr.zero_grad()"
   ]
  },
  {
   "cell_type": "code",
   "execution_count": 137,
   "id": "a2373cf5-57c5-404b-a2b4-50756b1e8796",
   "metadata": {},
   "outputs": [
    {
     "data": {
      "text/plain": [
       "(tensor([[4.0200],\n",
       "         [3.4500],\n",
       "         [3.4200],\n",
       "         [0.8400],\n",
       "         [1.1200]]),\n",
       " tensor([[3.8010],\n",
       "         [3.5168],\n",
       "         [3.4955],\n",
       "         [0.7157],\n",
       "         [0.7754]], grad_fn=<SliceBackward0>))"
      ]
     },
     "execution_count": 137,
     "metadata": {},
     "output_type": "execute_result"
    }
   ],
   "source": [
    "y[:5], net(X)[:5]"
   ]
  },
  {
   "cell_type": "markdown",
   "id": "20e04f4c-56ea-4b4f-9c58-0c28984a6344",
   "metadata": {},
   "source": [
    "## 5. MF-based 추천시스템을 넘어서"
   ]
  },
  {
   "cell_type": "markdown",
   "id": "4102d22b-bb9a-4b18-8b95-be7690e81996",
   "metadata": {},
   "source": [
    "### **A. NN-based 방식**"
   ]
  },
  {
   "cell_type": "markdown",
   "id": "cfa0381b-17b5-48ff-9ede-ae17e2dc8244",
   "metadata": {},
   "source": [
    "아래의 자료를 활용하여 추천시스템을 설계하고자 한다."
   ]
  },
  {
   "cell_type": "code",
   "execution_count": 3,
   "id": "592a3305-f004-4a7d-93e8-f11f30ca3136",
   "metadata": {},
   "outputs": [
    {
     "data": {
      "text/html": [
       "<div>\n",
       "<style scoped>\n",
       "    .dataframe tbody tr th:only-of-type {\n",
       "        vertical-align: middle;\n",
       "    }\n",
       "\n",
       "    .dataframe tbody tr th {\n",
       "        vertical-align: top;\n",
       "    }\n",
       "\n",
       "    .dataframe thead th {\n",
       "        text-align: right;\n",
       "    }\n",
       "</style>\n",
       "<table border=\"1\" class=\"dataframe\">\n",
       "  <thead>\n",
       "    <tr style=\"text-align: right;\">\n",
       "      <th></th>\n",
       "      <th>영식(IN)</th>\n",
       "      <th>영철(IN)</th>\n",
       "      <th>영호(IS)</th>\n",
       "      <th>광수(IS)</th>\n",
       "      <th>상철(EN)</th>\n",
       "      <th>영수(EN)</th>\n",
       "      <th>규빈(ES)</th>\n",
       "      <th>다호(ES)</th>\n",
       "    </tr>\n",
       "  </thead>\n",
       "  <tbody>\n",
       "    <tr>\n",
       "      <th>옥순(IN)</th>\n",
       "      <td>NaN</td>\n",
       "      <td>4.02</td>\n",
       "      <td>3.45</td>\n",
       "      <td>3.42</td>\n",
       "      <td>0.84</td>\n",
       "      <td>1.12</td>\n",
       "      <td>0.43</td>\n",
       "      <td>0.49</td>\n",
       "    </tr>\n",
       "    <tr>\n",
       "      <th>영자(IN)</th>\n",
       "      <td>3.93</td>\n",
       "      <td>3.99</td>\n",
       "      <td>3.63</td>\n",
       "      <td>3.43</td>\n",
       "      <td>0.98</td>\n",
       "      <td>0.96</td>\n",
       "      <td>0.52</td>\n",
       "      <td>NaN</td>\n",
       "    </tr>\n",
       "    <tr>\n",
       "      <th>정숙(IS)</th>\n",
       "      <td>3.52</td>\n",
       "      <td>3.42</td>\n",
       "      <td>4.05</td>\n",
       "      <td>4.06</td>\n",
       "      <td>0.39</td>\n",
       "      <td>NaN</td>\n",
       "      <td>0.93</td>\n",
       "      <td>0.99</td>\n",
       "    </tr>\n",
       "    <tr>\n",
       "      <th>영숙(IS)</th>\n",
       "      <td>3.43</td>\n",
       "      <td>3.57</td>\n",
       "      <td>NaN</td>\n",
       "      <td>3.95</td>\n",
       "      <td>0.56</td>\n",
       "      <td>0.52</td>\n",
       "      <td>0.89</td>\n",
       "      <td>0.89</td>\n",
       "    </tr>\n",
       "    <tr>\n",
       "      <th>순자(EN)</th>\n",
       "      <td>1.12</td>\n",
       "      <td>NaN</td>\n",
       "      <td>0.59</td>\n",
       "      <td>0.43</td>\n",
       "      <td>4.01</td>\n",
       "      <td>4.16</td>\n",
       "      <td>3.52</td>\n",
       "      <td>3.38</td>\n",
       "    </tr>\n",
       "    <tr>\n",
       "      <th>현숙(EN)</th>\n",
       "      <td>0.94</td>\n",
       "      <td>1.05</td>\n",
       "      <td>0.32</td>\n",
       "      <td>0.45</td>\n",
       "      <td>4.02</td>\n",
       "      <td>3.78</td>\n",
       "      <td>NaN</td>\n",
       "      <td>3.54</td>\n",
       "    </tr>\n",
       "    <tr>\n",
       "      <th>서연(ES)</th>\n",
       "      <td>0.51</td>\n",
       "      <td>0.56</td>\n",
       "      <td>0.88</td>\n",
       "      <td>0.89</td>\n",
       "      <td>3.50</td>\n",
       "      <td>3.64</td>\n",
       "      <td>4.04</td>\n",
       "      <td>4.10</td>\n",
       "    </tr>\n",
       "    <tr>\n",
       "      <th>보람(ES)</th>\n",
       "      <td>0.48</td>\n",
       "      <td>0.51</td>\n",
       "      <td>1.03</td>\n",
       "      <td>NaN</td>\n",
       "      <td>3.52</td>\n",
       "      <td>4.00</td>\n",
       "      <td>3.82</td>\n",
       "      <td>NaN</td>\n",
       "    </tr>\n",
       "    <tr>\n",
       "      <th>하니(I)</th>\n",
       "      <td>4.85</td>\n",
       "      <td>4.82</td>\n",
       "      <td>NaN</td>\n",
       "      <td>4.98</td>\n",
       "      <td>4.53</td>\n",
       "      <td>4.39</td>\n",
       "      <td>4.45</td>\n",
       "      <td>4.52</td>\n",
       "    </tr>\n",
       "  </tbody>\n",
       "</table>\n",
       "</div>"
      ],
      "text/plain": [
       "        영식(IN)  영철(IN)  영호(IS)  광수(IS)  상철(EN)  영수(EN)  규빈(ES)  다호(ES)\n",
       "옥순(IN)     NaN    4.02    3.45    3.42    0.84    1.12    0.43    0.49\n",
       "영자(IN)    3.93    3.99    3.63    3.43    0.98    0.96    0.52     NaN\n",
       "정숙(IS)    3.52    3.42    4.05    4.06    0.39     NaN    0.93    0.99\n",
       "영숙(IS)    3.43    3.57     NaN    3.95    0.56    0.52    0.89    0.89\n",
       "순자(EN)    1.12     NaN    0.59    0.43    4.01    4.16    3.52    3.38\n",
       "현숙(EN)    0.94    1.05    0.32    0.45    4.02    3.78     NaN    3.54\n",
       "서연(ES)    0.51    0.56    0.88    0.89    3.50    3.64    4.04    4.10\n",
       "보람(ES)    0.48    0.51    1.03     NaN    3.52    4.00    3.82     NaN\n",
       "하니(I)     4.85    4.82     NaN    4.98    4.53    4.39    4.45    4.52"
      ]
     },
     "execution_count": 3,
     "metadata": {},
     "output_type": "execute_result"
    }
   ],
   "source": [
    "df_view = pd.read_csv('https://raw.githubusercontent.com/guebin/DL2025/main/posts/iamsolo.csv',index_col=0)\n",
    "df_view"
   ]
  },
  {
   "cell_type": "code",
   "execution_count": 4,
   "id": "c7cddbd2-eac8-4d9e-b0a3-a717e3871939",
   "metadata": {},
   "outputs": [],
   "source": [
    "#df_view\n",
    "df_train = df_view.stack().reset_index().set_axis(['여성출연자','남성출연자','궁합점수'],axis=1)\n",
    "여성인덱스 = {'옥순(IN)':0, '영자(IN)':1, '정숙(IS)':2, '영숙(IS)':3, '순자(EN)':4, '현숙(EN)':5, '서연(ES)':6, '보람(ES)':7, '하니(I)':8}\n",
    "남성인덱스 = {'영식(IN)':0, '영철(IN)':1, '영호(IS)':2, '광수(IS)':3, '상철(EN)':4, '영수(EN)':5, '규빈(ES)':6, '다호(ES)':7}\n",
    "x1 = torch.tensor(df_train.여성출연자.map(여성인덱스))\n",
    "x2 = torch.tensor(df_train.남성출연자.map(남성인덱스))\n",
    "y = torch.tensor(df_train.궁합점수).reshape(-1,1).float()"
   ]
  },
  {
   "cell_type": "markdown",
   "id": "5c2a2335-c6b5-4a64-88ed-0f9e8f28054b",
   "metadata": {},
   "source": [
    "NN-based 추천시스템을 설계하라."
   ]
  },
  {
   "cell_type": "markdown",
   "id": "b05da57a-4d2e-443d-9e53-0ebe68b1f8d1",
   "metadata": {},
   "source": [
    "(풀이1) - 될대로 되라 싶은 신경망"
   ]
  },
  {
   "cell_type": "code",
   "execution_count": 5,
   "id": "c1a6a206-4ae8-4d4a-ba23-614366034a69",
   "metadata": {},
   "outputs": [
    {
     "data": {
      "text/plain": [
       "(torch.Size([63]), torch.Size([63]))"
      ]
     },
     "execution_count": 5,
     "metadata": {},
     "output_type": "execute_result"
    }
   ],
   "source": [
    "x1.shape, x2.shape"
   ]
  },
  {
   "cell_type": "code",
   "execution_count": 24,
   "id": "7f670075-65e2-4813-848b-45410ab8c7d6",
   "metadata": {},
   "outputs": [],
   "source": [
    "class NNbased1(torch.nn.Module) :\n",
    "    def __init__(self) :\n",
    "        super().__init__()\n",
    "\n",
    "        self.ebdd1 = torch.nn.Embedding(9, 2)\n",
    "        self.ebdd2 = torch.nn.Embedding(8, 2)\n",
    "        self.b1 = torch.nn.Embedding(9, 1)\n",
    "        self.b2 = torch.nn.Embedding(8, 1)\n",
    "\n",
    "        self.mlp = torch.nn.Sequential(\n",
    "            torch.nn.Linear(6, 64),\n",
    "            torch.nn.ReLU(),\n",
    "            torch.nn.Linear(64, 1),\n",
    "            torch.nn.Sigmoid() ## 출력을 0~1로 눌러줌\n",
    "        )\n",
    "    def forward(self, X) :\n",
    "        x1 = X[:, 0]\n",
    "        x2 = X[:, 1]\n",
    "        \n",
    "        yhat = self.mlp(torch.concat([self.ebdd1(x1), self.ebdd2(x2), self.b1(x1), self.b2(x2)], axis = 1))\n",
    "        \n",
    "        return yhat*5"
   ]
  },
  {
   "cell_type": "code",
   "execution_count": 30,
   "id": "89f5ef62-8a1c-4818-8ba1-ba7a4ba89f5d",
   "metadata": {},
   "outputs": [],
   "source": [
    "X = torch.stack([x1, x2], axis = 1)\n",
    "net = NNbased1()\n",
    "\n",
    "loss_fn = torch.nn.MSELoss()\n",
    "optimizr = torch.optim.Adam(net.parameters())\n",
    "\n",
    "#---#\n",
    "for epoc in range(3000) :\n",
    "    yhat = net(X)\n",
    "    loss = loss_fn(yhat, y)\n",
    "    loss.backward()\n",
    "    optimizr.step()\n",
    "    optimizr.zero_grad()"
   ]
  },
  {
   "cell_type": "code",
   "execution_count": 31,
   "id": "7b718fba-b376-4069-8939-49b342d833f4",
   "metadata": {},
   "outputs": [
    {
     "data": {
      "text/plain": [
       "(tensor([[4.0200],\n",
       "         [3.4500],\n",
       "         [3.4200],\n",
       "         [0.8400],\n",
       "         [1.1200]]),\n",
       " tensor([[4.0195],\n",
       "         [3.4492],\n",
       "         [3.4198],\n",
       "         [0.8352],\n",
       "         [1.1185]], grad_fn=<SliceBackward0>))"
      ]
     },
     "execution_count": 31,
     "metadata": {},
     "output_type": "execute_result"
    }
   ],
   "source": [
    "y[:5], net(X)[:5]"
   ]
  },
  {
   "cell_type": "markdown",
   "id": "7e746c09-4ae0-420f-8e82-1e36a621410a",
   "metadata": {},
   "source": [
    "*(옥순-영식), (영자-다호), (하니-영호)를 예측해보자*"
   ]
  },
  {
   "cell_type": "code",
   "execution_count": 32,
   "id": "fe83dba3-d875-4934-bb0a-b1c04bce9b8c",
   "metadata": {},
   "outputs": [
    {
     "data": {
      "text/html": [
       "<div>\n",
       "<style scoped>\n",
       "    .dataframe tbody tr th:only-of-type {\n",
       "        vertical-align: middle;\n",
       "    }\n",
       "\n",
       "    .dataframe tbody tr th {\n",
       "        vertical-align: top;\n",
       "    }\n",
       "\n",
       "    .dataframe thead th {\n",
       "        text-align: right;\n",
       "    }\n",
       "</style>\n",
       "<table border=\"1\" class=\"dataframe\">\n",
       "  <thead>\n",
       "    <tr style=\"text-align: right;\">\n",
       "      <th></th>\n",
       "      <th>영식(IN)</th>\n",
       "      <th>영철(IN)</th>\n",
       "      <th>영호(IS)</th>\n",
       "      <th>광수(IS)</th>\n",
       "      <th>상철(EN)</th>\n",
       "      <th>영수(EN)</th>\n",
       "      <th>규빈(ES)</th>\n",
       "      <th>다호(ES)</th>\n",
       "    </tr>\n",
       "  </thead>\n",
       "  <tbody>\n",
       "    <tr>\n",
       "      <th>옥순(IN)</th>\n",
       "      <td>NaN</td>\n",
       "      <td>4.02</td>\n",
       "      <td>3.45</td>\n",
       "      <td>3.42</td>\n",
       "      <td>0.84</td>\n",
       "      <td>1.12</td>\n",
       "      <td>0.43</td>\n",
       "      <td>0.49</td>\n",
       "    </tr>\n",
       "    <tr>\n",
       "      <th>영자(IN)</th>\n",
       "      <td>3.93</td>\n",
       "      <td>3.99</td>\n",
       "      <td>3.63</td>\n",
       "      <td>3.43</td>\n",
       "      <td>0.98</td>\n",
       "      <td>0.96</td>\n",
       "      <td>0.52</td>\n",
       "      <td>NaN</td>\n",
       "    </tr>\n",
       "    <tr>\n",
       "      <th>정숙(IS)</th>\n",
       "      <td>3.52</td>\n",
       "      <td>3.42</td>\n",
       "      <td>4.05</td>\n",
       "      <td>4.06</td>\n",
       "      <td>0.39</td>\n",
       "      <td>NaN</td>\n",
       "      <td>0.93</td>\n",
       "      <td>0.99</td>\n",
       "    </tr>\n",
       "    <tr>\n",
       "      <th>영숙(IS)</th>\n",
       "      <td>3.43</td>\n",
       "      <td>3.57</td>\n",
       "      <td>NaN</td>\n",
       "      <td>3.95</td>\n",
       "      <td>0.56</td>\n",
       "      <td>0.52</td>\n",
       "      <td>0.89</td>\n",
       "      <td>0.89</td>\n",
       "    </tr>\n",
       "    <tr>\n",
       "      <th>순자(EN)</th>\n",
       "      <td>1.12</td>\n",
       "      <td>NaN</td>\n",
       "      <td>0.59</td>\n",
       "      <td>0.43</td>\n",
       "      <td>4.01</td>\n",
       "      <td>4.16</td>\n",
       "      <td>3.52</td>\n",
       "      <td>3.38</td>\n",
       "    </tr>\n",
       "    <tr>\n",
       "      <th>현숙(EN)</th>\n",
       "      <td>0.94</td>\n",
       "      <td>1.05</td>\n",
       "      <td>0.32</td>\n",
       "      <td>0.45</td>\n",
       "      <td>4.02</td>\n",
       "      <td>3.78</td>\n",
       "      <td>NaN</td>\n",
       "      <td>3.54</td>\n",
       "    </tr>\n",
       "    <tr>\n",
       "      <th>서연(ES)</th>\n",
       "      <td>0.51</td>\n",
       "      <td>0.56</td>\n",
       "      <td>0.88</td>\n",
       "      <td>0.89</td>\n",
       "      <td>3.50</td>\n",
       "      <td>3.64</td>\n",
       "      <td>4.04</td>\n",
       "      <td>4.10</td>\n",
       "    </tr>\n",
       "    <tr>\n",
       "      <th>보람(ES)</th>\n",
       "      <td>0.48</td>\n",
       "      <td>0.51</td>\n",
       "      <td>1.03</td>\n",
       "      <td>NaN</td>\n",
       "      <td>3.52</td>\n",
       "      <td>4.00</td>\n",
       "      <td>3.82</td>\n",
       "      <td>NaN</td>\n",
       "    </tr>\n",
       "    <tr>\n",
       "      <th>하니(I)</th>\n",
       "      <td>4.85</td>\n",
       "      <td>4.82</td>\n",
       "      <td>NaN</td>\n",
       "      <td>4.98</td>\n",
       "      <td>4.53</td>\n",
       "      <td>4.39</td>\n",
       "      <td>4.45</td>\n",
       "      <td>4.52</td>\n",
       "    </tr>\n",
       "  </tbody>\n",
       "</table>\n",
       "</div>"
      ],
      "text/plain": [
       "        영식(IN)  영철(IN)  영호(IS)  광수(IS)  상철(EN)  영수(EN)  규빈(ES)  다호(ES)\n",
       "옥순(IN)     NaN    4.02    3.45    3.42    0.84    1.12    0.43    0.49\n",
       "영자(IN)    3.93    3.99    3.63    3.43    0.98    0.96    0.52     NaN\n",
       "정숙(IS)    3.52    3.42    4.05    4.06    0.39     NaN    0.93    0.99\n",
       "영숙(IS)    3.43    3.57     NaN    3.95    0.56    0.52    0.89    0.89\n",
       "순자(EN)    1.12     NaN    0.59    0.43    4.01    4.16    3.52    3.38\n",
       "현숙(EN)    0.94    1.05    0.32    0.45    4.02    3.78     NaN    3.54\n",
       "서연(ES)    0.51    0.56    0.88    0.89    3.50    3.64    4.04    4.10\n",
       "보람(ES)    0.48    0.51    1.03     NaN    3.52    4.00    3.82     NaN\n",
       "하니(I)     4.85    4.82     NaN    4.98    4.53    4.39    4.45    4.52"
      ]
     },
     "execution_count": 32,
     "metadata": {},
     "output_type": "execute_result"
    }
   ],
   "source": [
    "df_view"
   ]
  },
  {
   "cell_type": "code",
   "execution_count": 33,
   "id": "04f2f29f-edbe-4590-b6fb-ebbce7579232",
   "metadata": {},
   "outputs": [],
   "source": [
    "xx1 = torch.tensor([0, 1, 8])\n",
    "xx2 = torch.tensor([0, 7, 2])\n",
    "\n",
    "XX = torch.stack([xx1, xx2], axis = 1)"
   ]
  },
  {
   "cell_type": "code",
   "execution_count": 34,
   "id": "b242ef13-c22e-4188-8529-e9c333e86cd6",
   "metadata": {},
   "outputs": [
    {
     "data": {
      "text/plain": [
       "tensor([[3.7314],\n",
       "        [0.7855],\n",
       "        [4.5753]], grad_fn=<MulBackward0>)"
      ]
     },
     "execution_count": 34,
     "metadata": {},
     "output_type": "execute_result"
    }
   ],
   "source": [
    "net(XX)"
   ]
  },
  {
   "cell_type": "markdown",
   "id": "2f133b62-1419-4a7b-82b2-ca2a8d248ff9",
   "metadata": {},
   "source": [
    "> 망함. 오버피팅인듯."
   ]
  },
  {
   "cell_type": "markdown",
   "id": "7774d1ec-f911-4688-b1c6-e13297dc8ce0",
   "metadata": {},
   "source": [
    "(풀이2) - 적당히 타협..."
   ]
  },
  {
   "cell_type": "code",
   "execution_count": 18,
   "id": "d48d6101-38ab-4b50-b61c-12fd6bbafdd3",
   "metadata": {
    "tags": []
   },
   "outputs": [],
   "source": [
    "class NNbased2(torch.nn.Module):\n",
    "    def __init__(self):\n",
    "        super().__init__()\n",
    "        #--#\n",
    "        self.ebdd1 = torch.nn.Embedding(9,2)\n",
    "        self.ebdd2 = torch.nn.Embedding(8,2)\n",
    "        self.b1 = torch.nn.Embedding(9,1)\n",
    "        self.b2 = torch.nn.Embedding(8,1)\n",
    "        self.sig = torch.nn.Sigmoid()\n",
    "        self.mlp = torch.nn.Sequential(\n",
    "            torch.nn.Linear(6,15), ## 좀 덜 복잡하게...\n",
    "            torch.nn.ReLU(),\n",
    "            torch.nn.Linear(15,1),\n",
    "            torch.nn.Sigmoid()\n",
    "        )\n",
    "    def forward(self,x1,x2):\n",
    "        W_feature = self.ebdd1(x1)\n",
    "        W_bias = self.b1(x1)\n",
    "        M_feature = self.ebdd2(x2)\n",
    "        M_bias = self.b2(x2)\n",
    "        #yhat = sig((W_feature * M_feature).sum(axis=1).reshape(-1,1) + W_bias + M_bias ) * 5 \n",
    "        Z = torch.concat([W_feature, M_feature, W_bias, M_bias],axis=1)\n",
    "        yhat = self.mlp(Z) * 5 \n",
    "        return yhat"
   ]
  },
  {
   "cell_type": "code",
   "execution_count": 19,
   "id": "fdebf832-ff3e-4926-bbc5-3a56f423f85b",
   "metadata": {
    "tags": []
   },
   "outputs": [],
   "source": [
    "net = NNbased2()\n",
    "loss_fn = torch.nn.MSELoss()\n",
    "optimizr = torch.optim.Adam(net.parameters(),lr=0.1)\n",
    "#--# \n",
    "for epoc in range(3000):\n",
    "    # 1\n",
    "    yhat = net(x1,x2) \n",
    "    # 2\n",
    "    loss = loss_fn(yhat,y)\n",
    "    # 3 \n",
    "    loss.backward()\n",
    "    # 4 \n",
    "    optimizr.step()\n",
    "    optimizr.zero_grad()"
   ]
  },
  {
   "cell_type": "code",
   "execution_count": 20,
   "id": "c725af9f-1296-4fdd-b9e8-e7f7fdee9c86",
   "metadata": {},
   "outputs": [
    {
     "data": {
      "text/plain": [
       "(tensor([[4.0102],\n",
       "         [3.4435],\n",
       "         [3.4048],\n",
       "         [0.8307],\n",
       "         [1.1042],\n",
       "         [0.4256],\n",
       "         [0.4821],\n",
       "         [3.9188],\n",
       "         [3.9753],\n",
       "         [3.6251]], grad_fn=<SliceBackward0>),\n",
       " tensor([[4.0200],\n",
       "         [3.4500],\n",
       "         [3.4200],\n",
       "         [0.8400],\n",
       "         [1.1200],\n",
       "         [0.4300],\n",
       "         [0.4900],\n",
       "         [3.9300],\n",
       "         [3.9900],\n",
       "         [3.6300]]))"
      ]
     },
     "execution_count": 20,
     "metadata": {},
     "output_type": "execute_result"
    }
   ],
   "source": [
    "yhat[:10], y[:10]"
   ]
  },
  {
   "cell_type": "markdown",
   "id": "71601879-2735-4dc9-bb3f-f2927dcdd296",
   "metadata": {},
   "source": [
    "*(옥순-영식), (영자-다호), (하니-영호) 를 예측해보자.*"
   ]
  },
  {
   "cell_type": "code",
   "execution_count": 21,
   "id": "a1a1ed50-1d19-49dc-a297-44f125710f82",
   "metadata": {},
   "outputs": [
    {
     "data": {
      "text/html": [
       "<div>\n",
       "<style scoped>\n",
       "    .dataframe tbody tr th:only-of-type {\n",
       "        vertical-align: middle;\n",
       "    }\n",
       "\n",
       "    .dataframe tbody tr th {\n",
       "        vertical-align: top;\n",
       "    }\n",
       "\n",
       "    .dataframe thead th {\n",
       "        text-align: right;\n",
       "    }\n",
       "</style>\n",
       "<table border=\"1\" class=\"dataframe\">\n",
       "  <thead>\n",
       "    <tr style=\"text-align: right;\">\n",
       "      <th></th>\n",
       "      <th>영식(IN)</th>\n",
       "      <th>영철(IN)</th>\n",
       "      <th>영호(IS)</th>\n",
       "      <th>광수(IS)</th>\n",
       "      <th>상철(EN)</th>\n",
       "      <th>영수(EN)</th>\n",
       "      <th>규빈(ES)</th>\n",
       "      <th>다호(ES)</th>\n",
       "    </tr>\n",
       "  </thead>\n",
       "  <tbody>\n",
       "    <tr>\n",
       "      <th>옥순(IN)</th>\n",
       "      <td>NaN</td>\n",
       "      <td>4.02</td>\n",
       "      <td>3.45</td>\n",
       "      <td>3.42</td>\n",
       "      <td>0.84</td>\n",
       "      <td>1.12</td>\n",
       "      <td>0.43</td>\n",
       "      <td>0.49</td>\n",
       "    </tr>\n",
       "    <tr>\n",
       "      <th>영자(IN)</th>\n",
       "      <td>3.93</td>\n",
       "      <td>3.99</td>\n",
       "      <td>3.63</td>\n",
       "      <td>3.43</td>\n",
       "      <td>0.98</td>\n",
       "      <td>0.96</td>\n",
       "      <td>0.52</td>\n",
       "      <td>NaN</td>\n",
       "    </tr>\n",
       "    <tr>\n",
       "      <th>정숙(IS)</th>\n",
       "      <td>3.52</td>\n",
       "      <td>3.42</td>\n",
       "      <td>4.05</td>\n",
       "      <td>4.06</td>\n",
       "      <td>0.39</td>\n",
       "      <td>NaN</td>\n",
       "      <td>0.93</td>\n",
       "      <td>0.99</td>\n",
       "    </tr>\n",
       "    <tr>\n",
       "      <th>영숙(IS)</th>\n",
       "      <td>3.43</td>\n",
       "      <td>3.57</td>\n",
       "      <td>NaN</td>\n",
       "      <td>3.95</td>\n",
       "      <td>0.56</td>\n",
       "      <td>0.52</td>\n",
       "      <td>0.89</td>\n",
       "      <td>0.89</td>\n",
       "    </tr>\n",
       "    <tr>\n",
       "      <th>순자(EN)</th>\n",
       "      <td>1.12</td>\n",
       "      <td>NaN</td>\n",
       "      <td>0.59</td>\n",
       "      <td>0.43</td>\n",
       "      <td>4.01</td>\n",
       "      <td>4.16</td>\n",
       "      <td>3.52</td>\n",
       "      <td>3.38</td>\n",
       "    </tr>\n",
       "    <tr>\n",
       "      <th>현숙(EN)</th>\n",
       "      <td>0.94</td>\n",
       "      <td>1.05</td>\n",
       "      <td>0.32</td>\n",
       "      <td>0.45</td>\n",
       "      <td>4.02</td>\n",
       "      <td>3.78</td>\n",
       "      <td>NaN</td>\n",
       "      <td>3.54</td>\n",
       "    </tr>\n",
       "    <tr>\n",
       "      <th>서연(ES)</th>\n",
       "      <td>0.51</td>\n",
       "      <td>0.56</td>\n",
       "      <td>0.88</td>\n",
       "      <td>0.89</td>\n",
       "      <td>3.50</td>\n",
       "      <td>3.64</td>\n",
       "      <td>4.04</td>\n",
       "      <td>4.10</td>\n",
       "    </tr>\n",
       "    <tr>\n",
       "      <th>보람(ES)</th>\n",
       "      <td>0.48</td>\n",
       "      <td>0.51</td>\n",
       "      <td>1.03</td>\n",
       "      <td>NaN</td>\n",
       "      <td>3.52</td>\n",
       "      <td>4.00</td>\n",
       "      <td>3.82</td>\n",
       "      <td>NaN</td>\n",
       "    </tr>\n",
       "    <tr>\n",
       "      <th>하니(I)</th>\n",
       "      <td>4.85</td>\n",
       "      <td>4.82</td>\n",
       "      <td>NaN</td>\n",
       "      <td>4.98</td>\n",
       "      <td>4.53</td>\n",
       "      <td>4.39</td>\n",
       "      <td>4.45</td>\n",
       "      <td>4.52</td>\n",
       "    </tr>\n",
       "  </tbody>\n",
       "</table>\n",
       "</div>"
      ],
      "text/plain": [
       "        영식(IN)  영철(IN)  영호(IS)  광수(IS)  상철(EN)  영수(EN)  규빈(ES)  다호(ES)\n",
       "옥순(IN)     NaN    4.02    3.45    3.42    0.84    1.12    0.43    0.49\n",
       "영자(IN)    3.93    3.99    3.63    3.43    0.98    0.96    0.52     NaN\n",
       "정숙(IS)    3.52    3.42    4.05    4.06    0.39     NaN    0.93    0.99\n",
       "영숙(IS)    3.43    3.57     NaN    3.95    0.56    0.52    0.89    0.89\n",
       "순자(EN)    1.12     NaN    0.59    0.43    4.01    4.16    3.52    3.38\n",
       "현숙(EN)    0.94    1.05    0.32    0.45    4.02    3.78     NaN    3.54\n",
       "서연(ES)    0.51    0.56    0.88    0.89    3.50    3.64    4.04    4.10\n",
       "보람(ES)    0.48    0.51    1.03     NaN    3.52    4.00    3.82     NaN\n",
       "하니(I)     4.85    4.82     NaN    4.98    4.53    4.39    4.45    4.52"
      ]
     },
     "execution_count": 21,
     "metadata": {},
     "output_type": "execute_result"
    }
   ],
   "source": [
    "df_view"
   ]
  },
  {
   "cell_type": "code",
   "execution_count": 22,
   "id": "3bac5581-d22a-4865-a423-aef10b06fca6",
   "metadata": {},
   "outputs": [],
   "source": [
    "xx1 = torch.tensor([0,1,8])\n",
    "xx2 = torch.tensor([0,7,2])"
   ]
  },
  {
   "cell_type": "code",
   "execution_count": 23,
   "id": "4835ed71-e804-44a6-b398-5db0de6de014",
   "metadata": {},
   "outputs": [
    {
     "data": {
      "text/plain": [
       "tensor([[3.6290],\n",
       "        [0.5905],\n",
       "        [5.0000]], grad_fn=<MulBackward0>)"
      ]
     },
     "execution_count": 23,
     "metadata": {},
     "output_type": "execute_result"
    }
   ],
   "source": [
    "net(xx1,xx2)"
   ]
  },
  {
   "cell_type": "markdown",
   "id": "9a2614e4-616f-42f1-8e62-202de92db6fc",
   "metadata": {},
   "source": [
    "> 이정도면 나름 합?리적? (아까보단 나음)"
   ]
  },
  {
   "cell_type": "markdown",
   "id": "5363c23c-def7-474c-96ce-2f13ea44a695",
   "metadata": {},
   "source": [
    "### **B. NCF (He et al. 2017)**"
   ]
  },
  {
   "cell_type": "markdown",
   "id": "2ff00295-f444-4307-b5dd-45303ab1dfd8",
   "metadata": {},
   "source": [
    "`-` MF-based와 NN-base를 합친 것"
   ]
  },
  {
   "cell_type": "markdown",
   "id": "2c369005-24ec-48f1-bd94-50cd1dac5957",
   "metadata": {},
   "source": [
    "![](https://github.com/guebin/DL2024/blob/main/posts/NCF.png?raw=true)\n",
    "\n",
    "# Appendix – 선택학습\n",
    "\n",
    "`# 의문`: 그냥 원핫인코딩없이 바로 선형변환하면 안되나? (= 꼭\n",
    "임베딩레이어를 써야하나?)"
   ]
  },
  {
   "cell_type": "markdown",
   "id": "333295e9-e15e-4898-8f30-49491f4ef74c",
   "metadata": {},
   "source": [
    "> 안됨. 인터랙션이 없는 별개의 변수로 뽑아내는 게 중요한데, 바로 선형변환하면 사실상 얘들이 다 결합돼서 순서도 있고 막이래. 애초에 말이 안됨."
   ]
  }
 ],
 "metadata": {
  "kernelspec": {
   "display_name": "Python 3 (ipykernel)",
   "language": "python",
   "name": "python3"
  },
  "language_info": {
   "codemirror_mode": {
    "name": "ipython",
    "version": 3
   },
   "file_extension": ".py",
   "mimetype": "text/x-python",
   "name": "python",
   "nbconvert_exporter": "python",
   "pygments_lexer": "ipython3",
   "version": "3.9.18"
  }
 },
 "nbformat": 4,
 "nbformat_minor": 5
}
