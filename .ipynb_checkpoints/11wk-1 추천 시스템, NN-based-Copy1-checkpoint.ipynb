{
 "cells": [
  {
   "cell_type": "markdown",
   "id": "9bac18bf",
   "metadata": {},
   "source": [
    "# 11wk-1: (추천시스템) – Embedding 레이어, 사용자정의 네트워크, MF-based"
   ]
  },
  {
   "cell_type": "markdown",
   "id": "2a20c324",
   "metadata": {},
   "source": [
    "## 1. Imports"
   ]
  },
  {
   "cell_type": "code",
   "execution_count": 2,
   "id": "6caaef90",
   "metadata": {},
   "outputs": [],
   "source": [
    "import torch\n",
    "import pandas as pd\n",
    "import matplotlib.pyplot as plt"
   ]
  },
  {
   "cell_type": "code",
   "execution_count": 3,
   "id": "cfa9e448-08a7-4bfd-bca8-ae9807dda079",
   "metadata": {},
   "outputs": [],
   "source": [
    "plt.rcParams['figure.figsize'] = (4.5, 3.0)"
   ]
  },
  {
   "cell_type": "markdown",
   "id": "d77e86b8",
   "metadata": {},
   "source": [
    "## 2. 주요 코드 등"
   ]
  },
  {
   "cell_type": "markdown",
   "id": "2f1310ce-42aa-4944-8c52-8909c09f990c",
   "metadata": {},
   "source": [
    "## 3. `torch.nn.Embedding`"
   ]
  },
  {
   "cell_type": "markdown",
   "id": "c2a5447c-d7a4-4335-af23-4472af276db5",
   "metadata": {},
   "source": [
    "### **A. 임베딩레이어**"
   ]
  },
  {
   "cell_type": "markdown",
   "id": "e6aeca88-a86b-41d8-b3ab-7343b45dea47",
   "metadata": {},
   "source": [
    "`-` 모티브 : `torch.nn.functional.one_hot` + `torch.nn.Linear`를 매번 쓰는 건 너무 귀찮다!"
   ]
  },
  {
   "cell_type": "code",
   "execution_count": 4,
   "id": "4e46790b-5db4-4d71-aa18-2de87dc01c96",
   "metadata": {},
   "outputs": [
    {
     "data": {
      "text/plain": [
       "tensor([[-0.2002],\n",
       "        [-0.4890],\n",
       "        [ 0.2081],\n",
       "        [-0.2002],\n",
       "        [-0.4890]], grad_fn=<MmBackward0>)"
      ]
     },
     "execution_count": 4,
     "metadata": {},
     "output_type": "execute_result"
    }
   ],
   "source": [
    "torch.manual_seed(43052)\n",
    "#x  = ['옥순', '영숙', '하니', '옥순', '영숙'] \n",
    "x = torch.tensor([0,1,2,0,1])\n",
    "X = torch.nn.functional.one_hot(x).float()\n",
    "linr = torch.nn.Linear(3,1,bias=False)\n",
    "linr(X)"
   ]
  },
  {
   "cell_type": "markdown",
   "id": "98c28751-d755-4414-a4bb-cc2c08e4d42c",
   "metadata": {},
   "source": [
    "계산방식\n",
    "\n",
    "-   ${\\boldsymbol x}= \\begin{bmatrix} 0 \\\\ 1 \\\\ 2 \\\\ 0 \\\\ 1 \\end{bmatrix} \\Longrightarrow {\\bf X}= \\begin{bmatrix} 1 & 0 & 0 \\\\ 0 & 1 & 0 \\\\ 0 & 0 & 1 \\\\ 1 & 0 & 0 \\\\ 0 & 1 & 0 \\end{bmatrix}$\n",
    "\n",
    "-   $\\text{linr}({\\bf X})= \\begin{bmatrix} 1 & 0 & 0 \\\\ 0 & 1 & 0 \\\\ 0 & 0 & 1 \\\\ 1 & 0 & 0 \\\\ 0 & 1 & 0 \\end{bmatrix}\\begin{bmatrix} -0.2002 \\\\ -0.4890 \\\\ 0.2081 \\end{bmatrix} = \\begin{bmatrix} -0.2002 \\\\ -0.4890 \\\\ 0.2081 \\\\ -0.2002 \\\\ -0.4890 \\end{bmatrix}$\n",
    "\n",
    "`-` `torch.nn.functional.one_hot` + `torch.nn.Linear` 를 함께처리해주는\n",
    "레이어 `torch.nn.Embedding` 존재"
   ]
  },
  {
   "cell_type": "code",
   "execution_count": 5,
   "id": "e02fc42e-0c5e-4064-a46c-81139cda88db",
   "metadata": {},
   "outputs": [
    {
     "data": {
      "text/plain": [
       "tensor([[-0.2002],\n",
       "        [-0.4890],\n",
       "        [ 0.2081],\n",
       "        [-0.2002],\n",
       "        [-0.4890]], grad_fn=<EmbeddingBackward0>)"
      ]
     },
     "execution_count": 5,
     "metadata": {},
     "output_type": "execute_result"
    }
   ],
   "source": [
    "#x  = ['옥순', '영숙', '하니', '옥순', '영숙'] \n",
    "x = torch.tensor([0,1,2,0,1])\n",
    "ebdd = torch.nn.Embedding(3,1)\n",
    "ebdd.weight.data = torch.tensor([[-0.2002],[-0.4890],[0.2081]])\n",
    "ebdd(x)"
   ]
  },
  {
   "cell_type": "markdown",
   "id": "f6366d1d-c8de-492b-b262-ea93cdb28684",
   "metadata": {},
   "source": [
    "-   $\\text{ebdd}({\\boldsymbol x})= \\text{linr}\\big(\\text{onehot}({\\boldsymbol x})\\big) = \\begin{bmatrix} 1 & 0 & 0 \\\\ 0 & 1 & 0 \\\\ 0 & 0 & 1 \\\\ 1 & 0 & 0 \\\\ 0 & 1 & 0 \\end{bmatrix}\\begin{bmatrix} -0.2002 \\\\ -0.4890 \\\\ 0.2081 \\end{bmatrix} = \\begin{bmatrix} -0.2002 \\\\ -0.4890 \\\\ 0.2081 \\\\ -0.2002 \\\\ -0.4890 \\end{bmatrix}$\n",
    "\n",
    "-   우리가 이전에 구현했던 코드 “onehot + linr” 와 “ebdd”는 정확하게\n",
    "    동일한 동작을 수행함.\n",
    "\n",
    "`-` 결론: 아래의 두개의 코드는 같다.\n",
    "\n",
    "``` python\n",
    "x= torch.tensor([0,1,2,0,1])\n",
    "\n",
    "## 코드1 \n",
    "linr = torch.nn.Linear(3,1) \n",
    "linr(torch.nn.functional.one_hot(x))\n",
    "\n",
    "## 코드2 \n",
    "ebdd = torch.nn.Embedding(3,1)\n",
    "ebdd(x) \n",
    "```\n",
    "\n",
    "### **B. MF-based 추천시스템 재설계**\n",
    "\n",
    "아래의 자료를 활용하여 추천시스템을 설계하고자한다."
   ]
  },
  {
   "cell_type": "code",
   "execution_count": null,
   "id": "ed369a75-e5e2-4053-850f-c75ce49d97fa",
   "metadata": {},
   "outputs": [],
   "source": []
  }
 ],
 "metadata": {
  "kernelspec": {
   "display_name": "Python 3 (ipykernel)",
   "language": "python",
   "name": "python3"
  },
  "language_info": {
   "codemirror_mode": {
    "name": "ipython",
    "version": 3
   },
   "file_extension": ".py",
   "mimetype": "text/x-python",
   "name": "python",
   "nbconvert_exporter": "python",
   "pygments_lexer": "ipython3",
   "version": "3.9.18"
  }
 },
 "nbformat": 4,
 "nbformat_minor": 5
}
