{
 "cells": [
  {
   "cell_type": "markdown",
   "id": "9bac18bf",
   "metadata": {},
   "source": [
    "# 10wk-2: (추천시스템) – optimizer 사용 고급, MF-based 추천시스템"
   ]
  },
  {
   "cell_type": "markdown",
   "id": "2a20c324",
   "metadata": {},
   "source": [
    "## 1. Imports"
   ]
  },
  {
   "cell_type": "code",
   "execution_count": 1,
   "id": "6caaef90",
   "metadata": {},
   "outputs": [],
   "source": [
    "import torch\n",
    "import numpy as np\n",
    "import pandas as pd\n",
    "import matplotlib.pyplot as plt"
   ]
  },
  {
   "cell_type": "code",
   "execution_count": 2,
   "id": "cfa9e448-08a7-4bfd-bca8-ae9807dda079",
   "metadata": {},
   "outputs": [],
   "source": [
    "plt.rcParams['figure.figsize'] = (4.5, 3.0)"
   ]
  },
  {
   "cell_type": "markdown",
   "id": "d77e86b8",
   "metadata": {},
   "source": [
    "## 2. 주요 코드 등"
   ]
  },
  {
   "cell_type": "markdown",
   "id": "307c4b28-252d-4e35-ae17-a5a27e79b7a6",
   "metadata": {},
   "source": [
    "```Python\n",
    "## 텐서를 쌩으로 파라미터로서 사용하기\n",
    "lamb = torch.tensor(1.0, requires_grad = True)\n",
    "optimizr = torch.optim.SGD([lamb], lr = 0.1)\n",
    "\n",
    "\n",
    "## 시퀸스를 먹이지 말고 iterable obj로 파라미터 삽입하기\n",
    "linr1 = torch.nn.Linear(1, 32)\n",
    "relu = torch.nn.ReLU()\n",
    "linr2 = torch.nn.Linear(32, 1)\n",
    "\n",
    "loss_fn = torch.nn.MSELoss()\n",
    "optimizr = torch.optim.Adam(list(linr1.parameters()) + list(linr2.parameters()))\n",
    "\n",
    "##---##\n",
    "for epoc in range(2000) :\n",
    "    that = net(h)\n",
    "    loss = loss_fn(that, t)\n",
    "    loss.backward()\n",
    "    optimizr.step()\n",
    "    optimizr.zero_grad()\n",
    "```"
   ]
  },
  {
   "cell_type": "markdown",
   "id": "89cfe6f4-75e4-4c15-8774-0754a321dd6d",
   "metadata": {},
   "source": [
    "```Python\n",
    "df_train = df_view.stack().reset_index().set_axis([\"여성출연자\", \"남성출연자\", \"궁합점수\"], axis = 1)\n",
    "\n",
    "## 그냥 범주 얼마 안되니까 정직하게...\n",
    "여성인덱스 = {'옥순(IN)':0, '영자(IN)':1, '정숙(IS)':2, '영숙(IS)':3, '순자(EN)':4, '현숙(EN)':5, '서연(ES)':6, '보람(ES)':7, '하니(I)':8}\n",
    "남성인덱스 = {'영식(IN)':0, '영철(IN)':1, '영호(IS)':2, '광수(IS)':3, '상철(EN)':4, '영수(EN)':5, '규빈(ES)':6, '다호(ES)':7}\n",
    "\n",
    "X1 = torch.nn.functional.one_hot(torch.tensor(df_train.여성출연자.map(여성인덱스))).float()\n",
    "X2 = torch.nn.functional.one_hot(torch.tensor(df_train.남성출연자.map(남성인덱스))).float()\n",
    "y = torch.tensor(df_train.궁합점수).float().reshape(-1, 1)\n",
    "\n",
    "l1 = torch.nn.Linear(9, 2, bias = False)\n",
    "l2 = torch.nn.Linear(8, 2, bias = False)\n",
    "b1 = torch.nn.Linear(9, 1, bias = False)\n",
    "b2 = torch.nn.Linear(8, 1, bias = False)\n",
    "\n",
    "sig = torch.nn.Sigmoid()\n",
    "loss_fn = torch.nn.MSELoss()\n",
    "optimizr = torch.optim.Adam(list(l1.parameters()) + list(l2.parameters()) + list(b1.parameters()) + list(b2.parameters()))\n",
    "\n",
    "for epoc in range(10000) :\n",
    "    yhat = sig((l1(X1) * l2(X2)).sum(axis = 1).reshape(-1, 1) + (b1(X1) + b2(X2)))*5\n",
    "    loss = loss_fn(yhat, y)\n",
    "    loss.backward()\n",
    "    optimizr.step()\n",
    "    optimizr.zero_grad()\n",
    "\n",
    "## 예측\n",
    "XX1 = torch.nn.functional.one_hot(torch.tensor(df_test.여성출연자.map(여성인덱스)), num_classes = 9).float()\n",
    "XX2 = torch.nn.functional.one_hot(torch.tensor(df_test.남성출연자.map(남성인덱스)), num_classes = 8).float()\n",
    "\n",
    "sig((l1(XX1) * l2(XX2)).sum(axis = 1).reshape(-1, 1) + b1(X1) + b2(X2))*5\n",
    "```"
   ]
  },
  {
   "cell_type": "markdown",
   "id": "2f1310ce-42aa-4944-8c52-8909c09f990c",
   "metadata": {},
   "source": [
    "## 3. 예비학습"
   ]
  },
  {
   "cell_type": "markdown",
   "id": "a62cb66d-19e4-4c31-90ce-55203224a1d9",
   "metadata": {},
   "source": [
    "### A. optimizr 사용 고급"
   ]
  },
  {
   "cell_type": "markdown",
   "id": "b4a7a1fc-33b0-4fb0-b564-b7688cd18e6c",
   "metadata": {},
   "source": [
    "`# 회귀분석`"
   ]
  },
  {
   "cell_type": "code",
   "execution_count": 3,
   "id": "5bc2c37f-bf05-4d2e-97cb-93c29ad15b2d",
   "metadata": {},
   "outputs": [],
   "source": [
    "torch.manual_seed(43052)\n",
    "x,_ = torch.randn(100).sort()\n",
    "x = x.reshape(-1,1)\n",
    "ones= torch.ones(100).reshape(-1,1)\n",
    "X = torch.concat([ones,x],axis=-1)\n",
    "ϵ = torch.randn(100).reshape(-1,1)*0.5\n",
    "y = 2.5+ 4*x + ϵ"
   ]
  },
  {
   "cell_type": "code",
   "execution_count": 5,
   "id": "a9b0181c-d3a2-44db-b7e0-3fd35bc95555",
   "metadata": {},
   "outputs": [
    {
     "data": {
      "image/png": "[encoded data removed]",
      "text/plain": [
       "<Figure size 450x300 with 1 Axes>"
      ]
     },
     "metadata": {},
     "output_type": "display_data"
    }
   ],
   "source": [
    "plt.plot(x,y,'o');"
   ]
  },
  {
   "cell_type": "code",
   "execution_count": 6,
   "id": "e7c9231d-7135-42f8-b9fd-f0969b3f6259",
   "metadata": {},
   "outputs": [],
   "source": [
    "w = torch.tensor(10.0,requires_grad=True) ## 계수\n",
    "b = torch.tensor(-5.0,requires_grad=True) ## 절편"
   ]
  },
  {
   "cell_type": "code",
   "execution_count": 10,
   "id": "33413030-4f9a-410e-8400-425cd9e5233a",
   "metadata": {},
   "outputs": [
    {
     "data": {
      "image/png": "[encoded data removed]",
      "text/plain": [
       "<Figure size 450x300 with 1 Axes>"
      ]
     },
     "metadata": {},
     "output_type": "display_data"
    }
   ],
   "source": [
    "plt.plot(x,y,'o')\n",
    "plt.plot(x,(x*w + b).data,'--');"
   ]
  },
  {
   "cell_type": "markdown",
   "id": "4948bba0-915f-4f1c-be4b-6822ac7e5754",
   "metadata": {},
   "source": [
    "`-` 지금까지 업데이트를 하기 위해서는 네트워크 객체가 생성되어 있어야 했음\n",
    "\n",
    "> `torch.optim.SGD()`를 이용하여 What을 update\n",
    ">\n",
    "> 만약 아담을 쓰려면?"
   ]
  },
  {
   "cell_type": "code",
   "execution_count": 12,
   "id": "5bcf7660-f3e9-48b4-afa1-12467f68391c",
   "metadata": {},
   "outputs": [],
   "source": [
    "loss_fn = torch.nn.MSELoss()\n",
    "optimizr = torch.optim.SGD([w, b], lr = 0.1)\n",
    "\n",
    "##---##\n",
    "for epoc in range(30) :\n",
    "    yhat = x*w + b\n",
    "    loss = loss_fn(yhat, y)\n",
    "    loss.backward()\n",
    "    optimizr.step()\n",
    "    optimizr.zero_grad()"
   ]
  },
  {
   "cell_type": "code",
   "execution_count": 14,
   "id": "08632d9b-271b-4eee-b675-2ffab2ce44e5",
   "metadata": {},
   "outputs": [
    {
     "data": {
      "image/png": "[encoded data removed]",
      "text/plain": [
       "<Figure size 450x300 with 1 Axes>"
      ]
     },
     "metadata": {},
     "output_type": "display_data"
    }
   ],
   "source": [
    "plt.plot(x,y,'o')\n",
    "plt.plot(x,(x*w + b).data,'--');"
   ]
  },
  {
   "cell_type": "code",
   "execution_count": 15,
   "id": "bc270c02-f064-485d-8d68-9f7e7306c0bf",
   "metadata": {},
   "outputs": [
    {
     "data": {
      "text/plain": [
       "\u001b[0;31mInit signature:\u001b[0m\n",
       "\u001b[0mtorch\u001b[0m\u001b[0;34m.\u001b[0m\u001b[0moptim\u001b[0m\u001b[0;34m.\u001b[0m\u001b[0mSGD\u001b[0m\u001b[0;34m(\u001b[0m\u001b[0;34m\u001b[0m\n",
       "\u001b[0;34m\u001b[0m    \u001b[0mparams\u001b[0m\u001b[0;34m:\u001b[0m \u001b[0mUnion\u001b[0m\u001b[0;34m[\u001b[0m\u001b[0mIterable\u001b[0m\u001b[0;34m[\u001b[0m\u001b[0mtorch\u001b[0m\u001b[0;34m.\u001b[0m\u001b[0mTensor\u001b[0m\u001b[0;34m]\u001b[0m\u001b[0;34m,\u001b[0m \u001b[0mIterable\u001b[0m\u001b[0;34m[\u001b[0m\u001b[0mDict\u001b[0m\u001b[0;34m[\u001b[0m\u001b[0mstr\u001b[0m\u001b[0;34m,\u001b[0m \u001b[0mAny\u001b[0m\u001b[0;34m]\u001b[0m\u001b[0;34m]\u001b[0m\u001b[0;34m,\u001b[0m \u001b[0mIterable\u001b[0m\u001b[0;34m[\u001b[0m\u001b[0mTuple\u001b[0m\u001b[0;34m[\u001b[0m\u001b[0mstr\u001b[0m\u001b[0;34m,\u001b[0m \u001b[0mtorch\u001b[0m\u001b[0;34m.\u001b[0m\u001b[0mTensor\u001b[0m\u001b[0;34m]\u001b[0m\u001b[0;34m]\u001b[0m\u001b[0;34m]\u001b[0m\u001b[0;34m,\u001b[0m\u001b[0;34m\u001b[0m\n",
       "\u001b[0;34m\u001b[0m    \u001b[0mlr\u001b[0m\u001b[0;34m:\u001b[0m \u001b[0mUnion\u001b[0m\u001b[0;34m[\u001b[0m\u001b[0mfloat\u001b[0m\u001b[0;34m,\u001b[0m \u001b[0mtorch\u001b[0m\u001b[0;34m.\u001b[0m\u001b[0mTensor\u001b[0m\u001b[0;34m]\u001b[0m \u001b[0;34m=\u001b[0m \u001b[0;36m0.001\u001b[0m\u001b[0;34m,\u001b[0m\u001b[0;34m\u001b[0m\n",
       "\u001b[0;34m\u001b[0m    \u001b[0mmomentum\u001b[0m\u001b[0;34m:\u001b[0m \u001b[0mfloat\u001b[0m \u001b[0;34m=\u001b[0m \u001b[0;36m0\u001b[0m\u001b[0;34m,\u001b[0m\u001b[0;34m\u001b[0m\n",
       "\u001b[0;34m\u001b[0m    \u001b[0mdampening\u001b[0m\u001b[0;34m:\u001b[0m \u001b[0mfloat\u001b[0m \u001b[0;34m=\u001b[0m \u001b[0;36m0\u001b[0m\u001b[0;34m,\u001b[0m\u001b[0;34m\u001b[0m\n",
       "\u001b[0;34m\u001b[0m    \u001b[0mweight_decay\u001b[0m\u001b[0;34m:\u001b[0m \u001b[0mfloat\u001b[0m \u001b[0;34m=\u001b[0m \u001b[0;36m0\u001b[0m\u001b[0;34m,\u001b[0m\u001b[0;34m\u001b[0m\n",
       "\u001b[0;34m\u001b[0m    \u001b[0mnesterov\u001b[0m\u001b[0;34m:\u001b[0m \u001b[0mbool\u001b[0m \u001b[0;34m=\u001b[0m \u001b[0;32mFalse\u001b[0m\u001b[0;34m,\u001b[0m\u001b[0;34m\u001b[0m\n",
       "\u001b[0;34m\u001b[0m    \u001b[0;34m*\u001b[0m\u001b[0;34m,\u001b[0m\u001b[0;34m\u001b[0m\n",
       "\u001b[0;34m\u001b[0m    \u001b[0mmaximize\u001b[0m\u001b[0;34m:\u001b[0m \u001b[0mbool\u001b[0m \u001b[0;34m=\u001b[0m \u001b[0;32mFalse\u001b[0m\u001b[0;34m,\u001b[0m\u001b[0;34m\u001b[0m\n",
       "\u001b[0;34m\u001b[0m    \u001b[0mforeach\u001b[0m\u001b[0;34m:\u001b[0m \u001b[0mOptional\u001b[0m\u001b[0;34m[\u001b[0m\u001b[0mbool\u001b[0m\u001b[0;34m]\u001b[0m \u001b[0;34m=\u001b[0m \u001b[0;32mNone\u001b[0m\u001b[0;34m,\u001b[0m\u001b[0;34m\u001b[0m\n",
       "\u001b[0;34m\u001b[0m    \u001b[0mdifferentiable\u001b[0m\u001b[0;34m:\u001b[0m \u001b[0mbool\u001b[0m \u001b[0;34m=\u001b[0m \u001b[0;32mFalse\u001b[0m\u001b[0;34m,\u001b[0m\u001b[0;34m\u001b[0m\n",
       "\u001b[0;34m\u001b[0m    \u001b[0mfused\u001b[0m\u001b[0;34m:\u001b[0m \u001b[0mOptional\u001b[0m\u001b[0;34m[\u001b[0m\u001b[0mbool\u001b[0m\u001b[0;34m]\u001b[0m \u001b[0;34m=\u001b[0m \u001b[0;32mNone\u001b[0m\u001b[0;34m,\u001b[0m\u001b[0;34m\u001b[0m\n",
       "\u001b[0;34m\u001b[0m\u001b[0;34m)\u001b[0m\u001b[0;34m\u001b[0m\u001b[0;34m\u001b[0m\u001b[0m\n",
       "\u001b[0;31mDocstring:\u001b[0m     \n",
       "Implements stochastic gradient descent (optionally with momentum).\n",
       "\n",
       ".. math::\n",
       "   \\begin{aligned}\n",
       "        &\\rule{110mm}{0.4pt}                                                                 \\\\\n",
       "        &\\textbf{input}      : \\gamma \\text{ (lr)}, \\: \\theta_0 \\text{ (params)}, \\: f(\\theta)\n",
       "            \\text{ (objective)}, \\: \\lambda \\text{ (weight decay)},                          \\\\\n",
       "        &\\hspace{13mm} \\:\\mu \\text{ (momentum)}, \\:\\tau \\text{ (dampening)},\n",
       "        \\:\\textit{ nesterov,}\\:\\textit{ maximize}                                     \\\\[-1.ex]\n",
       "        &\\rule{110mm}{0.4pt}                                                                 \\\\\n",
       "        &\\textbf{for} \\: t=1 \\: \\textbf{to} \\: \\ldots \\: \\textbf{do}                         \\\\\n",
       "        &\\hspace{5mm}g_t           \\leftarrow   \\nabla_{\\theta} f_t (\\theta_{t-1})           \\\\\n",
       "        &\\hspace{5mm}\\textbf{if} \\: \\lambda \\neq 0                                           \\\\\n",
       "        &\\hspace{10mm} g_t \\leftarrow g_t + \\lambda  \\theta_{t-1}                            \\\\\n",
       "        &\\hspace{5mm}\\textbf{if} \\: \\mu \\neq 0                                               \\\\\n",
       "        &\\hspace{10mm}\\textbf{if} \\: t > 1                                                   \\\\\n",
       "        &\\hspace{15mm} \\textbf{b}_t \\leftarrow \\mu \\textbf{b}_{t-1} + (1-\\tau) g_t           \\\\\n",
       "        &\\hspace{10mm}\\textbf{else}                                                          \\\\\n",
       "        &\\hspace{15mm} \\textbf{b}_t \\leftarrow g_t                                           \\\\\n",
       "        &\\hspace{10mm}\\textbf{if} \\: \\textit{nesterov}                                       \\\\\n",
       "        &\\hspace{15mm} g_t \\leftarrow g_{t} + \\mu \\textbf{b}_t                             \\\\\n",
       "        &\\hspace{10mm}\\textbf{else}                                                   \\\\[-1.ex]\n",
       "        &\\hspace{15mm} g_t  \\leftarrow  \\textbf{b}_t                                         \\\\\n",
       "        &\\hspace{5mm}\\textbf{if} \\: \\textit{maximize}                                          \\\\\n",
       "        &\\hspace{10mm}\\theta_t \\leftarrow \\theta_{t-1} + \\gamma g_t                   \\\\[-1.ex]\n",
       "        &\\hspace{5mm}\\textbf{else}                                                    \\\\[-1.ex]\n",
       "        &\\hspace{10mm}\\theta_t \\leftarrow \\theta_{t-1} - \\gamma g_t                   \\\\[-1.ex]\n",
       "        &\\rule{110mm}{0.4pt}                                                          \\\\[-1.ex]\n",
       "        &\\bf{return} \\:  \\theta_t                                                     \\\\[-1.ex]\n",
       "        &\\rule{110mm}{0.4pt}                                                          \\\\[-1.ex]\n",
       "   \\end{aligned}\n",
       "\n",
       "Nesterov momentum is based on the formula from\n",
       "`On the importance of initialization and momentum in deep learning`__.\n",
       "\n",
       "Args:\n",
       "    params (iterable): iterable of parameters or named_parameters to optimize\n",
       "        or iterable of dicts defining parameter groups. When using named_parameters,\n",
       "        all parameters in all groups should be named\n",
       "    lr (float, Tensor, optional): learning rate (default: 1e-3)\n",
       "    momentum (float, optional): momentum factor (default: 0)\n",
       "    dampening (float, optional): dampening for momentum (default: 0)\n",
       "    weight_decay (float, optional): weight decay (L2 penalty) (default: 0)\n",
       "    nesterov (bool, optional): enables Nesterov momentum. Only applicable\n",
       "        when momentum is non-zero. (default: False)\n",
       "    maximize (bool, optional): maximize the objective with respect to the\n",
       "        params, instead of minimizing (default: False)\n",
       "    foreach (bool, optional): whether foreach implementation of optimizer\n",
       "        is used. If unspecified by the user (so foreach is None), we will try to use\n",
       "        foreach over the for-loop implementation on CUDA, since it is usually\n",
       "        significantly more performant. Note that the foreach implementation uses\n",
       "        ~ sizeof(params) more peak memory than the for-loop version due to the intermediates\n",
       "        being a tensorlist vs just one tensor. If memory is prohibitive, batch fewer\n",
       "        parameters through the optimizer at a time or switch this flag to False (default: None)\n",
       "    differentiable (bool, optional): whether autograd should\n",
       "        occur through the optimizer step in training. Otherwise, the step()\n",
       "        function runs in a torch.no_grad() context. Setting to True can impair\n",
       "        performance, so leave it False if you don't intend to run autograd\n",
       "        through this instance (default: False)\n",
       "    fused (bool, optional): whether the fused implementation is used.\n",
       "        Currently, `torch.float64`, `torch.float32`, `torch.float16`, and `torch.bfloat16`\n",
       "        are supported. (default: None)\n",
       "\n",
       ".. note:: The foreach and fused implementations are typically faster than the for-loop,\n",
       "          single-tensor implementation, with fused being theoretically fastest with both\n",
       "          vertical and horizontal fusion. As such, if the user has not specified either\n",
       "          flag (i.e., when foreach = fused = None), we will attempt defaulting to the foreach\n",
       "          implementation when the tensors are all on CUDA. Why not fused? Since the fused\n",
       "          implementation is relatively new, we want to give it sufficient bake-in time.\n",
       "          To specify fused, pass True for fused. To force running the for-loop\n",
       "          implementation, pass False for either foreach or fused. \n",
       "\n",
       "\n",
       "Example:\n",
       "    >>> # xdoctest: +SKIP\n",
       "    >>> optimizer = torch.optim.SGD(model.parameters(), lr=0.1, momentum=0.9)\n",
       "    >>> optimizer.zero_grad()\n",
       "    >>> loss_fn(model(input), target).backward()\n",
       "    >>> optimizer.step()\n",
       "\n",
       "__ http://www.cs.toronto.edu/%7Ehinton/absps/momentum.pdf\n",
       "\n",
       ".. note::\n",
       "    The implementation of SGD with Momentum/Nesterov subtly differs from\n",
       "    Sutskever et al. and implementations in some other frameworks.\n",
       "\n",
       "    Considering the specific case of Momentum, the update can be written as\n",
       "\n",
       "    .. math::\n",
       "        \\begin{aligned}\n",
       "            v_{t+1} & = \\mu * v_{t} + g_{t+1}, \\\\\n",
       "            p_{t+1} & = p_{t} - \\text{lr} * v_{t+1},\n",
       "        \\end{aligned}\n",
       "\n",
       "    where :math:`p`, :math:`g`, :math:`v` and :math:`\\mu` denote the\n",
       "    parameters, gradient, velocity, and momentum respectively.\n",
       "\n",
       "    This is in contrast to Sutskever et al. and\n",
       "    other frameworks which employ an update of the form\n",
       "\n",
       "    .. math::\n",
       "        \\begin{aligned}\n",
       "            v_{t+1} & = \\mu * v_{t} + \\text{lr} * g_{t+1}, \\\\\n",
       "            p_{t+1} & = p_{t} - v_{t+1}.\n",
       "        \\end{aligned}\n",
       "\n",
       "    The Nesterov version is analogously modified.\n",
       "\n",
       "    Moreover, the initial value of the momentum buffer is set to the\n",
       "    gradient value at the first step. This is in contrast to some other\n",
       "    frameworks that initialize it to all zeros.\n",
       "\u001b[0;31mFile:\u001b[0m           ~/anaconda3/envs/dl/lib/python3.9/site-packages/torch/optim/sgd.py\n",
       "\u001b[0;31mType:\u001b[0m           type\n",
       "\u001b[0;31mSubclasses:\u001b[0m     "
      ]
     },
     "metadata": {},
     "output_type": "display_data"
    }
   ],
   "source": [
    "?torch.optim.SGD"
   ]
  },
  {
   "cell_type": "markdown",
   "id": "5355e453-ec9b-46d6-a577-81ddf1341824",
   "metadata": {},
   "source": [
    "> 파라미터들은 Iterable로만 들어가면 충분함..."
   ]
  },
  {
   "cell_type": "markdown",
   "id": "3f3f7e33-5112-4fa1-a746-af6a14218dd7",
   "metadata": {},
   "source": [
    "`#`\n",
    "\n",
    "`# 2025-중간고사 3번`"
   ]
  },
  {
   "cell_type": "code",
   "execution_count": 16,
   "id": "f4c2d285-27b7-4c41-8600-a44c9864f1b8",
   "metadata": {},
   "outputs": [],
   "source": [
    "torch.manual_seed(43052)\n",
    "dist = torch.distributions.Exponential(1/2)\n",
    "x = dist.sample((10000,1))"
   ]
  },
  {
   "cell_type": "markdown",
   "id": "b03ae370-d024-4660-8aa4-0cf9246c6a0f",
   "metadata": {},
   "source": [
    "주어진 자료 $x_i$에 대하여 함수 $l(\\lambda)$를 최대화하는 $\\lambda$를\n",
    "경사하강법 기반의 알고리즘을 이용하여 추정하라. 단 이때 $\\lambda$의 초기\n",
    "추정값은 1로 설정하라.\n",
    "\n",
    "$$\n",
    "l(\\lambda) =\\frac{1}{n} \\sum_{i=1}^{n}\\log f(x_i), \\quad f(x_i) = \\frac{1}{\\lambda} e^{-\\frac{x_i}{\\lambda}}, \\quad x_i \\geq 0\n",
    "$$\n",
    "\n",
    "**hint**\n",
    "\n",
    "-   $l(\\lambda)$를 최대화하는 $\\lambda$는 $-l(\\lambda)$를 최소화합니다.\n",
    "-   이론적으로는 $l(\\lambda)$를 최대화하는 $\\lambda$는 `x.mean()`입니다.\n",
    "    즉 제대로 $\\lambda$를 추정한다면 `x.mean()`이 나오도록 되어있습니다.\n",
    "-   저는 경사하강법을 이용했고 학습률은 0.05로 설정했습니다. 1000회\n",
    "    update하니까 잘 수렴했습니다.\n",
    "\n",
    "`(풀이1)`"
   ]
  },
  {
   "cell_type": "code",
   "execution_count": 19,
   "id": "882498d8-7339-43f3-aad8-5d118cff37bd",
   "metadata": {},
   "outputs": [],
   "source": [
    "lamb = torch.tensor(1.0, requires_grad = True)"
   ]
  },
  {
   "cell_type": "code",
   "execution_count": 20,
   "id": "d168e0eb-5558-48b8-92dc-dde44a939215",
   "metadata": {},
   "outputs": [],
   "source": [
    "for i in range(1000) :\n",
    "    fx = torch.exp(-x/lamb)/lamb\n",
    "    l = torch.log(fx).mean()\n",
    "    (-l).backward()\n",
    "    lamb.data -= 0.1*lamb.grad\n",
    "    lamb.grad = None"
   ]
  },
  {
   "cell_type": "code",
   "execution_count": 21,
   "id": "5d3f1e1c-eab7-465f-956a-27ac7f925ec6",
   "metadata": {},
   "outputs": [
    {
     "data": {
      "text/plain": [
       "tensor(1.9874, requires_grad=True)"
      ]
     },
     "execution_count": 21,
     "metadata": {},
     "output_type": "execute_result"
    }
   ],
   "source": [
    "lamb"
   ]
  },
  {
   "cell_type": "markdown",
   "id": "6ef88a42-755d-4adf-80e6-e342d14aea2c",
   "metadata": {},
   "source": [
    "`(풀이2)`"
   ]
  },
  {
   "cell_type": "code",
   "execution_count": 24,
   "id": "30407b3a-b1d6-4d58-b00a-9ba568590ce0",
   "metadata": {},
   "outputs": [],
   "source": [
    "lamb = torch.tensor(1.0, requires_grad = True)\n",
    "optimizr = torch.optim.SGD([lamb], lr = 0.1)\n",
    "\n",
    "for _ in range(1000) :\n",
    "    fx = torch.exp(-x/lamb)/lamb\n",
    "    l = torch.log(fx).mean()\n",
    "    (-l).backward()\n",
    "    optimizr.step()\n",
    "    optimizr.zero_grad()"
   ]
  },
  {
   "cell_type": "code",
   "execution_count": 25,
   "id": "b1ae9084-0fe3-4737-a3d1-5367d2af69c0",
   "metadata": {},
   "outputs": [
    {
     "data": {
      "text/plain": [
       "tensor(1.9874, requires_grad=True)"
      ]
     },
     "execution_count": 25,
     "metadata": {},
     "output_type": "execute_result"
    }
   ],
   "source": [
    "lamb"
   ]
  },
  {
   "cell_type": "markdown",
   "id": "37d413f8-a767-4078-9780-82caf268aa4e",
   "metadata": {},
   "source": [
    "### B. 모델링 전략"
   ]
  },
  {
   "cell_type": "markdown",
   "id": "7bacbb5a-d225-45e2-8a7a-b404074c8a69",
   "metadata": {},
   "source": [
    "`# 2025-중간고사 4번` – 자유 낙하 운동이란 어떤 물체가 일정한 높이에서\n",
    "떨어져 지면에 도달하기 까지 걸리는 시간을 다루는 물리학 개념이다. 다음은\n",
    "물리학의 자유 낙하 운동에서 착안하여 생성한 데이터이다."
   ]
  },
  {
   "cell_type": "code",
   "execution_count": 97,
   "id": "69b6df62-6484-4da0-9377-c3075e6ce2ca",
   "metadata": {},
   "outputs": [],
   "source": [
    "torch.manual_seed(43052)\n",
    "h = torch.rand(100)*100\n",
    "h,_ = h.sort()\n",
    "h = h.reshape(100,1)\n",
    "t = torch.sqrt(2*h/9.8) + torch.randn([100,1])*0.1"
   ]
  },
  {
   "cell_type": "markdown",
   "id": "641dd357-57f0-4af9-8f6d-13217d928184",
   "metadata": {},
   "source": [
    "여기에서 $h$는 낙하전의 높이(단위: m), $t$는 해당높이에서 물치가 지면에\n",
    "도달하기 까지 걸리는 시간(단위:초)을 의미한다. 예를 들어 아래의 자료는\n",
    "$h=99.3920, t=4.4583$를 의미하는데"
   ]
  },
  {
   "cell_type": "code",
   "execution_count": 29,
   "id": "79cb2f5b-c056-4686-a832-ac1b04d2f90a",
   "metadata": {
    "vscode": {
     "languageId": "python"
    }
   },
   "outputs": [
    {
     "data": {
      "text/plain": [
       "(tensor([99.3920]), tensor([4.4583]))"
      ]
     },
     "execution_count": 29,
     "metadata": {},
     "output_type": "execute_result"
    }
   ],
   "source": [
    "h[-1], t[-1]"
   ]
  },
  {
   "cell_type": "markdown",
   "id": "e6bb3717-ef2a-4e24-90ff-69dbaed1f6d5",
   "metadata": {},
   "source": [
    "이것은 높이 $99.3920$m에서 낙하한 물체가 약 $4.4583$초만에 지면에\n",
    "도달했음을 의미한다. 아래의 그림은 $x$축에 $h$, $y$축에 $t$를 두고 해당\n",
    "데이터를 산점도로 시각화 한 것이다."
   ]
  },
  {
   "cell_type": "code",
   "execution_count": 30,
   "id": "4315e8ad-121d-4f3b-9cad-34f6449af82b",
   "metadata": {
    "vscode": {
     "languageId": "python"
    }
   },
   "outputs": [
    {
     "data": {
      "image/png": "[encoded data removed]",
      "text/plain": [
       "<Figure size 450x300 with 1 Axes>"
      ]
     },
     "metadata": {},
     "output_type": "display_data"
    }
   ],
   "source": [
    "plt.plot(h,t,'o',alpha=0.5)\n",
    "plt.xlabel('Height (m)')\n",
    "plt.ylabel('Time to fall (sec)')\n",
    "plt.title('Free Fall Time vs Height')\n",
    "plt.grid(True)\n",
    "plt.show()"
   ]
  },
  {
   "cell_type": "markdown",
   "id": "0dc24c5c-b22a-48e8-a888-fcc42bc634db",
   "metadata": {},
   "source": [
    "그래프를 보면 높이가 높을 수록 낙하시간도 길어지는 경향이 관찰된다. 다만\n",
    "동일한 높이라 하더라도 낙하시간이 조금씩 차이나는 경우가 있는데, 이는\n",
    "사람이 시간측정을 수동으로 하며 발생하는 실험오차 때문이다. 이러한\n",
    "오차에도 불구하고 $h$와 $t$사이에는 일정한 규칙이 존재하는듯 하다.\n",
    "물리학과 교수님께 자문을 요청한 결과 자유낙하에 걸리는 시간은\n",
    "$\\sqrt{h}$에 비례함을 알 수 있었고 이를 근거로 아래와 같은 모형을\n",
    "설계하였다.\n",
    "\n",
    "$$t_i = \\beta_0 + \\beta_1 \\sqrt{h_i}+\\epsilon_i, \\quad \\epsilon_i \\sim {\\cal N}(0,\\sigma^2)$$\n",
    "\n",
    "위의 모형을 활용하여 높이 $h$로부터 낙하시간 $t$를 예측하는 신경망\n",
    "모델을 설계하고 학습하라. 학습한 신경망 모델을 활용하여 높이 40m,60m,80m\n",
    "에서 물체를 자유낙하 시켰을때 지면에 도달하기까지 걸리는 시간을 각각\n",
    "예측하라.\n",
    "\n",
    "**hint**\n",
    "\n",
    "-   $y_i = t_i$ 로 생각하시고 $x_i= \\sqrt{h}_i$로 생각하시면 그냥\n",
    "    회귀모형이죠?\n",
    "-   답은 $2.8571$초, $3.4493$초, $4.0406$초 근처로 나오면 됩니다.\n",
    "-   제시된 모형($t_i = \\beta_0 + \\beta_1 \\sqrt{h_i}+\\epsilon_i$)을\n",
    "    무시하고 04wk-2와 같은 방식으로 신경망을 설계하고 푸셔도 만점으로\n",
    "    인정합니다.\n",
    "\n",
    "`(풀이1)`"
   ]
  },
  {
   "cell_type": "code",
   "execution_count": 38,
   "id": "156dc0d8-9ffe-4872-9bd3-e118ba765248",
   "metadata": {},
   "outputs": [],
   "source": [
    "net = torch.nn.Sequential(\n",
    "    torch.nn.Linear(1, 32),\n",
    "    torch.nn.ReLU(),\n",
    "    torch.nn.Linear(32, 1)\n",
    ")\n",
    "\n",
    "loss_fn = torch.nn.MSELoss()\n",
    "optimizr = torch.optim.Adam(net.parameters())\n",
    "\n",
    "##---##\n",
    "for epoc in range(2000) :\n",
    "    that = net(h)\n",
    "    loss = loss_fn(that, t)\n",
    "    loss.backward()\n",
    "    optimizr.step()\n",
    "    optimizr.zero_grad()"
   ]
  },
  {
   "cell_type": "code",
   "execution_count": 43,
   "id": "356660a9-0402-4987-8e86-aee9e26f1e0a",
   "metadata": {},
   "outputs": [],
   "source": [
    "## 네트워크의 조합...\n",
    "linr1 = torch.nn.Linear(1, 32)\n",
    "relu = torch.nn.ReLU()\n",
    "linr2 = torch.nn.Linear(32, 1)\n",
    "\n",
    "loss_fn = torch.nn.MSELoss()\n",
    "optimizr = torch.optim.Adam(list(linr1.parameters()) + list(linr2.parameters()))\n",
    "\n",
    "##---##\n",
    "for epoc in range(2000) :\n",
    "    that = net(h)\n",
    "    loss = loss_fn(that, t)\n",
    "    loss.backward()\n",
    "    optimizr.step()\n",
    "    optimizr.zero_grad()"
   ]
  },
  {
   "cell_type": "code",
   "execution_count": 44,
   "id": "75f135b8-8f19-4dea-b3b2-087b1712e3e9",
   "metadata": {},
   "outputs": [
    {
     "data": {
      "image/png": "[encoded data removed]",
      "text/plain": [
       "<Figure size 450x300 with 1 Axes>"
      ]
     },
     "metadata": {},
     "output_type": "display_data"
    }
   ],
   "source": [
    "plt.plot(h,t,'o',alpha=0.5)\n",
    "plt.xlabel('Height (m)')\n",
    "plt.ylabel('Time to fall (sec)')\n",
    "plt.title('Free Fall Time vs Height')\n",
    "plt.grid(True)\n",
    "plt.plot(h,that.data, '--')\n",
    "plt.show()"
   ]
  },
  {
   "cell_type": "code",
   "execution_count": 40,
   "id": "cc09cf8a-d869-4fc4-a096-2fc438318eec",
   "metadata": {},
   "outputs": [
    {
     "data": {
      "text/plain": [
       "tensor([[2.9054],\n",
       "        [3.4745],\n",
       "        [4.0029]], grad_fn=<AddmmBackward0>)"
      ]
     },
     "execution_count": 40,
     "metadata": {},
     "output_type": "execute_result"
    }
   ],
   "source": [
    "hh = torch.tensor([40, 60, 80]).float().reshape(-1, 1)\n",
    "net(hh)"
   ]
  },
  {
   "cell_type": "markdown",
   "id": "875d56ee-a1aa-4320-99b5-b681bb8864a9",
   "metadata": {},
   "source": [
    "`(풀이2)`"
   ]
  },
  {
   "cell_type": "code",
   "execution_count": 143,
   "id": "9661d440-dc93-498d-9963-659700a5363f",
   "metadata": {},
   "outputs": [],
   "source": [
    "x = h**0.5\n",
    "y = t\n",
    "\n",
    "net = torch.nn.Linear(1, 1)\n",
    "\n",
    "loss_fn = torch.nn.MSELoss()\n",
    "optimizr = torch.optim.Adam(net.parameters(), lr = 0.1)\n",
    "\n",
    "##---##\n",
    "for epoc in range(1000) :\n",
    "    yhat = net(x)\n",
    "\n",
    "    loss = loss_fn(yhat, y)\n",
    "    loss.backward()\n",
    "\n",
    "    optimizr.step()\n",
    "    optimizr.zero_grad()"
   ]
  },
  {
   "cell_type": "code",
   "execution_count": 144,
   "id": "8b00d62a-8c36-4524-8ad9-d7a1d1d7fbee",
   "metadata": {},
   "outputs": [
    {
     "data": {
      "image/png": "[encoded data removed]",
      "text/plain": [
       "<Figure size 450x300 with 1 Axes>"
      ]
     },
     "metadata": {},
     "output_type": "display_data"
    }
   ],
   "source": [
    "plt.plot(h,t,'o',alpha=0.5)\n",
    "plt.xlabel('Height (m)')\n",
    "plt.ylabel('Time to fall (sec)')\n",
    "plt.title('Free Fall Time vs Height')\n",
    "plt.grid(True)\n",
    "plt.plot(x**2,yhat.data, '--')\n",
    "plt.show()"
   ]
  },
  {
   "cell_type": "code",
   "execution_count": 145,
   "id": "e16d4f62-67a3-4ad8-9d92-d1475eb896f1",
   "metadata": {},
   "outputs": [
    {
     "data": {
      "text/plain": [
       "tensor([[2.8534],\n",
       "        [3.4889],\n",
       "        [4.0247]], grad_fn=<AddmmBackward0>)"
      ]
     },
     "execution_count": 145,
     "metadata": {},
     "output_type": "execute_result"
    }
   ],
   "source": [
    "xx = torch.sqrt(torch.tensor([40,60,80])).float().reshape(3,1)\n",
    "net(xx)"
   ]
  },
  {
   "cell_type": "markdown",
   "id": "385749f7-0c72-4307-8742-ff92960a65c6",
   "metadata": {},
   "source": [
    "> 모델링을 할 때, 전문가의 자문을 구하는 방식이 있고, 내맘대로 때려맞추는 방법이 있다."
   ]
  },
  {
   "cell_type": "markdown",
   "id": "df9d8bf5-ad5f-48ad-be86-8f9c5c0e893a",
   "metadata": {},
   "source": [
    "## 4. MF-based 추천 시스템"
   ]
  },
  {
   "cell_type": "markdown",
   "id": "7cdb081a-5487-482b-aa89-2508dfcaccc0",
   "metadata": {},
   "source": [
    "## A. Data: 나는 SOLO\n",
    "\n",
    "`-` Data"
   ]
  },
  {
   "cell_type": "code",
   "execution_count": 146,
   "id": "4ed86fec-fd5a-4f10-bf4b-6df25ea5fbda",
   "metadata": {
    "tags": []
   },
   "outputs": [
    {
     "data": {
      "text/html": [
       "<div>\n",
       "<style scoped>\n",
       "    .dataframe tbody tr th:only-of-type {\n",
       "        vertical-align: middle;\n",
       "    }\n",
       "\n",
       "    .dataframe tbody tr th {\n",
       "        vertical-align: top;\n",
       "    }\n",
       "\n",
       "    .dataframe thead th {\n",
       "        text-align: right;\n",
       "    }\n",
       "</style>\n",
       "<table border=\"1\" class=\"dataframe\">\n",
       "  <thead>\n",
       "    <tr style=\"text-align: right;\">\n",
       "      <th></th>\n",
       "      <th>영식(IN)</th>\n",
       "      <th>영철(IN)</th>\n",
       "      <th>영호(IS)</th>\n",
       "      <th>광수(IS)</th>\n",
       "      <th>상철(EN)</th>\n",
       "      <th>영수(EN)</th>\n",
       "      <th>규빈(ES)</th>\n",
       "      <th>다호(ES)</th>\n",
       "    </tr>\n",
       "  </thead>\n",
       "  <tbody>\n",
       "    <tr>\n",
       "      <th>옥순(IN)</th>\n",
       "      <td>NaN</td>\n",
       "      <td>4.02</td>\n",
       "      <td>3.45</td>\n",
       "      <td>3.42</td>\n",
       "      <td>0.84</td>\n",
       "      <td>1.12</td>\n",
       "      <td>0.43</td>\n",
       "      <td>0.49</td>\n",
       "    </tr>\n",
       "    <tr>\n",
       "      <th>영자(IN)</th>\n",
       "      <td>3.93</td>\n",
       "      <td>3.99</td>\n",
       "      <td>3.63</td>\n",
       "      <td>3.43</td>\n",
       "      <td>0.98</td>\n",
       "      <td>0.96</td>\n",
       "      <td>0.52</td>\n",
       "      <td>NaN</td>\n",
       "    </tr>\n",
       "    <tr>\n",
       "      <th>정숙(IS)</th>\n",
       "      <td>3.52</td>\n",
       "      <td>3.42</td>\n",
       "      <td>4.05</td>\n",
       "      <td>4.06</td>\n",
       "      <td>0.39</td>\n",
       "      <td>NaN</td>\n",
       "      <td>0.93</td>\n",
       "      <td>0.99</td>\n",
       "    </tr>\n",
       "    <tr>\n",
       "      <th>영숙(IS)</th>\n",
       "      <td>3.43</td>\n",
       "      <td>3.57</td>\n",
       "      <td>NaN</td>\n",
       "      <td>3.95</td>\n",
       "      <td>0.56</td>\n",
       "      <td>0.52</td>\n",
       "      <td>0.89</td>\n",
       "      <td>0.89</td>\n",
       "    </tr>\n",
       "    <tr>\n",
       "      <th>순자(EN)</th>\n",
       "      <td>1.12</td>\n",
       "      <td>NaN</td>\n",
       "      <td>0.59</td>\n",
       "      <td>0.43</td>\n",
       "      <td>4.01</td>\n",
       "      <td>4.16</td>\n",
       "      <td>3.52</td>\n",
       "      <td>3.38</td>\n",
       "    </tr>\n",
       "    <tr>\n",
       "      <th>현숙(EN)</th>\n",
       "      <td>0.94</td>\n",
       "      <td>1.05</td>\n",
       "      <td>0.32</td>\n",
       "      <td>0.45</td>\n",
       "      <td>4.02</td>\n",
       "      <td>3.78</td>\n",
       "      <td>NaN</td>\n",
       "      <td>3.54</td>\n",
       "    </tr>\n",
       "    <tr>\n",
       "      <th>서연(ES)</th>\n",
       "      <td>0.51</td>\n",
       "      <td>0.56</td>\n",
       "      <td>0.88</td>\n",
       "      <td>0.89</td>\n",
       "      <td>3.50</td>\n",
       "      <td>3.64</td>\n",
       "      <td>4.04</td>\n",
       "      <td>4.10</td>\n",
       "    </tr>\n",
       "    <tr>\n",
       "      <th>보람(ES)</th>\n",
       "      <td>0.48</td>\n",
       "      <td>0.51</td>\n",
       "      <td>1.03</td>\n",
       "      <td>NaN</td>\n",
       "      <td>3.52</td>\n",
       "      <td>4.00</td>\n",
       "      <td>3.82</td>\n",
       "      <td>NaN</td>\n",
       "    </tr>\n",
       "    <tr>\n",
       "      <th>하니(I)</th>\n",
       "      <td>4.85</td>\n",
       "      <td>4.82</td>\n",
       "      <td>NaN</td>\n",
       "      <td>4.98</td>\n",
       "      <td>4.53</td>\n",
       "      <td>4.39</td>\n",
       "      <td>4.45</td>\n",
       "      <td>4.52</td>\n",
       "    </tr>\n",
       "  </tbody>\n",
       "</table>\n",
       "</div>"
      ],
      "text/plain": [
       "        영식(IN)  영철(IN)  영호(IS)  광수(IS)  상철(EN)  영수(EN)  규빈(ES)  다호(ES)\n",
       "옥순(IN)     NaN    4.02    3.45    3.42    0.84    1.12    0.43    0.49\n",
       "영자(IN)    3.93    3.99    3.63    3.43    0.98    0.96    0.52     NaN\n",
       "정숙(IS)    3.52    3.42    4.05    4.06    0.39     NaN    0.93    0.99\n",
       "영숙(IS)    3.43    3.57     NaN    3.95    0.56    0.52    0.89    0.89\n",
       "순자(EN)    1.12     NaN    0.59    0.43    4.01    4.16    3.52    3.38\n",
       "현숙(EN)    0.94    1.05    0.32    0.45    4.02    3.78     NaN    3.54\n",
       "서연(ES)    0.51    0.56    0.88    0.89    3.50    3.64    4.04    4.10\n",
       "보람(ES)    0.48    0.51    1.03     NaN    3.52    4.00    3.82     NaN\n",
       "하니(I)     4.85    4.82     NaN    4.98    4.53    4.39    4.45    4.52"
      ]
     },
     "execution_count": 146,
     "metadata": {},
     "output_type": "execute_result"
    }
   ],
   "source": [
    "df_view = pd.read_csv('https://raw.githubusercontent.com/guebin/DL2025/main/posts/iamsolo.csv',index_col=0)\n",
    "df_view"
   ]
  },
  {
   "cell_type": "markdown",
   "id": "b8e41db2-ad4d-47c4-8f40-c702f4010155",
   "metadata": {},
   "source": [
    "`-` 데이터를 이해할 때 필요한 가정들 – 제가 마음대로 설정했어요..\n",
    "\n",
    "-   궁합이 잘맞으면 5점, 잘 안맞으면 0점 이다.\n",
    "-   MBTI 성향에 따라서 궁함의 정도가 다르다. 특히 I/E의 성향일치가\n",
    "    중요하다.\n",
    "-   하니는 모든 사람들과 대체로 궁합이 잘 맞는다.\n",
    "\n",
    "## B. 아이디어\n",
    "\n",
    "`-` 목표: `NaN`을 추정\n",
    "\n",
    "`-` 수동추론: 그럴듯한 숫자를 추정해보자.\n",
    "\n",
    "-   옥순(IN),영식(IN)의 궁합은? $\\to$ 잘 맞을듯\n",
    "-   서연(ES),규빈(ES)의 궁합은? $\\to$ 잘 맞을듯\n",
    "-   영자(IN),다호(ES)의 궁합은? $\\to$ 잘 안맞을듯\n",
    "-   하니(I),영호(IS)의 궁합은? $\\to$엄청 잘 맞을듯\n",
    "\n",
    "`-` 좀 더 체계적인 추론 전략\n",
    "\n",
    "> I ~ E -> 2.0 ~ -2.0\n",
    ">\n",
    "> N ~ S -> 2.0 ~ -2.0"
   ]
  },
  {
   "cell_type": "code",
   "execution_count": 151,
   "id": "4a6d1ac5-2fd2-4524-9f52-01f3b2fabb8c",
   "metadata": {},
   "outputs": [],
   "source": [
    "sig = torch.nn.Sigmoid()"
   ]
  },
  {
   "cell_type": "markdown",
   "id": "1a6a09f1-f24f-4db0-b132-38e46bb60cf1",
   "metadata": {},
   "source": [
    "**(1)** 옥순(IN)과 영식(IN)의 궁합 $\\approx$\n",
    "옥순의I/E성향$\\times$영식의I/E성향 $+$\n",
    "옥순의N/S성향$\\times$영식의N/S성향"
   ]
  },
  {
   "cell_type": "code",
   "execution_count": 153,
   "id": "fc040762-242d-463c-8186-96890ed00000",
   "metadata": {},
   "outputs": [
    {
     "data": {
      "text/plain": [
       "tensor(4.9963)"
      ]
     },
     "execution_count": 153,
     "metadata": {},
     "output_type": "execute_result"
    }
   ],
   "source": [
    "옥순성향 = torch.tensor([1.9, 1.9])\n",
    "영식성향 = torch.tensor([1.9, 1.9])\n",
    "\n",
    "sig((옥순성향 * 영식성향).sum())*5"
   ]
  },
  {
   "cell_type": "markdown",
   "id": "7c61644c-8b87-468b-9976-23f22416be57",
   "metadata": {},
   "source": [
    "**(2)** 서연(ES)과 규빈(ES)의 궁합 $\\approx$\n",
    "서연의I/E성향$\\times$규빈의I/E성향 $+$\n",
    "서연의N/S성향$\\times$규빈의N/S성향"
   ]
  },
  {
   "cell_type": "code",
   "execution_count": 154,
   "id": "9c3fb17d-e86e-4873-a3f9-ad91edbc0004",
   "metadata": {},
   "outputs": [
    {
     "data": {
      "text/plain": [
       "tensor(4.9963)"
      ]
     },
     "execution_count": 154,
     "metadata": {},
     "output_type": "execute_result"
    }
   ],
   "source": [
    "서연성향 = torch.tensor([-1.9, -1.9])\n",
    "규빈성향 = torch.tensor([-1.9, -1.9])\n",
    "\n",
    "sig((서연성향 * 규빈성향).sum())*5"
   ]
  },
  {
   "cell_type": "markdown",
   "id": "5962754d-f827-4fdb-8918-76bdeefc6bdc",
   "metadata": {},
   "source": [
    "**(3)** 영자(IN)와 다호(ES)의 궁합 $\\approx$\n",
    "영자I/E성향$\\times$다호I/E성향 $+$ 영자N/S성향$\\times$다호의N/S성향"
   ]
  },
  {
   "cell_type": "code",
   "execution_count": 155,
   "id": "648e7d8f-6da8-4555-8fc8-6463ed27f40b",
   "metadata": {},
   "outputs": [
    {
     "data": {
      "text/plain": [
       "tensor(0.0037)"
      ]
     },
     "execution_count": 155,
     "metadata": {},
     "output_type": "execute_result"
    }
   ],
   "source": [
    "영자성향 = torch.tensor([1.9, 1.9])\n",
    "다호성향 = torch.tensor([-1.9, -1.9])\n",
    "\n",
    "sig((영자성향 * 다호성향).sum())*5"
   ]
  },
  {
   "cell_type": "markdown",
   "id": "caea3356-3297-4494-bfdb-96b68854d844",
   "metadata": {},
   "source": [
    "**(4)** 하니(I)와 영호(IS)의 궁합 $\\approx$\n",
    "하니I/E성향$\\times$영호I/E성향 $+$ 하니N/S성향$\\times$영호의N/S성향 $+$\n",
    "**하니의매력**"
   ]
  },
  {
   "cell_type": "code",
   "execution_count": 157,
   "id": "17672583-8506-4f9e-94a2-2b328727f422",
   "metadata": {},
   "outputs": [
    {
     "data": {
      "text/plain": [
       "tensor(4.9991)"
      ]
     },
     "execution_count": 157,
     "metadata": {},
     "output_type": "execute_result"
    }
   ],
   "source": [
    "하니성향 = torch.tensor([1.9, 0])\n",
    "하니매력 = torch.tensor(5) ## bias 느낌으로다가\n",
    "영호성향 = torch.tensor([1.9, -1.9])\n",
    "\n",
    "sig((하니성향 * 영호성향).sum() + 하니매력)*5"
   ]
  },
  {
   "cell_type": "markdown",
   "id": "77ef083c-8b98-455c-9332-5cee68fcb07f",
   "metadata": {},
   "source": [
    "> 전체적으로 그럴싸함\n",
    "\n",
    "`-` 전체 사용자의 설정값"
   ]
  },
  {
   "cell_type": "code",
   "execution_count": 184,
   "id": "5ec8c274-0632-4002-8eaf-395bbf05a6d0",
   "metadata": {},
   "outputs": [],
   "source": [
    "I, N = 1.8, 0.9 ## default setting"
   ]
  },
  {
   "cell_type": "code",
   "execution_count": 185,
   "id": "a9872348-fc8e-4dc6-b48e-f6e6ec70cb69",
   "metadata": {},
   "outputs": [],
   "source": [
    "옥순성향 = torch.tensor([I, N])\n",
    "영자성향 = torch.tensor([I, N])\n",
    "정숙성향 = torch.tensor([I, -N])\n",
    "영숙성향 = torch.tensor([I, -N])\n",
    "순자성향 = torch.tensor([-I, N])\n",
    "현숙성향 = torch.tensor([-I, N])\n",
    "서연성향 = torch.tensor([-I,-N])\n",
    "보람성향 = torch.tensor([-I,-N])\n",
    "하니성향 = torch.tensor([I,0])"
   ]
  },
  {
   "cell_type": "code",
   "execution_count": 186,
   "id": "3d6a8d2d-4918-4292-b4d6-e0682e479da0",
   "metadata": {},
   "outputs": [
    {
     "data": {
      "text/plain": [
       "(tensor([[ 1.8000,  0.9000],\n",
       "         [ 1.8000,  0.9000],\n",
       "         [ 1.8000, -0.9000],\n",
       "         [ 1.8000, -0.9000],\n",
       "         [-1.8000,  0.9000],\n",
       "         [-1.8000,  0.9000],\n",
       "         [-1.8000, -0.9000],\n",
       "         [-1.8000, -0.9000],\n",
       "         [ 1.8000,  0.0000]]),\n",
       " tensor([[0.],\n",
       "         [0.],\n",
       "         [0.],\n",
       "         [0.],\n",
       "         [0.],\n",
       "         [0.],\n",
       "         [0.],\n",
       "         [0.],\n",
       "         [5.]]))"
      ]
     },
     "execution_count": 186,
     "metadata": {},
     "output_type": "execute_result"
    }
   ],
   "source": [
    "W = torch.stack([옥순성향,영자성향,정숙성향,영숙성향,순자성향,현숙성향,서연성향,보람성향,하니성향]) ## woman\n",
    "b1 = torch.tensor([0]*8 + [5]).reshape(-1, 1).float()\n",
    "W, b1"
   ]
  },
  {
   "cell_type": "code",
   "execution_count": 187,
   "id": "e325d040-cee0-4e02-b087-679aa2b78341",
   "metadata": {},
   "outputs": [
    {
     "data": {
      "text/plain": [
       "(tensor([[ 1.8000,  0.9000],\n",
       "         [ 1.8000,  0.9000],\n",
       "         [ 1.8000, -0.9000],\n",
       "         [ 1.8000, -0.9000],\n",
       "         [-1.8000,  0.9000],\n",
       "         [-1.8000,  0.9000],\n",
       "         [-1.8000, -0.9000],\n",
       "         [-1.8000, -0.9000]]),\n",
       " tensor([[0.],\n",
       "         [0.],\n",
       "         [0.],\n",
       "         [0.],\n",
       "         [0.],\n",
       "         [0.],\n",
       "         [0.],\n",
       "         [0.]]))"
      ]
     },
     "execution_count": 187,
     "metadata": {},
     "output_type": "execute_result"
    }
   ],
   "source": [
    "영식성향 = torch.tensor([I,N])\n",
    "영철성향 = torch.tensor([I,N])\n",
    "영호성향 = torch.tensor([I,-N])\n",
    "광수성향 = torch.tensor([I,-N])\n",
    "상철성향 = torch.tensor([-I,N])\n",
    "영수성향 = torch.tensor([-I,N])\n",
    "규빈성향 = torch.tensor([-I,-N])\n",
    "다호성향 = torch.tensor([-I,-N])\n",
    "M = torch.stack([영식성향,영철성향,영호성향,광수성향,상철성향,영수성향,규빈성향,다호성향]) # 각 column은 남성출연자의 성향을 의미함\n",
    "b2 = torch.zeros(8).reshape(-1,1).float()\n",
    "M,b2"
   ]
  },
  {
   "cell_type": "code",
   "execution_count": 188,
   "id": "2fc9844a-0680-4336-9678-a0053d6c86d0",
   "metadata": {},
   "outputs": [
    {
     "data": {
      "text/plain": [
       "(torch.Size([9, 2]),\n",
       " torch.Size([8, 2]),\n",
       " torch.Size([9, 1]),\n",
       " torch.Size([8, 1]))"
      ]
     },
     "execution_count": 188,
     "metadata": {},
     "output_type": "execute_result"
    }
   ],
   "source": [
    "W.shape, M.shape, b1.shape, b2.shape"
   ]
  },
  {
   "cell_type": "markdown",
   "id": "69f82582-0587-41d4-a520-dafff802323e",
   "metadata": {},
   "source": [
    "`-` 아래의 행렬곱 관찰"
   ]
  },
  {
   "cell_type": "code",
   "execution_count": 189,
   "id": "e43297d6-f92c-4f23-8f1d-ed10c44d5db5",
   "metadata": {},
   "outputs": [
    {
     "data": {
      "text/plain": [
       "tensor([[0., 0., 0., 0., 0., 0., 0., 0.],\n",
       "        [0., 0., 0., 0., 0., 0., 0., 0.],\n",
       "        [0., 0., 0., 0., 0., 0., 0., 0.],\n",
       "        [0., 0., 0., 0., 0., 0., 0., 0.],\n",
       "        [0., 0., 0., 0., 0., 0., 0., 0.],\n",
       "        [0., 0., 0., 0., 0., 0., 0., 0.],\n",
       "        [0., 0., 0., 0., 0., 0., 0., 0.],\n",
       "        [0., 0., 0., 0., 0., 0., 0., 0.],\n",
       "        [5., 5., 5., 5., 5., 5., 5., 5.]])"
      ]
     },
     "execution_count": 189,
     "metadata": {},
     "output_type": "execute_result"
    }
   ],
   "source": [
    "b1 + b2.T ## 더하기가 안돼야 하는데 브로드캐스팅으로 더해짐. 약간 행렬곱인데 원소를 곱하지 않고 더하는 느낌"
   ]
  },
  {
   "cell_type": "code",
   "execution_count": 190,
   "id": "656669e9-e80e-42fe-a7d4-9a76e2e023bf",
   "metadata": {},
   "outputs": [
    {
     "data": {
      "text/plain": [
       "tensor([[ 4.0500,  4.0500,  2.4300,  2.4300, -2.4300, -2.4300, -4.0500, -4.0500],\n",
       "        [ 4.0500,  4.0500,  2.4300,  2.4300, -2.4300, -2.4300, -4.0500, -4.0500],\n",
       "        [ 2.4300,  2.4300,  4.0500,  4.0500, -4.0500, -4.0500, -2.4300, -2.4300],\n",
       "        [ 2.4300,  2.4300,  4.0500,  4.0500, -4.0500, -4.0500, -2.4300, -2.4300],\n",
       "        [-2.4300, -2.4300, -4.0500, -4.0500,  4.0500,  4.0500,  2.4300,  2.4300],\n",
       "        [-2.4300, -2.4300, -4.0500, -4.0500,  4.0500,  4.0500,  2.4300,  2.4300],\n",
       "        [-4.0500, -4.0500, -2.4300, -2.4300,  2.4300,  2.4300,  4.0500,  4.0500],\n",
       "        [-4.0500, -4.0500, -2.4300, -2.4300,  2.4300,  2.4300,  4.0500,  4.0500],\n",
       "        [ 3.2400,  3.2400,  3.2400,  3.2400, -3.2400, -3.2400, -3.2400, -3.2400]])"
      ]
     },
     "execution_count": 190,
     "metadata": {},
     "output_type": "execute_result"
    }
   ],
   "source": [
    "W @ M.T ## 각 샘플의 두 피처들의 곱을 더하는 방식"
   ]
  },
  {
   "cell_type": "code",
   "execution_count": 191,
   "id": "ab8160a1-1105-4813-bcc0-00d4791e65cf",
   "metadata": {},
   "outputs": [
    {
     "data": {
      "text/plain": [
       "tensor([[4.9144, 4.9144, 4.5954, 4.5954, 0.4046, 0.4046, 0.0856, 0.0856],\n",
       "        [4.9144, 4.9144, 4.5954, 4.5954, 0.4046, 0.4046, 0.0856, 0.0856],\n",
       "        [4.5954, 4.5954, 4.9144, 4.9144, 0.0856, 0.0856, 0.4046, 0.4046],\n",
       "        [4.5954, 4.5954, 4.9144, 4.9144, 0.0856, 0.0856, 0.4046, 0.4046],\n",
       "        [0.4046, 0.4046, 0.0856, 0.0856, 4.9144, 4.9144, 4.5954, 4.5954],\n",
       "        [0.4046, 0.4046, 0.0856, 0.0856, 4.9144, 4.9144, 4.5954, 4.5954],\n",
       "        [0.0856, 0.0856, 0.4046, 0.4046, 4.5954, 4.5954, 4.9144, 4.9144],\n",
       "        [0.0856, 0.0856, 0.4046, 0.4046, 4.5954, 4.5954, 4.9144, 4.9144],\n",
       "        [4.9987, 4.9987, 4.9987, 4.9987, 4.2660, 4.2660, 4.2660, 4.2660]])"
      ]
     },
     "execution_count": 191,
     "metadata": {},
     "output_type": "execute_result"
    }
   ],
   "source": [
    "sig((W @ M.T) + (b1 + b2.T))*5"
   ]
  },
  {
   "cell_type": "code",
   "execution_count": 192,
   "id": "b3a4fc4f-6e37-4c74-80a2-10a63fa820d6",
   "metadata": {},
   "outputs": [
    {
     "data": {
      "text/html": [
       "<div>\n",
       "<style scoped>\n",
       "    .dataframe tbody tr th:only-of-type {\n",
       "        vertical-align: middle;\n",
       "    }\n",
       "\n",
       "    .dataframe tbody tr th {\n",
       "        vertical-align: top;\n",
       "    }\n",
       "\n",
       "    .dataframe thead th {\n",
       "        text-align: right;\n",
       "    }\n",
       "</style>\n",
       "<table border=\"1\" class=\"dataframe\">\n",
       "  <thead>\n",
       "    <tr style=\"text-align: right;\">\n",
       "      <th></th>\n",
       "      <th>영식(IN)</th>\n",
       "      <th>영철(IN)</th>\n",
       "      <th>영호(IS)</th>\n",
       "      <th>광수(IS)</th>\n",
       "      <th>상철(EN)</th>\n",
       "      <th>영수(EN)</th>\n",
       "      <th>규빈(ES)</th>\n",
       "      <th>다호(ES)</th>\n",
       "    </tr>\n",
       "  </thead>\n",
       "  <tbody>\n",
       "    <tr>\n",
       "      <th>옥순(IN)</th>\n",
       "      <td>NaN</td>\n",
       "      <td>4.02</td>\n",
       "      <td>3.45</td>\n",
       "      <td>3.42</td>\n",
       "      <td>0.84</td>\n",
       "      <td>1.12</td>\n",
       "      <td>0.43</td>\n",
       "      <td>0.49</td>\n",
       "    </tr>\n",
       "    <tr>\n",
       "      <th>영자(IN)</th>\n",
       "      <td>3.93</td>\n",
       "      <td>3.99</td>\n",
       "      <td>3.63</td>\n",
       "      <td>3.43</td>\n",
       "      <td>0.98</td>\n",
       "      <td>0.96</td>\n",
       "      <td>0.52</td>\n",
       "      <td>NaN</td>\n",
       "    </tr>\n",
       "    <tr>\n",
       "      <th>정숙(IS)</th>\n",
       "      <td>3.52</td>\n",
       "      <td>3.42</td>\n",
       "      <td>4.05</td>\n",
       "      <td>4.06</td>\n",
       "      <td>0.39</td>\n",
       "      <td>NaN</td>\n",
       "      <td>0.93</td>\n",
       "      <td>0.99</td>\n",
       "    </tr>\n",
       "    <tr>\n",
       "      <th>영숙(IS)</th>\n",
       "      <td>3.43</td>\n",
       "      <td>3.57</td>\n",
       "      <td>NaN</td>\n",
       "      <td>3.95</td>\n",
       "      <td>0.56</td>\n",
       "      <td>0.52</td>\n",
       "      <td>0.89</td>\n",
       "      <td>0.89</td>\n",
       "    </tr>\n",
       "    <tr>\n",
       "      <th>순자(EN)</th>\n",
       "      <td>1.12</td>\n",
       "      <td>NaN</td>\n",
       "      <td>0.59</td>\n",
       "      <td>0.43</td>\n",
       "      <td>4.01</td>\n",
       "      <td>4.16</td>\n",
       "      <td>3.52</td>\n",
       "      <td>3.38</td>\n",
       "    </tr>\n",
       "    <tr>\n",
       "      <th>현숙(EN)</th>\n",
       "      <td>0.94</td>\n",
       "      <td>1.05</td>\n",
       "      <td>0.32</td>\n",
       "      <td>0.45</td>\n",
       "      <td>4.02</td>\n",
       "      <td>3.78</td>\n",
       "      <td>NaN</td>\n",
       "      <td>3.54</td>\n",
       "    </tr>\n",
       "    <tr>\n",
       "      <th>서연(ES)</th>\n",
       "      <td>0.51</td>\n",
       "      <td>0.56</td>\n",
       "      <td>0.88</td>\n",
       "      <td>0.89</td>\n",
       "      <td>3.50</td>\n",
       "      <td>3.64</td>\n",
       "      <td>4.04</td>\n",
       "      <td>4.10</td>\n",
       "    </tr>\n",
       "    <tr>\n",
       "      <th>보람(ES)</th>\n",
       "      <td>0.48</td>\n",
       "      <td>0.51</td>\n",
       "      <td>1.03</td>\n",
       "      <td>NaN</td>\n",
       "      <td>3.52</td>\n",
       "      <td>4.00</td>\n",
       "      <td>3.82</td>\n",
       "      <td>NaN</td>\n",
       "    </tr>\n",
       "    <tr>\n",
       "      <th>하니(I)</th>\n",
       "      <td>4.85</td>\n",
       "      <td>4.82</td>\n",
       "      <td>NaN</td>\n",
       "      <td>4.98</td>\n",
       "      <td>4.53</td>\n",
       "      <td>4.39</td>\n",
       "      <td>4.45</td>\n",
       "      <td>4.52</td>\n",
       "    </tr>\n",
       "  </tbody>\n",
       "</table>\n",
       "</div>"
      ],
      "text/plain": [
       "        영식(IN)  영철(IN)  영호(IS)  광수(IS)  상철(EN)  영수(EN)  규빈(ES)  다호(ES)\n",
       "옥순(IN)     NaN    4.02    3.45    3.42    0.84    1.12    0.43    0.49\n",
       "영자(IN)    3.93    3.99    3.63    3.43    0.98    0.96    0.52     NaN\n",
       "정숙(IS)    3.52    3.42    4.05    4.06    0.39     NaN    0.93    0.99\n",
       "영숙(IS)    3.43    3.57     NaN    3.95    0.56    0.52    0.89    0.89\n",
       "순자(EN)    1.12     NaN    0.59    0.43    4.01    4.16    3.52    3.38\n",
       "현숙(EN)    0.94    1.05    0.32    0.45    4.02    3.78     NaN    3.54\n",
       "서연(ES)    0.51    0.56    0.88    0.89    3.50    3.64    4.04    4.10\n",
       "보람(ES)    0.48    0.51    1.03     NaN    3.52    4.00    3.82     NaN\n",
       "하니(I)     4.85    4.82     NaN    4.98    4.53    4.39    4.45    4.52"
      ]
     },
     "execution_count": 192,
     "metadata": {},
     "output_type": "execute_result"
    }
   ],
   "source": [
    "df_view"
   ]
  },
  {
   "cell_type": "markdown",
   "id": "8b26dbf9-edef-4183-8559-fa351b181e70",
   "metadata": {},
   "source": [
    "> `I`와 `N`의 값을 적당히 조절하면 채워져있는 데이터와 비슷해지는 순간이 올 것이다..."
   ]
  },
  {
   "cell_type": "markdown",
   "id": "f46a02f9-14de-46b2-b2d0-b6967d6eacda",
   "metadata": {},
   "source": [
    "`-` 모델링"
   ]
  },
  {
   "cell_type": "markdown",
   "id": "4d9710df-0d62-4a29-9012-31c93f7d9dc2",
   "metadata": {},
   "source": [
    "$${\\tt df\\_view} \\approx sig(\\bf W @ M ^{\\top} + \\text{bias})\\times 5$$ "
   ]
  },
  {
   "cell_type": "markdown",
   "id": "7cf20999-e373-448c-bed5-791d150025a0",
   "metadata": {},
   "source": [
    "> 숫자들을 설명하는 방식이 많기는 함, 하지만 해당 방식이 가장 많이 나옴\n",
    ">\n",
    "> 영화 추천 시스템같은 경우 `NaN`이 많음. 그런 느낌으로"
   ]
  },
  {
   "cell_type": "markdown",
   "id": "38fbbe3b-318f-4c54-aa07-b9f4168cf785",
   "metadata": {},
   "source": [
    "`-` 자료를 아래와 같이 정리한다면?"
   ]
  },
  {
   "cell_type": "code",
   "execution_count": 194,
   "id": "569984dd-7cff-4b80-abb5-e0b3efbb737b",
   "metadata": {},
   "outputs": [
    {
     "data": {
      "text/html": [
       "<div>\n",
       "<style scoped>\n",
       "    .dataframe tbody tr th:only-of-type {\n",
       "        vertical-align: middle;\n",
       "    }\n",
       "\n",
       "    .dataframe tbody tr th {\n",
       "        vertical-align: top;\n",
       "    }\n",
       "\n",
       "    .dataframe thead th {\n",
       "        text-align: right;\n",
       "    }\n",
       "</style>\n",
       "<table border=\"1\" class=\"dataframe\">\n",
       "  <thead>\n",
       "    <tr style=\"text-align: right;\">\n",
       "      <th></th>\n",
       "      <th>여성출연자</th>\n",
       "      <th>남성출연자</th>\n",
       "      <th>궁합점수</th>\n",
       "    </tr>\n",
       "  </thead>\n",
       "  <tbody>\n",
       "    <tr>\n",
       "      <th>0</th>\n",
       "      <td>옥순(IN)</td>\n",
       "      <td>영철(IN)</td>\n",
       "      <td>4.02</td>\n",
       "    </tr>\n",
       "    <tr>\n",
       "      <th>1</th>\n",
       "      <td>옥순(IN)</td>\n",
       "      <td>영호(IS)</td>\n",
       "      <td>3.45</td>\n",
       "    </tr>\n",
       "    <tr>\n",
       "      <th>2</th>\n",
       "      <td>옥순(IN)</td>\n",
       "      <td>광수(IS)</td>\n",
       "      <td>3.42</td>\n",
       "    </tr>\n",
       "    <tr>\n",
       "      <th>3</th>\n",
       "      <td>옥순(IN)</td>\n",
       "      <td>상철(EN)</td>\n",
       "      <td>0.84</td>\n",
       "    </tr>\n",
       "    <tr>\n",
       "      <th>4</th>\n",
       "      <td>옥순(IN)</td>\n",
       "      <td>영수(EN)</td>\n",
       "      <td>1.12</td>\n",
       "    </tr>\n",
       "    <tr>\n",
       "      <th>...</th>\n",
       "      <td>...</td>\n",
       "      <td>...</td>\n",
       "      <td>...</td>\n",
       "    </tr>\n",
       "    <tr>\n",
       "      <th>58</th>\n",
       "      <td>하니(I)</td>\n",
       "      <td>광수(IS)</td>\n",
       "      <td>4.98</td>\n",
       "    </tr>\n",
       "    <tr>\n",
       "      <th>59</th>\n",
       "      <td>하니(I)</td>\n",
       "      <td>상철(EN)</td>\n",
       "      <td>4.53</td>\n",
       "    </tr>\n",
       "    <tr>\n",
       "      <th>60</th>\n",
       "      <td>하니(I)</td>\n",
       "      <td>영수(EN)</td>\n",
       "      <td>4.39</td>\n",
       "    </tr>\n",
       "    <tr>\n",
       "      <th>61</th>\n",
       "      <td>하니(I)</td>\n",
       "      <td>규빈(ES)</td>\n",
       "      <td>4.45</td>\n",
       "    </tr>\n",
       "    <tr>\n",
       "      <th>62</th>\n",
       "      <td>하니(I)</td>\n",
       "      <td>다호(ES)</td>\n",
       "      <td>4.52</td>\n",
       "    </tr>\n",
       "  </tbody>\n",
       "</table>\n",
       "<p>63 rows × 3 columns</p>\n",
       "</div>"
      ],
      "text/plain": [
       "     여성출연자   남성출연자  궁합점수\n",
       "0   옥순(IN)  영철(IN)  4.02\n",
       "1   옥순(IN)  영호(IS)  3.45\n",
       "2   옥순(IN)  광수(IS)  3.42\n",
       "3   옥순(IN)  상철(EN)  0.84\n",
       "4   옥순(IN)  영수(EN)  1.12\n",
       "..     ...     ...   ...\n",
       "58   하니(I)  광수(IS)  4.98\n",
       "59   하니(I)  상철(EN)  4.53\n",
       "60   하니(I)  영수(EN)  4.39\n",
       "61   하니(I)  규빈(ES)  4.45\n",
       "62   하니(I)  다호(ES)  4.52\n",
       "\n",
       "[63 rows x 3 columns]"
      ]
     },
     "execution_count": 194,
     "metadata": {},
     "output_type": "execute_result"
    }
   ],
   "source": [
    "df_train = df_view.stack().reset_index().set_axis([\"여성출연자\", \"남성출연자\", \"궁합점수\"], axis = 1)\n",
    "df_train ## long format으로 만들기"
   ]
  },
  {
   "cell_type": "markdown",
   "id": "17c250c0-1b3e-4184-b12f-9c630fd1b336",
   "metadata": {},
   "source": [
    "`-` 각 사람에 대해서 (I/E , N/S, bias)를 나타내고 싶음 -> 선형 변환"
   ]
  },
  {
   "cell_type": "code",
   "execution_count": 206,
   "id": "8dddcba1-c0af-4929-beef-429c511b9f8a",
   "metadata": {},
   "outputs": [],
   "source": [
    "X1 = torch.nn.functional.one_hot(torch.tensor(df_train.여성출연자.map({name:i for i, name in enumerate(set(df_train.여성출연자))}))).float()\n",
    "X2 = torch.nn.functional.one_hot(torch.tensor(df_train.남성출연자.map({name:i for i, name in enumerate(set(df_train.남성출연자))}))).float()\n",
    "\n",
    "y = torch.tensor(df_train.궁합점수).float().reshape(-1, 1)"
   ]
  },
  {
   "cell_type": "code",
   "execution_count": 209,
   "id": "10663958-e1c5-4c87-b47b-38e102a21b61",
   "metadata": {},
   "outputs": [
    {
     "data": {
      "text/plain": [
       "(torch.Size([63, 9]), torch.Size([63, 8]), torch.Size([63, 1]))"
      ]
     },
     "execution_count": 209,
     "metadata": {},
     "output_type": "execute_result"
    }
   ],
   "source": [
    "X1.shape, X2.shape, y.shape"
   ]
  },
  {
   "cell_type": "code",
   "execution_count": 210,
   "id": "efcab774-7b5f-4528-9450-5340526e1395",
   "metadata": {},
   "outputs": [],
   "source": [
    "l1 = torch.nn.Linear(9, 2, bias = False)\n",
    "b1 = torch.nn.Linear(9, 1, bias = False)\n",
    "\n",
    "l2 = torch.nn.Linear(8, 2, bias = False)\n",
    "b2 = torch.nn.Linear(8, 1, bias = False)"
   ]
  },
  {
   "cell_type": "code",
   "execution_count": 225,
   "id": "007575e6-8d9c-4dca-b092-04f8b43882c3",
   "metadata": {},
   "outputs": [],
   "source": [
    "yhat = sig((l1(X1) * l2(X2)).sum(axis = 1).reshape(-1, 1) + (b1(X1) + b2(X2)))*5"
   ]
  },
  {
   "cell_type": "markdown",
   "id": "d1429f6b-ab16-40d6-a7db-bb1677020865",
   "metadata": {},
   "source": [
    "> long 포맷이니까 각 원소끼리 곱하고, 열별로 더한 다음 bias 더하여 초기 학습값 산출"
   ]
  },
  {
   "cell_type": "markdown",
   "id": "e5f3100d-3905-4885-b746-8237406d87ae",
   "metadata": {},
   "source": [
    "### C. 학습"
   ]
  },
  {
   "cell_type": "markdown",
   "id": "0a73daae-2e76-469f-bac5-7e2d7e04cbe4",
   "metadata": {},
   "source": [
    "`X1, X2 -> y`"
   ]
  },
  {
   "cell_type": "code",
   "execution_count": 241,
   "id": "43fc3498-c287-47a5-9f4f-f12bcac4b6cc",
   "metadata": {},
   "outputs": [],
   "source": [
    "df_train = df_view.stack().reset_index().set_axis([\"여성출연자\", \"남성출연자\", \"궁합점수\"], axis = 1)\n",
    "\n",
    "## 그냥 범주 얼마 안되니까 정직하게...\n",
    "여성인덱스 = {'옥순(IN)':0, '영자(IN)':1, '정숙(IS)':2, '영숙(IS)':3, '순자(EN)':4, '현숙(EN)':5, '서연(ES)':6, '보람(ES)':7, '하니(I)':8}\n",
    "남성인덱스 = {'영식(IN)':0, '영철(IN)':1, '영호(IS)':2, '광수(IS)':3, '상철(EN)':4, '영수(EN)':5, '규빈(ES)':6, '다호(ES)':7}\n",
    "\n",
    "X1 = torch.nn.functional.one_hot(torch.tensor(df_train.여성출연자.map(여성인덱스))).float()\n",
    "X2 = torch.nn.functional.one_hot(torch.tensor(df_train.남성출연자.map(남성인덱스))).float()\n",
    "y = torch.tensor(df_train.궁합점수).float().reshape(-1, 1)\n",
    "\n",
    "l1 = torch.nn.Linear(9, 2, bias = False)\n",
    "l2 = torch.nn.Linear(8, 2, bias = False)\n",
    "b1 = torch.nn.Linear(9, 1, bias = False)\n",
    "b2 = torch.nn.Linear(8, 1, bias = False)\n",
    "\n",
    "sig = torch.nn.Sigmoid()\n",
    "loss_fn = torch.nn.MSELoss()\n",
    "optimizr = torch.optim.Adam(list(l1.parameters()) + list(l2.parameters()) + list(b1.parameters()) + list(b2.parameters()))\n",
    "\n",
    "for epoc in range(10000) :\n",
    "    ## step 1\n",
    "    W_features = l1(X1)\n",
    "    M_features = l2(X2)\n",
    "    W_bias = b1(X1)\n",
    "    M_bias = b2(X2)\n",
    "    yhat = sig((W_features * M_features).sum(axis = 1).reshape(-1, 1) + (W_bias + M_bias))*5\n",
    "\n",
    "    ## step 2\n",
    "    loss = loss_fn(yhat, y)\n",
    "\n",
    "    ## step 3\n",
    "    loss.backward()\n",
    "\n",
    "    ## step 4\n",
    "    optimizr.step()\n",
    "    optimizr.zero_grad()"
   ]
  },
  {
   "cell_type": "code",
   "execution_count": 242,
   "id": "55a84e24-ad2d-44b1-b797-5513b64437d1",
   "metadata": {},
   "outputs": [
    {
     "data": {
      "text/plain": [
       "(tensor([[4.0200],\n",
       "         [3.4500],\n",
       "         [3.4200],\n",
       "         [0.8400],\n",
       "         [1.1200]]),\n",
       " tensor([[4.0796],\n",
       "         [3.4666],\n",
       "         [3.3658],\n",
       "         [0.9099],\n",
       "         [0.9530]], grad_fn=<SliceBackward0>))"
      ]
     },
     "execution_count": 242,
     "metadata": {},
     "output_type": "execute_result"
    }
   ],
   "source": [
    "y[:5], yhat[:5]"
   ]
  },
  {
   "cell_type": "markdown",
   "id": "a1b625de-6193-450e-81ae-b2faae901293",
   "metadata": {},
   "source": [
    "### D. 예측"
   ]
  },
  {
   "cell_type": "code",
   "execution_count": 243,
   "id": "974ea7ea-6a12-4f58-ae19-1675945e9dac",
   "metadata": {},
   "outputs": [
    {
     "data": {
      "text/html": [
       "<div>\n",
       "<style scoped>\n",
       "    .dataframe tbody tr th:only-of-type {\n",
       "        vertical-align: middle;\n",
       "    }\n",
       "\n",
       "    .dataframe tbody tr th {\n",
       "        vertical-align: top;\n",
       "    }\n",
       "\n",
       "    .dataframe thead th {\n",
       "        text-align: right;\n",
       "    }\n",
       "</style>\n",
       "<table border=\"1\" class=\"dataframe\">\n",
       "  <thead>\n",
       "    <tr style=\"text-align: right;\">\n",
       "      <th></th>\n",
       "      <th>영식(IN)</th>\n",
       "      <th>영철(IN)</th>\n",
       "      <th>영호(IS)</th>\n",
       "      <th>광수(IS)</th>\n",
       "      <th>상철(EN)</th>\n",
       "      <th>영수(EN)</th>\n",
       "      <th>규빈(ES)</th>\n",
       "      <th>다호(ES)</th>\n",
       "    </tr>\n",
       "  </thead>\n",
       "  <tbody>\n",
       "    <tr>\n",
       "      <th>옥순(IN)</th>\n",
       "      <td>NaN</td>\n",
       "      <td>4.02</td>\n",
       "      <td>3.45</td>\n",
       "      <td>3.42</td>\n",
       "      <td>0.84</td>\n",
       "      <td>1.12</td>\n",
       "      <td>0.43</td>\n",
       "      <td>0.49</td>\n",
       "    </tr>\n",
       "    <tr>\n",
       "      <th>영자(IN)</th>\n",
       "      <td>3.93</td>\n",
       "      <td>3.99</td>\n",
       "      <td>3.63</td>\n",
       "      <td>3.43</td>\n",
       "      <td>0.98</td>\n",
       "      <td>0.96</td>\n",
       "      <td>0.52</td>\n",
       "      <td>NaN</td>\n",
       "    </tr>\n",
       "    <tr>\n",
       "      <th>정숙(IS)</th>\n",
       "      <td>3.52</td>\n",
       "      <td>3.42</td>\n",
       "      <td>4.05</td>\n",
       "      <td>4.06</td>\n",
       "      <td>0.39</td>\n",
       "      <td>NaN</td>\n",
       "      <td>0.93</td>\n",
       "      <td>0.99</td>\n",
       "    </tr>\n",
       "    <tr>\n",
       "      <th>영숙(IS)</th>\n",
       "      <td>3.43</td>\n",
       "      <td>3.57</td>\n",
       "      <td>NaN</td>\n",
       "      <td>3.95</td>\n",
       "      <td>0.56</td>\n",
       "      <td>0.52</td>\n",
       "      <td>0.89</td>\n",
       "      <td>0.89</td>\n",
       "    </tr>\n",
       "    <tr>\n",
       "      <th>순자(EN)</th>\n",
       "      <td>1.12</td>\n",
       "      <td>NaN</td>\n",
       "      <td>0.59</td>\n",
       "      <td>0.43</td>\n",
       "      <td>4.01</td>\n",
       "      <td>4.16</td>\n",
       "      <td>3.52</td>\n",
       "      <td>3.38</td>\n",
       "    </tr>\n",
       "    <tr>\n",
       "      <th>현숙(EN)</th>\n",
       "      <td>0.94</td>\n",
       "      <td>1.05</td>\n",
       "      <td>0.32</td>\n",
       "      <td>0.45</td>\n",
       "      <td>4.02</td>\n",
       "      <td>3.78</td>\n",
       "      <td>NaN</td>\n",
       "      <td>3.54</td>\n",
       "    </tr>\n",
       "    <tr>\n",
       "      <th>서연(ES)</th>\n",
       "      <td>0.51</td>\n",
       "      <td>0.56</td>\n",
       "      <td>0.88</td>\n",
       "      <td>0.89</td>\n",
       "      <td>3.50</td>\n",
       "      <td>3.64</td>\n",
       "      <td>4.04</td>\n",
       "      <td>4.10</td>\n",
       "    </tr>\n",
       "    <tr>\n",
       "      <th>보람(ES)</th>\n",
       "      <td>0.48</td>\n",
       "      <td>0.51</td>\n",
       "      <td>1.03</td>\n",
       "      <td>NaN</td>\n",
       "      <td>3.52</td>\n",
       "      <td>4.00</td>\n",
       "      <td>3.82</td>\n",
       "      <td>NaN</td>\n",
       "    </tr>\n",
       "    <tr>\n",
       "      <th>하니(I)</th>\n",
       "      <td>4.85</td>\n",
       "      <td>4.82</td>\n",
       "      <td>NaN</td>\n",
       "      <td>4.98</td>\n",
       "      <td>4.53</td>\n",
       "      <td>4.39</td>\n",
       "      <td>4.45</td>\n",
       "      <td>4.52</td>\n",
       "    </tr>\n",
       "  </tbody>\n",
       "</table>\n",
       "</div>"
      ],
      "text/plain": [
       "        영식(IN)  영철(IN)  영호(IS)  광수(IS)  상철(EN)  영수(EN)  규빈(ES)  다호(ES)\n",
       "옥순(IN)     NaN    4.02    3.45    3.42    0.84    1.12    0.43    0.49\n",
       "영자(IN)    3.93    3.99    3.63    3.43    0.98    0.96    0.52     NaN\n",
       "정숙(IS)    3.52    3.42    4.05    4.06    0.39     NaN    0.93    0.99\n",
       "영숙(IS)    3.43    3.57     NaN    3.95    0.56    0.52    0.89    0.89\n",
       "순자(EN)    1.12     NaN    0.59    0.43    4.01    4.16    3.52    3.38\n",
       "현숙(EN)    0.94    1.05    0.32    0.45    4.02    3.78     NaN    3.54\n",
       "서연(ES)    0.51    0.56    0.88    0.89    3.50    3.64    4.04    4.10\n",
       "보람(ES)    0.48    0.51    1.03     NaN    3.52    4.00    3.82     NaN\n",
       "하니(I)     4.85    4.82     NaN    4.98    4.53    4.39    4.45    4.52"
      ]
     },
     "execution_count": 243,
     "metadata": {},
     "output_type": "execute_result"
    }
   ],
   "source": [
    "df_view"
   ]
  },
  {
   "cell_type": "code",
   "execution_count": 244,
   "id": "c2b76ce1-4c52-4f4e-aefa-18a1b52fa26f",
   "metadata": {},
   "outputs": [
    {
     "data": {
      "text/html": [
       "<div>\n",
       "<style scoped>\n",
       "    .dataframe tbody tr th:only-of-type {\n",
       "        vertical-align: middle;\n",
       "    }\n",
       "\n",
       "    .dataframe tbody tr th {\n",
       "        vertical-align: top;\n",
       "    }\n",
       "\n",
       "    .dataframe thead th {\n",
       "        text-align: right;\n",
       "    }\n",
       "</style>\n",
       "<table border=\"1\" class=\"dataframe\">\n",
       "  <thead>\n",
       "    <tr style=\"text-align: right;\">\n",
       "      <th></th>\n",
       "      <th>여성출연자</th>\n",
       "      <th>남성출연자</th>\n",
       "      <th>궁합점수</th>\n",
       "    </tr>\n",
       "  </thead>\n",
       "  <tbody>\n",
       "    <tr>\n",
       "      <th>0</th>\n",
       "      <td>옥순(IN)</td>\n",
       "      <td>영철(IN)</td>\n",
       "      <td>4.02</td>\n",
       "    </tr>\n",
       "    <tr>\n",
       "      <th>1</th>\n",
       "      <td>옥순(IN)</td>\n",
       "      <td>영호(IS)</td>\n",
       "      <td>3.45</td>\n",
       "    </tr>\n",
       "    <tr>\n",
       "      <th>2</th>\n",
       "      <td>옥순(IN)</td>\n",
       "      <td>광수(IS)</td>\n",
       "      <td>3.42</td>\n",
       "    </tr>\n",
       "    <tr>\n",
       "      <th>3</th>\n",
       "      <td>옥순(IN)</td>\n",
       "      <td>상철(EN)</td>\n",
       "      <td>0.84</td>\n",
       "    </tr>\n",
       "    <tr>\n",
       "      <th>4</th>\n",
       "      <td>옥순(IN)</td>\n",
       "      <td>영수(EN)</td>\n",
       "      <td>1.12</td>\n",
       "    </tr>\n",
       "  </tbody>\n",
       "</table>\n",
       "</div>"
      ],
      "text/plain": [
       "    여성출연자   남성출연자  궁합점수\n",
       "0  옥순(IN)  영철(IN)  4.02\n",
       "1  옥순(IN)  영호(IS)  3.45\n",
       "2  옥순(IN)  광수(IS)  3.42\n",
       "3  옥순(IN)  상철(EN)  0.84\n",
       "4  옥순(IN)  영수(EN)  1.12"
      ]
     },
     "execution_count": 244,
     "metadata": {},
     "output_type": "execute_result"
    }
   ],
   "source": [
    "df_train[:5]"
   ]
  },
  {
   "cell_type": "markdown",
   "id": "a695bc9d-a4c7-4eed-89a6-74fef19b85c6",
   "metadata": {},
   "source": [
    "적합된 네트워크를 바탕으로 아래의 값에 대한 예측을 수행하라"
   ]
  },
  {
   "cell_type": "code",
   "execution_count": 245,
   "id": "f9e23f45-8667-4c48-bdd1-60daaa17852e",
   "metadata": {},
   "outputs": [
    {
     "data": {
      "text/html": [
       "<div>\n",
       "<style scoped>\n",
       "    .dataframe tbody tr th:only-of-type {\n",
       "        vertical-align: middle;\n",
       "    }\n",
       "\n",
       "    .dataframe tbody tr th {\n",
       "        vertical-align: top;\n",
       "    }\n",
       "\n",
       "    .dataframe thead th {\n",
       "        text-align: right;\n",
       "    }\n",
       "</style>\n",
       "<table border=\"1\" class=\"dataframe\">\n",
       "  <thead>\n",
       "    <tr style=\"text-align: right;\">\n",
       "      <th></th>\n",
       "      <th>여성출연자</th>\n",
       "      <th>남성출연자</th>\n",
       "    </tr>\n",
       "  </thead>\n",
       "  <tbody>\n",
       "    <tr>\n",
       "      <th>0</th>\n",
       "      <td>옥순(IN)</td>\n",
       "      <td>영식(IN)</td>\n",
       "    </tr>\n",
       "    <tr>\n",
       "      <th>1</th>\n",
       "      <td>하니(I)</td>\n",
       "      <td>영호(IS)</td>\n",
       "    </tr>\n",
       "  </tbody>\n",
       "</table>\n",
       "</div>"
      ],
      "text/plain": [
       "    여성출연자   남성출연자\n",
       "0  옥순(IN)  영식(IN)\n",
       "1   하니(I)  영호(IS)"
      ]
     },
     "execution_count": 245,
     "metadata": {},
     "output_type": "execute_result"
    }
   ],
   "source": [
    "df_test = pd.DataFrame({'여성출연자':['옥순(IN)','하니(I)'],'남성출연자':['영식(IN)','영호(IS)']})\n",
    "df_test"
   ]
  },
  {
   "cell_type": "markdown",
   "id": "84dd66db-8466-4e8e-9a70-89679055e6b4",
   "metadata": {},
   "source": [
    "`-` 잘못된 `XX` 선언"
   ]
  },
  {
   "cell_type": "code",
   "execution_count": 251,
   "id": "8d278a3a-a962-4b7d-a816-28527af5c62b",
   "metadata": {},
   "outputs": [],
   "source": [
    "XX1 = torch.nn.functional.one_hot(torch.tensor(df_test.여성출연자.map(여성인덱스))).float() ## 0, 8이 있어서 잘 동작\n",
    "XX2 = torch.nn.functional.one_hot(torch.tensor(df_test.남성출연자.map(남성인덱스))).float() ## 0, 2만 있어서 잘 동작 X"
   ]
  },
  {
   "cell_type": "code",
   "execution_count": 259,
   "id": "07da4d90-17a1-4875-b610-1c57fadca73b",
   "metadata": {},
   "outputs": [
    {
     "data": {
      "text/plain": [
       "tensor([[1., 0., 0.],\n",
       "        [0., 0., 1.]])"
      ]
     },
     "execution_count": 259,
     "metadata": {},
     "output_type": "execute_result"
    }
   ],
   "source": [
    "XX2"
   ]
  },
  {
   "cell_type": "markdown",
   "id": "b2156a53-0b5f-42cc-8d36-44b8c0018e2b",
   "metadata": {},
   "source": [
    "`-` 제대로 한 `XX` 선언"
   ]
  },
  {
   "cell_type": "code",
   "execution_count": 262,
   "id": "467b85e0-7fac-426b-9529-9837d378d675",
   "metadata": {},
   "outputs": [],
   "source": [
    "XX1 = torch.nn.functional.one_hot(torch.tensor(df_test.여성출연자.map(여성인덱스)), num_classes = 9).float()\n",
    "XX2 = torch.nn.functional.one_hot(torch.tensor(df_test.남성출연자.map(남성인덱스)), num_classes = 8).float()"
   ]
  },
  {
   "cell_type": "code",
   "execution_count": 270,
   "id": "3765038f-5e92-45a0-93e3-fdca1e0377e5",
   "metadata": {},
   "outputs": [
    {
     "data": {
      "text/plain": [
       "(tensor([[-2.0010],\n",
       "         [ 2.0196]], grad_fn=<MmBackward0>),\n",
       " tensor([[0.7688],\n",
       "         [0.9849]], grad_fn=<MmBackward0>))"
      ]
     },
     "execution_count": 270,
     "metadata": {},
     "output_type": "execute_result"
    }
   ],
   "source": [
    "b1(XX1), b2(XX2) ## 하니는 점수를 많이 높여주고, 남성은 비슷비슷함"
   ]
  },
  {
   "cell_type": "code",
   "execution_count": 268,
   "id": "92cdaef1-17e4-4c84-b191-d5d514ad6db6",
   "metadata": {},
   "outputs": [
    {
     "data": {
      "text/plain": [
       "tensor([[4.0568],\n",
       "        [4.8865]], grad_fn=<MulBackward0>)"
      ]
     },
     "execution_count": 268,
     "metadata": {},
     "output_type": "execute_result"
    }
   ],
   "source": [
    "sig((l1(XX1) * l2(XX2)).sum(axis = 1).reshape(-1, 1) + (b1(XX1) + b2(XX2)))*5"
   ]
  },
  {
   "cell_type": "code",
   "execution_count": 271,
   "id": "a753316f-7816-4ee1-a8fa-6dd2b16c03e9",
   "metadata": {},
   "outputs": [
    {
     "data": {
      "text/html": [
       "<div>\n",
       "<style scoped>\n",
       "    .dataframe tbody tr th:only-of-type {\n",
       "        vertical-align: middle;\n",
       "    }\n",
       "\n",
       "    .dataframe tbody tr th {\n",
       "        vertical-align: top;\n",
       "    }\n",
       "\n",
       "    .dataframe thead th {\n",
       "        text-align: right;\n",
       "    }\n",
       "</style>\n",
       "<table border=\"1\" class=\"dataframe\">\n",
       "  <thead>\n",
       "    <tr style=\"text-align: right;\">\n",
       "      <th></th>\n",
       "      <th>영식(IN)</th>\n",
       "      <th>영철(IN)</th>\n",
       "      <th>영호(IS)</th>\n",
       "      <th>광수(IS)</th>\n",
       "      <th>상철(EN)</th>\n",
       "      <th>영수(EN)</th>\n",
       "      <th>규빈(ES)</th>\n",
       "      <th>다호(ES)</th>\n",
       "    </tr>\n",
       "  </thead>\n",
       "  <tbody>\n",
       "    <tr>\n",
       "      <th>옥순(IN)</th>\n",
       "      <td>NaN</td>\n",
       "      <td>4.02</td>\n",
       "      <td>3.45</td>\n",
       "      <td>3.42</td>\n",
       "      <td>0.84</td>\n",
       "      <td>1.12</td>\n",
       "      <td>0.43</td>\n",
       "      <td>0.49</td>\n",
       "    </tr>\n",
       "    <tr>\n",
       "      <th>영자(IN)</th>\n",
       "      <td>3.93</td>\n",
       "      <td>3.99</td>\n",
       "      <td>3.63</td>\n",
       "      <td>3.43</td>\n",
       "      <td>0.98</td>\n",
       "      <td>0.96</td>\n",
       "      <td>0.52</td>\n",
       "      <td>NaN</td>\n",
       "    </tr>\n",
       "    <tr>\n",
       "      <th>정숙(IS)</th>\n",
       "      <td>3.52</td>\n",
       "      <td>3.42</td>\n",
       "      <td>4.05</td>\n",
       "      <td>4.06</td>\n",
       "      <td>0.39</td>\n",
       "      <td>NaN</td>\n",
       "      <td>0.93</td>\n",
       "      <td>0.99</td>\n",
       "    </tr>\n",
       "    <tr>\n",
       "      <th>영숙(IS)</th>\n",
       "      <td>3.43</td>\n",
       "      <td>3.57</td>\n",
       "      <td>NaN</td>\n",
       "      <td>3.95</td>\n",
       "      <td>0.56</td>\n",
       "      <td>0.52</td>\n",
       "      <td>0.89</td>\n",
       "      <td>0.89</td>\n",
       "    </tr>\n",
       "    <tr>\n",
       "      <th>순자(EN)</th>\n",
       "      <td>1.12</td>\n",
       "      <td>NaN</td>\n",
       "      <td>0.59</td>\n",
       "      <td>0.43</td>\n",
       "      <td>4.01</td>\n",
       "      <td>4.16</td>\n",
       "      <td>3.52</td>\n",
       "      <td>3.38</td>\n",
       "    </tr>\n",
       "    <tr>\n",
       "      <th>현숙(EN)</th>\n",
       "      <td>0.94</td>\n",
       "      <td>1.05</td>\n",
       "      <td>0.32</td>\n",
       "      <td>0.45</td>\n",
       "      <td>4.02</td>\n",
       "      <td>3.78</td>\n",
       "      <td>NaN</td>\n",
       "      <td>3.54</td>\n",
       "    </tr>\n",
       "    <tr>\n",
       "      <th>서연(ES)</th>\n",
       "      <td>0.51</td>\n",
       "      <td>0.56</td>\n",
       "      <td>0.88</td>\n",
       "      <td>0.89</td>\n",
       "      <td>3.50</td>\n",
       "      <td>3.64</td>\n",
       "      <td>4.04</td>\n",
       "      <td>4.10</td>\n",
       "    </tr>\n",
       "    <tr>\n",
       "      <th>보람(ES)</th>\n",
       "      <td>0.48</td>\n",
       "      <td>0.51</td>\n",
       "      <td>1.03</td>\n",
       "      <td>NaN</td>\n",
       "      <td>3.52</td>\n",
       "      <td>4.00</td>\n",
       "      <td>3.82</td>\n",
       "      <td>NaN</td>\n",
       "    </tr>\n",
       "    <tr>\n",
       "      <th>하니(I)</th>\n",
       "      <td>4.85</td>\n",
       "      <td>4.82</td>\n",
       "      <td>NaN</td>\n",
       "      <td>4.98</td>\n",
       "      <td>4.53</td>\n",
       "      <td>4.39</td>\n",
       "      <td>4.45</td>\n",
       "      <td>4.52</td>\n",
       "    </tr>\n",
       "  </tbody>\n",
       "</table>\n",
       "</div>"
      ],
      "text/plain": [
       "        영식(IN)  영철(IN)  영호(IS)  광수(IS)  상철(EN)  영수(EN)  규빈(ES)  다호(ES)\n",
       "옥순(IN)     NaN    4.02    3.45    3.42    0.84    1.12    0.43    0.49\n",
       "영자(IN)    3.93    3.99    3.63    3.43    0.98    0.96    0.52     NaN\n",
       "정숙(IS)    3.52    3.42    4.05    4.06    0.39     NaN    0.93    0.99\n",
       "영숙(IS)    3.43    3.57     NaN    3.95    0.56    0.52    0.89    0.89\n",
       "순자(EN)    1.12     NaN    0.59    0.43    4.01    4.16    3.52    3.38\n",
       "현숙(EN)    0.94    1.05    0.32    0.45    4.02    3.78     NaN    3.54\n",
       "서연(ES)    0.51    0.56    0.88    0.89    3.50    3.64    4.04    4.10\n",
       "보람(ES)    0.48    0.51    1.03     NaN    3.52    4.00    3.82     NaN\n",
       "하니(I)     4.85    4.82     NaN    4.98    4.53    4.39    4.45    4.52"
      ]
     },
     "execution_count": 271,
     "metadata": {},
     "output_type": "execute_result"
    }
   ],
   "source": [
    "df_view"
   ]
  },
  {
   "cell_type": "code",
   "execution_count": null,
   "id": "3ee579fa-f628-4ed2-af7b-4885bce3d07f",
   "metadata": {},
   "outputs": [],
   "source": []
  }
 ],
 "metadata": {
  "kernelspec": {
   "display_name": "Python 3 (ipykernel)",
   "language": "python",
   "name": "python3"
  },
  "language_info": {
   "codemirror_mode": {
    "name": "ipython",
    "version": 3
   },
   "file_extension": ".py",
   "mimetype": "text/x-python",
   "name": "python",
   "nbconvert_exporter": "python",
   "pygments_lexer": "ipython3",
   "version": "3.9.18"
  }
 },
 "nbformat": 4,
 "nbformat_minor": 5
}
