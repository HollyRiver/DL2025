{
 "cells": [
  {
   "cell_type": "markdown",
   "id": "9bac18bf",
   "metadata": {},
   "source": [
    "# 11wk-2: (순환신경망) – `abc`, `abcd`, 임베딩 공간의 이해, `AbAcAd`, 씨간장"
   ]
  },
  {
   "cell_type": "markdown",
   "id": "2a20c324",
   "metadata": {},
   "source": [
    "## 1. Imports"
   ]
  },
  {
   "cell_type": "code",
   "execution_count": 1,
   "id": "6caaef90",
   "metadata": {},
   "outputs": [],
   "source": [
    "import torch\n",
    "import pandas as pd\n",
    "import matplotlib.pyplot as plt"
   ]
  },
  {
   "cell_type": "markdown",
   "id": "d77e86b8",
   "metadata": {},
   "source": [
    "## 2. 주요 코드 등"
   ]
  },
  {
   "cell_type": "markdown",
   "id": "e78d02bf-039d-4963-a25e-39ee5aea2192",
   "metadata": {},
   "source": [
    "### $h$에 대하여 ($\\star \\star \\star$)\n",
    "\n",
    "`-` $h$는 사실 문자열을 숫자로 바꾼 표현으로 해석할 수 있음. 즉, 원-핫 인코딩과 다른 형태의 숫자표현으로 해석 가능.\n",
    "\n",
    "* `hidden feature`로서 작용함 -> 학습시켜 생산된 피쳐\n",
    "\n",
    "`-` 사실 $h$는 원-핫 인코딩보다 약간 더 (1) 액기스만 남은 느낌 + (2) 숙성된 느낌을 준다.\n",
    "\n",
    "* (why 1) $h$는 $x$보다 $y$를 예측함에 좀 더 직접적인 역할을 한다. 즉, $x$ 숫자보다 $h$ 숫자가 잘 정리되어 있고(차원이 낮고), 입력의 특징을 잘 정리한 의미있는 숫자이다.\n",
    "* (why 2) $x$는 학습없이 그냥 얻어지는 숫자표현이지만, $h$는 학습을 통하여 고치고 고치고 고치고 고친 숫자표현이다."
   ]
  },
  {
   "cell_type": "markdown",
   "id": "c5762bd2-ba75-4713-93de-ab185583405c",
   "metadata": {},
   "source": [
    "`-` 하이퍼볼릭 탄젠트 시그모이드\n",
    "\n",
    "```Python\n",
    "net = torch.nn.Sequential(\n",
    "    torch.nn.Embedding(4, 2),\n",
    "    torch.nn.Tanh(),\n",
    "    torch.nn.Linear(2, 4)\n",
    ")\n",
    "\n",
    "loss_fn = torch.nn.CrossEntropyLoss()\n",
    "optimizr = torch.optim.Adam(net.parameters(), lr = 0.1)\n",
    "\n",
    "##---##\n",
    "for epoc in range(50) :\n",
    "    netout = net(x)\n",
    "    loss = loss_fn(netout, y)\n",
    "    loss.backward()\n",
    "    optimizr.step()\n",
    "    optimizr.zero_grad()\n",
    "```\n",
    "\n",
    "> `(-1, 1)` 범위로 변환 -> 기존 시그모이드는 0에 가까울 경우 `weight`에 둔감했다는 단점을 해소\n",
    ">\n",
    "> 여러 개의 은닉 노드로 변환을 더욱 다양화"
   ]
  },
  {
   "cell_type": "markdown",
   "id": "2f1310ce-42aa-4944-8c52-8909c09f990c",
   "metadata": {},
   "source": [
    "## 3. 예비학습"
   ]
  },
  {
   "cell_type": "markdown",
   "id": "d1736359-a0ee-4c32-8376-d0f39a876826",
   "metadata": {},
   "source": [
    "`-` 추천 시스템\n",
    "\n",
    "> (1) MF-based : 표현력이 거의 무한대임 - SVD를 사용\n",
    ">\n",
    "> $$\\bf X = UDV^{\\top} = U^`{V^`}^{\\top}$$\n",
    ">\n",
    "> * $\\bf X$를 예측 매트릭스로 놓고, 몇 개의 피쳐만 사용하면 대부분 맞춰짐 -> 표현력 좋음(피쳐 늘리면 거의 동일하게 만들 수 있음), 오버피팅 방지(몇 개의 피쳐만 사용할 수 있음)\n",
    ">\n",
    "> * 이론적으로 우수함\n",
    ">\n",
    "> (2) NN-based : underfitting / overfitting을 잘 조절해야 함\n",
    ">\n",
    "> * MF에 NN을 결합한 방식이 최종적으로 사용되는 추세임"
   ]
  },
  {
   "cell_type": "markdown",
   "id": "b1a1680a-885c-42b6-a2c8-5e382d525fbe",
   "metadata": {},
   "source": [
    "### **A. `tanh`**"
   ]
  },
  {
   "cell_type": "code",
   "execution_count": 2,
   "id": "5f4c033d-e13c-4733-868f-41aabd723254",
   "metadata": {},
   "outputs": [
    {
     "data": {
      "text/plain": [
       "[<matplotlib.lines.Line2D at 0x7f882f287850>]"
      ]
     },
     "execution_count": 2,
     "metadata": {},
     "output_type": "execute_result"
    },
    {
     "data": {
      "image/png": "[encoded data removed]",
      "text/plain": [
       "<Figure size 640x480 with 1 Axes>"
      ]
     },
     "metadata": {},
     "output_type": "display_data"
    }
   ],
   "source": [
    "x = torch.linspace(-5, 5, 1001)\n",
    "tanh = torch.nn.Tanh()\n",
    "plt.plot(x, tanh(x))"
   ]
  },
  {
   "cell_type": "markdown",
   "id": "098fa6b0-7128-4c53-89e2-f157ad0a39de",
   "metadata": {},
   "source": [
    "### **B. `softmax`**"
   ]
  },
  {
   "cell_type": "code",
   "execution_count": 3,
   "id": "3fb46b1b-c507-42b3-a760-97eea020952e",
   "metadata": {},
   "outputs": [
    {
     "data": {
      "text/plain": [
       "tensor([[-0.1008, -2.0929, -1.7614, -1.4641,  2.0948],\n",
       "        [-1.0485, -0.1599,  0.9150,  0.3184,  0.2256],\n",
       "        [ 0.3356,  0.7442, -0.7841,  0.6110, -0.2193],\n",
       "        [ 1.1328, -1.0282, -1.2050, -0.8268,  0.3365],\n",
       "        [ 0.2271,  0.0067,  0.4769, -0.3265, -0.4487],\n",
       "        [-0.0344, -1.2913, -0.1834, -1.0950,  1.1767],\n",
       "        [ 0.0733,  0.2405, -1.0179,  1.5251,  0.3511],\n",
       "        [ 0.5263, -0.3073, -0.6903,  1.8324,  0.3507],\n",
       "        [-0.1193,  0.8469, -1.7153, -1.0437, -1.1622],\n",
       "        [-0.0398,  0.0363, -0.8354,  1.6701, -1.3438]])"
      ]
     },
     "execution_count": 3,
     "metadata": {},
     "output_type": "execute_result"
    }
   ],
   "source": [
    "logits = torch.randn((10, 5))\n",
    "logits"
   ]
  },
  {
   "cell_type": "code",
   "execution_count": 4,
   "id": "2be0d538-4375-4280-834c-b6f20bbc06db",
   "metadata": {},
   "outputs": [
    {
     "data": {
      "text/plain": [
       "tensor([[0.0946, 0.0129, 0.0180, 0.0242, 0.8503],\n",
       "        [0.0554, 0.1347, 0.3946, 0.2173, 0.1980],\n",
       "        [0.2118, 0.3186, 0.0691, 0.2789, 0.1216],\n",
       "        [0.5544, 0.0639, 0.0535, 0.0781, 0.2501],\n",
       "        [0.2398, 0.1924, 0.3079, 0.1379, 0.1220],\n",
       "        [0.1710, 0.0486, 0.1473, 0.0592, 0.5739],\n",
       "        [0.1233, 0.1458, 0.0414, 0.5267, 0.1628],\n",
       "        [0.1597, 0.0694, 0.0473, 0.5896, 0.1340],\n",
       "        [0.2183, 0.5738, 0.0443, 0.0866, 0.0770],\n",
       "        [0.1200, 0.1295, 0.0542, 0.6637, 0.0326]])"
      ]
     },
     "execution_count": 4,
     "metadata": {},
     "output_type": "execute_result"
    }
   ],
   "source": [
    "# torch.exp(logits)/torch.exp(logits).sum(axis = 1).reshape(-1, 1)\n",
    "probs = torch.nn.functional.softmax(logits, dim = 1) ## dim == axis라고 보면 됨\n",
    "probs"
   ]
  },
  {
   "cell_type": "markdown",
   "id": "6e59fd8c-c98d-4ea8-aa54-52b5d81a6bc3",
   "metadata": {},
   "source": [
    "## 4. `abc`"
   ]
  },
  {
   "cell_type": "markdown",
   "id": "8c3793f9-0429-4dc8-81f2-2d57528a6827",
   "metadata": {},
   "source": [
    "### **A. Data**"
   ]
  },
  {
   "cell_type": "code",
   "execution_count": 10,
   "id": "cc10d91b-9571-417d-97d8-3cad173e5c3e",
   "metadata": {},
   "outputs": [
    {
     "data": {
      "text/plain": [
       "['a', 'b', 'c', 'a', 'b', 'c', 'a', 'b', 'c', 'a']"
      ]
     },
     "execution_count": 10,
     "metadata": {},
     "output_type": "execute_result"
    }
   ],
   "source": [
    "txt = list('abc'*100)\n",
    "txt[:10]"
   ]
  },
  {
   "cell_type": "markdown",
   "id": "e78de9a8-d453-46e7-98f4-69fa74ff292d",
   "metadata": {},
   "source": [
    "> 다음에 올 단어는...?"
   ]
  },
  {
   "cell_type": "markdown",
   "id": "57c10ce1-0af4-4e5f-add9-b8e33d0d6422",
   "metadata": {},
   "source": [
    "`-` 억지로 `X, y` 구조를 생산"
   ]
  },
  {
   "cell_type": "code",
   "execution_count": 12,
   "id": "52db2eaa-556c-4586-ae34-cb21c3479b2d",
   "metadata": {},
   "outputs": [
    {
     "data": {
      "text/html": [
       "<div>\n",
       "<style scoped>\n",
       "    .dataframe tbody tr th:only-of-type {\n",
       "        vertical-align: middle;\n",
       "    }\n",
       "\n",
       "    .dataframe tbody tr th {\n",
       "        vertical-align: top;\n",
       "    }\n",
       "\n",
       "    .dataframe thead th {\n",
       "        text-align: right;\n",
       "    }\n",
       "</style>\n",
       "<table border=\"1\" class=\"dataframe\">\n",
       "  <thead>\n",
       "    <tr style=\"text-align: right;\">\n",
       "      <th></th>\n",
       "      <th>x</th>\n",
       "      <th>y</th>\n",
       "    </tr>\n",
       "  </thead>\n",
       "  <tbody>\n",
       "    <tr>\n",
       "      <th>0</th>\n",
       "      <td>a</td>\n",
       "      <td>b</td>\n",
       "    </tr>\n",
       "    <tr>\n",
       "      <th>1</th>\n",
       "      <td>b</td>\n",
       "      <td>c</td>\n",
       "    </tr>\n",
       "    <tr>\n",
       "      <th>2</th>\n",
       "      <td>c</td>\n",
       "      <td>a</td>\n",
       "    </tr>\n",
       "    <tr>\n",
       "      <th>3</th>\n",
       "      <td>a</td>\n",
       "      <td>b</td>\n",
       "    </tr>\n",
       "    <tr>\n",
       "      <th>4</th>\n",
       "      <td>b</td>\n",
       "      <td>c</td>\n",
       "    </tr>\n",
       "  </tbody>\n",
       "</table>\n",
       "</div>"
      ],
      "text/plain": [
       "   x  y\n",
       "0  a  b\n",
       "1  b  c\n",
       "2  c  a\n",
       "3  a  b\n",
       "4  b  c"
      ]
     },
     "execution_count": 12,
     "metadata": {},
     "output_type": "execute_result"
    }
   ],
   "source": [
    "df_train = pd.DataFrame({\"x\" : txt[:-1], \"y\" : txt[1:]})\n",
    "df_train[:5]"
   ]
  },
  {
   "cell_type": "code",
   "execution_count": 13,
   "id": "28104331-3622-46eb-b327-6913c39df054",
   "metadata": {},
   "outputs": [],
   "source": [
    "x = torch.tensor(df_train.x.map({'a':0,'b':1,'c':2})) # torch.nn.functional.one_hot() : 임베딩 할거임\n",
    "y = torch.tensor(df_train.y.map({'a':0,'b':1,'c':2})) # 얘는 파이토치에서 알아서 잘 받아먹음"
   ]
  },
  {
   "cell_type": "markdown",
   "id": "e2398995-9603-49dd-b9fd-4f13e4ff5ba1",
   "metadata": {},
   "source": [
    "### **B. MLP - 하나의 은닉노드**"
   ]
  },
  {
   "cell_type": "markdown",
   "id": "f29bde51-7e91-4954-a021-2529e3763383",
   "metadata": {},
   "source": [
    "`-` 적합"
   ]
  },
  {
   "cell_type": "code",
   "execution_count": 19,
   "id": "afa99424-fabc-4889-a10d-e742fdfc0f6f",
   "metadata": {},
   "outputs": [],
   "source": [
    "torch.manual_seed(43052)\n",
    "net = torch.nn.Sequential(\n",
    "    torch.nn.Embedding(3, 1),\n",
    "    torch.nn.Tanh(),\n",
    "    torch.nn.Linear(1, 3)\n",
    ")\n",
    "\n",
    "loss_fn = torch.nn.CrossEntropyLoss()\n",
    "optimizr = torch.optim.Adam(net.parameters(), lr = 0.1)\n",
    "\n",
    "##---##\n",
    "for epoc in range(50) :\n",
    "    netout = net(x)\n",
    "    loss = loss_fn(netout, y)\n",
    "    loss.backward()\n",
    "    optimizr.step()\n",
    "    optimizr.zero_grad()"
   ]
  },
  {
   "cell_type": "code",
   "execution_count": 31,
   "id": "fd4fbfb3-ec45-4d41-a485-4aa87157fae9",
   "metadata": {},
   "outputs": [
    {
     "name": "stdout",
     "output_type": "stream",
     "text": [
      "acc = 1.0000\n"
     ]
    }
   ],
   "source": [
    "print(f\"acc = {(torch.nn.functional.softmax(net(x), dim = 1).argmax(axis = 1) == y).float().mean().item():.4f}\")"
   ]
  },
  {
   "cell_type": "markdown",
   "id": "e12b9b55-61f8-442a-913e-472e124783d6",
   "metadata": {},
   "source": [
    "`-` 결과 시각화"
   ]
  },
  {
   "cell_type": "code",
   "execution_count": 32,
   "id": "c87365e5-19b1-4474-8aea-423afd229e13",
   "metadata": {},
   "outputs": [
    {
     "data": {
      "text/plain": [
       "Sequential(\n",
       "  (0): Embedding(3, 1)\n",
       "  (1): Tanh()\n",
       "  (2): Linear(in_features=1, out_features=3, bias=True)\n",
       ")"
      ]
     },
     "execution_count": 32,
     "metadata": {},
     "output_type": "execute_result"
    }
   ],
   "source": [
    "net"
   ]
  },
  {
   "cell_type": "code",
   "execution_count": 34,
   "id": "f8c1a1cb-0a7b-4629-9893-b1ec8f0ea101",
   "metadata": {},
   "outputs": [],
   "source": [
    "ebdd, tanh, linr = net"
   ]
  },
  {
   "cell_type": "markdown",
   "id": "287f0c3f-8fe7-444c-89ee-f73a2ffcb7b6",
   "metadata": {},
   "source": [
    "* `tanh(ebdd(x))` -> a는 0으로, b는 1로, c는 -1로 먹임\n",
    "* `linr(tanh(ebdd(x)))` -> 가장 큰 값의 axis로 예측"
   ]
  },
  {
   "cell_type": "code",
   "execution_count": 63,
   "id": "1120eed1-6f8f-4301-ae28-d4e887988c6a",
   "metadata": {},
   "outputs": [
    {
     "data": {
      "image/png": "[encoded data removed]",
      "text/plain": [
       "<Figure size 533.333x480 with 2 Axes>"
      ]
     },
     "metadata": {},
     "output_type": "display_data"
    }
   ],
   "source": [
    "X = torch.nn.functional.one_hot(x)\n",
    "h = tanh(ebdd(x)) ## (n, 3) + one_hot -> (n, 1) + tanh ## a -> 0 / b -> 1 / c -> -1로 먹임\n",
    "netout = linr(h) ## net(x)와 동일. (n, 3) -> 가장 빨간 것 : 큰 값으로 예측\n",
    "yhat = torch.nn.functional.softmax(net(x), dim = 1) ## 확률값\n",
    "mat = torch.concat([X,h,netout/netout.max(),yhat],axis=1).data\n",
    "\n",
    "#---#\n",
    "plt.matshow(mat[:9, :],cmap=\"bwr\",vmin=-1,vmax=1)\n",
    "plt.colorbar()\n",
    "plt.axvline(2.5,color=\"lime\")\n",
    "plt.axvline(3.5,color=\"lime\")\n",
    "plt.axvline(6.5,color=\"lime\")\n",
    "plt.xticks(ticks=[0,1,2,3,4,5,6,7,8,9],labels=[r\"$x_a$\",r\"$x_b$\",r\"$x_c$\",r\"$h$\",r\"$out_a$\",r\"$out_b$\",r\"$out_c$\",r\"$\\hat{y}_a$\",r\"$\\hat{y}_b$\",r\"$\\hat{y}_c$\"]);\n",
    "plt.show()"
   ]
  },
  {
   "cell_type": "markdown",
   "id": "6921e501-1017-4e5b-a9f8-e841a04f05a2",
   "metadata": {},
   "source": [
    "`-` 시각화 해석 : 학습이 잘 된 것 같지만, 깔끔하지 않음.\n",
    "\n",
    "* netout : 가장 빨간 부분이 예측값이 됨\n",
    "* 문제 1 : $\\text{out}_b$의 경우 애매한 색깔만 있음. 네트워크가 해당 범주에 대해선 상대적으로 정답을 잘 모른다는 의미\n",
    "* 문제 1의 원인 : $\\text{out}_b$의 경우 대응하는 $h$가 흰색임 -> 값이 0이기 때문에 $h$에 걸리는 선형 변환의 `weight`가 의미없고, `bias`만 의미있기 때문에 특징을 잡기에 불리함\n",
    "> 애초에 $h$를 하나만 두었는데, 범주는 세개이니... 구분하기 어려움. 정보를 손실시키는 느낌...\n",
    "\n",
    "* 문제 2 : $h$가 흰색이면 불리하며, 확실한 색을 가지고 있는 것이 유리함. 그렇지만 확실한 색인 빨강 파랑은 이미 차지된 상태라서 어쩔 수 없이 흰색인 0으로 선택된 것\n",
    "* 문제 2의 해결 : $a, b, c$의 세 문자열을 표현하기에 범위 $(-1, 1)$는 부적절함..."
   ]
  },
  {
   "cell_type": "markdown",
   "id": "e8b9ae63-d866-4e77-8703-67aaa62e3e55",
   "metadata": {},
   "source": [
    "### **C. MLP - 두 개의 은닉노드**"
   ]
  },
  {
   "cell_type": "code",
   "execution_count": 70,
   "id": "4d850a17-7d0d-451f-955f-d30e281b6ebe",
   "metadata": {},
   "outputs": [],
   "source": [
    "torch.manual_seed(43052)\n",
    "net = torch.nn.Sequential(\n",
    "    torch.nn.Embedding(3, 2),\n",
    "    torch.nn.Tanh(),\n",
    "    torch.nn.Linear(2, 3)\n",
    ")\n",
    "\n",
    "loss_fn = torch.nn.CrossEntropyLoss()\n",
    "optimizr = torch.optim.Adam(net.parameters(), lr = 0.1)\n",
    "\n",
    "##---##\n",
    "for epoc in range(50) :\n",
    "    netout = net(x)\n",
    "    loss = loss_fn(netout, y)\n",
    "    loss.backward()\n",
    "    optimizr.step()\n",
    "    optimizr.zero_grad()"
   ]
  },
  {
   "cell_type": "code",
   "execution_count": 71,
   "id": "5b04d3aa-9041-440b-a506-73f4f2a8f94c",
   "metadata": {},
   "outputs": [
    {
     "name": "stdout",
     "output_type": "stream",
     "text": [
      "acc = 1.0000\n"
     ]
    }
   ],
   "source": [
    "print(f\"acc = {(netout.argmax(axis = 1) == y).float().mean():.4f}\")"
   ]
  },
  {
   "cell_type": "markdown",
   "id": "679fa89d-a9c9-432b-88ab-fcb7a74c7e7a",
   "metadata": {},
   "source": [
    "`-` 결과 시각화"
   ]
  },
  {
   "cell_type": "code",
   "execution_count": 75,
   "id": "ce65d965-c3c4-46a3-a5e3-2e0fb074a4c0",
   "metadata": {},
   "outputs": [
    {
     "data": {
      "image/png": "[encoded data removed]",
      "text/plain": [
       "<Figure size 586.667x480 with 2 Axes>"
      ]
     },
     "metadata": {},
     "output_type": "display_data"
    }
   ],
   "source": [
    "ebdd, tanh, linr = net\n",
    "X = torch.nn.functional.one_hot(x)\n",
    "h = tanh(ebdd(x)) ## (n, 3) + one_hot -> (n, 1) + tanh ## a -> 0 / b -> 1 / c -> -1로 먹임\n",
    "netout = linr(h) ## net(x)와 동일. (n, 3) -> 가장 빨간 것 : 큰 값으로 예측\n",
    "yhat = torch.nn.functional.softmax(net(x), dim = 1) ## 확률값\n",
    "mat = torch.concat([X,h,netout/netout.max(),yhat],axis=1).data\n",
    "\n",
    "#---#\n",
    "plt.matshow(mat[:9,:] ,cmap=\"bwr\",vmin=-1,vmax=1)\n",
    "plt.colorbar()\n",
    "plt.axvline(2.5,color=\"lime\")\n",
    "plt.axvline(4.5,color=\"lime\")\n",
    "plt.axvline(7.5,color=\"lime\")\n",
    "plt.xticks(ticks=[0,1,2,3,4,5,6,7,8,9,10],labels=[r\"$x_a$\", r\"$x_b$\", r\"$x_c$\",r\"$h_1$\",r\"$h_2$\",r\"$out_a$\",r\"$out_b$\",r\"$out_c$\",r\"$\\hat{y_a}$\",r\"$\\hat{y_b}$\",r\"$\\hat{y_c}$\"]);"
   ]
  },
  {
   "cell_type": "markdown",
   "id": "73d6299e-fe4b-4934-89d9-0e3c96550c52",
   "metadata": {},
   "source": [
    "`-` 시각화 해석 : 깔끔함. netout의 가장 빨간 부분도 명확함. $h$가 0이 아닌 값으로 학습되어 있음\n",
    "\n",
    "* `h = (파, 파)`는 사용되지 않음 -> 문자열 하나를 더 쓸 수 있는 공간이 $h$에 있다고 해석할 수 있음."
   ]
  },
  {
   "cell_type": "markdown",
   "id": "87da1fd5-164b-4976-9048-838be7dce893",
   "metadata": {},
   "source": [
    "## 5. `abcd`"
   ]
  },
  {
   "cell_type": "markdown",
   "id": "f919635b-9e22-4a12-9ef3-b040fd2b32f1",
   "metadata": {},
   "source": [
    "### **A. Data**"
   ]
  },
  {
   "cell_type": "code",
   "execution_count": 76,
   "id": "5c4feb48-fe83-44d1-bd37-4fd6830c780c",
   "metadata": {
    "tags": []
   },
   "outputs": [
    {
     "data": {
      "text/plain": [
       "['a', 'b', 'c', 'd', 'a', 'b', 'c', 'd', 'a', 'b']"
      ]
     },
     "execution_count": 76,
     "metadata": {},
     "output_type": "execute_result"
    }
   ],
   "source": [
    "txt = list('abcd'*100)\n",
    "txt[:10]"
   ]
  },
  {
   "cell_type": "code",
   "execution_count": 77,
   "id": "8ba58613-e350-4428-a44d-ada550557dc9",
   "metadata": {
    "tags": []
   },
   "outputs": [
    {
     "data": {
      "text/html": [
       "<div>\n",
       "<style scoped>\n",
       "    .dataframe tbody tr th:only-of-type {\n",
       "        vertical-align: middle;\n",
       "    }\n",
       "\n",
       "    .dataframe tbody tr th {\n",
       "        vertical-align: top;\n",
       "    }\n",
       "\n",
       "    .dataframe thead th {\n",
       "        text-align: right;\n",
       "    }\n",
       "</style>\n",
       "<table border=\"1\" class=\"dataframe\">\n",
       "  <thead>\n",
       "    <tr style=\"text-align: right;\">\n",
       "      <th></th>\n",
       "      <th>x</th>\n",
       "      <th>y</th>\n",
       "    </tr>\n",
       "  </thead>\n",
       "  <tbody>\n",
       "    <tr>\n",
       "      <th>0</th>\n",
       "      <td>a</td>\n",
       "      <td>b</td>\n",
       "    </tr>\n",
       "    <tr>\n",
       "      <th>1</th>\n",
       "      <td>b</td>\n",
       "      <td>c</td>\n",
       "    </tr>\n",
       "    <tr>\n",
       "      <th>2</th>\n",
       "      <td>c</td>\n",
       "      <td>d</td>\n",
       "    </tr>\n",
       "    <tr>\n",
       "      <th>3</th>\n",
       "      <td>d</td>\n",
       "      <td>a</td>\n",
       "    </tr>\n",
       "    <tr>\n",
       "      <th>4</th>\n",
       "      <td>a</td>\n",
       "      <td>b</td>\n",
       "    </tr>\n",
       "  </tbody>\n",
       "</table>\n",
       "</div>"
      ],
      "text/plain": [
       "   x  y\n",
       "0  a  b\n",
       "1  b  c\n",
       "2  c  d\n",
       "3  d  a\n",
       "4  a  b"
      ]
     },
     "execution_count": 77,
     "metadata": {},
     "output_type": "execute_result"
    }
   ],
   "source": [
    "df_train = pd.DataFrame({'x':txt[:-1], 'y':txt[1:]})\n",
    "df_train[:5]"
   ]
  },
  {
   "cell_type": "code",
   "execution_count": 78,
   "id": "a93b2c72-3606-42a4-8b82-5b566a22afd5",
   "metadata": {
    "tags": []
   },
   "outputs": [],
   "source": [
    "x = torch.tensor(df_train.x.map({'a':0, 'b':1, 'c':2, 'd':3}))\n",
    "y = torch.tensor(df_train.y.map({'a':0, 'b':1, 'c':2, 'd':3}))"
   ]
  },
  {
   "cell_type": "markdown",
   "id": "f8595c73-127b-4aac-b01a-7534b18ecb5a",
   "metadata": {},
   "source": [
    "### **B. MLP - 하나의 은닉노드**"
   ]
  },
  {
   "cell_type": "markdown",
   "id": "5b13f7df-a8d2-42e1-9b18-b0f8e8149d08",
   "metadata": {},
   "source": [
    "`-` 학습"
   ]
  },
  {
   "cell_type": "code",
   "execution_count": 105,
   "id": "8419dcb1-15d9-439d-a815-f3b17e115049",
   "metadata": {},
   "outputs": [],
   "source": [
    "net = torch.nn.Sequential(\n",
    "    torch.nn.Embedding(4, 1),\n",
    "    torch.nn.Tanh(),\n",
    "    torch.nn.Linear(1, 4)\n",
    ")\n",
    "\n",
    "loss_fn = torch.nn.CrossEntropyLoss()\n",
    "optimizr = torch.optim.Adam(net.parameters(), lr = 0.05)\n",
    "\n",
    "##---##\n",
    "for epoc in range(100) :\n",
    "    netout = net(x)\n",
    "    loss = loss_fn(netout, y)\n",
    "    loss.backward()\n",
    "    optimizr.step()\n",
    "    optimizr.zero_grad()"
   ]
  },
  {
   "cell_type": "code",
   "execution_count": 107,
   "id": "27166b84-98dc-4943-afde-27331d12e76d",
   "metadata": {},
   "outputs": [
    {
     "name": "stdout",
     "output_type": "stream",
     "text": [
      "acc = 1.0000\n"
     ]
    }
   ],
   "source": [
    "print(f\"acc = {(net(x).argmax(axis = 1) == y).float().mean():.4f}\")"
   ]
  },
  {
   "cell_type": "markdown",
   "id": "fd825214-fbfa-4e63-9871-dcc08f6f0962",
   "metadata": {},
   "source": [
    "> 0.5에서 1.0까지 엄청 왔다갔다함."
   ]
  },
  {
   "cell_type": "markdown",
   "id": "22029389-6282-4786-ab42-e20865eddfe2",
   "metadata": {},
   "source": [
    "`-` 결과 시각화"
   ]
  },
  {
   "cell_type": "code",
   "execution_count": 108,
   "id": "8f5756bc-15f7-4623-9876-65250b45360d",
   "metadata": {},
   "outputs": [
    {
     "data": {
      "image/png": "[encoded data removed]",
      "text/plain": [
       "<Figure size 624x480 with 2 Axes>"
      ]
     },
     "metadata": {},
     "output_type": "display_data"
    }
   ],
   "source": [
    "ebdd,tanh,linr = net\n",
    "X = torch.nn.functional.one_hot(x)\n",
    "h = tanh(ebdd(x)).data\n",
    "netout = linr(tanh(ebdd(x))).data\n",
    "yhat = torch.nn.functional.softmax(net(x),dim=1).data\n",
    "mat = torch.concat([X,h,netout/netout.max(),yhat],axis=1)\n",
    "#---#\n",
    "plt.matshow(mat[:10, :],cmap=\"bwr\",vmin=-1,vmax=1)\n",
    "plt.colorbar()\n",
    "plt.axvline(3.5,color=\"lime\")\n",
    "plt.axvline(4.5,color=\"lime\")\n",
    "plt.axvline(8.5,color=\"lime\")\n",
    "plt.xticks(\n",
    "    ticks=[0,1,2,3,4,5,6,7,8,9,10,11,12],\n",
    "    labels=[\n",
    "        r\"$x_a$\",r\"$x_b$\",r\"$x_c$\",r\"$x_d$\",\n",
    "        r\"$h$\",\n",
    "        r\"$out_a$\",r\"$out_b$\",r\"$out_c$\",r\"$out_d$\",\n",
    "        r\"$\\hat{y}_a$\",r\"$\\hat{y}_b$\",r\"$\\hat{y}_c$\",r\"$\\hat{y}_d$\"]\n",
    ");"
   ]
  },
  {
   "cell_type": "markdown",
   "id": "91a99e72-4816-435c-87b2-6c1db521cfd3",
   "metadata": {},
   "source": [
    "> 초기값이 매우 중요함... 수틀리면 수렴 안해버림..."
   ]
  },
  {
   "cell_type": "markdown",
   "id": "043b17d1-30b3-479d-a985-6d9331b51003",
   "metadata": {},
   "source": [
    "### **C. MLP - 두 개의 은닉노드**"
   ]
  },
  {
   "cell_type": "markdown",
   "id": "2caaf1a7-31fd-4c30-b563-89fb7f8d7ef1",
   "metadata": {},
   "source": [
    "`-` 학습"
   ]
  },
  {
   "cell_type": "code",
   "execution_count": 112,
   "id": "624fb38e-3fb9-4d32-b88f-a27fd2f15528",
   "metadata": {},
   "outputs": [],
   "source": [
    "net = torch.nn.Sequential(\n",
    "    torch.nn.Embedding(4, 2),\n",
    "    torch.nn.Tanh(),\n",
    "    torch.nn.Linear(2, 4)\n",
    ")\n",
    "\n",
    "loss_fn = torch.nn.CrossEntropyLoss()\n",
    "optimizr = torch.optim.Adam(net.parameters(), lr = 0.1)\n",
    "\n",
    "##---##\n",
    "for epoc in range(50) :\n",
    "    netout = net(x)\n",
    "    loss = loss_fn(netout, y)\n",
    "    loss.backward()\n",
    "    optimizr.step()\n",
    "    optimizr.zero_grad()"
   ]
  },
  {
   "cell_type": "code",
   "execution_count": 113,
   "id": "7bb3024e-3d62-4cd2-ac37-4445e8ff92ad",
   "metadata": {},
   "outputs": [
    {
     "name": "stdout",
     "output_type": "stream",
     "text": [
      "acc = 1.0000\n"
     ]
    }
   ],
   "source": [
    "print(f\"acc = {(net(x).argmax(axis = 1) == y).float().mean():.4f}\")"
   ]
  },
  {
   "cell_type": "markdown",
   "id": "5299a1bb-1148-45e3-bf92-3ab299c4f4f2",
   "metadata": {},
   "source": [
    "`-` 결과 시각화"
   ]
  },
  {
   "cell_type": "code",
   "execution_count": 114,
   "id": "ffddf751-65a9-4f5c-8f58-a436b216a6c5",
   "metadata": {},
   "outputs": [
    {
     "data": {
      "image/png": "[encoded data removed]",
      "text/plain": [
       "<Figure size 672x480 with 2 Axes>"
      ]
     },
     "metadata": {},
     "output_type": "display_data"
    }
   ],
   "source": [
    "ebdd,tanh,linr = net\n",
    "X = torch.nn.functional.one_hot(x)\n",
    "h = tanh(ebdd(x)).data\n",
    "netout = linr(tanh(ebdd(x))).data\n",
    "yhat = torch.nn.functional.softmax(net(x),dim=1).data\n",
    "mat = torch.concat([X,h,netout/netout.max(),yhat],axis=1)\n",
    "#---#\n",
    "plt.matshow(mat[:10, :],cmap=\"bwr\",vmin=-1,vmax=1)\n",
    "plt.colorbar()\n",
    "plt.axvline(3.5,color=\"lime\")\n",
    "plt.axvline(5.5,color=\"lime\")\n",
    "plt.axvline(9.5,color=\"lime\")\n",
    "plt.xticks(\n",
    "    ticks=[0,1,2,3,4,5,6,7,8,9,10,11,12,13],\n",
    "    labels=[\n",
    "        r\"$x_a$\",r\"$x_b$\",r\"$x_c$\",r\"$x_d$\",\n",
    "        r\"$h_1$\",r\"$h_2$\",\n",
    "        r\"$out_a$\",r\"$out_b$\",r\"$out_c$\",r\"$out_d$\",\n",
    "        r\"$\\hat{y}_a$\",r\"$\\hat{y}_b$\",r\"$\\hat{y}_c$\",r\"$\\hat{y}_d$\"]\n",
    ");"
   ]
  },
  {
   "cell_type": "markdown",
   "id": "c5c28afc-b6af-431a-896a-5d44bc5e1bf3",
   "metadata": {},
   "source": [
    "> 노드 두 개를 쓸 때 훨씬 표현력이 커짐... 당연하지..."
   ]
  },
  {
   "cell_type": "markdown",
   "id": "b1f6ae7e-ad41-475e-98f3-7b3a2be6685d",
   "metadata": {},
   "source": [
    "### **D. 비교실험**"
   ]
  },
  {
   "cell_type": "code",
   "execution_count": 116,
   "id": "02a9e78e-cb3b-40d0-90bc-21e82cae032e",
   "metadata": {},
   "outputs": [],
   "source": [
    "class Net1(torch.nn.Module) :\n",
    "    def __init__(self) :\n",
    "        super().__init__()\n",
    "        self.ebdd = torch.nn.Embedding(4, 1)\n",
    "        self.tanh = torch.nn.Tanh()\n",
    "        self.linr = torch.nn.Linear(1, 4)\n",
    "\n",
    "    def forward(self, X) :\n",
    "        ebdd_x = self.ebdd(x)\n",
    "        h = self.tanh(ebdd_x)\n",
    "        netout = self.linr(h)\n",
    "        return netout"
   ]
  },
  {
   "cell_type": "code",
   "execution_count": 115,
   "id": "6ce47c9c-1297-4c40-9276-7ef9fc102492",
   "metadata": {},
   "outputs": [],
   "source": [
    "class Net2(torch.nn.Module):\n",
    "    def __init__(self):\n",
    "        super().__init__()\n",
    "        self.ebdd = torch.nn.Embedding(4,2)\n",
    "        self.tanh = torch.nn.Tanh()\n",
    "        self.linr = torch.nn.Linear(2,4)\n",
    "        \n",
    "    def forward(self,X):\n",
    "        ebdd_x = self.ebdd(x)\n",
    "        h = self.tanh(ebdd_x)\n",
    "        netout = self.linr(h)\n",
    "        return netout"
   ]
  },
  {
   "cell_type": "markdown",
   "id": "791d9212-877a-4203-9c2d-c226d28c3633",
   "metadata": {},
   "source": [
    "`-` 노드가 1개인 네트워크..."
   ]
  },
  {
   "cell_type": "code",
   "execution_count": 119,
   "id": "81f60ed2-cec0-45f6-8eac-cdec83fb40c1",
   "metadata": {},
   "outputs": [
    {
     "data": {
      "image/png": "[encoded data removed]",
      "text/plain": [
       "<Figure size 1000x1000 with 20 Axes>"
      ]
     },
     "metadata": {},
     "output_type": "display_data"
    }
   ],
   "source": [
    "fig, ax = plt.subplots(4,5,figsize=(10,10))\n",
    "for i in range(4):\n",
    "    for j in range(5):\n",
    "        net = Net1()\n",
    "        optimizr = torch.optim.Adam(net.parameters(),lr=0.1)\n",
    "        loss_fn = torch.nn.CrossEntropyLoss()\n",
    "        for epoc in range(50):\n",
    "            ## 1 \n",
    "            netout = net(x)\n",
    "            ## 2 \n",
    "            loss = loss_fn(netout,y)\n",
    "            ## 3 \n",
    "            loss.backward()\n",
    "            ## 4 \n",
    "            optimizr.step()\n",
    "            optimizr.zero_grad()\n",
    "        h = net.tanh(net.ebdd(x)).data\n",
    "        yhat = torch.nn.functional.softmax(net(x),dim=1).data\n",
    "        mat = torch.concat([h,yhat],axis=1)\n",
    "        ax[i][j].matshow(mat[:6, :],cmap='bwr',vmin=-1,vmax=1)\n",
    "        ax[i][j].axvline(0.5,color='lime')\n",
    "        ax[i][j].set_xticks(ticks=[0,1,2,3,4],labels=[r\"$h$\",r\"$y_a$\",r\"$y_b$\",r\"$y_c$\",r\"$y_d$\"])\n",
    "fig.suptitle(\"# of hidden nodes = 1\", size=20)\n",
    "fig.tight_layout()"
   ]
  },
  {
   "cell_type": "markdown",
   "id": "9edb79e1-4cd4-4a1b-b3ae-80cc95a11b3b",
   "metadata": {},
   "source": [
    "> 된 것은 손에 꼽고, 그 결과도 확실하지 않음."
   ]
  },
  {
   "cell_type": "markdown",
   "id": "62abb3e3-b899-4d2e-ae25-dce0ef745f5e",
   "metadata": {},
   "source": [
    "`-` 노드가 2개인 네트워크의 경우"
   ]
  },
  {
   "cell_type": "code",
   "execution_count": 120,
   "id": "890d2b8d-ab14-4fb0-a6a2-abf8e5976329",
   "metadata": {},
   "outputs": [
    {
     "data": {
      "image/png": "[encoded data removed]",
      "text/plain": [
       "<Figure size 1000x1000 with 20 Axes>"
      ]
     },
     "metadata": {},
     "output_type": "display_data"
    }
   ],
   "source": [
    "fig, ax = plt.subplots(4,5,figsize=(10,10))\n",
    "for i in range(4):\n",
    "    for j in range(5):\n",
    "        net = Net2()\n",
    "        optimizr = torch.optim.Adam(net.parameters(),lr=0.1)\n",
    "        loss_fn = torch.nn.CrossEntropyLoss()\n",
    "        for epoc in range(50):\n",
    "            ## 1 \n",
    "            netout = net(x)\n",
    "            ## 2 \n",
    "            loss = loss_fn(netout,y)\n",
    "            ## 3 \n",
    "            loss.backward()\n",
    "            ## 4 \n",
    "            optimizr.step()\n",
    "            optimizr.zero_grad()\n",
    "        h = net.tanh(net.ebdd(x)).data\n",
    "        yhat = torch.nn.functional.softmax(net(x),dim=1).data\n",
    "        mat = torch.concat([h,yhat],axis=1)\n",
    "        ax[i][j].matshow(mat[:6, :],cmap='bwr',vmin=-1,vmax=1)\n",
    "        ax[i][j].axvline(1.5,color='lime')\n",
    "        ax[i][j].set_xticks(ticks=[0,1,2,3,4,5],labels=[r\"$h_1$\",r\"$h_2$\",r\"$\\hat{y}_a$\",r\"$\\hat{y}_b$\",r\"$\\hat{y}_c$\",r\"$\\hat{y}_d$\"])\n",
    "fig.suptitle(\"# of hidden nodes = 2\", size=20)\n",
    "fig.tight_layout()        "
   ]
  },
  {
   "cell_type": "markdown",
   "id": "b279e372-603c-4940-abb0-e593b3a83bf4",
   "metadata": {},
   "source": [
    "> 가끔 좀 깔끔하지 않은 게 있긴 하지만, 일단 다 성공했고 위보다는 훨씬 나음"
   ]
  },
  {
   "cell_type": "markdown",
   "id": "8cc75b4f-4d67-48ec-927f-1a5f7a10d1be",
   "metadata": {},
   "source": [
    "## 6. $h$에 대하여 ($\\star \\star \\star$)"
   ]
  },
  {
   "cell_type": "markdown",
   "id": "1214711c-a285-44df-8208-2789a03c25ce",
   "metadata": {},
   "source": [
    "`-` $h$는 사실 문자열을 숫자로 바꾼 표현으로 해석할 수 있음. 즉, 원-핫 인코딩과 다른 형태의 숫자표현으로 해석 가능.\n",
    "\n",
    "* `hidden feature`로서 작용함 -> 학습시켜 생산된 피쳐\n",
    "\n",
    "`-` 사실 $h$는 원-핫 인코딩보다 약간 더 (1) 액기스만 남은 느낌 + (2) 숙성된 느낌을 준다.\n",
    "\n",
    "* (why 1) $h$는 $x$보다 $y$를 예측함에 좀 더 직접적인 역할을 한다. 즉, $x$ 숫자보다 $h$ 숫자가 잘 정리되어 있고(차원이 낮고), 입력의 특징을 잘 정리한 의미있는 숫자이다.\n",
    "* (why 2) $x$는 학습없이 그냥 얻어지는 숫자표현이지만, $h$는 학습을 통하여 고치고 고치고 고치고 고친 숫자표현이다."
   ]
  },
  {
   "cell_type": "markdown",
   "id": "0fd3d7f0-64bb-422c-b3df-ae95507fccb7",
   "metadata": {},
   "source": [
    "## 7. `AbAbAc` - 실패"
   ]
  },
  {
   "cell_type": "markdown",
   "id": "808c8c60-f8b6-4a4e-a1de-9b742609a19c",
   "metadata": {},
   "source": [
    "### **A. Data**"
   ]
  },
  {
   "cell_type": "markdown",
   "id": "f5970bc3-b746-4927-8a9b-dd45d020adfe",
   "metadata": {},
   "source": [
    "`-` 데이터 정리"
   ]
  },
  {
   "cell_type": "code",
   "execution_count": 121,
   "id": "a6138edc-f21a-447f-abaf-c8da5da7b6d9",
   "metadata": {},
   "outputs": [
    {
     "data": {
      "text/plain": [
       "['A', 'b', 'A', 'c', 'A', 'd', 'A', 'b', 'A', 'c']"
      ]
     },
     "execution_count": 121,
     "metadata": {},
     "output_type": "execute_result"
    }
   ],
   "source": [
    "txt = list(\"AbAcAd\"*50)\n",
    "txt[:10]"
   ]
  },
  {
   "cell_type": "code",
   "execution_count": 123,
   "id": "b4204659-dc71-4431-9a62-e0774f11b7b4",
   "metadata": {},
   "outputs": [
    {
     "data": {
      "text/html": [
       "<div>\n",
       "<style scoped>\n",
       "    .dataframe tbody tr th:only-of-type {\n",
       "        vertical-align: middle;\n",
       "    }\n",
       "\n",
       "    .dataframe tbody tr th {\n",
       "        vertical-align: top;\n",
       "    }\n",
       "\n",
       "    .dataframe thead th {\n",
       "        text-align: right;\n",
       "    }\n",
       "</style>\n",
       "<table border=\"1\" class=\"dataframe\">\n",
       "  <thead>\n",
       "    <tr style=\"text-align: right;\">\n",
       "      <th></th>\n",
       "      <th>x</th>\n",
       "      <th>y</th>\n",
       "    </tr>\n",
       "  </thead>\n",
       "  <tbody>\n",
       "    <tr>\n",
       "      <th>0</th>\n",
       "      <td>A</td>\n",
       "      <td>b</td>\n",
       "    </tr>\n",
       "    <tr>\n",
       "      <th>1</th>\n",
       "      <td>b</td>\n",
       "      <td>A</td>\n",
       "    </tr>\n",
       "    <tr>\n",
       "      <th>2</th>\n",
       "      <td>A</td>\n",
       "      <td>c</td>\n",
       "    </tr>\n",
       "    <tr>\n",
       "      <th>3</th>\n",
       "      <td>c</td>\n",
       "      <td>A</td>\n",
       "    </tr>\n",
       "    <tr>\n",
       "      <th>4</th>\n",
       "      <td>A</td>\n",
       "      <td>d</td>\n",
       "    </tr>\n",
       "  </tbody>\n",
       "</table>\n",
       "</div>"
      ],
      "text/plain": [
       "   x  y\n",
       "0  A  b\n",
       "1  b  A\n",
       "2  A  c\n",
       "3  c  A\n",
       "4  A  d"
      ]
     },
     "execution_count": 123,
     "metadata": {},
     "output_type": "execute_result"
    }
   ],
   "source": [
    "df_train = pd.DataFrame({\"x\" : txt[:-1], \"y\" : txt[1:]})\n",
    "df_train[:5]"
   ]
  },
  {
   "cell_type": "code",
   "execution_count": 129,
   "id": "a02e2a38-cdbc-4e77-a7d4-039aed16f575",
   "metadata": {},
   "outputs": [],
   "source": [
    "x = torch.tensor(df_train.x.map({\"A\":0, \"b\":1, \"c\":2, \"d\":3}))\n",
    "y = torch.tensor(df_train.y.map({\"A\":0, \"b\":1, \"c\":2, \"d\":3}))"
   ]
  },
  {
   "cell_type": "code",
   "execution_count": 130,
   "id": "7c53c409-29ad-48b8-9052-aa1581516d56",
   "metadata": {},
   "outputs": [
    {
     "data": {
      "text/plain": [
       "(tensor([0, 1, 0, 2, 0, 3, 0, 1]), tensor([1, 0, 2, 0, 3, 0, 1, 0]))"
      ]
     },
     "execution_count": 130,
     "metadata": {},
     "output_type": "execute_result"
    }
   ],
   "source": [
    "x[:8], y[:8]"
   ]
  },
  {
   "cell_type": "markdown",
   "id": "7d0f40d6-c4a3-4bcd-8729-436670d2c6be",
   "metadata": {},
   "source": [
    "### **B. 풀이 - 두 개의 은닉노드 : 실패**"
   ]
  },
  {
   "cell_type": "markdown",
   "id": "a632eff4-53bc-4780-874f-cf906d7290f5",
   "metadata": {},
   "source": [
    "`-` 적합"
   ]
  },
  {
   "cell_type": "code",
   "execution_count": 131,
   "id": "b0886237-8f2d-4cad-a2f6-303d06aa6567",
   "metadata": {},
   "outputs": [],
   "source": [
    "net = torch.nn.Sequential(\n",
    "    torch.nn.Embedding(4, 2),\n",
    "    torch.nn.Tanh(),\n",
    "    torch.nn.Linear(2, 4)\n",
    ")\n",
    "\n",
    "loss_fn = torch.nn.CrossEntropyLoss()\n",
    "optimizr = torch.optim.Adam(net.parameters(), lr = 0.1)\n",
    "\n",
    "#---#\n",
    "for epoc in range(100) :\n",
    "    netout = net(x)\n",
    "    loss = loss_fn(netout, y)\n",
    "    loss.backward()\n",
    "    optimizr.step()\n",
    "    optimizr.zero_grad()"
   ]
  },
  {
   "cell_type": "code",
   "execution_count": 134,
   "id": "cf3a004e-9a96-4f98-98f2-085362b8cf8e",
   "metadata": {},
   "outputs": [
    {
     "name": "stdout",
     "output_type": "stream",
     "text": [
      "acc = 0.6656\n"
     ]
    }
   ],
   "source": [
    "print(f\"acc = {(net(x).argmax(axis = 1) == y).float().mean():.4f}\")"
   ]
  },
  {
   "cell_type": "code",
   "execution_count": 135,
   "id": "bb822a26-5f99-43d6-9496-d5d203f97b4d",
   "metadata": {},
   "outputs": [
    {
     "data": {
      "image/png": "[encoded data removed]",
      "text/plain": [
       "<Figure size 672x480 with 2 Axes>"
      ]
     },
     "metadata": {},
     "output_type": "display_data"
    }
   ],
   "source": [
    "ebdd,tanh,linr = net\n",
    "X = torch.nn.functional.one_hot(x)\n",
    "h = tanh(ebdd(x)).data\n",
    "netout = linr(tanh(ebdd(x))).data\n",
    "yhat = torch.nn.functional.softmax(net(x),dim=1).data\n",
    "mat = torch.concat([X,h,netout/netout.max(),yhat],axis=1)\n",
    "#---#\n",
    "plt.matshow(mat[:10, :],cmap=\"bwr\",vmin=-1,vmax=1)\n",
    "plt.colorbar()\n",
    "plt.axvline(3.5,color=\"lime\")\n",
    "plt.axvline(5.5,color=\"lime\")\n",
    "plt.axvline(9.5,color=\"lime\")\n",
    "plt.xticks(\n",
    "    ticks=[0,1,2,3,4,5,6,7,8,9,10,11,12,13],\n",
    "    labels=[\n",
    "        r\"$x_a$\",r\"$x_b$\",r\"$x_c$\",r\"$x_d$\",\n",
    "        r\"$h_1$\",r\"$h_2$\",\n",
    "        r\"$out_a$\",r\"$out_b$\",r\"$out_c$\",r\"$out_d$\",\n",
    "        r\"$\\hat{y}_a$\",r\"$\\hat{y}_b$\",r\"$\\hat{y}_c$\",r\"$\\hat{y}_d$\"]\n",
    ");"
   ]
  },
  {
   "cell_type": "markdown",
   "id": "fe46e143-ae39-4c6e-a151-ccfcb135c21b",
   "metadata": {},
   "source": [
    "> `A`는 잘 구분했음. 근데 그 다음에 뭐가 나올지는 모름...\n",
    ">\n",
    "> 노드 수를 늘려도 큰 차이는 없음... 애초에 `AR(1)` 프로세스 느낌이니까 될리가 없지..."
   ]
  },
  {
   "cell_type": "markdown",
   "id": "badc50d1-c5aa-43e1-9324-88a81bf1ac4a",
   "metadata": {},
   "source": [
    "### **C. Discussions**"
   ]
  },
  {
   "cell_type": "markdown",
   "id": "d042b6e9-4f16-4d67-bf87-90a54a37c500",
   "metadata": {},
   "source": [
    "`-` 왜 망함?? - 안드레이 카파시\n",
    "\n",
    "* `hello`라는 문자열을 맞출 수 있을까? `l` 다음에는 `l`이 나올지, `o`가 나올지 알 수가 없음...\n",
    "* 앞에 있는 것 하나만 고려하면 맞출 수 없다.\n",
    "\n",
    "> 이전 시점을 많이 고려하면 맞출 수는 있겠지...\n",
    ">\n",
    "> 하지만 이런 방법들(ARMA, N-grams)은 한계가 뚜렷 $\\to$ 순환신경망의 등장\n",
    ">\n",
    "> 이전 정보가 얼마나 많이 필요한지를 명시할 수 없음...\n",
    ">\n",
    "> 과거의 몇 개 정보만으로 모형을 추정하면, 안정성이 떨어짐. 취약함."
   ]
  },
  {
   "cell_type": "markdown",
   "id": "31276117-d6ea-4a49-82ef-0d639df9e9cf",
   "metadata": {},
   "source": [
    "## 8. 씨간장"
   ]
  },
  {
   "cell_type": "markdown",
   "id": "4953c7b9-3679-4913-b28c-42459580aa6c",
   "metadata": {},
   "source": [
    "* 간장을 500년 동안 남겨놓음...?"
   ]
  }
 ],
 "metadata": {
  "kernelspec": {
   "display_name": "Python 3 (ipykernel)",
   "language": "python",
   "name": "python3"
  },
  "language_info": {
   "codemirror_mode": {
    "name": "ipython",
    "version": 3
   },
   "file_extension": ".py",
   "mimetype": "text/x-python",
   "name": "python",
   "nbconvert_exporter": "python",
   "pygments_lexer": "ipython3",
   "version": "3.9.18"
  }
 },
 "nbformat": 4,
 "nbformat_minor": 5
}
