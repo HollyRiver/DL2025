{
 "cells": [
  {
   "cell_type": "markdown",
   "id": "9bac18bf",
   "metadata": {},
   "source": [
    "# 06wk-2: (신경망) – 다항분류, 합성곱신경망"
   ]
  },
  {
   "cell_type": "markdown",
   "id": "2a20c324",
   "metadata": {},
   "source": [
    "## 1. Imports"
   ]
  },
  {
   "cell_type": "code",
   "execution_count": 1,
   "id": "6caaef90",
   "metadata": {},
   "outputs": [],
   "source": [
    "import torch\n",
    "import matplotlib.pyplot as plt\n",
    "import torchvision"
   ]
  },
  {
   "cell_type": "code",
   "execution_count": 2,
   "id": "611fd427-c549-468d-838c-8329d96a9f9e",
   "metadata": {},
   "outputs": [],
   "source": [
    "plt.rcParams['figure.figsize'] = (4.5, 3.0)"
   ]
  },
  {
   "cell_type": "markdown",
   "id": "d77e86b8",
   "metadata": {},
   "source": [
    "## 2. 주요 코드 등"
   ]
  },
  {
   "cell_type": "markdown",
   "id": "ae807142",
   "metadata": {},
   "source": [
    "## 3. 다항분류"
   ]
  },
  {
   "cell_type": "markdown",
   "id": "8a4f610c-33c3-46a5-9b9a-f1105d21216d",
   "metadata": {},
   "source": [
    "* 이항분류 - 실패 / 성공 $\\to ~ y \\in \\{0, 1\\}$\n",
    "* 다항분류 - 3개 이상의 범주로 분류"
   ]
  },
  {
   "cell_type": "markdown",
   "id": "fa2c95f1-070e-4df2-9845-20d1e7607f50",
   "metadata": {},
   "source": [
    "### A. 이항분류와 `BCEWithLogitsLoss`"
   ]
  },
  {
   "cell_type": "markdown",
   "id": "32967000-30a7-4a45-a443-10ee6ddeb981",
   "metadata": {},
   "source": [
    "`-` 데이터"
   ]
  },
  {
   "cell_type": "code",
   "execution_count": 3,
   "id": "f3510e31-5c11-48c8-9f36-1bb00b70fcf7",
   "metadata": {},
   "outputs": [],
   "source": [
    "train_dataset = torchvision.datasets.MNIST(root='./data', train=True, download=True)\n",
    "to_tensor = torchvision.transforms.ToTensor()\n",
    "X0_train = torch.stack([to_tensor(Xi) for Xi, yi in train_dataset if yi==0])\n",
    "X1_train = torch.stack([to_tensor(Xi) for Xi, yi in train_dataset if yi==1])\n",
    "X = torch.concat([X0_train,X1_train],axis=0).reshape(-1,784)\n",
    "y = torch.tensor([0.0]*len(X0_train) + [1.0]*len(X1_train)).reshape(-1,1)"
   ]
  },
  {
   "cell_type": "code",
   "execution_count": 5,
   "id": "48be26dc-34b5-4913-8587-8bf87d58f622",
   "metadata": {},
   "outputs": [
    {
     "data": {
      "text/plain": [
       "torch.Size([12665, 784])"
      ]
     },
     "execution_count": 5,
     "metadata": {},
     "output_type": "execute_result"
    }
   ],
   "source": [
    "X.shape"
   ]
  },
  {
   "cell_type": "code",
   "execution_count": 6,
   "id": "4e11927a-95a0-4054-9033-e0a75fba1bb4",
   "metadata": {},
   "outputs": [
    {
     "data": {
      "text/plain": [
       "torch.Size([12665, 1])"
      ]
     },
     "execution_count": 6,
     "metadata": {},
     "output_type": "execute_result"
    }
   ],
   "source": [
    "y.shape"
   ]
  },
  {
   "cell_type": "code",
   "execution_count": 42,
   "id": "60824ee2-d9c4-43bc-8bcc-57e574b23e91",
   "metadata": {},
   "outputs": [
    {
     "name": "stdout",
     "output_type": "stream",
     "text": [
      "epoch = 1\t acc = 0.4689\n",
      "epoch = 2\t acc = 0.6385\n",
      "epoch = 3\t acc = 0.8711\n",
      "epoch = 4\t acc = 0.9457\n",
      "epoch = 5\t acc = 0.9677\n",
      "epoch = 6\t acc = 0.9765\n",
      "epoch = 7\t acc = 0.9809\n",
      "epoch = 8\t acc = 0.9848\n",
      "epoch = 9\t acc = 0.9863\n",
      "epoch = 10\t acc = 0.9878\n",
      "epoch = 11\t acc = 0.9887\n",
      "epoch = 12\t acc = 0.9893\n",
      "epoch = 13\t acc = 0.9904\n",
      "epoch = 14\t acc = 0.9909\n",
      "epoch = 15\t acc = 0.9918\n",
      "epoch = 16\t acc = 0.9923\n",
      "epoch = 17\t acc = 0.9926\n",
      "epoch = 18\t acc = 0.9931\n",
      "epoch = 19\t acc = 0.9935\n",
      "epoch = 20\t acc = 0.9938\n",
      "epoch = 21\t acc = 0.9939\n",
      "epoch = 22\t acc = 0.9940\n",
      "epoch = 23\t acc = 0.9945\n",
      "epoch = 24\t acc = 0.9946\n",
      "epoch = 25\t acc = 0.9948\n",
      "epoch = 26\t acc = 0.9946\n",
      "epoch = 27\t acc = 0.9948\n",
      "epoch = 28\t acc = 0.9951\n",
      "epoch = 29\t acc = 0.9953\n",
      "epoch = 30\t acc = 0.9956\n"
     ]
    }
   ],
   "source": [
    "torch.manual_seed(43052)\n",
    "\n",
    "net = torch.nn.Sequential(\n",
    "    torch.nn.Linear(784, 32),\n",
    "    torch.nn.ReLU(),\n",
    "    torch.nn.Linear(32, 1)\n",
    "    # torch.nn.Sigmoid()\n",
    ")\n",
    "\n",
    "sig = torch.nn.Sigmoid()\n",
    "\n",
    "# sig(net(X)) ## 똑같은 결과...긴함\n",
    "# 1/(1+torch.exp(-net(X))) ## 그냥 수식 직접 때려박아도 똑같음... 일단은\n",
    "\n",
    "loss_fn = torch.nn.BCELoss()\n",
    "optimizr = torch.optim.Adam(net.parameters())\n",
    "\n",
    "##---##\n",
    "for epoc in range(1, 31) :\n",
    "    # 1\n",
    "    netout = net(X)\n",
    "    yhat = sig(netout)\n",
    "    # 2\n",
    "    loss = loss_fn(yhat, y)\n",
    "    # 3\n",
    "    loss.backward()\n",
    "    # 4\n",
    "    optimizr.step()\n",
    "    optimizr.zero_grad()\n",
    "    #----------에폭 이후 코드----------#\n",
    "    acc = ((net(X).data > 0.0) == y).float().mean()  ## 로짓\n",
    "    print(f\"epoch = {epoc}\\t acc = {acc:.4f}\")"
   ]
  },
  {
   "cell_type": "code",
   "execution_count": 16,
   "id": "ce117b5f-b383-47cd-8ae6-d594230ba9b9",
   "metadata": {},
   "outputs": [
    {
     "data": {
      "text/plain": [
       "tensor([[0.0179],\n",
       "        [0.0205],\n",
       "        [0.1106],\n",
       "        ...,\n",
       "        [0.8751],\n",
       "        [0.8740],\n",
       "        [0.8033]], grad_fn=<SigmoidBackward0>)"
      ]
     },
     "execution_count": 16,
     "metadata": {},
     "output_type": "execute_result"
    }
   ],
   "source": [
    "sig(net(X))"
   ]
  },
  {
   "cell_type": "code",
   "execution_count": 13,
   "id": "64d073d4-af59-4a1f-8f5b-bf9e67921d32",
   "metadata": {},
   "outputs": [],
   "source": [
    "# torch.manual_seed(43052)\n",
    "\n",
    "# net = torch.nn.Sequential(\n",
    "#     torch.nn.Linear(784, 32),\n",
    "#     torch.nn.ReLU(),\n",
    "#     torch.nn.Linear(32, 1),\n",
    "#     torch.nn.Sigmoid()\n",
    "# )\n",
    "\n",
    "# loss_fn = torch.nn.BCELoss()\n",
    "# optimizr = torch.optim.Adam(net.parameters())\n",
    "\n",
    "# ##---##\n",
    "# for epoc in range(1, 31) :\n",
    "#     # 1\n",
    "#     yhat = net(X)\n",
    "#     # 2\n",
    "#     loss = loss_fn(yhat, y)\n",
    "#     # 3\n",
    "#     loss.backward()\n",
    "#     # 4\n",
    "#     optimizr.step()\n",
    "#     optimizr.zero_grad()\n",
    "\n",
    "# net(X)"
   ]
  },
  {
   "cell_type": "markdown",
   "id": "c03c6648-ba2c-4872-a39e-6c1cc2b14769",
   "metadata": {},
   "source": [
    "> 어차피 네트워크에 들어가는 파라미터가 없고, 손실함수에만 적용되었기 때문에 똑같음"
   ]
  },
  {
   "cell_type": "code",
   "execution_count": 17,
   "id": "9ba70f29-ca52-44ef-8b3e-622616240d19",
   "metadata": {},
   "outputs": [
    {
     "data": {
      "text/plain": [
       "tensor([[0.0179],\n",
       "        [0.0205],\n",
       "        [0.1106],\n",
       "        ...,\n",
       "        [0.8751],\n",
       "        [0.8740],\n",
       "        [0.8033]], grad_fn=<SigmoidBackward0>)"
      ]
     },
     "execution_count": 17,
     "metadata": {},
     "output_type": "execute_result"
    }
   ],
   "source": [
    "sig(net(X))"
   ]
  },
  {
   "cell_type": "markdown",
   "id": "fa1bbeb6-902f-446f-895e-585b970c213d",
   "metadata": {},
   "source": [
    "`-` 로짓"
   ]
  },
  {
   "cell_type": "code",
   "execution_count": 18,
   "id": "a5b00220-a6c4-447d-b8f9-1d2cc3c2f622",
   "metadata": {},
   "outputs": [],
   "source": [
    "logits = netout = net(X)"
   ]
  },
  {
   "cell_type": "code",
   "execution_count": 19,
   "id": "94315a47-776b-450a-8812-be3686531531",
   "metadata": {},
   "outputs": [
    {
     "data": {
      "text/plain": [
       "tensor([[0.0179],\n",
       "        [0.0205],\n",
       "        [0.1106],\n",
       "        ...,\n",
       "        [0.8751],\n",
       "        [0.8740],\n",
       "        [0.8033]], grad_fn=<SigmoidBackward0>)"
      ]
     },
     "execution_count": 19,
     "metadata": {},
     "output_type": "execute_result"
    }
   ],
   "source": [
    "sig(logits)"
   ]
  },
  {
   "cell_type": "code",
   "execution_count": 21,
   "id": "998e4419-5d50-47d4-84c6-de58eaeff17d",
   "metadata": {},
   "outputs": [
    {
     "data": {
      "text/plain": [
       "tensor([[0.0179],\n",
       "        [0.0205],\n",
       "        [0.1106],\n",
       "        ...,\n",
       "        [0.8751],\n",
       "        [0.8740],\n",
       "        [0.8033]], grad_fn=<MulBackward0>)"
      ]
     },
     "execution_count": 21,
     "metadata": {},
     "output_type": "execute_result"
    }
   ],
   "source": [
    "1/(1+torch.exp(-logits))"
   ]
  },
  {
   "cell_type": "markdown",
   "id": "907ec0a5-8a2b-46f8-863b-8f9ce59c48d6",
   "metadata": {},
   "source": [
    "`#` netout(logits)의 특징\n",
    "\n",
    "* $\\text{netout} > 0 \\Leftrightarrow \\text{sig(netout)} > 0.5$\n",
    "* $\\text{netout} < 0 \\Leftrightarrow \\text{sig(netout)} < 0.5$"
   ]
  },
  {
   "cell_type": "markdown",
   "id": "543bc8c0-5502-4e1d-a16c-1230b102f0c2",
   "metadata": {},
   "source": [
    "> 둘다 동일하게 사용할 수 있다. logits을 이용하여 네트워크의 정확도를 파악할 수 있다."
   ]
  },
  {
   "cell_type": "code",
   "execution_count": 33,
   "id": "3f43f465-bbb8-48c1-8066-b1e7b8d88cc3",
   "metadata": {},
   "outputs": [
    {
     "data": {
      "text/plain": [
       "tensor(0.9956)"
      ]
     },
     "execution_count": 33,
     "metadata": {},
     "output_type": "execute_result"
    }
   ],
   "source": [
    "((sig(net(X)) > 0.5) == y).float().mean() ## 확률값을 비교"
   ]
  },
  {
   "cell_type": "code",
   "execution_count": 34,
   "id": "bcae52c0-3ebf-40ac-9f2b-51711c158ccb",
   "metadata": {},
   "outputs": [
    {
     "data": {
      "text/plain": [
       "tensor(0.9956)"
      ]
     },
     "execution_count": 34,
     "metadata": {},
     "output_type": "execute_result"
    }
   ],
   "source": [
    "((net(X) > 0.0) == y).float().mean() ## 로짓 자체를 비교"
   ]
  },
  {
   "cell_type": "markdown",
   "id": "08e15126-638c-4b86-b0bf-c9d2431b0ce6",
   "metadata": {},
   "source": [
    "`-` 그런데 이건 위랑 같은 코드임"
   ]
  },
  {
   "cell_type": "code",
   "execution_count": 40,
   "id": "98e8e135-16ad-4bad-8203-89c8ad09b5fb",
   "metadata": {},
   "outputs": [
    {
     "name": "stdout",
     "output_type": "stream",
     "text": [
      "epoch = 1\t acc = 0.4689\n",
      "epoch = 2\t acc = 0.6385\n",
      "epoch = 3\t acc = 0.8711\n",
      "epoch = 4\t acc = 0.9457\n",
      "epoch = 5\t acc = 0.9677\n",
      "epoch = 6\t acc = 0.9765\n",
      "epoch = 7\t acc = 0.9809\n",
      "epoch = 8\t acc = 0.9848\n",
      "epoch = 9\t acc = 0.9863\n",
      "epoch = 10\t acc = 0.9878\n",
      "epoch = 11\t acc = 0.9887\n",
      "epoch = 12\t acc = 0.9893\n",
      "epoch = 13\t acc = 0.9904\n",
      "epoch = 14\t acc = 0.9909\n",
      "epoch = 15\t acc = 0.9918\n",
      "epoch = 16\t acc = 0.9923\n",
      "epoch = 17\t acc = 0.9926\n",
      "epoch = 18\t acc = 0.9931\n",
      "epoch = 19\t acc = 0.9935\n",
      "epoch = 20\t acc = 0.9938\n",
      "epoch = 21\t acc = 0.9939\n",
      "epoch = 22\t acc = 0.9940\n",
      "epoch = 23\t acc = 0.9945\n",
      "epoch = 24\t acc = 0.9946\n",
      "epoch = 25\t acc = 0.9948\n",
      "epoch = 26\t acc = 0.9946\n",
      "epoch = 27\t acc = 0.9948\n",
      "epoch = 28\t acc = 0.9951\n",
      "epoch = 29\t acc = 0.9953\n",
      "epoch = 30\t acc = 0.9956\n"
     ]
    }
   ],
   "source": [
    "torch.manual_seed(43052)\n",
    "net = torch.nn.Sequential(\n",
    "    torch.nn.Linear(784,32),\n",
    "    torch.nn.ReLU(),\n",
    "    torch.nn.Linear(32,1)\n",
    ")\n",
    "loss_fn = torch.nn.BCEWithLogitsLoss() # <--- 여기를 바꾸고 \n",
    "optimizr = torch.optim.Adam(net.parameters())\n",
    "#---#\n",
    "for epoc in range(1,31):\n",
    "    # step1 \n",
    "    netout = net(X) # netout = logits \n",
    "    # yhat = torch.exp(netout) / (1 + torch.exp(netout))  # yhat = prob  ## 바로 비교해서 필요 없음\n",
    "    # step2\n",
    "    loss = loss_fn(netout,y) ## logits이랑 loss를 바로 비교하고 싶어...\n",
    "    # step3     \n",
    "    loss.backward()\n",
    "    # step4 \n",
    "    optimizr.step()\n",
    "    optimizr.zero_grad()\n",
    "    #----------에폭 이후 코드----------#\n",
    "    acc = ((net(X).data > 0.0) == y).float().mean()\n",
    "    print(f\"epoch = {epoc}\\t acc = {acc:.4f}\")"
   ]
  },
  {
   "cell_type": "code",
   "execution_count": 37,
   "id": "5aa7ab9b-c796-49b2-b7a5-9cd61e9970fd",
   "metadata": {},
   "outputs": [
    {
     "data": {
      "text/plain": [
       "tensor([[0.0179],\n",
       "        [0.0205],\n",
       "        [0.1106],\n",
       "        ...,\n",
       "        [0.8751],\n",
       "        [0.8740],\n",
       "        [0.8033]], grad_fn=<SigmoidBackward0>)"
      ]
     },
     "execution_count": 37,
     "metadata": {},
     "output_type": "execute_result"
    }
   ],
   "source": [
    "sig(net(X))"
   ]
  },
  {
   "cell_type": "markdown",
   "id": "d0f742cb-580c-4afc-aa85-5b02c6e9dbc6",
   "metadata": {},
   "source": [
    "> 컴퓨터공학적인 사유로 더 좋음. 그리고 시그모이드를 취하지 않은 실수 범위의 값에서 모델을 학습시키는게 더 도움이 됨"
   ]
  },
  {
   "cell_type": "markdown",
   "id": "b1e19f78-5a38-4ef2-a926-dd6f9ebc727e",
   "metadata": {},
   "source": [
    "### B. 범주형 자료의 변환\n",
    "\n",
    "`-` 범주형 자료를 숫자로 어떻게 바꿀까?\n",
    "\n",
    "* 실패 / 성공 -> 0 / 1\n",
    "* 숫자0그림 / 숫자1그림 -> 0 / 1\n",
    "* 강아지그림 / 고양이그림 -> 0 / 1\n",
    "* 강아지그림 / 고양이그림 / 토끼그림 -> 0 / 1 / 2 ???\n",
    "\n",
    "`-` 주입식교육\n",
    "\n",
    "* 올바른방식 : 강아지그림 = $[1, 0, 0]$, 고양이그림 = $[0, 1, 0]$, 토끼그림 = $[0, 0, 1]$\n",
    "> 더미변수 하나 제거 안함...\n",
    "\n",
    "`-` 왜?\n",
    "\n",
    "* 서열측도가 아닌 명목척도임. 그래서 범주를 숫자화하면 평균 등의 의미가 없음\n",
    "* 범주형은 그냥 원핫인코딩 해야 함\n",
    "* 다항분포의 실현값은 벡터로 나오므로 당연히 $y_i$도 해당 실현값의 형태를 가진다고 가정하는 게 바람직함"
   ]
  },
  {
   "cell_type": "markdown",
   "id": "9eff2aec-d134-474c-a6bb-4415088ba1f6",
   "metadata": {},
   "source": [
    "### C. 실습 : 3개의 데이터를 구분"
   ]
  },
  {
   "cell_type": "markdown",
   "id": "0cc00fdd-c5b2-49e3-86f1-c0ac4d1c1c33",
   "metadata": {},
   "source": [
    "`-` 데이터 준비 : 3개의 이미지"
   ]
  },
  {
   "cell_type": "code",
   "execution_count": 94,
   "id": "423ddb8c-4e44-479a-8300-801442595226",
   "metadata": {},
   "outputs": [],
   "source": [
    "train_dataset = torchvision.datasets.MNIST(root='./data', train=True, download=True)\n",
    "to_tensor = torchvision.transforms.ToTensor()\n",
    "X0 = torch.stack([to_tensor(Xi) for Xi, yi in train_dataset if yi==0])\n",
    "X1 = torch.stack([to_tensor(Xi) for Xi, yi in train_dataset if yi==1])\n",
    "X2 = torch.stack([to_tensor(Xi) for Xi, yi in train_dataset if yi==2])\n",
    "X = torch.concat([X0,X1,X2]).reshape(-1,1*28*28)\n",
    "y = torch.tensor([0]*len(X0) + [1]*len(X1)+ [2]*len(X2)).reshape(-1,1).float()"
   ]
  },
  {
   "cell_type": "code",
   "execution_count": 95,
   "id": "88cdb86f-54c9-47d6-bd65-5385dd6d7df0",
   "metadata": {},
   "outputs": [
    {
     "data": {
      "text/plain": [
       "(<matplotlib.image.AxesImage at 0x7f7f565be1f0>, tensor([0.]))"
      ]
     },
     "execution_count": 95,
     "metadata": {},
     "output_type": "execute_result"
    },
    {
     "data": {
      "image/png": "[encoded data removed]",
      "text/plain": [
       "<Figure size 450x300 with 1 Axes>"
      ]
     },
     "metadata": {},
     "output_type": "display_data"
    }
   ],
   "source": [
    "plt.imshow(X[0].reshape(28, 28), cmap = \"gray\"), y[0]"
   ]
  },
  {
   "cell_type": "code",
   "execution_count": 96,
   "id": "5b79c1af-6e25-4f62-96e6-65b8752ab879",
   "metadata": {},
   "outputs": [
    {
     "data": {
      "text/plain": [
       "tensor([1, 1, 2])"
      ]
     },
     "execution_count": 96,
     "metadata": {},
     "output_type": "execute_result"
    }
   ],
   "source": [
    "torch.tensor([1.0, 1.2, 2.9]).long() ## 롱폼으로 넣어야 함. 그냥 내림 시켜버리는듯"
   ]
  },
  {
   "cell_type": "code",
   "execution_count": 97,
   "id": "951fd50e-20bc-4c5d-b7ce-411f1a8f555a",
   "metadata": {},
   "outputs": [],
   "source": [
    "y = torch.nn.functional.one_hot(y.reshape(-1).long()).float()  ## 포맷도 맞춰줘야 함"
   ]
  },
  {
   "cell_type": "code",
   "execution_count": 98,
   "id": "315af1a2-3b03-48a9-9da6-608a2f66fee7",
   "metadata": {},
   "outputs": [
    {
     "data": {
      "text/plain": [
       "tensor([[-0.2445, -0.2006,  0.2036],\n",
       "        [-0.1615, -0.1641,  0.2457],\n",
       "        [-0.2522, -0.2821,  0.1476],\n",
       "        ...,\n",
       "        [-0.1001, -0.1585,  0.1373],\n",
       "        [-0.1158, -0.2489,  0.0921],\n",
       "        [-0.1562, -0.2348,  0.0666]], grad_fn=<AddmmBackward0>)"
      ]
     },
     "execution_count": 98,
     "metadata": {},
     "output_type": "execute_result"
    }
   ],
   "source": [
    "net(X)"
   ]
  },
  {
   "cell_type": "code",
   "execution_count": 99,
   "id": "0006bd46-c703-4984-b169-f0d07ed01150",
   "metadata": {},
   "outputs": [
    {
     "data": {
      "text/plain": [
       "tensor([[1., 0., 0.],\n",
       "        [1., 0., 0.],\n",
       "        [1., 0., 0.],\n",
       "        ...,\n",
       "        [0., 0., 1.],\n",
       "        [0., 0., 1.],\n",
       "        [0., 0., 1.]])"
      ]
     },
     "execution_count": 99,
     "metadata": {},
     "output_type": "execute_result"
    }
   ],
   "source": [
    "y"
   ]
  },
  {
   "cell_type": "code",
   "execution_count": 101,
   "id": "c9a8f430-f94e-4f57-a217-a38bda258ef3",
   "metadata": {},
   "outputs": [],
   "source": [
    "net = torch.nn.Sequential(\n",
    "    torch.nn.Linear(784, 32),\n",
    "    torch.nn.ReLU(),\n",
    "    torch.nn.Linear(32, 3)\n",
    ")\n",
    "\n",
    "loss_fn = torch.nn.CrossEntropyLoss() ## Binary가 아님. 그리고 LogitsLoss를 사용함...\n",
    "optimizr = torch.optim.Adam(net.parameters())\n",
    "\n",
    "\n",
    "for epoc in range(1, 31) :\n",
    "    # 1\n",
    "    netout = net(X) ## 시그모이드 필요없음\n",
    "    # 2\n",
    "    loss = loss_fn(netout, y)\n",
    "    # 3\n",
    "    loss.backward()\n",
    "    # 4\n",
    "    optimizr.step()\n",
    "    optimizr.zero_grad()"
   ]
  },
  {
   "cell_type": "code",
   "execution_count": 112,
   "id": "1e7072b8-cee9-4c28-913d-db7120c11867",
   "metadata": {},
   "outputs": [],
   "source": [
    "probs = [[v/torch.sum(l) for v in l] for l in torch.exp(net(X))]"
   ]
  },
  {
   "cell_type": "markdown",
   "id": "0993714e-8dac-426e-925d-13162742d428",
   "metadata": {},
   "source": [
    "> 약간 이런 느낌으로 확률 만들어낸 다음에 비교함"
   ]
  },
  {
   "cell_type": "code",
   "execution_count": 114,
   "id": "b958eac8-4b9f-436e-8fe6-589ff43c6947",
   "metadata": {},
   "outputs": [
    {
     "data": {
      "text/plain": [
       "[[tensor(0.9543, grad_fn=<DivBackward0>),\n",
       "  tensor(0.0214, grad_fn=<DivBackward0>),\n",
       "  tensor(0.0243, grad_fn=<DivBackward0>)],\n",
       " [tensor(0.9620, grad_fn=<DivBackward0>),\n",
       "  tensor(0.0223, grad_fn=<DivBackward0>),\n",
       "  tensor(0.0157, grad_fn=<DivBackward0>)],\n",
       " [tensor(0.7642, grad_fn=<DivBackward0>),\n",
       "  tensor(0.1418, grad_fn=<DivBackward0>),\n",
       "  tensor(0.0940, grad_fn=<DivBackward0>)],\n",
       " [tensor(0.9284, grad_fn=<DivBackward0>),\n",
       "  tensor(0.0320, grad_fn=<DivBackward0>),\n",
       "  tensor(0.0396, grad_fn=<DivBackward0>)],\n",
       " [tensor(0.9889, grad_fn=<DivBackward0>),\n",
       "  tensor(0.0039, grad_fn=<DivBackward0>),\n",
       "  tensor(0.0072, grad_fn=<DivBackward0>)]]"
      ]
     },
     "execution_count": 114,
     "metadata": {},
     "output_type": "execute_result"
    }
   ],
   "source": [
    "probs[:5]"
   ]
  },
  {
   "cell_type": "code",
   "execution_count": 121,
   "id": "e7048ab8-d39f-403d-a145-a17807265d5a",
   "metadata": {},
   "outputs": [
    {
     "data": {
      "text/plain": [
       "tensor(0.9671)"
      ]
     },
     "execution_count": 121,
     "metadata": {},
     "output_type": "execute_result"
    }
   ],
   "source": [
    "(net(X).argmax(axis = 1) == y.argmax(axis = 1)).float().mean()"
   ]
  },
  {
   "cell_type": "markdown",
   "id": "981413c2-6f4b-4396-b9b1-1f864aa3aab8",
   "metadata": {},
   "source": [
    "### D. 결론 - 외우세여ㅕㅕㅕㅕㅕㅕㅕㅕㅕㅕㅕㅕ"
   ]
  },
  {
   "cell_type": "markdown",
   "id": "80fe6a11-2170-4025-be69-c4400c1a9486",
   "metadata": {},
   "source": [
    "`-` 파이토치버전 // 코딩용\n",
    "\n",
    "|   분류   | netout의 의미 |      손실함수       |\n",
    "|:--------:|:-------------:|:-------------------:|\n",
    "| 이항분류 |     prob      |      `BCELoss`      |\n",
    "| 이항분류 |    logits     | `BCEWithLogitsLoss` |\n",
    "| 다항분류 |     probs     |   NA(그런거 없음)   |\n",
    "| 다항분류 |    logits     | `CrossEntropyLoss`  |\n",
    "\n",
    "> `CrossEntropyLoss` 이거 이름이 완전 마음에 안들어요..\n",
    "> `CEWithLogitsLoss` 라고 하는게 더 좋을 것 같습니다.\n",
    "\n",
    "`-` 일반적개념 // 이론용\n",
    "\n",
    "|   분류   | 오차항의가정 | 마지막활성화함수 |       손실함수       |\n",
    "|:--------:|:------------:|:----------------:|:--------------------:|\n",
    "| 이항분류 |   이항분포   |    sigmoid[1]    | Binary Cross Entropy |\n",
    "| 다항분류 |   다항분포   |    softmax[2]    |    Cross Entropy     |"
   ]
  },
  {
   "cell_type": "markdown",
   "id": "6b86fe9f-7e35-4e75-aeed-1f8c558c3c0d",
   "metadata": {},
   "source": [
    "## 4. FashionMNIST"
   ]
  },
  {
   "cell_type": "markdown",
   "id": "306cb2ee-7ee3-4624-b560-b54d92447753",
   "metadata": {},
   "source": [
    "### A. 데이터\n",
    "\n",
    "\n",
    "<https://arxiv.org/abs/1708.07747> (Xiao, Rasul, and Vollgraf 2017)\n",
    "\n",
    "[1] prob=sig(logit)\n",
    "\n",
    "[2] probs=soft(logits)"
   ]
  },
  {
   "cell_type": "code",
   "execution_count": 122,
   "id": "a479bfeb-a531-439b-8699-9d565c35c41c",
   "metadata": {},
   "outputs": [
    {
     "name": "stderr",
     "output_type": "stream",
     "text": [
      "100.0%\n",
      "100.0%\n",
      "100.0%\n",
      "100.0%\n"
     ]
    }
   ],
   "source": [
    "train_dataset = torchvision.datasets.FashionMNIST(root='./data', train=True, download=True)\n",
    "test_dataset = torchvision.datasets.FashionMNIST(root='./data', train=False, download=True)\n",
    "to_tensor = torchvision.transforms.ToTensor()\n",
    "X = torch.stack([to_tensor(img) for img, lbl in train_dataset])\n",
    "y = torch.tensor([lbl for img, lbl in train_dataset])\n",
    "y = torch.nn.functional.one_hot(y).float()\n",
    "XX = torch.stack([to_tensor(img) for img, lbl in test_dataset])\n",
    "yy = torch.tensor([lbl for img, lbl in test_dataset])\n",
    "yy = torch.nn.functional.one_hot(yy).float()"
   ]
  },
  {
   "cell_type": "code",
   "execution_count": 123,
   "id": "bf06c8cb-e690-489d-ad80-80ebb246a51e",
   "metadata": {},
   "outputs": [],
   "source": [
    "ds_train = torch.utils.data.TensorDataset(X,y)\n",
    "dl_train = torch.utils.data.DataLoader(ds_train,batch_size=256,shuffle=True)\n",
    "ds_test = torch.utils.data.TensorDataset(XX,yy)\n",
    "dl_test = torch.utils.data.DataLoader(ds_test,batch_size=256)"
   ]
  },
  {
   "cell_type": "code",
   "execution_count": 124,
   "id": "902b6d2d-7f21-4dbd-968c-aa642fe6dfe9",
   "metadata": {},
   "outputs": [
    {
     "data": {
      "text/plain": [
       "(torch.Size([60000, 1, 28, 28]),\n",
       " torch.Size([60000, 10]),\n",
       " torch.Size([10000, 1, 28, 28]),\n",
       " torch.Size([10000, 10]))"
      ]
     },
     "execution_count": 124,
     "metadata": {},
     "output_type": "execute_result"
    }
   ],
   "source": [
    "X.shape, y.shape, XX.shape, yy.shape"
   ]
  },
  {
   "cell_type": "code",
   "execution_count": 149,
   "id": "68879247-1e15-461a-b901-a7b5691bb56e",
   "metadata": {},
   "outputs": [
    {
     "data": {
      "image/png": "[encoded data removed]",
      "text/plain": [
       "<Figure size 450x300 with 1 Axes>"
      ]
     },
     "metadata": {},
     "output_type": "display_data"
    }
   ],
   "source": [
    "obs_idx = 42\n",
    "\n",
    "plt.imshow(X[obs_idx,0,:,:], cmap = \"gray\")\n",
    "plt.title(train_dataset.classes[y[obs_idx].argmax().item()])\n",
    "plt.show()"
   ]
  },
  {
   "cell_type": "code",
   "execution_count": 136,
   "id": "d23f6645-6017-475d-ae1d-72b97a19ab5c",
   "metadata": {},
   "outputs": [
    {
     "data": {
      "text/plain": [
       "tensor([[0., 0., 0.,  ..., 0., 0., 1.],\n",
       "        [1., 0., 0.,  ..., 0., 0., 0.],\n",
       "        [1., 0., 0.,  ..., 0., 0., 0.],\n",
       "        ...,\n",
       "        [0., 0., 0.,  ..., 0., 0., 0.],\n",
       "        [1., 0., 0.,  ..., 0., 0., 0.],\n",
       "        [0., 0., 0.,  ..., 0., 0., 0.]])"
      ]
     },
     "execution_count": 136,
     "metadata": {},
     "output_type": "execute_result"
    }
   ],
   "source": [
    "y ## 이미 원-핫 인코딩 되어있음. 10개 범주"
   ]
  },
  {
   "cell_type": "code",
   "execution_count": 138,
   "id": "f8648426-59b0-474c-a8d8-a835d9860936",
   "metadata": {},
   "outputs": [
    {
     "data": {
      "text/plain": [
       "['T-shirt/top',\n",
       " 'Trouser',\n",
       " 'Pullover',\n",
       " 'Dress',\n",
       " 'Coat',\n",
       " 'Sandal',\n",
       " 'Shirt',\n",
       " 'Sneaker',\n",
       " 'Bag',\n",
       " 'Ankle boot']"
      ]
     },
     "execution_count": 138,
     "metadata": {},
     "output_type": "execute_result"
    }
   ],
   "source": [
    "train_dataset.classes ## 각 라벨이 의미하는 것"
   ]
  },
  {
   "cell_type": "markdown",
   "id": "35104f14-13af-4de9-bc99-067da8195420",
   "metadata": {},
   "source": [
    "> 어차피 모형 구성하는 데에는 별다른 의미는 없음./.."
   ]
  },
  {
   "cell_type": "markdown",
   "id": "50c82833-abf5-4b7a-9030-2780f20eaa3d",
   "metadata": {},
   "source": [
    "### B. 간단한 신경망"
   ]
  },
  {
   "cell_type": "code",
   "execution_count": 151,
   "id": "125efac2-77d8-463e-815a-26172609293f",
   "metadata": {},
   "outputs": [
    {
     "data": {
      "text/plain": [
       "784"
      ]
     },
     "execution_count": 151,
     "metadata": {},
     "output_type": "execute_result"
    }
   ],
   "source": [
    "28*28"
   ]
  },
  {
   "cell_type": "code",
   "execution_count": 150,
   "id": "160834b3-09a2-44fd-a563-f2e5bbc3714b",
   "metadata": {},
   "outputs": [
    {
     "data": {
      "text/plain": [
       "torch.Size([60000, 1, 28, 28])"
      ]
     },
     "execution_count": 150,
     "metadata": {},
     "output_type": "execute_result"
    }
   ],
   "source": [
    "X.shape"
   ]
  },
  {
   "cell_type": "code",
   "execution_count": 160,
   "id": "c6cc7c78-e092-488d-9f7f-1da66da4ab59",
   "metadata": {},
   "outputs": [],
   "source": [
    "##\n",
    "class Flatten(torch.nn.Module):\n",
    "    def __init__(self) :\n",
    "        super().__init__()\n",
    "    def forward(self, ipt) :\n",
    "        out = ipt.reshape(-1, 784)\n",
    "        return out"
   ]
  },
  {
   "cell_type": "code",
   "execution_count": 165,
   "id": "85ad6380-b154-401c-80ed-be47f5ee72e5",
   "metadata": {},
   "outputs": [],
   "source": [
    "net = torch.nn.Sequential(\n",
    "    Flatten(),\n",
    "    torch.nn.Linear(784, 32),\n",
    "    torch.nn.ReLU(),\n",
    "    torch.nn.Linear(32, 10)\n",
    ")\n",
    "\n",
    "loss_fn = torch.nn.CrossEntropyLoss()\n",
    "optimizr = torch.optim.Adam(net.parameters())\n",
    "\n",
    "##---##"
   ]
  },
  {
   "cell_type": "code",
   "execution_count": 166,
   "id": "e17b2900-5764-4bd7-952d-505e0a3ddb08",
   "metadata": {},
   "outputs": [
    {
     "data": {
      "text/plain": [
       "tensor([[-0.1095,  0.0599, -0.2448,  ..., -0.1533,  0.2131, -0.0300],\n",
       "        [-0.0772,  0.0177, -0.1851,  ..., -0.2153, -0.0031, -0.0431],\n",
       "        [-0.1638, -0.0720, -0.1709,  ..., -0.1506,  0.0121, -0.0105],\n",
       "        ...,\n",
       "        [-0.1242,  0.0944, -0.2923,  ..., -0.2200,  0.0352, -0.1012],\n",
       "        [-0.1311, -0.0851, -0.1209,  ..., -0.1525,  0.0598,  0.0646],\n",
       "        [-0.1940, -0.1228, -0.1014,  ..., -0.1262,  0.1344,  0.0667]],\n",
       "       grad_fn=<AddmmBackward0>)"
      ]
     },
     "execution_count": 166,
     "metadata": {},
     "output_type": "execute_result"
    }
   ],
   "source": [
    "net(X)"
   ]
  },
  {
   "cell_type": "markdown",
   "id": "9c3a6d03-bc4d-4544-8000-e9603cd7952e",
   "metadata": {},
   "source": [
    "`-` 파이토치에서도 이정도는 해줌"
   ]
  },
  {
   "cell_type": "code",
   "execution_count": 175,
   "id": "d3acf48d-8711-4610-96ad-cee30e52c181",
   "metadata": {},
   "outputs": [],
   "source": [
    "net = torch.nn.Sequential(\n",
    "    torch.nn.Flatten(), ## 이미지 포맷인 경우 해줌 : (n, 3, w, h)\n",
    "    torch.nn.Linear(784, 32),\n",
    "    torch.nn.ReLU(),\n",
    "    torch.nn.Linear(32, 10)\n",
    ")\n",
    "\n",
    "loss_fn = torch.nn.CrossEntropyLoss()\n",
    "optimizr = torch.optim.Adam(net.parameters())\n",
    "\n",
    "##---##\n",
    "for epoc in range(1, 301) :\n",
    "    # 1\n",
    "    yhat = net(X)\n",
    "    # 2\n",
    "    loss = loss_fn(yhat, y)\n",
    "    # 3\n",
    "    loss.backward()\n",
    "    # 4\n",
    "    optimizr.step()\n",
    "    optimizr.zero_grad()"
   ]
  },
  {
   "cell_type": "code",
   "execution_count": 176,
   "id": "0e4377f8-223f-4ada-aedc-5155ee8a103c",
   "metadata": {},
   "outputs": [
    {
     "data": {
      "text/plain": [
       "tensor(0.8575)"
      ]
     },
     "execution_count": 176,
     "metadata": {},
     "output_type": "execute_result"
    }
   ],
   "source": [
    "(net(X).argmax(axis = 1) == y.argmax(axis = 1)).float().mean()"
   ]
  },
  {
   "cell_type": "markdown",
   "id": "45e5b2aa-c209-468f-85cd-7c599eaf25c7",
   "metadata": {},
   "source": [
    "> 잘 안되는 것 같음... -> 에폭별로 상황 파악"
   ]
  },
  {
   "cell_type": "code",
   "execution_count": 179,
   "id": "48c4bca7-653b-4447-88e8-7748fc86fa96",
   "metadata": {},
   "outputs": [
    {
     "name": "stdout",
     "output_type": "stream",
     "text": [
      "50 acc 0.7404\n",
      "100 acc 0.8044\n",
      "150 acc 0.8295\n",
      "200 acc 0.8423\n",
      "250 acc 0.8505\n",
      "300 acc 0.8565\n"
     ]
    }
   ],
   "source": [
    "net = torch.nn.Sequential(\n",
    "    torch.nn.Flatten(), ## 이미지 포맷인 경우 해줌 : (n, 3, w, h)\n",
    "    torch.nn.Linear(784, 32),\n",
    "    torch.nn.ReLU(),\n",
    "    torch.nn.Linear(32, 10)\n",
    ")\n",
    "\n",
    "loss_fn = torch.nn.CrossEntropyLoss()\n",
    "optimizr = torch.optim.Adam(net.parameters())\n",
    "\n",
    "##---##\n",
    "for epoc in range(1, 301) :\n",
    "    # 1\n",
    "    yhat = net(X)\n",
    "    # 2\n",
    "    loss = loss_fn(yhat, y)\n",
    "    # 3\n",
    "    loss.backward()\n",
    "    # 4\n",
    "    optimizr.step()\n",
    "    optimizr.zero_grad()\n",
    "    #-----에폭 끝-----#\n",
    "    if epoc % 50 == 0 :\n",
    "        logits = net(X).data\n",
    "        acc = (logits.argmax(axis = 1) == y.argmax(axis = 1)).float().mean()\n",
    "        print(f\"{epoc} acc {acc:.4f}\")"
   ]
  },
  {
   "cell_type": "code",
   "execution_count": 180,
   "id": "72244d51-a277-4075-bfb3-cba2d556bd31",
   "metadata": {},
   "outputs": [
    {
     "data": {
      "text/plain": [
       "tensor(0.8565)"
      ]
     },
     "execution_count": 180,
     "metadata": {},
     "output_type": "execute_result"
    }
   ],
   "source": [
    "(net(X).argmax(axis = 1) == y.argmax(axis = 1)).float().mean()"
   ]
  },
  {
   "cell_type": "markdown",
   "id": "73db7b20-61fc-4b99-b20a-86d372931ace",
   "metadata": {},
   "source": [
    "> 에폭을 높여도 정확도가 드라마틱하게 올라가진 않을 것 같음. 게다가 이건 train acc임..."
   ]
  },
  {
   "cell_type": "code",
   "execution_count": 182,
   "id": "9b1a8954-78e4-4ce3-b9f8-282f1f97607e",
   "metadata": {},
   "outputs": [
    {
     "name": "stdout",
     "output_type": "stream",
     "text": [
      "# of epochs = 50, \t train acc 0.7334\n",
      "# test acc = 0.7245\n",
      "# of epochs = 100, \t train acc 0.8052\n",
      "# test acc = 0.7925\n",
      "# of epochs = 150, \t train acc 0.8295\n",
      "# test acc = 0.8181\n",
      "# of epochs = 200, \t train acc 0.8398\n",
      "# test acc = 0.8283\n",
      "# of epochs = 250, \t train acc 0.8488\n",
      "# test acc = 0.8344\n",
      "# of epochs = 300, \t train acc 0.8556\n",
      "# test acc = 0.8383\n"
     ]
    }
   ],
   "source": [
    "torch.manual_seed(43052)\n",
    "net = torch.nn.Sequential(\n",
    "    torch.nn.Flatten(), ## 이미지 포맷인 경우 해줌 : (n, 3, w, h)\n",
    "    torch.nn.Linear(784, 32),\n",
    "    torch.nn.ReLU(),\n",
    "    torch.nn.Linear(32, 10)\n",
    ")\n",
    "\n",
    "loss_fn = torch.nn.CrossEntropyLoss()\n",
    "optimizr = torch.optim.Adam(net.parameters())\n",
    "\n",
    "##---##\n",
    "for epoc in range(1, 301) :\n",
    "    # 1\n",
    "    yhat = net(X)\n",
    "    # 2\n",
    "    loss = loss_fn(yhat, y)\n",
    "    # 3\n",
    "    loss.backward()\n",
    "    # 4\n",
    "    optimizr.step()\n",
    "    optimizr.zero_grad()\n",
    "    #-----에폭 끝-----#\n",
    "    if epoc % 50 == 0 :\n",
    "        logits = net(X).data\n",
    "        acc = (logits.argmax(axis = 1) == y.argmax(axis = 1)).float().mean()\n",
    "        print(f\"# of epochs = {epoc}, \\t train acc {acc:.4f}\")\n",
    "\n",
    "        logits = net(XX).data\n",
    "        acc = (logits.argmax(axis = 1) == yy.argmax(axis = 1)).float().mean()\n",
    "        print(f\"# test acc = {acc:.4f}\")"
   ]
  },
  {
   "cell_type": "markdown",
   "id": "da630292-dc8d-4285-8b39-508761a272b2",
   "metadata": {},
   "source": [
    "GPU에 올리고 에폭을 때려박아보자..."
   ]
  },
  {
   "cell_type": "markdown",
   "id": "190e0411-54d1-4f2b-9370-3edc0714b4b8",
   "metadata": {},
   "source": [
    "`-` step 1"
   ]
  },
  {
   "cell_type": "code",
   "execution_count": 193,
   "id": "95efc8f7-8750-4efe-a92d-15ddfacc67a1",
   "metadata": {},
   "outputs": [],
   "source": [
    "train_ds = torch.utils.data.TensorDataset(X, y)\n",
    "train_dl = torch.utils.data.DataLoader(train_ds, batch_size = 256, shuffle = True)\n",
    "\n",
    "test_ds = torch.utils.data.TensorDataset(XX, yy)\n",
    "test_dl = torch.utils.data.DataLoader(test_ds, batch_size = 256, shuffle = False) ## 얘는 평가용이니 필요 X"
   ]
  },
  {
   "cell_type": "markdown",
   "id": "422cfa65-7029-4624-b21e-731b90aa7b93",
   "metadata": {},
   "source": [
    "`-` step 2"
   ]
  },
  {
   "cell_type": "code",
   "execution_count": 194,
   "id": "9409d6b6-6574-472e-816e-728f9067e27d",
   "metadata": {},
   "outputs": [],
   "source": [
    "net = torch.nn.Sequential(\n",
    "    torch.nn.Flatten(),\n",
    "    torch.nn.Linear(784, 32),\n",
    "    torch.nn.ReLU(),\n",
    "    torch.nn.Linear(32, 10)\n",
    ").to(\"cuda:0\")\n",
    "\n",
    "loss_fn = torch.nn.CrossEntropyLoss()\n",
    "optimizr = torch.optim.Adam(net.parameters())"
   ]
  },
  {
   "cell_type": "markdown",
   "id": "53c46fda-dfe2-4598-9a8c-615ddfc0437f",
   "metadata": {},
   "source": [
    "`-` step 3"
   ]
  },
  {
   "cell_type": "code",
   "execution_count": 201,
   "id": "85243772-191a-4484-abe0-9813be25ea41",
   "metadata": {},
   "outputs": [
    {
     "name": "stdout",
     "output_type": "stream",
     "text": [
      "# of epochs = 5\t train_acc = 0.8938\n",
      "# of epochs = 10\t train_acc = 0.8983\n",
      "# of epochs = 15\t train_acc = 0.8994\n",
      "# of epochs = 20\t train_acc = 0.9016\n",
      "# of epochs = 25\t train_acc = 0.9036\n",
      "# of epochs = 30\t train_acc = 0.9070\n"
     ]
    }
   ],
   "source": [
    "for epoc in range(1, 31) :\n",
    "    net.train()\n",
    "    #-----에폭 시작----#\n",
    "    for Xm, ym in train_dl :\n",
    "        Xm = Xm.to(\"cuda:0\")\n",
    "        ym = ym.to(\"cuda:0\")\n",
    "\n",
    "        # 1\n",
    "        netout = net(Xm)\n",
    "        # 2\n",
    "        loss = loss_fn(netout, ym)\n",
    "        # 3\n",
    "        loss.backward()\n",
    "        # 4\n",
    "        optimizr.step()\n",
    "        optimizr.zero_grad()\n",
    "\n",
    "    #-----에폭 끝-----#\n",
    "    if epoc % 5 == 0 :\n",
    "        net.eval()\n",
    "        s = 0\n",
    "\n",
    "        for Xm, ym in train_dl :\n",
    "            Xm = Xm.to(\"cuda:0\")\n",
    "            ym = ym.to(\"cuda:0\")\n",
    "            s += (net(Xm).data.argmax(axis=1) == ym.argmax(axis=1)).float().sum().item()\n",
    "            \n",
    "        acc = s / len(X)\n",
    "        print(f\"# of epochs = {epoc}\\t train_acc = {acc:.4f}\")"
   ]
  },
  {
   "cell_type": "code",
   "execution_count": 202,
   "id": "b5f548b3-d25b-4c62-b6ac-d3a0953191d8",
   "metadata": {},
   "outputs": [
    {
     "name": "stdout",
     "output_type": "stream",
     "text": [
      "test_acc = 0.8712\n"
     ]
    }
   ],
   "source": [
    "net.eval()\n",
    "s = 0 \n",
    "for Xm,ym in test_dl :\n",
    "    Xm = Xm.to(\"cuda:0\")\n",
    "    ym = ym.to(\"cuda:0\")        \n",
    "    s = s+(net(Xm).data.argmax(axis=1) == ym.argmax(axis=1)).float().sum().item()\n",
    "acc = s / len(XX)\n",
    "print(f\"test_acc = {acc:.4f}\")"
   ]
  },
  {
   "cell_type": "markdown",
   "id": "596b82ca-b590-497f-8aa5-309eb185e57c",
   "metadata": {},
   "source": [
    "### C. 복잡한 신경망"
   ]
  },
  {
   "cell_type": "code",
   "execution_count": 190,
   "id": "b617e1d4-c1d5-4371-8d1c-1666da1b1836",
   "metadata": {},
   "outputs": [
    {
     "name": "stdout",
     "output_type": "stream",
     "text": [
      "# of epochs = 5\t train_acc = 0.8843\n",
      "# of epochs = 10\t train_acc = 0.9020\n",
      "# of epochs = 15\t train_acc = 0.9176\n",
      "# of epochs = 20\t train_acc = 0.9265\n",
      "# of epochs = 25\t train_acc = 0.9345\n",
      "# of epochs = 30\t train_acc = 0.9388\n"
     ]
    }
   ],
   "source": [
    "torch.manual_seed(43052)\n",
    "net = torch.nn.Sequential(\n",
    "    torch.nn.Flatten(),\n",
    "    torch.nn.Linear(784,256), ## 파라미터의 수를 늘림\n",
    "    torch.nn.ReLU(),\n",
    "    torch.nn.Linear(256,10)\n",
    ").to(\"cuda:0\")\n",
    "\n",
    "loss_fn = torch.nn.CrossEntropyLoss()\n",
    "optimizr = torch.optim.Adam(net.parameters())\n",
    "#---#\n",
    "for epoc in range(1,31):\n",
    "    #---에폭시작---#\n",
    "    net.train()\n",
    "    for Xm,ym in dl_train:\n",
    "        Xm = Xm.to(\"cuda:0\")\n",
    "        ym = ym.to(\"cuda:0\")\n",
    "        # Step1\n",
    "        netout = net(Xm)\n",
    "        # Step2\n",
    "        loss = loss_fn(netout,ym) \n",
    "        # Step3\n",
    "        loss.backward()\n",
    "        # Step4 \n",
    "        optimizr.step()\n",
    "        optimizr.zero_grad()\n",
    "    #---에폭끝---#\n",
    "    if epoc % 5 ==0:\n",
    "        net.eval()\n",
    "        s = 0 \n",
    "        for Xm,ym in dl_train:\n",
    "            Xm = Xm.to(\"cuda:0\")\n",
    "            ym = ym.to(\"cuda:0\")        \n",
    "            s = s+(net(Xm).data.argmax(axis=1) == ym.argmax(axis=1)).float().sum().item()\n",
    "        acc = s / len(X)\n",
    "        print(f\"# of epochs = {epoc}\\t train_acc = {acc:.4f}\")"
   ]
  },
  {
   "cell_type": "markdown",
   "id": "dbce7d51-b909-487c-a936-23f21b89fe52",
   "metadata": {},
   "source": [
    "### D. 발악"
   ]
  },
  {
   "cell_type": "markdown",
   "id": "e1978cf9-dbb7-47a9-81a8-1f306e7c86d8",
   "metadata": {},
   "source": [
    "`-` 차원을 아주 넓게... 노드를 개많이..."
   ]
  },
  {
   "cell_type": "code",
   "execution_count": null,
   "id": "87cc73c3-a9a7-43f2-8fd5-cf44daa267c7",
   "metadata": {},
   "outputs": [],
   "source": [
    "torch.manual_seed(43052)\n",
    "net = torch.nn.Sequential(\n",
    "    torch.nn.Flatten(),\n",
    "    torch.nn.Linear(784,4096),\n",
    "    torch.nn.Dropout(0.5),\n",
    "    torch.nn.ReLU(),\n",
    "    torch.nn.Linear(4096,10),\n",
    ").to(\"cuda:0\")\n",
    "loss_fn = torch.nn.CrossEntropyLoss()\n",
    "optimizr = torch.optim.Adam(net.parameters())\n",
    "#---#\n",
    "for epoc in range(1,31):\n",
    "    #---에폭시작---#\n",
    "    net.train()\n",
    "    for Xm,ym in dl_train:\n",
    "        Xm = Xm.to(\"cuda:0\")\n",
    "        ym = ym.to(\"cuda:0\")\n",
    "        # Step1\n",
    "        netout = net(Xm)\n",
    "        # Step2\n",
    "        loss = loss_fn(netout,ym) \n",
    "        # Step3\n",
    "        loss.backward()\n",
    "        # Step4 \n",
    "        optimizr.step()\n",
    "        optimizr.zero_grad()\n",
    "    #---에폭끝---#\n",
    "    if epoc % 5 ==0:\n",
    "        net.eval()\n",
    "        s = 0 \n",
    "        for Xm,ym in dl_train:\n",
    "            Xm = Xm.to(\"cuda:0\")\n",
    "            ym = ym.to(\"cuda:0\")        \n",
    "            s = s+(net(Xm).data.argmax(axis=1) == ym.argmax(axis=1)).float().sum().item()\n",
    "        acc = s / len(X)\n",
    "        print(f\"# of epochs = {epoc}\\t train_acc = {acc:.4f}\")"
   ]
  },
  {
   "cell_type": "code",
   "execution_count": null,
   "id": "6bc30d05-ed6a-4c38-bee7-36cda77012d5",
   "metadata": {},
   "outputs": [],
   "source": [
    "net.eval()\n",
    "s = 0 \n",
    "for Xm,ym in dl_test:\n",
    "    Xm = Xm.to(\"cuda:0\")\n",
    "    ym = ym.to(\"cuda:0\")        \n",
    "    s = s+(net(Xm).data.argmax(axis=1) == ym.argmax(axis=1)).float().sum().item()\n",
    "acc = s / len(XX)\n",
    "print(f\"test_acc = {acc:.4f}\")"
   ]
  },
  {
   "cell_type": "markdown",
   "id": "36f4648c-cda8-472f-bee3-34ed10f5c804",
   "metadata": {},
   "source": [
    "`-` 레이어를 많이..."
   ]
  },
  {
   "cell_type": "code",
   "execution_count": null,
   "id": "5cb3e3e6-e7ce-4182-9c1b-0d679b30283c",
   "metadata": {},
   "outputs": [],
   "source": [
    "torch.manual_seed(43052)\n",
    "net = torch.nn.Sequential(\n",
    "    torch.nn.Flatten(),\n",
    "    torch.nn.Linear(784,256),\n",
    "    torch.nn.ReLU(),\n",
    "    torch.nn.Linear(256,256),\n",
    "    torch.nn.ReLU(),\n",
    "    torch.nn.Linear(256,256),\n",
    "    torch.nn.Dropout(0.5),    \n",
    "    torch.nn.ReLU(),\n",
    "    torch.nn.Linear(256,256),\n",
    "    torch.nn.Dropout(0.5),\n",
    "    torch.nn.ReLU(),\n",
    "    torch.nn.Linear(256,10),\n",
    ").to(\"cuda:0\")\n",
    "loss_fn = torch.nn.CrossEntropyLoss()\n",
    "optimizr = torch.optim.Adam(net.parameters())\n",
    "#---#\n",
    "for epoc in range(1,31):\n",
    "    #---에폭시작---#\n",
    "    net.train()\n",
    "    for Xm,ym in dl_train:\n",
    "        Xm = Xm.to(\"cuda:0\")\n",
    "        ym = ym.to(\"cuda:0\")\n",
    "        # Step1\n",
    "        netout = net(Xm)\n",
    "        # Step2\n",
    "        loss = loss_fn(netout,ym) \n",
    "        # Step3\n",
    "        loss.backward()\n",
    "        # Step4 \n",
    "        optimizr.step()\n",
    "        optimizr.zero_grad()\n",
    "    #---에폭끝---#\n",
    "    if epoc % 5 ==0:\n",
    "        net.eval()\n",
    "        s = 0 \n",
    "        for Xm,ym in dl_train:\n",
    "            Xm = Xm.to(\"cuda:0\")\n",
    "            ym = ym.to(\"cuda:0\")        \n",
    "            s = s+(net(Xm).data.argmax(axis=1) == ym.argmax(axis=1)).float().sum().item()\n",
    "        acc = s / len(X)\n",
    "        print(f\"# of epochs = {epoc}\\t train_acc = {acc:.4f}\")"
   ]
  },
  {
   "cell_type": "markdown",
   "id": "48ab0847-e504-4e0a-8ad0-92d23d54a92b",
   "metadata": {},
   "source": [
    "> 결론 : 안됨"
   ]
  },
  {
   "cell_type": "markdown",
   "id": "ca0b13e9-9a58-4e9b-9cfe-24b1e5439a9e",
   "metadata": {},
   "source": [
    "### F. 합성곱신경망"
   ]
  },
  {
   "cell_type": "code",
   "execution_count": 203,
   "id": "5c2b5780-7b31-44d3-9cb5-56d0c5ea0548",
   "metadata": {},
   "outputs": [],
   "source": [
    "net = torch.nn.Sequential(\n",
    "    torch.nn.Conv2d(in_channels = 1, out_channels = 64, kernel_size = 5),\n",
    "    torch.nn.ReLU(),\n",
    "    torch.nn.MaxPool2d(kernel_size = 2),\n",
    "    torch.nn.Flatten(),\n",
    "    torch.nn.Linear(9216, 10)\n",
    ")"
   ]
  },
  {
   "cell_type": "code",
   "execution_count": 205,
   "id": "ed833426-dbef-491c-9f40-8c84d57e742d",
   "metadata": {},
   "outputs": [
    {
     "data": {
      "text/plain": [
       "torch.Size([60000, 10])"
      ]
     },
     "execution_count": 205,
     "metadata": {},
     "output_type": "execute_result"
    }
   ],
   "source": [
    "net(X).shape"
   ]
  },
  {
   "cell_type": "markdown",
   "id": "65cda3af-ca58-49bb-88e3-b4bcc237ea3f",
   "metadata": {},
   "source": [
    "`-` 이미지 자체를 처리함. 결과 잘나옴"
   ]
  },
  {
   "cell_type": "code",
   "execution_count": null,
   "id": "04157fa8-aec5-4d06-910a-3a1b298f4cfe",
   "metadata": {},
   "outputs": [],
   "source": [
    "net = torch.nn.Sequential(\n",
    "    torch.nn.Conv2d(in_channels=1,out_channels=128,kernel_size=5),\n",
    "    torch.nn.ReLU(),\n",
    "    torch.nn.MaxPool2d(kernel_size=2),\n",
    "    torch.nn.Conv2d(in_channels=128,out_channels=128,kernel_size=5),\n",
    "    torch.nn.ReLU(),\n",
    "    torch.nn.MaxPool2d(kernel_size=2),\n",
    "    torch.nn.Flatten(),\n",
    "    torch.nn.Linear(2048,10),\n",
    ").to(\"cuda:0\")\n",
    "loss_fn = torch.nn.CrossEntropyLoss()\n",
    "optimizr = torch.optim.Adam(net.parameters())\n",
    "#---#\n",
    "for epoc in range(1,31):\n",
    "    #---에폭시작---#\n",
    "    net.train()\n",
    "    for Xm,ym in dl_train:\n",
    "        Xm = Xm.to(\"cuda:0\")\n",
    "        ym = ym.to(\"cuda:0\")\n",
    "        # Step1\n",
    "        netout = net(Xm)\n",
    "        # Step2\n",
    "        loss = loss_fn(netout,ym) \n",
    "        # Step3\n",
    "        loss.backward()\n",
    "        # Step4 \n",
    "        optimizr.step()\n",
    "        optimizr.zero_grad()\n",
    "    #---에폭끝---#\n",
    "    if epoc % 5 ==0:\n",
    "        net.eval()\n",
    "        s = 0 \n",
    "        for Xm,ym in dl_train:\n",
    "            Xm = Xm.to(\"cuda:0\")\n",
    "            ym = ym.to(\"cuda:0\")        \n",
    "            s = s+(net(Xm).data.argmax(axis=1) == ym.argmax(axis=1)).float().sum().item()\n",
    "        acc = s / len(X)\n",
    "        print(f\"# of epochs = {epoc}\\t train_acc = {acc:.4f}\")"
   ]
  }
 ],
 "metadata": {
  "kernelspec": {
   "display_name": "Python 3 (ipykernel)",
   "language": "python",
   "name": "python3"
  },
  "language_info": {
   "codemirror_mode": {
    "name": "ipython",
    "version": 3
   },
   "file_extension": ".py",
   "mimetype": "text/x-python",
   "name": "python",
   "nbconvert_exporter": "python",
   "pygments_lexer": "ipython3",
   "version": "3.9.18"
  }
 },
 "nbformat": 4,
 "nbformat_minor": 5
}
