{
 "cells": [
  {
   "cell_type": "markdown",
   "id": "fc163693-66c4-43ba-ab98-5c863b66d258",
   "metadata": {},
   "source": [
    "# A1: Exercise\n",
    "\n",
    "최규빈  \n",
    "2025-01-01\n",
    "\n",
    "> 문제풀이에 필요한 모듈은 스스로 `import` 할 것\n",
    "\n",
    "## `$`. 벡터와 행렬\n",
    "\n",
    "`#`. 아래와 같이 length 5 인 vector를 `torch.tensor`로 선언하는 코드를\n",
    "작성하라.\n",
    "\n",
    "$${\\bf x} = [1,2,3,4,5]$$\n",
    "\n",
    "`(풀이)`"
   ]
  },
  {
   "cell_type": "code",
   "execution_count": 2,
   "id": "c68ed58a",
   "metadata": {},
   "outputs": [],
   "source": [
    "import torch\n",
    "import pandas as pd\n",
    "import matplotlib.pyplot as plt"
   ]
  },
  {
   "cell_type": "code",
   "execution_count": 2,
   "id": "8ba6c91a-505e-4ba4-a97b-42a6893aa1ef",
   "metadata": {},
   "outputs": [
    {
     "data": {
      "text/plain": [
       "tensor([1, 2, 3, 4, 5])"
      ]
     },
     "execution_count": 2,
     "metadata": {},
     "output_type": "execute_result"
    }
   ],
   "source": [
    "x = torch.tensor([1,2,3,4,5])\n",
    "x"
   ]
  },
  {
   "cell_type": "markdown",
   "id": "0d2e8ef0",
   "metadata": {},
   "source": [
    "`#`. 아래와 같은 2x2 matrix 를 `torch.tensor`로 선언하는 코드를\n",
    "작성하라.\n",
    "\n",
    "$${\\bf A} = \\begin{bmatrix} 1 & 2 \\\\ 3 & 4 \\end{bmatrix}$$"
   ]
  },
  {
   "cell_type": "markdown",
   "id": "edef4586",
   "metadata": {},
   "source": [
    "`-` 풀이"
   ]
  },
  {
   "cell_type": "code",
   "execution_count": 3,
   "id": "6869ecda",
   "metadata": {},
   "outputs": [
    {
     "data": {
      "text/plain": [
       "tensor([[1, 2],\n",
       "        [3, 4]])"
      ]
     },
     "execution_count": 3,
     "metadata": {},
     "output_type": "execute_result"
    }
   ],
   "source": [
    "A = torch.tensor([[1, 2],\n",
    "                  [3, 4]])\n",
    "A"
   ]
  },
  {
   "cell_type": "markdown",
   "id": "ee6e1d0b",
   "metadata": {},
   "source": [
    "`#`. 아래와 같은 matrix 를 `torch.tensor`로 선언하는 코드를 작성하라.\n",
    "\n",
    "$${\\bf W} = \\begin{bmatrix} 2.5  \\\\  4 \\end{bmatrix}$$"
   ]
  },
  {
   "cell_type": "code",
   "execution_count": 4,
   "id": "b4eb595b",
   "metadata": {},
   "outputs": [
    {
     "data": {
      "text/plain": [
       "tensor([[2.5000],\n",
       "        [4.0000]])"
      ]
     },
     "execution_count": 4,
     "metadata": {},
     "output_type": "execute_result"
    }
   ],
   "source": [
    "W = torch.tensor([[2.5],\n",
    "                  [4.0]])\n",
    "W"
   ]
  },
  {
   "cell_type": "markdown",
   "id": "1e3b7c69",
   "metadata": {},
   "source": [
    "`#`. 아래와 같은 matrix 를 `torch.tensor`로 선언하는 코드를 작성하라.\n",
    "\n",
    "$${\\bf x} = \\begin{bmatrix} 2.5  & 4 \\end{bmatrix}$$"
   ]
  },
  {
   "cell_type": "code",
   "execution_count": 5,
   "id": "18a0f43c",
   "metadata": {},
   "outputs": [
    {
     "data": {
      "text/plain": [
       "tensor([[2.5000, 4.0000]])"
      ]
     },
     "execution_count": 5,
     "metadata": {},
     "output_type": "execute_result"
    }
   ],
   "source": [
    "x = torch.tensor([[2.5, 4.0]])\n",
    "x"
   ]
  },
  {
   "cell_type": "markdown",
   "id": "adbf6947-6486-425d-823e-4970fa16e1b9",
   "metadata": {},
   "source": [
    "## `$`. concat, stack\n",
    "\n",
    "a,b가 아래와 같이 주어졌다고 하자."
   ]
  },
  {
   "cell_type": "code",
   "execution_count": 6,
   "id": "a8da07e4-f27b-4905-b8a7-01356ea9a86d",
   "metadata": {},
   "outputs": [],
   "source": [
    "a = torch.tensor([1]*10)\n",
    "b = torch.tensor([2]*10)"
   ]
  },
  {
   "cell_type": "markdown",
   "id": "5ff1a749-bf58-409e-bdf1-2965ef1c1f1c",
   "metadata": {},
   "source": [
    "아래를 잘 읽고 물음에 답하라.\n",
    "\n",
    "`#`. 주어진 a,b와 `torch.concat`를 이용하여 아래와 같은 배열을 만들어라.\n",
    "\n",
    "    tensor([1, 1, 1, 1, 1, 1, 1, 1, 1, 1, 2, 2, 2, 2, 2, 2, 2, 2, 2, 2])"
   ]
  },
  {
   "cell_type": "code",
   "execution_count": 16,
   "id": "0504134c-c396-4258-80ab-84eead0b5fa3",
   "metadata": {},
   "outputs": [],
   "source": [
    "torch.concat([a.reshape(-1,1), b.reshape(-1,1)])"
   ]
  },
  {
   "cell_type": "markdown",
   "id": "e5944a10",
   "metadata": {},
   "source": [
    "`#`. 주어진 a,b 와 `torch.concat`,`.reshape`를 이용하여 아래와 같은\n",
    "배열을 만들어라.\n",
    "```\n",
    "    tensor([[1],\n",
    "            [1],\n",
    "            [1],\n",
    "            [1],\n",
    "            [1],\n",
    "            [1],\n",
    "            [1],\n",
    "            [1],\n",
    "            [1],\n",
    "            [1],\n",
    "            [2],\n",
    "            [2],\n",
    "            [2],\n",
    "            [2],\n",
    "            [2],\n",
    "            [2],\n",
    "            [2],\n",
    "            [2],\n",
    "            [2],\n",
    "            [2]])\n",
    "\n",
    "```"
   ]
  },
  {
   "cell_type": "markdown",
   "id": "11868263",
   "metadata": {},
   "source": [
    "`-` 풀이"
   ]
  },
  {
   "cell_type": "code",
   "execution_count": 9,
   "id": "f4c758b4",
   "metadata": {},
   "outputs": [
    {
     "data": {
      "text/plain": [
       "tensor([[1],\n",
       "        [1],\n",
       "        [1],\n",
       "        [1],\n",
       "        [1],\n",
       "        [1],\n",
       "        [1],\n",
       "        [1],\n",
       "        [1],\n",
       "        [1],\n",
       "        [2],\n",
       "        [2],\n",
       "        [2],\n",
       "        [2],\n",
       "        [2],\n",
       "        [2],\n",
       "        [2],\n",
       "        [2],\n",
       "        [2],\n",
       "        [2]])"
      ]
     },
     "execution_count": 9,
     "metadata": {},
     "output_type": "execute_result"
    }
   ],
   "source": [
    "torch.concat([a.reshape(-1, 1), b.reshape(-1, 1)], axis = 0)"
   ]
  },
  {
   "cell_type": "markdown",
   "id": "e4ae46d3",
   "metadata": {},
   "source": [
    "`#`. 주어진 a,b 와 `torch.concat`,`.reshape`를 이용하여 아래와 같은\n",
    "배열을 만들어라.\n",
    "\n",
    "    tensor([[1, 2],\n",
    "            [1, 2],\n",
    "            [1, 2],\n",
    "            [1, 2],\n",
    "            [1, 2],\n",
    "            [1, 2],\n",
    "            [1, 2],\n",
    "            [1, 2],\n",
    "            [1, 2],\n",
    "            [1, 2]])"
   ]
  },
  {
   "cell_type": "markdown",
   "id": "b524743f",
   "metadata": {},
   "source": [
    "`-` 풀이"
   ]
  },
  {
   "cell_type": "code",
   "execution_count": 10,
   "id": "4bd33571",
   "metadata": {},
   "outputs": [
    {
     "data": {
      "text/plain": [
       "tensor([[1, 2],\n",
       "        [1, 2],\n",
       "        [1, 2],\n",
       "        [1, 2],\n",
       "        [1, 2],\n",
       "        [1, 2],\n",
       "        [1, 2],\n",
       "        [1, 2],\n",
       "        [1, 2],\n",
       "        [1, 2]])"
      ]
     },
     "execution_count": 10,
     "metadata": {},
     "output_type": "execute_result"
    }
   ],
   "source": [
    "torch.concat([a.reshape(-1, 1), b.reshape(-1, 1)], axis = 1)"
   ]
  },
  {
   "cell_type": "markdown",
   "id": "94a039c0",
   "metadata": {},
   "source": [
    "`#`. 주어진 a,b와 `torch.stack` 을 이용하여 아래와 같은 배열을 만들어라.\n",
    "\n",
    "    tensor([[1, 1, 1, 1, 1, 1, 1, 1, 1, 1],\n",
    "            [2, 2, 2, 2, 2, 2, 2, 2, 2, 2]]"
   ]
  },
  {
   "cell_type": "markdown",
   "id": "fce22a2f",
   "metadata": {},
   "source": [
    "`-` 풀이"
   ]
  },
  {
   "cell_type": "code",
   "execution_count": 12,
   "id": "c229c1e9",
   "metadata": {},
   "outputs": [
    {
     "data": {
      "text/plain": [
       "tensor([[1, 1, 1, 1, 1, 1, 1, 1, 1, 1],\n",
       "        [2, 2, 2, 2, 2, 2, 2, 2, 2, 2]])"
      ]
     },
     "execution_count": 12,
     "metadata": {},
     "output_type": "execute_result"
    }
   ],
   "source": [
    "torch.stack([a, b], axis = 0)"
   ]
  },
  {
   "cell_type": "markdown",
   "id": "db03de71",
   "metadata": {},
   "source": [
    "`#`. 주어진 a,b와 `torch.stack`을 이용하여 아래와 같은 배열을 만들어라.\n",
    "\n",
    "    tensor([[1, 2],\n",
    "            [1, 2],\n",
    "            [1, 2],\n",
    "            [1, 2],\n",
    "            [1, 2],\n",
    "            [1, 2],\n",
    "            [1, 2],\n",
    "            [1, 2],\n",
    "            [1, 2],\n",
    "            [1, 2]])"
   ]
  },
  {
   "cell_type": "markdown",
   "id": "26231a39",
   "metadata": {},
   "source": [
    "`-` 풀이"
   ]
  },
  {
   "cell_type": "code",
   "execution_count": 13,
   "id": "d914a8d6",
   "metadata": {},
   "outputs": [
    {
     "data": {
      "text/plain": [
       "tensor([[1, 2],\n",
       "        [1, 2],\n",
       "        [1, 2],\n",
       "        [1, 2],\n",
       "        [1, 2],\n",
       "        [1, 2],\n",
       "        [1, 2],\n",
       "        [1, 2],\n",
       "        [1, 2],\n",
       "        [1, 2]])"
      ]
     },
     "execution_count": 13,
     "metadata": {},
     "output_type": "execute_result"
    }
   ],
   "source": [
    "torch.stack([a, b], axis = 1)"
   ]
  },
  {
   "cell_type": "markdown",
   "id": "53981a77-68be-4edf-935b-0e88bac1be5a",
   "metadata": {},
   "source": [
    "## `$`. 행렬곱\n",
    "\n",
    "`#`. 아래와 같은 텐서를 고려하자."
   ]
  },
  {
   "cell_type": "code",
   "execution_count": 3,
   "id": "c24782f8-8150-4684-a25c-b362108c4fc8",
   "metadata": {},
   "outputs": [],
   "source": [
    "a = torch.tensor([1,2,3,4,5]).reshape(-1,1)\n",
    "b = torch.tensor([3,2,1,1,2]).reshape(-1,1)"
   ]
  },
  {
   "cell_type": "markdown",
   "id": "b88cccfa-2343-4a69-9adf-e52d659e2a87",
   "metadata": {},
   "source": [
    "`@` 연산자를 이용하여 $\\sum_{i=1}^{5}a_ib_i$를 계산하라.\n",
    "\n",
    "`(풀이)`"
   ]
  },
  {
   "cell_type": "code",
   "execution_count": 4,
   "id": "6c5458ca-3f4a-4ff7-b33d-2a04d834efa3",
   "metadata": {},
   "outputs": [],
   "source": [
    "a.T @ b"
   ]
  },
  {
   "cell_type": "markdown",
   "id": "c51db5f0-02f1-40b1-b0d8-f5c820519c2f",
   "metadata": {},
   "source": [
    "`#`. 아래와 같은 텐서를 고려하자."
   ]
  },
  {
   "cell_type": "code",
   "execution_count": 14,
   "id": "b1acadbf-49e3-4ae9-ab76-0d61136154af",
   "metadata": {},
   "outputs": [],
   "source": [
    "torch.manual_seed(0)\n",
    "x = torch.randn(100).reshape(-1,1)"
   ]
  },
  {
   "cell_type": "markdown",
   "id": "4c82a147",
   "metadata": {},
   "source": [
    "`@`연산자를 이용하여 $\\sum_{i=1}^{100}x_i^2$을 계산하라."
   ]
  },
  {
   "cell_type": "markdown",
   "id": "e971fc52",
   "metadata": {},
   "source": [
    "`-` 풀이"
   ]
  },
  {
   "cell_type": "code",
   "execution_count": 20,
   "id": "afb6b67a",
   "metadata": {},
   "outputs": [
    {
     "data": {
      "text/plain": [
       "tensor([[105.0856]])"
      ]
     },
     "execution_count": 20,
     "metadata": {},
     "output_type": "execute_result"
    }
   ],
   "source": [
    "x.T @ x"
   ]
  },
  {
   "cell_type": "markdown",
   "id": "ee28a23d-8ca5-41e6-aa4a-c7f8efb69742",
   "metadata": {},
   "source": [
    "## `$`. 인덱싱\n",
    "\n",
    "아래와 같은 배열을 선언하라."
   ]
  },
  {
   "cell_type": "code",
   "execution_count": 2,
   "id": "8f35bb57-46ba-4c94-97a6-ae5e4424598a",
   "metadata": {
    "outputId": "52c92613-c738-4896-c465-74652a0b817e"
   },
   "outputs": [
    {
     "data": {
      "text/plain": [
       "tensor([[ 0.6614,  0.2669,  0.0617,  0.6213],\n",
       "        [-0.4519, -0.1661, -1.5228,  0.3817],\n",
       "        [-1.0276, -0.5631, -0.8923, -0.0583]])"
      ]
     },
     "execution_count": 2,
     "metadata": {},
     "output_type": "execute_result"
    }
   ],
   "source": [
    "torch.manual_seed(1)\n",
    "x = torch.randn(12).reshape(3,4)\n",
    "x"
   ]
  },
  {
   "cell_type": "markdown",
   "id": "908dfa37",
   "metadata": {},
   "source": [
    "`#`. 1열을 추출하는 코드를 작성하라. 즉 결과가 아래와 같이 나오도록\n",
    "하라.\n",
    "\n",
    "    tensor([[ 0.6614],\n",
    "            [-0.4519],\n",
    "            [-1.0276]])"
   ]
  },
  {
   "cell_type": "markdown",
   "id": "14d63168",
   "metadata": {},
   "source": [
    "`-` 풀이"
   ]
  },
  {
   "cell_type": "code",
   "execution_count": 3,
   "id": "d592d54c",
   "metadata": {},
   "outputs": [
    {
     "data": {
      "text/plain": [
       "tensor([[ 0.6614],\n",
       "        [-0.4519],\n",
       "        [-1.0276]])"
      ]
     },
     "execution_count": 3,
     "metadata": {},
     "output_type": "execute_result"
    }
   ],
   "source": [
    "x[:, [0]]"
   ]
  },
  {
   "cell_type": "markdown",
   "id": "a80f2b77",
   "metadata": {},
   "source": [
    "`#`. 2-3열을 추출하는 코드를 작성하라. 즉 결과가 아래와 같이 나오도록\n",
    "하라.\n",
    "\n",
    "    tensor([[ 0.2669,  0.0617],\n",
    "            [-0.1661, -1.5228],\n",
    "            [-0.5631, -0.8923]])"
   ]
  },
  {
   "cell_type": "markdown",
   "id": "377e5138",
   "metadata": {},
   "source": [
    "`-` 풀이"
   ]
  },
  {
   "cell_type": "code",
   "execution_count": 5,
   "id": "8d657eb4",
   "metadata": {},
   "outputs": [
    {
     "data": {
      "text/plain": [
       "tensor([[ 0.2669,  0.0617],\n",
       "        [-0.1661, -1.5228],\n",
       "        [-0.5631, -0.8923]])"
      ]
     },
     "execution_count": 5,
     "metadata": {},
     "output_type": "execute_result"
    }
   ],
   "source": [
    "x[:, [1, 2]]"
   ]
  },
  {
   "cell_type": "markdown",
   "id": "efca5fdc",
   "metadata": {},
   "source": [
    "`#`. 2-3행을 추출하는 코드를 작성하라. 즉 결과가 아래와 같이 나오도록\n",
    "하라.\n",
    "\n",
    "    tensor([[-0.4519, -0.1661, -1.5228,  0.3817],\n",
    "            [-1.0276, -0.5631, -0.8923, -0.0583]])"
   ]
  },
  {
   "cell_type": "markdown",
   "id": "d563e739",
   "metadata": {},
   "source": [
    "`-` 풀이"
   ]
  },
  {
   "cell_type": "code",
   "execution_count": 6,
   "id": "beae5197",
   "metadata": {},
   "outputs": [
    {
     "data": {
      "text/plain": [
       "tensor([[-0.4519, -0.1661, -1.5228,  0.3817],\n",
       "        [-1.0276, -0.5631, -0.8923, -0.0583]])"
      ]
     },
     "execution_count": 6,
     "metadata": {},
     "output_type": "execute_result"
    }
   ],
   "source": [
    "x[[1, 2]]"
   ]
  },
  {
   "cell_type": "markdown",
   "id": "8a818f1d-b55c-40d7-b68c-1374ac126208",
   "metadata": {},
   "source": [
    "## `$`. 회귀(DL2024-MID-3)\n",
    "\n",
    "> 이 문제의 경우 풀이가\n",
    "> <https://guebin.github.io/DL2024/posts/09wk-2.html#%EB%8B%A8%EC%88%9C%ED%9A%8C%EA%B7%80%EB%AC%B8%EC%A0%9C-10%EC%A0%90>\n",
    "> 에 있습니다.\n",
    "\n",
    "주어진 자료가 아래와 같다고 하자."
   ]
  },
  {
   "cell_type": "code",
   "execution_count": 2,
   "id": "a1c13885-07af-4ba3-a3aa-2a662eedaf06",
   "metadata": {},
   "outputs": [],
   "source": [
    "torch.manual_seed(43052)\n",
    "x,_ = torch.randn(100).sort()\n",
    "x = x.reshape(-1,1)\n",
    "ϵ = torch.randn(100).reshape(-1,1)*0.5\n",
    "y = 2.5+ 4*x + ϵ"
   ]
  },
  {
   "cell_type": "code",
   "execution_count": 3,
   "id": "2366c1c6",
   "metadata": {},
   "outputs": [
    {
     "data": {
      "text/plain": [
       "[<matplotlib.lines.Line2D at 0x7f0b569143d0>]"
      ]
     },
     "execution_count": 3,
     "metadata": {},
     "output_type": "execute_result"
    },
    {
     "data": {
      "image/png": "[encoded data removed]",
      "text/plain": [
       "<Figure size 640x480 with 1 Axes>"
      ]
     },
     "metadata": {},
     "output_type": "display_data"
    }
   ],
   "source": [
    "plt.plot(x,y,'o')"
   ]
  },
  {
   "cell_type": "markdown",
   "id": "42b471c4",
   "metadata": {},
   "source": [
    "`(1)` `torch.nn.Linear`를 이용하여 아래와 같은 최초의 직선을 생성하는\n",
    "네트워크를 설계하라.\n",
    "\n",
    "$$\\hat{y}_i = -5.0 + 10.0 x_i $$"
   ]
  },
  {
   "cell_type": "code",
   "execution_count": 4,
   "id": "5f28d667",
   "metadata": {},
   "outputs": [],
   "source": [
    "net = torch.nn.Linear(1, 1, bias = True)\n",
    "net.weight.data = torch.tensor([[10.0]])    ## net에는 그래디언트 정보가 기본적으로 들어가나봄\n",
    "net.bias.data = torch.tensor([-5.0])\n",
    "## net.weight.data = net.weight.data*0 + 10.0\n",
    "## net.bias.data = net.bias.data*0 - 5.0\n",
    "\n",
    "yhat = net(x)"
   ]
  },
  {
   "cell_type": "code",
   "execution_count": 5,
   "id": "765b4428-36c1-41c8-baff-284e6589bd93",
   "metadata": {},
   "outputs": [
    {
     "data": {
      "text/plain": [
       "(tensor([[-29.8211],\n",
       "         [-28.6215],\n",
       "         [-24.9730],\n",
       "         [-21.2394],\n",
       "         [-19.7919]], grad_fn=<SliceBackward0>),\n",
       " tensor([[-29.8211],\n",
       "         [-28.6215],\n",
       "         [-24.9730],\n",
       "         [-21.2394],\n",
       "         [-19.7919]]))"
      ]
     },
     "execution_count": 5,
     "metadata": {},
     "output_type": "execute_result"
    }
   ],
   "source": [
    "net(x)[:5], (-5 + 10*x)[:5]"
   ]
  },
  {
   "cell_type": "markdown",
   "id": "2abf9e0d",
   "metadata": {},
   "source": [
    "`(2)` 아래의 수식에 대응하는 `loss`를 계산하라. 여기에서 $\\hat{y}_i$은\n",
    "(1)의 결과로 얻은 값을 사용하라.\n",
    "\n",
    "$$loss = \\frac{1}{n}\\sum_{i=1}^{n}(y_i-\\hat{y}_i)^2$$"
   ]
  },
  {
   "cell_type": "code",
   "execution_count": 6,
   "id": "4c6151d8",
   "metadata": {},
   "outputs": [
    {
     "name": "stdout",
     "output_type": "stream",
     "text": [
      "tensor(85.8769, grad_fn=<MeanBackward0>)\n"
     ]
    }
   ],
   "source": [
    "loss = torch.mean((y - yhat)**2)\n",
    "## loss_fn = torch.nn.MSELoss()\n",
    "## loss = loss_fn(yhat, y)\n",
    "print(loss)"
   ]
  },
  {
   "cell_type": "markdown",
   "id": "7fcf7efb",
   "metadata": {},
   "source": [
    "`(3)` 적당한 matrix ${\\bf X}_{n\\times 2}$ 와 $\\hat{\\bf W}_{2\\times 1}$을\n",
    "정의하여 아래와 같이 $\\hat{y}_i$을 구하라.\n",
    "\n",
    "$$\\hat{y}_i = -5.0 + 5.0 x_i $$"
   ]
  },
  {
   "cell_type": "code",
   "execution_count": 7,
   "id": "f9242d01",
   "metadata": {},
   "outputs": [],
   "source": [
    "X = torch.concat([torch.ones(100).reshape(-1, 1), x], axis = 1)\n",
    "What = torch.tensor([[-5.0],\n",
    "                     [5.0]], requires_grad = True)\n",
    "\n",
    "yhat = X@What"
   ]
  },
  {
   "cell_type": "code",
   "execution_count": 8,
   "id": "b2421280-f4dd-4e51-afe2-6dd663536604",
   "metadata": {},
   "outputs": [
    {
     "data": {
      "text/plain": [
       "(tensor([[-17.4106],\n",
       "         [-16.8107],\n",
       "         [-14.9865],\n",
       "         [-13.1197],\n",
       "         [-12.3960]], grad_fn=<SliceBackward0>),\n",
       " tensor([[-17.4106],\n",
       "         [-16.8107],\n",
       "         [-14.9865],\n",
       "         [-13.1197],\n",
       "         [-12.3960]]))"
      ]
     },
     "execution_count": 8,
     "metadata": {},
     "output_type": "execute_result"
    }
   ],
   "source": [
    "yhat[:5], (-5+5*x)[:5]"
   ]
  },
  {
   "cell_type": "markdown",
   "id": "7e3d42d8",
   "metadata": {},
   "source": [
    "`(4)` 아래의 수식에 대응하는 `loss`를 계산하라. 여기에서 $\\hat{y}_i$은\n",
    "(3)의 결과로 얻은 값을 사용하라.\n",
    "\n",
    "$$loss = \\frac{1}{n}\\sum_{i=1}^{n}(y_i-\\hat{y}_i)^2$$"
   ]
  },
  {
   "cell_type": "code",
   "execution_count": 9,
   "id": "8a75443d",
   "metadata": {},
   "outputs": [
    {
     "name": "stdout",
     "output_type": "stream",
     "text": [
      "tensor(55.0216, grad_fn=<MeanBackward0>)\n"
     ]
    }
   ],
   "source": [
    "loss2 = torch.mean((y - yhat)**2)\n",
    "## loss_fn(yhat, y)\n",
    "print(loss2)"
   ]
  },
  {
   "cell_type": "markdown",
   "id": "13e0a101",
   "metadata": {},
   "source": [
    "`(5)` (2)에서 얻은 $\\hat{y}_i$ (4)에서 얻은 $\\hat{y}_i$ 중 무엇이 더\n",
    "적절하다고 생각하는가? 이유는 무엇인가? 손실(=loss)에 근거하여 설명하라."
   ]
  },
  {
   "cell_type": "markdown",
   "id": "b21e8cf0",
   "metadata": {},
   "source": [
    "* 손실의 값이 더 작기 때문에 (4)에서 얻은 $\\hat{y}_i$가 더 적절하다."
   ]
  },
  {
   "cell_type": "markdown",
   "id": "edafa6bd",
   "metadata": {},
   "source": [
    "\n",
    "\n",
    "`(6)` `.backward()` 를 이용하여 (2)와 (4)에 해당하는 미분값을 계산하라.\n",
    "학습률이 0.01인 경사하강법을 이용하여 (1),(3) 에 대응하는 가중치를\n",
    "update 하라."
   ]
  },
  {
   "cell_type": "code",
   "execution_count": 10,
   "id": "3361a25d",
   "metadata": {},
   "outputs": [
    {
     "name": "stdout",
     "output_type": "stream",
     "text": [
      "(2)의 미분값 : (tensor([-13.4225]), tensor([[11.8893]]))\n"
     ]
    }
   ],
   "source": [
    "## 2\n",
    "loss.backward()\n",
    "print(f\"(2)의 미분값 : {net.bias.grad, net.weight.grad}\")\n",
    "net.bias.data -= 0.01*net.bias.grad\n",
    "net.weight.data -= 0.01*net.weight.grad\n",
    "net.bias.grad = torch.tensor([0.0])\n",
    "net.weight.grad = torch.tensor([[0.0]])"
   ]
  },
  {
   "cell_type": "code",
   "execution_count": 26,
   "id": "60ac3c29-3416-4d5b-953a-9f8540a93ccb",
   "metadata": {},
   "outputs": [
    {
     "name": "stdout",
     "output_type": "stream",
     "text": [
      "(2)의 업데이트 값 \n",
      "bias = -4.8658 \n",
      "weight = 9.8811\n"
     ]
    }
   ],
   "source": [
    "print(f\"(2)의 업데이트 값 \\nbias = {net.bias.data.item():.4f} \\nweight = {net.weight.data.item():.4f}\")"
   ]
  },
  {
   "cell_type": "code",
   "execution_count": 11,
   "id": "2e96b338",
   "metadata": {},
   "outputs": [
    {
     "name": "stdout",
     "output_type": "stream",
     "text": [
      "(2)의 미분값 : tensor([[-14.6478],\n",
      "        [  0.4528]])\n"
     ]
    }
   ],
   "source": [
    "## 4\n",
    "loss2.backward()\n",
    "print(f\"(4)의 미분값 : {What.grad}\")\n",
    "What.data -= 0.01*What.grad\n",
    "What.grad = torch.tensor([[0.0],\n",
    "                          [0.0]])"
   ]
  },
  {
   "cell_type": "code",
   "execution_count": 25,
   "id": "3f805328-fbc4-42b3-aaff-98f6daa1a391",
   "metadata": {},
   "outputs": [
    {
     "name": "stdout",
     "output_type": "stream",
     "text": [
      "(4)의 미분값 = tensor([[-4.8535],\n",
      "        [ 4.9955]])\n"
     ]
    }
   ],
   "source": [
    "print(f\"(4)의 미분값 = {What.data}\")"
   ]
  },
  {
   "cell_type": "markdown",
   "id": "211a078c-d61e-4bce-93be-3632199421f4",
   "metadata": {},
   "source": [
    "## `$`. 회귀(5obs)\n",
    "\n",
    "아래와 같은 5개의 자료를 관측하였다고 가정하자.\n",
    "\n",
    "|     | x   | y    |\n",
    "|-----|-----|------|\n",
    "| 0   | 11  | 17.7 |\n",
    "| 1   | 12  | 18.5 |\n",
    "| 2   | 13  | 21.2 |\n",
    "| 3   | 14  | 23.6 |\n",
    "| 4   | 15  | 24.2 |\n",
    "\n",
    "$x$에서 $y$로 향하는 규칙을 찾기 위해 아래와 같은 모형을 고려하였다.\n",
    "($\\beta_0, \\beta_1$ 대신에 $w_0, w_1$ 이라 생각해도 무방)\n",
    "\n",
    "$$y_i = \\beta_0 + \\beta_1 x_i + \\epsilon_i, \\quad i =1,2,\\dots, n$$"
   ]
  },
  {
   "cell_type": "markdown",
   "id": "5a1c3a80-0233-47bc-ac1a-666c3bb538ce",
   "metadata": {},
   "source": [
    "`(1)` $\\hat{\\beta}_0=3, \\hat{\\beta}_1=3$ 일 경우의 loss를 계산하라. 단,\n",
    "손실함수는 MSELoss로 설정한다."
   ]
  },
  {
   "cell_type": "code",
   "execution_count": 2,
   "id": "4a6d43cd-80d5-4c65-9603-7ed9182bc531",
   "metadata": {},
   "outputs": [],
   "source": [
    "x = torch.tensor([11, 12, 13, 14, 15]).reshape(-1, 1).float() ## dtype 동일해야\n",
    "y = torch.tensor([17.7, 18.5, 21.2, 23.6, 24.2]).reshape(-1, 1)"
   ]
  },
  {
   "cell_type": "code",
   "execution_count": 3,
   "id": "ce8c7549-6387-45c7-a4c9-b338e545d90c",
   "metadata": {},
   "outputs": [
    {
     "name": "stdout",
     "output_type": "stream",
     "text": [
      "loss = 442.43597412109375\n"
     ]
    }
   ],
   "source": [
    "net = torch.nn.Linear(1, 1, bias = True)\n",
    "net.bias.data = net.bias.data*0 + 3\n",
    "net.weight.data = net.weight.data*0 + 3\n",
    "\n",
    "loss_fn = torch.nn.MSELoss()\n",
    "\n",
    "yhat = net(x)\n",
    "\n",
    "loss = loss_fn(yhat, y)\n",
    "\n",
    "print(f\"loss = {loss}\")"
   ]
  },
  {
   "cell_type": "markdown",
   "id": "511e35cb-75ab-4848-aadd-7a1292685349",
   "metadata": {},
   "source": [
    "`(2)` $\\hat{\\beta}_0=3, \\hat{\\beta}_1=3$ 에서 손실함수의 미분계수를\n",
    "계산하라."
   ]
  },
  {
   "cell_type": "code",
   "execution_count": 4,
   "id": "99ff095c-dfda-445f-a7b3-c706c3f78e95",
   "metadata": {},
   "outputs": [],
   "source": [
    "loss.backward()"
   ]
  },
  {
   "cell_type": "code",
   "execution_count": 5,
   "id": "68b47feb-bccb-46a6-be44-44864375dd59",
   "metadata": {},
   "outputs": [
    {
     "name": "stdout",
     "output_type": "stream",
     "text": [
      "손실함수의 편미분계수 \n",
      "beta0 : tensor([41.9200]) \n",
      "beta1 : tensor([[549.7200]])\n"
     ]
    }
   ],
   "source": [
    "print(f\"손실함수의 편미분계수 \\nbeta0 : {net.bias.grad} \\nbeta1 : {net.weight.grad}\")"
   ]
  },
  {
   "cell_type": "markdown",
   "id": "251bd163-b08c-4e53-a43f-8520469e63ca",
   "metadata": {},
   "source": [
    "`(3)` 아래의 제약사항을 준수하여 추정값\n",
    "$\\hat{\\beta}_0=3, \\hat{\\beta}_1=3$ 의 값을 1회 update하라.\n",
    "\n",
    "**제약사항**\n",
    "\n",
    "1.  `yhat = X@Bhat` 을 만족하는 적당한 `X`, `Bhat`을 선언하여 문제를 풀\n",
    "    것. (즉 `torch.nn.Linear()` 를 사용하지 말 것)\n",
    "2.  손실함수는 `torch.nn.MSELoss()`를 사용하지 말고 직접 손실을 구할 것\n",
    "3.  (확률적)경사하강법을 이용하여 update 하되 직접 수식을 입력할 것. 즉\n",
    "    `torch.optim.SGD()`를 사용하지 말 것.\n",
    "4.  학습률은 0.001로 설정할 것"
   ]
  },
  {
   "cell_type": "code",
   "execution_count": 6,
   "id": "b7e96db2-bdf1-4b83-a589-5e693a357ec0",
   "metadata": {},
   "outputs": [],
   "source": [
    "X = torch.concat([torch.ones(5, 1), x], axis = 1)\n",
    "Bhat = torch.tensor([[3.0],\n",
    "                     [3.0]], requires_grad = True)\n",
    "\n",
    "yhat = X@Bhat\n",
    "\n",
    "## 1 epoch\n",
    "loss = torch.mean((y - yhat)**2)  ## MSE loss\n",
    "loss.backward()"
   ]
  },
  {
   "cell_type": "code",
   "execution_count": 7,
   "id": "cc75ad0d-9e43-404e-88cd-43a859b8f1e5",
   "metadata": {},
   "outputs": [],
   "source": [
    "## update\n",
    "Bhat.data -= 0.001*Bhat.grad"
   ]
  },
  {
   "cell_type": "code",
   "execution_count": 8,
   "id": "d191b47c-73c5-4f37-8203-787ed3068cc1",
   "metadata": {},
   "outputs": [
    {
     "name": "stdout",
     "output_type": "stream",
     "text": [
      "1회 업데이트된 Bhat = tensor([[2.9581],\n",
      "        [2.4503]])\n"
     ]
    }
   ],
   "source": [
    "print(f\"1회 업데이트된 Bhat = {Bhat.data}\")"
   ]
  },
  {
   "cell_type": "markdown",
   "id": "e3cc262b-6832-4701-bd53-af47b7998caa",
   "metadata": {},
   "source": [
    "`(4)` 아래의 제약사항을 준수하여 추정값\n",
    "$\\hat{\\beta}_0=3, \\hat{\\beta}_1=3$ 의 값을 다시 1회 update하라. 결과를\n",
    "(3)과 비교하라 (동일결과가 나와야함)\n",
    "\n",
    "**제약사항**\n",
    "\n",
    "1.  `yhat = net(X)` 을 만족하는 적당한 `X`, `net`을 선언하여 문제를 풀\n",
    "    것. 이때 `net`는 `torch.nn.Linear(??,??,bias=False)` 를 사용하여\n",
    "    선언할 것.\n",
    "2.  손실함수는 `torch.nn.MSELoss()`를 사용하지 말고 직접 손실을 구할 것\n",
    "3.  (확률적)경사하강법을 이용하여 update 하되 직접 수식을 입력할 것. 즉\n",
    "    `torch.optim.SGD()`를 사용하지 말 것.\n",
    "4.  학습률은 0.001로 설정할 것"
   ]
  },
  {
   "cell_type": "code",
   "execution_count": 9,
   "id": "b11c7df5-b690-40a9-9f11-1769c8518928",
   "metadata": {},
   "outputs": [],
   "source": [
    "## bias = False\n",
    "X = torch.concat([torch.ones(5, 1), x], axis = 1)\n",
    "net = torch.nn.Linear(2, 1, bias = False)\n",
    "net.weight.data = torch.tensor([[3.0, 3.0]]) ## 행벡터로 넣어야 됨\n",
    "\n",
    "yhat = net(X)\n",
    "\n",
    "## 1 epoch\n",
    "loss = torch.mean((y - yhat)**2)\n",
    "loss.backward()"
   ]
  },
  {
   "cell_type": "code",
   "execution_count": 10,
   "id": "255b1532-18c3-4937-8af9-3e90b4ae2a80",
   "metadata": {},
   "outputs": [],
   "source": [
    "## update\n",
    "net.weight.data -= 0.001*net.weight.grad"
   ]
  },
  {
   "cell_type": "code",
   "execution_count": 11,
   "id": "95bb6b8a-8472-4200-89d1-2e92068e18c1",
   "metadata": {},
   "outputs": [],
   "source": [
    "using_net = net.weight.data"
   ]
  },
  {
   "cell_type": "code",
   "execution_count": 12,
   "id": "a077f27e-b0b6-4f3e-801c-88b17da56fae",
   "metadata": {},
   "outputs": [
    {
     "name": "stdout",
     "output_type": "stream",
     "text": [
      "Bhat 선언 : Bhat = tensor([[2.9581],\n",
      "        [2.4503]])\n",
      "net 선언 : Bhat = tensor([[2.9581, 2.4503]])\n"
     ]
    }
   ],
   "source": [
    "print(f\"Bhat 선언 : Bhat = {Bhat.data}\")\n",
    "print(f\"net 선언 : Bhat = {net.weight.data}\")"
   ]
  },
  {
   "cell_type": "markdown",
   "id": "f4fa01ef-9e72-400a-8bd2-78e65ff6fe1f",
   "metadata": {},
   "source": [
    "> net에서의 결과는 행벡터로 나온다는 점이 다르다"
   ]
  },
  {
   "cell_type": "markdown",
   "id": "9f37267f-af50-44cd-8606-e1c62a91de1e",
   "metadata": {},
   "source": [
    "`(5)` 아래의 제약사항을 준수하여 추정값\n",
    "$\\hat{\\beta}_0=3, \\hat{\\beta}_1=3$ 의 값을 다시 1회 update하라. 결과를\n",
    "(3)-(4)와 비교하라 (모두 동일결과가 나와야함)\n",
    "\n",
    "**제약사항**\n",
    "\n",
    "1.  `yhat = net(X)` 을 만족하는 적당한 `X`, `net`을 선언하여 문제를 풀\n",
    "    것. 이때 `net`는 `torch.nn.Linear(??,??,bias=False)` 를 사용하여\n",
    "    선언할 것.\n",
    "2.  손실함수는 `torch.nn.MSELoss()`를 사용하지 말고 직접 손실을 구할 것\n",
    "3.  `torch.optim.SGD()`를 이용하여 update할 것\n",
    "4.  학습률은 0.001로 설정할 것"
   ]
  },
  {
   "cell_type": "code",
   "execution_count": 20,
   "id": "599af4bc-dac7-44ec-9bea-5cd11c6f4a8a",
   "metadata": {},
   "outputs": [],
   "source": [
    "## bias = False\n",
    "X = torch.concat([torch.ones(5, 1), x], axis = 1)\n",
    "net = torch.nn.Linear(2, 1, bias = False)\n",
    "net.weight.data = torch.tensor([[3.0, 3.0]]) ## 행벡터로 넣어야 됨\n",
    "\n",
    "yhat = net(X)\n",
    "\n",
    "## 1 epoch\n",
    "loss = torch.mean((y - yhat)**2)\n",
    "loss.backward()"
   ]
  },
  {
   "cell_type": "code",
   "execution_count": 21,
   "id": "2923c2ca-7406-472b-9e53-778a3f6ec3ae",
   "metadata": {},
   "outputs": [],
   "source": [
    "optimizr = torch.optim.SGD(net.parameters(), lr = 0.001)\n",
    "\n",
    "## update\n",
    "optimizr.step()\n",
    "optimizr.zero_grad()\n",
    "\n",
    "using_optim = net.weight.data"
   ]
  },
  {
   "cell_type": "code",
   "execution_count": 15,
   "id": "2d275b53-3211-451d-a721-fc7b28cb4ae1",
   "metadata": {},
   "outputs": [
    {
     "name": "stdout",
     "output_type": "stream",
     "text": [
      "Bhat 선언 : Bhat = tensor([[2.9581],\n",
      "        [2.4503]])\n",
      "net 선언 : Bhat = tensor([[2.9581, 2.4503]])\n",
      "Optimizor 사용 : Bhat = tensor([[2.9581, 2.4503]])\n"
     ]
    }
   ],
   "source": [
    "print(f\"Bhat 선언 : Bhat = {Bhat.data}\")\n",
    "print(f\"net 선언 : Bhat = {using_net}\")\n",
    "print(f\"Optimizor 사용 : Bhat = {using_optim}\")"
   ]
  },
  {
   "cell_type": "markdown",
   "id": "4bb8d132",
   "metadata": {
    "jp-MarkdownHeadingCollapsed": true
   },
   "source": [
    "`(6)` 아래의 제약사항을 준수하여 추정값\n",
    "$\\hat{\\beta}_0=3, \\hat{\\beta}_1=3$ 의 값을 다시 1회 update하라. 결과를\n",
    "(3)-(5)와 비교하라 (모두 동일결과가 나와야함)\n",
    "\n",
    "**제약사항**\n",
    "\n",
    "1.  `yhat = net(x)` 을 만족하는 적당한 `x`, `net`을 선언하여 문제를 풀\n",
    "    것. 이때 `net`는 `torch.nn.Linear(??,??,bias=True)` 를 사용하여\n",
    "    선언할 것.\n",
    "2.  손실함수는 `torch.nn.MSELoss()`를 사용하지 말고 직접 손실을 구할 것\n",
    "3.  (확률적)경사하강법을 이용하여 update 하되 직접 수식을 입력할 것. 즉\n",
    "    `torch.optim.SGD()`를 사용하지 말 것.\n",
    "4.  학습률은 0.001로 설정할 것"
   ]
  },
  {
   "cell_type": "code",
   "execution_count": 24,
   "id": "d8c3d234-4ce4-489e-96b0-aa95441b0b0b",
   "metadata": {},
   "outputs": [],
   "source": [
    "## x는 그대로 사용\n",
    "net = torch.nn.Linear(1, 1, bias = True)\n",
    "net.weight.data = net.weight.data*0 + 3\n",
    "net.bias.data = net.bias.data*0 + 3\n",
    "\n",
    "yhat = net(x)\n",
    "loss = torch.mean((yhat - y)**2)\n",
    "loss.backward()\n",
    "\n",
    "net.weight.data -= 0.001*net.weight.grad\n",
    "net.bias.data -= 0.001*net.bias.grad\n",
    "\n",
    "net.weight.grad = net.weight.grad*0\n",
    "net.bias.grad = net.bias.grad*0"
   ]
  },
  {
   "cell_type": "code",
   "execution_count": 26,
   "id": "389568aa-cf7a-4a2a-bcb6-d625f4c95ea9",
   "metadata": {},
   "outputs": [
    {
     "name": "stdout",
     "output_type": "stream",
     "text": [
      "Bhat 선언 : Bhat = tensor([[2.9581],\n",
      "        [2.4503]])\n",
      "net 선언 : Bhat = tensor([[2.9581, 2.4503]])\n",
      "Optimizor 사용 : Bhat = tensor([[2.9581, 2.4503]])\n",
      "Optimizor 미사용 : Bhat = (tensor([2.9581]), tensor([[2.4503]]))\n"
     ]
    }
   ],
   "source": [
    "print(f\"Bhat 선언 : Bhat = {Bhat.data}\")\n",
    "print(f\"net 선언 : Bhat = {using_net}\")\n",
    "print(f\"Optimizor 사용 : Bhat = {using_optim}\")\n",
    "print(f\"Optimizor 미사용 : Bhat = {net.bias.data, net.weight.data}\")"
   ]
  },
  {
   "cell_type": "markdown",
   "id": "12193b31-75a9-4a87-a551-e68580a31c66",
   "metadata": {},
   "source": [
    "> $\\hat \\beta_0$와 $\\hat \\beta_1$이 따로 저장되어 있다."
   ]
  },
  {
   "cell_type": "markdown",
   "id": "b94fc2fc-1fbb-4363-8d6d-6a188ad15470",
   "metadata": {},
   "source": [
    "## `$`. 회귀(2d)\n",
    "\n",
    "아래의 데이터를 고려하자."
   ]
  },
  {
   "cell_type": "code",
   "execution_count": 3,
   "id": "ddb220d1-5e23-47bd-897e-4bfc91afe216",
   "metadata": {},
   "outputs": [],
   "source": [
    "df = pd.read_csv(\"https://raw.githubusercontent.com/guebin/DL2025/main/posts/regression_2d.csv\")\n",
    "x1 = torch.tensor(df.x1).float().reshape(-1,1)\n",
    "x2 = torch.tensor(df.x2).float().reshape(-1,1)\n",
    "y = torch.tensor(df.y).float().reshape(-1,1)"
   ]
  },
  {
   "cell_type": "markdown",
   "id": "ee532774-f06c-4de6-888f-be469bace244",
   "metadata": {},
   "source": [
    "$x_1, x_2$ 에서 $y$로 향하는 규칙을 찾기 위해 아래와 같은 모형을\n",
    "고려하였다. ($\\beta_0,\\beta_1,\\beta_2$ 대신에 $w_0, w_1, w_2$ 라고\n",
    "생각해도 무방)\n",
    "\n",
    "$$y_i = \\beta_0 + \\beta_1 x_{i1} + \\beta_2 x_{i2} + \\epsilon_i \\quad i = 1, 2, \\ldots, n$$"
   ]
  },
  {
   "cell_type": "markdown",
   "id": "7d1a4479-07ca-41e0-baa7-38972a6f7568",
   "metadata": {},
   "source": [
    "`(1)` 아래의 제약사항에 맞추어서 $\\beta_0,\\beta_1,\\beta_2$의 값을\n",
    "추정하라.\n",
    "\n",
    "**제약사항**\n",
    "\n",
    "1.  `yhat = X@Bhat` 을 만족하는 적당한 `X`, `Bhat`을 선언하여 문제를 풀\n",
    "    것. (즉 `torch.nn.Linear()` 를 사용하지 말 것)\n",
    "2.  손실함수는 MSE로 설정하되 `torch.nn.MSELoss()`를 사용하지 말고 직접\n",
    "    손실을 구할 것\n",
    "3.  (확률적)경사하강법을 이용하여 update 하되 직접 수식을 입력할 것. 즉\n",
    "    `torch.optim.SGD()`를 사용하지 말 것.\n",
    "\n",
    "**hint**: 참값은 $\\beta_0=2.5, \\beta_1=4 , \\beta_2= -2$ 임"
   ]
  },
  {
   "cell_type": "code",
   "execution_count": 25,
   "id": "e7c84ded-2846-440f-8dd4-0209c7d98516",
   "metadata": {},
   "outputs": [],
   "source": [
    "## data\n",
    "X = torch.concat([torch.ones(100).reshape(-1, 1), x1, x2], axis = 1)\n",
    "Bhat = torch.tensor([[1.0],\n",
    "                     [1.0],\n",
    "                     [1.0]], requires_grad = True)\n",
    "\n",
    "##-----##\n",
    "for epoc in range(3000) :\n",
    "    ## 1\n",
    "    yhat = X@Bhat\n",
    "    ## 2\n",
    "    loss = torch.mean((y-yhat)**2)\n",
    "    ## 3\n",
    "    loss.backward()\n",
    "    ## 4\n",
    "    Bhat.data -= 0.1 * Bhat.grad\n",
    "    Bhat.grad = Bhat.grad*0"
   ]
  },
  {
   "cell_type": "code",
   "execution_count": 32,
   "id": "fff6c4ec-3a7b-4f14-b9c5-587ed0967371",
   "metadata": {},
   "outputs": [
    {
     "name": "stdout",
     "output_type": "stream",
     "text": [
      "Bhat = tensor([[ 2.5824],\n",
      "        [ 4.0264],\n",
      "        [-2.0142]])\n"
     ]
    }
   ],
   "source": [
    "print(f\"Bhat = {Bhat.data}\")"
   ]
  },
  {
   "cell_type": "markdown",
   "id": "e45537ca-54fa-4068-86b7-7428624d5056",
   "metadata": {},
   "source": [
    "`(2)` (1)에서 구한 `X`에 대하여 아래의 수식을 이용하여 추정값을\n",
    "구하여라.\n",
    "\n",
    "$$\\hat{\\boldsymbol \\beta}^{LSE} = \\begin{bmatrix} \\hat{\\beta}_0^{LSE} \\\\  \\hat{\\beta}_1^{LSE} \\\\  \\hat{\\beta}_2^{LSE}\\end{bmatrix} = ({\\bf X}^\\top {\\bf X})^{-1}{\\bf X}^\\top {\\bf y}$$\n",
    "\n",
    "(1)에서 추정한 값과 비교하라. 비슷한가?\n",
    "\n",
    "**hint**: (1)과 (2)의 추정값은 거의 같아야합니다.."
   ]
  },
  {
   "cell_type": "code",
   "execution_count": 43,
   "id": "6baa11cd-ece5-439a-934d-18b77def3680",
   "metadata": {},
   "outputs": [
    {
     "name": "stdout",
     "output_type": "stream",
     "text": [
      "GD Bhat = tensor([ 2.5824,  4.0264, -2.0142])\n",
      "LSE Bhat = tensor([ 2.5819,  4.0284, -2.0162])\n"
     ]
    }
   ],
   "source": [
    "lse_Bhat = torch.inverse(X.t()@X)@X.t()@y\n",
    "\n",
    "print(f\"GD Bhat = {Bhat.data.reshape(-1)}\")\n",
    "print(f\"LSE Bhat = {lse_Bhat.reshape(-1)}\")"
   ]
  },
  {
   "cell_type": "markdown",
   "id": "d7ef1f4c-1fff-487b-879a-45468fea216f",
   "metadata": {},
   "source": [
    "`(3)` 이 문제에서 모수의 참값은 $\\beta_0=2.5, \\beta_1=4 , \\beta_2= -2$\n",
    "이다. `epoch`을 증가할수록 (1)에서 추정된 값은 참값에 근접해갈까?\n",
    "(`epoch`을 무한대로 하면 결국 참값에 수렴할까?)"
   ]
  },
  {
   "cell_type": "markdown",
   "id": "4c71a11e-e2a6-428c-92a0-f085e8c711d0",
   "metadata": {},
   "source": [
    "`(4)` 아래의 제약사항에 맞추어서 $\\beta_0,\\beta_1,\\beta_2$의 값을 다시\n",
    "추정하라.\n",
    "\n",
    "**제약사항**\n",
    "\n",
    "1.  `yhat = net(X)` 을 만족하는 적당한 `X`, `net`을 선언하여 문제를 풀\n",
    "    것. 이때 `net`는 `torch.nn.Linear(??,??,bias=False)` 를 사용하여\n",
    "    선언할 것.\n",
    "2.  `torch.nn.MSELoss()`를 이용하여 손실을 구할 것\n",
    "3.  `torch.optim.SGD()`를 이용하여 update할 것\n",
    "\n",
    "`(5)` 아래의 제약사항에 맞추어서 $\\beta_0,\\beta_1,\\beta_2$의 값을 다시\n",
    "추정하라.\n",
    "\n",
    "**제약사항**\n",
    "\n",
    "1.  `yhat = net(X)` 을 만족하는 적당한 `X`, `net`을 선언하여 문제를 풀\n",
    "    것. 이때 `net`는 `torch.nn.Linear(??,??,bias=True)` 를 사용하여\n",
    "    선언할 것.\n",
    "2.  `torch.nn.MSELoss()`를 이용하여 손실을 구할 것\n",
    "3.  `torch.optim.SGD()`를 이용하여 update할 것\n",
    "\n",
    "## `$`. 회귀(DL2022-MID-2)\n",
    "\n",
    "> 이 문제의 경우 풀이가\n",
    "> <https://guebin.github.io/DL2022/posts/2022-10-28-9wk-1-midsol.html>\n",
    "> 에 있습니다.\n",
    "\n",
    "주어진 자료가 아래와 같다고 하자."
   ]
  },
  {
   "cell_type": "code",
   "execution_count": null,
   "id": "0734c0a7-6392-42b9-ad52-9e9d7c75b73d",
   "metadata": {},
   "outputs": [],
   "source": []
  }
 ],
 "metadata": {
  "kernelspec": {
   "display_name": "Python 3 (ipykernel)",
   "language": "python",
   "name": "python3"
  },
  "language_info": {
   "codemirror_mode": {
    "name": "ipython",
    "version": 3
   },
   "file_extension": ".py",
   "mimetype": "text/x-python",
   "name": "python",
   "nbconvert_exporter": "python",
   "pygments_lexer": "ipython3",
   "version": "3.9.18"
  }
 },
 "nbformat": 4,
 "nbformat_minor": 5
}
