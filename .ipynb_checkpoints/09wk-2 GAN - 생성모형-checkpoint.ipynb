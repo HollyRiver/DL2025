{
 "cells": [
  {
   "cell_type": "markdown",
   "id": "9bac18bf",
   "metadata": {},
   "source": [
    "# 09wk-2: (생성모형) – Generative Adversarial Network (GAN)"
   ]
  },
  {
   "cell_type": "markdown",
   "id": "2a20c324",
   "metadata": {},
   "source": [
    "## 1. Imports"
   ]
  },
  {
   "cell_type": "code",
   "execution_count": 100,
   "id": "6caaef90",
   "metadata": {},
   "outputs": [],
   "source": [
    "import torch \n",
    "import torchvision\n",
    "import matplotlib.pyplot as plt "
   ]
  },
  {
   "cell_type": "markdown",
   "id": "d77e86b8",
   "metadata": {},
   "source": [
    "## 2. 주요 코드 등"
   ]
  },
  {
   "cell_type": "markdown",
   "id": "329cd8d3-2717-4812-8a67-d23a016f2517",
   "metadata": {},
   "source": [
    "## 3. GAN (Goodfellow el al. 2014) Intro"
   ]
  },
  {
   "cell_type": "markdown",
   "id": "03036e14-ad5d-4808-b8d7-b0d095eb23f1",
   "metadata": {},
   "source": [
    "### **A. 잡썰**"
   ]
  },
  {
   "cell_type": "markdown",
   "id": "f79d30bb-2ce4-4a3c-96c3-db8a28133abe",
   "metadata": {},
   "source": [
    "`-` 저자 : 이안 굿펠로우\n",
    "\n",
    "* 지도교수가 요수아 벤지오. 천재임\n",
    "\n",
    "\n",
    "`-` 교수님이 개쩐다고 생각했던 논문\n",
    "\n",
    "* https://arxiv.org/abs/1406.2661\n",
    "\n",
    "`-` 최근 10년간 머신러닝 분야에서 가장 혁신적인 아이디어이다. (얀 르쿤. 2014)"
   ]
  },
  {
   "cell_type": "markdown",
   "id": "0975aee7-5e6e-4060-ba72-0fdb3ab53cc5",
   "metadata": {},
   "source": [
    "### **B. GAN의 원리**"
   ]
  },
  {
   "cell_type": "markdown",
   "id": "11353235-ea49-4a7f-abb2-f7d37b4483ac",
   "metadata": {},
   "source": [
    "`-` GAN은 경찰과 위조지폐범이 서로 선의의(?) 경쟁을 통하여 발전하는 모형으로 설명할 수 있다."
   ]
  },
  {
   "cell_type": "markdown",
   "id": "78f71664-6938-4dea-9eb3-ad75ae06223a",
   "metadata": {},
   "source": [
    "> 서로 적대적인(Adversarial) 네트워크(Network)를 동시에 학습시커 가짜 이미지를 만든다(Generate)"
   ]
  },
  {
   "cell_type": "markdown",
   "id": "a84a669a-5ba7-4c94-884b-cbb34d9af06d",
   "metadata": {},
   "source": [
    "`-` 무식한 상황극...\n",
    "\n",
    "* 위조범 : 가짜 돈을 만들어서 부자가 돼야지! (가짜 돈을 그림)\n",
    "* 경찰 : (위조범이 만든 돈을 보고) 이건 가짜다!\n",
    "* 위조범 : 더 정교하게 만들어야지...(loss가 증가하면서 더 정교한 걸 만들려고 노력)\n",
    "* 경찰 : 이건 진짠가...? -> 상사에게 혼남(얘도 loss 증가) -> 판별능력 업그레이드 -> 이건 가짜다!\n",
    "* 위조범 : 더 정교하게...\n",
    "* 경찰 : 더 판별능력을 업그레이드...\n",
    "\n",
    "...반복...\n",
    "\n",
    "> 굉장히 우수한 경찰조차도 진짜와 가짜를 구분하지 못할 때(진짜 이미지를 0.5의 확률로만 진짜라고 말할 때 == 가짜 이미지를 0.5의 확률로만 가짜라고 말할 때) 학습을 멈춘다."
   ]
  },
  {
   "cell_type": "markdown",
   "id": "4b5297fe-9a09-4247-a23d-93a31ef51db5",
   "metadata": {},
   "source": [
    "### **C. 생성모형이란? (쉬운 설명)**"
   ]
  },
  {
   "cell_type": "markdown",
   "id": "403bcf0d-e454-4b76-ab09-339270b213a3",
   "metadata": {},
   "source": [
    "`-` 사진 속에 들어있는 동물이 개인지 고양이인지를 맞출 수 있는 기계와, 개와 고양이를 그릴 수 있는 기계 중 어떤 것이 더 시각정보에 대한 이해가 깊다고 볼 수 있는가?\n",
    "\n",
    "> 진정으로 인공지능이 이미지자료를 이해했다면, 이미지를 만들수도 있어야 한다 -> 이미지를 생성하는 모형을 만들어보자 -> 성공\n",
    "\n",
    "\n",
    "`-` 뭘 분류하려는 목적을 가진 게 판별모형이면 <-> 뭘 만들려는 목적을 가진 게 생성모형이고, **생성모형이 더 우수하다.**"
   ]
  },
  {
   "cell_type": "markdown",
   "id": "30c9db62-0c1b-46ea-b45e-cd2ce60bbee6",
   "metadata": {},
   "source": [
    "### **D. 생성모형이란? 통계학과 버전의 설명**"
   ]
  },
  {
   "cell_type": "markdown",
   "id": "d348ad8b-48c7-4efd-9981-71db884ea9ae",
   "metadata": {},
   "source": [
    "`-` 이미지 $\\bf X$가 주어졌을 경우, 라벨을 $y$라고 하자.\n",
    "\n",
    "> 이미지를 보고 라벨을 맞추는 일은 $P(y|\\bf X)$에 관심이 있다고 볼 수 있다 -> 판별모형\n",
    ">\n",
    "> 이미지를 생성하는 일은 $P({\\bf X}, y)$에 관심이 있는 것이다 -> 생성모형, 결합분포의 이해\n",
    "\n",
    "\n",
    "`-` 데이터의 생성확률 $P({\\bf X}, y)$을 알면 클래스의 사후확률 $P(y|\\bf X)$를 알 수 있음. 하지만 역은 불가능\n",
    "\n",
    "\n",
    "$$P(y|\\bf X) = \\frac{P({\\bf X}, y)}{P({\\bf X})} = \\frac{P({\\bf X}, y)}{\\sum _y P({\\bf X}, y)}$$\n",
    "\n",
    "\n",
    "> 즉, 이미지를 생성하는 것은 분류문제보다 더 어려운 일이라고 해석할 수 있음"
   ]
  },
  {
   "cell_type": "markdown",
   "id": "b6ff6591-7d1f-4bbd-a612-d613d33ddeca",
   "metadata": {},
   "source": [
    "### **E. 철학의 차이**"
   ]
  },
  {
   "cell_type": "markdown",
   "id": "0cb1ec19-50c8-4d5f-979b-2bc69e30fdd1",
   "metadata": {},
   "source": [
    "> 배프닉, SVM 창시차 : 제한된 정보만으로 어떤 문제를 풀 때, 그 과정에서 원래의 문제보다 일반적인 문제를 풀지 말고 (문제를 괜히 어렵게 만들어서 풀지 말고), 가능한 원래의 문제를 직접 풀어야 한다.\n",
    "\n",
    "`-` 따라서 배프닉에 의하면 일반적인 분류문제를 해결할 때, 판별모형이 생성모형보다 더 바람직한 접근법이라고 할 수 있음.\n",
    "\n",
    "`-` 마인드 자체가 다름. 이전에는 머신러닝의 응용분야가 분류/회귀에 한정된 느낌이었는데 요즘은 생성모형도 있기가 있음."
   ]
  },
  {
   "cell_type": "markdown",
   "id": "956fff7e-255a-4547-8a2d-1f3ceee86f37",
   "metadata": {},
   "source": [
    "## 4. GAN의 구현"
   ]
  },
  {
   "cell_type": "markdown",
   "id": "f6c6a9ba-582c-42a4-8e37-b21e522468bd",
   "metadata": {},
   "source": [
    "### **A. Data**"
   ]
  },
  {
   "cell_type": "code",
   "execution_count": 2,
   "id": "055f2c1e-bcd6-420f-82c2-3a578f586273",
   "metadata": {},
   "outputs": [
    {
     "name": "stderr",
     "output_type": "stream",
     "text": [
      "100.0%\n",
      "100.0%\n",
      "100.0%\n",
      "100.0%\n"
     ]
    }
   ],
   "source": [
    "train_dataset = torchvision.datasets.MNIST(root = \"./data\", train = True, download = True)\n",
    "to_tensor = torchvision.transforms.ToTensor() ## 이미지 shape는 똑같으니까 텐서로만...\n",
    "X_real = torch.stack([to_tensor(Xi) for Xi, yi in train_dataset if yi == 3]) ## 숫자 3인 것만..."
   ]
  },
  {
   "cell_type": "code",
   "execution_count": 13,
   "id": "45300c57-badd-4cd9-b0d2-39202eae90fc",
   "metadata": {},
   "outputs": [
    {
     "data": {
      "image/png": "[encoded data removed]",
      "text/plain": [
       "<Figure size 640x480 with 1 Axes>"
      ]
     },
     "metadata": {},
     "output_type": "display_data"
    }
   ],
   "source": [
    "plt.imshow(X_real[0].squeeze(), cmap = \"gray\");"
   ]
  },
  {
   "cell_type": "markdown",
   "id": "5b4049b2-3348-426c-8624-156140b9bd4e",
   "metadata": {},
   "source": [
    "> label이 하나밖에 없으니까 일단 판별 목적은 아님..."
   ]
  },
  {
   "cell_type": "markdown",
   "id": "dfe9cd29-f35a-464e-81b2-74cbd7240774",
   "metadata": {},
   "source": [
    "### **B. 페이커 생성 $\\to$ 일단 선언만 함**"
   ]
  },
  {
   "cell_type": "markdown",
   "id": "2c33d43c-7667-4907-9cc6-49108ab079b0",
   "metadata": {},
   "source": [
    "> `net_faker` : noise $\\to$ 가짜 이미지를 만들자. 잡다한 숫자들로 가짜 이미지를 만들자..."
   ]
  },
  {
   "cell_type": "markdown",
   "id": "42d0c2de-6489-464e-a767-c16b107401ee",
   "metadata": {},
   "source": [
    "`-` 네트워크의 입력 : (n, ??)인 랜덤으로 뽑은 숫자"
   ]
  },
  {
   "cell_type": "code",
   "execution_count": 14,
   "id": "1b0951f1-1314-4916-86dc-a4d706b868aa",
   "metadata": {},
   "outputs": [
    {
     "data": {
      "text/plain": [
       "tensor([[-0.9674,  0.0062, -0.3523,  0.7320]])"
      ]
     },
     "execution_count": 14,
     "metadata": {},
     "output_type": "execute_result"
    }
   ],
   "source": [
    "torch.randn(1, 4) ## 노이즈"
   ]
  },
  {
   "cell_type": "markdown",
   "id": "0c3c0b24-ce9c-49cc-b4f7-c0924c2cb2a3",
   "metadata": {},
   "source": [
    "`-` 네트워크의 출력 : (n, 1, 28, 28)의 텐서"
   ]
  },
  {
   "cell_type": "code",
   "execution_count": 15,
   "id": "ad830b0b-adcb-4b52-a88c-66080c3ea50e",
   "metadata": {},
   "outputs": [
    {
     "data": {
      "text/plain": [
       "784"
      ]
     },
     "execution_count": 15,
     "metadata": {},
     "output_type": "execute_result"
    }
   ],
   "source": [
    "28*28"
   ]
  },
  {
   "cell_type": "code",
   "execution_count": 28,
   "id": "b26860d9-1a4f-45d8-a420-b92bac6ff2dc",
   "metadata": {},
   "outputs": [],
   "source": [
    "class FlattenToImage(torch.nn.Module) :\n",
    "    def __init__(self) :\n",
    "        super().__init__()\n",
    "\n",
    "    def forward(self, x) :\n",
    "        return x.reshape(-1, 1, 28, 28) ## 여러 observation이 존재할 수 있으니까 -1...\n",
    "\n",
    "net_faker = torch.nn.Sequential(\n",
    "    torch.nn.Linear(4, 64), ## 한번에 변환하면 너무 팍 변하니까...\n",
    "    torch.nn.ReLU(), ## 렐루 넣어서 변환을 더 복잡하게\n",
    "    torch.nn.Linear(64, 64),\n",
    "    torch.nn.ReLU(),\n",
    "    torch.nn.Linear(64, 784),\n",
    "    torch.nn.Sigmoid(), ## 단순히 출력을 0~1로 눌러주기 위한 레이어\n",
    "    FlattenToImage()\n",
    ")"
   ]
  },
  {
   "cell_type": "code",
   "execution_count": 29,
   "id": "b6e0f6cf-9198-4293-9fa3-05262e3480c3",
   "metadata": {},
   "outputs": [
    {
     "data": {
      "image/png": "[encoded data removed]",
      "text/plain": [
       "<Figure size 640x480 with 1 Axes>"
      ]
     },
     "metadata": {},
     "output_type": "display_data"
    }
   ],
   "source": [
    "plt.imshow(net_faker(torch.randn(1, 4)).squeeze().data, cmap = \"gray\");"
   ]
  },
  {
   "cell_type": "markdown",
   "id": "4cafeed6-ea05-4358-9431-6689b2934960",
   "metadata": {},
   "source": [
    "> 얘를 최대한 3의 모양과 비슷하도록 가중치를 학습해야 함 ㅇㅇ"
   ]
  },
  {
   "cell_type": "markdown",
   "id": "7b8c2022-b015-470f-9e0d-36cde71979ec",
   "metadata": {},
   "source": [
    "### **C. 경찰 생성**"
   ]
  },
  {
   "cell_type": "markdown",
   "id": "1ac56473-be01-42d9-9805-52013e379057",
   "metadata": {},
   "source": [
    "> `net_police` : 진짜 이미지 $\\to$ 0 // 가짜이미지 $\\to$ 1과 같은 판별모형"
   ]
  },
  {
   "cell_type": "markdown",
   "id": "884e3884-eb72-4451-a822-dc5aa81ed2d1",
   "metadata": {},
   "source": [
    "`-` 네트워크의 입력 : (n, 1, 28, 28)의 이미지"
   ]
  },
  {
   "cell_type": "markdown",
   "id": "fddb068f-7232-4ec9-ae0e-42a38fc35faa",
   "metadata": {},
   "source": [
    "`-` 네트워크의 출력 : 0 또는 1(가짜 이미지 타겟)"
   ]
  },
  {
   "cell_type": "code",
   "execution_count": 32,
   "id": "df4582ac-199b-4548-9d6c-81f2729b08bf",
   "metadata": {},
   "outputs": [
    {
     "data": {
      "text/plain": [
       "torch.Size([1, 784])"
      ]
     },
     "execution_count": 32,
     "metadata": {},
     "output_type": "execute_result"
    }
   ],
   "source": [
    "torch.nn.Flatten()(net_faker(torch.randn(1, 4))).shape"
   ]
  },
  {
   "cell_type": "code",
   "execution_count": 33,
   "id": "fbaed11d-0788-4f34-acb6-e5a34f4198cc",
   "metadata": {},
   "outputs": [],
   "source": [
    "net_police = torch.nn.Sequential(\n",
    "    torch.nn.Flatten(), ## CNN 말고 간단한 이미지 분류하는 신경망으로 설계\n",
    "    torch.nn.Linear(784, 32),\n",
    "    torch.nn.ReLU(),\n",
    "    torch.nn.Linear(32, 1),\n",
    "    torch.nn.Sigmoid()\n",
    ")"
   ]
  },
  {
   "cell_type": "code",
   "execution_count": 36,
   "id": "76b1f25f-86e9-40e9-95bc-bf357070626b",
   "metadata": {},
   "outputs": [
    {
     "data": {
      "text/plain": [
       "tensor([[0.4848]], grad_fn=<SigmoidBackward0>)"
      ]
     },
     "execution_count": 36,
     "metadata": {},
     "output_type": "execute_result"
    }
   ],
   "source": [
    "net_police(X_real[0]) ## 얘는 0 근처로 나와야 함"
   ]
  },
  {
   "cell_type": "code",
   "execution_count": 39,
   "id": "5b438add-5a91-4b2f-9bce-5802cfa1ac38",
   "metadata": {},
   "outputs": [
    {
     "data": {
      "text/plain": [
       "tensor([[0.5080]], grad_fn=<SigmoidBackward0>)"
      ]
     },
     "execution_count": 39,
     "metadata": {},
     "output_type": "execute_result"
    }
   ],
   "source": [
    "net_police(net_faker(torch.randn(1, 4))) ## 얘는 1 근처로 나와야 함"
   ]
  },
  {
   "cell_type": "markdown",
   "id": "b4107612-7bac-4068-9a56-dee3beb4bbbf",
   "metadata": {},
   "source": [
    "> 이런 두 개 이미지 중 하나가 들어가게 됨. 아직 학습은 하나도 안되어서 분류 못함"
   ]
  },
  {
   "cell_type": "markdown",
   "id": "5e6f2190-5824-4409-8e84-f72e3460ae3c",
   "metadata": {},
   "source": [
    "### **D. 바보 경찰, 바보 페이커 $\\to$ 학습 전**"
   ]
  },
  {
   "cell_type": "markdown",
   "id": "b2c5853f-8c37-4bca-8a54-4d52517cdff1",
   "metadata": {},
   "source": [
    "`-` 데이터"
   ]
  },
  {
   "cell_type": "code",
   "execution_count": 44,
   "id": "bcdb1d63-f30a-4825-99a4-b45aaa9d1c16",
   "metadata": {},
   "outputs": [],
   "source": [
    "real_image = X_real[[0]]\n",
    "fake_image = net_faker(torch.randn(1, 4)).data ## 이미지니까, 그래디언트 붙으면 안되지"
   ]
  },
  {
   "cell_type": "markdown",
   "id": "a610409f-1754-4eef-8203-430cdab453b7",
   "metadata": {},
   "source": [
    "`-` 경찰 네트워크가 가짜 이미지를 봤을 때 어떤 판단을 하는지, 진짜 이미지를 봤을 때 어떤 판단을 하는지 살펴보자"
   ]
  },
  {
   "cell_type": "markdown",
   "id": "139b2bbc-02ca-4705-93eb-ede11c394d75",
   "metadata": {},
   "source": [
    "***<경찰이 진짜 이미지를 봤다면>***"
   ]
  },
  {
   "cell_type": "code",
   "execution_count": 45,
   "id": "b869efa7-7d0f-4837-93d8-f7b8aad26fa4",
   "metadata": {},
   "outputs": [
    {
     "data": {
      "text/plain": [
       "tensor([[0.4848]], grad_fn=<SigmoidBackward0>)"
      ]
     },
     "execution_count": 45,
     "metadata": {},
     "output_type": "execute_result"
    }
   ],
   "source": [
    "net_police(real_image)"
   ]
  },
  {
   "cell_type": "markdown",
   "id": "80e7452e-b6dd-4060-a074-2bcac9b0046c",
   "metadata": {},
   "source": [
    "***<경찰이 가짜 이미지를 봤다면>***"
   ]
  },
  {
   "cell_type": "code",
   "execution_count": 46,
   "id": "ecfc2c6f-efd2-4c0e-8e2a-baff42ee0e1e",
   "metadata": {},
   "outputs": [
    {
     "data": {
      "text/plain": [
       "tensor([[0.5078]], grad_fn=<SigmoidBackward0>)"
      ]
     },
     "execution_count": 46,
     "metadata": {},
     "output_type": "execute_result"
    }
   ],
   "source": [
    "net_police(fake_image)"
   ]
  },
  {
   "cell_type": "markdown",
   "id": "b17a2b0c-3c18-4fe5-a90b-1e532890e84e",
   "metadata": {},
   "source": [
    "> 영 아쉬움... -> 당연히 아직 학습이 안됐으니까..."
   ]
  },
  {
   "cell_type": "markdown",
   "id": "a7cdcb3b-31b4-4db1-8b01-589cabdcf252",
   "metadata": {},
   "source": [
    "### **E. 똑똑해진 경찰 - 1차 식별자 학습**"
   ]
  },
  {
   "cell_type": "markdown",
   "id": "c2fcaefa-03eb-43d0-8f93-85a14a2d8ee9",
   "metadata": {},
   "source": [
    "* `X = (진짜이미지, 가짜이미지, 진짜이미지, ...)`\n",
    "* `y = (0, 1, 0, ...)`"
   ]
  },
  {
   "cell_type": "markdown",
   "id": "7540fcb9-3888-44d9-8afe-a51af6669fcf",
   "metadata": {},
   "source": [
    "> 그냥 DNN이든 CNN이든 일단 잘 분류하는 모형이면 됨!"
   ]
  },
  {
   "cell_type": "markdown",
   "id": "3c517b89-6fb6-4fc7-94d9-a90cef86de0b",
   "metadata": {},
   "source": [
    "`-` fake image : real image = 1 : 1"
   ]
  },
  {
   "cell_type": "code",
   "execution_count": 55,
   "id": "c72267de-43e7-40df-97f3-d7516667c217",
   "metadata": {},
   "outputs": [
    {
     "data": {
      "text/plain": [
       "torch.Size([6131, 1, 28, 28])"
      ]
     },
     "execution_count": 55,
     "metadata": {},
     "output_type": "execute_result"
    }
   ],
   "source": [
    "X_real.shape"
   ]
  },
  {
   "cell_type": "code",
   "execution_count": 58,
   "id": "c3143aac-49d6-4acb-bd65-733af1b71cb3",
   "metadata": {},
   "outputs": [],
   "source": [
    "X_fake = net_faker(torch.randn(6131, 4)).data ## 미분꼬리표가 결과에 영향을 미치면 안됨...\n",
    "\n",
    "y_real = torch.zeros((6131, 1))\n",
    "y_fake = torch.ones((6131, 1))"
   ]
  },
  {
   "cell_type": "markdown",
   "id": "27a4acc8-1986-4fce-981c-0cd30abfd0eb",
   "metadata": {},
   "source": [
    "`X_real, X_fake`는 합치려고 했지만... 어떤 이유로 일단 내버려둠"
   ]
  },
  {
   "cell_type": "markdown",
   "id": "158ae0fb-57de-4c0a-aec0-2e4ff97a5bfe",
   "metadata": {},
   "source": [
    "-   원래 $n=6131$개의 이미지자료가 있었음. 이를 ${\\bf X}_{real}$ 로\n",
    "    저장했었음.\n",
    "-   ${\\bf X}_{fake}$는 `net_facker`의 output으로 생성하고 꼬리표 제거.\n",
    "-   ${\\bf X}_{real}$에 대응하는 ${\\bf y}_{real}$ 생성. 진짜이미지는\n",
    "    라벨을 0으로 정함.\n",
    "-   ${\\bf X}_{faker}$에 대응하는 ${\\bf y}_{fake}$ 생성. 가짜이미지는\n",
    "    라벨을 1로 정함. (라벨을 어떻게 정하는지는 딱히 상관 없음)"
   ]
  },
  {
   "cell_type": "markdown",
   "id": "e119d0bd-412e-4e0d-8ba5-5d8e7b6e8705",
   "metadata": {},
   "source": [
    "`-` Step 1 : `X_real`, `X_fake`를 보고 각각 `yhat_real`, `yhat_fake`를 만드는 과정"
   ]
  },
  {
   "cell_type": "code",
   "execution_count": 61,
   "id": "fb66e636-5525-49c9-8ad8-6972ef9fe671",
   "metadata": {},
   "outputs": [],
   "source": [
    "yhat_real = net_police(X_real)\n",
    "yhat_fake = net_police(X_fake)"
   ]
  },
  {
   "cell_type": "markdown",
   "id": "a2de2ffe-05dd-4b1e-8420-9a2c14933486",
   "metadata": {},
   "source": [
    "`-` Step 2 : 손실을 계산 - `net_police`는 가짜이미지를 가짜라고 하고, 진짜 이미지를 진짜라고 해야 함 $\\to$ `yhat_real`은 거의 0의 값으로, `yhat_fake`는 거의 1의 값이 되도록 설계해야 함."
   ]
  },
  {
   "cell_type": "code",
   "execution_count": 62,
   "id": "baed8a9c-2bfc-4701-8d7f-981ec95d01e4",
   "metadata": {},
   "outputs": [
    {
     "data": {
      "text/plain": [
       "tensor(1.3269, grad_fn=<AddBackward0>)"
      ]
     },
     "execution_count": 62,
     "metadata": {},
     "output_type": "execute_result"
    }
   ],
   "source": [
    "bce = torch.nn.BCELoss()\n",
    "\n",
    "loss_police = bce(yhat_real, y_real) + bce(yhat_fake, y_fake) ## /2 해야 전체랑 똑같긴 한데, 그정도는...\n",
    "loss_police"
   ]
  },
  {
   "cell_type": "markdown",
   "id": "9a94b029-48b1-442e-8e07-3199e5a2b9ba",
   "metadata": {},
   "source": [
    "`-` Step 3~4"
   ]
  },
  {
   "cell_type": "code",
   "execution_count": 84,
   "id": "7943c6f6-81ef-4024-a2fc-a4c61f214f70",
   "metadata": {},
   "outputs": [],
   "source": [
    "net_police = torch.nn.Sequential(\n",
    "    torch.nn.Flatten(),\n",
    "    torch.nn.Linear(784, 32),\n",
    "    torch.nn.ReLU(),\n",
    "    torch.nn.Linear(32, 1),\n",
    "    torch.nn.Sigmoid()\n",
    ")\n",
    "\n",
    "\n",
    "bce = torch.nn.BCELoss()\n",
    "optimizr_police = torch.optim.Adam(net_police.parameters())\n",
    "\n",
    "##---##\n",
    "for epoc in range(30) :\n",
    "    X_fake = net_faker(torch.randn(6131, 4)).data ## 훈련 데이터를 계속 무작위 생성\n",
    "    \n",
    "    yhat_real = net_police(X_real)\n",
    "    yhat_fake = net_police(X_fake)\n",
    "\n",
    "    loss_police = bce(yhat_real, y_real) + bce(yhat_fake, y_fake)\n",
    "    loss_police.backward()\n",
    "\n",
    "    optimizr_police.step()\n",
    "    optimizr_police.zero_grad()"
   ]
  },
  {
   "cell_type": "code",
   "execution_count": 89,
   "id": "db70bfa9-4482-4f99-a60a-e41de8208f3b",
   "metadata": {},
   "outputs": [
    {
     "data": {
      "text/plain": [
       "0.0"
      ]
     },
     "execution_count": 89,
     "metadata": {},
     "output_type": "execute_result"
    }
   ],
   "source": [
    "(net_police(X_real) > 0.5).float().mean().item()"
   ]
  },
  {
   "cell_type": "code",
   "execution_count": 93,
   "id": "9bfbb0d0-aa5f-4265-82c1-6cc22886e47d",
   "metadata": {},
   "outputs": [
    {
     "data": {
      "text/plain": [
       "1.0"
      ]
     },
     "execution_count": 93,
     "metadata": {},
     "output_type": "execute_result"
    }
   ],
   "source": [
    "(net_police(net_faker(torch.randn(6131, 4))).data > 0.5).float().mean().item()"
   ]
  },
  {
   "cell_type": "markdown",
   "id": "700a244e-56cb-4265-8797-a68a074c05b8",
   "metadata": {},
   "source": [
    "> 이정도면 신경망 주제에 매우 우수함"
   ]
  },
  {
   "cell_type": "code",
   "execution_count": 99,
   "id": "4ced75e0-669c-4d58-b8ef-107cfb4b892e",
   "metadata": {},
   "outputs": [
    {
     "data": {
      "image/png": "[encoded data removed]",
      "text/plain": [
       "<Figure size 640x480 with 2 Axes>"
      ]
     },
     "metadata": {},
     "output_type": "display_data"
    }
   ],
   "source": [
    "fig, ax = plt.subplots(1, 2)\n",
    "ax[0].imshow(X_fake[[0]].squeeze(), cmap = \"gray\")\n",
    "ax[0].set_title(f\"police output = {net_police(X_fake[[0]]).item():.4f}\")\n",
    "ax[1].imshow(X_real[[0]].squeeze(), cmap = \"gray\")\n",
    "ax[1].set_title(f\"police output = {net_police(X_real[[0]]).item():.4f}\");"
   ]
  },
  {
   "cell_type": "markdown",
   "id": "4ed04283-4cd9-4d35-86c2-ec95589f71f0",
   "metadata": {},
   "source": [
    "### **F. 더 똑똑해지는 페이커**"
   ]
  },
  {
   "cell_type": "markdown",
   "id": "bd5fb5ad-a874-46e6-a3d8-ed3b9f81ee25",
   "metadata": {},
   "source": [
    "`-` Step 1 : noise $\\to$ X_fake"
   ]
  },
  {
   "cell_type": "code",
   "execution_count": 104,
   "id": "95220b54-a82d-4880-9526-f2203f47ae95",
   "metadata": {},
   "outputs": [
    {
     "data": {
      "text/plain": [
       "torch.Size([6131, 1, 28, 28])"
      ]
     },
     "execution_count": 104,
     "metadata": {},
     "output_type": "execute_result"
    }
   ],
   "source": [
    "X_fake = net_faker(torch.randn((6131, 4)))\n",
    "X_fake.shape ## 여기선 네트워크 출력이므로 그래디언트 제거하지 말아야 함"
   ]
  },
  {
   "cell_type": "markdown",
   "id": "c1eaa558-86c5-414c-98b2-a6e9ca8b5947",
   "metadata": {},
   "source": [
    "`-` Step 2 : 손실함수 - 경찰이 가짜이미지를 진짜라고 판단하는 것\n",
    "\n",
    "> `yhat_fake` $\\approx$ `y_real`, `net_police(X_fake)`가 `0`에 가까워야 우수함\n",
    ">\n",
    "> 그래서 `X_fake`와 `X_real`을 나눈 거임! $\\to$ 경찰이 `X_real`을 잘 맞추는 건 얘 입장에선 상관이 없음!"
   ]
  },
  {
   "cell_type": "code",
   "execution_count": 105,
   "id": "775fd8db-7035-4aca-8545-a749f536d4a0",
   "metadata": {},
   "outputs": [],
   "source": [
    "yhat_fake = net_police(X_fake)\n",
    "loss_faker = bce(yhat_fake, y_real)"
   ]
  },
  {
   "cell_type": "markdown",
   "id": "9c176d4e-7fcc-40d7-91d1-39e580df2344",
   "metadata": {},
   "source": [
    "> 가짜 이미지를 잘 구분하는 경찰도, 진짜 이미지라고 속으면 페이커의 실력이 좋다고 볼 수 있음"
   ]
  },
  {
   "cell_type": "markdown",
   "id": "eae7b1f7-733c-4e47-b8d9-54fcd45ac8c9",
   "metadata": {},
   "source": [
    "`-` Step 3~4"
   ]
  },
  {
   "cell_type": "code",
   "execution_count": 114,
   "id": "e4510880-ddf9-4171-b4be-b299039b33d1",
   "metadata": {},
   "outputs": [],
   "source": [
    "## 사실상 여기서 네트워크를 처음 선언하는 거임. 왜냐? 아직 훈련 안됐으니까\n",
    "class FlattenToImage(torch.nn.Module) :\n",
    "    '''\n",
    "    (n, 784) -> (n, 1, 28, 28)\n",
    "    '''\n",
    "    def __init__(self) :\n",
    "        super().__init__()\n",
    "\n",
    "    def forward(self, x) :\n",
    "        return x.reshape(-1, 1, 28, 28)\n",
    "\n",
    "net_faker = torch.nn.Sequential(\n",
    "    torch.nn.Linear(4, 64),\n",
    "    torch.nn.ReLU(),\n",
    "    torch.nn.Linear(64, 64),\n",
    "    torch.nn.ReLU(),\n",
    "    torch.nn.Linear(64, 784),\n",
    "    torch.nn.Sigmoid(),\n",
    "    FlattenToImage()\n",
    ")\n",
    "\n",
    "\n",
    "bce = torch.nn.BCELoss()\n",
    "optimizr_faker = torch.optim.Adam(net_faker.parameters())"
   ]
  },
  {
   "cell_type": "markdown",
   "id": "29aac5a8-bb31-47fb-b11d-17915423b067",
   "metadata": {},
   "source": [
    "`-` 페이커의 실력향상을 감상해보자"
   ]
  },
  {
   "cell_type": "code",
   "execution_count": 161,
   "id": "8cc3bc00-51cf-41c1-953a-99cfc4b90096",
   "metadata": {},
   "outputs": [],
   "source": [
    "##---##\n",
    "for epoc in range(1) :\n",
    "    ## step 1 - yhat : image generation\n",
    "    X_fake = net_faker(torch.randn((6131, 4)))\n",
    "\n",
    "    ## step 2\n",
    "    yhat_fake = net_police(X_fake)\n",
    "    loss_faker = bce(yhat_fake, y_real)\n",
    "\n",
    "    ## step 3\n",
    "    loss_faker.backward()\n",
    "\n",
    "    ## step 4\n",
    "    optimizr_faker.step()\n",
    "    optimizr_faker.zero_grad()"
   ]
  },
  {
   "cell_type": "code",
   "execution_count": 162,
   "id": "69865278-fd60-4280-9f3a-045869a872d7",
   "metadata": {},
   "outputs": [
    {
     "data": {
      "text/plain": [
       "<matplotlib.image.AxesImage at 0x7f48d3d9c370>"
      ]
     },
     "execution_count": 162,
     "metadata": {},
     "output_type": "execute_result"
    },
    {
     "data": {
      "image/png": "[encoded data removed]",
      "text/plain": [
       "<Figure size 640x480 with 1 Axes>"
      ]
     },
     "metadata": {},
     "output_type": "display_data"
    }
   ],
   "source": [
    "plt.imshow(X_fake[[0]].squeeze().data, cmap = \"gray\")"
   ]
  },
  {
   "cell_type": "markdown",
   "id": "d629a2e4-0f67-4f3f-b6b9-5e86b8420206",
   "metadata": {},
   "source": [
    "> 이게 진짜 되네"
   ]
  },
  {
   "cell_type": "markdown",
   "id": "de53b8df-eec9-4297-98a3-6ef1fa75e32b",
   "metadata": {},
   "source": [
    "### **G. 경쟁학습**"
   ]
  },
  {
   "cell_type": "markdown",
   "id": "46279c91-7a14-4d93-bfbf-9e713dcb79c0",
   "metadata": {},
   "source": [
    "> 두 적대적인 네트워크를 경쟁시키자!"
   ]
  },
  {
   "cell_type": "markdown",
   "id": "0d0a947b-e581-4e28-918d-b4c487201598",
   "metadata": {},
   "source": [
    "`-` 기본 선언"
   ]
  },
  {
   "cell_type": "code",
   "execution_count": 163,
   "id": "d583c810-b1d2-4c56-a5c1-d6042bb62fbd",
   "metadata": {},
   "outputs": [],
   "source": [
    "torch.manual_seed(43052)\n",
    "\n",
    "class FlattenToImage(torch.nn.Module) :\n",
    "    '''\n",
    "    (n, 784) -> (n, 1, 28, 28)\n",
    "    '''\n",
    "    def __init__(self) :\n",
    "        super().__init__()\n",
    "\n",
    "    def forward(self, x) :\n",
    "        return x.reshape(-1, 1, 28, 28)\n",
    "        \n",
    "\n",
    "## police network\n",
    "net_police = torch.nn.Sequential(\n",
    "    torch.nn.Flatten(),\n",
    "    torch.nn.Linear(784, 32),\n",
    "    torch.nn.ReLU(),\n",
    "    torch.nn.Linear(32, 1),\n",
    "    torch.nn.Sigmoid()\n",
    ")\n",
    "\n",
    "## faker network\n",
    "net_faker = torch.nn.Sequential(\n",
    "    torch.nn.Linear(4, 64),\n",
    "    torch.nn.ReLU(),\n",
    "    torch.nn.Linear(64, 64),\n",
    "    torch.nn.ReLU(),\n",
    "    torch.nn.Linear(64, 784),\n",
    "    torch.nn.Sigmoid(),\n",
    "    FlattenToImage()\n",
    ")\n",
    "\n",
    "\n",
    "bce = torch.nn.BCELoss()\n",
    "optimizr_police = torch.optim.Adam(net_police.parameters(), lr = 0.001, betas = (0.5, 0.999))\n",
    "optimizr_faker = torch.optim.Adam(net_faker.parameters(), lr = 0.0002, betas = (0.5, 0.999))"
   ]
  },
  {
   "cell_type": "markdown",
   "id": "fa9a3aa4-814e-4d4a-8f7b-e633dc3301e4",
   "metadata": {},
   "source": [
    "> 일단 좀더 천천히 업데이트 되게 함\n",
    ">\n",
    "> `betas`의 경우, `Adam`의 하이퍼파라미터 $\\to$ 미는 힘이라고 생각하면 됨. default : `betas = (0.9, 0.999)` -> 약간 최적화하는 공의 마찰력과 적용되는 중력이라고 생각하면 됨.\n",
    ">\n",
    "> 최적화하기가 조금 따다로워서 세심한 조정이 필요함"
   ]
  },
  {
   "cell_type": "code",
   "execution_count": 169,
   "id": "c100f76d-80c1-4efe-9ad1-3bfa6f3a0f02",
   "metadata": {},
   "outputs": [],
   "source": [
    "##---##\n",
    "for epoc in range(1000) :\n",
    "    ##--------police training 1 epoch--------##\n",
    "    ## step 1\n",
    "    X_fake = net_faker(torch.randn((6131, 4))).data ## 훈련 데이터\n",
    "\n",
    "    yhat_real = net_police(X_real) ## 생성 안된 이미지\n",
    "    yhat_fake = net_police(X_fake) ## 생성된 이미지\n",
    "\n",
    "    ## step 2\n",
    "    loss_police = bce(yhat_real, y_real) + bce(yhat_fake, y_fake) ## 경찰은 둘다 잘해야 됨\n",
    "\n",
    "    ## step 3\n",
    "    loss_police.backward()\n",
    "\n",
    "    ## step 4\n",
    "    optimizr_police.step()\n",
    "    optimizr_police.zero_grad()\n",
    "\n",
    "    ##----------faker training 1 epoch--------##\n",
    "    ## step 1\n",
    "    X_fake = net_faker(torch.randn((6131, 4))) ## 네트워크의 output -> 미분필요\n",
    "\n",
    "    ## step 2\n",
    "    yhat_fake = net_police(X_fake)\n",
    "    loss_faker = bce(yhat_fake, y_real) ## 페이커 입장에선 얘만 잘못 선별하면 됨\n",
    "\n",
    "    ## step 3\n",
    "    loss_faker.backward()\n",
    "\n",
    "    ## step 4\n",
    "    optimizr_faker.step()\n",
    "    optimizr_faker.zero_grad()\n"
   ]
  },
  {
   "cell_type": "code",
   "execution_count": 170,
   "id": "d9801dd6-6bed-4d58-b6f6-0543867e26a6",
   "metadata": {},
   "outputs": [
    {
     "data": {
      "text/plain": [
       "<matplotlib.image.AxesImage at 0x7f47d6551040>"
      ]
     },
     "execution_count": 170,
     "metadata": {},
     "output_type": "execute_result"
    },
    {
     "data": {
      "image/png": "[encoded data removed]",
      "text/plain": [
       "<Figure size 640x480 with 1 Axes>"
      ]
     },
     "metadata": {},
     "output_type": "display_data"
    }
   ],
   "source": [
    "plt.imshow(net_faker(torch.randn(1, 4)).squeeze().data, cmap = \"grey\")"
   ]
  },
  {
   "cell_type": "code",
   "execution_count": 181,
   "id": "72fd1c2e-d628-4ab4-ab90-bbaeee143ab3",
   "metadata": {},
   "outputs": [
    {
     "data": {
      "text/plain": [
       "tensor([[0.4687]], grad_fn=<SigmoidBackward0>)"
      ]
     },
     "execution_count": 181,
     "metadata": {},
     "output_type": "execute_result"
    }
   ],
   "source": [
    "net_police(net_faker(torch.randn(1, 4)))"
   ]
  },
  {
   "cell_type": "code",
   "execution_count": 186,
   "id": "a9577c08-6c2d-4d73-837f-e9569616b65f",
   "metadata": {},
   "outputs": [
    {
     "data": {
      "text/plain": [
       "tensor([[0.3831]], grad_fn=<SigmoidBackward0>)"
      ]
     },
     "execution_count": 186,
     "metadata": {},
     "output_type": "execute_result"
    }
   ],
   "source": [
    "net_police(X_real[[0]])"
   ]
  },
  {
   "cell_type": "markdown",
   "id": "5033fa2e-2f51-4933-a283-4d8eb436e1b3",
   "metadata": {},
   "source": [
    "> 그냥 `net_police`가 정신을 못차리네;;"
   ]
  },
  {
   "cell_type": "code",
   "execution_count": 188,
   "id": "3cb5ade9-8449-4afa-9ad9-6f450f961f8b",
   "metadata": {},
   "outputs": [
    {
     "data": {
      "image/png": "[encoded data removed]",
      "text/plain": [
       "<Figure size 1000x400 with 10 Axes>"
      ]
     },
     "metadata": {},
     "output_type": "display_data"
    }
   ],
   "source": [
    "fig, ax = plt.subplots(2, 5, figsize = (10, 4))\n",
    "\n",
    "k = 0\n",
    "\n",
    "for i in range(2) :\n",
    "    for j in range(5) :\n",
    "        ax[i][j].imshow(X_fake[[k]].data.squeeze(), cmap = \"grey\")\n",
    "        ax[i][j].set_title(f\"police out = {net_police(X_fake[[k]]).item():.4f}\")\n",
    "        k += 1\n",
    "\n",
    "fig.tight_layout()"
   ]
  },
  {
   "cell_type": "markdown",
   "id": "baf21224-0c52-4929-83cc-c8172f01c4fe",
   "metadata": {},
   "source": [
    "> 경찰이 잘 판단을 못함. 페이커가 경찰을 잘 속이고 있다...!"
   ]
  },
  {
   "cell_type": "markdown",
   "id": "35a8a63d-60b1-472a-b191-1fd313157b5c",
   "metadata": {},
   "source": [
    "## 5. 초기 GAN의 한계점"
   ]
  },
  {
   "cell_type": "markdown",
   "id": "ce8605f2-dfbf-43ed-a086-33da10299664",
   "metadata": {},
   "source": [
    "`-` 두 네크워크의 균형이 매우 중요함 - 균형이 깨지는 순간 학습은 실패함 -> 너무 성능이 좋은 식별자를 가져오면 학습을 못함... 경찰이 적당히 속아줘야 함...\n",
    "\n",
    "> `net_faker`는 `loss`를 줄이는 쪽으로 학습을 해야 하는데, 뭔짓을 해도 `loss`가 줄질 않으니 학습을 못해버림"
   ]
  },
  {
   "cell_type": "markdown",
   "id": "e241996c-0894-4312-a063-5687f2271810",
   "metadata": {},
   "source": [
    "`-` 생성되는 이미지의 다양성이 부족할 수 있음\n",
    "\n",
    "> 하나 만들었는데 엄청 잘 속였네? -> `loss` 매우 낮음 -> 얘랑 비슷한 모양을 계속해서 찍어냄..."
   ]
  },
  {
   "cell_type": "markdown",
   "id": "bf2c562e-708d-4291-ba87-23bc368f0522",
   "metadata": {},
   "source": [
    "**생성모형에서의 오버피팅**...인줄 알았지만 이런 고질적인 문제를 해결할 수 있는 방법이 나옴"
   ]
  }
 ],
 "metadata": {
  "kernelspec": {
   "display_name": "Python 3 (ipykernel)",
   "language": "python",
   "name": "python3"
  },
  "language_info": {
   "codemirror_mode": {
    "name": "ipython",
    "version": 3
   },
   "file_extension": ".py",
   "mimetype": "text/x-python",
   "name": "python",
   "nbconvert_exporter": "python",
   "pygments_lexer": "ipython3",
   "version": "3.9.18"
  }
 },
 "nbformat": 4,
 "nbformat_minor": 5
}
