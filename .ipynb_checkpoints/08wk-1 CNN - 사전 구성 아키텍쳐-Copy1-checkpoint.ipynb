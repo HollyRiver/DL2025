{
 "cells": [
  {
   "cell_type": "markdown",
   "id": "9bac18bf",
   "metadata": {},
   "source": [
    "# 08wk-1: (합성곱신경망) – MNIST, CIFAR10, XAI란?"
   ]
  },
  {
   "cell_type": "markdown",
   "id": "ff267511-cf16-4c2d-99ad-c7fdada0cf3f",
   "metadata": {},
   "source": [
    "다음주 대면수업 없음 ㅇㅇ"
   ]
  },
  {
   "cell_type": "markdown",
   "id": "2a20c324",
   "metadata": {},
   "source": [
    "## 1. Imports"
   ]
  },
  {
   "cell_type": "code",
   "execution_count": 1,
   "id": "6caaef90",
   "metadata": {},
   "outputs": [],
   "source": [
    "import torch\n",
    "import matplotlib.pyplot as plt\n",
    "import torchvision"
   ]
  },
  {
   "cell_type": "code",
   "execution_count": 2,
   "id": "611fd427-c549-468d-838c-8329d96a9f9e",
   "metadata": {},
   "outputs": [],
   "source": [
    "plt.rcParams['figure.figsize'] = (4.5, 3.0)"
   ]
  },
  {
   "cell_type": "markdown",
   "id": "d77e86b8",
   "metadata": {},
   "source": [
    "## 2. 주요 코드 등"
   ]
  },
  {
   "cell_type": "markdown",
   "id": "d34d6e44-ed26-44e3-bfa4-0c1128f0c3e9",
   "metadata": {},
   "source": [
    "`-` 알렉스넷 아키텍쳐\n",
    "\n",
    "* Conv : kernel_size = 11, stride = 4\n",
    "> 먼저 러프하게 보고 싶음 : 처음엔 큰 이미지를 대충대충 보고 싶음\n",
    "\n",
    "* Pool : kernel_size = 3, stride = 2\n",
    "> 처음엔 요약하고, 나중엔 요약하지 않고 싶음\n",
    "\n",
    "* Conv : kernel_size = 3\n",
    "> 조금 세밀하게 보고 싶음\n",
    "\n",
    "* 마지막 Pool\n",
    "> Flatten하기 직전이고, 데이터가 좀 많은 것 같아서 줄여줌\n",
    "\n",
    "* 신경망 설계 부분\n",
    "> ReLU : 1d part에서 표현력을 좀 더 얻어내고 싶다.\n",
    ">\n",
    "> 요약하고 싶었으면 Linear 한층만 받아도 충분했겠죠"
   ]
  },
  {
   "cell_type": "markdown",
   "id": "45259f23-1874-4c3a-be97-c1b715273c42",
   "metadata": {},
   "source": [
    "`-` Pytorch\n",
    "\n",
    "```Python\n",
    "## 파이토치는 y가 정수형이면 알아서 범주형으로 원-핫 인코딩을 수행함\n",
    "torch.cuda.empty_cache() ## GPU 메모리 초기화\n",
    "```"
   ]
  },
  {
   "cell_type": "markdown",
   "id": "48b76f9a-0cd6-4bea-aa1e-bc1d4719ebde",
   "metadata": {},
   "source": [
    "`-` 사전구성 아키텍쳐\n",
    "\n",
    "```Python\n",
    "net = torchvision.models.resnet18(pretrained = True) ## 학습된 가중치까지 같이 가져옴\n",
    "net.fc = torch.nn.Linear(512, 10) ## 레이블의 개수. not iterable. 딕셔너리나 텐서처럼 불러와야 하는듯\n",
    "```"
   ]
  },
  {
   "cell_type": "markdown",
   "id": "329cd8d3-2717-4812-8a67-d23a016f2517",
   "metadata": {},
   "source": [
    "## 3. MNIST"
   ]
  },
  {
   "cell_type": "markdown",
   "id": "9d601f91-0a6a-47b3-887a-26ac6685542a",
   "metadata": {},
   "source": [
    "`#-#` 지난 시간 복습...\n",
    "\n",
    "* CNN\n",
    "\n",
    "> `net = 2d -> 1d`\n",
    ">\n",
    "> (linr -> ReLU) : 선형변환 -> 비선형변환\n",
    ">\n",
    "> (conv -> ReLU -> MP) : 선형변환(행렬곱이니까...) -> 비선형변환 -> 비선형변환\n",
    ">\n",
    "> > conv는 특징을 더 다양하게 하기 위한 선형 변환 - conv만 더 많이 취한다고 해서 표현력이 좋아지는 게 아님\n",
    "> >\n",
    "> > ReLU는 특징을 더 다양하게 하기 위한 비선형 변환\n",
    "> >\n",
    "> > MP는 특징을 더 단순하게 키우기 위한 비선형 변환 -> 요약을 하고 싶은 건데 스트라이딩해서 누를 필요 없음\n",
    "> \n",
    "> 아키텍쳐만 보고도 왜 이렇게 레이어를 잡았는지 파악할 수 있어야 함"
   ]
  },
  {
   "cell_type": "markdown",
   "id": "e0fa4efd-b578-4327-9ab8-e4b6080b57d6",
   "metadata": {},
   "source": [
    "`-` 데이터"
   ]
  },
  {
   "cell_type": "code",
   "execution_count": 3,
   "id": "244f0167-4d0b-473a-a12c-cc50da857f62",
   "metadata": {},
   "outputs": [],
   "source": [
    "train_dataset = torchvision.datasets.MNIST(root='./data', train=True, download=True,transform=torchvision.transforms.ToTensor())\n",
    "test_dataset = torchvision.datasets.MNIST(root='./data', train=False, download=True,transform=torchvision.transforms.ToTensor())\n",
    "X,y = next(iter(torch.utils.data.DataLoader(train_dataset,batch_size=6000,shuffle=True)))\n",
    "XX,yy = next(iter(torch.utils.data.DataLoader(train_dataset,batch_size=1000,shuffle=True)))"
   ]
  },
  {
   "cell_type": "code",
   "execution_count": 6,
   "id": "9008b3d6-1ad5-4da1-bbbe-6e200fe61fa6",
   "metadata": {},
   "outputs": [
    {
     "data": {
      "text/plain": [
       "(torch.Size([6000, 1, 28, 28]), torch.Size([6000]))"
      ]
     },
     "execution_count": 6,
     "metadata": {},
     "output_type": "execute_result"
    }
   ],
   "source": [
    "X.shape, y.shape ## 6000장의 흑백 이미지"
   ]
  },
  {
   "cell_type": "code",
   "execution_count": 8,
   "id": "0871bb59-5924-4043-96df-35a420e01e72",
   "metadata": {},
   "outputs": [
    {
     "data": {
      "text/plain": [
       "(torch.Size([1000, 1, 28, 28]), torch.Size([1000]))"
      ]
     },
     "execution_count": 8,
     "metadata": {},
     "output_type": "execute_result"
    }
   ],
   "source": [
    "XX.shape, yy.shape"
   ]
  },
  {
   "cell_type": "code",
   "execution_count": 10,
   "id": "7bacbc65-3bf5-4442-8174-f6d6370fde35",
   "metadata": {},
   "outputs": [
    {
     "data": {
      "text/plain": [
       "tensor([7, 6, 6,  ..., 9, 6, 1])"
      ]
     },
     "execution_count": 10,
     "metadata": {},
     "output_type": "execute_result"
    }
   ],
   "source": [
    "y ## one-hot encoding이 필요함"
   ]
  },
  {
   "cell_type": "markdown",
   "id": "fbfcab20-6233-434e-86e3-154bed894e87",
   "metadata": {},
   "source": [
    "> one-hot encoding해야 하네? -> 아님\n",
    ">\n",
    "> 파이토치는 정수형 자료를 자동으로 범주형으로 인식, 알아서 원-핫 인코딩 해줌"
   ]
  },
  {
   "cell_type": "code",
   "execution_count": 19,
   "id": "e4c6a907-add2-4827-945c-939e71e3f5ff",
   "metadata": {},
   "outputs": [
    {
     "data": {
      "text/plain": [
       "torch.Size([6000, 3200])"
      ]
     },
     "execution_count": 19,
     "metadata": {},
     "output_type": "execute_result"
    }
   ],
   "source": [
    "net(X).shape"
   ]
  },
  {
   "cell_type": "code",
   "execution_count": 26,
   "id": "dffb74f7-7a11-455c-9fb6-6fa74509fd39",
   "metadata": {},
   "outputs": [],
   "source": [
    "net = torch.nn.Sequential(\n",
    "    torch.nn.Conv2d(in_channels = 1, out_channels = 32, kernel_size = 5), ## 선형 - (n, 32, 24, 24)\n",
    "    torch.nn.ReLU(), ## 비선형\n",
    "    torch.nn.MaxPool2d(kernel_size = 2), ## 비선형 - (n, 32, ???, ???)\n",
    "    ##---레이어 추가---##\n",
    "    torch.nn.Conv2d(in_channels = 32, out_channels = 32, kernel_size = 3), ## 위보다 부분적으로 집중해서 보겠다\n",
    "    torch.nn.ReLU(),\n",
    "    # torch.nn.MaxPool2d(kernel_size = 2), ## 이미 위에서 충분히 요약된 것 같은데, 또 줄이긴 싫다\n",
    "    torch.nn.Flatten(),\n",
    "    torch.nn.Linear(3200, 10)\n",
    ").to(\"cuda:0\")\n",
    "\n",
    "loss_fn = torch.nn.CrossEntropyLoss()\n",
    "optimizr = torch.optim.Adam(net.parameters())\n",
    "\n",
    "\n",
    "#---#\n",
    "# ds = torch.utils.data.TensorDataset(X)\n",
    "# dl = torch.utils.data.DataLoader(ds, batch_size = 1024)\n",
    "\n",
    "X.to(\"cuda:0\")\n",
    "y.to(\"cuda:0\")\n",
    "\n",
    "for epoc in range(100) :\n",
    "    netout = net(X) ## yhat 자체 아님, 로짓임\n",
    "    loss = loss_fn(netout, y)\n",
    "    loss.backward()\n",
    "    optimizr.step()\n",
    "    optimizr.zero_grad()"
   ]
  },
  {
   "cell_type": "code",
   "execution_count": 27,
   "id": "b6b6279e-dc74-4275-834b-56b58af872cc",
   "metadata": {},
   "outputs": [
    {
     "data": {
      "text/plain": [
       "tensor(0.9742, device='cuda:0')"
      ]
     },
     "execution_count": 27,
     "metadata": {},
     "output_type": "execute_result"
    }
   ],
   "source": [
    "(net(X).argmax(axis=1) == y).float().mean()"
   ]
  },
  {
   "cell_type": "code",
   "execution_count": 28,
   "id": "808e662f-bd20-4c2e-ba2f-c41d99b50813",
   "metadata": {},
   "outputs": [
    {
     "data": {
      "text/plain": [
       "tensor(0.9740, device='cuda:0')"
      ]
     },
     "execution_count": 28,
     "metadata": {},
     "output_type": "execute_result"
    }
   ],
   "source": [
    "(net(XX).argmax(axis=1) == yy).float().mean()"
   ]
  },
  {
   "cell_type": "markdown",
   "id": "0c9dc7f0-d2d5-4bdc-8087-198360cbf0ad",
   "metadata": {},
   "source": [
    "> 개잘함"
   ]
  },
  {
   "cell_type": "code",
   "execution_count": 29,
   "id": "c70d521e-6d05-496b-9eef-939957be6e9d",
   "metadata": {},
   "outputs": [],
   "source": [
    "torch.cuda.empty_cache() ## 캐시 초기화"
   ]
  },
  {
   "cell_type": "markdown",
   "id": "ff852613-3640-424c-bea8-4af8bd040dba",
   "metadata": {},
   "source": [
    "## 4. CIFAR10"
   ]
  },
  {
   "cell_type": "code",
   "execution_count": 30,
   "id": "a3cbff1d-fd82-4749-920a-84c99dff82a9",
   "metadata": {},
   "outputs": [
    {
     "name": "stderr",
     "output_type": "stream",
     "text": [
      "100.0%\n"
     ]
    }
   ],
   "source": [
    "train_dataset = torchvision.datasets.CIFAR10(root='./data', train=True, download=True,transform=torchvision.transforms.ToTensor())\n",
    "test_dataset = torchvision.datasets.CIFAR10(root='./data', train=False, download=True,transform=torchvision.transforms.ToTensor())\n",
    "X,y = next(iter(torch.utils.data.DataLoader(train_dataset,batch_size=10000,shuffle=True)))\n",
    "XX,yy = next(iter(torch.utils.data.DataLoader(train_dataset,batch_size=2000,shuffle=True)))"
   ]
  },
  {
   "cell_type": "markdown",
   "id": "11a19381-00bf-4400-9d27-8d94bbffcae0",
   "metadata": {},
   "source": [
    "### A. 직접 설계"
   ]
  },
  {
   "cell_type": "code",
   "execution_count": 33,
   "id": "2f06bf48-15e5-4444-88e0-522df25e41fd",
   "metadata": {},
   "outputs": [
    {
     "data": {
      "text/plain": [
       "<matplotlib.image.AxesImage at 0x7f4b2ac69bb0>"
      ]
     },
     "execution_count": 33,
     "metadata": {},
     "output_type": "execute_result"
    },
    {
     "data": {
      "image/png": "[encoded data removed]",
      "text/plain": [
       "<Figure size 450x300 with 1 Axes>"
      ]
     },
     "metadata": {},
     "output_type": "display_data"
    }
   ],
   "source": [
    "plt.imshow(torch.einsum(\"chw -> hwc\", X[0]))"
   ]
  },
  {
   "cell_type": "markdown",
   "id": "b2b24a1a-9ada-48ea-91be-a33d9e172e94",
   "metadata": {},
   "source": [
    "> 컬러 이미지"
   ]
  },
  {
   "cell_type": "code",
   "execution_count": 46,
   "id": "9b343ac3-d8d7-4f93-a150-3ed93dfe2891",
   "metadata": {},
   "outputs": [],
   "source": [
    "net = torch.nn.Sequential(\n",
    "    torch.nn.Conv2d(in_channels = 3, out_channels = 32, kernel_size = 5), ## 선형 - (n, 32, 24, 24)\n",
    "    torch.nn.ReLU(), ## 비선형\n",
    "    torch.nn.MaxPool2d(kernel_size = 2), ## 비선형 - (n, 32, ???, ???)\n",
    "    ##---레이어 추가---##\n",
    "    torch.nn.Conv2d(in_channels = 32, out_channels = 32, kernel_size = 3), ## 위보다 부분적으로 집중해서 보겠다\n",
    "    torch.nn.ReLU(),\n",
    "    # torch.nn.MaxPool2d(kernel_size = 2), ## 이미 위에서 충분히 요약된 것 같은데, 또 줄이긴 싫다\n",
    "    torch.nn.Flatten(),\n",
    "    torch.nn.Linear(4608, 10)\n",
    ").to(\"cuda:0\")\n",
    "\n",
    "loss_fn = torch.nn.CrossEntropyLoss()\n",
    "optimizr = torch.optim.Adam(net.parameters())\n",
    "\n",
    "\n",
    "#---#\n",
    "# ds = torch.utils.data.TensorDataset(X)\n",
    "# dl = torch.utils.data.DataLoader(ds, batch_size = 1024)\n",
    "\n",
    "X = X.to(\"cuda:0\")\n",
    "y = y.to(\"cuda:0\")\n",
    "XX = XX.to(\"cuda:0\")\n",
    "yy = yy.to(\"cuda:0\")\n",
    "\n",
    "for epoc in range(100) :\n",
    "    netout = net(X) ## yhat 자체 아님, 로짓임\n",
    "    loss = loss_fn(netout, y)\n",
    "    loss.backward()\n",
    "    optimizr.step()\n",
    "    optimizr.zero_grad()"
   ]
  },
  {
   "cell_type": "code",
   "execution_count": 47,
   "id": "af2f7550-5588-4cd9-97a4-2f86e09ab02f",
   "metadata": {},
   "outputs": [
    {
     "data": {
      "text/plain": [
       "tensor(0.5130, device='cuda:0')"
      ]
     },
     "execution_count": 47,
     "metadata": {},
     "output_type": "execute_result"
    }
   ],
   "source": [
    "(net(X).argmax(axis=1) == y).float().mean()"
   ]
  },
  {
   "cell_type": "code",
   "execution_count": 48,
   "id": "92789e74-738c-4381-8262-84aee93b1874",
   "metadata": {},
   "outputs": [
    {
     "data": {
      "text/plain": [
       "tensor(0.4765, device='cuda:0')"
      ]
     },
     "execution_count": 48,
     "metadata": {},
     "output_type": "execute_result"
    }
   ],
   "source": [
    "(net(XX).argmax(axis=1) == yy).float().mean()"
   ]
  },
  {
   "cell_type": "markdown",
   "id": "5a0e1ecc-09c3-4e81-8250-2e00496ce752",
   "metadata": {},
   "source": [
    "> 표현력이 좀 모자란 것 같음"
   ]
  },
  {
   "cell_type": "code",
   "execution_count": 49,
   "id": "aaaa01a7-5ff0-4de1-bfc1-73bcc090347f",
   "metadata": {},
   "outputs": [],
   "source": [
    "torch.cuda.empty_cache()"
   ]
  },
  {
   "cell_type": "markdown",
   "id": "395b572e-cd69-4403-b6c1-224be891c9a9",
   "metadata": {},
   "source": [
    "### B. 알렉스넷?\n",
    "\n",
    "![](https://upload.wikimedia.org/wikipedia/commons/thumb/c/cc/Comparison_image_neural_networks.svg/960px-Comparison_image_neural_networks.svg.png)"
   ]
  },
  {
   "cell_type": "markdown",
   "id": "095894f3-72aa-42da-b33a-87c753bf6eec",
   "metadata": {},
   "source": [
    "* Conv : kernel_size = 11, stride = 4\n",
    "> 먼저 러프하게 보고 싶음 : 처음엔 큰 이미지를 대충대충 보고 싶음\n",
    "\n",
    "* Pool : kernel_size = 3, stride = 2\n",
    "> 처음엔 요약하고, 나중엔 요약하지 않고 싶음\n",
    "\n",
    "* Conv : kernel_size = 3\n",
    "> 조금 세밀하게 보고 싶음\n",
    "\n",
    "* 마지막 Pool\n",
    "> Flatten하기 직전이고, 데이터가 좀 많은 것 같아서 줄여줌\n",
    "\n",
    "* 신경망 설계 부분\n",
    "> ReLU : 1d part에서 표현력을 좀 더 얻어내고 싶다.\n",
    ">\n",
    "> 요약하고 싶었으면 Linear 한층만 받아도 충분했겠죠"
   ]
  },
  {
   "cell_type": "code",
   "execution_count": 53,
   "id": "ccb5ac7a-7d81-4d69-b2d0-d118a56c5e0a",
   "metadata": {},
   "outputs": [
    {
     "data": {
      "text/plain": [
       "torch.Size([1, 3, 224, 224])"
      ]
     },
     "execution_count": 53,
     "metadata": {},
     "output_type": "execute_result"
    }
   ],
   "source": [
    "img = torch.randn(3, 224, 224).reshape(1, 3, 224, 224)\n",
    "img.shape"
   ]
  },
  {
   "cell_type": "code",
   "execution_count": 54,
   "id": "5d42512a-b816-4d98-9d4c-f4474e843470",
   "metadata": {},
   "outputs": [],
   "source": [
    "net = torch.nn.Sequential(\n",
    "    torch.nn.Conv2d(3, 96, 11, 4), ## 54x54 이미지, 96개 채널(96 유형의 이?미지)\n",
    "    torch.nn.ReLU(),\n",
    "    torch.nn.MaxPool2d(kernel_size = 3, stride = 2), ## 26x26 이미지\n",
    "    torch.nn.Conv2d(96, 256, 5, padding = 2), ## 외곽 공간에 값이 있다고 치면서 컨볼루션 -> 이미지 크기 고정을 위함\n",
    "    torch.nn.ReLU(),\n",
    "    torch.nn.MaxPool2d(kernel_size = 3, stride = 2), ## 12x12 이미지\n",
    "    torch.nn.Conv2d(256, 384, kernel_size = 3, padding = 1),\n",
    "    torch.nn.ReLU(),\n",
    "    torch.nn.Conv2d(384, 384, kernel_size = 3, padding = 1),\n",
    "    torch.nn.ReLU(),\n",
    "    torch.nn.Conv2d(384, 256, kernel_size = 3, padding = 1),\n",
    "    torch.nn.ReLU(),\n",
    "    torch.nn.MaxPool2d(kernel_size = 3, stride = 2),\n",
    "    torch.nn.Flatten(),\n",
    "    torch.nn.Linear(6400, 4096),\n",
    "    torch.nn.ReLU(),\n",
    "    torch.nn.dropout(0.5),\n",
    "    torch.nn.Linear(4096, 4096),\n",
    "    torch.nn.ReLU(),\n",
    "    torch.nn.dropout(0.5),\n",
    "    torch.nn.Linear(4096, 1000) ## output\n",
    ")"
   ]
  },
  {
   "cell_type": "code",
   "execution_count": 56,
   "id": "dca4bc99-5624-40fe-97a7-3134f839d763",
   "metadata": {},
   "outputs": [
    {
     "data": {
      "text/plain": [
       "torch.Size([1, 1000])"
      ]
     },
     "execution_count": 56,
     "metadata": {},
     "output_type": "execute_result"
    }
   ],
   "source": [
    "net(img).shape"
   ]
  },
  {
   "cell_type": "markdown",
   "id": "9d261642-94e8-4049-8bd7-01a300bb9893",
   "metadata": {},
   "source": [
    "### C. 알렉스넷으로 ImageNet 적합"
   ]
  },
  {
   "cell_type": "code",
   "execution_count": 57,
   "id": "858fba61-5d09-4b0e-b571-202e236f11e5",
   "metadata": {},
   "outputs": [],
   "source": [
    "net[-1] = torch.nn.Linear(4096, 10) ## 1000 클래스가 아니라 10 클래스임..."
   ]
  },
  {
   "cell_type": "code",
   "execution_count": 63,
   "id": "a08cd588-ef19-44ca-926c-9daba0305209",
   "metadata": {},
   "outputs": [],
   "source": [
    "# img = torch.randn(1,3,32,32)\n",
    "# net(img)"
   ]
  },
  {
   "cell_type": "code",
   "execution_count": 61,
   "id": "6c09f792-382c-4bf6-9b8e-4eacd0f00fc1",
   "metadata": {},
   "outputs": [
    {
     "data": {
      "text/plain": [
       "torch.Size([1, 256, 2, 2])"
      ]
     },
     "execution_count": 61,
     "metadata": {},
     "output_type": "execute_result"
    }
   ],
   "source": [
    "net[:5](img).shape"
   ]
  },
  {
   "cell_type": "code",
   "execution_count": 64,
   "id": "6f9a4754-38ba-4e53-8f72-61cdb1c89108",
   "metadata": {},
   "outputs": [
    {
     "data": {
      "text/plain": [
       "MaxPool2d(kernel_size=(3, 3), stride=2, padding=0, dilation=1, ceil_mode=False)"
      ]
     },
     "execution_count": 64,
     "metadata": {},
     "output_type": "execute_result"
    }
   ],
   "source": [
    "net[5]"
   ]
  },
  {
   "cell_type": "markdown",
   "id": "8f33cc09-6255-415d-ba4f-744889567000",
   "metadata": {},
   "source": [
    "안됨 ㅠ"
   ]
  },
  {
   "cell_type": "markdown",
   "id": "da8d6456-e1bb-48d0-b1bf-da2c66d59c14",
   "metadata": {},
   "source": [
    "> 채널은 256, 이미지 크기는 2x2인데 MP 윈도우 사이즈는 3이여서 찡김...\n",
    ">\n",
    "> 이렇게 이미지 크기가 좀 차이만 나도 네트워크 다시 짜야되나...???"
   ]
  },
  {
   "cell_type": "markdown",
   "id": "40d7f575-3ead-4ae3-b0ba-c7f82100f712",
   "metadata": {},
   "source": [
    "### D. renset18\n",
    "\n",
    "`-` res: <https://arxiv.org/pdf/1512.03385>"
   ]
  },
  {
   "cell_type": "code",
   "execution_count": 67,
   "id": "4334ce58-289a-4a11-9991-9c066930f2ab",
   "metadata": {},
   "outputs": [
    {
     "data": {
      "text/plain": [
       "ResNet(\n",
       "  (conv1): Conv2d(3, 64, kernel_size=(7, 7), stride=(2, 2), padding=(3, 3), bias=False)\n",
       "  (bn1): BatchNorm2d(64, eps=1e-05, momentum=0.1, affine=True, track_running_stats=True)\n",
       "  (relu): ReLU(inplace=True)\n",
       "  (maxpool): MaxPool2d(kernel_size=3, stride=2, padding=1, dilation=1, ceil_mode=False)\n",
       "  (layer1): Sequential(\n",
       "    (0): BasicBlock(\n",
       "      (conv1): Conv2d(64, 64, kernel_size=(3, 3), stride=(1, 1), padding=(1, 1), bias=False)\n",
       "      (bn1): BatchNorm2d(64, eps=1e-05, momentum=0.1, affine=True, track_running_stats=True)\n",
       "      (relu): ReLU(inplace=True)\n",
       "      (conv2): Conv2d(64, 64, kernel_size=(3, 3), stride=(1, 1), padding=(1, 1), bias=False)\n",
       "      (bn2): BatchNorm2d(64, eps=1e-05, momentum=0.1, affine=True, track_running_stats=True)\n",
       "    )\n",
       "    (1): BasicBlock(\n",
       "      (conv1): Conv2d(64, 64, kernel_size=(3, 3), stride=(1, 1), padding=(1, 1), bias=False)\n",
       "      (bn1): BatchNorm2d(64, eps=1e-05, momentum=0.1, affine=True, track_running_stats=True)\n",
       "      (relu): ReLU(inplace=True)\n",
       "      (conv2): Conv2d(64, 64, kernel_size=(3, 3), stride=(1, 1), padding=(1, 1), bias=False)\n",
       "      (bn2): BatchNorm2d(64, eps=1e-05, momentum=0.1, affine=True, track_running_stats=True)\n",
       "    )\n",
       "  )\n",
       "  (layer2): Sequential(\n",
       "    (0): BasicBlock(\n",
       "      (conv1): Conv2d(64, 128, kernel_size=(3, 3), stride=(2, 2), padding=(1, 1), bias=False)\n",
       "      (bn1): BatchNorm2d(128, eps=1e-05, momentum=0.1, affine=True, track_running_stats=True)\n",
       "      (relu): ReLU(inplace=True)\n",
       "      (conv2): Conv2d(128, 128, kernel_size=(3, 3), stride=(1, 1), padding=(1, 1), bias=False)\n",
       "      (bn2): BatchNorm2d(128, eps=1e-05, momentum=0.1, affine=True, track_running_stats=True)\n",
       "      (downsample): Sequential(\n",
       "        (0): Conv2d(64, 128, kernel_size=(1, 1), stride=(2, 2), bias=False)\n",
       "        (1): BatchNorm2d(128, eps=1e-05, momentum=0.1, affine=True, track_running_stats=True)\n",
       "      )\n",
       "    )\n",
       "    (1): BasicBlock(\n",
       "      (conv1): Conv2d(128, 128, kernel_size=(3, 3), stride=(1, 1), padding=(1, 1), bias=False)\n",
       "      (bn1): BatchNorm2d(128, eps=1e-05, momentum=0.1, affine=True, track_running_stats=True)\n",
       "      (relu): ReLU(inplace=True)\n",
       "      (conv2): Conv2d(128, 128, kernel_size=(3, 3), stride=(1, 1), padding=(1, 1), bias=False)\n",
       "      (bn2): BatchNorm2d(128, eps=1e-05, momentum=0.1, affine=True, track_running_stats=True)\n",
       "    )\n",
       "  )\n",
       "  (layer3): Sequential(\n",
       "    (0): BasicBlock(\n",
       "      (conv1): Conv2d(128, 256, kernel_size=(3, 3), stride=(2, 2), padding=(1, 1), bias=False)\n",
       "      (bn1): BatchNorm2d(256, eps=1e-05, momentum=0.1, affine=True, track_running_stats=True)\n",
       "      (relu): ReLU(inplace=True)\n",
       "      (conv2): Conv2d(256, 256, kernel_size=(3, 3), stride=(1, 1), padding=(1, 1), bias=False)\n",
       "      (bn2): BatchNorm2d(256, eps=1e-05, momentum=0.1, affine=True, track_running_stats=True)\n",
       "      (downsample): Sequential(\n",
       "        (0): Conv2d(128, 256, kernel_size=(1, 1), stride=(2, 2), bias=False)\n",
       "        (1): BatchNorm2d(256, eps=1e-05, momentum=0.1, affine=True, track_running_stats=True)\n",
       "      )\n",
       "    )\n",
       "    (1): BasicBlock(\n",
       "      (conv1): Conv2d(256, 256, kernel_size=(3, 3), stride=(1, 1), padding=(1, 1), bias=False)\n",
       "      (bn1): BatchNorm2d(256, eps=1e-05, momentum=0.1, affine=True, track_running_stats=True)\n",
       "      (relu): ReLU(inplace=True)\n",
       "      (conv2): Conv2d(256, 256, kernel_size=(3, 3), stride=(1, 1), padding=(1, 1), bias=False)\n",
       "      (bn2): BatchNorm2d(256, eps=1e-05, momentum=0.1, affine=True, track_running_stats=True)\n",
       "    )\n",
       "  )\n",
       "  (layer4): Sequential(\n",
       "    (0): BasicBlock(\n",
       "      (conv1): Conv2d(256, 512, kernel_size=(3, 3), stride=(2, 2), padding=(1, 1), bias=False)\n",
       "      (bn1): BatchNorm2d(512, eps=1e-05, momentum=0.1, affine=True, track_running_stats=True)\n",
       "      (relu): ReLU(inplace=True)\n",
       "      (conv2): Conv2d(512, 512, kernel_size=(3, 3), stride=(1, 1), padding=(1, 1), bias=False)\n",
       "      (bn2): BatchNorm2d(512, eps=1e-05, momentum=0.1, affine=True, track_running_stats=True)\n",
       "      (downsample): Sequential(\n",
       "        (0): Conv2d(256, 512, kernel_size=(1, 1), stride=(2, 2), bias=False)\n",
       "        (1): BatchNorm2d(512, eps=1e-05, momentum=0.1, affine=True, track_running_stats=True)\n",
       "      )\n",
       "    )\n",
       "    (1): BasicBlock(\n",
       "      (conv1): Conv2d(512, 512, kernel_size=(3, 3), stride=(1, 1), padding=(1, 1), bias=False)\n",
       "      (bn1): BatchNorm2d(512, eps=1e-05, momentum=0.1, affine=True, track_running_stats=True)\n",
       "      (relu): ReLU(inplace=True)\n",
       "      (conv2): Conv2d(512, 512, kernel_size=(3, 3), stride=(1, 1), padding=(1, 1), bias=False)\n",
       "      (bn2): BatchNorm2d(512, eps=1e-05, momentum=0.1, affine=True, track_running_stats=True)\n",
       "    )\n",
       "  )\n",
       "  (avgpool): AdaptiveAvgPool2d(output_size=(1, 1))\n",
       "  (fc): Linear(in_features=512, out_features=1000, bias=True)\n",
       ")"
      ]
     },
     "execution_count": 67,
     "metadata": {},
     "output_type": "execute_result"
    }
   ],
   "source": [
    "net = torchvision.models.resnet18() ## 이미 설계된 아키텍쳐를 가져옴\n",
    "net"
   ]
  },
  {
   "cell_type": "markdown",
   "id": "f165db45-3fa2-444f-b5f1-0cff43ae89bd",
   "metadata": {},
   "source": [
    "> 마지막 `Linear()`부분만 좀 바꾸면 좋을 것 같음"
   ]
  },
  {
   "cell_type": "code",
   "execution_count": 68,
   "id": "9091b9d0-434b-4889-ae40-7a6ad9a3a530",
   "metadata": {},
   "outputs": [
    {
     "ename": "TypeError",
     "evalue": "'ResNet' object is not subscriptable",
     "output_type": "error",
     "traceback": [
      "\u001b[0;31m---------------------------------------------------------------------------\u001b[0m",
      "\u001b[0;31mTypeError\u001b[0m                                 Traceback (most recent call last)",
      "Cell \u001b[0;32mIn[68], line 1\u001b[0m\n\u001b[0;32m----> 1\u001b[0m \u001b[43mnet\u001b[49m\u001b[43m[\u001b[49m\u001b[38;5;241;43m-\u001b[39;49m\u001b[38;5;241;43m1\u001b[39;49m\u001b[43m]\u001b[49m\n",
      "\u001b[0;31mTypeError\u001b[0m: 'ResNet' object is not subscriptable"
     ]
    }
   ],
   "source": [
    "net[-1] ## sequential이 아님. not subscriptable"
   ]
  },
  {
   "cell_type": "code",
   "execution_count": 70,
   "id": "8d31c69c-4133-453e-b407-359c96cb433b",
   "metadata": {},
   "outputs": [],
   "source": [
    "net.fc = torch.nn.Linear(512, 10)"
   ]
  },
  {
   "cell_type": "code",
   "execution_count": 71,
   "id": "03c5eb2e-3b79-42ef-bae8-1e6191d12cf1",
   "metadata": {},
   "outputs": [],
   "source": [
    "loss_fn = torch.nn.CrossEntropyLoss()\n",
    "optimizr = torch.optim.Adam(net.parameters())\n",
    "#---#\n",
    "net.to(\"cuda:0\")\n",
    "X = X.to(\"cuda:0\")\n",
    "y = y.to(\"cuda:0\")\n",
    "XX = XX.to(\"cuda:0\")\n",
    "yy = yy.to(\"cuda:0\")\n",
    "#---#\n",
    "for epoc in range(500):\n",
    "    #1\n",
    "    netout = net(X)\n",
    "    #2\n",
    "    loss = loss_fn(netout,y)\n",
    "    #3\n",
    "    loss.backward()\n",
    "    #4 \n",
    "    optimizr.step()\n",
    "    optimizr.zero_grad()"
   ]
  },
  {
   "cell_type": "code",
   "execution_count": null,
   "id": "a4034f70-fd38-4fef-927a-12fcd69540f9",
   "metadata": {},
   "outputs": [],
   "source": [
    "net.eval()"
   ]
  },
  {
   "cell_type": "code",
   "execution_count": 72,
   "id": "aa702e60-9051-468d-8cec-0cd7c2fa95dd",
   "metadata": {},
   "outputs": [
    {
     "data": {
      "text/plain": [
       "tensor(1., device='cuda:0')"
      ]
     },
     "execution_count": 72,
     "metadata": {},
     "output_type": "execute_result"
    }
   ],
   "source": [
    "(net(X).argmax(axis=1) == y).float().mean()"
   ]
  },
  {
   "cell_type": "code",
   "execution_count": 73,
   "id": "b75f2150-dd81-4a73-b545-e79ec4e8a9c4",
   "metadata": {},
   "outputs": [
    {
     "data": {
      "text/plain": [
       "tensor(0.5940, device='cuda:0')"
      ]
     },
     "execution_count": 73,
     "metadata": {},
     "output_type": "execute_result"
    }
   ],
   "source": [
    "(net(XX).argmax(axis=1) == yy).float().mean()"
   ]
  },
  {
   "cell_type": "markdown",
   "id": "f59a5b79-c243-4205-9d75-5721a3dd54ec",
   "metadata": {},
   "source": [
    "> 일단 표현력은 충분히 잘 나옴. 이제 오버피팅만 해결하면 되겠구나!"
   ]
  },
  {
   "cell_type": "code",
   "execution_count": 74,
   "id": "24edee81-cb9e-4db7-9245-0da87ce0c684",
   "metadata": {},
   "outputs": [],
   "source": [
    "torch.cuda.empty_cache()"
   ]
  },
  {
   "cell_type": "markdown",
   "id": "540df54e-a418-4dd8-9d03-6a9deb346984",
   "metadata": {},
   "source": [
    "### E. resnet18, pretrained = True"
   ]
  },
  {
   "cell_type": "markdown",
   "id": "d9dec0cc-8cf0-4314-bc03-0e5be22a613c",
   "metadata": {},
   "source": [
    "> A를 잘하는 네트워크는 B도 잘할 것 같지 않아?"
   ]
  },
  {
   "cell_type": "code",
   "execution_count": 78,
   "id": "8cf8777a-94f0-4f39-998d-c44a27d26b67",
   "metadata": {},
   "outputs": [],
   "source": [
    "net = torchvision.models.resnet18(pretrained = True) ## 학습된 가중치까지 같이 가져옴\n",
    "net.fc = torch.nn.Linear(512, 10)"
   ]
  },
  {
   "cell_type": "code",
   "execution_count": 79,
   "id": "764cb68d-d0da-4340-88d1-b357c79e783a",
   "metadata": {},
   "outputs": [],
   "source": [
    "loss_fn = torch.nn.CrossEntropyLoss()\n",
    "optimizr = torch.optim.Adam(net.parameters())\n",
    "\n",
    "#---#\n",
    "net.to(\"cuda:0\")\n",
    "X = X.to(\"cuda:0\")\n",
    "y = y.to(\"cuda:0\")\n",
    "XX = XX.to(\"cuda:0\")\n",
    "yy = yy.to(\"cuda:0\")\n",
    "#---#\n",
    "for epoc in range(500):\n",
    "    #1\n",
    "    netout = net(X)\n",
    "    #2\n",
    "    loss = loss_fn(netout,y)\n",
    "    #3\n",
    "    loss.backward()\n",
    "    #4 \n",
    "    optimizr.step()\n",
    "    optimizr.zero_grad()"
   ]
  },
  {
   "cell_type": "code",
   "execution_count": null,
   "id": "50bb59f3-c766-40f4-90c5-5d2c63456d9b",
   "metadata": {},
   "outputs": [],
   "source": [
    "net.eval()"
   ]
  },
  {
   "cell_type": "code",
   "execution_count": 80,
   "id": "a47b5c65-7f74-453a-ba66-452e0b81b6f7",
   "metadata": {},
   "outputs": [
    {
     "data": {
      "text/plain": [
       "tensor(1., device='cuda:0')"
      ]
     },
     "execution_count": 80,
     "metadata": {},
     "output_type": "execute_result"
    }
   ],
   "source": [
    "(net(X).argmax(axis=1) == y).float().mean()"
   ]
  },
  {
   "cell_type": "code",
   "execution_count": 81,
   "id": "b1c8cb6b-6bb6-48f4-8b6f-36e9156421bb",
   "metadata": {},
   "outputs": [
    {
     "data": {
      "text/plain": [
       "tensor(0.8000, device='cuda:0')"
      ]
     },
     "execution_count": 81,
     "metadata": {},
     "output_type": "execute_result"
    }
   ],
   "source": [
    "(net(XX).argmax(axis=1) == yy).float().mean()"
   ]
  },
  {
   "cell_type": "code",
   "execution_count": null,
   "id": "3cf4ed81-1c83-4fc3-91a0-9176f8d4a910",
   "metadata": {},
   "outputs": [],
   "source": [
    "torch.cuda.empty_cache()"
   ]
  },
  {
   "cell_type": "markdown",
   "id": "4cff57d7-f170-4fb2-9c09-52032cde34a6",
   "metadata": {},
   "source": [
    "## 5. XAI (eXplainable AI)"
   ]
  },
  {
   "cell_type": "markdown",
   "id": "2a6750e2-ffa9-4d09-ad92-ace2fad32f41",
   "metadata": {},
   "source": [
    "<https://brunch.co.kr/@hvnpoet/140>"
   ]
  }
 ],
 "metadata": {
  "kernelspec": {
   "display_name": "Python 3 (ipykernel)",
   "language": "python",
   "name": "python3"
  },
  "language_info": {
   "codemirror_mode": {
    "name": "ipython",
    "version": 3
   },
   "file_extension": ".py",
   "mimetype": "text/x-python",
   "name": "python",
   "nbconvert_exporter": "python",
   "pygments_lexer": "ipython3",
   "version": "3.9.18"
  }
 },
 "nbformat": 4,
 "nbformat_minor": 5
}
