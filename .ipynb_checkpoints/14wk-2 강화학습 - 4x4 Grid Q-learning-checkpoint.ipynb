{
 "cells": [
  {
   "cell_type": "markdown",
   "id": "9bac18bf",
   "metadata": {},
   "source": [
    "# 14wk-2: (강화학습) – 4x4 Grid World 의 해법 (Q-learning)"
   ]
  },
  {
   "cell_type": "markdown",
   "id": "2a20c324",
   "metadata": {},
   "source": [
    "## 1. Imports"
   ]
  },
  {
   "cell_type": "code",
   "execution_count": 1,
   "id": "6caaef90",
   "metadata": {},
   "outputs": [],
   "source": [
    "import gymnasium as gym\n",
    "#---#\n",
    "import numpy as np\n",
    "import collections\n",
    "import matplotlib.pyplot as plt\n",
    "from matplotlib.animation import FuncAnimation\n",
    "import IPython"
   ]
  },
  {
   "cell_type": "markdown",
   "id": "d77e86b8",
   "metadata": {},
   "source": [
    "## 2. 주요 코드 등"
   ]
  },
  {
   "cell_type": "markdown",
   "id": "f7d37aed-8d03-49d6-a342-8f9e64c6ccdd",
   "metadata": {},
   "source": []
  },
  {
   "cell_type": "markdown",
   "id": "58e00b5d-e5e8-4172-87a4-b361e45a4aa1",
   "metadata": {},
   "source": [
    "## 3. `q_table`"
   ]
  },
  {
   "cell_type": "markdown",
   "id": "87f0529b-be12-48d9-8f83-b4734acbf23e",
   "metadata": {},
   "source": [
    "> `q[s1, s2, a]`는 상태 `(s1, s2)`에서 행동 `a`의 \"품질\"을 의미한다. -> 행동 자체를 함으로써 얻는 보상"
   ]
  },
  {
   "cell_type": "markdown",
   "id": "340fbcee-c769-4da9-8724-5c0481e5ac1c",
   "metadata": {},
   "source": [
    "`-` 직관적으로 푸는 방법\n",
    "\n",
    "![](https://github.com/guebin/DL2025/blob/main/posts/14wk-1-fig2.png?raw=true)\n",
    "\n",
    "\n",
    "> 있는 그대로 한 상황... 조금 구림"
   ]
  },
  {
   "cell_type": "markdown",
   "id": "ffa7befa-ed45-442a-a0a9-9db682c7223e",
   "metadata": {},
   "source": [
    "### **A. 미래보상**\n",
    "\n",
    "`-` 언뜻생각하면 4x4 문제에서 `q_table`은 아래와 같이 생각하는게\n",
    "합리적인듯 보인다.\n",
    "\n",
    "-   `q[s1,s2,a]` = 상태 (s1,s2)에서 행동 a를 했을 경우 얻게되는 보상의\n",
    "    평균\n",
    "-   $q(s,a) = \\mathbb{E}[R(s,a)]$\n",
    "\n",
    "그렇지만 아래와 같이 생각하는게 더 합리적이다.\n",
    "\n",
    "-   `q[s1,s2,a]` = 상태 (s1,s2)에서 행동 a를 했을 경우 얻게되는 보상의\n",
    "    평균 + 미래에 얻게되리라 기대하는 보상\n",
    "-   $q(s,a) = \\mathbb{E}[R(s,a)] + R_{\\text{future}}$\n",
    "\n",
    "> 단, 여기에서 미래에 얻게되리라 기대하는 보상은 **최선의 선택을 한다는 전제**하에 계산"
   ]
  },
  {
   "cell_type": "markdown",
   "id": "a7a54d38-4019-4fd9-831c-21becc1f05b6",
   "metadata": {},
   "source": [
    "`-` 미래에 얻게되리라 기대하는 보상은 어떻게 정의할 수 있을까?\n",
    "\n",
    "![](https://github.com/guebin/DL2025/blob/main/posts/14wk-1-fig2.png?raw=true)\n",
    "\n",
    "`# 예제1` – 상태 (2,2) 에서 “action=down” 을 했을때\n",
    "\n",
    "-   즉시 얻게되는 보상과\n",
    "-   미래에 얻게되리라 기대하는 보상\n",
    "\n",
    "은 무엇인가? 이것을 바탕으로 $s=(2,1)$, $a=\\text{down}$ 의\n",
    "품질(Quality)는 어떻게 평가할 수 있는가?\n",
    "\n",
    "`(풀이?)`\n",
    "\n",
    "즉시 얻을 수 있다고 생각되는 보상은-1 이고 미래에 얻으리라 기대되는\n",
    "보상은 100 점이다. 따라서 99점으로 평가하는게 합리적인듯하다. 수식으로\n",
    "쓰면\n",
    "\n",
    "$$Q(s,a)=Q(s_1,s_2,a)=Q(2,2, \\text{down}) = -1 + 100 = R(2,2,\\text{down}) + \\max_{a'}Q(3,2,a')$$\n",
    "\n",
    "와 같이 쓸 수 있겠다.\n",
    "\n",
    "> $Q(2, 2, \\text{right})$도 동일\n",
    "\n",
    "`#`"
   ]
  },
  {
   "cell_type": "markdown",
   "id": "8a9bd0c9-3196-434a-9c58-6876631d21c9",
   "metadata": {},
   "source": [
    "`# 예제2` – 상태 (1,2) 에서 “action=down” 을 했을때\n",
    "\n",
    "-   즉시 얻게되는 보상과\n",
    "-   미래에 얻게되리라 기대하는 보상\n",
    "\n",
    "은 무엇인가? 이것을 바탕으로 $s=(1,2)$, $a=\\text{down}$ 의\n",
    "품질(Quality)는 어떻게 평가할 수 있는가?\n",
    "\n",
    "`(풀이?)`\n",
    "\n",
    "즉시 얻을 수 있다고 생각되는 보상은-1 이고 미래에 얻으리라 기대되는\n",
    "보상은 99점이다. 따라서 98점으로 평가하는게 합리적인듯하다. 수식으로\n",
    "쓰면\n",
    "\n",
    "$$Q(s,a)=Q(s_1,s_2,a)=Q(1,2, \\text{down}) = -1 + 99 = R(2,2,\\text{down}) + \\max_{a'}Q(2,2,a')$$\n",
    "\n",
    "와 같이 쓸 수 있겠다.\n",
    "\n",
    "`#`"
   ]
  },
  {
   "cell_type": "markdown",
   "id": "6273dd93-47d4-4734-8df2-42f500ae5573",
   "metadata": {},
   "source": [
    "`# 예제3` – 상태 (0,1) 에서 “action=right” 을 했을때\n",
    "\n",
    "-   즉시 얻게되는 보상과\n",
    "-   미래에 얻게되리라 기대하는 보상\n",
    "\n",
    "은 무엇인가? 이것을 바탕으로 $s=(0,1)$, $a=\\text{right}$ 의\n",
    "품질(Quality)는 어떻게 평가할 수 있는가?\n",
    "\n",
    "`(풀이?)`\n",
    "\n",
    "앞의 예제들을 일반화하면 아래와 같은 수식을 쓸 수 있다.\n",
    "\n",
    "$$Q(0,1, \\text{right}) = R(0,1,\\text{right}) + \\max_{a'}Q(0,2,a')$$\n",
    "\n",
    "따라서 만약에 $\\max_{a}Q(0,2,a)$의 값을 알고 있다면 이를 구할 수 있다.\n",
    "\n",
    "`#`\n",
    "\n",
    "`-` (아직 부족한) 깨달음: 모든 $(s,a)$에 대하여 $Q(s,a)$의 값은 아래와\n",
    "같이 정의할 수 있겠다.\n",
    "\n",
    "$$Q(s,a) = R(s,a) + \\max_{a'}Q(s',a')$$"
   ]
  },
  {
   "cell_type": "markdown",
   "id": "98ebf45f-34a5-43ed-b0db-5f80edd63fcb",
   "metadata": {},
   "source": [
    "### **B. 감가율**\n",
    "\n",
    "`# 예제1` – 당신은 지금 아무것도 쓰여 있지 않은 빈 종이 한 장을 가지고\n",
    "있습니다. 이 종이에 쓸 수 있는 숫자는 오직 두 가지, 0 또는 1입니다. 어떤\n",
    "숫자를 쓰느냐에 따라 보상이 달라지는데, 수많은 실험을 통해 0을 쓰면 아무\n",
    "보상도 없고, 1을 쓰면 10만 원을 받을 수 있다는 사실이 확인되었습니다. 이\n",
    "사실이 확인된 이후 이 빈 종이의 가치는 얼마일까요?\n",
    "\n",
    "`(1)` 0원이다.\n",
    "\n",
    "`(2)` 10만원이다.\n",
    "\n",
    "`(3)` 5만원이다.\n",
    "\n",
    "`(4)` 모르겠다.\n",
    "\n",
    "`#`\n",
    "\n",
    "`# 예제2` – 당신 앞에는 빨간색 종이 한 장이 있습니다. 이 종이에는 0 또는\n",
    "1 중 하나의 숫자를 쓸 수 있습니다. 만약 1을 쓰면 다음 단계인 주황색 종이\n",
    "한 장을 받게 됩니다. 주황색 종이에도 똑같이 0 또는 1을 쓸 수 있고,\n",
    "여기에 1을 쓰면 노란색 종이, 그다음은 초록색 종이, 그 다음은 파란색\n",
    "종이, 그 다음은 남색 종이, 마지막으로는 보라색 종이를 순서대로 받습니다.\n",
    "총 7단계(빨강 → 주황 → 노랑 → 초록 → 파랑 → 남색 → 보라색)를 거친 후,\n",
    "보라색 종이에 1을 쓰면 비로소 10만 원의 현금 보상을 받을 수 있습니다.\n",
    "단, 어느 단계에서든 0을 쓰면 아무 일도 일어나지 않고 그 즉시 게임이\n",
    "종료됩니다. 즉, 그 이후로는 종이도 받을 수 없고 보상도 없습니다. 이\n",
    "사실이 알려진 이후, 지금 당신이 들고 있는 ’빨간색 종이’의 가치는\n",
    "얼마일까요?\n",
    "\n",
    "`(1)` 0원이다.\n",
    "\n",
    "`(2)` 10만 원이다.\n",
    "\n",
    "`(3)` $\\frac{1}{2^6}$ x 10만원이다.\n",
    "\n",
    "`(4)` 모르겠다.\n",
    "\n",
    "`#`\n",
    "\n",
    "`-` 직관: 아무리 보장된 보상이라고 해도, 미래에 주어지는 보상은 현재의\n",
    "보상과 동급취급할 수 없다.\n",
    "\n",
    "`-` 진짜 깨달음: 모든 $(s,a)$에 대하여 $Q(s,a)$의 값은 아래와 같이\n",
    "정의하는게 합리적이다.\n",
    "\n",
    "$$Q(s,a) = R(s,a) + \\gamma \\max_{a'}Q(s',a')$$\n",
    "\n",
    "여기에서 $\\gamma$는 0과 1사이의 값이며 감가율(**discount factor**)이라\n",
    "부른다."
   ]
  },
  {
   "cell_type": "markdown",
   "id": "7771551c-4a56-48d6-a0a3-6b9eeb8cbc33",
   "metadata": {},
   "source": [
    "### **C. `q_table` update**\n",
    "\n",
    "`-` 지난시간코드"
   ]
  },
  {
   "cell_type": "code",
   "execution_count": 2,
   "id": "ef3e32d5-cca4-4865-8a0a-b0fe103d01d8",
   "metadata": {},
   "outputs": [],
   "source": [
    "class GridWorld:\n",
    "    def __init__(self):\n",
    "        \"\"\"\n",
    "        a2d : action to direction\n",
    "        \"\"\"\n",
    "        self.a2d = {\n",
    "            0: np.array([0,1]), # →\n",
    "            1: np.array([0,-1]), # ←  \n",
    "            2: np.array([1,0]),  # ↓\n",
    "            3: np.array([-1,0])  # ↑\n",
    "        }\n",
    "        self.state_space = gym.spaces.MultiDiscrete([4,4])\n",
    "        self.state = np.array([0,0])\n",
    "        self.reward = None\n",
    "        self.terminated = False\n",
    "    def step(self,action):\n",
    "        self.state = self.state + self.a2d[action]\n",
    "        s1,s2 = self.state\n",
    "        if (s1==3) and (s2==3):\n",
    "            self.reward = 100 \n",
    "            self.terminated = True\n",
    "        elif self.state in self.state_space:\n",
    "            self.reward = -1 \n",
    "            self.terminated = False\n",
    "        else:\n",
    "            self.reward = -10\n",
    "            self.terminated = True\n",
    "        # print(\n",
    "        #     f\"action = {action}\\t\"\n",
    "        #     f\"state = {self.state - self.a2d[action]} -> {self.state}\\t\"\n",
    "        #     f\"reward = {self.reward}\\t\"\n",
    "        #     f\"termiated = {self.terminated}\"\n",
    "        # )            \n",
    "        return self.state, self.reward, self.terminated\n",
    "    def reset(self):\n",
    "        self.state = np.array([0,0])\n",
    "        self.terminated = False\n",
    "        return self.state\n",
    "class RandomAgent:\n",
    "    def __init__(self):\n",
    "        self.state = np.array([0,0]) \n",
    "        self.action = None \n",
    "        self.reward = None \n",
    "        self.next_state = None\n",
    "        self.terminated = None\n",
    "        #---#\n",
    "        self.states = collections.deque(maxlen=500000)\n",
    "        self.actions = collections.deque(maxlen=500000)\n",
    "        self.rewards = collections.deque(maxlen=500000)\n",
    "        self.next_states = collections.deque(maxlen=500000)\n",
    "        self.terminations = collections.deque(maxlen=500000)\n",
    "        #---#\n",
    "        self.action_space = gym.spaces.Discrete(4)\n",
    "        self.n_experience = 0\n",
    "    def act(self):\n",
    "        self.action = self.action_space.sample()\n",
    "    def save_experience(self):\n",
    "        self.states.append(self.state)\n",
    "        self.actions.append(self.action)\n",
    "        self.rewards.append(self.reward)\n",
    "        self.next_states.append(self.next_state)\n",
    "        self.terminations.append(self.terminated)\n",
    "        self.n_experience = self.n_experience + 1\n",
    "    def learn(self):\n",
    "        pass"
   ]
  },
  {
   "cell_type": "code",
   "execution_count": 3,
   "id": "6d5d39fc-922e-44f8-96e6-d331f2fe2382",
   "metadata": {},
   "outputs": [],
   "source": [
    "player = RandomAgent()\n",
    "env = GridWorld()\n",
    "scores = [] \n",
    "score = 0 \n",
    "#\n",
    "for e in range(1,100000):\n",
    "    #---에피소드시작---#\n",
    "    while True:\n",
    "        # step1 -- 액션선택\n",
    "        player.act()\n",
    "        # step2 -- 환경반응 \n",
    "        player.next_state, player.reward, player.terminated = env.step(player.action)\n",
    "        # step3 -- 경험기록 & 학습 \n",
    "        player.save_experience()\n",
    "        player.learn()\n",
    "        # step4 --종료 조건 체크 & 후속 처리\n",
    "        if env.terminated:\n",
    "            score = score + player.reward\n",
    "            scores.append(score)\n",
    "            score = 0 \n",
    "            player.state = env.reset() \n",
    "            break\n",
    "        else: \n",
    "            score = score + player.reward\n",
    "            scores.append(score)            \n",
    "            player.state = player.next_state"
   ]
  },
  {
   "cell_type": "markdown",
   "id": "095c775f-1fe0-4e94-9e21-87df57b959cd",
   "metadata": {},
   "source": [
    "`-` 상황 : player가 경험은 있는데, q_table을 만들줄 모름 (데이터는 있지만 학습이 안된 상태)"
   ]
  },
  {
   "cell_type": "code",
   "execution_count": 4,
   "id": "a2ff499c-fb42-4449-b940-772479304a91",
   "metadata": {},
   "outputs": [
    {
     "data": {
      "text/plain": [
       "329164"
      ]
     },
     "execution_count": 4,
     "metadata": {},
     "output_type": "execute_result"
    }
   ],
   "source": [
    "player.n_experience"
   ]
  },
  {
   "cell_type": "markdown",
   "id": "5554bf68-1e69-446c-afe8-508fcde55505",
   "metadata": {},
   "source": [
    "`-` 저번 시간에 배운 `q_table`"
   ]
  },
  {
   "cell_type": "code",
   "execution_count": 5,
   "id": "3c9b99bf-219a-43de-8af1-24954a03e159",
   "metadata": {},
   "outputs": [],
   "source": [
    "q_table = np.zeros((4,4,4))\n",
    "memory = zip(player.states, player.actions, player.rewards)\n",
    "for (s1,s2), a, r in memory:\n",
    "    qhat = q_table[s1,s2,a] # 내가 생각했던갓\n",
    "    q = r # 실제값\n",
    "    diff = q-qhat # 차이\n",
    "    q_table[s1,s2,a] = q_table[s1,s2,a]  + 0.01*diff# update"
   ]
  },
  {
   "cell_type": "code",
   "execution_count": 6,
   "id": "86c05487-de6e-485c-9973-38c6d29111bd",
   "metadata": {},
   "outputs": [
    {
     "name": "stdout",
     "output_type": "stream",
     "text": [
      "action = 0\n",
      "q[...,0] = [[ -1.     -1.     -1.    -10.   ]\n",
      " [ -1.     -1.     -1.    -10.   ]\n",
      " [ -1.     -1.     -1.     -9.999]\n",
      " [ -1.     -1.     99.99    0.   ]]\n",
      "---\n",
      "action = 1\n",
      "q[...,1] = [[-10.  -1.  -1.  -1.]\n",
      " [-10.  -1.  -1.  -1.]\n",
      " [-10.  -1.  -1.  -1.]\n",
      " [-10.  -1.  -1.   0.]]\n",
      "---\n",
      "action = 2\n",
      "q[...,2] = [[ -1.     -1.     -1.     -1.   ]\n",
      " [ -1.     -1.     -1.     -1.   ]\n",
      " [ -1.     -1.     -1.     99.987]\n",
      " [-10.    -10.    -10.      0.   ]]\n",
      "---\n",
      "action = 3\n",
      "q[...,3] = [[-10. -10. -10. -10.]\n",
      " [ -1.  -1.  -1.  -1.]\n",
      " [ -1.  -1.  -1.  -1.]\n",
      " [ -1.  -1.  -1.   0.]]\n",
      "---\n"
     ]
    }
   ],
   "source": [
    "for a in [0,1,2,3]: \n",
    "    print(f\"action = {a}\")\n",
    "    print(f\"q[...,{a}] = {q_table[...,a].round(3)}\")\n",
    "    print(\"---\")"
   ]
  },
  {
   "cell_type": "markdown",
   "id": "d2d9c4ea-ee78-4059-94a9-57a228c31bce",
   "metadata": {},
   "source": [
    "`-` 이번시간에 배운 `q_table` : 아래를 이용할거임\n",
    "\n",
    "$$Q(s, a) = R(s, a) + \\gamma \\underset{a'}{\\max} Q(s', a')$$\n",
    "\n",
    "> **Note**\n",
    ">\n",
    "> 사실 좀 더 실용적으로는(=코딩친화적으로는) 아래의 수식을 쓰는게 좋다.\n",
    ">\n",
    "> $$Q(s,a) = \\begin{cases}  R(s,a) & \\text{if terminated} \\\\ R(s,a) + \\gamma \\max_{a'}Q(s',a') & \\text{else} \\end{cases}$$"
   ]
  },
  {
   "cell_type": "code",
   "execution_count": 7,
   "id": "9b3563f9-bda9-42f6-9f8a-ceba65efc83a",
   "metadata": {},
   "outputs": [
    {
     "data": {
      "text/plain": [
       "array([[ 1,  0],\n",
       "       [ 0,  0],\n",
       "       [ 0, -1],\n",
       "       [ 1,  0],\n",
       "       [ 0,  0]])"
      ]
     },
     "execution_count": 7,
     "metadata": {},
     "output_type": "execute_result"
    }
   ],
   "source": [
    "np.array(player.next_states)[:5]"
   ]
  },
  {
   "cell_type": "code",
   "execution_count": 8,
   "id": "d61fac54-7074-47c6-9df8-1c44a6a3070c",
   "metadata": {},
   "outputs": [],
   "source": [
    "q_table = np.zeros((4,4,4))\n",
    "memory = zip(player.states, player.actions, player.rewards, player.next_states, player.terminations)\n",
    "\n",
    "for (s1,s2), a, r, (ss1, ss2), tmd in memory:\n",
    "    qhat = q_table[s1,s2,a] # 내가 생각했던값\n",
    "    \n",
    "    if tmd :\n",
    "        q = r # 실제값\n",
    "    else :\n",
    "        future = q_table[ss1, ss2, :].max()\n",
    "        q = r + 0.95*future\n",
    "        \n",
    "    diff = q-qhat # 차이\n",
    "    q_table[s1,s2,a] = q_table[s1,s2,a] + 0.01*diff# update"
   ]
  },
  {
   "cell_type": "code",
   "execution_count": 9,
   "id": "2893c7c9-8f10-46aa-809a-aaee855c7cb1",
   "metadata": {},
   "outputs": [
    {
     "name": "stdout",
     "output_type": "stream",
     "text": [
      "action = 0\n",
      "q[...,0] = [[ 72.832  77.714  82.753 -10.   ]\n",
      " [ 77.719  82.863  88.261 -10.   ]\n",
      " [ 82.86   88.281  93.98   -9.999]\n",
      " [ 88.239  93.978  99.99    0.   ]]\n",
      "---\n",
      "action = 1\n",
      "q[...,1] = [[-10.     68.188  72.827  77.665]\n",
      " [-10.     72.83   77.714  82.835]\n",
      " [-10.     77.71   82.855  88.185]\n",
      " [-10.     82.726  88.159   0.   ]]\n",
      "---\n",
      "action = 2\n",
      "q[...,2] = [[ 72.832  77.719  82.859  88.191]\n",
      " [ 77.715  82.864  88.281  93.968]\n",
      " [ 82.807  88.273  93.985  99.987]\n",
      " [-10.    -10.    -10.      0.   ]]\n",
      "---\n",
      "action = 3\n",
      "q[...,3] = [[-10.    -10.    -10.    -10.   ]\n",
      " [ 68.188  72.829  77.708  82.662]\n",
      " [ 72.826  77.714  82.855  88.094]\n",
      " [ 77.664  82.84   88.194   0.   ]]\n",
      "---\n"
     ]
    }
   ],
   "source": [
    "for a in [0,1,2,3]: \n",
    "    print(f\"action = {a}\")\n",
    "    print(f\"q[...,{a}] = {q_table[...,a].round(3)}\")\n",
    "    print(\"---\")"
   ]
  },
  {
   "cell_type": "code",
   "execution_count": 10,
   "id": "83c9b7b5-b607-4c98-af87-c8a8a91fb7ac",
   "metadata": {},
   "outputs": [],
   "source": [
    "player.q_table = q_table"
   ]
  },
  {
   "cell_type": "markdown",
   "id": "7d754151-8061-4e83-a1d6-41953aee799b",
   "metadata": {},
   "source": [
    "`-` 이제 플레이어의 행동은?"
   ]
  },
  {
   "cell_type": "code",
   "execution_count": 11,
   "id": "9e23c5ed-f0a2-44df-a166-8c033c133d5e",
   "metadata": {},
   "outputs": [],
   "source": [
    "def act(player, s1, s2) :\n",
    "    action = player.q_table[s1, s2, :].argmax()\n",
    "    return action"
   ]
  },
  {
   "cell_type": "code",
   "execution_count": 12,
   "id": "9c481637-9476-4dc5-a357-d8bb15722109",
   "metadata": {},
   "outputs": [
    {
     "data": {
      "text/plain": [
       "np.int64(2)"
      ]
     },
     "execution_count": 12,
     "metadata": {},
     "output_type": "execute_result"
    }
   ],
   "source": [
    "act(player, 0, 1)"
   ]
  },
  {
   "cell_type": "markdown",
   "id": "19dcc479-531d-40b6-a002-a6f29ca5fe8b",
   "metadata": {},
   "source": [
    "오른쪽, 왼쪽, 아래, 위 = [0, 1, 2, 3]"
   ]
  },
  {
   "cell_type": "markdown",
   "id": "97fc6d24-3c74-4e12-8051-27f5c1ef37dc",
   "metadata": {},
   "source": [
    "## 4. Solve\n",
    "\n",
    "hw"
   ]
  },
  {
   "cell_type": "code",
   "execution_count": 13,
   "id": "84b43461-00e6-482e-b78d-a461aa762874",
   "metadata": {},
   "outputs": [],
   "source": [
    "states = collections.deque()\n",
    "actions = collections.deque()\n",
    "\n",
    "s1, s2 = (0, 0)\n",
    "states.append(np.array([s1, s2]))"
   ]
  },
  {
   "cell_type": "code",
   "execution_count": null,
   "id": "5c066cc1-c2cb-47c2-860e-fe44a92a904a",
   "metadata": {},
   "outputs": [],
   "source": [
    "while True"
   ]
  },
  {
   "cell_type": "code",
   "execution_count": 20,
   "id": "af931b72-bb68-4aa2-bd74-9b3d81e713c0",
   "metadata": {},
   "outputs": [
    {
     "data": {
      "text/plain": [
       "np.int64(2)"
      ]
     },
     "execution_count": 20,
     "metadata": {},
     "output_type": "execute_result"
    }
   ],
   "source": []
  },
  {
   "cell_type": "code",
   "execution_count": 22,
   "id": "4c6cd6e0-87f6-4f4e-926b-191a1a6f8111",
   "metadata": {},
   "outputs": [
    {
     "data": {
      "text/plain": [
       "\u001b[0;31mSignature:\u001b[0m \u001b[0mact\u001b[0m\u001b[0;34m(\u001b[0m\u001b[0mplayer\u001b[0m\u001b[0;34m,\u001b[0m \u001b[0ms1\u001b[0m\u001b[0;34m,\u001b[0m \u001b[0ms2\u001b[0m\u001b[0;34m)\u001b[0m\u001b[0;34m\u001b[0m\u001b[0;34m\u001b[0m\u001b[0m\n",
       "\u001b[0;31mDocstring:\u001b[0m <no docstring>\n",
       "\u001b[0;31mSource:\u001b[0m   \n",
       "\u001b[0;32mdef\u001b[0m \u001b[0mact\u001b[0m\u001b[0;34m(\u001b[0m\u001b[0mplayer\u001b[0m\u001b[0;34m,\u001b[0m \u001b[0ms1\u001b[0m\u001b[0;34m,\u001b[0m \u001b[0ms2\u001b[0m\u001b[0;34m)\u001b[0m \u001b[0;34m:\u001b[0m\u001b[0;34m\u001b[0m\n",
       "\u001b[0;34m\u001b[0m    \u001b[0maction\u001b[0m \u001b[0;34m=\u001b[0m \u001b[0mplayer\u001b[0m\u001b[0;34m.\u001b[0m\u001b[0mq_table\u001b[0m\u001b[0;34m[\u001b[0m\u001b[0ms1\u001b[0m\u001b[0;34m,\u001b[0m \u001b[0ms2\u001b[0m\u001b[0;34m,\u001b[0m \u001b[0;34m:\u001b[0m\u001b[0;34m]\u001b[0m\u001b[0;34m.\u001b[0m\u001b[0margmax\u001b[0m\u001b[0;34m(\u001b[0m\u001b[0;34m)\u001b[0m\u001b[0;34m\u001b[0m\n",
       "\u001b[0;34m\u001b[0m    \u001b[0;32mreturn\u001b[0m \u001b[0maction\u001b[0m\u001b[0;34m\u001b[0m\u001b[0;34m\u001b[0m\u001b[0m\n",
       "\u001b[0;31mFile:\u001b[0m      /tmp/ipykernel_164600/4098347448.py\n",
       "\u001b[0;31mType:\u001b[0m      function"
      ]
     },
     "metadata": {},
     "output_type": "display_data"
    }
   ],
   "source": [
    "??act"
   ]
  },
  {
   "cell_type": "code",
   "execution_count": 26,
   "id": "a65fa0ac-13f7-415c-9fcc-fc6b4a39e109",
   "metadata": {},
   "outputs": [
    {
     "data": {
      "text/plain": [
       "deque([array([0, 0])])"
      ]
     },
     "execution_count": 26,
     "metadata": {},
     "output_type": "execute_result"
    }
   ],
   "source": [
    "states"
   ]
  },
  {
   "cell_type": "code",
   "execution_count": 30,
   "id": "f18b430d-7fc3-4eb4-a1c3-d77f48e8f207",
   "metadata": {},
   "outputs": [
    {
     "data": {
      "text/plain": [
       "\u001b[0;31mSignature:\u001b[0m \u001b[0mplayer\u001b[0m\u001b[0;34m.\u001b[0m\u001b[0msave_experience\u001b[0m\u001b[0;34m(\u001b[0m\u001b[0;34m)\u001b[0m\u001b[0;34m\u001b[0m\u001b[0;34m\u001b[0m\u001b[0m\n",
       "\u001b[0;31mDocstring:\u001b[0m <no docstring>\n",
       "\u001b[0;31mSource:\u001b[0m   \n",
       "    \u001b[0;32mdef\u001b[0m \u001b[0msave_experience\u001b[0m\u001b[0;34m(\u001b[0m\u001b[0mself\u001b[0m\u001b[0;34m)\u001b[0m\u001b[0;34m:\u001b[0m\u001b[0;34m\u001b[0m\n",
       "\u001b[0;34m\u001b[0m        \u001b[0mself\u001b[0m\u001b[0;34m.\u001b[0m\u001b[0mstates\u001b[0m\u001b[0;34m.\u001b[0m\u001b[0mappend\u001b[0m\u001b[0;34m(\u001b[0m\u001b[0mself\u001b[0m\u001b[0;34m.\u001b[0m\u001b[0mstate\u001b[0m\u001b[0;34m)\u001b[0m\u001b[0;34m\u001b[0m\n",
       "\u001b[0;34m\u001b[0m        \u001b[0mself\u001b[0m\u001b[0;34m.\u001b[0m\u001b[0mactions\u001b[0m\u001b[0;34m.\u001b[0m\u001b[0mappend\u001b[0m\u001b[0;34m(\u001b[0m\u001b[0mself\u001b[0m\u001b[0;34m.\u001b[0m\u001b[0maction\u001b[0m\u001b[0;34m)\u001b[0m\u001b[0;34m\u001b[0m\n",
       "\u001b[0;34m\u001b[0m        \u001b[0mself\u001b[0m\u001b[0;34m.\u001b[0m\u001b[0mrewards\u001b[0m\u001b[0;34m.\u001b[0m\u001b[0mappend\u001b[0m\u001b[0;34m(\u001b[0m\u001b[0mself\u001b[0m\u001b[0;34m.\u001b[0m\u001b[0mreward\u001b[0m\u001b[0;34m)\u001b[0m\u001b[0;34m\u001b[0m\n",
       "\u001b[0;34m\u001b[0m        \u001b[0mself\u001b[0m\u001b[0;34m.\u001b[0m\u001b[0mnext_states\u001b[0m\u001b[0;34m.\u001b[0m\u001b[0mappend\u001b[0m\u001b[0;34m(\u001b[0m\u001b[0mself\u001b[0m\u001b[0;34m.\u001b[0m\u001b[0mnext_state\u001b[0m\u001b[0;34m)\u001b[0m\u001b[0;34m\u001b[0m\n",
       "\u001b[0;34m\u001b[0m        \u001b[0mself\u001b[0m\u001b[0;34m.\u001b[0m\u001b[0mterminations\u001b[0m\u001b[0;34m.\u001b[0m\u001b[0mappend\u001b[0m\u001b[0;34m(\u001b[0m\u001b[0mself\u001b[0m\u001b[0;34m.\u001b[0m\u001b[0mterminated\u001b[0m\u001b[0;34m)\u001b[0m\u001b[0;34m\u001b[0m\n",
       "\u001b[0;34m\u001b[0m        \u001b[0mself\u001b[0m\u001b[0;34m.\u001b[0m\u001b[0mn_experience\u001b[0m \u001b[0;34m=\u001b[0m \u001b[0mself\u001b[0m\u001b[0;34m.\u001b[0m\u001b[0mn_experience\u001b[0m \u001b[0;34m+\u001b[0m \u001b[0;36m1\u001b[0m\u001b[0;34m\u001b[0m\u001b[0;34m\u001b[0m\u001b[0m\n",
       "\u001b[0;31mFile:\u001b[0m      /tmp/ipykernel_164600/3431073047.py\n",
       "\u001b[0;31mType:\u001b[0m      method"
      ]
     },
     "metadata": {},
     "output_type": "display_data"
    }
   ],
   "source": [
    "??player.save_experience"
   ]
  },
  {
   "cell_type": "code",
   "execution_count": 33,
   "id": "46ab5f8a-595c-41d6-995a-3dbf7e9d5656",
   "metadata": {},
   "outputs": [],
   "source": [
    "s1, s2 = (0, 0)\n",
    "player.state = np.array([s1, s2])\n",
    "\n",
    "while True :   \n",
    "    s1, s2 = player.state\n",
    "    # step1 -- 액션선택\n",
    "    player.action = act(player, s1, s2)\n",
    "    # step2 -- 환경반응\n",
    "    player.next_state, player.reward, player.terminated = env.step(player.action)\n",
    "    # step3 -- 경험기록 & 학습 \n",
    "    player.save_experience()\n",
    "    player.learn()\n",
    "    # step4 --종료 조건 체크 & 후속 처리\n",
    "    if env.terminated:\n",
    "        score = score + player.reward\n",
    "        scores.append(score)\n",
    "        score = 0\n",
    "        player.state = env.reset()\n",
    "        break\n",
    "    else: \n",
    "        score = score + player.reward\n",
    "        scores.append(score)            \n",
    "        player.state = player.next_state"
   ]
  },
  {
   "cell_type": "code",
   "execution_count": 37,
   "id": "3bfeb5ed-fe8b-4c7e-98ec-2d5e3dbec532",
   "metadata": {},
   "outputs": [
    {
     "data": {
      "text/plain": [
       "array([[0, 0],\n",
       "       [1, 0],\n",
       "       [1, 1],\n",
       "       [2, 1],\n",
       "       [2, 2],\n",
       "       [3, 2]])"
      ]
     },
     "execution_count": 37,
     "metadata": {},
     "output_type": "execute_result"
    }
   ],
   "source": [
    "np.array(player.states)[-6:]"
   ]
  },
  {
   "cell_type": "markdown",
   "id": "93bef3ef-9b84-486f-af26-3576bd49c764",
   "metadata": {},
   "source": [
    "## Appendix B - 신경망관련용어\n",
    "\n",
    "`-` 은근히 용어가 헷갈리는데, 뜻을 좀 살펴보자.\n",
    "\n",
    "-   ANN: 인공신경망\n",
    "-   MLP: 다층퍼셉트론 (레이어가 여러개 있어요)\n",
    "-   DNN: 깊은신경망, 심층신경망 - 얼마나 깊어야...? 대충 세 개 이상 정도...\n",
    "-   CNN: 합성곱신경망 - 컨볼루션 커널 쓰면 되니까 명확함\n",
    "-   RNN: 순환신경망 - 순환 구조가 있어야 함\n",
    "\n",
    "`# 예시1` – MLP, DNN\n",
    "\n",
    "``` python\n",
    "net = torch.nn.Sequential(\n",
    "    torch.nn.Linear(in_features=1,out_features=2),\n",
    "    torch.nn.ReLU(),\n",
    "    torch.nn.Linear(in_features=2,out_features=2),\n",
    "    torch.nn.ReLU(),\n",
    "    torch.nn.Linear(in_features=2,out_features=1),    \n",
    "    torch.nn.Sigmoid()\n",
    ")\n",
    "```\n",
    "\n",
    "-   ANN: O\n",
    "-   MLP: O\n",
    "-   DNN: O\n",
    "-   CNN: X (합성곱레이어가 없으므로)\n",
    "-   RNN: X (순환구조가 없으므로)\n",
    "\n",
    "`#`\n",
    "\n",
    "`# 예시2` – MLP, Shallow Network\n",
    "\n",
    "``` python\n",
    "net = torch.nn.Sequential(\n",
    "    torch.nn.Linear(in_features=1,out_features=2),\n",
    "    torch.nn.ReLU(),\n",
    "    torch.nn.Linear(in_features=2,out_features=1),\n",
    "    torch.nn.Sigmoid()\n",
    ")\n",
    "```\n",
    "\n",
    "-   ANN: O\n",
    "-   MLP: O\n",
    "-   DNN: X (깊은 신경망으로 생각하려면 더 많은 레이어가 필요함. 합의된\n",
    "    기준은 히든레이어 2장이상, 이걸 설명하기 위해서 얕은 신경망이란\n",
    "    용어도 씀)\n",
    "-   CNN: X (합성곱레이어가 없으므로)\n",
    "-   RNN: X (순환구조가 없으므로)\n",
    "\n",
    "`#`\n",
    "\n",
    "`# 예시3` – MLP, DNN, Wide NN\n",
    "\n",
    "``` python\n",
    "net = torch.nn.Sequential(\n",
    "    torch.nn.Linear(in_features=1,out_features=1048576),\n",
    "    torch.nn.ReLU(),\n",
    "    torch.nn.Linear(in_features=1048576,out_features=1048576),\n",
    "    torch.nn.ReLU(),\n",
    "    torch.nn.Linear(in_features=1048576,out_features=1),\n",
    "    torch.nn.Sigmoid(),    \n",
    ")\n",
    "```\n",
    "\n",
    "-   ANN: O\n",
    "-   MLP: O\n",
    "-   DNN: O (깊긴한데 이정도면 모양이 깊다기 보다는 넓은 신경망임, 그래서\n",
    "    어떤 연구에서는 이걸 넓은 신경망이라 부르기도 함)\n",
    "-   CNN: X (합성곱레이어가 없으므로)\n",
    "-   RNN: X (순환구조가 없으므로)\n",
    "\n",
    "`# 예시4` – CNN\n",
    "\n",
    "``` python\n",
    "net = torch.nn.Sequential(\n",
    "    # Layer1\n",
    "    torch.nn.Conv2d(1, 64, kernel_size=4, stride=2, padding=1, bias=False),\n",
    "    torch.nn.LeakyReLU(0.2),\n",
    "    # Layer2\n",
    "    torch.nn.Conv2d(64, 128, kernel_size=4, stride=2, padding=1, bias=False),\n",
    "    torch.nn.BatchNorm2d(128),\n",
    "    torch.nn.LeakyReLU(0.2),\n",
    "    # Layer3\n",
    "    torch.nn.Conv2d(128, 256, kernel_size=4, stride=2, padding=1, bias=False),\n",
    "    torch.nn.BatchNorm2d(256),\n",
    "    torch.nn.LeakyReLU(0.2),\n",
    "    # Layer4\n",
    "    torch.nn.Conv2d(256, 512, kernel_size=4, stride=2, padding=1, bias=False),\n",
    "    torch.nn.BatchNorm2d(512),\n",
    "    torch.nn.LeakyReLU(0.2),\n",
    "    # Layer5\n",
    "    torch.nn.Conv2d(512, 1, kernel_size=4, stride=1, padding=0, bias=False),\n",
    "    torch.nn.Sigmoid(),\n",
    "    torch.nn.Flatten()\n",
    ")\n",
    "```\n",
    "\n",
    "-   ANN: O\n",
    "-   MLP: X (합성곱연결이 포함되어있으므로, MLP가 아님, 완전연결만\n",
    "    포함해야 MLP임)  \n",
    "-   DNN: O (그냥 레이어가 3층 이상이면 무지성으로 DNN임)\n",
    "-   CNN: O (합성곱레이어를 포함하고 있으므로)\n",
    "-   RNN: X (순환구조가 없으므로)\n",
    "\n",
    "`#`\n",
    "\n",
    "`# 예시5` – CNN\n",
    "\n",
    "``` python\n",
    "net = torch.nn.Sequential(\n",
    "    torch.nn.Conv2d(1,16,(5,5)),\n",
    "    torch.nn.ReLU(),\n",
    "    torch.nn.MaxPool2d((2,2)),\n",
    "    torch.nn.Flatten(),\n",
    "    torch.nn.Linear(2304,1),\n",
    "    torch.nn.Sigmoid()\n",
    ")\n",
    "```\n",
    "\n",
    "-   ANN: O\n",
    "-   MLP: X\n",
    "-   DNN: X? (히든레이어가 1장이므로..)\n",
    "-   CNN: O (합성곱레이어를 포함하고 있으므로)\n",
    "-   RNN: X (순환구조가 없으므로)\n",
    "\n",
    "> 근데 대부분의 문서에서는 CNN, RNN은 DNN의 한 종류로 설명하고\n",
    "> 있어서요.. 이런 네트워크에서는 개념충돌이 옵니다.\n",
    "\n",
    "`#`\n",
    "\n",
    "`# 예시6` – RNN\n",
    "\n",
    "``` python\n",
    "class Net(torch.nn.Module):\n",
    "    def __init__(self):\n",
    "        super().__init__()\n",
    "        self.rnn = torch.nn.RNN(4,2)\n",
    "        self.linr = torch.nn.Linear(2,2) \n",
    "    def forward(self,X):\n",
    "        h,_ = self.rnn(X) \n",
    "        netout = self.linr(h)\n",
    "        return netout \n",
    "net = Net()     \n",
    "```\n",
    "\n",
    "-   ANN: O\n",
    "-   MLP: X\n",
    "-   DNN: X? (히든레이어가 1장이므로..)\n",
    "-   CNN: X (합성곱레이어가 없으므로)\n",
    "-   RNN: O\n",
    "\n",
    "> 이것도 비슷한 개념충돌\n",
    "\n",
    "`#`\n",
    "\n",
    "> **Note**\n",
    ">\n",
    "> 학부연구생 모집(2-3명): 관심 있으면 연락 주세요.\n",
    ">\n",
    "> -   대상: 통계학에 관심있는 3-4학년\n",
    "> -   연구 내용: 다음을 포함한 통계학 관련 주제\n",
    ">     -   다중척도 방법을 활용한 비유클리드 자료분석 (지오메트릭 딥러닝,\n",
    ">         토폴로지컬 딥러닝)\n",
    ">     -   혹은 학생이 원하는 연구주제\n",
    "> -   문의 및 지원: gbchoi0814@gmail.com\n",
    "> -   모집 기한: 6/25 까지"
   ]
  },
  {
   "cell_type": "code",
   "execution_count": null,
   "id": "294adbf3-2a29-402d-a8b2-b2302d88ddb9",
   "metadata": {},
   "outputs": [],
   "source": []
  }
 ],
 "metadata": {
  "kernelspec": {
   "display_name": "Python 3 (ipykernel)",
   "language": "python",
   "name": "python3"
  },
  "language_info": {
   "codemirror_mode": {
    "name": "ipython",
    "version": 3
   },
   "file_extension": ".py",
   "mimetype": "text/x-python",
   "name": "python",
   "nbconvert_exporter": "python",
   "pygments_lexer": "ipython3",
   "version": "3.9.18"
  }
 },
 "nbformat": 4,
 "nbformat_minor": 5
}
